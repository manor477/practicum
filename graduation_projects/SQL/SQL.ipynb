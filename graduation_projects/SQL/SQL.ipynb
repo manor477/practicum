{
 "cells": [
  {
   "cell_type": "markdown",
   "id": "a0d1b858",
   "metadata": {
    "toc": true
   },
   "source": [
    "<h1>Table of Contents<span class=\"tocSkip\"></span></h1>\n",
    "<div class=\"toc\"><ul class=\"toc-item\"><li><span><a href=\"#Подключимся-к-базе-данных-и-проимпортируем-библиотеки:\" data-toc-modified-id=\"Подключимся-к-базе-данных-и-проимпортируем-библиотеки:-1\"><span class=\"toc-item-num\">1&nbsp;&nbsp;</span>Подключимся к базе данных и проимпортируем библиотеки:</a></span></li><li><span><a href=\"#Изучим-общую-информацию-о-данных\" data-toc-modified-id=\"Изучим-общую-информацию-о-данных-2\"><span class=\"toc-item-num\">2&nbsp;&nbsp;</span>Изучим общую информацию о данных</a></span><ul class=\"toc-item\"><li><span><a href=\"#Таблица-books\" data-toc-modified-id=\"Таблица-books-2.1\"><span class=\"toc-item-num\">2.1&nbsp;&nbsp;</span>Таблица <code>books</code></a></span></li><li><span><a href=\"#Таблица-authors\" data-toc-modified-id=\"Таблица-authors-2.2\"><span class=\"toc-item-num\">2.2&nbsp;&nbsp;</span>Таблица <code>authors</code></a></span></li><li><span><a href=\"#Таблица-publishers\" data-toc-modified-id=\"Таблица-publishers-2.3\"><span class=\"toc-item-num\">2.3&nbsp;&nbsp;</span>Таблица <code>publishers</code></a></span></li><li><span><a href=\"#Таблица-ratings\" data-toc-modified-id=\"Таблица-ratings-2.4\"><span class=\"toc-item-num\">2.4&nbsp;&nbsp;</span>Таблица <code>ratings</code></a></span></li><li><span><a href=\"#Таблица-reviews\" data-toc-modified-id=\"Таблица-reviews-2.5\"><span class=\"toc-item-num\">2.5&nbsp;&nbsp;</span>Таблица <code>reviews</code></a></span></li><li><span><a href=\"#Подитог:\" data-toc-modified-id=\"Подитог:-2.6\"><span class=\"toc-item-num\">2.6&nbsp;&nbsp;</span>Подитог:</a></span></li></ul></li><li><span><a href=\"#Выполнение-задач\" data-toc-modified-id=\"Выполнение-задач-3\"><span class=\"toc-item-num\">3&nbsp;&nbsp;</span>Выполнение задач</a></span><ul class=\"toc-item\"><li><span><a href=\"#Посчитать,-сколько-книг-вышло-после-1-января-2000-года\" data-toc-modified-id=\"Посчитать,-сколько-книг-вышло-после-1-января-2000-года-3.1\"><span class=\"toc-item-num\">3.1&nbsp;&nbsp;</span>Посчитать, сколько книг вышло после 1 января 2000 года</a></span></li><li><span><a href=\"#Для-каждой-книги-посчитать-количество-обзоров-и-среднюю-оценку\" data-toc-modified-id=\"Для-каждой-книги-посчитать-количество-обзоров-и-среднюю-оценку-3.2\"><span class=\"toc-item-num\">3.2&nbsp;&nbsp;</span>Для каждой книги посчитать количество обзоров и среднюю оценку</a></span></li><li><span><a href=\"#Определить-издательство,-которое-выпустило-наибольшее-число-книг-толще-50-страниц-—-так-мы-исключим-из-анализа-брошюры\" data-toc-modified-id=\"Определить-издательство,-которое-выпустило-наибольшее-число-книг-толще-50-страниц-—-так-мы-исключим-из-анализа-брошюры-3.3\"><span class=\"toc-item-num\">3.3&nbsp;&nbsp;</span>Определить издательство, которое выпустило наибольшее число книг толще 50 страниц — так мы исключим из анализа брошюры</a></span></li><li><span><a href=\"#Определить-автора-с-самой-высокой-средней-оценкой-книг-—-учитывать-только-книги-с-50-и-более-оценками\" data-toc-modified-id=\"Определить-автора-с-самой-высокой-средней-оценкой-книг-—-учитывать-только-книги-с-50-и-более-оценками-3.4\"><span class=\"toc-item-num\">3.4&nbsp;&nbsp;</span>Определить автора с самой высокой средней оценкой книг — учитывать только книги с 50 и более оценками</a></span></li><li><span><a href=\"#Посчитать-среднее-количество-обзоров-от-пользователей,-которые-поставили-больше-50-оценок\" data-toc-modified-id=\"Посчитать-среднее-количество-обзоров-от-пользователей,-которые-поставили-больше-50-оценок-3.5\"><span class=\"toc-item-num\">3.5&nbsp;&nbsp;</span>Посчитать среднее количество обзоров от пользователей, которые поставили больше 50 оценок</a></span></li></ul></li><li><span><a href=\"#Вывод\" data-toc-modified-id=\"Вывод-4\"><span class=\"toc-item-num\">4&nbsp;&nbsp;</span>Вывод</a></span></li></ul></div>"
   ]
  },
  {
   "cell_type": "markdown",
   "id": "1a704947",
   "metadata": {},
   "source": [
    "# SQL - анализ база данных сервиса для чтения книг по подписке"
   ]
  },
  {
   "cell_type": "markdown",
   "id": "9a6d54e3",
   "metadata": {},
   "source": [
    "# Описание проекта:\n",
    "Ваша компания решила быть на волне и купила крупный сервис для чтения книг по подписке. Ваша первая задача как аналитика — проанализировать базу данных.В ней — информация о книгах, издательствах, авторах, а также пользовательские обзоры книг. Эти данные помогут сформулировать ценностное предложение для нового продукта."
   ]
  },
  {
   "cell_type": "markdown",
   "id": "226e0307",
   "metadata": {},
   "source": [
    "# Цели исследования:\n",
    "Проанализировать информацию о книгах, авторах, рейтингах и данные о пользователских обзорах книг."
   ]
  },
  {
   "cell_type": "markdown",
   "id": "fcc4ee5c",
   "metadata": {},
   "source": [
    "# Описание данных\n",
    "У нас будут данные из следующих источников:\n",
    "\n",
    "**Таблица `books`**\n",
    "\n",
    "Содержит данные о книгах:\n",
    "\n",
    "- `book_id` — идентификатор книги;\n",
    "- `author_id` — идентификатор автора;\n",
    "- `title` — название книги;\n",
    "- `num_pages` — количество страниц;\n",
    "- `publication_date` — дата публикации книги;\n",
    "- `publisher_id` — идентификатор издателя.\n",
    "\n",
    "**Таблица `authors`**\n",
    "\n",
    "Содержит данные об авторах:\n",
    "\n",
    "- `author_id` — идентификатор автора;\n",
    "- `author` — имя автора.\n",
    "\n",
    "**Таблица `publishers`**\n",
    "\n",
    "Содержит данные об издательствах:\n",
    "\n",
    "- `publisher_id` — идентификатор издательства;\n",
    "- `publisher` — название издательства;\n",
    "\n",
    "**Таблица `ratings`**\n",
    "\n",
    "Содержит данные о пользовательских оценках книг:\n",
    "\n",
    "- `rating_id` — идентификатор оценки;\n",
    "- `book_id` — идентификатор книги;\n",
    "- `username` — имя пользователя, оставившего оценку;\n",
    "- `rating` — оценка книги.\n",
    "\n",
    "**Таблица `reviews`**\n",
    "\n",
    "Содержит данные о пользовательских обзорах на книги:\n",
    "\n",
    "- `review_id` — идентификатор обзора;\n",
    "- `book_id` — идентификатор книги;\n",
    "- `username` — имя пользователя, написавшего обзор;\n",
    "- `text` — текст обзора."
   ]
  },
  {
   "cell_type": "markdown",
   "id": "a206a8ac",
   "metadata": {},
   "source": [
    "# ER-диаграмма\n"
   ]
  },
  {
   "cell_type": "markdown",
   "id": "a2c5e340",
   "metadata": {},
   "source": [
    "# Наши задачи:\n",
    "- Посчитать, сколько книг вышло после 1 января 2000 года;\n",
    "- Для каждой книги посчитать количество обзоров и среднюю оценку;\n",
    "- Определить издательство, которое выпустило наибольшее число книг толще 50 страниц — так мы исключим из анализа брошюры;\n",
    "- Определить автора с самой высокой средней оценкой книг — учитывать только книги с 50 и более оценками;\n",
    "- Посчитать среднее количество обзоров от пользователей, которые поставили больше 50 оценок."
   ]
  },
  {
   "cell_type": "markdown",
   "id": "2f3d7624",
   "metadata": {},
   "source": [
    "## Подключимся к базе данных и проимпортируем библиотеки:\n"
   ]
  },
  {
   "cell_type": "code",
   "execution_count": 23,
   "id": "680da42d",
   "metadata": {},
   "outputs": [],
   "source": [
    "import pandas as pd \n",
    "from sqlalchemy import create_engine"
   ]
  },
  {
   "cell_type": "code",
   "execution_count": 24,
   "id": "ed6d2b16",
   "metadata": {},
   "outputs": [],
   "source": [
    "# устанавливаем параметры \n",
    "db_config = {'user': 'praktikum_student', # имя пользователя  \n",
    "             'pwd': 'Sdf4$2;d-d30pp', # пароль  \n",
    "             'host': 'rc1b-wcoijxj3yxfsf3fs.mdb.yandexcloud.net',  \n",
    "             'port': 6432, # порт подключения  \n",
    "             'db': 'data-analyst-final-project-db'} # название базы данных \n",
    "connection_string = 'postgresql://{}:{}@{}:{}/{}'.format(db_config['user'],  \n",
    "                                                         db_config['pwd'],  \n",
    "                                                         db_config['host'],  \n",
    "                                                         db_config['port'],  \n",
    "                                                         db_config['db'])\n",
    "# сохраняем коннектор \n",
    "engine = create_engine(connection_string, connect_args={'sslmode':'require'})"
   ]
  },
  {
   "cell_type": "markdown",
   "id": "2bbee72b",
   "metadata": {},
   "source": [
    "## Изучим общую информацию о данных"
   ]
  },
  {
   "cell_type": "code",
   "execution_count": 25,
   "id": "5c11deb3",
   "metadata": {},
   "outputs": [],
   "source": [
    "# напишем функцию для ознакомления с датафреймами\n",
    "def read_df(df):\n",
    "    df.info()\n",
    "    #display(df.info())\n",
    "    print(\"\")\n",
    "    print(\"Количество дублей:\", df.duplicated().sum())\n",
    "    print(\"\")\n",
    "    print(\"Количество пропусков: \")\n",
    "    display(df.isna().sum())\n",
    "    display(df.head(3))\n",
    "    display(df.tail(3))\n"
   ]
  },
  {
   "cell_type": "markdown",
   "id": "e2d101bd",
   "metadata": {},
   "source": [
    "### Таблица `books`"
   ]
  },
  {
   "cell_type": "code",
   "execution_count": 26,
   "id": "04712b6e",
   "metadata": {},
   "outputs": [],
   "source": [
    "books = ''' SELECT * FROM books; '''\n",
    "books = pd.io.sql.read_sql(books, con = engine)"
   ]
  },
  {
   "cell_type": "code",
   "execution_count": 27,
   "id": "81b06441",
   "metadata": {
    "scrolled": true
   },
   "outputs": [
    {
     "name": "stdout",
     "output_type": "stream",
     "text": [
      "<class 'pandas.core.frame.DataFrame'>\n",
      "RangeIndex: 1000 entries, 0 to 999\n",
      "Data columns (total 6 columns):\n",
      " #   Column            Non-Null Count  Dtype \n",
      "---  ------            --------------  ----- \n",
      " 0   book_id           1000 non-null   int64 \n",
      " 1   author_id         1000 non-null   int64 \n",
      " 2   title             1000 non-null   object\n",
      " 3   num_pages         1000 non-null   int64 \n",
      " 4   publication_date  1000 non-null   object\n",
      " 5   publisher_id      1000 non-null   int64 \n",
      "dtypes: int64(4), object(2)\n",
      "memory usage: 47.0+ KB\n",
      "\n",
      "Количество дублей: 0\n",
      "\n",
      "Количество пропусков: \n"
     ]
    },
    {
     "data": {
      "text/plain": [
       "book_id             0\n",
       "author_id           0\n",
       "title               0\n",
       "num_pages           0\n",
       "publication_date    0\n",
       "publisher_id        0\n",
       "dtype: int64"
      ]
     },
     "metadata": {},
     "output_type": "display_data"
    },
    {
     "data": {
      "text/html": [
       "<div>\n",
       "<style scoped>\n",
       "    .dataframe tbody tr th:only-of-type {\n",
       "        vertical-align: middle;\n",
       "    }\n",
       "\n",
       "    .dataframe tbody tr th {\n",
       "        vertical-align: top;\n",
       "    }\n",
       "\n",
       "    .dataframe thead th {\n",
       "        text-align: right;\n",
       "    }\n",
       "</style>\n",
       "<table border=\"1\" class=\"dataframe\">\n",
       "  <thead>\n",
       "    <tr style=\"text-align: right;\">\n",
       "      <th></th>\n",
       "      <th>book_id</th>\n",
       "      <th>author_id</th>\n",
       "      <th>title</th>\n",
       "      <th>num_pages</th>\n",
       "      <th>publication_date</th>\n",
       "      <th>publisher_id</th>\n",
       "    </tr>\n",
       "  </thead>\n",
       "  <tbody>\n",
       "    <tr>\n",
       "      <th>0</th>\n",
       "      <td>1</td>\n",
       "      <td>546</td>\n",
       "      <td>'Salem's Lot</td>\n",
       "      <td>594</td>\n",
       "      <td>2005-11-01</td>\n",
       "      <td>93</td>\n",
       "    </tr>\n",
       "    <tr>\n",
       "      <th>1</th>\n",
       "      <td>2</td>\n",
       "      <td>465</td>\n",
       "      <td>1 000 Places to See Before You Die</td>\n",
       "      <td>992</td>\n",
       "      <td>2003-05-22</td>\n",
       "      <td>336</td>\n",
       "    </tr>\n",
       "    <tr>\n",
       "      <th>2</th>\n",
       "      <td>3</td>\n",
       "      <td>407</td>\n",
       "      <td>13 Little Blue Envelopes (Little Blue Envelope...</td>\n",
       "      <td>322</td>\n",
       "      <td>2010-12-21</td>\n",
       "      <td>135</td>\n",
       "    </tr>\n",
       "  </tbody>\n",
       "</table>\n",
       "</div>"
      ],
      "text/plain": [
       "   book_id  author_id                                              title  \\\n",
       "0        1        546                                       'Salem's Lot   \n",
       "1        2        465                 1 000 Places to See Before You Die   \n",
       "2        3        407  13 Little Blue Envelopes (Little Blue Envelope...   \n",
       "\n",
       "   num_pages publication_date  publisher_id  \n",
       "0        594       2005-11-01            93  \n",
       "1        992       2003-05-22           336  \n",
       "2        322       2010-12-21           135  "
      ]
     },
     "metadata": {},
     "output_type": "display_data"
    },
    {
     "data": {
      "text/html": [
       "<div>\n",
       "<style scoped>\n",
       "    .dataframe tbody tr th:only-of-type {\n",
       "        vertical-align: middle;\n",
       "    }\n",
       "\n",
       "    .dataframe tbody tr th {\n",
       "        vertical-align: top;\n",
       "    }\n",
       "\n",
       "    .dataframe thead th {\n",
       "        text-align: right;\n",
       "    }\n",
       "</style>\n",
       "<table border=\"1\" class=\"dataframe\">\n",
       "  <thead>\n",
       "    <tr style=\"text-align: right;\">\n",
       "      <th></th>\n",
       "      <th>book_id</th>\n",
       "      <th>author_id</th>\n",
       "      <th>title</th>\n",
       "      <th>num_pages</th>\n",
       "      <th>publication_date</th>\n",
       "      <th>publisher_id</th>\n",
       "    </tr>\n",
       "  </thead>\n",
       "  <tbody>\n",
       "    <tr>\n",
       "      <th>997</th>\n",
       "      <td>998</td>\n",
       "      <td>201</td>\n",
       "      <td>Year of Wonders</td>\n",
       "      <td>358</td>\n",
       "      <td>2002-04-30</td>\n",
       "      <td>212</td>\n",
       "    </tr>\n",
       "    <tr>\n",
       "      <th>998</th>\n",
       "      <td>999</td>\n",
       "      <td>94</td>\n",
       "      <td>You Suck (A Love Story  #2)</td>\n",
       "      <td>328</td>\n",
       "      <td>2007-01-16</td>\n",
       "      <td>331</td>\n",
       "    </tr>\n",
       "    <tr>\n",
       "      <th>999</th>\n",
       "      <td>1000</td>\n",
       "      <td>509</td>\n",
       "      <td>Zen and the Art of Motorcycle Maintenance: An ...</td>\n",
       "      <td>540</td>\n",
       "      <td>2006-04-25</td>\n",
       "      <td>143</td>\n",
       "    </tr>\n",
       "  </tbody>\n",
       "</table>\n",
       "</div>"
      ],
      "text/plain": [
       "     book_id  author_id                                              title  \\\n",
       "997      998        201                                    Year of Wonders   \n",
       "998      999         94                        You Suck (A Love Story  #2)   \n",
       "999     1000        509  Zen and the Art of Motorcycle Maintenance: An ...   \n",
       "\n",
       "     num_pages publication_date  publisher_id  \n",
       "997        358       2002-04-30           212  \n",
       "998        328       2007-01-16           331  \n",
       "999        540       2006-04-25           143  "
      ]
     },
     "metadata": {},
     "output_type": "display_data"
    }
   ],
   "source": [
    "read_df(books)"
   ]
  },
  {
   "cell_type": "markdown",
   "id": "82a656fa",
   "metadata": {},
   "source": [
    "### Таблица `authors`"
   ]
  },
  {
   "cell_type": "code",
   "execution_count": 28,
   "id": "ae1db5ba",
   "metadata": {},
   "outputs": [],
   "source": [
    "authors = ''' SELECT * FROM authors; '''\n",
    "authors = pd.io.sql.read_sql(authors, con = engine)"
   ]
  },
  {
   "cell_type": "code",
   "execution_count": 29,
   "id": "ea2af1b6",
   "metadata": {
    "scrolled": true
   },
   "outputs": [
    {
     "name": "stdout",
     "output_type": "stream",
     "text": [
      "<class 'pandas.core.frame.DataFrame'>\n",
      "RangeIndex: 636 entries, 0 to 635\n",
      "Data columns (total 2 columns):\n",
      " #   Column     Non-Null Count  Dtype \n",
      "---  ------     --------------  ----- \n",
      " 0   author_id  636 non-null    int64 \n",
      " 1   author     636 non-null    object\n",
      "dtypes: int64(1), object(1)\n",
      "memory usage: 10.1+ KB\n",
      "\n",
      "Количество дублей: 0\n",
      "\n",
      "Количество пропусков: \n"
     ]
    },
    {
     "data": {
      "text/plain": [
       "author_id    0\n",
       "author       0\n",
       "dtype: int64"
      ]
     },
     "metadata": {},
     "output_type": "display_data"
    },
    {
     "data": {
      "text/html": [
       "<div>\n",
       "<style scoped>\n",
       "    .dataframe tbody tr th:only-of-type {\n",
       "        vertical-align: middle;\n",
       "    }\n",
       "\n",
       "    .dataframe tbody tr th {\n",
       "        vertical-align: top;\n",
       "    }\n",
       "\n",
       "    .dataframe thead th {\n",
       "        text-align: right;\n",
       "    }\n",
       "</style>\n",
       "<table border=\"1\" class=\"dataframe\">\n",
       "  <thead>\n",
       "    <tr style=\"text-align: right;\">\n",
       "      <th></th>\n",
       "      <th>author_id</th>\n",
       "      <th>author</th>\n",
       "    </tr>\n",
       "  </thead>\n",
       "  <tbody>\n",
       "    <tr>\n",
       "      <th>0</th>\n",
       "      <td>1</td>\n",
       "      <td>A.S. Byatt</td>\n",
       "    </tr>\n",
       "    <tr>\n",
       "      <th>1</th>\n",
       "      <td>2</td>\n",
       "      <td>Aesop/Laura Harris/Laura Gibbs</td>\n",
       "    </tr>\n",
       "    <tr>\n",
       "      <th>2</th>\n",
       "      <td>3</td>\n",
       "      <td>Agatha Christie</td>\n",
       "    </tr>\n",
       "  </tbody>\n",
       "</table>\n",
       "</div>"
      ],
      "text/plain": [
       "   author_id                          author\n",
       "0          1                      A.S. Byatt\n",
       "1          2  Aesop/Laura Harris/Laura Gibbs\n",
       "2          3                 Agatha Christie"
      ]
     },
     "metadata": {},
     "output_type": "display_data"
    },
    {
     "data": {
      "text/html": [
       "<div>\n",
       "<style scoped>\n",
       "    .dataframe tbody tr th:only-of-type {\n",
       "        vertical-align: middle;\n",
       "    }\n",
       "\n",
       "    .dataframe tbody tr th {\n",
       "        vertical-align: top;\n",
       "    }\n",
       "\n",
       "    .dataframe thead th {\n",
       "        text-align: right;\n",
       "    }\n",
       "</style>\n",
       "<table border=\"1\" class=\"dataframe\">\n",
       "  <thead>\n",
       "    <tr style=\"text-align: right;\">\n",
       "      <th></th>\n",
       "      <th>author_id</th>\n",
       "      <th>author</th>\n",
       "    </tr>\n",
       "  </thead>\n",
       "  <tbody>\n",
       "    <tr>\n",
       "      <th>633</th>\n",
       "      <td>634</td>\n",
       "      <td>Zilpha Keatley Snyder</td>\n",
       "    </tr>\n",
       "    <tr>\n",
       "      <th>634</th>\n",
       "      <td>635</td>\n",
       "      <td>Zora Neale Hurston</td>\n",
       "    </tr>\n",
       "    <tr>\n",
       "      <th>635</th>\n",
       "      <td>636</td>\n",
       "      <td>Åsne Seierstad/Ingrid Christopherson</td>\n",
       "    </tr>\n",
       "  </tbody>\n",
       "</table>\n",
       "</div>"
      ],
      "text/plain": [
       "     author_id                                author\n",
       "633        634                 Zilpha Keatley Snyder\n",
       "634        635                    Zora Neale Hurston\n",
       "635        636  Åsne Seierstad/Ingrid Christopherson"
      ]
     },
     "metadata": {},
     "output_type": "display_data"
    }
   ],
   "source": [
    "read_df(authors)"
   ]
  },
  {
   "cell_type": "markdown",
   "id": "cb588912",
   "metadata": {},
   "source": [
    "### Таблица `publishers`"
   ]
  },
  {
   "cell_type": "code",
   "execution_count": 30,
   "id": "a7ec9d40",
   "metadata": {},
   "outputs": [],
   "source": [
    "publishers = ''' SELECT * FROM publishers; '''\n",
    "publishers = pd.io.sql.read_sql(publishers, con = engine)"
   ]
  },
  {
   "cell_type": "code",
   "execution_count": 31,
   "id": "1e8fd553",
   "metadata": {
    "scrolled": true
   },
   "outputs": [
    {
     "name": "stdout",
     "output_type": "stream",
     "text": [
      "<class 'pandas.core.frame.DataFrame'>\n",
      "RangeIndex: 340 entries, 0 to 339\n",
      "Data columns (total 2 columns):\n",
      " #   Column        Non-Null Count  Dtype \n",
      "---  ------        --------------  ----- \n",
      " 0   publisher_id  340 non-null    int64 \n",
      " 1   publisher     340 non-null    object\n",
      "dtypes: int64(1), object(1)\n",
      "memory usage: 5.4+ KB\n",
      "\n",
      "Количество дублей: 0\n",
      "\n",
      "Количество пропусков: \n"
     ]
    },
    {
     "data": {
      "text/plain": [
       "publisher_id    0\n",
       "publisher       0\n",
       "dtype: int64"
      ]
     },
     "metadata": {},
     "output_type": "display_data"
    },
    {
     "data": {
      "text/html": [
       "<div>\n",
       "<style scoped>\n",
       "    .dataframe tbody tr th:only-of-type {\n",
       "        vertical-align: middle;\n",
       "    }\n",
       "\n",
       "    .dataframe tbody tr th {\n",
       "        vertical-align: top;\n",
       "    }\n",
       "\n",
       "    .dataframe thead th {\n",
       "        text-align: right;\n",
       "    }\n",
       "</style>\n",
       "<table border=\"1\" class=\"dataframe\">\n",
       "  <thead>\n",
       "    <tr style=\"text-align: right;\">\n",
       "      <th></th>\n",
       "      <th>publisher_id</th>\n",
       "      <th>publisher</th>\n",
       "    </tr>\n",
       "  </thead>\n",
       "  <tbody>\n",
       "    <tr>\n",
       "      <th>0</th>\n",
       "      <td>1</td>\n",
       "      <td>Ace</td>\n",
       "    </tr>\n",
       "    <tr>\n",
       "      <th>1</th>\n",
       "      <td>2</td>\n",
       "      <td>Ace Book</td>\n",
       "    </tr>\n",
       "    <tr>\n",
       "      <th>2</th>\n",
       "      <td>3</td>\n",
       "      <td>Ace Books</td>\n",
       "    </tr>\n",
       "  </tbody>\n",
       "</table>\n",
       "</div>"
      ],
      "text/plain": [
       "   publisher_id  publisher\n",
       "0             1        Ace\n",
       "1             2   Ace Book\n",
       "2             3  Ace Books"
      ]
     },
     "metadata": {},
     "output_type": "display_data"
    },
    {
     "data": {
      "text/html": [
       "<div>\n",
       "<style scoped>\n",
       "    .dataframe tbody tr th:only-of-type {\n",
       "        vertical-align: middle;\n",
       "    }\n",
       "\n",
       "    .dataframe tbody tr th {\n",
       "        vertical-align: top;\n",
       "    }\n",
       "\n",
       "    .dataframe thead th {\n",
       "        text-align: right;\n",
       "    }\n",
       "</style>\n",
       "<table border=\"1\" class=\"dataframe\">\n",
       "  <thead>\n",
       "    <tr style=\"text-align: right;\">\n",
       "      <th></th>\n",
       "      <th>publisher_id</th>\n",
       "      <th>publisher</th>\n",
       "    </tr>\n",
       "  </thead>\n",
       "  <tbody>\n",
       "    <tr>\n",
       "      <th>337</th>\n",
       "      <td>338</td>\n",
       "      <td>Yale University Press</td>\n",
       "    </tr>\n",
       "    <tr>\n",
       "      <th>338</th>\n",
       "      <td>339</td>\n",
       "      <td>Yearling</td>\n",
       "    </tr>\n",
       "    <tr>\n",
       "      <th>339</th>\n",
       "      <td>340</td>\n",
       "      <td>Yearling Books</td>\n",
       "    </tr>\n",
       "  </tbody>\n",
       "</table>\n",
       "</div>"
      ],
      "text/plain": [
       "     publisher_id              publisher\n",
       "337           338  Yale University Press\n",
       "338           339               Yearling\n",
       "339           340         Yearling Books"
      ]
     },
     "metadata": {},
     "output_type": "display_data"
    }
   ],
   "source": [
    "read_df(publishers)"
   ]
  },
  {
   "cell_type": "markdown",
   "id": "9344f707",
   "metadata": {},
   "source": [
    "### Таблица `ratings`"
   ]
  },
  {
   "cell_type": "code",
   "execution_count": 32,
   "id": "5e94c9d9",
   "metadata": {},
   "outputs": [],
   "source": [
    "ratings = ''' SELECT * FROM ratings; '''\n",
    "ratings = pd.io.sql.read_sql(ratings, con = engine)"
   ]
  },
  {
   "cell_type": "code",
   "execution_count": 33,
   "id": "b9e61447",
   "metadata": {
    "scrolled": true
   },
   "outputs": [
    {
     "name": "stdout",
     "output_type": "stream",
     "text": [
      "<class 'pandas.core.frame.DataFrame'>\n",
      "RangeIndex: 6456 entries, 0 to 6455\n",
      "Data columns (total 4 columns):\n",
      " #   Column     Non-Null Count  Dtype \n",
      "---  ------     --------------  ----- \n",
      " 0   rating_id  6456 non-null   int64 \n",
      " 1   book_id    6456 non-null   int64 \n",
      " 2   username   6456 non-null   object\n",
      " 3   rating     6456 non-null   int64 \n",
      "dtypes: int64(3), object(1)\n",
      "memory usage: 201.9+ KB\n",
      "\n",
      "Количество дублей: 0\n",
      "\n",
      "Количество пропусков: \n"
     ]
    },
    {
     "data": {
      "text/plain": [
       "rating_id    0\n",
       "book_id      0\n",
       "username     0\n",
       "rating       0\n",
       "dtype: int64"
      ]
     },
     "metadata": {},
     "output_type": "display_data"
    },
    {
     "data": {
      "text/html": [
       "<div>\n",
       "<style scoped>\n",
       "    .dataframe tbody tr th:only-of-type {\n",
       "        vertical-align: middle;\n",
       "    }\n",
       "\n",
       "    .dataframe tbody tr th {\n",
       "        vertical-align: top;\n",
       "    }\n",
       "\n",
       "    .dataframe thead th {\n",
       "        text-align: right;\n",
       "    }\n",
       "</style>\n",
       "<table border=\"1\" class=\"dataframe\">\n",
       "  <thead>\n",
       "    <tr style=\"text-align: right;\">\n",
       "      <th></th>\n",
       "      <th>rating_id</th>\n",
       "      <th>book_id</th>\n",
       "      <th>username</th>\n",
       "      <th>rating</th>\n",
       "    </tr>\n",
       "  </thead>\n",
       "  <tbody>\n",
       "    <tr>\n",
       "      <th>0</th>\n",
       "      <td>1</td>\n",
       "      <td>1</td>\n",
       "      <td>ryanfranco</td>\n",
       "      <td>4</td>\n",
       "    </tr>\n",
       "    <tr>\n",
       "      <th>1</th>\n",
       "      <td>2</td>\n",
       "      <td>1</td>\n",
       "      <td>grantpatricia</td>\n",
       "      <td>2</td>\n",
       "    </tr>\n",
       "    <tr>\n",
       "      <th>2</th>\n",
       "      <td>3</td>\n",
       "      <td>1</td>\n",
       "      <td>brandtandrea</td>\n",
       "      <td>5</td>\n",
       "    </tr>\n",
       "  </tbody>\n",
       "</table>\n",
       "</div>"
      ],
      "text/plain": [
       "   rating_id  book_id       username  rating\n",
       "0          1        1     ryanfranco       4\n",
       "1          2        1  grantpatricia       2\n",
       "2          3        1   brandtandrea       5"
      ]
     },
     "metadata": {},
     "output_type": "display_data"
    },
    {
     "data": {
      "text/html": [
       "<div>\n",
       "<style scoped>\n",
       "    .dataframe tbody tr th:only-of-type {\n",
       "        vertical-align: middle;\n",
       "    }\n",
       "\n",
       "    .dataframe tbody tr th {\n",
       "        vertical-align: top;\n",
       "    }\n",
       "\n",
       "    .dataframe thead th {\n",
       "        text-align: right;\n",
       "    }\n",
       "</style>\n",
       "<table border=\"1\" class=\"dataframe\">\n",
       "  <thead>\n",
       "    <tr style=\"text-align: right;\">\n",
       "      <th></th>\n",
       "      <th>rating_id</th>\n",
       "      <th>book_id</th>\n",
       "      <th>username</th>\n",
       "      <th>rating</th>\n",
       "    </tr>\n",
       "  </thead>\n",
       "  <tbody>\n",
       "    <tr>\n",
       "      <th>6453</th>\n",
       "      <td>6454</td>\n",
       "      <td>1000</td>\n",
       "      <td>jarvispaul</td>\n",
       "      <td>5</td>\n",
       "    </tr>\n",
       "    <tr>\n",
       "      <th>6454</th>\n",
       "      <td>6455</td>\n",
       "      <td>1000</td>\n",
       "      <td>zross</td>\n",
       "      <td>2</td>\n",
       "    </tr>\n",
       "    <tr>\n",
       "      <th>6455</th>\n",
       "      <td>6456</td>\n",
       "      <td>1000</td>\n",
       "      <td>fharris</td>\n",
       "      <td>5</td>\n",
       "    </tr>\n",
       "  </tbody>\n",
       "</table>\n",
       "</div>"
      ],
      "text/plain": [
       "      rating_id  book_id    username  rating\n",
       "6453       6454     1000  jarvispaul       5\n",
       "6454       6455     1000       zross       2\n",
       "6455       6456     1000     fharris       5"
      ]
     },
     "metadata": {},
     "output_type": "display_data"
    }
   ],
   "source": [
    "read_df(ratings)"
   ]
  },
  {
   "cell_type": "markdown",
   "id": "b3ee8d85",
   "metadata": {},
   "source": [
    "### Таблица `reviews`"
   ]
  },
  {
   "cell_type": "code",
   "execution_count": 34,
   "id": "b342f9db",
   "metadata": {},
   "outputs": [],
   "source": [
    "reviews = ''' SELECT * FROM reviews; '''\n",
    "reviews = pd.io.sql.read_sql(reviews, con = engine)"
   ]
  },
  {
   "cell_type": "code",
   "execution_count": 35,
   "id": "56b55591",
   "metadata": {
    "scrolled": true
   },
   "outputs": [
    {
     "name": "stdout",
     "output_type": "stream",
     "text": [
      "<class 'pandas.core.frame.DataFrame'>\n",
      "RangeIndex: 2793 entries, 0 to 2792\n",
      "Data columns (total 4 columns):\n",
      " #   Column     Non-Null Count  Dtype \n",
      "---  ------     --------------  ----- \n",
      " 0   review_id  2793 non-null   int64 \n",
      " 1   book_id    2793 non-null   int64 \n",
      " 2   username   2793 non-null   object\n",
      " 3   text       2793 non-null   object\n",
      "dtypes: int64(2), object(2)\n",
      "memory usage: 87.4+ KB\n",
      "\n",
      "Количество дублей: 0\n",
      "\n",
      "Количество пропусков: \n"
     ]
    },
    {
     "data": {
      "text/plain": [
       "review_id    0\n",
       "book_id      0\n",
       "username     0\n",
       "text         0\n",
       "dtype: int64"
      ]
     },
     "metadata": {},
     "output_type": "display_data"
    },
    {
     "data": {
      "text/html": [
       "<div>\n",
       "<style scoped>\n",
       "    .dataframe tbody tr th:only-of-type {\n",
       "        vertical-align: middle;\n",
       "    }\n",
       "\n",
       "    .dataframe tbody tr th {\n",
       "        vertical-align: top;\n",
       "    }\n",
       "\n",
       "    .dataframe thead th {\n",
       "        text-align: right;\n",
       "    }\n",
       "</style>\n",
       "<table border=\"1\" class=\"dataframe\">\n",
       "  <thead>\n",
       "    <tr style=\"text-align: right;\">\n",
       "      <th></th>\n",
       "      <th>review_id</th>\n",
       "      <th>book_id</th>\n",
       "      <th>username</th>\n",
       "      <th>text</th>\n",
       "    </tr>\n",
       "  </thead>\n",
       "  <tbody>\n",
       "    <tr>\n",
       "      <th>0</th>\n",
       "      <td>1</td>\n",
       "      <td>1</td>\n",
       "      <td>brandtandrea</td>\n",
       "      <td>Mention society tell send professor analysis. ...</td>\n",
       "    </tr>\n",
       "    <tr>\n",
       "      <th>1</th>\n",
       "      <td>2</td>\n",
       "      <td>1</td>\n",
       "      <td>ryanfranco</td>\n",
       "      <td>Foot glass pretty audience hit themselves. Amo...</td>\n",
       "    </tr>\n",
       "    <tr>\n",
       "      <th>2</th>\n",
       "      <td>3</td>\n",
       "      <td>2</td>\n",
       "      <td>lorichen</td>\n",
       "      <td>Listen treat keep worry. Miss husband tax but ...</td>\n",
       "    </tr>\n",
       "  </tbody>\n",
       "</table>\n",
       "</div>"
      ],
      "text/plain": [
       "   review_id  book_id      username  \\\n",
       "0          1        1  brandtandrea   \n",
       "1          2        1    ryanfranco   \n",
       "2          3        2      lorichen   \n",
       "\n",
       "                                                text  \n",
       "0  Mention society tell send professor analysis. ...  \n",
       "1  Foot glass pretty audience hit themselves. Amo...  \n",
       "2  Listen treat keep worry. Miss husband tax but ...  "
      ]
     },
     "metadata": {},
     "output_type": "display_data"
    },
    {
     "data": {
      "text/html": [
       "<div>\n",
       "<style scoped>\n",
       "    .dataframe tbody tr th:only-of-type {\n",
       "        vertical-align: middle;\n",
       "    }\n",
       "\n",
       "    .dataframe tbody tr th {\n",
       "        vertical-align: top;\n",
       "    }\n",
       "\n",
       "    .dataframe thead th {\n",
       "        text-align: right;\n",
       "    }\n",
       "</style>\n",
       "<table border=\"1\" class=\"dataframe\">\n",
       "  <thead>\n",
       "    <tr style=\"text-align: right;\">\n",
       "      <th></th>\n",
       "      <th>review_id</th>\n",
       "      <th>book_id</th>\n",
       "      <th>username</th>\n",
       "      <th>text</th>\n",
       "    </tr>\n",
       "  </thead>\n",
       "  <tbody>\n",
       "    <tr>\n",
       "      <th>2790</th>\n",
       "      <td>2791</td>\n",
       "      <td>1000</td>\n",
       "      <td>carolrodriguez</td>\n",
       "      <td>Authority go who television entire hair guy po...</td>\n",
       "    </tr>\n",
       "    <tr>\n",
       "      <th>2791</th>\n",
       "      <td>2792</td>\n",
       "      <td>1000</td>\n",
       "      <td>wendy18</td>\n",
       "      <td>Or western offer wonder ask. More hear phone f...</td>\n",
       "    </tr>\n",
       "    <tr>\n",
       "      <th>2792</th>\n",
       "      <td>2793</td>\n",
       "      <td>1000</td>\n",
       "      <td>jarvispaul</td>\n",
       "      <td>Republican staff bit eat material measure plan...</td>\n",
       "    </tr>\n",
       "  </tbody>\n",
       "</table>\n",
       "</div>"
      ],
      "text/plain": [
       "      review_id  book_id        username  \\\n",
       "2790       2791     1000  carolrodriguez   \n",
       "2791       2792     1000         wendy18   \n",
       "2792       2793     1000      jarvispaul   \n",
       "\n",
       "                                                   text  \n",
       "2790  Authority go who television entire hair guy po...  \n",
       "2791  Or western offer wonder ask. More hear phone f...  \n",
       "2792  Republican staff bit eat material measure plan...  "
      ]
     },
     "metadata": {},
     "output_type": "display_data"
    }
   ],
   "source": [
    "read_df(reviews)"
   ]
  },
  {
   "cell_type": "markdown",
   "id": "f0ece1c0",
   "metadata": {},
   "source": [
    "### Подитог:\n",
    "Данные чистые, пропусков дубликатов не найдено, можно приступать к заданиям."
   ]
  },
  {
   "cell_type": "markdown",
   "id": "a3b37270",
   "metadata": {},
   "source": [
    "## Выполнение задач"
   ]
  },
  {
   "cell_type": "markdown",
   "id": "6e918d79",
   "metadata": {},
   "source": [
    "### Посчитать, сколько книг вышло после 1 января 2000 года"
   ]
  },
  {
   "cell_type": "code",
   "execution_count": 36,
   "id": "9820a4ec",
   "metadata": {},
   "outputs": [
    {
     "data": {
      "text/html": [
       "<div>\n",
       "<style scoped>\n",
       "    .dataframe tbody tr th:only-of-type {\n",
       "        vertical-align: middle;\n",
       "    }\n",
       "\n",
       "    .dataframe tbody tr th {\n",
       "        vertical-align: top;\n",
       "    }\n",
       "\n",
       "    .dataframe thead th {\n",
       "        text-align: right;\n",
       "    }\n",
       "</style>\n",
       "<table border=\"1\" class=\"dataframe\">\n",
       "  <thead>\n",
       "    <tr style=\"text-align: right;\">\n",
       "      <th></th>\n",
       "      <th>book_id</th>\n",
       "      <th>author_id</th>\n",
       "      <th>title</th>\n",
       "      <th>num_pages</th>\n",
       "      <th>publication_date</th>\n",
       "      <th>publisher_id</th>\n",
       "    </tr>\n",
       "  </thead>\n",
       "  <tbody>\n",
       "    <tr>\n",
       "      <th>0</th>\n",
       "      <td>1</td>\n",
       "      <td>546</td>\n",
       "      <td>'Salem's Lot</td>\n",
       "      <td>594</td>\n",
       "      <td>2005-11-01</td>\n",
       "      <td>93</td>\n",
       "    </tr>\n",
       "    <tr>\n",
       "      <th>1</th>\n",
       "      <td>2</td>\n",
       "      <td>465</td>\n",
       "      <td>1 000 Places to See Before You Die</td>\n",
       "      <td>992</td>\n",
       "      <td>2003-05-22</td>\n",
       "      <td>336</td>\n",
       "    </tr>\n",
       "    <tr>\n",
       "      <th>2</th>\n",
       "      <td>3</td>\n",
       "      <td>407</td>\n",
       "      <td>13 Little Blue Envelopes (Little Blue Envelope...</td>\n",
       "      <td>322</td>\n",
       "      <td>2010-12-21</td>\n",
       "      <td>135</td>\n",
       "    </tr>\n",
       "    <tr>\n",
       "      <th>3</th>\n",
       "      <td>4</td>\n",
       "      <td>82</td>\n",
       "      <td>1491: New Revelations of the Americas Before C...</td>\n",
       "      <td>541</td>\n",
       "      <td>2006-10-10</td>\n",
       "      <td>309</td>\n",
       "    </tr>\n",
       "    <tr>\n",
       "      <th>4</th>\n",
       "      <td>5</td>\n",
       "      <td>125</td>\n",
       "      <td>1776</td>\n",
       "      <td>386</td>\n",
       "      <td>2006-07-04</td>\n",
       "      <td>268</td>\n",
       "    </tr>\n",
       "    <tr>\n",
       "      <th>...</th>\n",
       "      <td>...</td>\n",
       "      <td>...</td>\n",
       "      <td>...</td>\n",
       "      <td>...</td>\n",
       "      <td>...</td>\n",
       "      <td>...</td>\n",
       "    </tr>\n",
       "    <tr>\n",
       "      <th>995</th>\n",
       "      <td>996</td>\n",
       "      <td>571</td>\n",
       "      <td>Wyrd Sisters (Discworld  #6; Witches #2)</td>\n",
       "      <td>265</td>\n",
       "      <td>2001-02-06</td>\n",
       "      <td>147</td>\n",
       "    </tr>\n",
       "    <tr>\n",
       "      <th>996</th>\n",
       "      <td>997</td>\n",
       "      <td>454</td>\n",
       "      <td>Xenocide (Ender's Saga  #3)</td>\n",
       "      <td>592</td>\n",
       "      <td>1996-07-15</td>\n",
       "      <td>297</td>\n",
       "    </tr>\n",
       "    <tr>\n",
       "      <th>997</th>\n",
       "      <td>998</td>\n",
       "      <td>201</td>\n",
       "      <td>Year of Wonders</td>\n",
       "      <td>358</td>\n",
       "      <td>2002-04-30</td>\n",
       "      <td>212</td>\n",
       "    </tr>\n",
       "    <tr>\n",
       "      <th>998</th>\n",
       "      <td>999</td>\n",
       "      <td>94</td>\n",
       "      <td>You Suck (A Love Story  #2)</td>\n",
       "      <td>328</td>\n",
       "      <td>2007-01-16</td>\n",
       "      <td>331</td>\n",
       "    </tr>\n",
       "    <tr>\n",
       "      <th>999</th>\n",
       "      <td>1000</td>\n",
       "      <td>509</td>\n",
       "      <td>Zen and the Art of Motorcycle Maintenance: An ...</td>\n",
       "      <td>540</td>\n",
       "      <td>2006-04-25</td>\n",
       "      <td>143</td>\n",
       "    </tr>\n",
       "  </tbody>\n",
       "</table>\n",
       "<p>1000 rows × 6 columns</p>\n",
       "</div>"
      ],
      "text/plain": [
       "     book_id  author_id                                              title  \\\n",
       "0          1        546                                       'Salem's Lot   \n",
       "1          2        465                 1 000 Places to See Before You Die   \n",
       "2          3        407  13 Little Blue Envelopes (Little Blue Envelope...   \n",
       "3          4         82  1491: New Revelations of the Americas Before C...   \n",
       "4          5        125                                               1776   \n",
       "..       ...        ...                                                ...   \n",
       "995      996        571           Wyrd Sisters (Discworld  #6; Witches #2)   \n",
       "996      997        454                        Xenocide (Ender's Saga  #3)   \n",
       "997      998        201                                    Year of Wonders   \n",
       "998      999         94                        You Suck (A Love Story  #2)   \n",
       "999     1000        509  Zen and the Art of Motorcycle Maintenance: An ...   \n",
       "\n",
       "     num_pages publication_date  publisher_id  \n",
       "0          594       2005-11-01            93  \n",
       "1          992       2003-05-22           336  \n",
       "2          322       2010-12-21           135  \n",
       "3          541       2006-10-10           309  \n",
       "4          386       2006-07-04           268  \n",
       "..         ...              ...           ...  \n",
       "995        265       2001-02-06           147  \n",
       "996        592       1996-07-15           297  \n",
       "997        358       2002-04-30           212  \n",
       "998        328       2007-01-16           331  \n",
       "999        540       2006-04-25           143  \n",
       "\n",
       "[1000 rows x 6 columns]"
      ]
     },
     "execution_count": 36,
     "metadata": {},
     "output_type": "execute_result"
    }
   ],
   "source": [
    "books"
   ]
  },
  {
   "cell_type": "code",
   "execution_count": 37,
   "id": "f23d7ccb",
   "metadata": {},
   "outputs": [
    {
     "data": {
      "text/html": [
       "<div>\n",
       "<style scoped>\n",
       "    .dataframe tbody tr th:only-of-type {\n",
       "        vertical-align: middle;\n",
       "    }\n",
       "\n",
       "    .dataframe tbody tr th {\n",
       "        vertical-align: top;\n",
       "    }\n",
       "\n",
       "    .dataframe thead th {\n",
       "        text-align: right;\n",
       "    }\n",
       "</style>\n",
       "<table border=\"1\" class=\"dataframe\">\n",
       "  <thead>\n",
       "    <tr style=\"text-align: right;\">\n",
       "      <th></th>\n",
       "      <th>count</th>\n",
       "    </tr>\n",
       "  </thead>\n",
       "  <tbody>\n",
       "    <tr>\n",
       "      <th>0</th>\n",
       "      <td>819</td>\n",
       "    </tr>\n",
       "  </tbody>\n",
       "</table>\n",
       "</div>"
      ],
      "text/plain": [
       "   count\n",
       "0    819"
      ]
     },
     "execution_count": 37,
     "metadata": {},
     "output_type": "execute_result"
    }
   ],
   "source": [
    "count_books = '''\n",
    "SELECT COUNT(book_id)\n",
    "FROM books\n",
    "WHERE publication_date > '2000-01-01'\n",
    "\n",
    "'''\n",
    "pd.io.sql.read_sql(count_books, con = engine)"
   ]
  },
  {
   "cell_type": "markdown",
   "id": "23fdb7b3",
   "metadata": {},
   "source": [
    "819 книг вышло после 1го января 2000 года."
   ]
  },
  {
   "cell_type": "markdown",
   "id": "f30da3a2",
   "metadata": {},
   "source": [
    "### Для каждой книги посчитать количество обзоров и среднюю оценку"
   ]
  },
  {
   "cell_type": "code",
   "execution_count": 38,
   "id": "127f0ac5",
   "metadata": {},
   "outputs": [
    {
     "data": {
      "text/html": [
       "<div>\n",
       "<style scoped>\n",
       "    .dataframe tbody tr th:only-of-type {\n",
       "        vertical-align: middle;\n",
       "    }\n",
       "\n",
       "    .dataframe tbody tr th {\n",
       "        vertical-align: top;\n",
       "    }\n",
       "\n",
       "    .dataframe thead th {\n",
       "        text-align: right;\n",
       "    }\n",
       "</style>\n",
       "<table border=\"1\" class=\"dataframe\">\n",
       "  <thead>\n",
       "    <tr style=\"text-align: right;\">\n",
       "      <th></th>\n",
       "      <th>title</th>\n",
       "      <th>number_of_ratings</th>\n",
       "      <th>avg_rating</th>\n",
       "    </tr>\n",
       "  </thead>\n",
       "  <tbody>\n",
       "    <tr>\n",
       "      <th>0</th>\n",
       "      <td>'Salem's Lot</td>\n",
       "      <td>2</td>\n",
       "      <td>3.67</td>\n",
       "    </tr>\n",
       "    <tr>\n",
       "      <th>1</th>\n",
       "      <td>1 000 Places to See Before You Die</td>\n",
       "      <td>1</td>\n",
       "      <td>2.50</td>\n",
       "    </tr>\n",
       "    <tr>\n",
       "      <th>2</th>\n",
       "      <td>13 Little Blue Envelopes (Little Blue Envelope...</td>\n",
       "      <td>3</td>\n",
       "      <td>4.67</td>\n",
       "    </tr>\n",
       "    <tr>\n",
       "      <th>3</th>\n",
       "      <td>1491: New Revelations of the Americas Before C...</td>\n",
       "      <td>2</td>\n",
       "      <td>4.50</td>\n",
       "    </tr>\n",
       "    <tr>\n",
       "      <th>4</th>\n",
       "      <td>1776</td>\n",
       "      <td>4</td>\n",
       "      <td>4.00</td>\n",
       "    </tr>\n",
       "    <tr>\n",
       "      <th>...</th>\n",
       "      <td>...</td>\n",
       "      <td>...</td>\n",
       "      <td>...</td>\n",
       "    </tr>\n",
       "    <tr>\n",
       "      <th>995</th>\n",
       "      <td>Wyrd Sisters (Discworld  #6; Witches #2)</td>\n",
       "      <td>3</td>\n",
       "      <td>3.67</td>\n",
       "    </tr>\n",
       "    <tr>\n",
       "      <th>996</th>\n",
       "      <td>Xenocide (Ender's Saga  #3)</td>\n",
       "      <td>3</td>\n",
       "      <td>3.40</td>\n",
       "    </tr>\n",
       "    <tr>\n",
       "      <th>997</th>\n",
       "      <td>Year of Wonders</td>\n",
       "      <td>4</td>\n",
       "      <td>3.20</td>\n",
       "    </tr>\n",
       "    <tr>\n",
       "      <th>998</th>\n",
       "      <td>You Suck (A Love Story  #2)</td>\n",
       "      <td>2</td>\n",
       "      <td>4.50</td>\n",
       "    </tr>\n",
       "    <tr>\n",
       "      <th>999</th>\n",
       "      <td>Zen and the Art of Motorcycle Maintenance: An ...</td>\n",
       "      <td>4</td>\n",
       "      <td>3.83</td>\n",
       "    </tr>\n",
       "  </tbody>\n",
       "</table>\n",
       "<p>1000 rows × 3 columns</p>\n",
       "</div>"
      ],
      "text/plain": [
       "                                                 title  number_of_ratings  \\\n",
       "0                                         'Salem's Lot                  2   \n",
       "1                   1 000 Places to See Before You Die                  1   \n",
       "2    13 Little Blue Envelopes (Little Blue Envelope...                  3   \n",
       "3    1491: New Revelations of the Americas Before C...                  2   \n",
       "4                                                 1776                  4   \n",
       "..                                                 ...                ...   \n",
       "995           Wyrd Sisters (Discworld  #6; Witches #2)                  3   \n",
       "996                        Xenocide (Ender's Saga  #3)                  3   \n",
       "997                                    Year of Wonders                  4   \n",
       "998                        You Suck (A Love Story  #2)                  2   \n",
       "999  Zen and the Art of Motorcycle Maintenance: An ...                  4   \n",
       "\n",
       "     avg_rating  \n",
       "0          3.67  \n",
       "1          2.50  \n",
       "2          4.67  \n",
       "3          4.50  \n",
       "4          4.00  \n",
       "..          ...  \n",
       "995        3.67  \n",
       "996        3.40  \n",
       "997        3.20  \n",
       "998        4.50  \n",
       "999        3.83  \n",
       "\n",
       "[1000 rows x 3 columns]"
      ]
     },
     "execution_count": 38,
     "metadata": {},
     "output_type": "execute_result"
    }
   ],
   "source": [
    "count_rating_review = '''\n",
    "SELECT b.title\n",
    "       ,COUNT(DISTINCT rv.review_id) AS number_of_ratings\n",
    "       ,ROUND(AVG(rt.rating), 2) AS avg_rating\n",
    "\n",
    "FROM books AS b LEFT JOIN reviews AS rv ON b.book_id = rv.book_id\n",
    "LEFT JOIN ratings AS rt ON b.book_id = rt.book_id\n",
    "GROUP BY b.book_id\n",
    "\n",
    "'''\n",
    "pd.io.sql.read_sql(count_rating_review, con = engine)"
   ]
  },
  {
   "cell_type": "markdown",
   "id": "0b1541a1",
   "metadata": {},
   "source": [
    "Посчитано количество обзоров и средняя оценка для каждой книги."
   ]
  },
  {
   "cell_type": "markdown",
   "id": "eb06d138",
   "metadata": {},
   "source": [
    "### Определить издательство, которое выпустило наибольшее число книг толще 50 страниц — так мы исключим из анализа брошюры"
   ]
  },
  {
   "cell_type": "code",
   "execution_count": 39,
   "id": "d36d5699",
   "metadata": {},
   "outputs": [
    {
     "data": {
      "text/html": [
       "<div>\n",
       "<style scoped>\n",
       "    .dataframe tbody tr th:only-of-type {\n",
       "        vertical-align: middle;\n",
       "    }\n",
       "\n",
       "    .dataframe tbody tr th {\n",
       "        vertical-align: top;\n",
       "    }\n",
       "\n",
       "    .dataframe thead th {\n",
       "        text-align: right;\n",
       "    }\n",
       "</style>\n",
       "<table border=\"1\" class=\"dataframe\">\n",
       "  <thead>\n",
       "    <tr style=\"text-align: right;\">\n",
       "      <th></th>\n",
       "      <th>publisher_id</th>\n",
       "      <th>sum_books</th>\n",
       "      <th>publisher</th>\n",
       "    </tr>\n",
       "  </thead>\n",
       "  <tbody>\n",
       "    <tr>\n",
       "      <th>0</th>\n",
       "      <td>212</td>\n",
       "      <td>42</td>\n",
       "      <td>Penguin Books</td>\n",
       "    </tr>\n",
       "  </tbody>\n",
       "</table>\n",
       "</div>"
      ],
      "text/plain": [
       "   publisher_id  sum_books      publisher\n",
       "0           212         42  Penguin Books"
      ]
     },
     "execution_count": 39,
     "metadata": {},
     "output_type": "execute_result"
    }
   ],
   "source": [
    "more_50_pages = '''\n",
    "SELECT b.publisher_id AS publisher_id\n",
    "       ,COUNT(b.book_id) AS sum_books\n",
    "       ,p.publisher AS publisher\n",
    "FROM books AS b LEFT JOIN publishers AS p ON b.publisher_id = p.publisher_id\n",
    "WHERE num_pages > 50\n",
    "GROUP BY b.publisher_id, p.publisher\n",
    "ORDER BY sum_books DESC\n",
    "LIMIT 1\n",
    "\n",
    "'''\n",
    "pd.io.sql.read_sql(more_50_pages, con = engine)"
   ]
  },
  {
   "cell_type": "markdown",
   "id": "2ac20d12",
   "metadata": {},
   "source": [
    "Издательство `Penguin Books` - является издательством, что выпустила наибольшее число книг с количеством страниц больше 50."
   ]
  },
  {
   "cell_type": "markdown",
   "id": "27f57da3",
   "metadata": {},
   "source": [
    "### Определить автора с самой высокой средней оценкой книг — учитывать только книги с 50 и более оценками"
   ]
  },
  {
   "cell_type": "markdown",
   "id": "53b4a14f",
   "metadata": {},
   "source": [
    "Автор с самой высокой средней оценкой книг - J.K. Rowling/Mary GrandPré со средним рейтингом 4.29."
   ]
  },
  {
   "cell_type": "code",
   "execution_count": 79,
   "id": "8c2ab4bf",
   "metadata": {},
   "outputs": [
    {
     "data": {
      "text/html": [
       "<div>\n",
       "<style scoped>\n",
       "    .dataframe tbody tr th:only-of-type {\n",
       "        vertical-align: middle;\n",
       "    }\n",
       "\n",
       "    .dataframe tbody tr th {\n",
       "        vertical-align: top;\n",
       "    }\n",
       "\n",
       "    .dataframe thead th {\n",
       "        text-align: right;\n",
       "    }\n",
       "</style>\n",
       "<table border=\"1\" class=\"dataframe\">\n",
       "  <thead>\n",
       "    <tr style=\"text-align: right;\">\n",
       "      <th></th>\n",
       "      <th>author</th>\n",
       "      <th>avg_rating</th>\n",
       "    </tr>\n",
       "  </thead>\n",
       "  <tbody>\n",
       "    <tr>\n",
       "      <th>0</th>\n",
       "      <td>J.K. Rowling/Mary GrandPré</td>\n",
       "      <td>4.29</td>\n",
       "    </tr>\n",
       "    <tr>\n",
       "      <th>1</th>\n",
       "      <td>Markus Zusak/Cao Xuân Việt Khương</td>\n",
       "      <td>4.26</td>\n",
       "    </tr>\n",
       "    <tr>\n",
       "      <th>2</th>\n",
       "      <td>J.R.R. Tolkien</td>\n",
       "      <td>4.25</td>\n",
       "    </tr>\n",
       "    <tr>\n",
       "      <th>3</th>\n",
       "      <td>Louisa May Alcott</td>\n",
       "      <td>4.19</td>\n",
       "    </tr>\n",
       "    <tr>\n",
       "      <th>4</th>\n",
       "      <td>Rick Riordan</td>\n",
       "      <td>4.08</td>\n",
       "    </tr>\n",
       "  </tbody>\n",
       "</table>\n",
       "</div>"
      ],
      "text/plain": [
       "                              author  avg_rating\n",
       "0         J.K. Rowling/Mary GrandPré        4.29\n",
       "1  Markus Zusak/Cao Xuân Việt Khương        4.26\n",
       "2                     J.R.R. Tolkien        4.25\n",
       "3                  Louisa May Alcott        4.19\n",
       "4                       Rick Riordan        4.08"
      ]
     },
     "execution_count": 79,
     "metadata": {},
     "output_type": "execute_result"
    }
   ],
   "source": [
    "top_author = '''\n",
    "SELECT  aut.author\n",
    "        ,ROUND(AVG(r.rating), 2) AS avg_rating\n",
    "FROM (SELECT book_id\n",
    "             ,AVG(rating) AS rating_avg\n",
    "      FROM ratings\n",
    "      GROUP BY book_id\n",
    "      HAVING COUNT(rating_id) >= 50) AS rt\n",
    "LEFT JOIN ratings AS r on rt.book_id = r.book_id \n",
    "LEFT JOIN books AS b ON rt.book_id = b.book_id\n",
    "LEFT JOIN authors AS aut ON b.author_id = aut.author_id\n",
    "GROUP BY aut.author       \n",
    "ORDER BY avg_rating DESC\n",
    "LIMIT 5\n",
    "'''\n",
    "pd.io.sql.read_sql(top_author, con = engine)"
   ]
  },
  {
   "cell_type": "markdown",
   "id": "734e1890",
   "metadata": {},
   "source": [
    "### Посчитать среднее количество обзоров от пользователей, которые поставили больше 50 оценок"
   ]
  },
  {
   "cell_type": "code",
   "execution_count": 41,
   "id": "e0d038bc",
   "metadata": {
    "scrolled": true
   },
   "outputs": [
    {
     "data": {
      "text/html": [
       "<div>\n",
       "<style scoped>\n",
       "    .dataframe tbody tr th:only-of-type {\n",
       "        vertical-align: middle;\n",
       "    }\n",
       "\n",
       "    .dataframe tbody tr th {\n",
       "        vertical-align: top;\n",
       "    }\n",
       "\n",
       "    .dataframe thead th {\n",
       "        text-align: right;\n",
       "    }\n",
       "</style>\n",
       "<table border=\"1\" class=\"dataframe\">\n",
       "  <thead>\n",
       "    <tr style=\"text-align: right;\">\n",
       "      <th></th>\n",
       "      <th>avg_reviews</th>\n",
       "    </tr>\n",
       "  </thead>\n",
       "  <tbody>\n",
       "    <tr>\n",
       "      <th>0</th>\n",
       "      <td>24</td>\n",
       "    </tr>\n",
       "  </tbody>\n",
       "</table>\n",
       "</div>"
      ],
      "text/plain": [
       "   avg_reviews\n",
       "0           24"
      ]
     },
     "execution_count": 41,
     "metadata": {},
     "output_type": "execute_result"
    }
   ],
   "source": [
    "avg_reviews = '''\n",
    "SELECT COUNT(DISTINCT rev.review_id)/COUNT(DISTINCT rev.username) as avg_reviews\n",
    "FROM ratings LEFT JOIN reviews as rev on ratings.username = rev.username\n",
    "WHERE ratings.username in (SELECT username\n",
    "                       FROM ratings\n",
    "                       GROUP BY username\n",
    "                       HAVING COUNT(rating_id) > 50)\n",
    "'''\n",
    "pd.io.sql.read_sql(avg_reviews, con = engine)"
   ]
  },
  {
   "cell_type": "markdown",
   "id": "ed096cd5",
   "metadata": {},
   "source": [
    "Среднее количество обзоров от пользователей, которые поставили больше 50 оценок составляет 24."
   ]
  },
  {
   "cell_type": "markdown",
   "id": "1beb320b",
   "metadata": {},
   "source": [
    "## Вывод"
   ]
  },
  {
   "cell_type": "markdown",
   "id": "e4d5a46b",
   "metadata": {},
   "source": [
    "- 819 книг вышло после 1го января 2000 года.\n",
    "- Посчитано количество обзоров и средняя оценка для каждой книги.\n",
    "- Издательство Penguin Books - является издательством, что выпустила наибольшее число книг с количеством страниц больше 50.\n",
    "- Автор с самой высокой средней оценкой книг - J.K. Rowling/Mary GrandPré со средним рейтингом 4.29.\n",
    "- Среднее количество обзоров от пользователей, которые поставили больше 50 оценок составляет 24."
   ]
  }
 ],
 "metadata": {
  "ExecuteTimeLog": [
   {
    "duration": 563,
    "start_time": "2023-01-07T09:47:40.679Z"
   },
   {
    "duration": 12136,
    "start_time": "2023-01-07T09:47:41.244Z"
   },
   {
    "duration": 5,
    "start_time": "2023-01-07T09:47:53.382Z"
   },
   {
    "duration": 608,
    "start_time": "2023-01-07T09:47:53.389Z"
   },
   {
    "duration": 53,
    "start_time": "2023-01-07T09:47:54.002Z"
   },
   {
    "duration": 110,
    "start_time": "2023-01-07T09:47:54.057Z"
   },
   {
    "duration": 26,
    "start_time": "2023-01-07T09:47:54.171Z"
   },
   {
    "duration": 101,
    "start_time": "2023-01-07T09:47:54.199Z"
   },
   {
    "duration": 24,
    "start_time": "2023-01-07T09:47:54.301Z"
   },
   {
    "duration": 157,
    "start_time": "2023-01-07T09:47:54.327Z"
   },
   {
    "duration": 25,
    "start_time": "2023-01-07T09:47:54.486Z"
   },
   {
    "duration": 178,
    "start_time": "2023-01-07T09:47:54.513Z"
   },
   {
    "duration": 26,
    "start_time": "2023-01-07T09:47:54.693Z"
   },
   {
    "duration": 28,
    "start_time": "2023-01-07T09:47:54.722Z"
   },
   {
    "duration": 148,
    "start_time": "2023-01-07T09:47:54.751Z"
   },
   {
    "duration": 136,
    "start_time": "2023-01-07T09:47:54.902Z"
   },
   {
    "duration": 120,
    "start_time": "2023-01-07T09:47:55.043Z"
   },
   {
    "duration": 118,
    "start_time": "2023-01-07T09:47:55.165Z"
   },
   {
    "duration": 103,
    "start_time": "2023-01-07T09:47:55.285Z"
   },
   {
    "duration": 103,
    "start_time": "2023-01-07T09:49:25.080Z"
   },
   {
    "duration": 120,
    "start_time": "2023-01-07T09:49:28.839Z"
   },
   {
    "duration": 109,
    "start_time": "2023-01-07T09:51:30.210Z"
   },
   {
    "duration": 100,
    "start_time": "2023-01-07T09:52:15.318Z"
   },
   {
    "duration": 117,
    "start_time": "2023-01-07T09:52:40.970Z"
   },
   {
    "duration": 111,
    "start_time": "2023-01-07T09:53:01.109Z"
   },
   {
    "duration": 118,
    "start_time": "2023-01-07T09:53:12.705Z"
   },
   {
    "duration": 117,
    "start_time": "2023-01-07T09:53:31.357Z"
   },
   {
    "duration": 109,
    "start_time": "2023-01-07T09:53:39.923Z"
   },
   {
    "duration": 339,
    "start_time": "2023-01-07T09:53:51.094Z"
   },
   {
    "duration": 116,
    "start_time": "2023-01-07T09:54:03.118Z"
   },
   {
    "duration": 100,
    "start_time": "2023-01-07T09:54:06.493Z"
   },
   {
    "duration": 104,
    "start_time": "2023-01-07T09:54:10.193Z"
   },
   {
    "duration": 104,
    "start_time": "2023-01-07T09:54:31.205Z"
   },
   {
    "duration": 136,
    "start_time": "2023-01-07T10:04:06.801Z"
   },
   {
    "duration": 531,
    "start_time": "2023-01-07T11:21:56.812Z"
   },
   {
    "duration": 5395,
    "start_time": "2023-01-07T11:21:57.345Z"
   },
   {
    "duration": 3,
    "start_time": "2023-01-07T11:22:02.742Z"
   },
   {
    "duration": 316,
    "start_time": "2023-01-07T11:22:02.747Z"
   },
   {
    "duration": 35,
    "start_time": "2023-01-07T11:22:03.065Z"
   },
   {
    "duration": 78,
    "start_time": "2023-01-07T11:22:03.105Z"
   },
   {
    "duration": 25,
    "start_time": "2023-01-07T11:22:03.185Z"
   },
   {
    "duration": 74,
    "start_time": "2023-01-07T11:22:03.211Z"
   },
   {
    "duration": 20,
    "start_time": "2023-01-07T11:22:03.287Z"
   },
   {
    "duration": 119,
    "start_time": "2023-01-07T11:22:03.309Z"
   },
   {
    "duration": 25,
    "start_time": "2023-01-07T11:22:03.430Z"
   },
   {
    "duration": 92,
    "start_time": "2023-01-07T11:22:03.457Z"
   },
   {
    "duration": 23,
    "start_time": "2023-01-07T11:22:03.551Z"
   },
   {
    "duration": 12,
    "start_time": "2023-01-07T11:22:03.577Z"
   },
   {
    "duration": 78,
    "start_time": "2023-01-07T11:22:03.591Z"
   },
   {
    "duration": 90,
    "start_time": "2023-01-07T11:22:03.671Z"
   },
   {
    "duration": 78,
    "start_time": "2023-01-07T11:22:03.763Z"
   },
   {
    "duration": 81,
    "start_time": "2023-01-07T11:22:03.843Z"
   },
   {
    "duration": 81,
    "start_time": "2023-01-07T11:22:03.926Z"
   },
   {
    "duration": 81,
    "start_time": "2023-01-07T11:22:09.900Z"
   },
   {
    "duration": 187,
    "start_time": "2023-01-07T11:22:15.668Z"
   },
   {
    "duration": 79,
    "start_time": "2023-01-07T11:22:22.180Z"
   },
   {
    "duration": 3,
    "start_time": "2023-01-07T11:25:53.443Z"
   },
   {
    "duration": 13,
    "start_time": "2023-01-07T11:25:53.449Z"
   },
   {
    "duration": 13,
    "start_time": "2023-01-07T11:25:53.463Z"
   },
   {
    "duration": 277,
    "start_time": "2023-01-07T11:25:53.478Z"
   },
   {
    "duration": 28,
    "start_time": "2023-01-07T11:25:53.758Z"
   },
   {
    "duration": 73,
    "start_time": "2023-01-07T11:25:53.788Z"
   },
   {
    "duration": 21,
    "start_time": "2023-01-07T11:25:53.863Z"
   },
   {
    "duration": 72,
    "start_time": "2023-01-07T11:25:53.886Z"
   },
   {
    "duration": 20,
    "start_time": "2023-01-07T11:25:53.960Z"
   },
   {
    "duration": 112,
    "start_time": "2023-01-07T11:25:53.982Z"
   },
   {
    "duration": 29,
    "start_time": "2023-01-07T11:25:54.096Z"
   },
   {
    "duration": 92,
    "start_time": "2023-01-07T11:25:54.127Z"
   },
   {
    "duration": 22,
    "start_time": "2023-01-07T11:25:54.221Z"
   },
   {
    "duration": 11,
    "start_time": "2023-01-07T11:25:54.245Z"
   },
   {
    "duration": 84,
    "start_time": "2023-01-07T11:25:54.258Z"
   },
   {
    "duration": 90,
    "start_time": "2023-01-07T11:25:54.344Z"
   },
   {
    "duration": 78,
    "start_time": "2023-01-07T11:25:54.436Z"
   },
   {
    "duration": 80,
    "start_time": "2023-01-07T11:25:54.515Z"
   },
   {
    "duration": 80,
    "start_time": "2023-01-07T11:25:54.596Z"
   },
   {
    "duration": 87,
    "start_time": "2023-01-07T11:26:37.943Z"
   },
   {
    "duration": 81,
    "start_time": "2023-01-07T11:26:44.718Z"
   },
   {
    "duration": 86,
    "start_time": "2023-01-07T11:26:59.478Z"
   },
   {
    "duration": 81,
    "start_time": "2023-01-07T11:27:54.445Z"
   },
   {
    "duration": 85,
    "start_time": "2023-01-07T11:28:02.757Z"
   },
   {
    "duration": 83,
    "start_time": "2023-01-07T11:28:10.927Z"
   },
   {
    "duration": 82,
    "start_time": "2023-01-07T11:28:13.439Z"
   },
   {
    "duration": 81,
    "start_time": "2023-01-07T11:28:45.572Z"
   },
   {
    "duration": 85,
    "start_time": "2023-01-07T11:28:48.293Z"
   },
   {
    "duration": 80,
    "start_time": "2023-01-07T11:28:57.500Z"
   },
   {
    "duration": 80,
    "start_time": "2023-01-07T11:29:00.749Z"
   },
   {
    "duration": 78,
    "start_time": "2023-01-07T11:29:10.435Z"
   },
   {
    "duration": 81,
    "start_time": "2023-01-07T11:29:13.476Z"
   },
   {
    "duration": 82,
    "start_time": "2023-01-07T11:29:17.357Z"
   },
   {
    "duration": 81,
    "start_time": "2023-01-07T11:29:21.084Z"
   },
   {
    "duration": 7,
    "start_time": "2023-01-07T11:30:55.866Z"
   },
   {
    "duration": 146,
    "start_time": "2023-01-07T11:31:59.038Z"
   },
   {
    "duration": 118,
    "start_time": "2023-01-07T11:32:02.250Z"
   },
   {
    "duration": 103,
    "start_time": "2023-01-07T11:32:28.135Z"
   },
   {
    "duration": 79,
    "start_time": "2023-01-07T11:35:51.910Z"
   },
   {
    "duration": 80,
    "start_time": "2023-01-07T11:36:19.242Z"
   },
   {
    "duration": 80,
    "start_time": "2023-01-07T11:36:36.511Z"
   },
   {
    "duration": 82,
    "start_time": "2023-01-07T11:36:41.294Z"
   },
   {
    "duration": 81,
    "start_time": "2023-01-07T11:36:46.439Z"
   },
   {
    "duration": 80,
    "start_time": "2023-01-07T11:36:49.230Z"
   },
   {
    "duration": 78,
    "start_time": "2023-01-07T11:37:12.236Z"
   },
   {
    "duration": 86,
    "start_time": "2023-01-07T11:37:16.213Z"
   },
   {
    "duration": 128,
    "start_time": "2023-01-07T11:37:58.233Z"
   },
   {
    "duration": 80,
    "start_time": "2023-01-07T11:38:03.877Z"
   },
   {
    "duration": 79,
    "start_time": "2023-01-07T11:39:56.219Z"
   },
   {
    "duration": 80,
    "start_time": "2023-01-07T11:39:59.140Z"
   },
   {
    "duration": 84,
    "start_time": "2023-01-07T11:41:58.970Z"
   },
   {
    "duration": 140,
    "start_time": "2023-01-07T11:42:23.858Z"
   },
   {
    "duration": 80,
    "start_time": "2023-01-07T11:42:29.338Z"
   },
   {
    "duration": 99,
    "start_time": "2023-01-07T11:43:05.986Z"
   },
   {
    "duration": 83,
    "start_time": "2023-01-07T11:43:11.594Z"
   },
   {
    "duration": 83,
    "start_time": "2023-01-07T11:43:13.017Z"
   },
   {
    "duration": 84,
    "start_time": "2023-01-07T11:43:20.777Z"
   },
   {
    "duration": 81,
    "start_time": "2023-01-07T11:46:16.610Z"
   },
   {
    "duration": 90,
    "start_time": "2023-01-07T11:47:14.223Z"
   }
  ],
  "kernelspec": {
   "display_name": "Python 3 (ipykernel)",
   "language": "python",
   "name": "python3"
  },
  "language_info": {
   "codemirror_mode": {
    "name": "ipython",
    "version": 3
   },
   "file_extension": ".py",
   "mimetype": "text/x-python",
   "name": "python",
   "nbconvert_exporter": "python",
   "pygments_lexer": "ipython3",
   "version": "3.9.12"
  },
  "toc": {
   "base_numbering": 1,
   "nav_menu": {
    "height": "395px",
    "width": "681px"
   },
   "number_sections": true,
   "sideBar": true,
   "skip_h1_title": true,
   "title_cell": "Table of Contents",
   "title_sidebar": "Contents",
   "toc_cell": true,
   "toc_position": {},
   "toc_section_display": true,
   "toc_window_display": false
  }
 },
 "nbformat": 4,
 "nbformat_minor": 5
}
