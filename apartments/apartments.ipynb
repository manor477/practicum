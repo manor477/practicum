{
 "cells": [
  {
   "cell_type": "markdown",
   "metadata": {},
   "source": [
    "# Исследование объявлений о продаже квартир\n",
    "\n",
    "В вашем распоряжении данные сервиса Яндекс.Недвижимость — архив объявлений о продаже квартир в Санкт-Петербурге и соседних населённых пунктов за несколько лет. Нужно научиться определять рыночную стоимость объектов недвижимости. Ваша задача — установить параметры. Это позволит построить автоматизированную систему: она отследит аномалии и мошенническую деятельность. \n",
    "\n",
    "По каждой квартире на продажу доступны два вида данных. Первые вписаны пользователем, вторые — получены автоматически на основе картографических данных. Например, расстояние до центра, аэропорта, ближайшего парка и водоёма. "
   ]
  },
  {
   "cell_type": "markdown",
   "metadata": {},
   "source": [
    "## Откройте файл с данными и изучите общую информацию. "
   ]
  },
  {
   "cell_type": "markdown",
   "metadata": {},
   "source": [
    "### Ознакомление с датафреймом."
   ]
  },
  {
   "cell_type": "markdown",
   "metadata": {},
   "source": [
    "Импортируем библиотеку `pandas` и читаем данные датафрейма."
   ]
  },
  {
   "cell_type": "code",
   "execution_count": 3,
   "metadata": {
    "scrolled": true
   },
   "outputs": [
    {
     "name": "stdout",
     "output_type": "stream",
     "text": [
      "<class 'pandas.core.frame.DataFrame'>\n",
      "RangeIndex: 23699 entries, 0 to 23698\n",
      "Data columns (total 22 columns):\n",
      " #   Column                Non-Null Count  Dtype  \n",
      "---  ------                --------------  -----  \n",
      " 0   total_images          23699 non-null  int64  \n",
      " 1   last_price            23699 non-null  float64\n",
      " 2   total_area            23699 non-null  float64\n",
      " 3   first_day_exposition  23699 non-null  object \n",
      " 4   rooms                 23699 non-null  int64  \n",
      " 5   ceiling_height        14504 non-null  float64\n",
      " 6   floors_total          23613 non-null  float64\n",
      " 7   living_area           21796 non-null  float64\n",
      " 8   floor                 23699 non-null  int64  \n",
      " 9   is_apartment          2775 non-null   object \n",
      " 10  studio                23699 non-null  bool   \n",
      " 11  open_plan             23699 non-null  bool   \n",
      " 12  kitchen_area          21421 non-null  float64\n",
      " 13  balcony               12180 non-null  float64\n",
      " 14  locality_name         23650 non-null  object \n",
      " 15  airports_nearest      18157 non-null  float64\n",
      " 16  cityCenters_nearest   18180 non-null  float64\n",
      " 17  parks_around3000      18181 non-null  float64\n",
      " 18  parks_nearest         8079 non-null   float64\n",
      " 19  ponds_around3000      18181 non-null  float64\n",
      " 20  ponds_nearest         9110 non-null   float64\n",
      " 21  days_exposition       20518 non-null  float64\n",
      "dtypes: bool(2), float64(14), int64(3), object(3)\n",
      "memory usage: 3.7+ MB\n"
     ]
    },
    {
     "data": {
      "text/html": [
       "<div>\n",
       "<style scoped>\n",
       "    .dataframe tbody tr th:only-of-type {\n",
       "        vertical-align: middle;\n",
       "    }\n",
       "\n",
       "    .dataframe tbody tr th {\n",
       "        vertical-align: top;\n",
       "    }\n",
       "\n",
       "    .dataframe thead th {\n",
       "        text-align: right;\n",
       "    }\n",
       "</style>\n",
       "<table border=\"1\" class=\"dataframe\">\n",
       "  <thead>\n",
       "    <tr style=\"text-align: right;\">\n",
       "      <th></th>\n",
       "      <th>total_images</th>\n",
       "      <th>last_price</th>\n",
       "      <th>total_area</th>\n",
       "      <th>first_day_exposition</th>\n",
       "      <th>rooms</th>\n",
       "      <th>ceiling_height</th>\n",
       "      <th>floors_total</th>\n",
       "      <th>living_area</th>\n",
       "      <th>floor</th>\n",
       "      <th>is_apartment</th>\n",
       "      <th>...</th>\n",
       "      <th>kitchen_area</th>\n",
       "      <th>balcony</th>\n",
       "      <th>locality_name</th>\n",
       "      <th>airports_nearest</th>\n",
       "      <th>cityCenters_nearest</th>\n",
       "      <th>parks_around3000</th>\n",
       "      <th>parks_nearest</th>\n",
       "      <th>ponds_around3000</th>\n",
       "      <th>ponds_nearest</th>\n",
       "      <th>days_exposition</th>\n",
       "    </tr>\n",
       "  </thead>\n",
       "  <tbody>\n",
       "    <tr>\n",
       "      <th>0</th>\n",
       "      <td>20</td>\n",
       "      <td>13000000.0</td>\n",
       "      <td>108.0</td>\n",
       "      <td>2019-03-07T00:00:00</td>\n",
       "      <td>3</td>\n",
       "      <td>2.70</td>\n",
       "      <td>16.0</td>\n",
       "      <td>51.0</td>\n",
       "      <td>8</td>\n",
       "      <td>NaN</td>\n",
       "      <td>...</td>\n",
       "      <td>25.0</td>\n",
       "      <td>NaN</td>\n",
       "      <td>Санкт-Петербург</td>\n",
       "      <td>18863.0</td>\n",
       "      <td>16028.0</td>\n",
       "      <td>1.0</td>\n",
       "      <td>482.0</td>\n",
       "      <td>2.0</td>\n",
       "      <td>755.0</td>\n",
       "      <td>NaN</td>\n",
       "    </tr>\n",
       "    <tr>\n",
       "      <th>1</th>\n",
       "      <td>7</td>\n",
       "      <td>3350000.0</td>\n",
       "      <td>40.4</td>\n",
       "      <td>2018-12-04T00:00:00</td>\n",
       "      <td>1</td>\n",
       "      <td>NaN</td>\n",
       "      <td>11.0</td>\n",
       "      <td>18.6</td>\n",
       "      <td>1</td>\n",
       "      <td>NaN</td>\n",
       "      <td>...</td>\n",
       "      <td>11.0</td>\n",
       "      <td>2.0</td>\n",
       "      <td>посёлок Шушары</td>\n",
       "      <td>12817.0</td>\n",
       "      <td>18603.0</td>\n",
       "      <td>0.0</td>\n",
       "      <td>NaN</td>\n",
       "      <td>0.0</td>\n",
       "      <td>NaN</td>\n",
       "      <td>81.0</td>\n",
       "    </tr>\n",
       "    <tr>\n",
       "      <th>2</th>\n",
       "      <td>10</td>\n",
       "      <td>5196000.0</td>\n",
       "      <td>56.0</td>\n",
       "      <td>2015-08-20T00:00:00</td>\n",
       "      <td>2</td>\n",
       "      <td>NaN</td>\n",
       "      <td>5.0</td>\n",
       "      <td>34.3</td>\n",
       "      <td>4</td>\n",
       "      <td>NaN</td>\n",
       "      <td>...</td>\n",
       "      <td>8.3</td>\n",
       "      <td>0.0</td>\n",
       "      <td>Санкт-Петербург</td>\n",
       "      <td>21741.0</td>\n",
       "      <td>13933.0</td>\n",
       "      <td>1.0</td>\n",
       "      <td>90.0</td>\n",
       "      <td>2.0</td>\n",
       "      <td>574.0</td>\n",
       "      <td>558.0</td>\n",
       "    </tr>\n",
       "    <tr>\n",
       "      <th>3</th>\n",
       "      <td>0</td>\n",
       "      <td>64900000.0</td>\n",
       "      <td>159.0</td>\n",
       "      <td>2015-07-24T00:00:00</td>\n",
       "      <td>3</td>\n",
       "      <td>NaN</td>\n",
       "      <td>14.0</td>\n",
       "      <td>NaN</td>\n",
       "      <td>9</td>\n",
       "      <td>NaN</td>\n",
       "      <td>...</td>\n",
       "      <td>NaN</td>\n",
       "      <td>0.0</td>\n",
       "      <td>Санкт-Петербург</td>\n",
       "      <td>28098.0</td>\n",
       "      <td>6800.0</td>\n",
       "      <td>2.0</td>\n",
       "      <td>84.0</td>\n",
       "      <td>3.0</td>\n",
       "      <td>234.0</td>\n",
       "      <td>424.0</td>\n",
       "    </tr>\n",
       "    <tr>\n",
       "      <th>4</th>\n",
       "      <td>2</td>\n",
       "      <td>10000000.0</td>\n",
       "      <td>100.0</td>\n",
       "      <td>2018-06-19T00:00:00</td>\n",
       "      <td>2</td>\n",
       "      <td>3.03</td>\n",
       "      <td>14.0</td>\n",
       "      <td>32.0</td>\n",
       "      <td>13</td>\n",
       "      <td>NaN</td>\n",
       "      <td>...</td>\n",
       "      <td>41.0</td>\n",
       "      <td>NaN</td>\n",
       "      <td>Санкт-Петербург</td>\n",
       "      <td>31856.0</td>\n",
       "      <td>8098.0</td>\n",
       "      <td>2.0</td>\n",
       "      <td>112.0</td>\n",
       "      <td>1.0</td>\n",
       "      <td>48.0</td>\n",
       "      <td>121.0</td>\n",
       "    </tr>\n",
       "  </tbody>\n",
       "</table>\n",
       "<p>5 rows × 22 columns</p>\n",
       "</div>"
      ],
      "text/plain": [
       "   total_images  last_price  total_area first_day_exposition  rooms  \\\n",
       "0            20  13000000.0       108.0  2019-03-07T00:00:00      3   \n",
       "1             7   3350000.0        40.4  2018-12-04T00:00:00      1   \n",
       "2            10   5196000.0        56.0  2015-08-20T00:00:00      2   \n",
       "3             0  64900000.0       159.0  2015-07-24T00:00:00      3   \n",
       "4             2  10000000.0       100.0  2018-06-19T00:00:00      2   \n",
       "\n",
       "   ceiling_height  floors_total  living_area  floor is_apartment  ...  \\\n",
       "0            2.70          16.0         51.0      8          NaN  ...   \n",
       "1             NaN          11.0         18.6      1          NaN  ...   \n",
       "2             NaN           5.0         34.3      4          NaN  ...   \n",
       "3             NaN          14.0          NaN      9          NaN  ...   \n",
       "4            3.03          14.0         32.0     13          NaN  ...   \n",
       "\n",
       "   kitchen_area  balcony    locality_name  airports_nearest  \\\n",
       "0          25.0      NaN  Санкт-Петербург           18863.0   \n",
       "1          11.0      2.0   посёлок Шушары           12817.0   \n",
       "2           8.3      0.0  Санкт-Петербург           21741.0   \n",
       "3           NaN      0.0  Санкт-Петербург           28098.0   \n",
       "4          41.0      NaN  Санкт-Петербург           31856.0   \n",
       "\n",
       "  cityCenters_nearest  parks_around3000  parks_nearest  ponds_around3000  \\\n",
       "0             16028.0               1.0          482.0               2.0   \n",
       "1             18603.0               0.0            NaN               0.0   \n",
       "2             13933.0               1.0           90.0               2.0   \n",
       "3              6800.0               2.0           84.0               3.0   \n",
       "4              8098.0               2.0          112.0               1.0   \n",
       "\n",
       "   ponds_nearest  days_exposition  \n",
       "0          755.0              NaN  \n",
       "1            NaN             81.0  \n",
       "2          574.0            558.0  \n",
       "3          234.0            424.0  \n",
       "4           48.0            121.0  \n",
       "\n",
       "[5 rows x 22 columns]"
      ]
     },
     "execution_count": 3,
     "metadata": {},
     "output_type": "execute_result"
    }
   ],
   "source": [
    "import pandas as pd\n",
    "import numpy as np\n",
    "import matplotlib.pyplot as plt\n",
    "from textwrap import wrap\n",
    "\n",
    "# создание переменной для промежуточного итога шага 2\n",
    "artifact_data = pd.read_csv('https://code.s3.yandex.net/datasets/real_estate_data.csv', sep='\\t')\n",
    "\n",
    "data = pd.read_csv('https://code.s3.yandex.net/datasets/real_estate_data.csv', sep='\\t')\n",
    "\n",
    "data.info()\n",
    "data.head()"
   ]
  },
  {
   "cell_type": "markdown",
   "metadata": {},
   "source": [
    "### Построение гисторамм для наглядности.\n",
    "Строим гистограммы каждого столбца типа `int`."
   ]
  },
  {
   "cell_type": "code",
   "execution_count": 4,
   "metadata": {
    "scrolled": false
   },
   "outputs": [
    {
     "data": {
      "image/png": "[encoded data removed]",
      "text/plain": [
       "<Figure size 1080x1440 with 20 Axes>"
      ]
     },
     "metadata": {
      "needs_background": "light"
     },
     "output_type": "display_data"
    }
   ],
   "source": [
    "data.hist(figsize=(15, 20));"
   ]
  },
  {
   "cell_type": "markdown",
   "metadata": {},
   "source": [
    "### Применение метода `describe()`.\n",
    "Вывод на экран список характерных значений."
   ]
  },
  {
   "cell_type": "code",
   "execution_count": 5,
   "metadata": {},
   "outputs": [
    {
     "data": {
      "text/html": [
       "<div>\n",
       "<style scoped>\n",
       "    .dataframe tbody tr th:only-of-type {\n",
       "        vertical-align: middle;\n",
       "    }\n",
       "\n",
       "    .dataframe tbody tr th {\n",
       "        vertical-align: top;\n",
       "    }\n",
       "\n",
       "    .dataframe thead th {\n",
       "        text-align: right;\n",
       "    }\n",
       "</style>\n",
       "<table border=\"1\" class=\"dataframe\">\n",
       "  <thead>\n",
       "    <tr style=\"text-align: right;\">\n",
       "      <th></th>\n",
       "      <th>total_images</th>\n",
       "      <th>last_price</th>\n",
       "      <th>total_area</th>\n",
       "      <th>rooms</th>\n",
       "      <th>ceiling_height</th>\n",
       "      <th>floors_total</th>\n",
       "      <th>living_area</th>\n",
       "      <th>floor</th>\n",
       "      <th>kitchen_area</th>\n",
       "      <th>balcony</th>\n",
       "      <th>airports_nearest</th>\n",
       "      <th>cityCenters_nearest</th>\n",
       "      <th>parks_around3000</th>\n",
       "      <th>parks_nearest</th>\n",
       "      <th>ponds_around3000</th>\n",
       "      <th>ponds_nearest</th>\n",
       "      <th>days_exposition</th>\n",
       "    </tr>\n",
       "  </thead>\n",
       "  <tbody>\n",
       "    <tr>\n",
       "      <th>count</th>\n",
       "      <td>23699.000000</td>\n",
       "      <td>2.369900e+04</td>\n",
       "      <td>23699.000000</td>\n",
       "      <td>23699.000000</td>\n",
       "      <td>14504.000000</td>\n",
       "      <td>23613.000000</td>\n",
       "      <td>21796.000000</td>\n",
       "      <td>23699.000000</td>\n",
       "      <td>21421.000000</td>\n",
       "      <td>12180.000000</td>\n",
       "      <td>18157.000000</td>\n",
       "      <td>18180.000000</td>\n",
       "      <td>18181.000000</td>\n",
       "      <td>8079.000000</td>\n",
       "      <td>18181.000000</td>\n",
       "      <td>9110.000000</td>\n",
       "      <td>20518.000000</td>\n",
       "    </tr>\n",
       "    <tr>\n",
       "      <th>mean</th>\n",
       "      <td>9.858475</td>\n",
       "      <td>6.541549e+06</td>\n",
       "      <td>60.348651</td>\n",
       "      <td>2.070636</td>\n",
       "      <td>2.771499</td>\n",
       "      <td>10.673824</td>\n",
       "      <td>34.457852</td>\n",
       "      <td>5.892358</td>\n",
       "      <td>10.569807</td>\n",
       "      <td>1.150082</td>\n",
       "      <td>28793.672193</td>\n",
       "      <td>14191.277833</td>\n",
       "      <td>0.611408</td>\n",
       "      <td>490.804555</td>\n",
       "      <td>0.770255</td>\n",
       "      <td>517.980900</td>\n",
       "      <td>180.888634</td>\n",
       "    </tr>\n",
       "    <tr>\n",
       "      <th>std</th>\n",
       "      <td>5.682529</td>\n",
       "      <td>1.088701e+07</td>\n",
       "      <td>35.654083</td>\n",
       "      <td>1.078405</td>\n",
       "      <td>1.261056</td>\n",
       "      <td>6.597173</td>\n",
       "      <td>22.030445</td>\n",
       "      <td>4.885249</td>\n",
       "      <td>5.905438</td>\n",
       "      <td>1.071300</td>\n",
       "      <td>12630.880622</td>\n",
       "      <td>8608.386210</td>\n",
       "      <td>0.802074</td>\n",
       "      <td>342.317995</td>\n",
       "      <td>0.938346</td>\n",
       "      <td>277.720643</td>\n",
       "      <td>219.727988</td>\n",
       "    </tr>\n",
       "    <tr>\n",
       "      <th>min</th>\n",
       "      <td>0.000000</td>\n",
       "      <td>1.219000e+04</td>\n",
       "      <td>12.000000</td>\n",
       "      <td>0.000000</td>\n",
       "      <td>1.000000</td>\n",
       "      <td>1.000000</td>\n",
       "      <td>2.000000</td>\n",
       "      <td>1.000000</td>\n",
       "      <td>1.300000</td>\n",
       "      <td>0.000000</td>\n",
       "      <td>0.000000</td>\n",
       "      <td>181.000000</td>\n",
       "      <td>0.000000</td>\n",
       "      <td>1.000000</td>\n",
       "      <td>0.000000</td>\n",
       "      <td>13.000000</td>\n",
       "      <td>1.000000</td>\n",
       "    </tr>\n",
       "    <tr>\n",
       "      <th>25%</th>\n",
       "      <td>6.000000</td>\n",
       "      <td>3.400000e+06</td>\n",
       "      <td>40.000000</td>\n",
       "      <td>1.000000</td>\n",
       "      <td>2.520000</td>\n",
       "      <td>5.000000</td>\n",
       "      <td>18.600000</td>\n",
       "      <td>2.000000</td>\n",
       "      <td>7.000000</td>\n",
       "      <td>0.000000</td>\n",
       "      <td>18585.000000</td>\n",
       "      <td>9238.000000</td>\n",
       "      <td>0.000000</td>\n",
       "      <td>288.000000</td>\n",
       "      <td>0.000000</td>\n",
       "      <td>294.000000</td>\n",
       "      <td>45.000000</td>\n",
       "    </tr>\n",
       "    <tr>\n",
       "      <th>50%</th>\n",
       "      <td>9.000000</td>\n",
       "      <td>4.650000e+06</td>\n",
       "      <td>52.000000</td>\n",
       "      <td>2.000000</td>\n",
       "      <td>2.650000</td>\n",
       "      <td>9.000000</td>\n",
       "      <td>30.000000</td>\n",
       "      <td>4.000000</td>\n",
       "      <td>9.100000</td>\n",
       "      <td>1.000000</td>\n",
       "      <td>26726.000000</td>\n",
       "      <td>13098.500000</td>\n",
       "      <td>0.000000</td>\n",
       "      <td>455.000000</td>\n",
       "      <td>1.000000</td>\n",
       "      <td>502.000000</td>\n",
       "      <td>95.000000</td>\n",
       "    </tr>\n",
       "    <tr>\n",
       "      <th>75%</th>\n",
       "      <td>14.000000</td>\n",
       "      <td>6.800000e+06</td>\n",
       "      <td>69.900000</td>\n",
       "      <td>3.000000</td>\n",
       "      <td>2.800000</td>\n",
       "      <td>16.000000</td>\n",
       "      <td>42.300000</td>\n",
       "      <td>8.000000</td>\n",
       "      <td>12.000000</td>\n",
       "      <td>2.000000</td>\n",
       "      <td>37273.000000</td>\n",
       "      <td>16293.000000</td>\n",
       "      <td>1.000000</td>\n",
       "      <td>612.000000</td>\n",
       "      <td>1.000000</td>\n",
       "      <td>729.000000</td>\n",
       "      <td>232.000000</td>\n",
       "    </tr>\n",
       "    <tr>\n",
       "      <th>max</th>\n",
       "      <td>50.000000</td>\n",
       "      <td>7.630000e+08</td>\n",
       "      <td>900.000000</td>\n",
       "      <td>19.000000</td>\n",
       "      <td>100.000000</td>\n",
       "      <td>60.000000</td>\n",
       "      <td>409.700000</td>\n",
       "      <td>33.000000</td>\n",
       "      <td>112.000000</td>\n",
       "      <td>5.000000</td>\n",
       "      <td>84869.000000</td>\n",
       "      <td>65968.000000</td>\n",
       "      <td>3.000000</td>\n",
       "      <td>3190.000000</td>\n",
       "      <td>3.000000</td>\n",
       "      <td>1344.000000</td>\n",
       "      <td>1580.000000</td>\n",
       "    </tr>\n",
       "  </tbody>\n",
       "</table>\n",
       "</div>"
      ],
      "text/plain": [
       "       total_images    last_price    total_area         rooms  ceiling_height  \\\n",
       "count  23699.000000  2.369900e+04  23699.000000  23699.000000    14504.000000   \n",
       "mean       9.858475  6.541549e+06     60.348651      2.070636        2.771499   \n",
       "std        5.682529  1.088701e+07     35.654083      1.078405        1.261056   \n",
       "min        0.000000  1.219000e+04     12.000000      0.000000        1.000000   \n",
       "25%        6.000000  3.400000e+06     40.000000      1.000000        2.520000   \n",
       "50%        9.000000  4.650000e+06     52.000000      2.000000        2.650000   \n",
       "75%       14.000000  6.800000e+06     69.900000      3.000000        2.800000   \n",
       "max       50.000000  7.630000e+08    900.000000     19.000000      100.000000   \n",
       "\n",
       "       floors_total   living_area         floor  kitchen_area       balcony  \\\n",
       "count  23613.000000  21796.000000  23699.000000  21421.000000  12180.000000   \n",
       "mean      10.673824     34.457852      5.892358     10.569807      1.150082   \n",
       "std        6.597173     22.030445      4.885249      5.905438      1.071300   \n",
       "min        1.000000      2.000000      1.000000      1.300000      0.000000   \n",
       "25%        5.000000     18.600000      2.000000      7.000000      0.000000   \n",
       "50%        9.000000     30.000000      4.000000      9.100000      1.000000   \n",
       "75%       16.000000     42.300000      8.000000     12.000000      2.000000   \n",
       "max       60.000000    409.700000     33.000000    112.000000      5.000000   \n",
       "\n",
       "       airports_nearest  cityCenters_nearest  parks_around3000  parks_nearest  \\\n",
       "count      18157.000000         18180.000000      18181.000000    8079.000000   \n",
       "mean       28793.672193         14191.277833          0.611408     490.804555   \n",
       "std        12630.880622          8608.386210          0.802074     342.317995   \n",
       "min            0.000000           181.000000          0.000000       1.000000   \n",
       "25%        18585.000000          9238.000000          0.000000     288.000000   \n",
       "50%        26726.000000         13098.500000          0.000000     455.000000   \n",
       "75%        37273.000000         16293.000000          1.000000     612.000000   \n",
       "max        84869.000000         65968.000000          3.000000    3190.000000   \n",
       "\n",
       "       ponds_around3000  ponds_nearest  days_exposition  \n",
       "count      18181.000000    9110.000000     20518.000000  \n",
       "mean           0.770255     517.980900       180.888634  \n",
       "std            0.938346     277.720643       219.727988  \n",
       "min            0.000000      13.000000         1.000000  \n",
       "25%            0.000000     294.000000        45.000000  \n",
       "50%            1.000000     502.000000        95.000000  \n",
       "75%            1.000000     729.000000       232.000000  \n",
       "max            3.000000    1344.000000      1580.000000  "
      ]
     },
     "execution_count": 5,
     "metadata": {},
     "output_type": "execute_result"
    }
   ],
   "source": [
    "data.describe()"
   ]
  },
  {
   "cell_type": "markdown",
   "metadata": {},
   "source": [
    "## Предобработка данных."
   ]
  },
  {
   "cell_type": "markdown",
   "metadata": {},
   "source": [
    "### Вывод  пропущенных значений для каждого столбца и с дальнейшим заполнением пропусков в них."
   ]
  },
  {
   "cell_type": "code",
   "execution_count": 6,
   "metadata": {
    "scrolled": false
   },
   "outputs": [
    {
     "data": {
      "text/plain": [
       "total_images                0\n",
       "last_price                  0\n",
       "total_area                  0\n",
       "first_day_exposition        0\n",
       "rooms                       0\n",
       "ceiling_height           9195\n",
       "floors_total               86\n",
       "living_area              1903\n",
       "floor                       0\n",
       "is_apartment            20924\n",
       "studio                      0\n",
       "open_plan                   0\n",
       "kitchen_area             2278\n",
       "balcony                 11519\n",
       "locality_name              49\n",
       "airports_nearest         5542\n",
       "cityCenters_nearest      5519\n",
       "parks_around3000         5518\n",
       "parks_nearest           15620\n",
       "ponds_around3000         5518\n",
       "ponds_nearest           14589\n",
       "days_exposition          3181\n",
       "dtype: int64"
      ]
     },
     "execution_count": 6,
     "metadata": {},
     "output_type": "execute_result"
    }
   ],
   "source": [
    "data.isna().sum()"
   ]
  },
  {
   "cell_type": "code",
   "execution_count": 1,
   "metadata": {},
   "outputs": [],
   "source": [
    "# check\n",
    "# пропущенные значения бары\n",
    "\n",
    "def pass_value_barh(df):\n",
    "    (\n",
    "        (df.isna().mean()*100)\n",
    "        .to_frame()\n",
    "        .rename(columns = {0:'space'})\n",
    "        .query('space > 0')\n",
    "        .sort_values(by = 'space', ascending = True)\n",
    "        .plot(kind= 'barh', figsize=(19,6), rot = -5, legend = False, fontsize = 16)\n",
    "        .set_title('Пропуски' + \"\\n\", fontsize = 22, color = 'SteelBlue')    \n",
    "    );    "
   ]
  },
  {
   "cell_type": "code",
   "execution_count": 7,
   "metadata": {
    "scrolled": false
   },
   "outputs": [
    {
     "data": {
      "image/png": "[encoded data removed]",
      "text/plain": [
       "<Figure size 1368x432 with 1 Axes>"
      ]
     },
     "metadata": {
      "needs_background": "light"
     },
     "output_type": "display_data"
    }
   ],
   "source": [
    "pass_value_barh(data)"
   ]
  },
  {
   "cell_type": "markdown",
   "metadata": {},
   "source": [
    "Изменим название столбца `cityCenters_nearest` и приведём к общему виду."
   ]
  },
  {
   "cell_type": "code",
   "execution_count": 8,
   "metadata": {},
   "outputs": [],
   "source": [
    "data = data.rename(columns={'cityCenters_nearest': 'city_centers_nearest'})"
   ]
  },
  {
   "cell_type": "markdown",
   "metadata": {},
   "source": [
    "Пропущенные данные в высоте потолков заполняем медианным значением из записей с тем же типом."
   ]
  },
  {
   "cell_type": "code",
   "execution_count": 9,
   "metadata": {},
   "outputs": [
    {
     "name": "stderr",
     "output_type": "stream",
     "text": [
      "/opt/conda/lib/python3.9/site-packages/numpy/lib/nanfunctions.py:1117: RuntimeWarning: Mean of empty slice\n",
      "  return np.nanmean(a, axis, out=out, keepdims=keepdims)\n"
     ]
    }
   ],
   "source": [
    "# заполняем ceiling_height медианным значением среди всех записей с тем же типом\n",
    "for i in data['floors_total'].unique(): \n",
    "    data.loc[(data['floors_total'] == i) & (data['ceiling_height'].isna()), 'ceiling_height'] = \\\n",
    "    data.loc[(data['floors_total'] == i), 'ceiling_height'].median() "
   ]
  },
  {
   "cell_type": "markdown",
   "metadata": {},
   "source": [
    "Избавляемся от пропусков в разных колонках датафрейма."
   ]
  },
  {
   "cell_type": "code",
   "execution_count": 10,
   "metadata": {},
   "outputs": [],
   "source": [
    "# заполнение всех пропусков в столбце \"балконы\" на \"0\", раз не указано, значит нет\n",
    "data['balcony'] = data['balcony'].fillna(0)\n",
    "\n",
    "# заполняем все пропуски 0, т.к. всё равно значения пропущены \n",
    "# а если 0 или Nan, то нам это не даёт никакой информации\n",
    "data['ponds_around3000'] = data['ponds_around3000'].fillna(0) \n",
    "\n",
    "# аналогично заполнению выше\n",
    "data['parks_around3000'] = data['parks_around3000'].fillna(0) \n",
    "\n",
    "# удаляем строки, в которых в столбце locality_name встречается NaN \n",
    "#(их всего было 48 штук, поэтому сильно не повлияет на данные)\n",
    "data = data.dropna(subset=['locality_name']) \n",
    "\n",
    "# удаляем 9 строк, где нет количества этажей в здании \n",
    "# (также небольшое количество строк не повлияет на анализ)\n",
    "data = data.dropna(subset=['floors_total']) "
   ]
  },
  {
   "cell_type": "markdown",
   "metadata": {},
   "source": [
    "Заполняем пропуски для столбцов `kitchen_area, living_area`. Сначала вычисляем среднее отношение `жилой` и `кухонной` площадей к общей, затем в строках с пропусками умножаем общую площадь на этот коэффициент, получая необходимую площадь для заполнения пустот."
   ]
  },
  {
   "cell_type": "code",
   "execution_count": 11,
   "metadata": {},
   "outputs": [],
   "source": [
    "# создаём переменную с вычислением среднего отношения жилой площади к общей\n",
    "ratio_living_area = (data['living_area'] / data['total_area']).mean()\n",
    "\n",
    "# заполняем пустоты столбца 'living_area' умножением общей площади на коэффициент среднего отношения\n",
    "data.loc[(data['living_area'].isna()), 'living_area'] = \\\n",
    "data.loc[(data['living_area'].isna()), 'total_area'] * ratio_living_area * 0.9\n",
    "\n",
    "# создаём переменную с вычислением среднего отношения кухонной площади к общей\n",
    "ratio_kitchen_area = (data['kitchen_area'] / data['total_area']).mean()\n",
    "\n",
    "# заполняем пустоты столбца 'kitchen_area' умножением общей площади на коэффициент среднего отношения\n",
    "data.loc[(data['kitchen_area'].isna()), 'kitchen_area'] = \\\n",
    "data.loc[(data['kitchen_area'].isna()), 'total_area'] * ratio_kitchen_area * 0.9"
   ]
  },
  {
   "cell_type": "code",
   "execution_count": 12,
   "metadata": {},
   "outputs": [],
   "source": [
    "# сделаем колонку по сумме жилой и кухонной площадей\n",
    "data['check_area_ratio'] = data['kitchen_area'] + data['living_area']"
   ]
  },
  {
   "cell_type": "code",
   "execution_count": 13,
   "metadata": {},
   "outputs": [],
   "source": [
    "# сравниваем общую площадь и колонку с суммой жилой и кухонной\n",
    "# если общая площадь больше и не равна суммарной площади жилая+кухонная, то присваиваем значение True \n",
    "data['compare_totalarea_ratio'] = np.where((data['total_area'] >= data['check_area_ratio']) & \n",
    "                                           data['total_area'] != data['check_area_ratio'], True, False)"
   ]
  },
  {
   "cell_type": "code",
   "execution_count": 14,
   "metadata": {},
   "outputs": [
    {
     "data": {
      "text/plain": [
       "1"
      ]
     },
     "execution_count": 14,
     "metadata": {},
     "output_type": "execute_result"
    }
   ],
   "source": [
    "# проверим значения True и False\n",
    "data['compare_totalarea_ratio'].nunique()"
   ]
  },
  {
   "cell_type": "code",
   "execution_count": 15,
   "metadata": {},
   "outputs": [
    {
     "data": {
      "text/html": [
       "<style  type=\"text/css\" >\n",
       "</style><table id=\"T_d6350_\" ><thead>    <tr>        <th class=\"blank level0\" ></th>        <th class=\"col_heading level0 col0\" >total_area</th>        <th class=\"col_heading level0 col1\" >check_area_ratio</th>    </tr></thead><tbody>\n",
       "                <tr>\n",
       "                        <th id=\"T_d6350_level0_row0\" class=\"row_heading level0 row0\" >count</th>\n",
       "                        <td id=\"T_d6350_row0_col0\" class=\"data row0 col0\" >23,565.00</td>\n",
       "                        <td id=\"T_d6350_row0_col1\" class=\"data row0 col1\" >23,565.00</td>\n",
       "            </tr>\n",
       "            <tr>\n",
       "                        <th id=\"T_d6350_level0_row1\" class=\"row_heading level0 row1\" >min</th>\n",
       "                        <td id=\"T_d6350_row1_col0\" class=\"data row1 col0\" >12.00</td>\n",
       "                        <td id=\"T_d6350_row1_col1\" class=\"data row1 col1\" >5.88</td>\n",
       "            </tr>\n",
       "            <tr>\n",
       "                        <th id=\"T_d6350_level0_row2\" class=\"row_heading level0 row2\" >max</th>\n",
       "                        <td id=\"T_d6350_row2_col0\" class=\"data row2 col0\" >900.00</td>\n",
       "                        <td id=\"T_d6350_row2_col1\" class=\"data row2 col1\" >521.70</td>\n",
       "            </tr>\n",
       "    </tbody></table>"
      ],
      "text/plain": [
       "<pandas.io.formats.style.Styler at 0x7fdda74bc7c0>"
      ]
     },
     "execution_count": 15,
     "metadata": {},
     "output_type": "execute_result"
    }
   ],
   "source": [
    "# минимальные и максимальные показатели в колонках \n",
    "(\n",
    "    data[['total_area', 'check_area_ratio']]\n",
    "    .apply (['count', 'min', 'max'])   \n",
    "    .style.format(\"{:,.2f}\")\n",
    ")"
   ]
  },
  {
   "cell_type": "code",
   "execution_count": 16,
   "metadata": {},
   "outputs": [
    {
     "data": {
      "text/html": [
       "<div>\n",
       "<style scoped>\n",
       "    .dataframe tbody tr th:only-of-type {\n",
       "        vertical-align: middle;\n",
       "    }\n",
       "\n",
       "    .dataframe tbody tr th {\n",
       "        vertical-align: top;\n",
       "    }\n",
       "\n",
       "    .dataframe thead th {\n",
       "        text-align: right;\n",
       "    }\n",
       "</style>\n",
       "<table border=\"1\" class=\"dataframe\">\n",
       "  <thead>\n",
       "    <tr style=\"text-align: right;\">\n",
       "      <th></th>\n",
       "      <th>total_area</th>\n",
       "      <th>living_area</th>\n",
       "      <th>kitchen_area</th>\n",
       "    </tr>\n",
       "  </thead>\n",
       "  <tbody>\n",
       "    <tr>\n",
       "      <th>41</th>\n",
       "      <td>74.0</td>\n",
       "      <td>59.0</td>\n",
       "      <td>12.0</td>\n",
       "    </tr>\n",
       "    <tr>\n",
       "      <th>171</th>\n",
       "      <td>49.0</td>\n",
       "      <td>38.0</td>\n",
       "      <td>10.0</td>\n",
       "    </tr>\n",
       "    <tr>\n",
       "      <th>184</th>\n",
       "      <td>30.2</td>\n",
       "      <td>26.1</td>\n",
       "      <td>6.2</td>\n",
       "    </tr>\n",
       "    <tr>\n",
       "      <th>220</th>\n",
       "      <td>37.0</td>\n",
       "      <td>28.0</td>\n",
       "      <td>9.0</td>\n",
       "    </tr>\n",
       "    <tr>\n",
       "      <th>319</th>\n",
       "      <td>59.7</td>\n",
       "      <td>47.4</td>\n",
       "      <td>6.4</td>\n",
       "    </tr>\n",
       "    <tr>\n",
       "      <th>...</th>\n",
       "      <td>...</td>\n",
       "      <td>...</td>\n",
       "      <td>...</td>\n",
       "    </tr>\n",
       "    <tr>\n",
       "      <th>23216</th>\n",
       "      <td>114.0</td>\n",
       "      <td>90.2</td>\n",
       "      <td>16.0</td>\n",
       "    </tr>\n",
       "    <tr>\n",
       "      <th>23297</th>\n",
       "      <td>48.2</td>\n",
       "      <td>42.2</td>\n",
       "      <td>6.0</td>\n",
       "    </tr>\n",
       "    <tr>\n",
       "      <th>23328</th>\n",
       "      <td>54.0</td>\n",
       "      <td>40.0</td>\n",
       "      <td>10.0</td>\n",
       "    </tr>\n",
       "    <tr>\n",
       "      <th>23521</th>\n",
       "      <td>65.0</td>\n",
       "      <td>44.0</td>\n",
       "      <td>15.3</td>\n",
       "    </tr>\n",
       "    <tr>\n",
       "      <th>23680</th>\n",
       "      <td>59.0</td>\n",
       "      <td>52.0</td>\n",
       "      <td>7.0</td>\n",
       "    </tr>\n",
       "  </tbody>\n",
       "</table>\n",
       "<p>624 rows × 3 columns</p>\n",
       "</div>"
      ],
      "text/plain": [
       "       total_area  living_area  kitchen_area\n",
       "41           74.0         59.0          12.0\n",
       "171          49.0         38.0          10.0\n",
       "184          30.2         26.1           6.2\n",
       "220          37.0         28.0           9.0\n",
       "319          59.7         47.4           6.4\n",
       "...           ...          ...           ...\n",
       "23216       114.0         90.2          16.0\n",
       "23297        48.2         42.2           6.0\n",
       "23328        54.0         40.0          10.0\n",
       "23521        65.0         44.0          15.3\n",
       "23680        59.0         52.0           7.0\n",
       "\n",
       "[624 rows x 3 columns]"
      ]
     },
     "execution_count": 16,
     "metadata": {},
     "output_type": "execute_result"
    }
   ],
   "source": [
    "# check\n",
    "data[data['total_area']*0.9 <= (data ['living_area']+data ['kitchen_area'])][['total_area'\n",
    "                                                                                  ,'living_area','kitchen_area']]"
   ]
  },
  {
   "cell_type": "markdown",
   "metadata": {},
   "source": [
    "### Устранение неявных дубликатов в названиях населённых пунктов.\n",
    "Приведём все типы населённых пунктов к единому именованию."
   ]
  },
  {
   "cell_type": "code",
   "execution_count": 17,
   "metadata": {},
   "outputs": [],
   "source": [
    "data = data.reset_index(drop=True)\n",
    "data.loc[:,'locality_name'] = data.loc[:,'locality_name'].replace('посёлок', 'поселок', regex=True)\n",
    "data.loc[:,'locality_name'] = data.loc[:,'locality_name'].replace('городской', '', regex=True)\n",
    "data.loc[:,'locality_name'] = data.loc[:,'locality_name'].replace('городского', '', regex=True)\n",
    "data.loc[:,'locality_name'] = data.loc[:,'locality_name'].replace('типа', '', regex=True)\n",
    "data.loc[:,'locality_name'] = data.loc[:,'locality_name'].replace('садовое товарищество', 'СНТ', regex=True)\n",
    "data.loc[:,'locality_name'] = data.loc[:,'locality_name'].replace('имени', '', regex=True)\n",
    "data.loc[:,'locality_name'] = data.loc[:,'locality_name'].replace('станции', '', regex=True)\n",
    "data.loc[:,'locality_name'] = data.loc[:,'locality_name'].replace('садоводческое некоммерческое товарищество', 'СНТ', \n",
    "                                                                  regex=True)\n",
    "data.loc[:,'locality_name'] = data.loc[:,'locality_name'].replace('при железнодорожной', '', regex=True)\n",
    "\n"
   ]
  },
  {
   "cell_type": "code",
   "execution_count": 18,
   "metadata": {},
   "outputs": [
    {
     "data": {
      "text/plain": [
       "330"
      ]
     },
     "execution_count": 18,
     "metadata": {},
     "output_type": "execute_result"
    }
   ],
   "source": [
    "# check\n",
    "data['locality_name'].nunique()"
   ]
  },
  {
   "cell_type": "markdown",
   "metadata": {},
   "source": [
    "### Изменение типов данных.\n",
    "- `first_day_exposition` - поменяем с *object* на *datetim64* т.к. это дата и время.\n",
    "- `is_apartment` - поменяем с *object* на *bool* т.к. это описание, апартаменты - Да(True) / Нет(False).\n",
    "- `floors_total` - меняем на целочисленное, не может же квартира находиться на этаже 14.3 к примеру."
   ]
  },
  {
   "cell_type": "code",
   "execution_count": 19,
   "metadata": {},
   "outputs": [],
   "source": [
    "data['first_day_exposition'] = pd.to_datetime(data['first_day_exposition'], format='%Y-%m-%dT%H:%M:%S') \n",
    "\n",
    "# заполняем пропущенные значения 0 (False), т.к. при смене типа все значения станут True\n",
    "# а так мы всё равно имеем 20 000 с небольшим пропусков в этой колонке\n",
    "# и что Nan, что False, любом случае нет достоверной информации об этом параметре\n",
    "data['is_apartment'] = data['is_apartment'].fillna(0)\n",
    "data['is_apartment'] = data['is_apartment'].astype('bool')\n",
    "\n",
    "data['floors_total'] = data['floors_total'].astype('int')"
   ]
  },
  {
   "cell_type": "markdown",
   "metadata": {},
   "source": [
    "### Избавление от аномальных значений.\n",
    "\n",
    "- `ceiling_height` - в столбце имеются значения, которые введены с ошибкой, применим замену медианой значений, что выбиваются за рамки *4.5* и *2.2* метров. Значение медианы выглядит объективным. Если пробовать значения делать, то опять же получим выбросы и придётся от них по-новому избавляться, некая рекурсия.\n",
    "- `last_price` - сортируем колонку с ценой с лимитом в 65 млн. и отсекаем значения, которые могут немного повлиять на данные (квартиры со стоимостью от 65млн до 700млн)\n",
    "- В столбце `rooms` есть аномалии с количеством комнат от 8 до 19 штук, но этих строк совсем немного и их можно оставить\n",
    "\n",
    "В остальных столбцах аномалий не замечено."
   ]
  },
  {
   "cell_type": "code",
   "execution_count": 21,
   "metadata": {},
   "outputs": [],
   "source": [
    "# Было\n",
    "\"\"\"\n",
    "# сортируем колонку по высоте потолков от 2.2 до 4.5 метров (выше уже аномалии или выбросы, например, 20, 30 метров)\n",
    "#data = data[(data['ceiling_height'] >= 2.2) & (data['ceiling_height'] <= 4.5)] \n",
    "\"\"\"\n",
    "# Стало\n",
    "\n",
    "# сортируем данные по высоте потолков от 2.2 до 4.5 метров \n",
    "data.loc[data['ceiling_height'] > 4.5, 'ceiling_height'] = data['ceiling_height'].median()\n",
    "data.loc[data['ceiling_height'] < 2.2, 'ceiling_height'] = data['ceiling_height'].median()\n",
    "\n",
    "\n",
    "# сортируем колонку по цене с лимитов в 65 млн. \n",
    "# тем самым отрезая всего 80 квартир , убирая тем самым аномальные цены\n",
    "data = data[(data['last_price'] <= 65000000)] "
   ]
  },
  {
   "cell_type": "markdown",
   "metadata": {},
   "source": [
    "Проверяем ещё раз количество оставшихся пропущенных значений для каждого столбца."
   ]
  },
  {
   "cell_type": "code",
   "execution_count": 22,
   "metadata": {},
   "outputs": [
    {
     "data": {
      "text/plain": [
       "total_images                   0\n",
       "last_price                     0\n",
       "total_area                     0\n",
       "first_day_exposition           0\n",
       "rooms                          0\n",
       "ceiling_height                 1\n",
       "floors_total                   0\n",
       "living_area                    0\n",
       "floor                          0\n",
       "is_apartment                   0\n",
       "studio                         0\n",
       "open_plan                      0\n",
       "kitchen_area                   0\n",
       "balcony                        0\n",
       "locality_name                  0\n",
       "airports_nearest            5520\n",
       "city_centers_nearest        5499\n",
       "parks_around3000               0\n",
       "parks_nearest              15514\n",
       "ponds_around3000               0\n",
       "ponds_nearest              14517\n",
       "days_exposition             3155\n",
       "check_area_ratio               0\n",
       "compare_totalarea_ratio        0\n",
       "dtype: int64"
      ]
     },
     "execution_count": 22,
     "metadata": {},
     "output_type": "execute_result"
    }
   ],
   "source": [
    "data.isna().sum()"
   ]
  },
  {
   "cell_type": "code",
   "execution_count": 23,
   "metadata": {},
   "outputs": [
    {
     "data": {
      "text/html": [
       "<style  type=\"text/css\" >\n",
       "</style><table id=\"T_17af2_\" ><thead>    <tr>        <th class=\"blank level0\" ></th>        <th class=\"col_heading level0 col0\" >rooms</th>        <th class=\"col_heading level0 col1\" >total_area</th>        <th class=\"col_heading level0 col2\" >ceiling_height</th>        <th class=\"col_heading level0 col3\" >days_exposition</th>        <th class=\"col_heading level0 col4\" >last_price</th>        <th class=\"col_heading level0 col5\" >living_area</th>        <th class=\"col_heading level0 col6\" >kitchen_area</th>        <th class=\"col_heading level0 col7\" >floor</th>        <th class=\"col_heading level0 col8\" >floors_total</th>    </tr></thead><tbody>\n",
       "                <tr>\n",
       "                        <th id=\"T_17af2_level0_row0\" class=\"row_heading level0 row0\" >count</th>\n",
       "                        <td id=\"T_17af2_row0_col0\" class=\"data row0 col0\" >23,479.00</td>\n",
       "                        <td id=\"T_17af2_row0_col1\" class=\"data row0 col1\" >23,479.00</td>\n",
       "                        <td id=\"T_17af2_row0_col2\" class=\"data row0 col2\" >23,478.00</td>\n",
       "                        <td id=\"T_17af2_row0_col3\" class=\"data row0 col3\" >20,324.00</td>\n",
       "                        <td id=\"T_17af2_row0_col4\" class=\"data row0 col4\" >23,479.00</td>\n",
       "                        <td id=\"T_17af2_row0_col5\" class=\"data row0 col5\" >23,479.00</td>\n",
       "                        <td id=\"T_17af2_row0_col6\" class=\"data row0 col6\" >23,479.00</td>\n",
       "                        <td id=\"T_17af2_row0_col7\" class=\"data row0 col7\" >23,479.00</td>\n",
       "                        <td id=\"T_17af2_row0_col8\" class=\"data row0 col8\" >23,479.00</td>\n",
       "            </tr>\n",
       "            <tr>\n",
       "                        <th id=\"T_17af2_level0_row1\" class=\"row_heading level0 row1\" >min</th>\n",
       "                        <td id=\"T_17af2_row1_col0\" class=\"data row1 col0\" >0.00</td>\n",
       "                        <td id=\"T_17af2_row1_col1\" class=\"data row1 col1\" >12.00</td>\n",
       "                        <td id=\"T_17af2_row1_col2\" class=\"data row1 col2\" >2.20</td>\n",
       "                        <td id=\"T_17af2_row1_col3\" class=\"data row1 col3\" >1.00</td>\n",
       "                        <td id=\"T_17af2_row1_col4\" class=\"data row1 col4\" >12,190.00</td>\n",
       "                        <td id=\"T_17af2_row1_col5\" class=\"data row1 col5\" >2.00</td>\n",
       "                        <td id=\"T_17af2_row1_col6\" class=\"data row1 col6\" >1.30</td>\n",
       "                        <td id=\"T_17af2_row1_col7\" class=\"data row1 col7\" >1.00</td>\n",
       "                        <td id=\"T_17af2_row1_col8\" class=\"data row1 col8\" >1.00</td>\n",
       "            </tr>\n",
       "            <tr>\n",
       "                        <th id=\"T_17af2_level0_row2\" class=\"row_heading level0 row2\" >max</th>\n",
       "                        <td id=\"T_17af2_row2_col0\" class=\"data row2 col0\" >19.00</td>\n",
       "                        <td id=\"T_17af2_row2_col1\" class=\"data row2 col1\" >590.00</td>\n",
       "                        <td id=\"T_17af2_row2_col2\" class=\"data row2 col2\" >4.50</td>\n",
       "                        <td id=\"T_17af2_row2_col3\" class=\"data row2 col3\" >1,580.00</td>\n",
       "                        <td id=\"T_17af2_row2_col4\" class=\"data row2 col4\" >65,000,000.00</td>\n",
       "                        <td id=\"T_17af2_row2_col5\" class=\"data row2 col5\" >409.00</td>\n",
       "                        <td id=\"T_17af2_row2_col6\" class=\"data row2 col6\" >100.70</td>\n",
       "                        <td id=\"T_17af2_row2_col7\" class=\"data row2 col7\" >33.00</td>\n",
       "                        <td id=\"T_17af2_row2_col8\" class=\"data row2 col8\" >60.00</td>\n",
       "            </tr>\n",
       "    </tbody></table>"
      ],
      "text/plain": [
       "<pandas.io.formats.style.Styler at 0x7fdd7ad19a30>"
      ]
     },
     "execution_count": 23,
     "metadata": {},
     "output_type": "execute_result"
    }
   ],
   "source": [
    "# check\n",
    "\n",
    "# Показатели о кол-ве объявлений в датасете, минимальных и максимальных показателях \n",
    "# в выбранных параметрах о продаже квартир\n",
    "# сырые данные\n",
    "\n",
    "(\n",
    "    data[['rooms', 'total_area', 'ceiling_height', 'days_exposition', 'last_price', 'living_area',  'kitchen_area', 'floor',\n",
    "       'floors_total']]\n",
    "    .apply (['count', 'min', 'max'])   \n",
    "    .style.format(\"{:,.2f}\")\n",
    ")"
   ]
  },
  {
   "cell_type": "code",
   "execution_count": 24,
   "metadata": {},
   "outputs": [
    {
     "data": {
      "text/html": [
       "<div>\n",
       "<style scoped>\n",
       "    .dataframe tbody tr th:only-of-type {\n",
       "        vertical-align: middle;\n",
       "    }\n",
       "\n",
       "    .dataframe tbody tr th {\n",
       "        vertical-align: top;\n",
       "    }\n",
       "\n",
       "    .dataframe thead th {\n",
       "        text-align: right;\n",
       "    }\n",
       "</style>\n",
       "<table border=\"1\" class=\"dataframe\">\n",
       "  <thead>\n",
       "    <tr style=\"text-align: right;\">\n",
       "      <th></th>\n",
       "      <th>rooms</th>\n",
       "    </tr>\n",
       "  </thead>\n",
       "  <tbody>\n",
       "    <tr>\n",
       "      <th>0</th>\n",
       "      <td>193</td>\n",
       "    </tr>\n",
       "    <tr>\n",
       "      <th>1</th>\n",
       "      <td>8004</td>\n",
       "    </tr>\n",
       "    <tr>\n",
       "      <th>2</th>\n",
       "      <td>7894</td>\n",
       "    </tr>\n",
       "    <tr>\n",
       "      <th>3</th>\n",
       "      <td>5760</td>\n",
       "    </tr>\n",
       "    <tr>\n",
       "      <th>4</th>\n",
       "      <td>1151</td>\n",
       "    </tr>\n",
       "    <tr>\n",
       "      <th>5</th>\n",
       "      <td>304</td>\n",
       "    </tr>\n",
       "    <tr>\n",
       "      <th>6</th>\n",
       "      <td>95</td>\n",
       "    </tr>\n",
       "    <tr>\n",
       "      <th>7</th>\n",
       "      <td>52</td>\n",
       "    </tr>\n",
       "    <tr>\n",
       "      <th>8</th>\n",
       "      <td>9</td>\n",
       "    </tr>\n",
       "    <tr>\n",
       "      <th>9</th>\n",
       "      <td>7</td>\n",
       "    </tr>\n",
       "    <tr>\n",
       "      <th>10</th>\n",
       "      <td>3</td>\n",
       "    </tr>\n",
       "    <tr>\n",
       "      <th>11</th>\n",
       "      <td>2</td>\n",
       "    </tr>\n",
       "    <tr>\n",
       "      <th>14</th>\n",
       "      <td>2</td>\n",
       "    </tr>\n",
       "    <tr>\n",
       "      <th>15</th>\n",
       "      <td>1</td>\n",
       "    </tr>\n",
       "    <tr>\n",
       "      <th>16</th>\n",
       "      <td>1</td>\n",
       "    </tr>\n",
       "    <tr>\n",
       "      <th>19</th>\n",
       "      <td>1</td>\n",
       "    </tr>\n",
       "  </tbody>\n",
       "</table>\n",
       "</div>"
      ],
      "text/plain": [
       "    rooms\n",
       "0     193\n",
       "1    8004\n",
       "2    7894\n",
       "3    5760\n",
       "4    1151\n",
       "5     304\n",
       "6      95\n",
       "7      52\n",
       "8       9\n",
       "9       7\n",
       "10      3\n",
       "11      2\n",
       "14      2\n",
       "15      1\n",
       "16      1\n",
       "19      1"
      ]
     },
     "execution_count": 24,
     "metadata": {},
     "output_type": "execute_result"
    }
   ],
   "source": [
    "# check\n",
    "data.rooms.value_counts().to_frame().sort_index()"
   ]
  },
  {
   "cell_type": "markdown",
   "metadata": {},
   "source": [
    "Избавимся от квартир с комнатами больше 7 (таких всего 31 штук) - сильно не повлияет на выборку. Квартиры где комнат указано \"0\" - допускаем, что это студии, и судя по общему метражу эта гипотеза имеет место."
   ]
  },
  {
   "cell_type": "code",
   "execution_count": 25,
   "metadata": {},
   "outputs": [],
   "source": [
    "data = data[(data['rooms'] <= 7)]"
   ]
  },
  {
   "cell_type": "code",
   "execution_count": 26,
   "metadata": {},
   "outputs": [
    {
     "data": {
      "text/plain": [
       "0     193\n",
       "1    8004\n",
       "2    7894\n",
       "3    5760\n",
       "4    1151\n",
       "5     304\n",
       "6      95\n",
       "7      52\n",
       "Name: rooms, dtype: int64"
      ]
     },
     "execution_count": 26,
     "metadata": {},
     "output_type": "execute_result"
    }
   ],
   "source": [
    "data.rooms.value_counts().sort_index()"
   ]
  },
  {
   "cell_type": "markdown",
   "metadata": {},
   "source": [
    "Также откинем объявления с этажностью здания выше 35 этажей (таких всего 6 штук). Согласен с тем, что это немного необычное объявления для нашего датасета."
   ]
  },
  {
   "cell_type": "code",
   "execution_count": 27,
   "metadata": {},
   "outputs": [],
   "source": [
    "data = data[(data['floors_total'] <= 35)]"
   ]
  },
  {
   "cell_type": "code",
   "execution_count": 28,
   "metadata": {},
   "outputs": [
    {
     "data": {
      "text/plain": [
       "1       25\n",
       "2      379\n",
       "3      665\n",
       "4     1178\n",
       "5     5747\n",
       "6      893\n",
       "7      573\n",
       "8      374\n",
       "9     3747\n",
       "10    1172\n",
       "11     202\n",
       "12    1360\n",
       "13     228\n",
       "14     553\n",
       "15     365\n",
       "16    1374\n",
       "17     833\n",
       "18     505\n",
       "19     339\n",
       "20     270\n",
       "21     158\n",
       "22     286\n",
       "23     349\n",
       "24     462\n",
       "25    1074\n",
       "26     124\n",
       "27     164\n",
       "28      21\n",
       "29       1\n",
       "33       1\n",
       "34       1\n",
       "35      24\n",
       "Name: floors_total, dtype: int64"
      ]
     },
     "execution_count": 28,
     "metadata": {},
     "output_type": "execute_result"
    }
   ],
   "source": [
    "data.floors_total.value_counts().sort_index()"
   ]
  },
  {
   "cell_type": "markdown",
   "metadata": {},
   "source": [
    "### Промежуточный вывод.\n",
    "В результате предобработки датафрейма получилось следующее:"
   ]
  },
  {
   "cell_type": "code",
   "execution_count": 29,
   "metadata": {},
   "outputs": [
    {
     "name": "stdout",
     "output_type": "stream",
     "text": [
      "Исходное количество строк в датафрейме: 23699\n",
      "Количество строк после предобработки данных: 23447\n",
      "Количество удаленных записей: 252\n"
     ]
    }
   ],
   "source": [
    "print(f'Исходное количество строк в датафрейме: {len(artifact_data)}')\n",
    "print(f'Количество строк после предобработки данных: {len(data)}')\n",
    "print(f'Количество удаленных записей: {len(artifact_data) - len(data)}')"
   ]
  },
  {
   "cell_type": "markdown",
   "metadata": {},
   "source": [
    "Количество удалённых записей составило менее `1.5%` - это хороший результат предобработки данных."
   ]
  },
  {
   "cell_type": "markdown",
   "metadata": {},
   "source": [
    "## Посчитайте и добавьте в таблицу новые столбцы."
   ]
  },
  {
   "cell_type": "markdown",
   "metadata": {},
   "source": [
    "### Для анализа в дальнейшем нам понадобятся новые столбцы с новыми данными.\n",
    " - цена одного квадратного метра"
   ]
  },
  {
   "cell_type": "code",
   "execution_count": 30,
   "metadata": {
    "scrolled": true
   },
   "outputs": [],
   "source": [
    "data['square_meter_price'] = data['last_price'].div(data['total_area'].values)\n",
    "data['square_meter_price'] = data['square_meter_price'].astype('int')"
   ]
  },
  {
   "cell_type": "markdown",
   "metadata": {},
   "source": [
    " - день публикации объявления (0 - понедельник, 1 - вторник и т.д.)"
   ]
  },
  {
   "cell_type": "code",
   "execution_count": 31,
   "metadata": {},
   "outputs": [],
   "source": [
    "data['weekday'] = data['first_day_exposition'].dt.weekday"
   ]
  },
  {
   "cell_type": "markdown",
   "metadata": {},
   "source": [
    " - месяц публикации объявления"
   ]
  },
  {
   "cell_type": "code",
   "execution_count": 32,
   "metadata": {},
   "outputs": [],
   "source": [
    "data['month'] = pd.DatetimeIndex(data['first_day_exposition']).month"
   ]
  },
  {
   "cell_type": "markdown",
   "metadata": {},
   "source": [
    " - год публикации объявления"
   ]
  },
  {
   "cell_type": "code",
   "execution_count": 33,
   "metadata": {},
   "outputs": [],
   "source": [
    "data['year'] = pd.DatetimeIndex(data['first_day_exposition']).year"
   ]
  },
  {
   "cell_type": "markdown",
   "metadata": {},
   "source": [
    " - тип этажа квартиры (значения — «первый», «последний», «другой»)"
   ]
  },
  {
   "cell_type": "markdown",
   "metadata": {},
   "source": [
    "Создаём функцию `apartment_floor_type` для нового столбца с типами квартир в зависимости от этажности."
   ]
  },
  {
   "cell_type": "code",
   "execution_count": 34,
   "metadata": {},
   "outputs": [],
   "source": [
    "def apartment_floor_type(floor, floors_total):   \n",
    "    if floor == 1:\n",
    "        return 'первый'\n",
    "    elif floor == floors_total:\n",
    "        return 'последний'\n",
    "    else:\n",
    "        return 'другой'\n",
    "    \n",
    "data['floor_type'] = data.apply(lambda x: apartment_floor_type(x.floor, x.floors_total), axis=1)\n",
    "#data.head(15)"
   ]
  },
  {
   "cell_type": "markdown",
   "metadata": {},
   "source": [
    "Выше через собственную функцию, ниже без функции, через библиотеку numpy.\n",
    "\n",
    "P.S. вроде как писали, что надо делать через собственную функцию, поэтому на выходе 2 варианта))"
   ]
  },
  {
   "cell_type": "code",
   "execution_count": 35,
   "metadata": {},
   "outputs": [
    {
     "data": {
      "text/plain": [
       "\"\\n# создаём список условий\\nconditions = [\\n    (data['floor'] == 1),\\n    (data['floor'] == data['floors_total']),\\n    (data['floor'] != 1) & (data['floor'] != data['floors_total'])]\\n\\n# создаём список значений\\nvalues = ['первый', 'последний', 'другой']\\n\\n# добавляем столбец с\\ndata['floor_type'] = np.select(conditions, values)\\n\""
      ]
     },
     "execution_count": 35,
     "metadata": {},
     "output_type": "execute_result"
    }
   ],
   "source": [
    "\"\"\"\n",
    "# создаём список условий\n",
    "conditions = [\n",
    "    (data['floor'] == 1),\n",
    "    (data['floor'] == data['floors_total']),\n",
    "    (data['floor'] != 1) & (data['floor'] != data['floors_total'])]\n",
    "\n",
    "# создаём список значений\n",
    "values = ['первый', 'последний', 'другой']\n",
    "\n",
    "# добавляем столбец с\n",
    "data['floor_type'] = np.select(conditions, values)\n",
    "\"\"\""
   ]
  },
  {
   "cell_type": "markdown",
   "metadata": {},
   "source": [
    " - расстояние в км до центра города и округлим значение"
   ]
  },
  {
   "cell_type": "code",
   "execution_count": 36,
   "metadata": {},
   "outputs": [],
   "source": [
    "data['km_to_city_center'] = data['city_centers_nearest'] / 1000\n",
    "data['km_to_city_center'] = data['km_to_city_center'].round()"
   ]
  },
  {
   "cell_type": "code",
   "execution_count": 37,
   "metadata": {},
   "outputs": [
    {
     "data": {
      "text/html": [
       "<div>\n",
       "<style scoped>\n",
       "    .dataframe tbody tr th:only-of-type {\n",
       "        vertical-align: middle;\n",
       "    }\n",
       "\n",
       "    .dataframe tbody tr th {\n",
       "        vertical-align: top;\n",
       "    }\n",
       "\n",
       "    .dataframe thead th {\n",
       "        text-align: right;\n",
       "    }\n",
       "</style>\n",
       "<table border=\"1\" class=\"dataframe\">\n",
       "  <thead>\n",
       "    <tr style=\"text-align: right;\">\n",
       "      <th></th>\n",
       "      <th>total_images</th>\n",
       "      <th>last_price</th>\n",
       "      <th>total_area</th>\n",
       "      <th>first_day_exposition</th>\n",
       "      <th>rooms</th>\n",
       "      <th>ceiling_height</th>\n",
       "      <th>floors_total</th>\n",
       "      <th>living_area</th>\n",
       "      <th>floor</th>\n",
       "      <th>is_apartment</th>\n",
       "      <th>...</th>\n",
       "      <th>ponds_nearest</th>\n",
       "      <th>days_exposition</th>\n",
       "      <th>check_area_ratio</th>\n",
       "      <th>compare_totalarea_ratio</th>\n",
       "      <th>square_meter_price</th>\n",
       "      <th>weekday</th>\n",
       "      <th>month</th>\n",
       "      <th>year</th>\n",
       "      <th>floor_type</th>\n",
       "      <th>km_to_city_center</th>\n",
       "    </tr>\n",
       "  </thead>\n",
       "  <tbody>\n",
       "    <tr>\n",
       "      <th>0</th>\n",
       "      <td>20</td>\n",
       "      <td>13000000.0</td>\n",
       "      <td>108.0</td>\n",
       "      <td>2019-03-07</td>\n",
       "      <td>3</td>\n",
       "      <td>2.70</td>\n",
       "      <td>16</td>\n",
       "      <td>51.00000</td>\n",
       "      <td>8</td>\n",
       "      <td>False</td>\n",
       "      <td>...</td>\n",
       "      <td>755.0</td>\n",
       "      <td>NaN</td>\n",
       "      <td>76.000000</td>\n",
       "      <td>True</td>\n",
       "      <td>120370</td>\n",
       "      <td>3</td>\n",
       "      <td>3</td>\n",
       "      <td>2019</td>\n",
       "      <td>другой</td>\n",
       "      <td>16.0</td>\n",
       "    </tr>\n",
       "    <tr>\n",
       "      <th>1</th>\n",
       "      <td>7</td>\n",
       "      <td>3350000.0</td>\n",
       "      <td>40.4</td>\n",
       "      <td>2018-12-04</td>\n",
       "      <td>1</td>\n",
       "      <td>2.75</td>\n",
       "      <td>11</td>\n",
       "      <td>18.60000</td>\n",
       "      <td>1</td>\n",
       "      <td>False</td>\n",
       "      <td>...</td>\n",
       "      <td>NaN</td>\n",
       "      <td>81.0</td>\n",
       "      <td>29.600000</td>\n",
       "      <td>True</td>\n",
       "      <td>82920</td>\n",
       "      <td>1</td>\n",
       "      <td>12</td>\n",
       "      <td>2018</td>\n",
       "      <td>первый</td>\n",
       "      <td>19.0</td>\n",
       "    </tr>\n",
       "    <tr>\n",
       "      <th>2</th>\n",
       "      <td>10</td>\n",
       "      <td>5196000.0</td>\n",
       "      <td>56.0</td>\n",
       "      <td>2015-08-20</td>\n",
       "      <td>2</td>\n",
       "      <td>2.55</td>\n",
       "      <td>5</td>\n",
       "      <td>34.30000</td>\n",
       "      <td>4</td>\n",
       "      <td>False</td>\n",
       "      <td>...</td>\n",
       "      <td>574.0</td>\n",
       "      <td>558.0</td>\n",
       "      <td>42.600000</td>\n",
       "      <td>True</td>\n",
       "      <td>92785</td>\n",
       "      <td>3</td>\n",
       "      <td>8</td>\n",
       "      <td>2015</td>\n",
       "      <td>другой</td>\n",
       "      <td>14.0</td>\n",
       "    </tr>\n",
       "    <tr>\n",
       "      <th>3</th>\n",
       "      <td>0</td>\n",
       "      <td>64900000.0</td>\n",
       "      <td>159.0</td>\n",
       "      <td>2015-07-24</td>\n",
       "      <td>3</td>\n",
       "      <td>2.60</td>\n",
       "      <td>14</td>\n",
       "      <td>80.84251</td>\n",
       "      <td>9</td>\n",
       "      <td>False</td>\n",
       "      <td>...</td>\n",
       "      <td>234.0</td>\n",
       "      <td>424.0</td>\n",
       "      <td>107.650806</td>\n",
       "      <td>True</td>\n",
       "      <td>408176</td>\n",
       "      <td>4</td>\n",
       "      <td>7</td>\n",
       "      <td>2015</td>\n",
       "      <td>другой</td>\n",
       "      <td>7.0</td>\n",
       "    </tr>\n",
       "    <tr>\n",
       "      <th>4</th>\n",
       "      <td>2</td>\n",
       "      <td>10000000.0</td>\n",
       "      <td>100.0</td>\n",
       "      <td>2018-06-19</td>\n",
       "      <td>2</td>\n",
       "      <td>3.03</td>\n",
       "      <td>14</td>\n",
       "      <td>32.00000</td>\n",
       "      <td>13</td>\n",
       "      <td>False</td>\n",
       "      <td>...</td>\n",
       "      <td>48.0</td>\n",
       "      <td>121.0</td>\n",
       "      <td>73.000000</td>\n",
       "      <td>True</td>\n",
       "      <td>100000</td>\n",
       "      <td>1</td>\n",
       "      <td>6</td>\n",
       "      <td>2018</td>\n",
       "      <td>другой</td>\n",
       "      <td>8.0</td>\n",
       "    </tr>\n",
       "  </tbody>\n",
       "</table>\n",
       "<p>5 rows × 30 columns</p>\n",
       "</div>"
      ],
      "text/plain": [
       "   total_images  last_price  total_area first_day_exposition  rooms  \\\n",
       "0            20  13000000.0       108.0           2019-03-07      3   \n",
       "1             7   3350000.0        40.4           2018-12-04      1   \n",
       "2            10   5196000.0        56.0           2015-08-20      2   \n",
       "3             0  64900000.0       159.0           2015-07-24      3   \n",
       "4             2  10000000.0       100.0           2018-06-19      2   \n",
       "\n",
       "   ceiling_height  floors_total  living_area  floor  is_apartment  ...  \\\n",
       "0            2.70            16     51.00000      8         False  ...   \n",
       "1            2.75            11     18.60000      1         False  ...   \n",
       "2            2.55             5     34.30000      4         False  ...   \n",
       "3            2.60            14     80.84251      9         False  ...   \n",
       "4            3.03            14     32.00000     13         False  ...   \n",
       "\n",
       "   ponds_nearest  days_exposition  check_area_ratio  compare_totalarea_ratio  \\\n",
       "0          755.0              NaN         76.000000                     True   \n",
       "1            NaN             81.0         29.600000                     True   \n",
       "2          574.0            558.0         42.600000                     True   \n",
       "3          234.0            424.0        107.650806                     True   \n",
       "4           48.0            121.0         73.000000                     True   \n",
       "\n",
       "  square_meter_price  weekday  month  year  floor_type  km_to_city_center  \n",
       "0             120370        3      3  2019      другой               16.0  \n",
       "1              82920        1     12  2018      первый               19.0  \n",
       "2              92785        3      8  2015      другой               14.0  \n",
       "3             408176        4      7  2015      другой                7.0  \n",
       "4             100000        1      6  2018      другой                8.0  \n",
       "\n",
       "[5 rows x 30 columns]"
      ]
     },
     "execution_count": 37,
     "metadata": {},
     "output_type": "execute_result"
    }
   ],
   "source": [
    "data.head()"
   ]
  },
  {
   "cell_type": "markdown",
   "metadata": {},
   "source": [
    "## Проведите исследовательский анализ данных"
   ]
  },
  {
   "cell_type": "markdown",
   "metadata": {},
   "source": [
    " ### Задание 1.\n",
    " **Изучим следующие параметры объектов на гистограммах:**"
   ]
  },
  {
   "cell_type": "markdown",
   "metadata": {},
   "source": [
    " - общая площадь;"
   ]
  },
  {
   "cell_type": "code",
   "execution_count": 38,
   "metadata": {
    "scrolled": true
   },
   "outputs": [
    {
     "data": {
      "image/png": "[encoded data removed]",
      "text/plain": [
       "<Figure size 720x288 with 1 Axes>"
      ]
     },
     "metadata": {
      "needs_background": "light"
     },
     "output_type": "display_data"
    }
   ],
   "source": [
    "data.plot(y=['total_area'], bins=20, kind='hist', range=(14, 150), figsize=(10,4), grid=True);"
   ]
  },
  {
   "cell_type": "markdown",
   "metadata": {},
   "source": [
    "Сделаем диапазон квартир от `14` - минимальный метраж в объявлениях и до `150` - оптимальный метраж для наглядности (выше этого метража меньше 1% квартир). По гистограмме видно, что наибольшее количество объявлений приходится на квартиры с метражами от `30 метров` до `61 метра`. Далее идёт спад по количеству предложений с большим метражом."
   ]
  },
  {
   "cell_type": "markdown",
   "metadata": {},
   "source": [
    "---"
   ]
  },
  {
   "cell_type": "markdown",
   "metadata": {},
   "source": [
    "  - жилая площадь;"
   ]
  },
  {
   "cell_type": "code",
   "execution_count": 39,
   "metadata": {
    "scrolled": true
   },
   "outputs": [
    {
     "data": {
      "image/png": "[encoded data removed]",
      "text/plain": [
       "<Figure size 720x288 with 1 Axes>"
      ]
     },
     "metadata": {
      "needs_background": "light"
     },
     "output_type": "display_data"
    }
   ],
   "source": [
    "data.plot(y=['living_area'], bins=20, kind='hist', range=(10, 150), figsize=(10,4), grid=True);"
   ]
  },
  {
   "cell_type": "markdown",
   "metadata": {},
   "source": [
    "Сделаем диапазон жилой площади от `10` - оптимальный метраж для наглядности и до `150` - лучший метраж для наглядности (выше этого метража меньше 1% квартир). По гистограмме видно, что наибольшее количество объявлений приходится на квартиры с метражами жилой площади от `10` до `45 ` метров. Далее идёт очень сильный спад по количеству предложений с большим метражом."
   ]
  },
  {
   "cell_type": "markdown",
   "metadata": {},
   "source": [
    "---"
   ]
  },
  {
   "cell_type": "markdown",
   "metadata": {},
   "source": [
    "  - площадь кухни;"
   ]
  },
  {
   "cell_type": "code",
   "execution_count": 40,
   "metadata": {},
   "outputs": [
    {
     "data": {
      "image/png": "[encoded data removed]",
      "text/plain": [
       "<Figure size 720x288 with 1 Axes>"
      ]
     },
     "metadata": {
      "needs_background": "light"
     },
     "output_type": "display_data"
    }
   ],
   "source": [
    "data.plot(y=['kitchen_area'], bins=100, kind='hist', range=(4, 40), figsize=(10,4), grid=True);"
   ]
  },
  {
   "cell_type": "markdown",
   "metadata": {},
   "source": [
    "Сделаем диапазон жилой площади от `4` - оптимальный метраж для наглядности и до `40` - лучший метраж для наглядности (выше этого метража меньше 1% квартир). По гистограмме видно, что наибольшее количество объявлений приходится на квартиры с метражами кухонь от `5` до `15 ` метров. Квартиры с кухней больше `25` метров становится всё сложнее находить."
   ]
  },
  {
   "cell_type": "markdown",
   "metadata": {},
   "source": [
    "---"
   ]
  },
  {
   "cell_type": "markdown",
   "metadata": {},
   "source": [
    "  - цена объекта;"
   ]
  },
  {
   "cell_type": "code",
   "execution_count": 41,
   "metadata": {
    "scrolled": true
   },
   "outputs": [
    {
     "data": {
      "image/png": "[encoded data removed]",
      "text/plain": [
       "<Figure size 720x288 with 1 Axes>"
      ]
     },
     "metadata": {
      "needs_background": "light"
     },
     "output_type": "display_data"
    }
   ],
   "source": [
    "data.plot(y=['last_price'], bins=100, kind='hist', range=(1300000, 20000000), figsize=(10,4), grid=True);"
   ]
  },
  {
   "cell_type": "markdown",
   "metadata": {},
   "source": [
    "Сделаем диапазон цен от `1.300.000` - оптимальная начальная цена для наглядности и до `20.000.000` - наилучшая цена для наглядности (выше этой цены меньше 1% квартир). По гистограмме видно, что населения чаще всего покупает квартиры по ценам от `2.000.000` до `7.500.000 `. Квартиры со стоимостью выше `7.500.000` реже приобретают, но покупательская способность имеется."
   ]
  },
  {
   "cell_type": "markdown",
   "metadata": {},
   "source": [
    "---"
   ]
  },
  {
   "cell_type": "markdown",
   "metadata": {},
   "source": [
    "  - количество комнат;"
   ]
  },
  {
   "cell_type": "code",
   "execution_count": 42,
   "metadata": {},
   "outputs": [
    {
     "data": {
      "image/png": "[encoded data removed]",
      "text/plain": [
       "<Figure size 720x288 with 1 Axes>"
      ]
     },
     "metadata": {
      "needs_background": "light"
     },
     "output_type": "display_data"
    }
   ],
   "source": [
    "data.plot(y=['rooms'], bins=10, kind='hist', range=(1, 7), figsize=(10,4), grid=True);"
   ]
  },
  {
   "cell_type": "markdown",
   "metadata": {},
   "source": [
    "Сделаем диапазон комнат от `1` - как видно из объявлений это одна из самых больших категорий и до `7` - оптимальный вариант для наглядности (выше этого значения квартир меньше 1%). По гистограмме видно, что наибольшее количество объявлений приходится на квартиры с количеством комнат `1,2,3`. Квартиры с большим количеством комнат менее привлекательны, скорее всего из-за цены."
   ]
  },
  {
   "cell_type": "markdown",
   "metadata": {},
   "source": [
    "---"
   ]
  },
  {
   "cell_type": "markdown",
   "metadata": {},
   "source": [
    "  - высота потолков;"
   ]
  },
  {
   "cell_type": "code",
   "execution_count": 43,
   "metadata": {
    "scrolled": true
   },
   "outputs": [
    {
     "data": {
      "image/png": "[encoded data removed]",
      "text/plain": [
       "<Figure size 720x288 with 1 Axes>"
      ]
     },
     "metadata": {
      "needs_background": "light"
     },
     "output_type": "display_data"
    }
   ],
   "source": [
    "data.plot(y=['ceiling_height'], bins=10, kind='hist', range=(2.20, 4.50), figsize=(10,4), grid=True);"
   ]
  },
  {
   "cell_type": "markdown",
   "metadata": {},
   "source": [
    "Сделаем диапазон потолков от `2.20` - как мы и отсортировали в таблице и до `4.50`. По гистограмме видно, что наибольшее количество объявлений приходится на квартиры с высотой потолков от `2` до `3.3` метров. "
   ]
  },
  {
   "cell_type": "markdown",
   "metadata": {},
   "source": [
    "---"
   ]
  },
  {
   "cell_type": "markdown",
   "metadata": {},
   "source": [
    "  - этаж квартиры;"
   ]
  },
  {
   "cell_type": "code",
   "execution_count": 44,
   "metadata": {},
   "outputs": [
    {
     "data": {
      "image/png": "[encoded data removed]",
      "text/plain": [
       "<Figure size 720x288 with 1 Axes>"
      ]
     },
     "metadata": {
      "needs_background": "light"
     },
     "output_type": "display_data"
    }
   ],
   "source": [
    "data.plot(y=['floor'], bins=15, kind='hist', range=(1, 33), figsize=(10,4), grid=True);"
   ]
  },
  {
   "cell_type": "markdown",
   "metadata": {},
   "source": [
    "Сделаем диапазон квартир по этажам от `1` до `33` - захватим весь столбец из датафрейма. По гистограмме видно, что в основном покупают квартиры на этажах `1-10`."
   ]
  },
  {
   "cell_type": "markdown",
   "metadata": {},
   "source": [
    "---"
   ]
  },
  {
   "cell_type": "markdown",
   "metadata": {},
   "source": [
    "  - тип этажа квартиры («первый», «последний», «другой»);"
   ]
  },
  {
   "cell_type": "code",
   "execution_count": 45,
   "metadata": {},
   "outputs": [
    {
     "data": {
      "image/png": "[encoded data removed]",
      "text/plain": [
       "<Figure size 432x288 with 1 Axes>"
      ]
     },
     "metadata": {
      "needs_background": "light"
     },
     "output_type": "display_data"
    }
   ],
   "source": [
    "data['floor_type'].hist(bins=5, legend=True);"
   ]
  },
  {
   "cell_type": "markdown",
   "metadata": {},
   "source": [
    "Из гистограммы делаем вывод, что основное количество объявлений о квартирах, которые располагаются не на первом и последнем этажах."
   ]
  },
  {
   "cell_type": "markdown",
   "metadata": {},
   "source": [
    "---"
   ]
  },
  {
   "cell_type": "markdown",
   "metadata": {},
   "source": [
    "  - общее количество этажей в доме;"
   ]
  },
  {
   "cell_type": "code",
   "execution_count": 46,
   "metadata": {
    "scrolled": true
   },
   "outputs": [
    {
     "data": {
      "image/png": "[encoded data removed]",
      "text/plain": [
       "<Figure size 720x288 with 1 Axes>"
      ]
     },
     "metadata": {
      "needs_background": "light"
     },
     "output_type": "display_data"
    }
   ],
   "source": [
    "data.plot(y=['floors_total'], bins=30, kind='hist', range=(1,35), figsize=(10,4), grid=True);"
   ]
  },
  {
   "cell_type": "markdown",
   "metadata": {},
   "source": [
    "Диапазон выставим по количеству этажей в домах с `1` по `35`. Количество `5ти` и `10ти` этажек превалирует над остальными домами."
   ]
  },
  {
   "cell_type": "markdown",
   "metadata": {},
   "source": [
    "---"
   ]
  },
  {
   "cell_type": "markdown",
   "metadata": {},
   "source": [
    "  - расстояние до центра города в метрах;"
   ]
  },
  {
   "cell_type": "code",
   "execution_count": 47,
   "metadata": {
    "scrolled": false
   },
   "outputs": [
    {
     "data": {
      "image/png": "[encoded data removed]",
      "text/plain": [
       "<Figure size 720x288 with 1 Axes>"
      ]
     },
     "metadata": {
      "needs_background": "light"
     },
     "output_type": "display_data"
    }
   ],
   "source": [
    "data.plot(y=['city_centers_nearest'], bins=100, kind='hist', figsize=(10,4), grid=True);"
   ]
  },
  {
   "cell_type": "markdown",
   "metadata": {},
   "source": [
    "Гистограмма показывает, что квартиры с удалённостью от `3000` метров и до `17000` метров пользуются наивысшим спросом."
   ]
  },
  {
   "cell_type": "markdown",
   "metadata": {},
   "source": [
    "---"
   ]
  },
  {
   "cell_type": "markdown",
   "metadata": {},
   "source": [
    "  - расстояние до ближайшего аэропорта;"
   ]
  },
  {
   "cell_type": "code",
   "execution_count": 48,
   "metadata": {
    "scrolled": true
   },
   "outputs": [
    {
     "data": {
      "image/png": "[encoded data removed]",
      "text/plain": [
       "<Figure size 720x288 with 1 Axes>"
      ]
     },
     "metadata": {
      "needs_background": "light"
     },
     "output_type": "display_data"
    }
   ],
   "source": [
    "data.plot(y=['airports_nearest'], bins=200, kind='hist', range=(10000,51550), figsize=(10,4), grid=True);"
   ]
  },
  {
   "cell_type": "markdown",
   "metadata": {},
   "source": [
    "Ограничим диапазон данных с `10000` и до `51550` метров. Исходя из гистограммы, видно, чем дальше находится квартира тем реже на неё спрос, но всё равно находятся любители тишины."
   ]
  },
  {
   "cell_type": "markdown",
   "metadata": {},
   "source": [
    "---"
   ]
  },
  {
   "cell_type": "markdown",
   "metadata": {},
   "source": [
    "  - расстояние до ближайшего парка;"
   ]
  },
  {
   "cell_type": "code",
   "execution_count": 49,
   "metadata": {
    "scrolled": true
   },
   "outputs": [
    {
     "data": {
      "image/png": "[encoded data removed]",
      "text/plain": [
       "<Figure size 720x288 with 1 Axes>"
      ]
     },
     "metadata": {
      "needs_background": "light"
     },
     "output_type": "display_data"
    }
   ],
   "source": [
    "data.plot(y=['parks_nearest'], bins=100, kind='hist', range=(50,3000), figsize=(10,4), grid=True);"
   ]
  },
  {
   "cell_type": "markdown",
   "metadata": {},
   "source": [
    "По данным на гистограмме можно сказать, что количество квартир находящееся на расстоянии от `50` до `800` метров занимает основную часть в датафрейме. Но данная модель не является эталонной, т.к. наличие пропусков в колонке составляет более 15000 шт."
   ]
  },
  {
   "cell_type": "code",
   "execution_count": 50,
   "metadata": {},
   "outputs": [
    {
     "data": {
      "text/plain": [
       "15506"
      ]
     },
     "execution_count": 50,
     "metadata": {},
     "output_type": "execute_result"
    }
   ],
   "source": [
    "data['parks_nearest'].isna().sum()"
   ]
  },
  {
   "cell_type": "markdown",
   "metadata": {},
   "source": [
    "---"
   ]
  },
  {
   "cell_type": "markdown",
   "metadata": {},
   "source": [
    "  - день и месяц публикации объявления."
   ]
  },
  {
   "cell_type": "markdown",
   "metadata": {},
   "source": [
    "Гистограмма для дня публикации объявления."
   ]
  },
  {
   "cell_type": "code",
   "execution_count": 51,
   "metadata": {
    "scrolled": true
   },
   "outputs": [
    {
     "data": {
      "image/png": "[encoded data removed]",
      "text/plain": [
       "<Figure size 720x288 with 1 Axes>"
      ]
     },
     "metadata": {
      "needs_background": "light"
     },
     "output_type": "display_data"
    }
   ],
   "source": [
    "data.plot(y=['weekday'], bins=15, kind='hist', range=(0,6), figsize=(10,4), grid=True);"
   ]
  },
  {
   "cell_type": "markdown",
   "metadata": {},
   "source": [
    "Публикация объявлений происходит в основном в будние дни и равномерно распределено, в то время, как, публикация в выходные дни куда реже."
   ]
  },
  {
   "cell_type": "markdown",
   "metadata": {},
   "source": [
    "Гистограмма для месяца публикации объявления."
   ]
  },
  {
   "cell_type": "code",
   "execution_count": 52,
   "metadata": {},
   "outputs": [
    {
     "data": {
      "image/png": "[encoded data removed]",
      "text/plain": [
       "<Figure size 720x288 with 1 Axes>"
      ]
     },
     "metadata": {
      "needs_background": "light"
     },
     "output_type": "display_data"
    }
   ],
   "source": [
    "data.plot(y=['month'], bins=30, kind='hist', figsize=(10,4), grid=True);"
   ]
  },
  {
   "cell_type": "markdown",
   "metadata": {},
   "source": [
    "Гистограмма публикаций по месяцам показывает, что пик приходится на начало года. К лету и до зимы количество объявлений распределяется равномерно."
   ]
  },
  {
   "cell_type": "markdown",
   "metadata": {},
   "source": [
    "---"
   ]
  },
  {
   "cell_type": "markdown",
   "metadata": {},
   "source": [
    "### Задание 2. \n",
    "**Изучите, как быстро продавались квартиры столбец `days_exposition`. Этот параметр показывает, сколько дней «висело» каждое объявление.**"
   ]
  },
  {
   "cell_type": "code",
   "execution_count": 53,
   "metadata": {},
   "outputs": [
    {
     "name": "stdout",
     "output_type": "stream",
     "text": [
      "Медианное значение дней объявления о продаже квартиры: 95.0\n",
      "Среднее арифметическое значение дней объявления о продаже квартиры: 180.0249765998325\n"
     ]
    },
    {
     "data": {
      "image/png": "[encoded data removed]",
      "text/plain": [
       "<Figure size 1080x288 with 1 Axes>"
      ]
     },
     "metadata": {
      "needs_background": "light"
     },
     "output_type": "display_data"
    }
   ],
   "source": [
    "data.plot(y=['days_exposition'], bins=100, kind='hist', range=(2, 1100), figsize=(15,4), grid=True)\n",
    "print(f'Медианное значение дней объявления о продаже квартиры: {data[\"days_exposition\"].median()}')\n",
    "print(f'Среднее арифметическое значение дней объявления о продаже квартиры: {data[\"days_exposition\"].mean()}')"
   ]
  },
  {
   "cell_type": "markdown",
   "metadata": {},
   "source": [
    "Исходя из гистограммы видно, что пик продаж квартир приходится на 95 день объявления (как раз чёткое медианное значение), а вот ближе к средне арифметическому происходит спад продаж. Все квартиры, проданные раньше пикового значения можно считать быстрыми. Чем дольше висит объявление , тем хуже продаётся квартира и можно сказать, что необычно долгими продажами являются квартиры, со сроком более 800 дней - почти 24 месяца.\n"
   ]
  },
  {
   "cell_type": "markdown",
   "metadata": {},
   "source": [
    "---"
   ]
  },
  {
   "cell_type": "markdown",
   "metadata": {},
   "source": [
    "### Задание 3. \n",
    "**Какие факторы больше всего влияют на общую (полную) стоимость объекта? Постройте графики, которые покажут зависимость цены от указанных ниже параметров. Для подготовки данных перед визуализацией вы можете использовать сводные таблицы.**"
   ]
  },
  {
   "cell_type": "code",
   "execution_count": 54,
   "metadata": {
    "scrolled": false
   },
   "outputs": [],
   "source": [
    "# создаём переменную с данными, которые нам необходимо отобразить на графике\n",
    "last_price_multi = (\n",
    "    data\n",
    "    .pivot_table(\n",
    "        index='last_price', values=['total_area', 'living_area', 'kitchen_area', 'rooms', 'floor_type', 'weekday', 'month', 'year'], \n",
    "        aggfunc='median')\n",
    ")\n",
    "\n",
    "#pd.plotting.scatter_matrix(last_price_multi, figsize=(15, 15));"
   ]
  },
  {
   "cell_type": "code",
   "execution_count": 55,
   "metadata": {},
   "outputs": [
    {
     "name": "stdout",
     "output_type": "stream",
     "text": [
      "Коэффициент Пирсона 0.77 - имеется линейна зависимость.\n"
     ]
    },
    {
     "data": {
      "image/png": "[encoded data removed]",
      "text/plain": [
       "<Figure size 432x288 with 1 Axes>"
      ]
     },
     "metadata": {
      "needs_background": "light"
     },
     "output_type": "display_data"
    }
   ],
   "source": [
    "# Посчитаем коэффициент Пирсона\n",
    "print(f'Коэффициент Пирсона {data[\"last_price\"].corr(data[\"total_area\"]).round(decimals=2)} - имеется линейна зависимость.')\n",
    "\n",
    "data.plot(x='total_area', y='last_price', kind='scatter', alpha=0.4, grid=True);"
   ]
  },
  {
   "cell_type": "markdown",
   "metadata": {},
   "source": [
    "Общая площадь опрделённо влияет на общую стоимость квартиры. Основная часть квартир с метражом до *200 метров* расположилась в пределах цены до *3 000 000 руб.*"
   ]
  },
  {
   "cell_type": "code",
   "execution_count": 56,
   "metadata": {},
   "outputs": [
    {
     "name": "stdout",
     "output_type": "stream",
     "text": [
      "Коэффициент Пирсона 0.69 - имеется небольшая линейна зависимость.\n"
     ]
    },
    {
     "data": {
      "image/png": "[encoded data removed]",
      "text/plain": [
       "<Figure size 432x288 with 1 Axes>"
      ]
     },
     "metadata": {
      "needs_background": "light"
     },
     "output_type": "display_data"
    }
   ],
   "source": [
    "# Посчитаем коэффициент Пирсона\n",
    "print(f'Коэффициент Пирсона {data[\"last_price\"].corr(data[\"living_area\"]).round(decimals=2)} - имеется небольшая линейна зависимость.')\n",
    "\n",
    "data.plot(x='living_area', y='last_price', kind='scatter', alpha=0.4, grid=True);"
   ]
  },
  {
   "cell_type": "markdown",
   "metadata": {},
   "source": [
    "Метраж жилой площади как и кухонной больше влияет на общий метраж. Также пик приходится на диапазон до *110 метров* с диапазоном в цене до *3 000 000 руб.*"
   ]
  },
  {
   "cell_type": "code",
   "execution_count": 57,
   "metadata": {
    "scrolled": true
   },
   "outputs": [
    {
     "name": "stdout",
     "output_type": "stream",
     "text": [
      "Коэффициент Пирсона 0.62 - имеется небольшая линейна зависимость.\n"
     ]
    },
    {
     "data": {
      "image/png": "[encoded data removed]",
      "text/plain": [
       "<Figure size 432x288 with 1 Axes>"
      ]
     },
     "metadata": {
      "needs_background": "light"
     },
     "output_type": "display_data"
    }
   ],
   "source": [
    "# Посчитаем коэффициент Пирсона\n",
    "print(f'Коэффициент Пирсона {data[\"last_price\"].corr(data[\"kitchen_area\"]).round(decimals=2)} - имеется небольшая линейна зависимость.')\n",
    "\n",
    "data.plot(x='kitchen_area', y='last_price', kind='scatter', alpha=0.4, grid=True);"
   ]
  },
  {
   "cell_type": "markdown",
   "metadata": {},
   "source": [
    "Кухонная зона обычно меньше жилой площади, но всё равно имеет такое же влияние на общую цену. На графике видно, что пик цен в *3 000 000 руб.* приходится на диапазон до *30 метров*."
   ]
  },
  {
   "cell_type": "code",
   "execution_count": 75,
   "metadata": {},
   "outputs": [
    {
     "data": {
      "image/png": "[encoded data removed]",
      "text/plain": [
       "<Figure size 432x288 with 1 Axes>"
      ]
     },
     "metadata": {
      "needs_background": "light"
     },
     "output_type": "display_data"
    }
   ],
   "source": [
    "rooms_pivot = data.pivot_table(index='rooms', values='last_price', aggfunc='median')\n",
    "rooms_pivot.plot(grid=True, kind='bar');"
   ]
  },
  {
   "cell_type": "markdown",
   "metadata": {},
   "source": [
    "Вот самый основной фактор, который влияет на общую полную стоимость объекта. В него входит вся площадь (общая, живая, кухонная, сан. узлы, балконы и другие различные помещения). Количество комнат имеет наибольший эффект на цену."
   ]
  },
  {
   "cell_type": "code",
   "execution_count": 59,
   "metadata": {},
   "outputs": [
    {
     "data": {
      "image/png": "[encoded data removed]",
      "text/plain": [
       "<Figure size 432x288 with 1 Axes>"
      ]
     },
     "metadata": {
      "needs_background": "light"
     },
     "output_type": "display_data"
    }
   ],
   "source": [
    "floor_type_pivot = data.pivot_table(index='floor_type', values='last_price', aggfunc='median')\n",
    "floor_type_pivot.plot(grid=True);"
   ]
  },
  {
   "cell_type": "markdown",
   "metadata": {},
   "source": [
    "Из графика видно, что наибольший диапазон цен приходится на квартиры, которые располагаются не на первом и последнем этажа, следовательно имеется тоже существенное влияние на итоговую цену."
   ]
  },
  {
   "cell_type": "code",
   "execution_count": 60,
   "metadata": {},
   "outputs": [
    {
     "data": {
      "image/png": "[encoded data removed]",
      "text/plain": [
       "<Figure size 432x288 with 1 Axes>"
      ]
     },
     "metadata": {
      "needs_background": "light"
     },
     "output_type": "display_data"
    }
   ],
   "source": [
    "data_pivot_weekday = data.pivot_table(index='weekday', values='last_price', aggfunc='median')\n",
    "data_pivot_weekday.plot(grid=True);"
   ]
  },
  {
   "cell_type": "markdown",
   "metadata": {},
   "source": [
    "Вторник и средя - являются днями, когда выкладываются объявления с самой высокой стоимость. В воскресенье самая низкая."
   ]
  },
  {
   "cell_type": "code",
   "execution_count": 61,
   "metadata": {},
   "outputs": [
    {
     "data": {
      "image/png": "[encoded data removed]",
      "text/plain": [
       "<Figure size 432x288 with 1 Axes>"
      ]
     },
     "metadata": {
      "needs_background": "light"
     },
     "output_type": "display_data"
    }
   ],
   "source": [
    "data_pivot_month = data.pivot_table(index='month', values='last_price', aggfunc='median')\n",
    "data_pivot_month.plot(grid=True);"
   ]
  },
  {
   "cell_type": "markdown",
   "metadata": {},
   "source": [
    "Апрель также показывает, что самый дорого месяц в плане объявдений о продаже квартир, а вот в июне виднеется сильный спад по стоимости."
   ]
  },
  {
   "cell_type": "code",
   "execution_count": 62,
   "metadata": {},
   "outputs": [
    {
     "data": {
      "image/png": "[encoded data removed]",
      "text/plain": [
       "<Figure size 432x288 with 1 Axes>"
      ]
     },
     "metadata": {
      "needs_background": "light"
     },
     "output_type": "display_data"
    }
   ],
   "source": [
    "data_pivot_year = data.pivot_table(index='year', values='last_price', aggfunc='median')\n",
    "data_pivot_year.plot(grid=True);"
   ]
  },
  {
   "cell_type": "markdown",
   "metadata": {},
   "source": [
    "2014 год - был пик дорогих квартир, дальше пошло снижение. Дешёвые квартиры выкладывались с 2016 по 2017 года."
   ]
  },
  {
   "cell_type": "markdown",
   "metadata": {},
   "source": [
    "На общую полную стоимость объекта влияет непосредственно такой параметр как комнаты - пик приходится на `3х комнатные квартиры`, дальше за комнатами уже идёт зависимость по общему размеру квартиры. От общей площади зависят кухонная и жилая площади. Что касается дат размещения, то в 2017 год был самым насыщенным по продажам квартир в большом циновом диапазоне."
   ]
  },
  {
   "cell_type": "markdown",
   "metadata": {},
   "source": [
    "---"
   ]
  },
  {
   "cell_type": "markdown",
   "metadata": {},
   "source": [
    "### Задание 4. \n",
    "**Посчитайте среднюю цену одного квадратного метра в 10 населённых пунктах с наибольшим числом объявлений. Выделите населённые пункты с самой высокой и низкой стоимостью квадратного метра. Эти данные можно найти по имени в столбце `locality_name`.**"
   ]
  },
  {
   "cell_type": "code",
   "execution_count": 81,
   "metadata": {
    "scrolled": false
   },
   "outputs": [
    {
     "data": {
      "text/html": [
       "<div>\n",
       "<style scoped>\n",
       "    .dataframe tbody tr th:only-of-type {\n",
       "        vertical-align: middle;\n",
       "    }\n",
       "\n",
       "    .dataframe tbody tr th {\n",
       "        vertical-align: top;\n",
       "    }\n",
       "\n",
       "    .dataframe thead th {\n",
       "        text-align: right;\n",
       "    }\n",
       "</style>\n",
       "<table border=\"1\" class=\"dataframe\">\n",
       "  <thead>\n",
       "    <tr style=\"text-align: right;\">\n",
       "      <th></th>\n",
       "      <th>кол-во объявлений</th>\n",
       "      <th>цена квадратного метра</th>\n",
       "    </tr>\n",
       "    <tr>\n",
       "      <th>locality_name</th>\n",
       "      <th></th>\n",
       "      <th></th>\n",
       "    </tr>\n",
       "  </thead>\n",
       "  <tbody>\n",
       "    <tr>\n",
       "      <th>Санкт-Петербург</th>\n",
       "      <td>15535</td>\n",
       "      <td>112840.06</td>\n",
       "    </tr>\n",
       "    <tr>\n",
       "      <th>Пушкин</th>\n",
       "      <td>369</td>\n",
       "      <td>103125.37</td>\n",
       "    </tr>\n",
       "    <tr>\n",
       "      <th>деревня Кудрово</th>\n",
       "      <td>299</td>\n",
       "      <td>92473.09</td>\n",
       "    </tr>\n",
       "    <tr>\n",
       "      <th>поселок Парголово</th>\n",
       "      <td>327</td>\n",
       "      <td>90175.49</td>\n",
       "    </tr>\n",
       "    <tr>\n",
       "      <th>поселок Мурино</th>\n",
       "      <td>552</td>\n",
       "      <td>85629.11</td>\n",
       "    </tr>\n",
       "    <tr>\n",
       "      <th>поселок Шушары</th>\n",
       "      <td>439</td>\n",
       "      <td>78550.88</td>\n",
       "    </tr>\n",
       "    <tr>\n",
       "      <th>Колпино</th>\n",
       "      <td>337</td>\n",
       "      <td>75332.87</td>\n",
       "    </tr>\n",
       "    <tr>\n",
       "      <th>Гатчина</th>\n",
       "      <td>307</td>\n",
       "      <td>68745.69</td>\n",
       "    </tr>\n",
       "    <tr>\n",
       "      <th>Всеволожск</th>\n",
       "      <td>398</td>\n",
       "      <td>68654.01</td>\n",
       "    </tr>\n",
       "    <tr>\n",
       "      <th>Выборг</th>\n",
       "      <td>237</td>\n",
       "      <td>58141.49</td>\n",
       "    </tr>\n",
       "  </tbody>\n",
       "</table>\n",
       "</div>"
      ],
      "text/plain": [
       "                   кол-во объявлений  цена квадратного метра\n",
       "locality_name                                               \n",
       "Санкт-Петербург                15535               112840.06\n",
       "Пушкин                           369               103125.37\n",
       "деревня Кудрово                  299                92473.09\n",
       "поселок Парголово                327                90175.49\n",
       "поселок Мурино                   552                85629.11\n",
       "поселок Шушары                   439                78550.88\n",
       "Колпино                          337                75332.87\n",
       "Гатчина                          307                68745.69\n",
       "Всеволожск                       398                68654.01\n",
       "Выборг                           237                58141.49"
      ]
     },
     "metadata": {},
     "output_type": "display_data"
    },
    {
     "data": {
      "image/png": "[encoded data removed]",
      "text/plain": [
       "<Figure size 432x288 with 1 Axes>"
      ]
     },
     "metadata": {
      "needs_background": "light"
     },
     "output_type": "display_data"
    }
   ],
   "source": [
    "# создаём собственную функцию для решения задачи\n",
    "def create_pivot_table(column):\n",
    "    pivot_top_10 = data.pivot_table(index=[column], values='square_meter_price', aggfunc=['count', 'mean'])\n",
    "    pivot_top_10.columns = ['кол-во объявлений', 'цена квадратного метра']\n",
    "    pivot_top_10 = pivot_top_10.sort_values('кол-во объявлений', ascending=False).head(10)\n",
    "    return pivot_top_10\n",
    "\n",
    "pivot = create_pivot_table(data['locality_name'])\n",
    "display(pivot.sort_values('цена квадратного метра', ascending=False).round(decimals=2))\n",
    "\n",
    "bar = pivot['цена квадратного метра'].plot(kind='bar', ylabel='цена квадратного метра',\n",
    "                                           xlabel='название населённого пункта', grid=True)"
   ]
  },
  {
   "cell_type": "markdown",
   "metadata": {},
   "source": [
    "По таблице видно, что на 1-ом месте находится `Санкт_Петербург` , на втором `Пушкин` - хоть и маленький, но цена квадратного метра почти как у города-миллионера."
   ]
  },
  {
   "cell_type": "code",
   "execution_count": 64,
   "metadata": {
    "scrolled": false
   },
   "outputs": [
    {
     "data": {
      "image/png": "[encoded data removed]",
      "text/plain": [
       "<Figure size 432x288 with 1 Axes>"
      ]
     },
     "metadata": {
      "needs_background": "light"
     },
     "output_type": "display_data"
    }
   ],
   "source": [
    "# check\n",
    "\n",
    "bar = pivot[['цена квадратного метра'\n",
    "            ]].plot(kind='barh', ylabel='цена квадратного метра', \n",
    "                    xlabel='название населённого пункта', grid=True, legend = False)"
   ]
  },
  {
   "cell_type": "markdown",
   "metadata": {},
   "source": [
    "---"
   ]
  },
  {
   "cell_type": "markdown",
   "metadata": {},
   "source": [
    "### Задание 5. \n",
    "**Ранее вы посчитали расстояние до центра в километрах. Теперь выделите квартиры в Санкт-Петербурге с помощью столбца `locality_name` и вычислите среднюю цену каждого километра. Опишите, как стоимость объектов зависит от расстояния до центра города.**"
   ]
  },
  {
   "cell_type": "code",
   "execution_count": 65,
   "metadata": {
    "scrolled": false
   },
   "outputs": [
    {
     "data": {
      "text/html": [
       "<div>\n",
       "<style scoped>\n",
       "    .dataframe tbody tr th:only-of-type {\n",
       "        vertical-align: middle;\n",
       "    }\n",
       "\n",
       "    .dataframe tbody tr th {\n",
       "        vertical-align: top;\n",
       "    }\n",
       "\n",
       "    .dataframe thead th {\n",
       "        text-align: right;\n",
       "    }\n",
       "</style>\n",
       "<table border=\"1\" class=\"dataframe\">\n",
       "  <thead>\n",
       "    <tr style=\"text-align: right;\">\n",
       "      <th></th>\n",
       "      <th>цена квадратного метра</th>\n",
       "    </tr>\n",
       "    <tr>\n",
       "      <th>km_to_city_center</th>\n",
       "      <th></th>\n",
       "    </tr>\n",
       "  </thead>\n",
       "  <tbody>\n",
       "    <tr>\n",
       "      <th>0.0</th>\n",
       "      <td>223445.68</td>\n",
       "    </tr>\n",
       "    <tr>\n",
       "      <th>1.0</th>\n",
       "      <td>146780.73</td>\n",
       "    </tr>\n",
       "    <tr>\n",
       "      <th>2.0</th>\n",
       "      <td>142199.73</td>\n",
       "    </tr>\n",
       "    <tr>\n",
       "      <th>3.0</th>\n",
       "      <td>119019.13</td>\n",
       "    </tr>\n",
       "    <tr>\n",
       "      <th>4.0</th>\n",
       "      <td>128244.07</td>\n",
       "    </tr>\n",
       "    <tr>\n",
       "      <th>5.0</th>\n",
       "      <td>136509.23</td>\n",
       "    </tr>\n",
       "    <tr>\n",
       "      <th>6.0</th>\n",
       "      <td>142920.74</td>\n",
       "    </tr>\n",
       "    <tr>\n",
       "      <th>7.0</th>\n",
       "      <td>147905.06</td>\n",
       "    </tr>\n",
       "    <tr>\n",
       "      <th>8.0</th>\n",
       "      <td>125072.60</td>\n",
       "    </tr>\n",
       "    <tr>\n",
       "      <th>9.0</th>\n",
       "      <td>113158.93</td>\n",
       "    </tr>\n",
       "    <tr>\n",
       "      <th>10.0</th>\n",
       "      <td>112785.39</td>\n",
       "    </tr>\n",
       "    <tr>\n",
       "      <th>11.0</th>\n",
       "      <td>107983.26</td>\n",
       "    </tr>\n",
       "    <tr>\n",
       "      <th>12.0</th>\n",
       "      <td>107490.28</td>\n",
       "    </tr>\n",
       "    <tr>\n",
       "      <th>13.0</th>\n",
       "      <td>108104.62</td>\n",
       "    </tr>\n",
       "    <tr>\n",
       "      <th>14.0</th>\n",
       "      <td>104200.78</td>\n",
       "    </tr>\n",
       "    <tr>\n",
       "      <th>15.0</th>\n",
       "      <td>104230.10</td>\n",
       "    </tr>\n",
       "    <tr>\n",
       "      <th>16.0</th>\n",
       "      <td>100542.17</td>\n",
       "    </tr>\n",
       "    <tr>\n",
       "      <th>17.0</th>\n",
       "      <td>96936.87</td>\n",
       "    </tr>\n",
       "    <tr>\n",
       "      <th>18.0</th>\n",
       "      <td>96361.84</td>\n",
       "    </tr>\n",
       "    <tr>\n",
       "      <th>19.0</th>\n",
       "      <td>98657.96</td>\n",
       "    </tr>\n",
       "    <tr>\n",
       "      <th>20.0</th>\n",
       "      <td>102471.73</td>\n",
       "    </tr>\n",
       "    <tr>\n",
       "      <th>21.0</th>\n",
       "      <td>94469.14</td>\n",
       "    </tr>\n",
       "    <tr>\n",
       "      <th>22.0</th>\n",
       "      <td>91329.97</td>\n",
       "    </tr>\n",
       "    <tr>\n",
       "      <th>23.0</th>\n",
       "      <td>91828.07</td>\n",
       "    </tr>\n",
       "    <tr>\n",
       "      <th>24.0</th>\n",
       "      <td>85736.46</td>\n",
       "    </tr>\n",
       "    <tr>\n",
       "      <th>25.0</th>\n",
       "      <td>91531.04</td>\n",
       "    </tr>\n",
       "    <tr>\n",
       "      <th>26.0</th>\n",
       "      <td>87798.44</td>\n",
       "    </tr>\n",
       "    <tr>\n",
       "      <th>27.0</th>\n",
       "      <td>132115.00</td>\n",
       "    </tr>\n",
       "    <tr>\n",
       "      <th>28.0</th>\n",
       "      <td>81161.57</td>\n",
       "    </tr>\n",
       "    <tr>\n",
       "      <th>29.0</th>\n",
       "      <td>72952.67</td>\n",
       "    </tr>\n",
       "  </tbody>\n",
       "</table>\n",
       "</div>"
      ],
      "text/plain": [
       "                   цена квадратного метра\n",
       "km_to_city_center                        \n",
       "0.0                             223445.68\n",
       "1.0                             146780.73\n",
       "2.0                             142199.73\n",
       "3.0                             119019.13\n",
       "4.0                             128244.07\n",
       "5.0                             136509.23\n",
       "6.0                             142920.74\n",
       "7.0                             147905.06\n",
       "8.0                             125072.60\n",
       "9.0                             113158.93\n",
       "10.0                            112785.39\n",
       "11.0                            107983.26\n",
       "12.0                            107490.28\n",
       "13.0                            108104.62\n",
       "14.0                            104200.78\n",
       "15.0                            104230.10\n",
       "16.0                            100542.17\n",
       "17.0                             96936.87\n",
       "18.0                             96361.84\n",
       "19.0                             98657.96\n",
       "20.0                            102471.73\n",
       "21.0                             94469.14\n",
       "22.0                             91329.97\n",
       "23.0                             91828.07\n",
       "24.0                             85736.46\n",
       "25.0                             91531.04\n",
       "26.0                             87798.44\n",
       "27.0                            132115.00\n",
       "28.0                             81161.57\n",
       "29.0                             72952.67"
      ]
     },
     "execution_count": 65,
     "metadata": {},
     "output_type": "execute_result"
    }
   ],
   "source": [
    "# фильтруем все данные по городу Санкт-Петербург и избавляется от пустых значений\n",
    "data_spb = data[(data['locality_name'] == 'Санкт-Петербург') & (~data['km_to_city_center'].isna())]\n",
    "\n",
    "# строим пивот\n",
    "mean_km_price = data_spb.pivot_table(index=['km_to_city_center'], values='square_meter_price', aggfunc='mean')\n",
    "\n",
    "\n",
    "# меняем название столбцов\n",
    "mean_km_price.columns = ['цена квадратного метра']\n",
    "mean_km_price.round(decimals=2)"
   ]
  },
  {
   "cell_type": "code",
   "execution_count": 66,
   "metadata": {},
   "outputs": [
    {
     "data": {
      "image/png": "[encoded data removed]",
      "text/plain": [
       "<Figure size 432x288 with 1 Axes>"
      ]
     },
     "metadata": {
      "needs_background": "light"
     },
     "output_type": "display_data"
    }
   ],
   "source": [
    "ax = mean_km_price.plot(grid=True);\n",
    "ax.set_xlabel(\"удалённость от центра в км\");\n",
    "ax.set_ylabel(\"цена квадратного метра\");\n",
    "title = ax.set_title(\"\\n\".join(wrap(\"График зависимости цены квадратного метра от удалённости от центра в км\", 50)))"
   ]
  },
  {
   "cell_type": "markdown",
   "metadata": {},
   "source": [
    "Из графика делаем вывод - чем дальше от центра находится квартира, тем дешевле стоимость квадратного метра.\n",
    "Есть пару аномальных всплесков"
   ]
  },
  {
   "cell_type": "markdown",
   "metadata": {},
   "source": [
    "## Общий вывод"
   ]
  },
  {
   "cell_type": "markdown",
   "metadata": {},
   "source": [
    "Была проделана плодотворная работа:\n",
    "- заполнение пропусков в столбцах, где это было возможно;\n",
    "- устранение неявных дубликатов в названиях населённых пунктов;\n",
    "- изменение типов данных, чтоб в дальнейшем можно было работать со столбцами;\n",
    "- избавление от аномальных значений;\n",
    "- добавление новых столбцов с данными для решения задач.\n",
    "\n",
    "Решены 5 задач:\n",
    "\n",
    "`1. Изучены параметры объектов на гистограммах.`\n",
    "\n",
    "Найдены и описаны разные зависимости типов данных и их влияние.\n",
    "\n",
    "`2. Изучена скорость продажи квартир.`\n",
    "\n",
    "Общая масса квартир продаётся в интервале до 95 дней, совпадает с медианным значением и считаются быстрыми продажами. Среднее арифмитическое в 180 дней уже попадает в категорию обычные продажи. Все объявления, что превышают длительнсоть свыше среднего значения продаются намного дольше, а необычно долгими продажами являются квартиры со сроком более 800 дней.\n",
    "\n",
    "`3. Изучен фактор влияния на общую (полную) стоимость объекта.`\n",
    "\n",
    "Хочется сказать, что тут очевидный фактор цены - это общий метраж квартиры, но на самом деле общий метраж напрямую зависит от количества комнат, а дни и недели не имеют особого влияния. Какая разница когда покупать квартиру по хорошей цене.\n",
    "\n",
    "`4. Выделили населённые пункты с самой высокой и низкой стоимостью квадратного метра.`\n",
    "\n",
    "На удивление, на втором месте оказался город Пушкин, который не является рекордсменом по количеству объявлений о продаже, однако, стоимость квадратного метра там почти ничем не уступает лидеру городу Санкт-Петербургу с ценой за 1*кв*м в 112771.58 рубль.\n",
    "\n",
    "`5. Расчитали средню цену каждого километра для города Санкт-Петербург.`\n",
    "\n",
    "Подтвердился логичный вывод - чем дальше от центра, тем дешевле стоимость квадратного метра.\n",
    "\n",
    "На последок, основываясь на данных, хочется сказать, что если квартира не продалась за 95 дней, то стоит подумать, что в объявлении не так и не ждать момента, когда дни продаж перейдут за критический уровень в 169 дней. Ведь если продаётся квартира - значит есть цель выручить за неё деньги. Лучше скинуть немного цену и уступить своим принципам, нежели сидеть с объявлением по несколько лет и надеяться, что однажды ты увидишь своего покупателя и по итогу уступишь ему в цене, потому что нет сил уже ждать."
   ]
  },
  {
   "cell_type": "markdown",
   "metadata": {},
   "source": [
    "**Чек-лист готовности проекта**\n",
    "\n",
    "Поставьте 'x' в выполненных пунктах. Далее нажмите Shift+Enter."
   ]
  },
  {
   "cell_type": "markdown",
   "metadata": {},
   "source": [
    "- [x]  открыт файл\n",
    "- [x]  файлы изучены (выведены первые строки, метод `info()`, гистограммы и т.д.)\n",
    "- [x]  определены пропущенные значения\n",
    "- [x]  заполнены пропущенные значения там, где это возможно\n",
    "- [x]  есть пояснение, какие пропущенные значения обнаружены\n",
    "- [x]  изменены типы данных\n",
    "- [x]  есть пояснение, в каких столбцах изменены типы и почему\n",
    "- [x]  устранены неявные дубликаты в названиях населённых пунктов\n",
    "- [x]  устранены редкие и выбивающиеся значения (аномалии) во всех столбцах\n",
    "- [x]  посчитано и добавлено в таблицу: цена одного квадратного метра\n",
    "- [x]  посчитано и добавлено в таблицу: день публикации объявления (0 - понедельник, 1 - вторник и т.д.)\n",
    "- [x]  посчитано и добавлено в таблицу: месяц публикации объявления\n",
    "- [x]  посчитано и добавлено в таблицу: год публикации объявления\n",
    "- [x]  посчитано и добавлено в таблицу: тип этажа квартиры (значения — «первый», «последний», «другой»)\n",
    "- [x]  посчитано и добавлено в таблицу: расстояние в км до центра города\n",
    "- [x]  изучены и описаны следующие параметры:\n",
    "        - общая площадь;\n",
    "        - жилая площадь;\n",
    "        - площадь кухни;\n",
    "        - цена объекта;\n",
    "        - количество комнат;\n",
    "        - высота потолков;\n",
    "        - этаж квартиры;\n",
    "        - тип этажа квартиры («первый», «последний», «другой»);\n",
    "        - общее количество этажей в доме;\n",
    "        - расстояние до центра города в метрах;\n",
    "        - расстояние до ближайшего аэропорта;\n",
    "        - расстояние до ближайшего парка;\n",
    "        - день и месяц публикации объявления\n",
    "- [x]  построены гистограммы для каждого параметра\n",
    "- [x]  выполнено задание: \"Изучите, как быстро продавались квартиры (столбец days_exposition). Этот параметр показывает, сколько дней «висело» каждое объявление.\n",
    "    - Постройте гистограмму.\n",
    "    - Посчитайте среднее и медиану.\n",
    "    - В ячейке типа markdown опишите, сколько обычно занимает продажа. Какие продажи можно считать быстрыми, а какие — необычно долгими?\"\n",
    "- [x]  выполнено задание: \"Какие факторы больше всего влияют на общую (полную) стоимость объекта? Постройте графики, которые покажут зависимость цены от указанных ниже параметров. Для подготовки данных перед визуализацией вы можете использовать сводные таблицы.\"\n",
    "        - общей площади;\n",
    "        - жилой площади;\n",
    "        - площади кухни;\n",
    "        - количество комнат;\n",
    "        - типа этажа, на котором расположена квартира (первый, последний, другой);\n",
    "        - даты размещения (день недели, месяц, год);\n",
    "- [x]  выполнено задание: \"Посчитайте среднюю цену одного квадратного метра в 10 населённых пунктах с наибольшим числом объявлений. Выделите населённые пункты с самой высокой и низкой стоимостью квадратного метра. Эти данные можно найти по имени в столбце `locality_name`.\"\n",
    "- [x]  выполнено задание: \"Ранее вы посчитали расстояние до центра в километрах. Теперь выделите квартиры в Санкт-Петербурге с помощью столбца `locality_name` и вычислите среднюю цену каждого километра. Опишите, как стоимость объектов зависит от расстояния до центра города.\"\n",
    "- [x]  в каждом этапе есть промежуточные выводы\n",
    "- [x]  есть общий вывод"
   ]
  }
 ],
 "metadata": {
  "ExecuteTimeLog": [
   {
    "duration": 595,
    "start_time": "2022-07-28T12:54:16.366Z"
   },
   {
    "duration": 187,
    "start_time": "2022-07-28T12:54:44.441Z"
   },
   {
    "duration": 310,
    "start_time": "2022-07-28T13:13:53.962Z"
   },
   {
    "duration": 300,
    "start_time": "2022-07-28T13:14:22.779Z"
   },
   {
    "duration": 366,
    "start_time": "2022-07-28T13:14:58.761Z"
   },
   {
    "duration": 11,
    "start_time": "2022-07-28T13:15:07.274Z"
   },
   {
    "duration": 169,
    "start_time": "2022-07-28T13:15:16.049Z"
   },
   {
    "duration": 2,
    "start_time": "2022-07-28T13:15:49.859Z"
   },
   {
    "duration": 7,
    "start_time": "2022-07-28T13:18:54.000Z"
   },
   {
    "duration": 233,
    "start_time": "2022-07-28T13:19:21.850Z"
   },
   {
    "duration": 73,
    "start_time": "2022-07-28T13:19:31.672Z"
   },
   {
    "duration": 51,
    "start_time": "2022-07-28T13:19:37.948Z"
   },
   {
    "duration": 876,
    "start_time": "2022-07-28T13:19:42.488Z"
   },
   {
    "duration": 140,
    "start_time": "2022-07-28T13:19:50.680Z"
   },
   {
    "duration": 172,
    "start_time": "2022-07-28T13:20:01.055Z"
   },
   {
    "duration": 149,
    "start_time": "2022-07-28T13:20:34.704Z"
   },
   {
    "duration": 1804,
    "start_time": "2022-07-28T13:20:41.360Z"
   },
   {
    "duration": 119,
    "start_time": "2022-07-28T13:22:28.687Z"
   },
   {
    "duration": 5,
    "start_time": "2022-07-28T13:22:36.687Z"
   },
   {
    "duration": 161,
    "start_time": "2022-07-28T13:23:37.865Z"
   },
   {
    "duration": 22,
    "start_time": "2022-07-28T13:23:39.390Z"
   },
   {
    "duration": 26,
    "start_time": "2022-07-28T13:35:11.185Z"
   },
   {
    "duration": 247,
    "start_time": "2022-07-28T13:35:17.850Z"
   },
   {
    "duration": 161,
    "start_time": "2022-07-28T13:35:19.489Z"
   },
   {
    "duration": 1784,
    "start_time": "2022-07-28T13:37:17.260Z"
   },
   {
    "duration": 139,
    "start_time": "2022-07-28T13:38:51.241Z"
   },
   {
    "duration": 1828,
    "start_time": "2022-07-28T13:38:52.784Z"
   },
   {
    "duration": 11,
    "start_time": "2022-07-28T13:43:43.991Z"
   },
   {
    "duration": 7,
    "start_time": "2022-07-28T13:49:39.125Z"
   },
   {
    "duration": 5,
    "start_time": "2022-07-28T13:49:49.062Z"
   },
   {
    "duration": 11,
    "start_time": "2022-07-28T13:49:55.764Z"
   },
   {
    "duration": 7,
    "start_time": "2022-07-28T13:50:00.220Z"
   },
   {
    "duration": 5,
    "start_time": "2022-07-28T13:50:41.884Z"
   },
   {
    "duration": 6,
    "start_time": "2022-07-28T13:50:47.835Z"
   },
   {
    "duration": 252,
    "start_time": "2022-07-28T13:51:51.564Z"
   },
   {
    "duration": 219,
    "start_time": "2022-07-28T13:52:35.404Z"
   },
   {
    "duration": 5,
    "start_time": "2022-07-28T14:02:42.022Z"
   },
   {
    "duration": 5,
    "start_time": "2022-07-28T14:02:44.259Z"
   },
   {
    "duration": 7,
    "start_time": "2022-07-28T14:02:46.563Z"
   },
   {
    "duration": 5,
    "start_time": "2022-07-28T14:09:40.499Z"
   },
   {
    "duration": 10,
    "start_time": "2022-07-28T14:09:44.544Z"
   },
   {
    "duration": 5,
    "start_time": "2022-07-28T14:09:55.760Z"
   },
   {
    "duration": 7,
    "start_time": "2022-07-28T14:10:04.095Z"
   },
   {
    "duration": 831,
    "start_time": "2022-07-28T14:10:19.088Z"
   },
   {
    "duration": 6,
    "start_time": "2022-07-28T14:10:23.672Z"
   },
   {
    "duration": 5,
    "start_time": "2022-07-28T14:10:28.847Z"
   },
   {
    "duration": 10,
    "start_time": "2022-07-28T14:10:31.511Z"
   },
   {
    "duration": 4,
    "start_time": "2022-07-28T14:11:04.250Z"
   },
   {
    "duration": 5,
    "start_time": "2022-07-28T14:11:09.959Z"
   },
   {
    "duration": 4,
    "start_time": "2022-07-28T14:11:13.440Z"
   },
   {
    "duration": 5,
    "start_time": "2022-07-28T14:11:19.503Z"
   },
   {
    "duration": 6,
    "start_time": "2022-07-28T14:16:03.310Z"
   },
   {
    "duration": 6,
    "start_time": "2022-07-28T14:16:18.406Z"
   },
   {
    "duration": 6,
    "start_time": "2022-07-28T14:37:48.869Z"
   },
   {
    "duration": 5,
    "start_time": "2022-07-28T14:37:52.590Z"
   },
   {
    "duration": 5,
    "start_time": "2022-07-28T16:01:27.776Z"
   },
   {
    "duration": 7,
    "start_time": "2022-07-28T16:01:45.224Z"
   },
   {
    "duration": 5,
    "start_time": "2022-07-28T16:02:20.343Z"
   },
   {
    "duration": 5,
    "start_time": "2022-07-28T16:02:23.591Z"
   },
   {
    "duration": 5,
    "start_time": "2022-07-28T16:02:26.416Z"
   },
   {
    "duration": 4,
    "start_time": "2022-07-28T16:02:52.127Z"
   },
   {
    "duration": 4,
    "start_time": "2022-07-28T16:02:54.065Z"
   },
   {
    "duration": 10,
    "start_time": "2022-07-28T16:03:51.720Z"
   },
   {
    "duration": 3,
    "start_time": "2022-07-28T16:03:58.784Z"
   },
   {
    "duration": 3,
    "start_time": "2022-07-28T16:04:00.648Z"
   },
   {
    "duration": 2,
    "start_time": "2022-07-28T16:04:03.119Z"
   },
   {
    "duration": 9,
    "start_time": "2022-07-28T16:04:05.042Z"
   },
   {
    "duration": 45,
    "start_time": "2022-07-28T16:04:16.880Z"
   },
   {
    "duration": 617,
    "start_time": "2022-07-28T16:04:27.259Z"
   },
   {
    "duration": 1870,
    "start_time": "2022-07-28T16:04:27.878Z"
   },
   {
    "duration": 9,
    "start_time": "2022-07-28T16:04:32.909Z"
   },
   {
    "duration": 5,
    "start_time": "2022-07-28T16:04:45.556Z"
   },
   {
    "duration": 10,
    "start_time": "2022-07-28T16:04:51.092Z"
   },
   {
    "duration": 6,
    "start_time": "2022-07-28T16:06:22.923Z"
   },
   {
    "duration": 5,
    "start_time": "2022-07-28T16:12:08.674Z"
   },
   {
    "duration": 4,
    "start_time": "2022-07-28T16:12:13.490Z"
   },
   {
    "duration": 5,
    "start_time": "2022-07-28T16:12:16.315Z"
   },
   {
    "duration": 4,
    "start_time": "2022-07-28T16:12:19.170Z"
   },
   {
    "duration": 7,
    "start_time": "2022-07-28T16:14:04.890Z"
   },
   {
    "duration": 6,
    "start_time": "2022-07-28T16:14:07.921Z"
   },
   {
    "duration": 8,
    "start_time": "2022-07-28T16:14:42.337Z"
   },
   {
    "duration": 5,
    "start_time": "2022-07-28T16:14:44.027Z"
   },
   {
    "duration": 41,
    "start_time": "2022-07-28T16:14:58.107Z"
   },
   {
    "duration": 7,
    "start_time": "2022-07-28T16:14:59.856Z"
   },
   {
    "duration": 646,
    "start_time": "2022-07-28T16:15:02.449Z"
   },
   {
    "duration": 1931,
    "start_time": "2022-07-28T16:15:03.097Z"
   },
   {
    "duration": 9,
    "start_time": "2022-07-28T16:15:05.030Z"
   },
   {
    "duration": 72,
    "start_time": "2022-07-28T16:15:05.040Z"
   },
   {
    "duration": 0,
    "start_time": "2022-07-28T16:15:05.113Z"
   },
   {
    "duration": 9,
    "start_time": "2022-07-28T16:15:09.361Z"
   },
   {
    "duration": 8,
    "start_time": "2022-07-28T16:15:13.424Z"
   },
   {
    "duration": 5,
    "start_time": "2022-07-28T16:15:15.456Z"
   },
   {
    "duration": 5,
    "start_time": "2022-07-28T16:16:19.537Z"
   },
   {
    "duration": 4,
    "start_time": "2022-07-28T16:16:22.601Z"
   },
   {
    "duration": 4,
    "start_time": "2022-07-28T16:16:28.561Z"
   },
   {
    "duration": 32,
    "start_time": "2022-07-28T16:16:33.296Z"
   },
   {
    "duration": 13,
    "start_time": "2022-07-28T16:16:35.648Z"
   },
   {
    "duration": 8,
    "start_time": "2022-07-28T16:18:40.560Z"
   },
   {
    "duration": 564,
    "start_time": "2022-07-28T16:19:54.359Z"
   },
   {
    "duration": 1907,
    "start_time": "2022-07-28T16:19:54.925Z"
   },
   {
    "duration": 9,
    "start_time": "2022-07-28T16:19:56.833Z"
   },
   {
    "duration": 4,
    "start_time": "2022-07-28T16:20:01.128Z"
   },
   {
    "duration": 8,
    "start_time": "2022-07-28T16:20:03.303Z"
   },
   {
    "duration": 6,
    "start_time": "2022-07-28T16:20:11.863Z"
   },
   {
    "duration": 3,
    "start_time": "2022-07-28T16:22:44.094Z"
   },
   {
    "duration": 17,
    "start_time": "2022-07-28T16:22:46.863Z"
   },
   {
    "duration": 55,
    "start_time": "2022-07-28T16:26:17.814Z"
   },
   {
    "duration": 6,
    "start_time": "2022-07-28T16:26:21.165Z"
   },
   {
    "duration": 5,
    "start_time": "2022-07-28T16:26:31.093Z"
   },
   {
    "duration": 12,
    "start_time": "2022-07-28T16:26:36.341Z"
   },
   {
    "duration": 56,
    "start_time": "2022-07-28T16:26:51.237Z"
   },
   {
    "duration": 539,
    "start_time": "2022-07-28T16:26:58.074Z"
   },
   {
    "duration": 1901,
    "start_time": "2022-07-28T16:26:58.615Z"
   },
   {
    "duration": 9,
    "start_time": "2022-07-28T16:27:00.517Z"
   },
   {
    "duration": 57,
    "start_time": "2022-07-28T16:27:03.216Z"
   },
   {
    "duration": 6,
    "start_time": "2022-07-28T16:27:06.352Z"
   },
   {
    "duration": 4,
    "start_time": "2022-07-28T16:27:09.448Z"
   },
   {
    "duration": 13,
    "start_time": "2022-07-28T16:27:14.016Z"
   },
   {
    "duration": 60,
    "start_time": "2022-07-28T16:28:01.119Z"
   },
   {
    "duration": 6,
    "start_time": "2022-07-28T16:28:03.592Z"
   },
   {
    "duration": 4,
    "start_time": "2022-07-28T16:28:06.587Z"
   },
   {
    "duration": 13,
    "start_time": "2022-07-28T16:28:13.943Z"
   },
   {
    "duration": 58,
    "start_time": "2022-07-28T16:28:34.920Z"
   },
   {
    "duration": 5,
    "start_time": "2022-07-28T16:28:38.240Z"
   },
   {
    "duration": 5,
    "start_time": "2022-07-28T16:28:40.081Z"
   },
   {
    "duration": 49,
    "start_time": "2022-07-28T16:28:42.641Z"
   },
   {
    "duration": 50,
    "start_time": "2022-07-28T16:28:45.837Z"
   },
   {
    "duration": 49,
    "start_time": "2022-07-28T16:28:47.600Z"
   },
   {
    "duration": 6,
    "start_time": "2022-07-28T16:28:49.215Z"
   },
   {
    "duration": 4,
    "start_time": "2022-07-28T16:28:50.874Z"
   },
   {
    "duration": 51,
    "start_time": "2022-07-28T16:28:54.033Z"
   },
   {
    "duration": 8,
    "start_time": "2022-07-28T16:30:15.336Z"
   },
   {
    "duration": 5,
    "start_time": "2022-07-28T16:31:20.424Z"
   },
   {
    "duration": 4,
    "start_time": "2022-07-28T16:31:22.591Z"
   },
   {
    "duration": 6,
    "start_time": "2022-07-28T16:34:10.637Z"
   },
   {
    "duration": 292,
    "start_time": "2022-07-28T16:34:37.871Z"
   },
   {
    "duration": 4,
    "start_time": "2022-07-28T16:42:54.403Z"
   },
   {
    "duration": 10,
    "start_time": "2022-07-28T16:42:59.515Z"
   },
   {
    "duration": 9,
    "start_time": "2022-07-28T16:43:45.298Z"
   },
   {
    "duration": 5,
    "start_time": "2022-07-28T16:53:58.612Z"
   },
   {
    "duration": 32,
    "start_time": "2022-07-28T16:54:02.206Z"
   },
   {
    "duration": 34,
    "start_time": "2022-07-28T16:54:58.383Z"
   },
   {
    "duration": 4,
    "start_time": "2022-07-28T17:30:09.196Z"
   },
   {
    "duration": 55,
    "start_time": "2022-07-28T17:31:41.948Z"
   },
   {
    "duration": 52,
    "start_time": "2022-07-28T17:31:44.377Z"
   },
   {
    "duration": 52,
    "start_time": "2022-07-28T17:31:45.681Z"
   },
   {
    "duration": 10,
    "start_time": "2022-07-28T17:31:47.912Z"
   },
   {
    "duration": 6,
    "start_time": "2022-07-28T17:32:11.367Z"
   },
   {
    "duration": 6,
    "start_time": "2022-07-28T17:32:19.873Z"
   },
   {
    "duration": 22,
    "start_time": "2022-07-28T17:35:39.719Z"
   },
   {
    "duration": 28,
    "start_time": "2022-07-28T17:35:45.147Z"
   },
   {
    "duration": 57,
    "start_time": "2022-07-28T17:38:35.391Z"
   },
   {
    "duration": 11,
    "start_time": "2022-07-28T17:38:39.440Z"
   },
   {
    "duration": 6,
    "start_time": "2022-07-28T17:42:59.533Z"
   },
   {
    "duration": 52,
    "start_time": "2022-07-28T17:48:44.892Z"
   },
   {
    "duration": 3,
    "start_time": "2022-07-28T17:48:57.952Z"
   },
   {
    "duration": 7,
    "start_time": "2022-07-28T17:49:00.516Z"
   },
   {
    "duration": 7,
    "start_time": "2022-07-28T17:49:56.653Z"
   },
   {
    "duration": 4,
    "start_time": "2022-07-28T17:49:58.187Z"
   },
   {
    "duration": 47,
    "start_time": "2022-07-28T17:50:27.723Z"
   },
   {
    "duration": 3,
    "start_time": "2022-07-28T17:50:48.317Z"
   },
   {
    "duration": 584,
    "start_time": "2022-07-28T17:50:54.923Z"
   },
   {
    "duration": 1903,
    "start_time": "2022-07-28T17:50:55.509Z"
   },
   {
    "duration": 9,
    "start_time": "2022-07-28T17:50:57.413Z"
   },
   {
    "duration": 68,
    "start_time": "2022-07-28T17:50:57.423Z"
   },
   {
    "duration": 57,
    "start_time": "2022-07-28T17:50:59.195Z"
   },
   {
    "duration": 3,
    "start_time": "2022-07-28T17:51:00.876Z"
   },
   {
    "duration": 8,
    "start_time": "2022-07-28T17:51:02.253Z"
   },
   {
    "duration": 7,
    "start_time": "2022-07-28T17:52:07.830Z"
   },
   {
    "duration": 24,
    "start_time": "2022-07-28T17:52:09.300Z"
   },
   {
    "duration": 6,
    "start_time": "2022-07-28T17:52:11.242Z"
   },
   {
    "duration": 670,
    "start_time": "2022-07-28T17:52:31.542Z"
   },
   {
    "duration": 1942,
    "start_time": "2022-07-28T17:52:32.214Z"
   },
   {
    "duration": 11,
    "start_time": "2022-07-28T17:52:34.158Z"
   },
   {
    "duration": 68,
    "start_time": "2022-07-28T17:52:34.170Z"
   },
   {
    "duration": 4,
    "start_time": "2022-07-28T17:52:34.240Z"
   },
   {
    "duration": 5,
    "start_time": "2022-07-28T17:52:34.276Z"
   },
   {
    "duration": 63,
    "start_time": "2022-07-28T17:52:35.708Z"
   },
   {
    "duration": 6,
    "start_time": "2022-07-28T17:55:06.004Z"
   },
   {
    "duration": 4,
    "start_time": "2022-07-28T17:56:44.486Z"
   },
   {
    "duration": 7,
    "start_time": "2022-07-28T17:56:46.745Z"
   },
   {
    "duration": 5,
    "start_time": "2022-07-28T17:56:48.684Z"
   },
   {
    "duration": 680,
    "start_time": "2022-07-28T17:57:01.544Z"
   },
   {
    "duration": 1974,
    "start_time": "2022-07-28T17:57:02.226Z"
   },
   {
    "duration": 9,
    "start_time": "2022-07-28T17:57:04.201Z"
   },
   {
    "duration": 64,
    "start_time": "2022-07-28T17:57:04.211Z"
   },
   {
    "duration": 7,
    "start_time": "2022-07-28T17:57:04.277Z"
   },
   {
    "duration": 8,
    "start_time": "2022-07-28T17:57:06.688Z"
   },
   {
    "duration": 7,
    "start_time": "2022-07-28T17:59:49.672Z"
   },
   {
    "duration": 5,
    "start_time": "2022-07-28T17:59:51.138Z"
   },
   {
    "duration": 217,
    "start_time": "2022-07-28T18:00:09.908Z"
   },
   {
    "duration": 7,
    "start_time": "2022-07-28T18:00:32.567Z"
   },
   {
    "duration": 5,
    "start_time": "2022-07-28T18:00:34.527Z"
   },
   {
    "duration": 696,
    "start_time": "2022-07-28T18:00:54.449Z"
   },
   {
    "duration": 1980,
    "start_time": "2022-07-28T18:00:55.147Z"
   },
   {
    "duration": 9,
    "start_time": "2022-07-28T18:00:57.129Z"
   },
   {
    "duration": 67,
    "start_time": "2022-07-28T18:00:57.139Z"
   },
   {
    "duration": 7,
    "start_time": "2022-07-28T18:01:19.594Z"
   },
   {
    "duration": 10,
    "start_time": "2022-07-28T18:38:18.545Z"
   },
   {
    "duration": 8,
    "start_time": "2022-07-28T18:38:20.504Z"
   },
   {
    "duration": 6,
    "start_time": "2022-07-28T18:38:30.485Z"
   },
   {
    "duration": 28,
    "start_time": "2022-07-28T18:39:02.602Z"
   },
   {
    "duration": 65,
    "start_time": "2022-07-28T18:39:08.401Z"
   },
   {
    "duration": 53,
    "start_time": "2022-07-28T18:46:01.355Z"
   },
   {
    "duration": 61,
    "start_time": "2022-07-28T18:46:25.585Z"
   },
   {
    "duration": 8,
    "start_time": "2022-07-28T18:46:45.598Z"
   },
   {
    "duration": 44,
    "start_time": "2022-07-28T18:46:48.271Z"
   },
   {
    "duration": 857,
    "start_time": "2022-07-28T18:47:11.191Z"
   },
   {
    "duration": 8,
    "start_time": "2022-07-28T18:48:02.760Z"
   },
   {
    "duration": 64,
    "start_time": "2022-07-28T18:48:11.399Z"
   },
   {
    "duration": 8,
    "start_time": "2022-07-28T18:48:16.075Z"
   },
   {
    "duration": 9,
    "start_time": "2022-07-28T18:48:18.654Z"
   },
   {
    "duration": 620,
    "start_time": "2022-07-28T18:48:24.438Z"
   },
   {
    "duration": 1949,
    "start_time": "2022-07-28T18:48:25.059Z"
   },
   {
    "duration": 9,
    "start_time": "2022-07-28T18:48:27.010Z"
   },
   {
    "duration": 81,
    "start_time": "2022-07-28T18:48:27.021Z"
   },
   {
    "duration": 8,
    "start_time": "2022-07-28T18:48:27.103Z"
   },
   {
    "duration": 32,
    "start_time": "2022-07-28T18:48:27.113Z"
   },
   {
    "duration": 942,
    "start_time": "2022-07-28T18:48:27.147Z"
   },
   {
    "duration": 59,
    "start_time": "2022-07-28T18:48:35.507Z"
   },
   {
    "duration": 5,
    "start_time": "2022-07-28T18:49:06.130Z"
   },
   {
    "duration": 9,
    "start_time": "2022-07-28T18:49:17.748Z"
   },
   {
    "duration": 659,
    "start_time": "2022-07-28T18:49:22.652Z"
   },
   {
    "duration": 1907,
    "start_time": "2022-07-28T18:49:23.313Z"
   },
   {
    "duration": 10,
    "start_time": "2022-07-28T18:49:25.221Z"
   },
   {
    "duration": 66,
    "start_time": "2022-07-28T18:49:25.233Z"
   },
   {
    "duration": 7,
    "start_time": "2022-07-28T18:49:25.300Z"
   },
   {
    "duration": 19,
    "start_time": "2022-07-28T18:49:25.309Z"
   },
   {
    "duration": 807,
    "start_time": "2022-07-28T18:49:25.330Z"
   },
   {
    "duration": 770,
    "start_time": "2022-07-28T18:49:31.574Z"
   },
   {
    "duration": 54,
    "start_time": "2022-07-28T18:49:35.133Z"
   },
   {
    "duration": 4,
    "start_time": "2022-07-28T18:49:37.285Z"
   },
   {
    "duration": 8,
    "start_time": "2022-07-28T18:50:24.973Z"
   },
   {
    "duration": 7,
    "start_time": "2022-07-28T18:50:34.037Z"
   },
   {
    "duration": 11,
    "start_time": "2022-07-28T18:51:20.781Z"
   },
   {
    "duration": 5,
    "start_time": "2022-07-28T19:07:39.993Z"
   },
   {
    "duration": 2,
    "start_time": "2022-07-28T19:07:48.627Z"
   },
   {
    "duration": 645,
    "start_time": "2022-07-28T19:08:06.090Z"
   },
   {
    "duration": 2062,
    "start_time": "2022-07-28T19:08:06.738Z"
   },
   {
    "duration": 10,
    "start_time": "2022-07-28T19:08:08.802Z"
   },
   {
    "duration": 74,
    "start_time": "2022-07-28T19:08:08.814Z"
   },
   {
    "duration": 57,
    "start_time": "2022-07-28T19:08:11.994Z"
   },
   {
    "duration": 5,
    "start_time": "2022-07-28T19:08:15.689Z"
   },
   {
    "duration": 7,
    "start_time": "2022-07-28T19:08:19.401Z"
   },
   {
    "duration": 7,
    "start_time": "2022-07-28T19:08:44.056Z"
   },
   {
    "duration": 25,
    "start_time": "2022-07-28T19:08:59.769Z"
   },
   {
    "duration": 565,
    "start_time": "2022-07-28T19:09:16.334Z"
   },
   {
    "duration": 2011,
    "start_time": "2022-07-28T19:09:16.901Z"
   },
   {
    "duration": 10,
    "start_time": "2022-07-28T19:09:18.913Z"
   },
   {
    "duration": 78,
    "start_time": "2022-07-28T19:09:18.925Z"
   },
   {
    "duration": 3,
    "start_time": "2022-07-28T19:09:19.005Z"
   },
   {
    "duration": 880,
    "start_time": "2022-07-28T19:09:20.761Z"
   },
   {
    "duration": 24,
    "start_time": "2022-07-28T19:09:25.097Z"
   },
   {
    "duration": 822,
    "start_time": "2022-07-28T19:10:35.164Z"
   },
   {
    "duration": 2040,
    "start_time": "2022-07-28T19:10:35.988Z"
   },
   {
    "duration": 8,
    "start_time": "2022-07-28T19:10:38.030Z"
   },
   {
    "duration": 74,
    "start_time": "2022-07-28T19:10:38.040Z"
   },
   {
    "duration": 3,
    "start_time": "2022-07-28T19:10:38.116Z"
   },
   {
    "duration": 7,
    "start_time": "2022-07-28T19:10:38.888Z"
   },
   {
    "duration": 2,
    "start_time": "2022-07-28T19:10:43.285Z"
   },
   {
    "duration": 24,
    "start_time": "2022-07-28T19:10:45.413Z"
   },
   {
    "duration": 68,
    "start_time": "2022-07-28T19:10:51.341Z"
   },
   {
    "duration": 67,
    "start_time": "2022-07-28T19:10:55.092Z"
   },
   {
    "duration": 54,
    "start_time": "2022-07-28T19:11:01.509Z"
   },
   {
    "duration": 6,
    "start_time": "2022-07-28T19:13:48.088Z"
   },
   {
    "duration": 7,
    "start_time": "2022-07-28T19:13:51.836Z"
   },
   {
    "duration": 17,
    "start_time": "2022-07-28T19:15:59.131Z"
   },
   {
    "duration": 6,
    "start_time": "2022-07-28T19:16:02.059Z"
   },
   {
    "duration": 32,
    "start_time": "2022-07-28T19:16:25.116Z"
   },
   {
    "duration": 6,
    "start_time": "2022-07-28T19:16:30.186Z"
   },
   {
    "duration": 23,
    "start_time": "2022-07-28T19:16:57.634Z"
   },
   {
    "duration": 52,
    "start_time": "2022-07-28T19:17:10.139Z"
   },
   {
    "duration": 22,
    "start_time": "2022-07-28T19:17:13.868Z"
   },
   {
    "duration": 566,
    "start_time": "2022-07-28T19:17:24.314Z"
   },
   {
    "duration": 1862,
    "start_time": "2022-07-28T19:17:24.882Z"
   },
   {
    "duration": 9,
    "start_time": "2022-07-28T19:17:26.746Z"
   },
   {
    "duration": 78,
    "start_time": "2022-07-28T19:17:26.757Z"
   },
   {
    "duration": 4,
    "start_time": "2022-07-28T19:17:26.837Z"
   },
   {
    "duration": 50,
    "start_time": "2022-07-28T19:17:32.510Z"
   },
   {
    "duration": 25,
    "start_time": "2022-07-28T19:17:40.365Z"
   },
   {
    "duration": 52,
    "start_time": "2022-07-28T19:18:08.981Z"
   },
   {
    "duration": 597,
    "start_time": "2022-07-28T19:18:14.814Z"
   },
   {
    "duration": 1878,
    "start_time": "2022-07-28T19:18:15.413Z"
   },
   {
    "duration": 8,
    "start_time": "2022-07-28T19:18:17.293Z"
   },
   {
    "duration": 76,
    "start_time": "2022-07-28T19:18:17.302Z"
   },
   {
    "duration": 3,
    "start_time": "2022-07-28T19:18:17.380Z"
   },
   {
    "duration": 60,
    "start_time": "2022-07-28T19:18:19.894Z"
   },
   {
    "duration": 50,
    "start_time": "2022-07-28T19:18:22.166Z"
   },
   {
    "duration": 22,
    "start_time": "2022-07-28T19:18:26.712Z"
   },
   {
    "duration": 52,
    "start_time": "2022-07-28T19:18:46.470Z"
   },
   {
    "duration": 24,
    "start_time": "2022-07-28T19:18:49.166Z"
   },
   {
    "duration": 628,
    "start_time": "2022-07-28T19:19:01.185Z"
   },
   {
    "duration": 1956,
    "start_time": "2022-07-28T19:19:01.816Z"
   },
   {
    "duration": 9,
    "start_time": "2022-07-28T19:19:03.773Z"
   },
   {
    "duration": 74,
    "start_time": "2022-07-28T19:19:03.784Z"
   },
   {
    "duration": 3,
    "start_time": "2022-07-28T19:19:03.859Z"
   },
   {
    "duration": 23,
    "start_time": "2022-07-28T19:19:10.293Z"
   },
   {
    "duration": 1637,
    "start_time": "2022-07-28T19:22:28.133Z"
   },
   {
    "duration": 1762,
    "start_time": "2022-07-28T19:22:35.445Z"
   },
   {
    "duration": 3,
    "start_time": "2022-07-28T19:33:59.367Z"
   },
   {
    "duration": 28,
    "start_time": "2022-07-28T19:34:01.305Z"
   },
   {
    "duration": 4,
    "start_time": "2022-07-28T19:34:24.377Z"
   },
   {
    "duration": 573,
    "start_time": "2022-07-28T19:34:31.911Z"
   },
   {
    "duration": 1878,
    "start_time": "2022-07-28T19:34:32.486Z"
   },
   {
    "duration": 9,
    "start_time": "2022-07-28T19:34:34.365Z"
   },
   {
    "duration": 71,
    "start_time": "2022-07-28T19:34:34.375Z"
   },
   {
    "duration": 3,
    "start_time": "2022-07-28T19:34:34.448Z"
   },
   {
    "duration": 4,
    "start_time": "2022-07-28T19:34:35.238Z"
   },
   {
    "duration": 24,
    "start_time": "2022-07-28T19:34:37.949Z"
   },
   {
    "duration": 24,
    "start_time": "2022-07-28T19:34:58.021Z"
   },
   {
    "duration": 27,
    "start_time": "2022-07-28T19:35:01.630Z"
   },
   {
    "duration": 603,
    "start_time": "2022-07-28T19:36:22.279Z"
   },
   {
    "duration": 1877,
    "start_time": "2022-07-28T19:36:22.883Z"
   },
   {
    "duration": 9,
    "start_time": "2022-07-28T19:36:24.761Z"
   },
   {
    "duration": 67,
    "start_time": "2022-07-28T19:36:24.771Z"
   },
   {
    "duration": 3,
    "start_time": "2022-07-28T19:36:24.840Z"
   },
   {
    "duration": 56,
    "start_time": "2022-07-28T19:36:28.541Z"
   },
   {
    "duration": 165,
    "start_time": "2022-07-28T19:36:30.053Z"
   },
   {
    "duration": 26,
    "start_time": "2022-07-28T19:36:36.838Z"
   },
   {
    "duration": 6,
    "start_time": "2022-07-28T19:36:46.094Z"
   },
   {
    "duration": 171,
    "start_time": "2022-07-28T19:39:26.596Z"
   },
   {
    "duration": 6,
    "start_time": "2022-07-28T19:39:29.011Z"
   },
   {
    "duration": 6,
    "start_time": "2022-07-28T19:39:30.581Z"
   },
   {
    "duration": 26,
    "start_time": "2022-07-28T19:39:32.965Z"
   },
   {
    "duration": 5,
    "start_time": "2022-07-28T19:39:58.388Z"
   },
   {
    "duration": 5,
    "start_time": "2022-07-28T19:40:01.156Z"
   },
   {
    "duration": 6,
    "start_time": "2022-07-28T19:40:10.516Z"
   },
   {
    "duration": 6,
    "start_time": "2022-07-28T19:40:15.244Z"
   },
   {
    "duration": 7,
    "start_time": "2022-07-28T19:40:16.723Z"
   },
   {
    "duration": 10,
    "start_time": "2022-07-28T19:40:39.435Z"
   },
   {
    "duration": 599,
    "start_time": "2022-07-28T19:41:44.981Z"
   },
   {
    "duration": 1899,
    "start_time": "2022-07-28T19:41:45.581Z"
   },
   {
    "duration": 8,
    "start_time": "2022-07-28T19:41:47.481Z"
   },
   {
    "duration": 64,
    "start_time": "2022-07-28T19:41:47.491Z"
   },
   {
    "duration": 54,
    "start_time": "2022-07-28T19:41:49.244Z"
   },
   {
    "duration": 194,
    "start_time": "2022-07-28T19:41:50.676Z"
   },
   {
    "duration": 7,
    "start_time": "2022-07-28T19:41:52.547Z"
   },
   {
    "duration": 6,
    "start_time": "2022-07-28T19:41:54.108Z"
   },
   {
    "duration": 24,
    "start_time": "2022-07-28T19:41:56.356Z"
   },
   {
    "duration": 45,
    "start_time": "2022-07-28T19:43:34.924Z"
   },
   {
    "duration": 52,
    "start_time": "2022-07-28T19:44:11.468Z"
   },
   {
    "duration": 34,
    "start_time": "2022-07-28T19:44:47.404Z"
   },
   {
    "duration": 10,
    "start_time": "2022-07-28T19:45:08.619Z"
   },
   {
    "duration": 15,
    "start_time": "2022-07-28T19:45:28.475Z"
   },
   {
    "duration": 8,
    "start_time": "2022-07-28T19:45:49.002Z"
   },
   {
    "duration": 9,
    "start_time": "2022-07-28T19:45:52.339Z"
   },
   {
    "duration": 22,
    "start_time": "2022-07-28T19:46:00.748Z"
   },
   {
    "duration": 9,
    "start_time": "2022-07-28T19:46:19.620Z"
   },
   {
    "duration": 2,
    "start_time": "2022-07-28T19:46:59.675Z"
   },
   {
    "duration": 24,
    "start_time": "2022-07-28T19:47:05.820Z"
   },
   {
    "duration": 2,
    "start_time": "2022-07-28T19:47:13.323Z"
   },
   {
    "duration": 9,
    "start_time": "2022-07-28T19:47:18.162Z"
   },
   {
    "duration": 168,
    "start_time": "2022-07-28T19:52:25.826Z"
   },
   {
    "duration": 544,
    "start_time": "2022-07-28T19:52:30.529Z"
   },
   {
    "duration": 1917,
    "start_time": "2022-07-28T19:52:31.075Z"
   },
   {
    "duration": 9,
    "start_time": "2022-07-28T19:52:32.993Z"
   },
   {
    "duration": 62,
    "start_time": "2022-07-28T19:52:33.004Z"
   },
   {
    "duration": 31,
    "start_time": "2022-07-28T19:55:51.921Z"
   },
   {
    "duration": 180,
    "start_time": "2022-07-28T19:55:58.272Z"
   },
   {
    "duration": 7,
    "start_time": "2022-07-28T19:56:00.201Z"
   },
   {
    "duration": 24,
    "start_time": "2022-07-28T19:56:13.712Z"
   },
   {
    "duration": 176,
    "start_time": "2022-07-28T19:56:19.648Z"
   },
   {
    "duration": 176,
    "start_time": "2022-07-28T20:14:50.658Z"
   },
   {
    "duration": 7,
    "start_time": "2022-07-28T20:14:56.497Z"
   },
   {
    "duration": 59,
    "start_time": "2022-07-28T20:17:33.140Z"
   },
   {
    "duration": 9,
    "start_time": "2022-07-28T20:17:38.264Z"
   },
   {
    "duration": 613,
    "start_time": "2022-07-28T20:17:51.939Z"
   },
   {
    "duration": 1873,
    "start_time": "2022-07-28T20:17:52.554Z"
   },
   {
    "duration": 9,
    "start_time": "2022-07-28T20:18:03.022Z"
   },
   {
    "duration": 9,
    "start_time": "2022-07-28T20:21:51.858Z"
   },
   {
    "duration": 239,
    "start_time": "2022-07-28T20:21:55.368Z"
   },
   {
    "duration": 1907,
    "start_time": "2022-07-28T20:21:55.609Z"
   },
   {
    "duration": 9,
    "start_time": "2022-07-28T20:21:57.518Z"
   },
   {
    "duration": 81,
    "start_time": "2022-07-28T20:21:57.529Z"
   },
   {
    "duration": 187,
    "start_time": "2022-07-28T20:21:57.612Z"
   },
   {
    "duration": 7,
    "start_time": "2022-07-28T20:21:57.801Z"
   },
   {
    "duration": 48,
    "start_time": "2022-07-28T20:21:57.809Z"
   },
   {
    "duration": 11,
    "start_time": "2022-07-28T20:21:58.011Z"
   },
   {
    "duration": 10,
    "start_time": "2022-07-28T20:22:01.777Z"
   },
   {
    "duration": 52,
    "start_time": "2022-07-29T10:39:12.254Z"
   },
   {
    "duration": 671,
    "start_time": "2022-07-29T10:39:15.141Z"
   },
   {
    "duration": 2739,
    "start_time": "2022-07-29T10:39:15.823Z"
   },
   {
    "duration": 10,
    "start_time": "2022-07-29T10:39:18.564Z"
   },
   {
    "duration": 85,
    "start_time": "2022-07-29T10:39:20.298Z"
   },
   {
    "duration": 74,
    "start_time": "2022-07-29T10:39:22.165Z"
   },
   {
    "duration": 235,
    "start_time": "2022-07-29T10:39:23.410Z"
   },
   {
    "duration": 27,
    "start_time": "2022-07-29T10:39:25.252Z"
   },
   {
    "duration": 11,
    "start_time": "2022-07-29T10:39:27.186Z"
   },
   {
    "duration": 10,
    "start_time": "2022-07-29T10:42:01.114Z"
   },
   {
    "duration": 217,
    "start_time": "2022-07-29T10:42:02.794Z"
   },
   {
    "duration": 27,
    "start_time": "2022-07-29T10:42:04.534Z"
   },
   {
    "duration": 10,
    "start_time": "2022-07-29T10:42:06.249Z"
   },
   {
    "duration": 5,
    "start_time": "2022-07-29T10:42:23.314Z"
   },
   {
    "duration": 34,
    "start_time": "2022-07-29T11:09:08.250Z"
   },
   {
    "duration": 39,
    "start_time": "2022-07-29T11:19:52.255Z"
   },
   {
    "duration": 29,
    "start_time": "2022-07-29T11:19:56.924Z"
   },
   {
    "duration": 7,
    "start_time": "2022-07-29T11:23:14.215Z"
   },
   {
    "duration": 6,
    "start_time": "2022-07-29T11:23:16.895Z"
   },
   {
    "duration": 4,
    "start_time": "2022-07-29T11:23:45.809Z"
   },
   {
    "duration": 7,
    "start_time": "2022-07-29T11:23:48.984Z"
   },
   {
    "duration": 10,
    "start_time": "2022-07-29T11:24:26.471Z"
   },
   {
    "duration": 9,
    "start_time": "2022-07-29T11:24:34.968Z"
   },
   {
    "duration": 12,
    "start_time": "2022-07-29T11:29:48.557Z"
   },
   {
    "duration": 5,
    "start_time": "2022-07-29T11:30:00.860Z"
   },
   {
    "duration": 9,
    "start_time": "2022-07-29T11:30:14.013Z"
   },
   {
    "duration": 10,
    "start_time": "2022-07-29T11:30:22.362Z"
   },
   {
    "duration": 13,
    "start_time": "2022-07-29T11:35:10.576Z"
   },
   {
    "duration": 12,
    "start_time": "2022-07-29T11:35:33.974Z"
   },
   {
    "duration": 286,
    "start_time": "2022-07-29T11:36:31.250Z"
   },
   {
    "duration": 9,
    "start_time": "2022-07-29T11:39:04.963Z"
   },
   {
    "duration": 3,
    "start_time": "2022-07-29T11:39:15.562Z"
   },
   {
    "duration": 886,
    "start_time": "2022-07-29T11:39:32.624Z"
   },
   {
    "duration": 2572,
    "start_time": "2022-07-29T11:39:33.513Z"
   },
   {
    "duration": 10,
    "start_time": "2022-07-29T11:39:36.087Z"
   },
   {
    "duration": 35,
    "start_time": "2022-07-29T11:39:36.100Z"
   },
   {
    "duration": 120,
    "start_time": "2022-07-29T11:39:36.139Z"
   },
   {
    "duration": 63,
    "start_time": "2022-07-29T11:39:37.662Z"
   },
   {
    "duration": 6,
    "start_time": "2022-07-29T11:39:39.029Z"
   },
   {
    "duration": 270,
    "start_time": "2022-07-29T11:39:44.710Z"
   },
   {
    "duration": 5,
    "start_time": "2022-07-29T11:39:46.710Z"
   },
   {
    "duration": 13,
    "start_time": "2022-07-29T11:39:49.983Z"
   },
   {
    "duration": 11,
    "start_time": "2022-07-29T11:40:01.261Z"
   },
   {
    "duration": 4,
    "start_time": "2022-07-29T11:40:02.909Z"
   },
   {
    "duration": 5,
    "start_time": "2022-07-29T11:40:19.561Z"
   },
   {
    "duration": 937,
    "start_time": "2022-07-29T11:40:24.173Z"
   },
   {
    "duration": 2635,
    "start_time": "2022-07-29T11:40:25.113Z"
   },
   {
    "duration": 13,
    "start_time": "2022-07-29T11:40:27.751Z"
   },
   {
    "duration": 4,
    "start_time": "2022-07-29T11:40:32.019Z"
   },
   {
    "duration": 9,
    "start_time": "2022-07-29T11:40:35.063Z"
   },
   {
    "duration": 254,
    "start_time": "2022-07-29T11:40:40.621Z"
   },
   {
    "duration": 4,
    "start_time": "2022-07-29T11:40:42.217Z"
   },
   {
    "duration": 83,
    "start_time": "2022-07-29T11:40:44.114Z"
   },
   {
    "duration": 64,
    "start_time": "2022-07-29T11:40:45.164Z"
   },
   {
    "duration": 5,
    "start_time": "2022-07-29T11:40:46.359Z"
   },
   {
    "duration": 11,
    "start_time": "2022-07-29T11:40:48.584Z"
   },
   {
    "duration": 13,
    "start_time": "2022-07-29T11:41:05.160Z"
   },
   {
    "duration": 4,
    "start_time": "2022-07-29T11:41:08.816Z"
   },
   {
    "duration": 87,
    "start_time": "2022-07-29T11:42:18.876Z"
   },
   {
    "duration": 629,
    "start_time": "2022-07-29T11:42:35.179Z"
   },
   {
    "duration": 2663,
    "start_time": "2022-07-29T11:42:35.810Z"
   },
   {
    "duration": 10,
    "start_time": "2022-07-29T11:42:38.475Z"
   },
   {
    "duration": 7,
    "start_time": "2022-07-29T11:42:39.103Z"
   },
   {
    "duration": 4,
    "start_time": "2022-07-29T11:42:40.616Z"
   },
   {
    "duration": 10,
    "start_time": "2022-07-29T11:42:50.585Z"
   },
   {
    "duration": 79,
    "start_time": "2022-07-29T11:42:56.584Z"
   },
   {
    "duration": 82,
    "start_time": "2022-07-29T11:42:57.679Z"
   },
   {
    "duration": 5,
    "start_time": "2022-07-29T11:42:58.967Z"
   },
   {
    "duration": 10,
    "start_time": "2022-07-29T11:43:02.103Z"
   },
   {
    "duration": 69,
    "start_time": "2022-07-29T11:44:27.800Z"
   },
   {
    "duration": 696,
    "start_time": "2022-07-29T11:44:49.575Z"
   },
   {
    "duration": 2697,
    "start_time": "2022-07-29T11:44:50.278Z"
   },
   {
    "duration": 11,
    "start_time": "2022-07-29T11:44:52.977Z"
   },
   {
    "duration": 96,
    "start_time": "2022-07-29T11:44:52.991Z"
   },
   {
    "duration": 64,
    "start_time": "2022-07-29T11:44:53.170Z"
   },
   {
    "duration": 6,
    "start_time": "2022-07-29T11:44:55.271Z"
   },
   {
    "duration": 5,
    "start_time": "2022-07-29T11:44:56.487Z"
   },
   {
    "duration": 11,
    "start_time": "2022-07-29T11:45:01.263Z"
   },
   {
    "duration": 11,
    "start_time": "2022-07-29T11:45:04.367Z"
   },
   {
    "duration": 4,
    "start_time": "2022-07-29T11:45:06.079Z"
   },
   {
    "duration": 16,
    "start_time": "2022-07-29T11:45:08.861Z"
   },
   {
    "duration": 741,
    "start_time": "2022-07-29T11:45:58.681Z"
   },
   {
    "duration": 2690,
    "start_time": "2022-07-29T11:45:59.424Z"
   },
   {
    "duration": 27,
    "start_time": "2022-07-29T11:46:02.115Z"
   },
   {
    "duration": 83,
    "start_time": "2022-07-29T11:46:03.095Z"
   },
   {
    "duration": 71,
    "start_time": "2022-07-29T11:46:04.014Z"
   },
   {
    "duration": 76,
    "start_time": "2022-07-29T11:46:05.319Z"
   },
   {
    "duration": 14,
    "start_time": "2022-07-29T11:46:09.470Z"
   },
   {
    "duration": 5,
    "start_time": "2022-07-29T11:46:11.190Z"
   },
   {
    "duration": 10,
    "start_time": "2022-07-29T11:46:13.998Z"
   },
   {
    "duration": 68,
    "start_time": "2022-07-29T11:46:26.479Z"
   },
   {
    "duration": 63,
    "start_time": "2022-07-29T11:46:27.791Z"
   },
   {
    "duration": 13,
    "start_time": "2022-07-29T11:46:29.163Z"
   },
   {
    "duration": 4,
    "start_time": "2022-07-29T11:46:30.362Z"
   },
   {
    "duration": 10,
    "start_time": "2022-07-29T11:46:35.562Z"
   },
   {
    "duration": 70,
    "start_time": "2022-07-29T11:47:13.398Z"
   },
   {
    "duration": 7,
    "start_time": "2022-07-29T11:47:16.058Z"
   },
   {
    "duration": 9,
    "start_time": "2022-07-29T11:47:17.695Z"
   },
   {
    "duration": 298,
    "start_time": "2022-07-29T11:47:19.095Z"
   },
   {
    "duration": 16,
    "start_time": "2022-07-29T11:47:20.414Z"
   },
   {
    "duration": 25,
    "start_time": "2022-07-29T11:47:28.868Z"
   },
   {
    "duration": 5,
    "start_time": "2022-07-29T11:47:38.702Z"
   },
   {
    "duration": 9,
    "start_time": "2022-07-29T11:47:40.806Z"
   },
   {
    "duration": 631,
    "start_time": "2022-07-29T12:43:42.898Z"
   },
   {
    "duration": 2655,
    "start_time": "2022-07-29T12:43:43.535Z"
   },
   {
    "duration": 10,
    "start_time": "2022-07-29T12:43:46.191Z"
   },
   {
    "duration": 79,
    "start_time": "2022-07-29T12:43:46.203Z"
   },
   {
    "duration": 68,
    "start_time": "2022-07-29T12:43:47.619Z"
   },
   {
    "duration": 19,
    "start_time": "2022-07-29T12:43:48.852Z"
   },
   {
    "duration": 4,
    "start_time": "2022-07-29T12:43:50.970Z"
   },
   {
    "duration": 249,
    "start_time": "2022-07-29T12:43:53.791Z"
   },
   {
    "duration": 19,
    "start_time": "2022-07-29T12:47:46.431Z"
   },
   {
    "duration": 2,
    "start_time": "2022-07-29T12:48:34.393Z"
   },
   {
    "duration": 8,
    "start_time": "2022-07-29T13:01:08.475Z"
   },
   {
    "duration": 52,
    "start_time": "2022-07-29T13:01:18.435Z"
   },
   {
    "duration": 993,
    "start_time": "2022-07-29T13:01:22.031Z"
   },
   {
    "duration": 2392,
    "start_time": "2022-07-29T13:01:23.026Z"
   },
   {
    "duration": 9,
    "start_time": "2022-07-29T13:01:25.420Z"
   },
   {
    "duration": 71,
    "start_time": "2022-07-29T13:01:25.431Z"
   },
   {
    "duration": 27,
    "start_time": "2022-07-29T13:01:25.504Z"
   },
   {
    "duration": 4,
    "start_time": "2022-07-29T13:01:25.533Z"
   },
   {
    "duration": 9,
    "start_time": "2022-07-29T13:01:25.539Z"
   },
   {
    "duration": 7,
    "start_time": "2022-07-29T13:01:26.739Z"
   },
   {
    "duration": 4,
    "start_time": "2022-07-29T13:05:17.426Z"
   },
   {
    "duration": 592,
    "start_time": "2022-07-29T13:05:26.780Z"
   },
   {
    "duration": 2451,
    "start_time": "2022-07-29T13:05:27.374Z"
   },
   {
    "duration": 10,
    "start_time": "2022-07-29T13:05:29.828Z"
   },
   {
    "duration": 68,
    "start_time": "2022-07-29T13:05:29.840Z"
   },
   {
    "duration": 16,
    "start_time": "2022-07-29T13:05:29.924Z"
   },
   {
    "duration": 62,
    "start_time": "2022-07-29T13:05:33.674Z"
   },
   {
    "duration": 19,
    "start_time": "2022-07-29T13:05:35.578Z"
   },
   {
    "duration": 4,
    "start_time": "2022-07-29T13:05:38.402Z"
   },
   {
    "duration": 85,
    "start_time": "2022-07-29T13:13:09.639Z"
   },
   {
    "duration": 7,
    "start_time": "2022-07-29T13:13:35.359Z"
   },
   {
    "duration": 11,
    "start_time": "2022-07-29T13:13:47.303Z"
   },
   {
    "duration": 8,
    "start_time": "2022-07-29T13:22:59.485Z"
   },
   {
    "duration": 11,
    "start_time": "2022-07-29T13:27:08.027Z"
   },
   {
    "duration": 10,
    "start_time": "2022-07-29T13:27:52.978Z"
   },
   {
    "duration": 9,
    "start_time": "2022-07-29T13:35:32.096Z"
   },
   {
    "duration": 24,
    "start_time": "2022-07-29T14:16:19.159Z"
   },
   {
    "duration": 15,
    "start_time": "2022-07-29T14:16:21.840Z"
   },
   {
    "duration": 13,
    "start_time": "2022-07-29T14:16:25.497Z"
   },
   {
    "duration": 731,
    "start_time": "2022-07-29T14:16:48.310Z"
   },
   {
    "duration": 2343,
    "start_time": "2022-07-29T14:16:49.043Z"
   },
   {
    "duration": 9,
    "start_time": "2022-07-29T14:16:51.388Z"
   },
   {
    "duration": 12,
    "start_time": "2022-07-29T14:16:51.400Z"
   },
   {
    "duration": 71,
    "start_time": "2022-07-29T14:16:51.414Z"
   },
   {
    "duration": 15,
    "start_time": "2022-07-29T14:16:51.486Z"
   },
   {
    "duration": 5,
    "start_time": "2022-07-29T14:16:51.502Z"
   },
   {
    "duration": 224,
    "start_time": "2022-07-29T14:16:51.508Z"
   },
   {
    "duration": 9,
    "start_time": "2022-07-29T14:16:51.733Z"
   },
   {
    "duration": 9,
    "start_time": "2022-07-29T14:16:51.744Z"
   },
   {
    "duration": 82,
    "start_time": "2022-07-29T14:16:55.876Z"
   },
   {
    "duration": 4337,
    "start_time": "2022-07-29T14:24:25.810Z"
   },
   {
    "duration": 4166,
    "start_time": "2022-07-29T14:24:51.226Z"
   },
   {
    "duration": 3,
    "start_time": "2022-07-29T14:24:55.394Z"
   },
   {
    "duration": 10,
    "start_time": "2022-07-29T14:24:58.354Z"
   },
   {
    "duration": 14,
    "start_time": "2022-07-29T14:30:46.400Z"
   },
   {
    "duration": 681,
    "start_time": "2022-07-29T14:31:58.557Z"
   },
   {
    "duration": 2341,
    "start_time": "2022-07-29T14:31:59.240Z"
   },
   {
    "duration": 10,
    "start_time": "2022-07-29T14:32:01.583Z"
   },
   {
    "duration": 24,
    "start_time": "2022-07-29T14:32:01.595Z"
   },
   {
    "duration": 84,
    "start_time": "2022-07-29T14:32:01.621Z"
   },
   {
    "duration": 4,
    "start_time": "2022-07-29T14:32:01.823Z"
   },
   {
    "duration": 238,
    "start_time": "2022-07-29T14:32:04.824Z"
   },
   {
    "duration": 4,
    "start_time": "2022-07-29T14:32:06.991Z"
   },
   {
    "duration": 10,
    "start_time": "2022-07-29T14:32:09.183Z"
   },
   {
    "duration": 64,
    "start_time": "2022-07-29T14:32:14.542Z"
   },
   {
    "duration": 16,
    "start_time": "2022-07-29T14:32:16.623Z"
   },
   {
    "duration": 4,
    "start_time": "2022-07-29T14:32:18.497Z"
   },
   {
    "duration": 10,
    "start_time": "2022-07-29T14:32:21.103Z"
   },
   {
    "duration": 5,
    "start_time": "2022-07-29T14:32:32.711Z"
   },
   {
    "duration": 7,
    "start_time": "2022-07-29T14:32:40.287Z"
   },
   {
    "duration": 5,
    "start_time": "2022-07-29T14:32:42.535Z"
   },
   {
    "duration": 17,
    "start_time": "2022-07-29T14:33:15.439Z"
   },
   {
    "duration": 5,
    "start_time": "2022-07-29T14:33:17.294Z"
   },
   {
    "duration": 588,
    "start_time": "2022-07-29T14:33:34.859Z"
   },
   {
    "duration": 2357,
    "start_time": "2022-07-29T14:33:35.449Z"
   },
   {
    "duration": 9,
    "start_time": "2022-07-29T14:33:37.808Z"
   },
   {
    "duration": 8,
    "start_time": "2022-07-29T14:33:37.819Z"
   },
   {
    "duration": 70,
    "start_time": "2022-07-29T14:33:37.828Z"
   },
   {
    "duration": 37,
    "start_time": "2022-07-29T14:33:37.899Z"
   },
   {
    "duration": 10,
    "start_time": "2022-07-29T14:33:49.894Z"
   },
   {
    "duration": 64,
    "start_time": "2022-07-29T14:34:02.911Z"
   },
   {
    "duration": 9,
    "start_time": "2022-07-29T14:34:05.646Z"
   },
   {
    "duration": 51,
    "start_time": "2022-07-29T14:35:23.446Z"
   },
   {
    "duration": 50,
    "start_time": "2022-07-29T14:36:26.095Z"
   },
   {
    "duration": 35,
    "start_time": "2022-07-29T14:37:54.837Z"
   },
   {
    "duration": 63,
    "start_time": "2022-07-29T14:38:13.829Z"
   },
   {
    "duration": 45,
    "start_time": "2022-07-29T14:38:16.060Z"
   },
   {
    "duration": 67,
    "start_time": "2022-07-29T14:38:21.312Z"
   },
   {
    "duration": 44,
    "start_time": "2022-07-29T14:38:31.463Z"
   },
   {
    "duration": 43,
    "start_time": "2022-07-29T14:39:37.525Z"
   },
   {
    "duration": 56,
    "start_time": "2022-07-29T14:39:45.069Z"
   },
   {
    "duration": 71,
    "start_time": "2022-07-29T14:39:55.069Z"
   },
   {
    "duration": 628,
    "start_time": "2022-07-29T14:46:23.642Z"
   },
   {
    "duration": 517,
    "start_time": "2022-07-29T14:48:09.650Z"
   },
   {
    "duration": 538,
    "start_time": "2022-07-29T14:48:29.577Z"
   },
   {
    "duration": 24,
    "start_time": "2022-07-29T14:53:29.791Z"
   },
   {
    "duration": 226,
    "start_time": "2022-07-29T14:58:04.256Z"
   },
   {
    "duration": 396,
    "start_time": "2022-07-29T14:58:07.054Z"
   },
   {
    "duration": 16,
    "start_time": "2022-07-29T14:58:28.565Z"
   },
   {
    "duration": 35,
    "start_time": "2022-07-29T14:59:30.230Z"
   },
   {
    "duration": 26,
    "start_time": "2022-07-29T14:59:32.599Z"
   },
   {
    "duration": 17,
    "start_time": "2022-07-29T14:59:40.797Z"
   },
   {
    "duration": 14,
    "start_time": "2022-07-29T14:59:44.038Z"
   },
   {
    "duration": 19,
    "start_time": "2022-07-29T14:59:47.096Z"
   },
   {
    "duration": 13,
    "start_time": "2022-07-29T15:00:13.205Z"
   },
   {
    "duration": 13,
    "start_time": "2022-07-29T15:00:36.277Z"
   },
   {
    "duration": 14,
    "start_time": "2022-07-29T15:02:51.061Z"
   },
   {
    "duration": 14,
    "start_time": "2022-07-29T15:03:16.830Z"
   },
   {
    "duration": 14,
    "start_time": "2022-07-29T15:05:35.694Z"
   },
   {
    "duration": 629,
    "start_time": "2022-07-29T15:07:00.695Z"
   },
   {
    "duration": 2336,
    "start_time": "2022-07-29T15:07:01.326Z"
   },
   {
    "duration": 10,
    "start_time": "2022-07-29T15:07:03.663Z"
   },
   {
    "duration": 6,
    "start_time": "2022-07-29T15:07:03.675Z"
   },
   {
    "duration": 72,
    "start_time": "2022-07-29T15:07:03.683Z"
   },
   {
    "duration": 16,
    "start_time": "2022-07-29T15:07:03.756Z"
   },
   {
    "duration": 3,
    "start_time": "2022-07-29T15:07:03.774Z"
   },
   {
    "duration": 226,
    "start_time": "2022-07-29T15:07:03.779Z"
   },
   {
    "duration": 9,
    "start_time": "2022-07-29T15:07:04.007Z"
   },
   {
    "duration": 7,
    "start_time": "2022-07-29T15:07:06.430Z"
   },
   {
    "duration": 13,
    "start_time": "2022-07-29T15:07:10.528Z"
   },
   {
    "duration": 761,
    "start_time": "2022-07-29T15:07:15.311Z"
   },
   {
    "duration": 61,
    "start_time": "2022-07-29T15:08:51.750Z"
   },
   {
    "duration": 766,
    "start_time": "2022-07-29T15:09:12.550Z"
   },
   {
    "duration": 14,
    "start_time": "2022-07-29T15:09:19.637Z"
   },
   {
    "duration": 10,
    "start_time": "2022-07-29T15:11:35.855Z"
   },
   {
    "duration": 14,
    "start_time": "2022-07-29T15:11:38.189Z"
   },
   {
    "duration": 13,
    "start_time": "2022-07-29T15:11:39.453Z"
   },
   {
    "duration": 13,
    "start_time": "2022-07-29T15:12:03.629Z"
   },
   {
    "duration": 704,
    "start_time": "2022-07-29T15:12:11.591Z"
   },
   {
    "duration": 2371,
    "start_time": "2022-07-29T15:12:12.298Z"
   },
   {
    "duration": 9,
    "start_time": "2022-07-29T15:12:14.671Z"
   },
   {
    "duration": 27,
    "start_time": "2022-07-29T15:12:14.682Z"
   },
   {
    "duration": 80,
    "start_time": "2022-07-29T15:12:14.711Z"
   },
   {
    "duration": 16,
    "start_time": "2022-07-29T15:12:14.793Z"
   },
   {
    "duration": 13,
    "start_time": "2022-07-29T15:12:14.811Z"
   },
   {
    "duration": 228,
    "start_time": "2022-07-29T15:12:14.825Z"
   },
   {
    "duration": 9,
    "start_time": "2022-07-29T15:12:15.055Z"
   },
   {
    "duration": 23,
    "start_time": "2022-07-29T15:12:15.067Z"
   },
   {
    "duration": 15,
    "start_time": "2022-07-29T15:12:17.952Z"
   },
   {
    "duration": 9,
    "start_time": "2022-07-29T15:12:22.321Z"
   },
   {
    "duration": 80,
    "start_time": "2022-07-29T15:13:18.115Z"
   },
   {
    "duration": 43,
    "start_time": "2022-07-29T15:13:23.660Z"
   },
   {
    "duration": 43,
    "start_time": "2022-07-29T15:13:28.154Z"
   },
   {
    "duration": 44,
    "start_time": "2022-07-29T15:13:46.770Z"
   },
   {
    "duration": 46,
    "start_time": "2022-07-29T15:19:40.688Z"
   },
   {
    "duration": 11,
    "start_time": "2022-07-29T15:19:44.343Z"
   },
   {
    "duration": 15,
    "start_time": "2022-07-29T15:19:46.230Z"
   },
   {
    "duration": 44,
    "start_time": "2022-07-29T15:19:55.609Z"
   },
   {
    "duration": 65,
    "start_time": "2022-07-29T15:21:02.350Z"
   },
   {
    "duration": 51,
    "start_time": "2022-07-29T15:21:25.142Z"
   },
   {
    "duration": 771,
    "start_time": "2022-07-29T15:23:45.739Z"
   },
   {
    "duration": 2329,
    "start_time": "2022-07-29T15:23:46.512Z"
   },
   {
    "duration": 14,
    "start_time": "2022-07-29T15:23:48.844Z"
   },
   {
    "duration": 17,
    "start_time": "2022-07-29T15:23:48.861Z"
   },
   {
    "duration": 93,
    "start_time": "2022-07-29T15:23:48.880Z"
   },
   {
    "duration": 24,
    "start_time": "2022-07-29T15:23:48.975Z"
   },
   {
    "duration": 9,
    "start_time": "2022-07-29T15:23:49.002Z"
   },
   {
    "duration": 247,
    "start_time": "2022-07-29T15:23:49.024Z"
   },
   {
    "duration": 8,
    "start_time": "2022-07-29T15:23:49.273Z"
   },
   {
    "duration": 12,
    "start_time": "2022-07-29T15:23:49.284Z"
   },
   {
    "duration": 13,
    "start_time": "2022-07-29T15:23:52.808Z"
   },
   {
    "duration": 14,
    "start_time": "2022-07-29T15:24:10.247Z"
   },
   {
    "duration": 10,
    "start_time": "2022-07-29T15:24:12.512Z"
   },
   {
    "duration": 14,
    "start_time": "2022-07-29T15:24:14.566Z"
   },
   {
    "duration": 8,
    "start_time": "2022-07-29T15:24:20.721Z"
   },
   {
    "duration": 49,
    "start_time": "2022-07-29T15:24:30.978Z"
   },
   {
    "duration": 633,
    "start_time": "2022-07-29T15:24:43.292Z"
   },
   {
    "duration": 2334,
    "start_time": "2022-07-29T15:24:43.927Z"
   },
   {
    "duration": 9,
    "start_time": "2022-07-29T15:24:46.264Z"
   },
   {
    "duration": 6,
    "start_time": "2022-07-29T15:24:46.275Z"
   },
   {
    "duration": 68,
    "start_time": "2022-07-29T15:24:46.282Z"
   },
   {
    "duration": 20,
    "start_time": "2022-07-29T15:24:46.351Z"
   },
   {
    "duration": 4,
    "start_time": "2022-07-29T15:24:46.373Z"
   },
   {
    "duration": 229,
    "start_time": "2022-07-29T15:24:46.378Z"
   },
   {
    "duration": 15,
    "start_time": "2022-07-29T15:24:46.609Z"
   },
   {
    "duration": 12,
    "start_time": "2022-07-29T15:24:46.626Z"
   },
   {
    "duration": 10,
    "start_time": "2022-07-29T15:24:46.640Z"
   },
   {
    "duration": 14,
    "start_time": "2022-07-29T15:24:46.652Z"
   },
   {
    "duration": 13,
    "start_time": "2022-07-29T15:24:51.436Z"
   },
   {
    "duration": 53,
    "start_time": "2022-07-29T15:25:27.142Z"
   },
   {
    "duration": 9,
    "start_time": "2022-07-29T15:26:20.548Z"
   },
   {
    "duration": 8,
    "start_time": "2022-07-29T15:30:01.532Z"
   },
   {
    "duration": 11,
    "start_time": "2022-07-29T15:30:07.721Z"
   },
   {
    "duration": 210,
    "start_time": "2022-07-29T15:36:34.089Z"
   },
   {
    "duration": 234,
    "start_time": "2022-07-29T15:36:40.288Z"
   },
   {
    "duration": 74,
    "start_time": "2022-07-29T15:44:24.764Z"
   },
   {
    "duration": 4,
    "start_time": "2022-07-29T15:44:28.930Z"
   },
   {
    "duration": 693,
    "start_time": "2022-07-29T15:44:44.732Z"
   },
   {
    "duration": 2411,
    "start_time": "2022-07-29T15:44:45.427Z"
   },
   {
    "duration": 11,
    "start_time": "2022-07-29T15:44:47.840Z"
   },
   {
    "duration": 30,
    "start_time": "2022-07-29T15:44:47.852Z"
   },
   {
    "duration": 101,
    "start_time": "2022-07-29T15:44:47.884Z"
   },
   {
    "duration": 17,
    "start_time": "2022-07-29T15:44:47.987Z"
   },
   {
    "duration": 241,
    "start_time": "2022-07-29T15:44:48.006Z"
   },
   {
    "duration": 11,
    "start_time": "2022-07-29T15:44:48.249Z"
   },
   {
    "duration": 9,
    "start_time": "2022-07-29T15:44:48.262Z"
   },
   {
    "duration": 9,
    "start_time": "2022-07-29T15:44:48.272Z"
   },
   {
    "duration": 7,
    "start_time": "2022-07-29T15:44:48.283Z"
   },
   {
    "duration": 35,
    "start_time": "2022-07-29T15:44:48.292Z"
   },
   {
    "duration": 4,
    "start_time": "2022-07-29T15:44:55.565Z"
   },
   {
    "duration": 73,
    "start_time": "2022-07-29T15:47:28.075Z"
   },
   {
    "duration": 329,
    "start_time": "2022-07-29T15:47:33.051Z"
   },
   {
    "duration": 4,
    "start_time": "2022-07-29T15:47:35.929Z"
   },
   {
    "duration": 878,
    "start_time": "2022-07-29T15:47:46.930Z"
   },
   {
    "duration": 2384,
    "start_time": "2022-07-29T15:47:47.810Z"
   },
   {
    "duration": 9,
    "start_time": "2022-07-29T15:47:50.196Z"
   },
   {
    "duration": 14,
    "start_time": "2022-07-29T15:47:50.206Z"
   },
   {
    "duration": 62,
    "start_time": "2022-07-29T15:47:50.222Z"
   },
   {
    "duration": 17,
    "start_time": "2022-07-29T15:47:50.286Z"
   },
   {
    "duration": 221,
    "start_time": "2022-07-29T15:47:50.305Z"
   },
   {
    "duration": 12,
    "start_time": "2022-07-29T15:47:50.527Z"
   },
   {
    "duration": 10,
    "start_time": "2022-07-29T15:47:50.541Z"
   },
   {
    "duration": 8,
    "start_time": "2022-07-29T15:47:50.552Z"
   },
   {
    "duration": 6,
    "start_time": "2022-07-29T15:47:50.562Z"
   },
   {
    "duration": 7,
    "start_time": "2022-07-29T15:47:50.570Z"
   },
   {
    "duration": 3,
    "start_time": "2022-07-29T15:47:50.579Z"
   },
   {
    "duration": 3,
    "start_time": "2022-07-29T15:48:45.483Z"
   },
   {
    "duration": 50,
    "start_time": "2022-07-29T15:48:55.419Z"
   },
   {
    "duration": 727,
    "start_time": "2022-07-29T15:48:57.741Z"
   },
   {
    "duration": 2504,
    "start_time": "2022-07-29T15:48:58.470Z"
   },
   {
    "duration": 11,
    "start_time": "2022-07-29T15:49:00.975Z"
   },
   {
    "duration": 18,
    "start_time": "2022-07-29T15:49:00.988Z"
   },
   {
    "duration": 80,
    "start_time": "2022-07-29T15:49:01.008Z"
   },
   {
    "duration": 18,
    "start_time": "2022-07-29T15:49:01.090Z"
   },
   {
    "duration": 221,
    "start_time": "2022-07-29T15:49:01.110Z"
   },
   {
    "duration": 12,
    "start_time": "2022-07-29T15:49:01.333Z"
   },
   {
    "duration": 11,
    "start_time": "2022-07-29T15:49:01.347Z"
   },
   {
    "duration": 27,
    "start_time": "2022-07-29T15:49:01.361Z"
   },
   {
    "duration": 12,
    "start_time": "2022-07-29T15:49:01.389Z"
   },
   {
    "duration": 22,
    "start_time": "2022-07-29T15:49:01.403Z"
   },
   {
    "duration": 5,
    "start_time": "2022-07-29T15:49:01.427Z"
   },
   {
    "duration": 8,
    "start_time": "2022-07-29T15:50:56.323Z"
   },
   {
    "duration": 71,
    "start_time": "2022-07-29T15:58:24.752Z"
   },
   {
    "duration": 6,
    "start_time": "2022-07-29T15:59:16.047Z"
   },
   {
    "duration": 6,
    "start_time": "2022-07-29T15:59:25.071Z"
   },
   {
    "duration": 41,
    "start_time": "2022-07-29T16:28:47.037Z"
   },
   {
    "duration": 4,
    "start_time": "2022-07-29T16:28:52.088Z"
   },
   {
    "duration": 53,
    "start_time": "2022-07-29T16:28:55.949Z"
   },
   {
    "duration": 44,
    "start_time": "2022-07-29T16:31:07.334Z"
   },
   {
    "duration": 50,
    "start_time": "2022-07-29T16:31:16.557Z"
   },
   {
    "duration": 5,
    "start_time": "2022-07-29T16:31:19.645Z"
   },
   {
    "duration": 15,
    "start_time": "2022-07-29T16:31:58.195Z"
   },
   {
    "duration": 15,
    "start_time": "2022-07-29T16:32:03.355Z"
   },
   {
    "duration": 861,
    "start_time": "2022-07-29T16:32:09.002Z"
   },
   {
    "duration": 2265,
    "start_time": "2022-07-29T16:32:09.865Z"
   },
   {
    "duration": 78,
    "start_time": "2022-07-29T16:32:12.132Z"
   },
   {
    "duration": 18,
    "start_time": "2022-07-29T16:32:12.212Z"
   },
   {
    "duration": 5,
    "start_time": "2022-07-29T16:32:12.231Z"
   },
   {
    "duration": 63,
    "start_time": "2022-07-29T16:32:12.238Z"
   },
   {
    "duration": 38,
    "start_time": "2022-07-29T16:32:12.302Z"
   },
   {
    "duration": 216,
    "start_time": "2022-07-29T16:32:12.342Z"
   },
   {
    "duration": 13,
    "start_time": "2022-07-29T16:32:12.560Z"
   },
   {
    "duration": 12,
    "start_time": "2022-07-29T16:32:12.576Z"
   },
   {
    "duration": 11,
    "start_time": "2022-07-29T16:32:12.590Z"
   },
   {
    "duration": 9,
    "start_time": "2022-07-29T16:32:12.624Z"
   },
   {
    "duration": 5,
    "start_time": "2022-07-29T16:32:12.635Z"
   },
   {
    "duration": 21,
    "start_time": "2022-07-29T16:32:12.642Z"
   },
   {
    "duration": 4,
    "start_time": "2022-07-29T16:35:29.429Z"
   },
   {
    "duration": 45,
    "start_time": "2022-07-29T16:35:35.466Z"
   },
   {
    "duration": 28,
    "start_time": "2022-07-29T16:35:39.547Z"
   },
   {
    "duration": 50,
    "start_time": "2022-07-29T16:37:24.949Z"
   },
   {
    "duration": 29,
    "start_time": "2022-07-29T16:38:18.442Z"
   },
   {
    "duration": 30,
    "start_time": "2022-07-29T16:38:24.003Z"
   },
   {
    "duration": 28,
    "start_time": "2022-07-29T16:38:30.178Z"
   },
   {
    "duration": 28,
    "start_time": "2022-07-29T16:38:42.426Z"
   },
   {
    "duration": 28,
    "start_time": "2022-07-29T16:38:49.471Z"
   },
   {
    "duration": 762,
    "start_time": "2022-07-29T16:38:59.286Z"
   },
   {
    "duration": 2305,
    "start_time": "2022-07-29T16:39:00.049Z"
   },
   {
    "duration": 78,
    "start_time": "2022-07-29T16:39:02.355Z"
   },
   {
    "duration": 9,
    "start_time": "2022-07-29T16:39:02.435Z"
   },
   {
    "duration": 10,
    "start_time": "2022-07-29T16:39:02.445Z"
   },
   {
    "duration": 74,
    "start_time": "2022-07-29T16:39:02.457Z"
   },
   {
    "duration": 18,
    "start_time": "2022-07-29T16:39:02.533Z"
   },
   {
    "duration": 221,
    "start_time": "2022-07-29T16:39:02.553Z"
   },
   {
    "duration": 11,
    "start_time": "2022-07-29T16:39:02.775Z"
   },
   {
    "duration": 9,
    "start_time": "2022-07-29T16:39:02.789Z"
   },
   {
    "duration": 7,
    "start_time": "2022-07-29T16:39:02.799Z"
   },
   {
    "duration": 8,
    "start_time": "2022-07-29T16:39:02.823Z"
   },
   {
    "duration": 9,
    "start_time": "2022-07-29T16:39:02.832Z"
   },
   {
    "duration": 18,
    "start_time": "2022-07-29T16:39:02.842Z"
   },
   {
    "duration": 30,
    "start_time": "2022-07-29T16:39:02.863Z"
   },
   {
    "duration": 6,
    "start_time": "2022-07-29T16:41:29.603Z"
   },
   {
    "duration": 31,
    "start_time": "2022-07-29T16:41:35.267Z"
   },
   {
    "duration": 6,
    "start_time": "2022-07-29T16:45:08.066Z"
   },
   {
    "duration": 28,
    "start_time": "2022-07-29T16:45:14.219Z"
   },
   {
    "duration": 6,
    "start_time": "2022-07-29T16:45:28.212Z"
   },
   {
    "duration": 36,
    "start_time": "2022-07-29T16:45:38.891Z"
   },
   {
    "duration": 5,
    "start_time": "2022-07-29T16:45:51.203Z"
   },
   {
    "duration": 5,
    "start_time": "2022-07-29T16:45:55.091Z"
   },
   {
    "duration": 5,
    "start_time": "2022-07-29T16:45:58.056Z"
   },
   {
    "duration": 25,
    "start_time": "2022-07-29T16:46:49.891Z"
   },
   {
    "duration": 15,
    "start_time": "2022-07-29T16:48:51.697Z"
   },
   {
    "duration": 25,
    "start_time": "2022-07-29T16:49:29.905Z"
   },
   {
    "duration": 754,
    "start_time": "2022-07-29T16:50:50.445Z"
   },
   {
    "duration": 2309,
    "start_time": "2022-07-29T16:50:51.201Z"
   },
   {
    "duration": 81,
    "start_time": "2022-07-29T16:50:53.512Z"
   },
   {
    "duration": 10,
    "start_time": "2022-07-29T16:50:53.596Z"
   },
   {
    "duration": 28,
    "start_time": "2022-07-29T16:50:53.608Z"
   },
   {
    "duration": 75,
    "start_time": "2022-07-29T16:50:53.638Z"
   },
   {
    "duration": 18,
    "start_time": "2022-07-29T16:50:53.715Z"
   },
   {
    "duration": 205,
    "start_time": "2022-07-29T16:50:53.735Z"
   },
   {
    "duration": 21,
    "start_time": "2022-07-29T16:50:53.942Z"
   },
   {
    "duration": 9,
    "start_time": "2022-07-29T16:50:53.966Z"
   },
   {
    "duration": 8,
    "start_time": "2022-07-29T16:50:53.977Z"
   },
   {
    "duration": 7,
    "start_time": "2022-07-29T16:50:53.986Z"
   },
   {
    "duration": 29,
    "start_time": "2022-07-29T16:50:53.994Z"
   },
   {
    "duration": 18,
    "start_time": "2022-07-29T16:50:54.025Z"
   },
   {
    "duration": 5,
    "start_time": "2022-07-29T16:50:54.045Z"
   },
   {
    "duration": 5,
    "start_time": "2022-07-29T16:50:54.052Z"
   },
   {
    "duration": 5,
    "start_time": "2022-07-29T16:50:54.059Z"
   },
   {
    "duration": 30,
    "start_time": "2022-07-29T16:50:54.066Z"
   },
   {
    "duration": 6,
    "start_time": "2022-07-29T16:50:54.124Z"
   },
   {
    "duration": 15,
    "start_time": "2022-07-29T16:52:18.254Z"
   },
   {
    "duration": 15,
    "start_time": "2022-07-29T16:52:29.678Z"
   },
   {
    "duration": 4,
    "start_time": "2022-07-29T17:05:18.796Z"
   },
   {
    "duration": 6,
    "start_time": "2022-07-29T17:05:30.547Z"
   },
   {
    "duration": 6,
    "start_time": "2022-07-29T17:05:38.441Z"
   },
   {
    "duration": 6,
    "start_time": "2022-07-29T17:05:43.937Z"
   },
   {
    "duration": 27,
    "start_time": "2022-07-29T17:06:02.499Z"
   },
   {
    "duration": 4,
    "start_time": "2022-07-29T17:41:57.625Z"
   },
   {
    "duration": 29,
    "start_time": "2022-07-29T17:42:03.737Z"
   },
   {
    "duration": 34,
    "start_time": "2022-07-29T17:42:10.469Z"
   },
   {
    "duration": 45,
    "start_time": "2022-07-31T15:52:42.144Z"
   },
   {
    "duration": 740,
    "start_time": "2022-07-31T15:52:50.826Z"
   },
   {
    "duration": 2480,
    "start_time": "2022-07-31T15:52:51.568Z"
   },
   {
    "duration": 86,
    "start_time": "2022-07-31T15:52:54.051Z"
   },
   {
    "duration": 38,
    "start_time": "2022-07-31T15:52:54.140Z"
   },
   {
    "duration": 5,
    "start_time": "2022-07-31T15:52:54.180Z"
   },
   {
    "duration": 64,
    "start_time": "2022-07-31T15:52:54.189Z"
   },
   {
    "duration": 26,
    "start_time": "2022-07-31T15:52:54.255Z"
   },
   {
    "duration": 236,
    "start_time": "2022-07-31T15:52:54.284Z"
   },
   {
    "duration": 21,
    "start_time": "2022-07-31T15:52:54.522Z"
   },
   {
    "duration": 26,
    "start_time": "2022-07-31T15:52:54.546Z"
   },
   {
    "duration": 18,
    "start_time": "2022-07-31T15:52:54.575Z"
   },
   {
    "duration": 11,
    "start_time": "2022-07-31T15:52:54.595Z"
   },
   {
    "duration": 5,
    "start_time": "2022-07-31T15:52:54.608Z"
   },
   {
    "duration": 19,
    "start_time": "2022-07-31T15:52:54.615Z"
   },
   {
    "duration": 6,
    "start_time": "2022-07-31T15:52:54.635Z"
   },
   {
    "duration": 18,
    "start_time": "2022-07-31T15:52:54.643Z"
   },
   {
    "duration": 32,
    "start_time": "2022-07-31T15:52:54.663Z"
   },
   {
    "duration": 7,
    "start_time": "2022-07-31T15:52:54.696Z"
   },
   {
    "duration": 53,
    "start_time": "2022-07-31T15:52:54.704Z"
   },
   {
    "duration": 8,
    "start_time": "2022-07-31T15:52:54.759Z"
   },
   {
    "duration": 5,
    "start_time": "2022-07-31T15:53:22.119Z"
   },
   {
    "duration": 74,
    "start_time": "2022-07-31T15:56:42.942Z"
   },
   {
    "duration": 18,
    "start_time": "2022-07-31T15:57:56.644Z"
   },
   {
    "duration": 949,
    "start_time": "2022-07-31T16:02:35.643Z"
   },
   {
    "duration": 2178,
    "start_time": "2022-07-31T16:02:36.594Z"
   },
   {
    "duration": 87,
    "start_time": "2022-07-31T16:02:38.774Z"
   },
   {
    "duration": 11,
    "start_time": "2022-07-31T16:02:38.863Z"
   },
   {
    "duration": 25,
    "start_time": "2022-07-31T16:02:38.877Z"
   },
   {
    "duration": 83,
    "start_time": "2022-07-31T16:02:38.904Z"
   },
   {
    "duration": 21,
    "start_time": "2022-07-31T16:02:38.989Z"
   },
   {
    "duration": 196,
    "start_time": "2022-07-31T16:02:39.012Z"
   },
   {
    "duration": 20,
    "start_time": "2022-07-31T16:02:39.210Z"
   },
   {
    "duration": 8,
    "start_time": "2022-07-31T16:02:39.232Z"
   },
   {
    "duration": 23,
    "start_time": "2022-07-31T16:02:39.242Z"
   },
   {
    "duration": 7,
    "start_time": "2022-07-31T16:02:39.267Z"
   },
   {
    "duration": 4,
    "start_time": "2022-07-31T16:02:39.276Z"
   },
   {
    "duration": 21,
    "start_time": "2022-07-31T16:02:39.283Z"
   },
   {
    "duration": 6,
    "start_time": "2022-07-31T16:02:39.306Z"
   },
   {
    "duration": 8,
    "start_time": "2022-07-31T16:02:39.314Z"
   },
   {
    "duration": 38,
    "start_time": "2022-07-31T16:02:39.324Z"
   },
   {
    "duration": 5,
    "start_time": "2022-07-31T16:02:39.364Z"
   },
   {
    "duration": 77,
    "start_time": "2022-07-31T16:02:39.370Z"
   },
   {
    "duration": 0,
    "start_time": "2022-07-31T16:02:39.461Z"
   },
   {
    "duration": 6,
    "start_time": "2022-07-31T16:07:36.497Z"
   },
   {
    "duration": 12,
    "start_time": "2022-07-31T16:07:48.897Z"
   },
   {
    "duration": 34,
    "start_time": "2022-07-31T16:08:00.217Z"
   },
   {
    "duration": 35,
    "start_time": "2022-07-31T16:09:41.505Z"
   },
   {
    "duration": 872,
    "start_time": "2022-07-31T16:13:55.720Z"
   },
   {
    "duration": 2110,
    "start_time": "2022-07-31T16:13:56.594Z"
   },
   {
    "duration": 88,
    "start_time": "2022-07-31T16:13:58.706Z"
   },
   {
    "duration": 9,
    "start_time": "2022-07-31T16:13:58.795Z"
   },
   {
    "duration": 13,
    "start_time": "2022-07-31T16:13:58.807Z"
   },
   {
    "duration": 81,
    "start_time": "2022-07-31T16:13:58.822Z"
   },
   {
    "duration": 17,
    "start_time": "2022-07-31T16:13:58.904Z"
   },
   {
    "duration": 196,
    "start_time": "2022-07-31T16:13:58.923Z"
   },
   {
    "duration": 20,
    "start_time": "2022-07-31T16:13:59.121Z"
   },
   {
    "duration": 21,
    "start_time": "2022-07-31T16:13:59.142Z"
   },
   {
    "duration": 36,
    "start_time": "2022-07-31T16:13:59.165Z"
   },
   {
    "duration": 23,
    "start_time": "2022-07-31T16:13:59.203Z"
   },
   {
    "duration": 16,
    "start_time": "2022-07-31T16:13:59.228Z"
   },
   {
    "duration": 42,
    "start_time": "2022-07-31T16:13:59.246Z"
   },
   {
    "duration": 23,
    "start_time": "2022-07-31T16:13:59.290Z"
   },
   {
    "duration": 41,
    "start_time": "2022-07-31T16:13:59.315Z"
   },
   {
    "duration": 21,
    "start_time": "2022-07-31T16:13:59.358Z"
   },
   {
    "duration": 57,
    "start_time": "2022-07-31T16:13:59.380Z"
   },
   {
    "duration": 5,
    "start_time": "2022-07-31T16:13:59.439Z"
   },
   {
    "duration": 147,
    "start_time": "2022-07-31T16:19:28.837Z"
   },
   {
    "duration": 74,
    "start_time": "2022-07-31T16:20:55.156Z"
   },
   {
    "duration": 312,
    "start_time": "2022-07-31T16:23:58.578Z"
   },
   {
    "duration": 354,
    "start_time": "2022-07-31T16:24:06.338Z"
   },
   {
    "duration": 773,
    "start_time": "2022-07-31T16:24:20.462Z"
   },
   {
    "duration": 2275,
    "start_time": "2022-07-31T16:24:21.237Z"
   },
   {
    "duration": 81,
    "start_time": "2022-07-31T16:24:23.514Z"
   },
   {
    "duration": 10,
    "start_time": "2022-07-31T16:24:23.598Z"
   },
   {
    "duration": 12,
    "start_time": "2022-07-31T16:24:23.610Z"
   },
   {
    "duration": 76,
    "start_time": "2022-07-31T16:24:23.625Z"
   },
   {
    "duration": 18,
    "start_time": "2022-07-31T16:24:23.702Z"
   },
   {
    "duration": 195,
    "start_time": "2022-07-31T16:24:23.721Z"
   },
   {
    "duration": 21,
    "start_time": "2022-07-31T16:24:23.918Z"
   },
   {
    "duration": 35,
    "start_time": "2022-07-31T16:24:23.941Z"
   },
   {
    "duration": 28,
    "start_time": "2022-07-31T16:24:23.978Z"
   },
   {
    "duration": 41,
    "start_time": "2022-07-31T16:24:24.010Z"
   },
   {
    "duration": 22,
    "start_time": "2022-07-31T16:24:24.053Z"
   },
   {
    "duration": 27,
    "start_time": "2022-07-31T16:24:24.076Z"
   },
   {
    "duration": 12,
    "start_time": "2022-07-31T16:24:24.104Z"
   },
   {
    "duration": 15,
    "start_time": "2022-07-31T16:24:24.117Z"
   },
   {
    "duration": 7,
    "start_time": "2022-07-31T16:24:24.134Z"
   },
   {
    "duration": 174,
    "start_time": "2022-07-31T16:24:25.739Z"
   },
   {
    "duration": 273,
    "start_time": "2022-07-31T16:24:40.033Z"
   },
   {
    "duration": 180,
    "start_time": "2022-07-31T16:24:45.098Z"
   },
   {
    "duration": 256,
    "start_time": "2022-07-31T16:24:52.761Z"
   },
   {
    "duration": 30,
    "start_time": "2022-07-31T16:30:36.121Z"
   },
   {
    "duration": 789,
    "start_time": "2022-07-31T16:30:40.894Z"
   },
   {
    "duration": 2335,
    "start_time": "2022-07-31T16:30:41.685Z"
   },
   {
    "duration": 76,
    "start_time": "2022-07-31T16:30:44.023Z"
   },
   {
    "duration": 11,
    "start_time": "2022-07-31T16:30:44.101Z"
   },
   {
    "duration": 7,
    "start_time": "2022-07-31T16:30:44.114Z"
   },
   {
    "duration": 115,
    "start_time": "2022-07-31T16:30:44.123Z"
   },
   {
    "duration": 29,
    "start_time": "2022-07-31T16:30:44.240Z"
   },
   {
    "duration": 219,
    "start_time": "2022-07-31T16:30:44.272Z"
   },
   {
    "duration": 21,
    "start_time": "2022-07-31T16:30:44.492Z"
   },
   {
    "duration": 9,
    "start_time": "2022-07-31T16:30:44.516Z"
   },
   {
    "duration": 11,
    "start_time": "2022-07-31T16:30:44.527Z"
   },
   {
    "duration": 26,
    "start_time": "2022-07-31T16:30:44.540Z"
   },
   {
    "duration": 6,
    "start_time": "2022-07-31T16:30:44.568Z"
   },
   {
    "duration": 17,
    "start_time": "2022-07-31T16:30:44.576Z"
   },
   {
    "duration": 5,
    "start_time": "2022-07-31T16:30:44.594Z"
   },
   {
    "duration": 9,
    "start_time": "2022-07-31T16:30:44.600Z"
   },
   {
    "duration": 8,
    "start_time": "2022-07-31T16:30:44.610Z"
   },
   {
    "duration": 203,
    "start_time": "2022-07-31T16:30:44.620Z"
   },
   {
    "duration": 32,
    "start_time": "2022-07-31T16:30:48.172Z"
   },
   {
    "duration": 65,
    "start_time": "2022-07-31T16:31:26.772Z"
   },
   {
    "duration": 278,
    "start_time": "2022-07-31T16:35:25.458Z"
   },
   {
    "duration": 813,
    "start_time": "2022-07-31T16:36:18.427Z"
   },
   {
    "duration": 2293,
    "start_time": "2022-07-31T16:36:19.243Z"
   },
   {
    "duration": 76,
    "start_time": "2022-07-31T16:36:21.538Z"
   },
   {
    "duration": 10,
    "start_time": "2022-07-31T16:36:21.615Z"
   },
   {
    "duration": 8,
    "start_time": "2022-07-31T16:36:21.627Z"
   },
   {
    "duration": 76,
    "start_time": "2022-07-31T16:36:21.637Z"
   },
   {
    "duration": 18,
    "start_time": "2022-07-31T16:36:21.715Z"
   },
   {
    "duration": 234,
    "start_time": "2022-07-31T16:36:21.735Z"
   },
   {
    "duration": 23,
    "start_time": "2022-07-31T16:36:21.971Z"
   },
   {
    "duration": 11,
    "start_time": "2022-07-31T16:36:21.996Z"
   },
   {
    "duration": 11,
    "start_time": "2022-07-31T16:36:22.009Z"
   },
   {
    "duration": 39,
    "start_time": "2022-07-31T16:36:22.022Z"
   },
   {
    "duration": 3,
    "start_time": "2022-07-31T16:36:22.063Z"
   },
   {
    "duration": 19,
    "start_time": "2022-07-31T16:36:22.069Z"
   },
   {
    "duration": 5,
    "start_time": "2022-07-31T16:36:22.090Z"
   },
   {
    "duration": 8,
    "start_time": "2022-07-31T16:36:22.097Z"
   },
   {
    "duration": 7,
    "start_time": "2022-07-31T16:36:22.107Z"
   },
   {
    "duration": 85,
    "start_time": "2022-07-31T16:36:22.115Z"
   },
   {
    "duration": 4,
    "start_time": "2022-07-31T16:36:28.258Z"
   },
   {
    "duration": 400,
    "start_time": "2022-07-31T16:36:32.050Z"
   },
   {
    "duration": 561,
    "start_time": "2022-07-31T16:38:25.332Z"
   },
   {
    "duration": 49,
    "start_time": "2022-07-31T16:43:20.295Z"
   },
   {
    "duration": 5,
    "start_time": "2022-07-31T16:44:10.846Z"
   },
   {
    "duration": 138,
    "start_time": "2022-07-31T18:07:46.839Z"
   },
   {
    "duration": 214,
    "start_time": "2022-07-31T18:08:01.303Z"
   },
   {
    "duration": 128,
    "start_time": "2022-07-31T18:08:07.455Z"
   },
   {
    "duration": 127,
    "start_time": "2022-07-31T18:08:11.158Z"
   },
   {
    "duration": 138,
    "start_time": "2022-07-31T18:08:26.686Z"
   },
   {
    "duration": 133,
    "start_time": "2022-07-31T18:08:31.629Z"
   },
   {
    "duration": 5,
    "start_time": "2022-07-31T18:08:42.966Z"
   },
   {
    "duration": 72,
    "start_time": "2022-07-31T18:08:51.661Z"
   },
   {
    "duration": 7,
    "start_time": "2022-07-31T18:08:57.957Z"
   },
   {
    "duration": 7,
    "start_time": "2022-07-31T18:09:05.982Z"
   },
   {
    "duration": 8,
    "start_time": "2022-07-31T18:09:17.453Z"
   },
   {
    "duration": 76,
    "start_time": "2022-07-31T18:09:30.244Z"
   },
   {
    "duration": 137,
    "start_time": "2022-07-31T18:10:24.237Z"
   },
   {
    "duration": 150,
    "start_time": "2022-07-31T18:10:29.487Z"
   },
   {
    "duration": 249,
    "start_time": "2022-07-31T18:10:31.741Z"
   },
   {
    "duration": 514,
    "start_time": "2022-07-31T18:10:36.183Z"
   },
   {
    "duration": 199,
    "start_time": "2022-07-31T18:10:45.213Z"
   },
   {
    "duration": 134,
    "start_time": "2022-07-31T18:10:49.075Z"
   },
   {
    "duration": 173,
    "start_time": "2022-07-31T18:10:56.228Z"
   },
   {
    "duration": 179,
    "start_time": "2022-07-31T18:10:58.708Z"
   },
   {
    "duration": 238,
    "start_time": "2022-07-31T18:11:01.508Z"
   },
   {
    "duration": 905,
    "start_time": "2022-07-31T18:11:24.448Z"
   },
   {
    "duration": 2226,
    "start_time": "2022-07-31T18:11:25.354Z"
   },
   {
    "duration": 79,
    "start_time": "2022-07-31T18:11:27.583Z"
   },
   {
    "duration": 8,
    "start_time": "2022-07-31T18:11:27.664Z"
   },
   {
    "duration": 4,
    "start_time": "2022-07-31T18:11:27.674Z"
   },
   {
    "duration": 60,
    "start_time": "2022-07-31T18:11:27.680Z"
   },
   {
    "duration": 47,
    "start_time": "2022-07-31T18:11:27.741Z"
   },
   {
    "duration": 187,
    "start_time": "2022-07-31T18:11:27.790Z"
   },
   {
    "duration": 21,
    "start_time": "2022-07-31T18:11:27.979Z"
   },
   {
    "duration": 13,
    "start_time": "2022-07-31T18:11:28.002Z"
   },
   {
    "duration": 21,
    "start_time": "2022-07-31T18:11:28.017Z"
   },
   {
    "duration": 10,
    "start_time": "2022-07-31T18:11:28.040Z"
   },
   {
    "duration": 14,
    "start_time": "2022-07-31T18:11:28.052Z"
   },
   {
    "duration": 19,
    "start_time": "2022-07-31T18:11:28.067Z"
   },
   {
    "duration": 5,
    "start_time": "2022-07-31T18:11:28.088Z"
   },
   {
    "duration": 5,
    "start_time": "2022-07-31T18:11:28.094Z"
   },
   {
    "duration": 6,
    "start_time": "2022-07-31T18:11:28.101Z"
   },
   {
    "duration": 340,
    "start_time": "2022-07-31T18:11:28.108Z"
   },
   {
    "duration": 4,
    "start_time": "2022-07-31T18:11:28.450Z"
   },
   {
    "duration": 15,
    "start_time": "2022-07-31T18:11:28.460Z"
   },
   {
    "duration": 102,
    "start_time": "2022-07-31T18:11:28.476Z"
   },
   {
    "duration": 8,
    "start_time": "2022-07-31T18:11:28.579Z"
   },
   {
    "duration": 214,
    "start_time": "2022-07-31T18:11:36.865Z"
   },
   {
    "duration": 777,
    "start_time": "2022-07-31T18:11:39.265Z"
   },
   {
    "duration": 138,
    "start_time": "2022-07-31T18:11:57.268Z"
   },
   {
    "duration": 149,
    "start_time": "2022-07-31T18:12:08.458Z"
   },
   {
    "duration": 155,
    "start_time": "2022-07-31T18:16:26.457Z"
   },
   {
    "duration": 143,
    "start_time": "2022-07-31T18:16:38.064Z"
   },
   {
    "duration": 138,
    "start_time": "2022-07-31T18:16:52.136Z"
   },
   {
    "duration": 130,
    "start_time": "2022-07-31T18:17:13.391Z"
   },
   {
    "duration": 197,
    "start_time": "2022-07-31T18:17:16.776Z"
   },
   {
    "duration": 171,
    "start_time": "2022-07-31T18:17:20.096Z"
   },
   {
    "duration": 137,
    "start_time": "2022-07-31T18:17:22.624Z"
   },
   {
    "duration": 171,
    "start_time": "2022-07-31T18:17:46.136Z"
   },
   {
    "duration": 137,
    "start_time": "2022-07-31T18:17:50.247Z"
   },
   {
    "duration": 141,
    "start_time": "2022-07-31T18:17:53.951Z"
   },
   {
    "duration": 143,
    "start_time": "2022-07-31T18:18:04.687Z"
   },
   {
    "duration": 131,
    "start_time": "2022-07-31T18:18:10.280Z"
   },
   {
    "duration": 141,
    "start_time": "2022-07-31T18:18:14.528Z"
   },
   {
    "duration": 136,
    "start_time": "2022-07-31T18:18:19.599Z"
   },
   {
    "duration": 128,
    "start_time": "2022-07-31T18:18:22.879Z"
   },
   {
    "duration": 226,
    "start_time": "2022-07-31T18:18:26.030Z"
   },
   {
    "duration": 338,
    "start_time": "2022-07-31T18:18:30.064Z"
   },
   {
    "duration": 336,
    "start_time": "2022-07-31T18:18:36.338Z"
   },
   {
    "duration": 239,
    "start_time": "2022-07-31T18:18:48.751Z"
   },
   {
    "duration": 211,
    "start_time": "2022-07-31T18:18:55.593Z"
   },
   {
    "duration": 220,
    "start_time": "2022-07-31T18:18:58.875Z"
   },
   {
    "duration": 217,
    "start_time": "2022-07-31T18:19:07.991Z"
   },
   {
    "duration": 234,
    "start_time": "2022-07-31T18:19:12.879Z"
   },
   {
    "duration": 310,
    "start_time": "2022-07-31T18:19:55.207Z"
   },
   {
    "duration": 238,
    "start_time": "2022-07-31T18:20:04.214Z"
   },
   {
    "duration": 763,
    "start_time": "2022-07-31T18:20:07.903Z"
   },
   {
    "duration": 890,
    "start_time": "2022-07-31T18:20:23.135Z"
   },
   {
    "duration": 711,
    "start_time": "2022-07-31T18:20:31.559Z"
   },
   {
    "duration": 895,
    "start_time": "2022-07-31T18:20:37.590Z"
   },
   {
    "duration": 143,
    "start_time": "2022-07-31T18:21:14.695Z"
   },
   {
    "duration": 219,
    "start_time": "2022-07-31T18:21:18.190Z"
   },
   {
    "duration": 713,
    "start_time": "2022-07-31T18:21:20.419Z"
   },
   {
    "duration": 145,
    "start_time": "2022-07-31T18:22:01.350Z"
   },
   {
    "duration": 1025,
    "start_time": "2022-07-31T18:22:05.814Z"
   },
   {
    "duration": 2300,
    "start_time": "2022-07-31T18:27:03.499Z"
   },
   {
    "duration": 1102,
    "start_time": "2022-07-31T18:27:10.828Z"
   },
   {
    "duration": 139,
    "start_time": "2022-07-31T18:30:21.419Z"
   },
   {
    "duration": 122,
    "start_time": "2022-07-31T18:30:40.083Z"
   },
   {
    "duration": 141,
    "start_time": "2022-07-31T18:30:43.553Z"
   },
   {
    "duration": 173,
    "start_time": "2022-07-31T18:30:45.578Z"
   },
   {
    "duration": 242,
    "start_time": "2022-07-31T18:30:47.866Z"
   },
   {
    "duration": 813,
    "start_time": "2022-07-31T18:30:55.914Z"
   },
   {
    "duration": 171,
    "start_time": "2022-07-31T18:30:59.752Z"
   },
   {
    "duration": 139,
    "start_time": "2022-07-31T18:31:02.654Z"
   },
   {
    "duration": 152,
    "start_time": "2022-07-31T18:31:09.355Z"
   },
   {
    "duration": 191,
    "start_time": "2022-07-31T18:32:01.059Z"
   },
   {
    "duration": 4,
    "start_time": "2022-07-31T18:57:36.895Z"
   },
   {
    "duration": 5,
    "start_time": "2022-07-31T18:57:40.262Z"
   },
   {
    "duration": 7,
    "start_time": "2022-07-31T18:57:47.334Z"
   },
   {
    "duration": 43,
    "start_time": "2022-07-31T18:58:22.166Z"
   },
   {
    "duration": 38,
    "start_time": "2022-07-31T18:59:20.166Z"
   },
   {
    "duration": 38,
    "start_time": "2022-07-31T18:59:29.486Z"
   },
   {
    "duration": 259,
    "start_time": "2022-07-31T19:12:19.425Z"
   },
   {
    "duration": 321,
    "start_time": "2022-07-31T19:12:46.073Z"
   },
   {
    "duration": 260,
    "start_time": "2022-07-31T19:13:34.554Z"
   },
   {
    "duration": 271,
    "start_time": "2022-07-31T19:13:43.672Z"
   },
   {
    "duration": 184,
    "start_time": "2022-07-31T19:13:48.239Z"
   },
   {
    "duration": 156,
    "start_time": "2022-07-31T19:13:50.903Z"
   },
   {
    "duration": 532,
    "start_time": "2022-07-31T19:13:53.496Z"
   },
   {
    "duration": 144,
    "start_time": "2022-07-31T19:14:25.027Z"
   },
   {
    "duration": 148,
    "start_time": "2022-07-31T19:14:31.215Z"
   },
   {
    "duration": 37,
    "start_time": "2022-07-31T19:22:12.429Z"
   },
   {
    "duration": 146,
    "start_time": "2022-07-31T19:23:43.301Z"
   },
   {
    "duration": 149,
    "start_time": "2022-07-31T19:23:55.027Z"
   },
   {
    "duration": 222,
    "start_time": "2022-07-31T19:26:16.324Z"
   },
   {
    "duration": 135,
    "start_time": "2022-07-31T19:26:25.052Z"
   },
   {
    "duration": 226,
    "start_time": "2022-07-31T19:30:14.107Z"
   },
   {
    "duration": 145,
    "start_time": "2022-07-31T19:31:09.497Z"
   },
   {
    "duration": 185,
    "start_time": "2022-07-31T19:35:39.740Z"
   },
   {
    "duration": 434,
    "start_time": "2022-07-31T19:36:37.609Z"
   },
   {
    "duration": 194,
    "start_time": "2022-07-31T19:37:05.224Z"
   },
   {
    "duration": 29,
    "start_time": "2022-07-31T19:39:26.224Z"
   },
   {
    "duration": 194,
    "start_time": "2022-07-31T19:40:02.271Z"
   },
   {
    "duration": 192,
    "start_time": "2022-07-31T19:40:08.008Z"
   },
   {
    "duration": 185,
    "start_time": "2022-07-31T19:40:10.309Z"
   },
   {
    "duration": 150,
    "start_time": "2022-07-31T19:40:13.356Z"
   },
   {
    "duration": 194,
    "start_time": "2022-07-31T19:40:17.754Z"
   },
   {
    "duration": 215,
    "start_time": "2022-07-31T19:40:24.871Z"
   },
   {
    "duration": 192,
    "start_time": "2022-07-31T19:40:32.054Z"
   },
   {
    "duration": 260,
    "start_time": "2022-07-31T19:41:47.374Z"
   },
   {
    "duration": 204,
    "start_time": "2022-07-31T19:42:03.125Z"
   },
   {
    "duration": 146,
    "start_time": "2022-07-31T19:42:37.589Z"
   },
   {
    "duration": 187,
    "start_time": "2022-07-31T19:42:40.197Z"
   },
   {
    "duration": 190,
    "start_time": "2022-07-31T19:43:14.278Z"
   },
   {
    "duration": 187,
    "start_time": "2022-07-31T19:43:18.221Z"
   },
   {
    "duration": 283,
    "start_time": "2022-07-31T19:43:21.853Z"
   },
   {
    "duration": 142,
    "start_time": "2022-07-31T19:43:29.374Z"
   },
   {
    "duration": 273,
    "start_time": "2022-07-31T19:43:31.279Z"
   },
   {
    "duration": 178,
    "start_time": "2022-07-31T19:43:43.326Z"
   },
   {
    "duration": 356,
    "start_time": "2022-07-31T20:21:08.626Z"
   },
   {
    "duration": 333,
    "start_time": "2022-07-31T20:21:16.523Z"
   },
   {
    "duration": 205,
    "start_time": "2022-07-31T20:21:19.521Z"
   },
   {
    "duration": 195,
    "start_time": "2022-07-31T20:21:26.835Z"
   },
   {
    "duration": 152,
    "start_time": "2022-07-31T20:21:29.090Z"
   },
   {
    "duration": 196,
    "start_time": "2022-07-31T20:21:38.526Z"
   },
   {
    "duration": 739,
    "start_time": "2022-07-31T20:21:40.594Z"
   },
   {
    "duration": 219,
    "start_time": "2022-07-31T20:22:00.227Z"
   },
   {
    "duration": 167,
    "start_time": "2022-07-31T20:24:50.922Z"
   },
   {
    "duration": 138,
    "start_time": "2022-07-31T20:24:55.993Z"
   },
   {
    "duration": 315,
    "start_time": "2022-07-31T20:25:13.394Z"
   },
   {
    "duration": 152,
    "start_time": "2022-07-31T20:25:16.730Z"
   },
   {
    "duration": 188,
    "start_time": "2022-07-31T20:25:31.801Z"
   },
   {
    "duration": 216,
    "start_time": "2022-07-31T20:26:33.449Z"
   },
   {
    "duration": 164,
    "start_time": "2022-07-31T20:26:47.816Z"
   },
   {
    "duration": 366,
    "start_time": "2022-07-31T20:27:06.089Z"
   },
   {
    "duration": 162,
    "start_time": "2022-07-31T20:27:13.224Z"
   },
   {
    "duration": 156,
    "start_time": "2022-07-31T20:27:17.777Z"
   },
   {
    "duration": 173,
    "start_time": "2022-07-31T20:28:20.856Z"
   },
   {
    "duration": 23,
    "start_time": "2022-07-31T20:28:32.985Z"
   },
   {
    "duration": 147,
    "start_time": "2022-07-31T20:30:32.183Z"
   },
   {
    "duration": 231,
    "start_time": "2022-07-31T20:30:35.927Z"
   },
   {
    "duration": 206,
    "start_time": "2022-07-31T20:30:48.424Z"
   },
   {
    "duration": 182,
    "start_time": "2022-07-31T20:30:51.967Z"
   },
   {
    "duration": 301,
    "start_time": "2022-07-31T20:30:55.815Z"
   },
   {
    "duration": 300,
    "start_time": "2022-07-31T20:34:24.685Z"
   },
   {
    "duration": 289,
    "start_time": "2022-07-31T20:34:55.420Z"
   },
   {
    "duration": 316,
    "start_time": "2022-07-31T20:36:15.388Z"
   },
   {
    "duration": 94,
    "start_time": "2022-07-31T20:36:34.490Z"
   },
   {
    "duration": 85,
    "start_time": "2022-07-31T20:37:52.302Z"
   },
   {
    "duration": 284,
    "start_time": "2022-07-31T20:38:18.045Z"
   },
   {
    "duration": 325,
    "start_time": "2022-07-31T20:38:29.451Z"
   },
   {
    "duration": 2271,
    "start_time": "2022-07-31T20:38:33.019Z"
   },
   {
    "duration": 175,
    "start_time": "2022-07-31T20:38:38.619Z"
   },
   {
    "duration": 175,
    "start_time": "2022-07-31T20:38:50.140Z"
   },
   {
    "duration": 202,
    "start_time": "2022-07-31T20:39:45.747Z"
   },
   {
    "duration": 261,
    "start_time": "2022-07-31T20:40:08.243Z"
   },
   {
    "duration": 311,
    "start_time": "2022-07-31T20:40:11.893Z"
   },
   {
    "duration": 72,
    "start_time": "2022-07-31T20:47:02.839Z"
   },
   {
    "duration": 6,
    "start_time": "2022-07-31T20:47:24.573Z"
   },
   {
    "duration": 159,
    "start_time": "2022-07-31T20:47:47.776Z"
   },
   {
    "duration": 89,
    "start_time": "2022-07-31T20:48:05.023Z"
   },
   {
    "duration": 45,
    "start_time": "2022-07-31T20:48:07.303Z"
   },
   {
    "duration": 149,
    "start_time": "2022-07-31T20:48:10.391Z"
   },
   {
    "duration": 159,
    "start_time": "2022-07-31T20:48:20.440Z"
   },
   {
    "duration": 181,
    "start_time": "2022-07-31T20:48:25.496Z"
   },
   {
    "duration": 163,
    "start_time": "2022-07-31T20:48:30.457Z"
   },
   {
    "duration": 164,
    "start_time": "2022-07-31T20:52:41.253Z"
   },
   {
    "duration": 11,
    "start_time": "2022-07-31T20:59:29.579Z"
   },
   {
    "duration": 140,
    "start_time": "2022-07-31T20:59:48.652Z"
   },
   {
    "duration": 122,
    "start_time": "2022-07-31T20:59:53.932Z"
   },
   {
    "duration": 123,
    "start_time": "2022-07-31T20:59:59.179Z"
   },
   {
    "duration": 128,
    "start_time": "2022-07-31T21:01:18.573Z"
   },
   {
    "duration": 133,
    "start_time": "2022-07-31T21:01:25.690Z"
   },
   {
    "duration": 124,
    "start_time": "2022-07-31T21:01:27.883Z"
   },
   {
    "duration": 122,
    "start_time": "2022-07-31T21:01:29.572Z"
   },
   {
    "duration": 6,
    "start_time": "2022-07-31T21:02:40.075Z"
   },
   {
    "duration": 140,
    "start_time": "2022-07-31T21:03:26.843Z"
   },
   {
    "duration": 146,
    "start_time": "2022-07-31T21:03:30.130Z"
   },
   {
    "duration": 140,
    "start_time": "2022-07-31T21:03:38.473Z"
   },
   {
    "duration": 161,
    "start_time": "2022-07-31T21:03:43.314Z"
   },
   {
    "duration": 183,
    "start_time": "2022-07-31T21:03:45.907Z"
   },
   {
    "duration": 150,
    "start_time": "2022-07-31T21:04:37.374Z"
   },
   {
    "duration": 162,
    "start_time": "2022-07-31T21:04:39.572Z"
   },
   {
    "duration": 140,
    "start_time": "2022-07-31T21:04:41.857Z"
   },
   {
    "duration": 166,
    "start_time": "2022-07-31T21:04:45.081Z"
   },
   {
    "duration": 8,
    "start_time": "2022-07-31T21:07:27.705Z"
   },
   {
    "duration": 165,
    "start_time": "2022-07-31T21:07:31.784Z"
   },
   {
    "duration": 142,
    "start_time": "2022-07-31T21:07:40.089Z"
   },
   {
    "duration": 163,
    "start_time": "2022-07-31T21:07:51.255Z"
   },
   {
    "duration": 168,
    "start_time": "2022-07-31T21:07:57.624Z"
   },
   {
    "duration": 313,
    "start_time": "2022-07-31T21:08:05.928Z"
   },
   {
    "duration": 174,
    "start_time": "2022-07-31T21:08:10.256Z"
   },
   {
    "duration": 159,
    "start_time": "2022-07-31T21:08:14.098Z"
   },
   {
    "duration": 118,
    "start_time": "2022-07-31T21:08:24.224Z"
   },
   {
    "duration": 124,
    "start_time": "2022-07-31T21:08:26.928Z"
   },
   {
    "duration": 298,
    "start_time": "2022-07-31T21:08:35.073Z"
   },
   {
    "duration": 279,
    "start_time": "2022-07-31T21:08:38.576Z"
   },
   {
    "duration": 258,
    "start_time": "2022-07-31T21:08:42.512Z"
   },
   {
    "duration": 199,
    "start_time": "2022-07-31T21:08:46.173Z"
   },
   {
    "duration": 137,
    "start_time": "2022-07-31T21:08:49.156Z"
   },
   {
    "duration": 138,
    "start_time": "2022-07-31T21:08:53.128Z"
   },
   {
    "duration": 151,
    "start_time": "2022-07-31T21:08:57.224Z"
   },
   {
    "duration": 136,
    "start_time": "2022-07-31T21:09:00.512Z"
   },
   {
    "duration": 149,
    "start_time": "2022-07-31T21:09:02.625Z"
   },
   {
    "duration": 132,
    "start_time": "2022-07-31T21:09:04.385Z"
   },
   {
    "duration": 169,
    "start_time": "2022-07-31T21:09:06.312Z"
   },
   {
    "duration": 149,
    "start_time": "2022-07-31T21:09:09.288Z"
   },
   {
    "duration": 137,
    "start_time": "2022-07-31T21:09:11.008Z"
   },
   {
    "duration": 149,
    "start_time": "2022-07-31T21:09:12.944Z"
   },
   {
    "duration": 8,
    "start_time": "2022-07-31T21:10:41.400Z"
   },
   {
    "duration": 6,
    "start_time": "2022-07-31T21:10:45.383Z"
   },
   {
    "duration": 150,
    "start_time": "2022-07-31T21:11:52.687Z"
   },
   {
    "duration": 59,
    "start_time": "2022-07-31T21:12:07.623Z"
   },
   {
    "duration": 160,
    "start_time": "2022-07-31T21:12:11.879Z"
   },
   {
    "duration": 206,
    "start_time": "2022-07-31T21:12:15.392Z"
   },
   {
    "duration": 191,
    "start_time": "2022-07-31T21:16:08.717Z"
   },
   {
    "duration": 214,
    "start_time": "2022-07-31T21:16:31.873Z"
   },
   {
    "duration": 229,
    "start_time": "2022-07-31T21:16:44.655Z"
   },
   {
    "duration": 285,
    "start_time": "2022-07-31T21:16:52.464Z"
   },
   {
    "duration": 60,
    "start_time": "2022-07-31T21:19:53.532Z"
   },
   {
    "duration": 211,
    "start_time": "2022-07-31T21:20:31.948Z"
   },
   {
    "duration": 315,
    "start_time": "2022-07-31T21:21:13.059Z"
   },
   {
    "duration": 227,
    "start_time": "2022-07-31T21:21:17.020Z"
   },
   {
    "duration": 1537,
    "start_time": "2022-07-31T21:21:19.851Z"
   },
   {
    "duration": 559,
    "start_time": "2022-07-31T21:21:24.212Z"
   },
   {
    "duration": 437,
    "start_time": "2022-07-31T21:21:31.403Z"
   },
   {
    "duration": 439,
    "start_time": "2022-07-31T21:22:52.397Z"
   },
   {
    "duration": 513,
    "start_time": "2022-07-31T21:26:51.905Z"
   },
   {
    "duration": 52,
    "start_time": "2022-07-31T21:26:53.513Z"
   },
   {
    "duration": 329,
    "start_time": "2022-07-31T21:27:08.289Z"
   },
   {
    "duration": 163,
    "start_time": "2022-07-31T21:28:32.853Z"
   },
   {
    "duration": 332,
    "start_time": "2022-07-31T21:28:35.194Z"
   },
   {
    "duration": 291,
    "start_time": "2022-07-31T21:28:43.721Z"
   },
   {
    "duration": 302,
    "start_time": "2022-07-31T21:28:47.704Z"
   },
   {
    "duration": 307,
    "start_time": "2022-07-31T21:28:59.073Z"
   },
   {
    "duration": 317,
    "start_time": "2022-07-31T21:29:02.593Z"
   },
   {
    "duration": 335,
    "start_time": "2022-07-31T21:29:06.878Z"
   },
   {
    "duration": 274,
    "start_time": "2022-07-31T21:31:00.858Z"
   },
   {
    "duration": 6,
    "start_time": "2022-07-31T21:31:05.049Z"
   },
   {
    "duration": 53,
    "start_time": "2022-08-01T09:11:36.096Z"
   },
   {
    "duration": 814,
    "start_time": "2022-08-01T09:11:40.164Z"
   },
   {
    "duration": 2559,
    "start_time": "2022-08-01T09:11:40.980Z"
   },
   {
    "duration": 90,
    "start_time": "2022-08-01T09:11:43.541Z"
   },
   {
    "duration": 17,
    "start_time": "2022-08-01T09:11:43.633Z"
   },
   {
    "duration": 8,
    "start_time": "2022-08-01T09:11:43.653Z"
   },
   {
    "duration": 72,
    "start_time": "2022-08-01T09:11:43.663Z"
   },
   {
    "duration": 23,
    "start_time": "2022-08-01T09:11:43.737Z"
   },
   {
    "duration": 8,
    "start_time": "2022-08-01T09:11:43.762Z"
   },
   {
    "duration": 5,
    "start_time": "2022-08-01T09:11:46.744Z"
   },
   {
    "duration": 8,
    "start_time": "2022-08-01T09:11:52.119Z"
   },
   {
    "duration": 24,
    "start_time": "2022-08-01T09:11:56.081Z"
   },
   {
    "duration": 27,
    "start_time": "2022-08-01T09:12:04.986Z"
   },
   {
    "duration": 10,
    "start_time": "2022-08-01T09:12:07.887Z"
   },
   {
    "duration": 9,
    "start_time": "2022-08-01T09:12:11.374Z"
   },
   {
    "duration": 10,
    "start_time": "2022-08-01T09:18:35.301Z"
   },
   {
    "duration": 10,
    "start_time": "2022-08-01T09:18:39.779Z"
   },
   {
    "duration": 64,
    "start_time": "2022-08-01T09:18:50.701Z"
   },
   {
    "duration": 9,
    "start_time": "2022-08-01T09:18:52.676Z"
   },
   {
    "duration": 58,
    "start_time": "2022-08-01T09:18:55.146Z"
   },
   {
    "duration": 9,
    "start_time": "2022-08-01T09:19:03.085Z"
   },
   {
    "duration": 11,
    "start_time": "2022-08-01T09:19:06.261Z"
   },
   {
    "duration": 4,
    "start_time": "2022-08-01T09:19:16.142Z"
   },
   {
    "duration": 9,
    "start_time": "2022-08-01T09:19:41.143Z"
   },
   {
    "duration": 840,
    "start_time": "2022-08-01T09:20:41.613Z"
   },
   {
    "duration": 2314,
    "start_time": "2022-08-01T09:20:42.455Z"
   },
   {
    "duration": 90,
    "start_time": "2022-08-01T09:20:44.770Z"
   },
   {
    "duration": 13,
    "start_time": "2022-08-01T09:20:44.864Z"
   },
   {
    "duration": 12,
    "start_time": "2022-08-01T09:20:44.879Z"
   },
   {
    "duration": 85,
    "start_time": "2022-08-01T09:20:44.893Z"
   },
   {
    "duration": 24,
    "start_time": "2022-08-01T09:20:44.980Z"
   },
   {
    "duration": 24,
    "start_time": "2022-08-01T09:20:45.006Z"
   },
   {
    "duration": 208,
    "start_time": "2022-08-01T09:20:45.032Z"
   },
   {
    "duration": 23,
    "start_time": "2022-08-01T09:20:45.243Z"
   },
   {
    "duration": 18,
    "start_time": "2022-08-01T09:20:45.268Z"
   },
   {
    "duration": 12,
    "start_time": "2022-08-01T09:20:45.288Z"
   },
   {
    "duration": 25,
    "start_time": "2022-08-01T09:20:45.302Z"
   },
   {
    "duration": 54,
    "start_time": "2022-08-01T09:20:45.328Z"
   },
   {
    "duration": 13,
    "start_time": "2022-08-01T09:20:45.384Z"
   },
   {
    "duration": 30,
    "start_time": "2022-08-01T09:20:45.399Z"
   },
   {
    "duration": 12,
    "start_time": "2022-08-01T09:20:45.431Z"
   },
   {
    "duration": 440,
    "start_time": "2022-08-01T09:20:45.445Z"
   },
   {
    "duration": 5,
    "start_time": "2022-08-01T09:20:45.886Z"
   },
   {
    "duration": 19,
    "start_time": "2022-08-01T09:20:45.892Z"
   },
   {
    "duration": 204,
    "start_time": "2022-08-01T09:20:45.913Z"
   },
   {
    "duration": 236,
    "start_time": "2022-08-01T09:20:46.123Z"
   },
   {
    "duration": 465,
    "start_time": "2022-08-01T09:20:46.361Z"
   },
   {
    "duration": 313,
    "start_time": "2022-08-01T09:20:46.828Z"
   },
   {
    "duration": 228,
    "start_time": "2022-08-01T09:20:47.143Z"
   },
   {
    "duration": 174,
    "start_time": "2022-08-01T09:20:47.374Z"
   },
   {
    "duration": 202,
    "start_time": "2022-08-01T09:20:47.550Z"
   },
   {
    "duration": 152,
    "start_time": "2022-08-01T09:20:47.756Z"
   },
   {
    "duration": 242,
    "start_time": "2022-08-01T09:20:47.910Z"
   },
   {
    "duration": 312,
    "start_time": "2022-08-01T09:20:48.153Z"
   },
   {
    "duration": 565,
    "start_time": "2022-08-01T09:20:48.467Z"
   },
   {
    "duration": 341,
    "start_time": "2022-08-01T09:20:49.034Z"
   },
   {
    "duration": 4,
    "start_time": "2022-08-01T09:20:49.377Z"
   },
   {
    "duration": 13,
    "start_time": "2022-08-01T09:20:49.384Z"
   },
   {
    "duration": 902,
    "start_time": "2022-08-01T09:20:49.399Z"
   },
   {
    "duration": 630,
    "start_time": "2022-08-01T09:21:08.742Z"
   },
   {
    "duration": 277,
    "start_time": "2022-08-01T09:21:44.469Z"
   },
   {
    "duration": 156,
    "start_time": "2022-08-01T09:21:48.084Z"
   },
   {
    "duration": 186,
    "start_time": "2022-08-01T09:22:19.100Z"
   },
   {
    "duration": 138,
    "start_time": "2022-08-01T09:22:27.950Z"
   },
   {
    "duration": 166,
    "start_time": "2022-08-01T09:22:35.680Z"
   },
   {
    "duration": 173,
    "start_time": "2022-08-01T09:22:38.467Z"
   },
   {
    "duration": 141,
    "start_time": "2022-08-01T09:22:45.988Z"
   },
   {
    "duration": 183,
    "start_time": "2022-08-01T09:23:03.004Z"
   },
   {
    "duration": 237,
    "start_time": "2022-08-01T09:23:05.622Z"
   },
   {
    "duration": 9,
    "start_time": "2022-08-01T09:51:06.838Z"
   },
   {
    "duration": 5,
    "start_time": "2022-08-01T09:52:04.549Z"
   },
   {
    "duration": 4,
    "start_time": "2022-08-01T09:53:09.581Z"
   },
   {
    "duration": 4,
    "start_time": "2022-08-01T09:53:34.645Z"
   },
   {
    "duration": 4,
    "start_time": "2022-08-01T09:53:57.293Z"
   },
   {
    "duration": 55,
    "start_time": "2022-08-01T09:54:06.220Z"
   },
   {
    "duration": 4,
    "start_time": "2022-08-01T09:54:09.252Z"
   },
   {
    "duration": 4,
    "start_time": "2022-08-01T09:54:35.213Z"
   },
   {
    "duration": 78,
    "start_time": "2022-08-01T09:54:51.542Z"
   },
   {
    "duration": 17,
    "start_time": "2022-08-01T09:55:13.451Z"
   },
   {
    "duration": 1071,
    "start_time": "2022-08-01T09:55:44.596Z"
   },
   {
    "duration": 834,
    "start_time": "2022-08-01T09:56:25.683Z"
   },
   {
    "duration": 1984,
    "start_time": "2022-08-01T09:56:29.933Z"
   },
   {
    "duration": 5860,
    "start_time": "2022-08-01T09:56:44.604Z"
   },
   {
    "duration": 896,
    "start_time": "2022-08-01T09:59:09.601Z"
   },
   {
    "duration": 12,
    "start_time": "2022-08-01T10:00:16.123Z"
   },
   {
    "duration": 358,
    "start_time": "2022-08-01T10:06:51.047Z"
   },
   {
    "duration": 117,
    "start_time": "2022-08-01T10:07:00.343Z"
   },
   {
    "duration": 283,
    "start_time": "2022-08-01T10:07:21.094Z"
   },
   {
    "duration": 428,
    "start_time": "2022-08-01T10:08:08.814Z"
   },
   {
    "duration": 320,
    "start_time": "2022-08-01T10:08:12.878Z"
   },
   {
    "duration": 10,
    "start_time": "2022-08-01T10:08:21.462Z"
   },
   {
    "duration": 245,
    "start_time": "2022-08-01T10:08:45.547Z"
   },
   {
    "duration": 5272,
    "start_time": "2022-08-01T10:08:53.303Z"
   },
   {
    "duration": 284,
    "start_time": "2022-08-01T10:09:05.662Z"
   },
   {
    "duration": 329,
    "start_time": "2022-08-01T10:09:18.477Z"
   },
   {
    "duration": 180,
    "start_time": "2022-08-01T10:17:21.337Z"
   },
   {
    "duration": 136,
    "start_time": "2022-08-01T10:17:31.519Z"
   },
   {
    "duration": 130,
    "start_time": "2022-08-01T10:21:20.263Z"
   },
   {
    "duration": 62,
    "start_time": "2022-08-01T10:21:37.687Z"
   },
   {
    "duration": 4,
    "start_time": "2022-08-01T10:22:12.478Z"
   },
   {
    "duration": 7,
    "start_time": "2022-08-01T10:22:19.222Z"
   },
   {
    "duration": 144,
    "start_time": "2022-08-01T10:22:47.271Z"
   },
   {
    "duration": 131,
    "start_time": "2022-08-01T10:23:31.007Z"
   },
   {
    "duration": 792,
    "start_time": "2022-08-01T10:23:37.414Z"
   },
   {
    "duration": 127,
    "start_time": "2022-08-01T10:23:40.637Z"
   },
   {
    "duration": 119,
    "start_time": "2022-08-01T10:23:42.765Z"
   },
   {
    "duration": 126,
    "start_time": "2022-08-01T10:24:03.021Z"
   },
   {
    "duration": 6,
    "start_time": "2022-08-01T11:58:55.400Z"
   },
   {
    "duration": 8,
    "start_time": "2022-08-01T11:59:24.562Z"
   },
   {
    "duration": 1154,
    "start_time": "2022-08-01T11:59:30.547Z"
   },
   {
    "duration": 2399,
    "start_time": "2022-08-01T11:59:31.704Z"
   },
   {
    "duration": 83,
    "start_time": "2022-08-01T11:59:34.105Z"
   },
   {
    "duration": 10,
    "start_time": "2022-08-01T11:59:34.190Z"
   },
   {
    "duration": 27,
    "start_time": "2022-08-01T11:59:34.203Z"
   },
   {
    "duration": 81,
    "start_time": "2022-08-01T11:59:34.234Z"
   },
   {
    "duration": 22,
    "start_time": "2022-08-01T11:59:34.318Z"
   },
   {
    "duration": 43,
    "start_time": "2022-08-01T11:59:34.342Z"
   },
   {
    "duration": 219,
    "start_time": "2022-08-01T11:59:34.387Z"
   },
   {
    "duration": 32,
    "start_time": "2022-08-01T11:59:34.608Z"
   },
   {
    "duration": 38,
    "start_time": "2022-08-01T11:59:34.642Z"
   },
   {
    "duration": 10,
    "start_time": "2022-08-01T11:59:34.682Z"
   },
   {
    "duration": 4,
    "start_time": "2022-08-01T11:59:34.698Z"
   },
   {
    "duration": 35,
    "start_time": "2022-08-01T11:59:34.705Z"
   },
   {
    "duration": 23,
    "start_time": "2022-08-01T11:59:34.742Z"
   },
   {
    "duration": 7,
    "start_time": "2022-08-01T11:59:34.767Z"
   },
   {
    "duration": 8,
    "start_time": "2022-08-01T11:59:34.776Z"
   },
   {
    "duration": 430,
    "start_time": "2022-08-01T11:59:34.786Z"
   },
   {
    "duration": 13,
    "start_time": "2022-08-01T11:59:35.218Z"
   },
   {
    "duration": 21,
    "start_time": "2022-08-01T11:59:35.237Z"
   },
   {
    "duration": 185,
    "start_time": "2022-08-01T11:59:35.260Z"
   },
   {
    "duration": 192,
    "start_time": "2022-08-01T11:59:35.447Z"
   },
   {
    "duration": 401,
    "start_time": "2022-08-01T11:59:35.643Z"
   },
   {
    "duration": 329,
    "start_time": "2022-08-01T11:59:36.046Z"
   },
   {
    "duration": 182,
    "start_time": "2022-08-01T11:59:36.377Z"
   },
   {
    "duration": 147,
    "start_time": "2022-08-01T11:59:36.561Z"
   },
   {
    "duration": 174,
    "start_time": "2022-08-01T11:59:36.710Z"
   },
   {
    "duration": 161,
    "start_time": "2022-08-01T11:59:36.886Z"
   },
   {
    "duration": 219,
    "start_time": "2022-08-01T11:59:37.049Z"
   },
   {
    "duration": 420,
    "start_time": "2022-08-01T11:59:37.271Z"
   },
   {
    "duration": 579,
    "start_time": "2022-08-01T11:59:37.694Z"
   },
   {
    "duration": 337,
    "start_time": "2022-08-01T11:59:38.275Z"
   },
   {
    "duration": 17,
    "start_time": "2022-08-01T11:59:38.614Z"
   },
   {
    "duration": 1043,
    "start_time": "2022-08-01T11:59:38.632Z"
   },
   {
    "duration": 0,
    "start_time": "2022-08-01T11:59:39.678Z"
   },
   {
    "duration": 0,
    "start_time": "2022-08-01T11:59:39.679Z"
   },
   {
    "duration": 0,
    "start_time": "2022-08-01T11:59:39.680Z"
   },
   {
    "duration": 7,
    "start_time": "2022-08-01T11:59:43.399Z"
   },
   {
    "duration": 121,
    "start_time": "2022-08-01T11:59:45.864Z"
   },
   {
    "duration": 19,
    "start_time": "2022-08-01T12:00:10.417Z"
   },
   {
    "duration": 972,
    "start_time": "2022-08-01T12:03:43.839Z"
   },
   {
    "duration": 2468,
    "start_time": "2022-08-01T12:03:44.813Z"
   },
   {
    "duration": 96,
    "start_time": "2022-08-01T12:03:47.283Z"
   },
   {
    "duration": 11,
    "start_time": "2022-08-01T12:03:47.381Z"
   },
   {
    "duration": 13,
    "start_time": "2022-08-01T12:03:47.394Z"
   },
   {
    "duration": 73,
    "start_time": "2022-08-01T12:03:47.423Z"
   },
   {
    "duration": 44,
    "start_time": "2022-08-01T12:03:47.499Z"
   },
   {
    "duration": 17,
    "start_time": "2022-08-01T12:03:47.546Z"
   },
   {
    "duration": 222,
    "start_time": "2022-08-01T12:03:47.565Z"
   },
   {
    "duration": 40,
    "start_time": "2022-08-01T12:03:47.791Z"
   },
   {
    "duration": 11,
    "start_time": "2022-08-01T12:03:47.839Z"
   },
   {
    "duration": 29,
    "start_time": "2022-08-01T12:03:47.852Z"
   },
   {
    "duration": 15,
    "start_time": "2022-08-01T12:03:47.883Z"
   },
   {
    "duration": 39,
    "start_time": "2022-08-01T12:03:47.900Z"
   },
   {
    "duration": 20,
    "start_time": "2022-08-01T12:03:47.945Z"
   },
   {
    "duration": 15,
    "start_time": "2022-08-01T12:03:47.967Z"
   },
   {
    "duration": 15,
    "start_time": "2022-08-01T12:03:47.984Z"
   },
   {
    "duration": 432,
    "start_time": "2022-08-01T12:03:48.001Z"
   },
   {
    "duration": 6,
    "start_time": "2022-08-01T12:03:48.436Z"
   },
   {
    "duration": 8,
    "start_time": "2022-08-01T12:03:48.444Z"
   },
   {
    "duration": 190,
    "start_time": "2022-08-01T12:03:48.454Z"
   },
   {
    "duration": 210,
    "start_time": "2022-08-01T12:03:48.647Z"
   },
   {
    "duration": 500,
    "start_time": "2022-08-01T12:03:48.859Z"
   },
   {
    "duration": 326,
    "start_time": "2022-08-01T12:03:49.361Z"
   },
   {
    "duration": 189,
    "start_time": "2022-08-01T12:03:49.689Z"
   },
   {
    "duration": 161,
    "start_time": "2022-08-01T12:03:49.881Z"
   },
   {
    "duration": 161,
    "start_time": "2022-08-01T12:03:50.044Z"
   },
   {
    "duration": 162,
    "start_time": "2022-08-01T12:03:50.208Z"
   },
   {
    "duration": 195,
    "start_time": "2022-08-01T12:03:50.371Z"
   },
   {
    "duration": 294,
    "start_time": "2022-08-01T12:03:50.568Z"
   },
   {
    "duration": 571,
    "start_time": "2022-08-01T12:03:50.864Z"
   },
   {
    "duration": 328,
    "start_time": "2022-08-01T12:03:51.441Z"
   },
   {
    "duration": 5,
    "start_time": "2022-08-01T12:03:51.770Z"
   },
   {
    "duration": 1012,
    "start_time": "2022-08-01T12:03:51.777Z"
   },
   {
    "duration": 0,
    "start_time": "2022-08-01T12:03:52.791Z"
   },
   {
    "duration": 0,
    "start_time": "2022-08-01T12:03:52.793Z"
   },
   {
    "duration": 0,
    "start_time": "2022-08-01T12:03:52.793Z"
   },
   {
    "duration": 1316,
    "start_time": "2022-08-01T12:04:02.491Z"
   },
   {
    "duration": 365,
    "start_time": "2022-08-01T12:04:18.541Z"
   },
   {
    "duration": 11,
    "start_time": "2022-08-01T12:04:20.941Z"
   },
   {
    "duration": 6,
    "start_time": "2022-08-01T12:04:23.571Z"
   },
   {
    "duration": 173,
    "start_time": "2022-08-01T12:04:25.541Z"
   },
   {
    "duration": 141,
    "start_time": "2022-08-01T12:04:32.143Z"
   },
   {
    "duration": 13,
    "start_time": "2022-08-01T12:04:58.882Z"
   },
   {
    "duration": 141,
    "start_time": "2022-08-01T12:05:25.653Z"
   },
   {
    "duration": 558,
    "start_time": "2022-08-01T12:08:10.084Z"
   },
   {
    "duration": 489,
    "start_time": "2022-08-01T12:08:30.371Z"
   },
   {
    "duration": 535,
    "start_time": "2022-08-01T12:08:35.779Z"
   },
   {
    "duration": 247,
    "start_time": "2022-08-01T12:16:44.970Z"
   },
   {
    "duration": 288,
    "start_time": "2022-08-01T12:17:19.043Z"
   },
   {
    "duration": 296,
    "start_time": "2022-08-01T12:17:26.514Z"
   },
   {
    "duration": 83,
    "start_time": "2022-08-01T12:18:14.001Z"
   },
   {
    "duration": 6,
    "start_time": "2022-08-01T12:18:36.041Z"
   },
   {
    "duration": 323,
    "start_time": "2022-08-01T12:18:53.121Z"
   },
   {
    "duration": 6,
    "start_time": "2022-08-01T12:21:20.247Z"
   },
   {
    "duration": 528,
    "start_time": "2022-08-01T12:21:27.009Z"
   },
   {
    "duration": 179,
    "start_time": "2022-08-01T12:21:33.352Z"
   },
   {
    "duration": 163,
    "start_time": "2022-08-01T12:21:36.153Z"
   },
   {
    "duration": 222,
    "start_time": "2022-08-01T12:21:43.088Z"
   },
   {
    "duration": 220,
    "start_time": "2022-08-01T12:21:50.976Z"
   },
   {
    "duration": 233,
    "start_time": "2022-08-01T12:21:56.288Z"
   },
   {
    "duration": 205,
    "start_time": "2022-08-01T12:22:02.175Z"
   },
   {
    "duration": 171,
    "start_time": "2022-08-01T12:22:07.816Z"
   },
   {
    "duration": 294,
    "start_time": "2022-08-01T12:22:42.440Z"
   },
   {
    "duration": 226,
    "start_time": "2022-08-01T12:22:50.279Z"
   },
   {
    "duration": 199,
    "start_time": "2022-08-01T12:22:52.511Z"
   },
   {
    "duration": 368,
    "start_time": "2022-08-01T12:22:54.437Z"
   },
   {
    "duration": 190,
    "start_time": "2022-08-01T12:22:56.311Z"
   },
   {
    "duration": 166,
    "start_time": "2022-08-01T12:22:59.575Z"
   },
   {
    "duration": 149,
    "start_time": "2022-08-01T12:39:26.565Z"
   },
   {
    "duration": 158,
    "start_time": "2022-08-01T12:39:28.997Z"
   },
   {
    "duration": 183,
    "start_time": "2022-08-01T12:39:31.725Z"
   },
   {
    "duration": 198,
    "start_time": "2022-08-01T12:41:13.877Z"
   },
   {
    "duration": 178,
    "start_time": "2022-08-01T12:41:37.805Z"
   },
   {
    "duration": 174,
    "start_time": "2022-08-01T12:41:40.541Z"
   },
   {
    "duration": 194,
    "start_time": "2022-08-01T12:42:02.405Z"
   },
   {
    "duration": 189,
    "start_time": "2022-08-01T12:42:06.908Z"
   },
   {
    "duration": 201,
    "start_time": "2022-08-01T12:42:09.238Z"
   },
   {
    "duration": 220,
    "start_time": "2022-08-01T12:42:11.109Z"
   },
   {
    "duration": 198,
    "start_time": "2022-08-01T12:42:13.638Z"
   },
   {
    "duration": 188,
    "start_time": "2022-08-01T12:42:15.788Z"
   },
   {
    "duration": 179,
    "start_time": "2022-08-01T12:42:19.691Z"
   },
   {
    "duration": 196,
    "start_time": "2022-08-01T12:42:29.068Z"
   },
   {
    "duration": 202,
    "start_time": "2022-08-01T12:42:33.380Z"
   },
   {
    "duration": 191,
    "start_time": "2022-08-01T12:42:56.269Z"
   },
   {
    "duration": 178,
    "start_time": "2022-08-01T12:43:05.660Z"
   },
   {
    "duration": 256,
    "start_time": "2022-08-01T12:43:08.599Z"
   },
   {
    "duration": 395,
    "start_time": "2022-08-01T12:43:17.774Z"
   },
   {
    "duration": 957,
    "start_time": "2022-08-01T12:43:22.398Z"
   },
   {
    "duration": 2340,
    "start_time": "2022-08-01T12:43:23.357Z"
   },
   {
    "duration": 91,
    "start_time": "2022-08-01T12:43:25.699Z"
   },
   {
    "duration": 9,
    "start_time": "2022-08-01T12:43:25.793Z"
   },
   {
    "duration": 24,
    "start_time": "2022-08-01T12:43:25.803Z"
   },
   {
    "duration": 73,
    "start_time": "2022-08-01T12:43:25.828Z"
   },
   {
    "duration": 32,
    "start_time": "2022-08-01T12:43:25.903Z"
   },
   {
    "duration": 8,
    "start_time": "2022-08-01T12:43:25.940Z"
   },
   {
    "duration": 197,
    "start_time": "2022-08-01T12:43:25.950Z"
   },
   {
    "duration": 21,
    "start_time": "2022-08-01T12:43:26.149Z"
   },
   {
    "duration": 10,
    "start_time": "2022-08-01T12:43:26.171Z"
   },
   {
    "duration": 10,
    "start_time": "2022-08-01T12:43:26.182Z"
   },
   {
    "duration": 38,
    "start_time": "2022-08-01T12:43:26.195Z"
   },
   {
    "duration": 30,
    "start_time": "2022-08-01T12:43:26.235Z"
   },
   {
    "duration": 7,
    "start_time": "2022-08-01T12:43:26.267Z"
   },
   {
    "duration": 6,
    "start_time": "2022-08-01T12:43:26.276Z"
   },
   {
    "duration": 10,
    "start_time": "2022-08-01T12:43:26.283Z"
   },
   {
    "duration": 439,
    "start_time": "2022-08-01T12:43:26.295Z"
   },
   {
    "duration": 4,
    "start_time": "2022-08-01T12:43:26.740Z"
   },
   {
    "duration": 10,
    "start_time": "2022-08-01T12:43:26.745Z"
   },
   {
    "duration": 193,
    "start_time": "2022-08-01T12:43:26.757Z"
   },
   {
    "duration": 189,
    "start_time": "2022-08-01T12:43:26.952Z"
   },
   {
    "duration": 437,
    "start_time": "2022-08-01T12:43:27.147Z"
   },
   {
    "duration": 294,
    "start_time": "2022-08-01T12:43:27.586Z"
   },
   {
    "duration": 170,
    "start_time": "2022-08-01T12:43:27.882Z"
   },
   {
    "duration": 150,
    "start_time": "2022-08-01T12:43:28.055Z"
   },
   {
    "duration": 164,
    "start_time": "2022-08-01T12:43:28.207Z"
   },
   {
    "duration": 147,
    "start_time": "2022-08-01T12:43:28.373Z"
   },
   {
    "duration": 209,
    "start_time": "2022-08-01T12:43:28.522Z"
   },
   {
    "duration": 281,
    "start_time": "2022-08-01T12:43:28.738Z"
   },
   {
    "duration": 530,
    "start_time": "2022-08-01T12:43:29.025Z"
   },
   {
    "duration": 312,
    "start_time": "2022-08-01T12:43:29.557Z"
   },
   {
    "duration": 4,
    "start_time": "2022-08-01T12:43:29.870Z"
   },
   {
    "duration": 202,
    "start_time": "2022-08-01T12:43:29.876Z"
   },
   {
    "duration": 193,
    "start_time": "2022-08-01T12:43:30.080Z"
   },
   {
    "duration": 11,
    "start_time": "2022-08-01T12:43:30.275Z"
   },
   {
    "duration": 279,
    "start_time": "2022-08-01T12:43:30.288Z"
   },
   {
    "duration": 661,
    "start_time": "2022-08-01T12:44:51.598Z"
   },
   {
    "duration": 510,
    "start_time": "2022-08-01T12:44:57.528Z"
   },
   {
    "duration": 969,
    "start_time": "2022-08-01T12:46:43.808Z"
   },
   {
    "duration": 480,
    "start_time": "2022-08-01T12:46:46.742Z"
   },
   {
    "duration": 1028,
    "start_time": "2022-08-01T12:46:51.150Z"
   },
   {
    "duration": 1177,
    "start_time": "2022-08-01T12:46:56.510Z"
   },
   {
    "duration": 500,
    "start_time": "2022-08-01T12:47:01.834Z"
   },
   {
    "duration": 622,
    "start_time": "2022-08-01T12:47:23.127Z"
   },
   {
    "duration": 319,
    "start_time": "2022-08-01T12:47:29.520Z"
   },
   {
    "duration": 420,
    "start_time": "2022-08-01T12:47:44.587Z"
   },
   {
    "duration": 203,
    "start_time": "2022-08-01T12:47:49.678Z"
   },
   {
    "duration": 249,
    "start_time": "2022-08-01T12:48:04.110Z"
   },
   {
    "duration": 146,
    "start_time": "2022-08-01T12:48:07.670Z"
   },
   {
    "duration": 25,
    "start_time": "2022-08-01T12:49:53.845Z"
   },
   {
    "duration": 15,
    "start_time": "2022-08-01T12:50:00.640Z"
   },
   {
    "duration": 143,
    "start_time": "2022-08-01T12:50:44.621Z"
   },
   {
    "duration": 64,
    "start_time": "2022-08-01T12:51:07.715Z"
   },
   {
    "duration": 359,
    "start_time": "2022-08-01T12:51:15.084Z"
   },
   {
    "duration": 314,
    "start_time": "2022-08-01T12:51:17.838Z"
   },
   {
    "duration": 160,
    "start_time": "2022-08-01T12:51:21.835Z"
   },
   {
    "duration": 289,
    "start_time": "2022-08-01T12:51:39.076Z"
   },
   {
    "duration": 266,
    "start_time": "2022-08-01T12:51:43.238Z"
   },
   {
    "duration": 305,
    "start_time": "2022-08-01T12:51:46.788Z"
   },
   {
    "duration": 279,
    "start_time": "2022-08-01T12:51:50.631Z"
   },
   {
    "duration": 150,
    "start_time": "2022-08-01T12:52:00.707Z"
   },
   {
    "duration": 14,
    "start_time": "2022-08-01T12:52:26.180Z"
   },
   {
    "duration": 171,
    "start_time": "2022-08-01T12:53:02.699Z"
   },
   {
    "duration": 139,
    "start_time": "2022-08-01T12:53:06.443Z"
   },
   {
    "duration": 149,
    "start_time": "2022-08-01T12:53:13.965Z"
   },
   {
    "duration": 165,
    "start_time": "2022-08-01T12:53:15.618Z"
   },
   {
    "duration": 158,
    "start_time": "2022-08-01T12:53:17.035Z"
   },
   {
    "duration": 151,
    "start_time": "2022-08-01T12:53:21.345Z"
   },
   {
    "duration": 336,
    "start_time": "2022-08-01T12:53:40.933Z"
   },
   {
    "duration": 176,
    "start_time": "2022-08-01T12:53:45.740Z"
   },
   {
    "duration": 604,
    "start_time": "2022-08-01T12:54:49.938Z"
   },
   {
    "duration": 290,
    "start_time": "2022-08-01T12:54:53.466Z"
   },
   {
    "duration": 815,
    "start_time": "2022-08-01T12:55:16.171Z"
   },
   {
    "duration": 314,
    "start_time": "2022-08-01T12:55:20.444Z"
   },
   {
    "duration": 334,
    "start_time": "2022-08-01T12:55:39.736Z"
   },
   {
    "duration": 194,
    "start_time": "2022-08-01T12:55:45.538Z"
   },
   {
    "duration": 376,
    "start_time": "2022-08-01T12:55:59.562Z"
   },
   {
    "duration": 196,
    "start_time": "2022-08-01T12:56:03.075Z"
   },
   {
    "duration": 315,
    "start_time": "2022-08-01T12:57:11.546Z"
   },
   {
    "duration": 320,
    "start_time": "2022-08-01T12:57:15.639Z"
   },
   {
    "duration": 324,
    "start_time": "2022-08-01T12:57:19.546Z"
   },
   {
    "duration": 725,
    "start_time": "2022-08-01T12:58:23.121Z"
   },
   {
    "duration": 325,
    "start_time": "2022-08-01T12:58:26.777Z"
   },
   {
    "duration": 282,
    "start_time": "2022-08-01T12:58:28.681Z"
   },
   {
    "duration": 338,
    "start_time": "2022-08-01T12:58:31.705Z"
   },
   {
    "duration": 328,
    "start_time": "2022-08-01T12:59:33.721Z"
   },
   {
    "duration": 377,
    "start_time": "2022-08-01T12:59:37.037Z"
   },
   {
    "duration": 312,
    "start_time": "2022-08-01T12:59:39.776Z"
   },
   {
    "duration": 358,
    "start_time": "2022-08-01T12:59:46.638Z"
   },
   {
    "duration": 331,
    "start_time": "2022-08-01T13:00:03.032Z"
   },
   {
    "duration": 342,
    "start_time": "2022-08-01T13:00:12.224Z"
   },
   {
    "duration": 18,
    "start_time": "2022-08-01T13:24:12.603Z"
   },
   {
    "duration": 2888,
    "start_time": "2022-08-01T13:24:29.018Z"
   },
   {
    "duration": 2745,
    "start_time": "2022-08-01T13:24:54.123Z"
   },
   {
    "duration": 2531,
    "start_time": "2022-08-01T13:25:03.083Z"
   },
   {
    "duration": 3011,
    "start_time": "2022-08-01T13:26:33.713Z"
   },
   {
    "duration": 24,
    "start_time": "2022-08-01T13:26:51.002Z"
   },
   {
    "duration": 2479,
    "start_time": "2022-08-01T13:26:58.994Z"
   },
   {
    "duration": 2924,
    "start_time": "2022-08-01T13:27:38.090Z"
   },
   {
    "duration": 2598,
    "start_time": "2022-08-01T13:32:45.264Z"
   },
   {
    "duration": 392,
    "start_time": "2022-08-01T13:38:04.630Z"
   },
   {
    "duration": 212,
    "start_time": "2022-08-01T13:38:12.694Z"
   },
   {
    "duration": 234,
    "start_time": "2022-08-01T13:38:25.381Z"
   },
   {
    "duration": 143,
    "start_time": "2022-08-01T13:40:04.268Z"
   },
   {
    "duration": 206,
    "start_time": "2022-08-01T13:40:09.542Z"
   },
   {
    "duration": 223,
    "start_time": "2022-08-01T13:40:26.476Z"
   },
   {
    "duration": 888,
    "start_time": "2022-08-01T13:47:13.387Z"
   },
   {
    "duration": 232,
    "start_time": "2022-08-01T13:47:30.483Z"
   },
   {
    "duration": 128,
    "start_time": "2022-08-01T14:13:40.575Z"
   },
   {
    "duration": 1220,
    "start_time": "2022-08-01T14:14:05.815Z"
   },
   {
    "duration": 216,
    "start_time": "2022-08-01T14:14:26.885Z"
   },
   {
    "duration": 338,
    "start_time": "2022-08-01T14:17:19.355Z"
   },
   {
    "duration": 11,
    "start_time": "2022-08-01T14:17:47.430Z"
   },
   {
    "duration": 16,
    "start_time": "2022-08-01T14:17:49.476Z"
   },
   {
    "duration": 28,
    "start_time": "2022-08-01T14:20:56.484Z"
   },
   {
    "duration": 257,
    "start_time": "2022-08-01T14:23:06.117Z"
   },
   {
    "duration": 247,
    "start_time": "2022-08-01T14:23:11.684Z"
   },
   {
    "duration": 256,
    "start_time": "2022-08-01T14:23:19.789Z"
   },
   {
    "duration": 1000,
    "start_time": "2022-08-01T14:23:23.037Z"
   },
   {
    "duration": 259,
    "start_time": "2022-08-01T14:23:29.460Z"
   },
   {
    "duration": 249,
    "start_time": "2022-08-01T14:23:32.356Z"
   },
   {
    "duration": 123,
    "start_time": "2022-08-01T14:23:46.668Z"
   },
   {
    "duration": 254,
    "start_time": "2022-08-01T14:23:51.143Z"
   },
   {
    "duration": 3115,
    "start_time": "2022-08-01T14:24:35.995Z"
   },
   {
    "duration": 203,
    "start_time": "2022-08-01T14:29:05.307Z"
   },
   {
    "duration": 293,
    "start_time": "2022-08-01T14:32:04.653Z"
   },
   {
    "duration": 219,
    "start_time": "2022-08-01T14:32:31.916Z"
   },
   {
    "duration": 221,
    "start_time": "2022-08-01T14:33:05.193Z"
   },
   {
    "duration": 202,
    "start_time": "2022-08-01T14:33:22.530Z"
   },
   {
    "duration": 209,
    "start_time": "2022-08-01T14:33:53.489Z"
   },
   {
    "duration": 245,
    "start_time": "2022-08-01T14:37:15.448Z"
   },
   {
    "duration": 247,
    "start_time": "2022-08-01T14:37:24.667Z"
   },
   {
    "duration": 239,
    "start_time": "2022-08-01T14:37:36.561Z"
   },
   {
    "duration": 281,
    "start_time": "2022-08-01T14:37:44.673Z"
   },
   {
    "duration": 2499,
    "start_time": "2022-08-01T14:37:54.033Z"
   },
   {
    "duration": 11,
    "start_time": "2022-08-01T14:48:57.613Z"
   },
   {
    "duration": 23,
    "start_time": "2022-08-01T14:49:00.946Z"
   },
   {
    "duration": 13,
    "start_time": "2022-08-01T14:51:52.152Z"
   },
   {
    "duration": 13,
    "start_time": "2022-08-01T14:52:17.523Z"
   },
   {
    "duration": 14,
    "start_time": "2022-08-01T14:52:23.932Z"
   },
   {
    "duration": 12,
    "start_time": "2022-08-01T14:52:59.877Z"
   },
   {
    "duration": 17,
    "start_time": "2022-08-01T14:53:27.293Z"
   },
   {
    "duration": 18,
    "start_time": "2022-08-01T14:53:48.140Z"
   },
   {
    "duration": 169,
    "start_time": "2022-08-01T14:53:58.956Z"
   },
   {
    "duration": 17,
    "start_time": "2022-08-01T14:54:10.220Z"
   },
   {
    "duration": 12,
    "start_time": "2022-08-01T14:54:23.939Z"
   },
   {
    "duration": 7,
    "start_time": "2022-08-01T14:55:21.819Z"
   },
   {
    "duration": 5,
    "start_time": "2022-08-01T14:58:24.499Z"
   },
   {
    "duration": 212,
    "start_time": "2022-08-01T14:58:53.299Z"
   },
   {
    "duration": 13,
    "start_time": "2022-08-01T14:59:12.541Z"
   },
   {
    "duration": 21,
    "start_time": "2022-08-01T15:00:47.370Z"
   },
   {
    "duration": 8,
    "start_time": "2022-08-01T15:00:52.147Z"
   },
   {
    "duration": 11,
    "start_time": "2022-08-01T15:00:58.578Z"
   },
   {
    "duration": 13,
    "start_time": "2022-08-01T15:01:16.001Z"
   },
   {
    "duration": 4,
    "start_time": "2022-08-01T15:01:37.978Z"
   },
   {
    "duration": 4,
    "start_time": "2022-08-01T15:01:43.345Z"
   },
   {
    "duration": 4,
    "start_time": "2022-08-01T15:02:22.915Z"
   },
   {
    "duration": 7,
    "start_time": "2022-08-01T15:02:33.345Z"
   },
   {
    "duration": 14,
    "start_time": "2022-08-01T15:02:39.642Z"
   },
   {
    "duration": 12,
    "start_time": "2022-08-01T15:02:47.112Z"
   },
   {
    "duration": 11,
    "start_time": "2022-08-01T15:03:12.497Z"
   },
   {
    "duration": 11,
    "start_time": "2022-08-01T15:03:18.161Z"
   },
   {
    "duration": 11,
    "start_time": "2022-08-01T15:03:22.185Z"
   },
   {
    "duration": 8,
    "start_time": "2022-08-01T15:03:28.242Z"
   },
   {
    "duration": 10,
    "start_time": "2022-08-01T15:03:35.057Z"
   },
   {
    "duration": 85,
    "start_time": "2022-08-01T15:05:16.616Z"
   },
   {
    "duration": 1042,
    "start_time": "2022-08-01T15:06:07.290Z"
   },
   {
    "duration": 805,
    "start_time": "2022-08-01T15:06:17.256Z"
   },
   {
    "duration": 1003,
    "start_time": "2022-08-01T15:06:22.849Z"
   },
   {
    "duration": 13,
    "start_time": "2022-08-01T15:06:29.017Z"
   },
   {
    "duration": 12,
    "start_time": "2022-08-01T15:08:12.103Z"
   },
   {
    "duration": 13,
    "start_time": "2022-08-01T15:08:22.160Z"
   },
   {
    "duration": 9,
    "start_time": "2022-08-01T15:08:25.672Z"
   },
   {
    "duration": 11,
    "start_time": "2022-08-01T15:10:33.454Z"
   },
   {
    "duration": 11,
    "start_time": "2022-08-01T15:10:51.663Z"
   },
   {
    "duration": 14,
    "start_time": "2022-08-01T15:12:21.190Z"
   },
   {
    "duration": 12,
    "start_time": "2022-08-01T15:14:08.446Z"
   },
   {
    "duration": 17,
    "start_time": "2022-08-01T15:14:30.637Z"
   },
   {
    "duration": 16,
    "start_time": "2022-08-01T15:14:40.860Z"
   },
   {
    "duration": 13,
    "start_time": "2022-08-01T15:14:51.134Z"
   },
   {
    "duration": 9,
    "start_time": "2022-08-01T15:15:29.622Z"
   },
   {
    "duration": 11,
    "start_time": "2022-08-01T15:17:31.836Z"
   },
   {
    "duration": 10,
    "start_time": "2022-08-01T15:17:44.236Z"
   },
   {
    "duration": 14,
    "start_time": "2022-08-01T15:17:52.196Z"
   },
   {
    "duration": 9,
    "start_time": "2022-08-01T15:18:07.772Z"
   },
   {
    "duration": 9,
    "start_time": "2022-08-01T15:18:10.709Z"
   },
   {
    "duration": 12,
    "start_time": "2022-08-01T15:18:59.866Z"
   },
   {
    "duration": 12,
    "start_time": "2022-08-01T15:19:47.066Z"
   },
   {
    "duration": 68,
    "start_time": "2022-08-01T15:20:12.090Z"
   },
   {
    "duration": 13,
    "start_time": "2022-08-01T15:20:32.859Z"
   },
   {
    "duration": 109,
    "start_time": "2022-08-01T15:20:46.722Z"
   },
   {
    "duration": 11,
    "start_time": "2022-08-01T15:20:51.313Z"
   },
   {
    "duration": 13,
    "start_time": "2022-08-01T15:21:01.272Z"
   },
   {
    "duration": 12,
    "start_time": "2022-08-01T15:21:27.824Z"
   },
   {
    "duration": 15,
    "start_time": "2022-08-01T15:22:10.263Z"
   },
   {
    "duration": 15,
    "start_time": "2022-08-01T15:22:52.137Z"
   },
   {
    "duration": 15,
    "start_time": "2022-08-01T15:22:56.294Z"
   },
   {
    "duration": 12,
    "start_time": "2022-08-01T15:23:05.534Z"
   },
   {
    "duration": 14,
    "start_time": "2022-08-01T15:23:15.816Z"
   },
   {
    "duration": 10,
    "start_time": "2022-08-01T15:23:29.878Z"
   },
   {
    "duration": 16,
    "start_time": "2022-08-01T15:24:21.390Z"
   },
   {
    "duration": 19,
    "start_time": "2022-08-01T15:24:33.418Z"
   },
   {
    "duration": 12,
    "start_time": "2022-08-01T15:25:07.261Z"
   },
   {
    "duration": 9,
    "start_time": "2022-08-01T15:25:13.512Z"
   },
   {
    "duration": 8,
    "start_time": "2022-08-01T15:26:02.974Z"
   },
   {
    "duration": 1095,
    "start_time": "2022-08-01T15:26:27.634Z"
   },
   {
    "duration": 2188,
    "start_time": "2022-08-01T15:26:28.731Z"
   },
   {
    "duration": 80,
    "start_time": "2022-08-01T15:26:30.924Z"
   },
   {
    "duration": 26,
    "start_time": "2022-08-01T15:26:31.007Z"
   },
   {
    "duration": 5,
    "start_time": "2022-08-01T15:26:31.036Z"
   },
   {
    "duration": 90,
    "start_time": "2022-08-01T15:26:31.043Z"
   },
   {
    "duration": 18,
    "start_time": "2022-08-01T15:26:31.134Z"
   },
   {
    "duration": 22,
    "start_time": "2022-08-01T15:26:31.154Z"
   },
   {
    "duration": 233,
    "start_time": "2022-08-01T15:26:31.178Z"
   },
   {
    "duration": 26,
    "start_time": "2022-08-01T15:26:31.413Z"
   },
   {
    "duration": 10,
    "start_time": "2022-08-01T15:26:31.441Z"
   },
   {
    "duration": 17,
    "start_time": "2022-08-01T15:26:31.453Z"
   },
   {
    "duration": 11,
    "start_time": "2022-08-01T15:26:31.474Z"
   },
   {
    "duration": 44,
    "start_time": "2022-08-01T15:26:31.487Z"
   },
   {
    "duration": 7,
    "start_time": "2022-08-01T15:26:31.533Z"
   },
   {
    "duration": 14,
    "start_time": "2022-08-01T15:26:31.542Z"
   },
   {
    "duration": 16,
    "start_time": "2022-08-01T15:26:31.557Z"
   },
   {
    "duration": 391,
    "start_time": "2022-08-01T15:26:31.575Z"
   },
   {
    "duration": 6,
    "start_time": "2022-08-01T15:26:31.967Z"
   },
   {
    "duration": 11,
    "start_time": "2022-08-01T15:26:31.975Z"
   },
   {
    "duration": 200,
    "start_time": "2022-08-01T15:26:31.987Z"
   },
   {
    "duration": 180,
    "start_time": "2022-08-01T15:26:32.189Z"
   },
   {
    "duration": 368,
    "start_time": "2022-08-01T15:26:32.370Z"
   },
   {
    "duration": 306,
    "start_time": "2022-08-01T15:26:32.740Z"
   },
   {
    "duration": 184,
    "start_time": "2022-08-01T15:26:33.047Z"
   },
   {
    "duration": 162,
    "start_time": "2022-08-01T15:26:33.233Z"
   },
   {
    "duration": 177,
    "start_time": "2022-08-01T15:26:33.397Z"
   },
   {
    "duration": 129,
    "start_time": "2022-08-01T15:26:33.576Z"
   },
   {
    "duration": 211,
    "start_time": "2022-08-01T15:26:33.707Z"
   },
   {
    "duration": 296,
    "start_time": "2022-08-01T15:26:33.919Z"
   },
   {
    "duration": 582,
    "start_time": "2022-08-01T15:26:34.223Z"
   },
   {
    "duration": 317,
    "start_time": "2022-08-01T15:26:34.807Z"
   },
   {
    "duration": 5,
    "start_time": "2022-08-01T15:26:35.125Z"
   },
   {
    "duration": 202,
    "start_time": "2022-08-01T15:26:35.132Z"
   },
   {
    "duration": 186,
    "start_time": "2022-08-01T15:26:35.335Z"
   },
   {
    "duration": 13,
    "start_time": "2022-08-01T15:26:35.525Z"
   },
   {
    "duration": 332,
    "start_time": "2022-08-01T15:26:35.540Z"
   },
   {
    "duration": 2705,
    "start_time": "2022-08-01T15:26:35.874Z"
   },
   {
    "duration": 10,
    "start_time": "2022-08-01T15:26:38.580Z"
   },
   {
    "duration": 32,
    "start_time": "2022-08-01T15:26:38.594Z"
   },
   {
    "duration": 14,
    "start_time": "2022-08-01T15:26:38.627Z"
   },
   {
    "duration": 109,
    "start_time": "2022-08-01T15:26:38.642Z"
   },
   {
    "duration": 25,
    "start_time": "2022-08-01T15:26:38.752Z"
   },
   {
    "duration": 99,
    "start_time": "2022-08-01T15:30:03.026Z"
   },
   {
    "duration": 38,
    "start_time": "2022-08-01T15:30:16.348Z"
   },
   {
    "duration": 22,
    "start_time": "2022-08-01T15:30:32.566Z"
   },
   {
    "duration": 23,
    "start_time": "2022-08-01T15:30:41.435Z"
   },
   {
    "duration": 23,
    "start_time": "2022-08-01T15:30:55.947Z"
   },
   {
    "duration": 22,
    "start_time": "2022-08-01T15:31:05.251Z"
   },
   {
    "duration": 24,
    "start_time": "2022-08-01T15:31:07.899Z"
   },
   {
    "duration": 27,
    "start_time": "2022-08-01T15:32:06.441Z"
   },
   {
    "duration": 24,
    "start_time": "2022-08-01T15:32:12.611Z"
   },
   {
    "duration": 27,
    "start_time": "2022-08-01T15:37:44.513Z"
   },
   {
    "duration": 22,
    "start_time": "2022-08-01T15:37:58.438Z"
   },
   {
    "duration": 23,
    "start_time": "2022-08-01T15:38:13.414Z"
   },
   {
    "duration": 22,
    "start_time": "2022-08-01T15:38:19.703Z"
   },
   {
    "duration": 22,
    "start_time": "2022-08-01T15:38:30.441Z"
   },
   {
    "duration": 23,
    "start_time": "2022-08-01T15:39:10.958Z"
   },
   {
    "duration": 24,
    "start_time": "2022-08-01T15:39:27.646Z"
   },
   {
    "duration": 24,
    "start_time": "2022-08-01T15:41:10.877Z"
   },
   {
    "duration": 416,
    "start_time": "2022-08-01T15:41:36.877Z"
   },
   {
    "duration": 412,
    "start_time": "2022-08-01T15:41:52.468Z"
   },
   {
    "duration": 389,
    "start_time": "2022-08-01T15:46:51.765Z"
   },
   {
    "duration": 414,
    "start_time": "2022-08-01T15:46:56.459Z"
   },
   {
    "duration": 428,
    "start_time": "2022-08-01T15:48:38.702Z"
   },
   {
    "duration": 429,
    "start_time": "2022-08-01T15:48:59.782Z"
   },
   {
    "duration": 388,
    "start_time": "2022-08-01T15:49:42.627Z"
   },
   {
    "duration": 409,
    "start_time": "2022-08-01T15:50:22.008Z"
   },
   {
    "duration": 386,
    "start_time": "2022-08-01T15:50:30.178Z"
   },
   {
    "duration": 384,
    "start_time": "2022-08-01T15:50:47.393Z"
   },
   {
    "duration": 466,
    "start_time": "2022-08-01T15:51:07.113Z"
   },
   {
    "duration": 386,
    "start_time": "2022-08-01T15:51:15.304Z"
   },
   {
    "duration": 398,
    "start_time": "2022-08-01T15:51:47.489Z"
   },
   {
    "duration": 400,
    "start_time": "2022-08-01T15:51:56.312Z"
   },
   {
    "duration": 394,
    "start_time": "2022-08-01T15:52:10.130Z"
   },
   {
    "duration": 390,
    "start_time": "2022-08-01T15:52:19.482Z"
   },
   {
    "duration": 82,
    "start_time": "2022-08-01T15:56:48.777Z"
   },
   {
    "duration": 7620,
    "start_time": "2022-08-01T16:04:43.561Z"
   },
   {
    "duration": 9,
    "start_time": "2022-08-01T16:05:49.821Z"
   },
   {
    "duration": 10,
    "start_time": "2022-08-01T16:05:53.016Z"
   },
   {
    "duration": 976,
    "start_time": "2022-08-01T16:06:02.677Z"
   },
   {
    "duration": 2242,
    "start_time": "2022-08-01T16:06:03.655Z"
   },
   {
    "duration": 71,
    "start_time": "2022-08-01T16:06:05.899Z"
   },
   {
    "duration": 8,
    "start_time": "2022-08-01T16:06:05.973Z"
   },
   {
    "duration": 23,
    "start_time": "2022-08-01T16:06:05.983Z"
   },
   {
    "duration": 82,
    "start_time": "2022-08-01T16:06:06.008Z"
   },
   {
    "duration": 17,
    "start_time": "2022-08-01T16:06:06.092Z"
   },
   {
    "duration": 23,
    "start_time": "2022-08-01T16:06:06.110Z"
   },
   {
    "duration": 203,
    "start_time": "2022-08-01T16:06:06.135Z"
   },
   {
    "duration": 20,
    "start_time": "2022-08-01T16:06:06.340Z"
   },
   {
    "duration": 28,
    "start_time": "2022-08-01T16:06:06.362Z"
   },
   {
    "duration": 44,
    "start_time": "2022-08-01T16:06:06.392Z"
   },
   {
    "duration": 23,
    "start_time": "2022-08-01T16:06:06.437Z"
   },
   {
    "duration": 39,
    "start_time": "2022-08-01T16:06:06.462Z"
   },
   {
    "duration": 26,
    "start_time": "2022-08-01T16:06:06.503Z"
   },
   {
    "duration": 50,
    "start_time": "2022-08-01T16:06:06.531Z"
   },
   {
    "duration": 15,
    "start_time": "2022-08-01T16:06:06.583Z"
   },
   {
    "duration": 406,
    "start_time": "2022-08-01T16:06:06.599Z"
   },
   {
    "duration": 4,
    "start_time": "2022-08-01T16:06:07.006Z"
   },
   {
    "duration": 21,
    "start_time": "2022-08-01T16:06:07.012Z"
   },
   {
    "duration": 231,
    "start_time": "2022-08-01T16:06:07.035Z"
   },
   {
    "duration": 236,
    "start_time": "2022-08-01T16:06:07.268Z"
   },
   {
    "duration": 444,
    "start_time": "2022-08-01T16:06:07.505Z"
   },
   {
    "duration": 376,
    "start_time": "2022-08-01T16:06:07.951Z"
   },
   {
    "duration": 187,
    "start_time": "2022-08-01T16:06:08.330Z"
   },
   {
    "duration": 158,
    "start_time": "2022-08-01T16:06:08.519Z"
   },
   {
    "duration": 183,
    "start_time": "2022-08-01T16:06:08.678Z"
   },
   {
    "duration": 148,
    "start_time": "2022-08-01T16:06:08.865Z"
   },
   {
    "duration": 245,
    "start_time": "2022-08-01T16:06:09.016Z"
   },
   {
    "duration": 302,
    "start_time": "2022-08-01T16:06:09.263Z"
   },
   {
    "duration": 613,
    "start_time": "2022-08-01T16:06:09.567Z"
   },
   {
    "duration": 344,
    "start_time": "2022-08-01T16:06:10.182Z"
   },
   {
    "duration": 5,
    "start_time": "2022-08-01T16:06:10.528Z"
   },
   {
    "duration": 202,
    "start_time": "2022-08-01T16:06:10.535Z"
   },
   {
    "duration": 195,
    "start_time": "2022-08-01T16:06:10.739Z"
   },
   {
    "duration": 12,
    "start_time": "2022-08-01T16:06:10.936Z"
   },
   {
    "duration": 325,
    "start_time": "2022-08-01T16:06:10.950Z"
   },
   {
    "duration": 2610,
    "start_time": "2022-08-01T16:06:11.277Z"
   },
   {
    "duration": 418,
    "start_time": "2022-08-01T16:06:13.888Z"
   },
   {
    "duration": 19,
    "start_time": "2022-08-01T16:06:14.308Z"
   },
   {
    "duration": 99,
    "start_time": "2022-08-01T16:06:14.329Z"
   },
   {
    "duration": 14,
    "start_time": "2022-08-01T16:38:29.906Z"
   },
   {
    "duration": 9,
    "start_time": "2022-08-01T16:43:15.077Z"
   },
   {
    "duration": 79,
    "start_time": "2022-08-01T16:56:15.872Z"
   },
   {
    "duration": 20,
    "start_time": "2022-08-01T16:56:36.562Z"
   },
   {
    "duration": 19,
    "start_time": "2022-08-01T16:57:09.672Z"
   },
   {
    "duration": 21,
    "start_time": "2022-08-01T16:57:17.567Z"
   },
   {
    "duration": 186,
    "start_time": "2022-08-01T17:03:45.667Z"
   },
   {
    "duration": 14,
    "start_time": "2022-08-01T17:10:58.833Z"
   },
   {
    "duration": 15,
    "start_time": "2022-08-01T17:11:18.567Z"
   },
   {
    "duration": 2,
    "start_time": "2022-08-01T17:12:50.535Z"
   },
   {
    "duration": 23,
    "start_time": "2022-08-01T17:12:58.574Z"
   },
   {
    "duration": 5,
    "start_time": "2022-08-01T17:13:04.341Z"
   },
   {
    "duration": 23,
    "start_time": "2022-08-01T17:13:05.926Z"
   },
   {
    "duration": 5,
    "start_time": "2022-08-01T17:13:11.237Z"
   },
   {
    "duration": 23,
    "start_time": "2022-08-01T17:13:12.448Z"
   },
   {
    "duration": 14,
    "start_time": "2022-08-01T17:13:19.981Z"
   },
   {
    "duration": 3,
    "start_time": "2022-08-01T17:13:27.934Z"
   },
   {
    "duration": 8,
    "start_time": "2022-08-01T17:13:50.117Z"
   },
   {
    "duration": 15,
    "start_time": "2022-08-01T17:13:52.526Z"
   },
   {
    "duration": 1547,
    "start_time": "2022-08-01T17:17:06.278Z"
   },
   {
    "duration": 1368,
    "start_time": "2022-08-01T17:17:09.541Z"
   },
   {
    "duration": 17,
    "start_time": "2022-08-01T17:17:21.837Z"
   },
   {
    "duration": 820,
    "start_time": "2022-08-01T17:20:07.081Z"
   },
   {
    "duration": 2123,
    "start_time": "2022-08-01T17:20:07.902Z"
   },
   {
    "duration": 74,
    "start_time": "2022-08-01T17:20:10.027Z"
   },
   {
    "duration": 25,
    "start_time": "2022-08-01T17:20:10.103Z"
   },
   {
    "duration": 4,
    "start_time": "2022-08-01T17:20:10.130Z"
   },
   {
    "duration": 60,
    "start_time": "2022-08-01T17:20:10.136Z"
   },
   {
    "duration": 42,
    "start_time": "2022-08-01T17:20:10.198Z"
   },
   {
    "duration": 9,
    "start_time": "2022-08-01T17:20:10.241Z"
   },
   {
    "duration": 208,
    "start_time": "2022-08-01T17:20:10.252Z"
   },
   {
    "duration": 20,
    "start_time": "2022-08-01T17:20:10.463Z"
   },
   {
    "duration": 8,
    "start_time": "2022-08-01T17:20:10.485Z"
   },
   {
    "duration": 31,
    "start_time": "2022-08-01T17:20:10.495Z"
   },
   {
    "duration": 4,
    "start_time": "2022-08-01T17:20:10.528Z"
   },
   {
    "duration": 34,
    "start_time": "2022-08-01T17:20:10.533Z"
   },
   {
    "duration": 6,
    "start_time": "2022-08-01T17:20:10.569Z"
   },
   {
    "duration": 7,
    "start_time": "2022-08-01T17:20:10.577Z"
   },
   {
    "duration": 7,
    "start_time": "2022-08-01T17:20:10.586Z"
   },
   {
    "duration": 396,
    "start_time": "2022-08-01T17:20:10.595Z"
   },
   {
    "duration": 4,
    "start_time": "2022-08-01T17:20:10.993Z"
   },
   {
    "duration": 7,
    "start_time": "2022-08-01T17:20:10.999Z"
   },
   {
    "duration": 5,
    "start_time": "2022-08-01T17:20:12.762Z"
   },
   {
    "duration": 24,
    "start_time": "2022-08-01T17:20:15.876Z"
   },
   {
    "duration": 5,
    "start_time": "2022-08-01T17:20:33.373Z"
   },
   {
    "duration": 34,
    "start_time": "2022-08-01T17:20:36.413Z"
   },
   {
    "duration": 447,
    "start_time": "2022-08-01T17:20:49.113Z"
   },
   {
    "duration": 1924,
    "start_time": "2022-08-01T17:20:49.562Z"
   },
   {
    "duration": 86,
    "start_time": "2022-08-01T17:20:51.488Z"
   },
   {
    "duration": 9,
    "start_time": "2022-08-01T17:20:51.576Z"
   },
   {
    "duration": 5,
    "start_time": "2022-08-01T17:20:51.587Z"
   },
   {
    "duration": 81,
    "start_time": "2022-08-01T17:20:51.593Z"
   },
   {
    "duration": 14,
    "start_time": "2022-08-01T17:20:51.676Z"
   },
   {
    "duration": 32,
    "start_time": "2022-08-01T17:20:51.692Z"
   },
   {
    "duration": 198,
    "start_time": "2022-08-01T17:20:51.726Z"
   },
   {
    "duration": 22,
    "start_time": "2022-08-01T17:20:51.926Z"
   },
   {
    "duration": 9,
    "start_time": "2022-08-01T17:20:51.950Z"
   },
   {
    "duration": 10,
    "start_time": "2022-08-01T17:20:51.961Z"
   },
   {
    "duration": 4,
    "start_time": "2022-08-01T17:20:51.973Z"
   },
   {
    "duration": 48,
    "start_time": "2022-08-01T17:20:51.978Z"
   },
   {
    "duration": 8,
    "start_time": "2022-08-01T17:20:52.027Z"
   },
   {
    "duration": 12,
    "start_time": "2022-08-01T17:20:52.037Z"
   },
   {
    "duration": 9,
    "start_time": "2022-08-01T17:20:52.051Z"
   },
   {
    "duration": 399,
    "start_time": "2022-08-01T17:20:52.062Z"
   },
   {
    "duration": 5,
    "start_time": "2022-08-01T17:20:52.463Z"
   },
   {
    "duration": 8,
    "start_time": "2022-08-01T17:20:52.470Z"
   },
   {
    "duration": 47,
    "start_time": "2022-08-01T17:20:52.480Z"
   },
   {
    "duration": 0,
    "start_time": "2022-08-01T17:20:52.530Z"
   },
   {
    "duration": 0,
    "start_time": "2022-08-01T17:20:52.532Z"
   },
   {
    "duration": 0,
    "start_time": "2022-08-01T17:20:52.533Z"
   },
   {
    "duration": 0,
    "start_time": "2022-08-01T17:20:52.535Z"
   },
   {
    "duration": 0,
    "start_time": "2022-08-01T17:20:52.536Z"
   },
   {
    "duration": 0,
    "start_time": "2022-08-01T17:20:52.538Z"
   },
   {
    "duration": 0,
    "start_time": "2022-08-01T17:20:52.539Z"
   },
   {
    "duration": 0,
    "start_time": "2022-08-01T17:20:52.541Z"
   },
   {
    "duration": 0,
    "start_time": "2022-08-01T17:20:52.542Z"
   },
   {
    "duration": 0,
    "start_time": "2022-08-01T17:20:52.544Z"
   },
   {
    "duration": 0,
    "start_time": "2022-08-01T17:20:52.545Z"
   },
   {
    "duration": 0,
    "start_time": "2022-08-01T17:20:52.546Z"
   },
   {
    "duration": 0,
    "start_time": "2022-08-01T17:20:52.548Z"
   },
   {
    "duration": 0,
    "start_time": "2022-08-01T17:20:52.549Z"
   },
   {
    "duration": 0,
    "start_time": "2022-08-01T17:20:52.551Z"
   },
   {
    "duration": 0,
    "start_time": "2022-08-01T17:20:52.552Z"
   },
   {
    "duration": 0,
    "start_time": "2022-08-01T17:20:52.553Z"
   },
   {
    "duration": 0,
    "start_time": "2022-08-01T17:20:52.555Z"
   },
   {
    "duration": 0,
    "start_time": "2022-08-01T17:20:52.556Z"
   },
   {
    "duration": 0,
    "start_time": "2022-08-01T17:20:52.558Z"
   },
   {
    "duration": 0,
    "start_time": "2022-08-01T17:20:52.559Z"
   },
   {
    "duration": 0,
    "start_time": "2022-08-01T17:20:52.561Z"
   },
   {
    "duration": 0,
    "start_time": "2022-08-01T17:20:52.562Z"
   },
   {
    "duration": 0,
    "start_time": "2022-08-01T17:20:52.564Z"
   },
   {
    "duration": 0,
    "start_time": "2022-08-01T17:20:52.565Z"
   },
   {
    "duration": 0,
    "start_time": "2022-08-01T17:20:52.567Z"
   },
   {
    "duration": 27,
    "start_time": "2022-08-01T17:23:07.991Z"
   },
   {
    "duration": 308,
    "start_time": "2022-08-01T17:24:06.362Z"
   },
   {
    "duration": 48,
    "start_time": "2022-08-01T17:28:30.577Z"
   },
   {
    "duration": 729,
    "start_time": "2022-08-01T17:28:33.045Z"
   },
   {
    "duration": 2182,
    "start_time": "2022-08-01T17:28:33.775Z"
   },
   {
    "duration": 73,
    "start_time": "2022-08-01T17:28:35.959Z"
   },
   {
    "duration": 8,
    "start_time": "2022-08-01T17:28:36.034Z"
   },
   {
    "duration": 9,
    "start_time": "2022-08-01T17:28:36.044Z"
   },
   {
    "duration": 80,
    "start_time": "2022-08-01T17:28:36.054Z"
   },
   {
    "duration": 19,
    "start_time": "2022-08-01T17:28:36.136Z"
   },
   {
    "duration": 9,
    "start_time": "2022-08-01T17:28:36.157Z"
   },
   {
    "duration": 211,
    "start_time": "2022-08-01T17:28:36.168Z"
   },
   {
    "duration": 22,
    "start_time": "2022-08-01T17:28:36.381Z"
   },
   {
    "duration": 25,
    "start_time": "2022-08-01T17:28:36.404Z"
   },
   {
    "duration": 8,
    "start_time": "2022-08-01T17:28:36.431Z"
   },
   {
    "duration": 4,
    "start_time": "2022-08-01T17:28:36.440Z"
   },
   {
    "duration": 16,
    "start_time": "2022-08-01T17:28:36.446Z"
   },
   {
    "duration": 6,
    "start_time": "2022-08-01T17:28:36.464Z"
   },
   {
    "duration": 6,
    "start_time": "2022-08-01T17:28:36.472Z"
   },
   {
    "duration": 45,
    "start_time": "2022-08-01T17:28:36.480Z"
   },
   {
    "duration": 384,
    "start_time": "2022-08-01T17:28:36.527Z"
   },
   {
    "duration": 11,
    "start_time": "2022-08-01T17:28:36.913Z"
   },
   {
    "duration": 5,
    "start_time": "2022-08-01T17:28:36.926Z"
   },
   {
    "duration": 736,
    "start_time": "2022-08-01T17:28:51.341Z"
   },
   {
    "duration": 2102,
    "start_time": "2022-08-01T17:28:52.079Z"
   },
   {
    "duration": 75,
    "start_time": "2022-08-01T17:28:54.183Z"
   },
   {
    "duration": 11,
    "start_time": "2022-08-01T17:28:54.261Z"
   },
   {
    "duration": 4,
    "start_time": "2022-08-01T17:28:54.274Z"
   },
   {
    "duration": 97,
    "start_time": "2022-08-01T17:28:54.280Z"
   },
   {
    "duration": 16,
    "start_time": "2022-08-01T17:28:54.379Z"
   },
   {
    "duration": 8,
    "start_time": "2022-08-01T17:28:54.397Z"
   },
   {
    "duration": 241,
    "start_time": "2022-08-01T17:28:54.407Z"
   },
   {
    "duration": 22,
    "start_time": "2022-08-01T17:28:54.651Z"
   },
   {
    "duration": 8,
    "start_time": "2022-08-01T17:28:54.675Z"
   },
   {
    "duration": 9,
    "start_time": "2022-08-01T17:28:54.685Z"
   },
   {
    "duration": 29,
    "start_time": "2022-08-01T17:28:54.695Z"
   },
   {
    "duration": 20,
    "start_time": "2022-08-01T17:28:54.726Z"
   },
   {
    "duration": 5,
    "start_time": "2022-08-01T17:28:54.748Z"
   },
   {
    "duration": 6,
    "start_time": "2022-08-01T17:28:54.754Z"
   },
   {
    "duration": 6,
    "start_time": "2022-08-01T17:28:54.761Z"
   },
   {
    "duration": 399,
    "start_time": "2022-08-01T17:28:54.768Z"
   },
   {
    "duration": 5,
    "start_time": "2022-08-01T17:28:55.169Z"
   },
   {
    "duration": 23,
    "start_time": "2022-08-01T17:28:57.978Z"
   },
   {
    "duration": 357,
    "start_time": "2022-08-01T17:34:43.968Z"
   },
   {
    "duration": 2046,
    "start_time": "2022-08-01T17:34:44.328Z"
   },
   {
    "duration": 91,
    "start_time": "2022-08-01T17:34:46.376Z"
   },
   {
    "duration": 9,
    "start_time": "2022-08-01T17:34:46.470Z"
   },
   {
    "duration": 7,
    "start_time": "2022-08-01T17:34:46.480Z"
   },
   {
    "duration": 102,
    "start_time": "2022-08-01T17:34:46.488Z"
   },
   {
    "duration": 19,
    "start_time": "2022-08-01T17:34:46.592Z"
   },
   {
    "duration": 10,
    "start_time": "2022-08-01T17:34:46.625Z"
   },
   {
    "duration": 225,
    "start_time": "2022-08-01T17:34:46.637Z"
   },
   {
    "duration": 21,
    "start_time": "2022-08-01T17:34:46.865Z"
   },
   {
    "duration": 11,
    "start_time": "2022-08-01T17:34:46.887Z"
   },
   {
    "duration": 29,
    "start_time": "2022-08-01T17:34:46.900Z"
   },
   {
    "duration": 4,
    "start_time": "2022-08-01T17:34:46.930Z"
   },
   {
    "duration": 24,
    "start_time": "2022-08-01T17:34:46.936Z"
   },
   {
    "duration": 5,
    "start_time": "2022-08-01T17:34:46.962Z"
   },
   {
    "duration": 15,
    "start_time": "2022-08-01T17:34:46.969Z"
   },
   {
    "duration": 42,
    "start_time": "2022-08-01T17:34:46.986Z"
   },
   {
    "duration": 499,
    "start_time": "2022-08-01T17:34:47.031Z"
   },
   {
    "duration": 5,
    "start_time": "2022-08-01T17:34:47.532Z"
   },
   {
    "duration": 13,
    "start_time": "2022-08-01T17:34:47.539Z"
   },
   {
    "duration": 41,
    "start_time": "2022-08-01T17:34:47.554Z"
   },
   {
    "duration": 226,
    "start_time": "2022-08-01T17:34:47.598Z"
   },
   {
    "duration": 182,
    "start_time": "2022-08-01T17:34:47.825Z"
   },
   {
    "duration": 464,
    "start_time": "2022-08-01T17:34:48.009Z"
   },
   {
    "duration": 361,
    "start_time": "2022-08-01T17:34:48.475Z"
   },
   {
    "duration": 179,
    "start_time": "2022-08-01T17:34:48.838Z"
   },
   {
    "duration": 161,
    "start_time": "2022-08-01T17:34:49.023Z"
   },
   {
    "duration": 168,
    "start_time": "2022-08-01T17:34:49.187Z"
   },
   {
    "duration": 159,
    "start_time": "2022-08-01T17:34:49.357Z"
   },
   {
    "duration": 219,
    "start_time": "2022-08-01T17:34:49.518Z"
   },
   {
    "duration": 319,
    "start_time": "2022-08-01T17:34:49.739Z"
   },
   {
    "duration": 576,
    "start_time": "2022-08-01T17:34:50.060Z"
   },
   {
    "duration": 325,
    "start_time": "2022-08-01T17:34:50.638Z"
   },
   {
    "duration": 5,
    "start_time": "2022-08-01T17:34:50.965Z"
   },
   {
    "duration": 225,
    "start_time": "2022-08-01T17:34:50.972Z"
   },
   {
    "duration": 194,
    "start_time": "2022-08-01T17:34:51.199Z"
   },
   {
    "duration": 14,
    "start_time": "2022-08-01T17:34:51.395Z"
   },
   {
    "duration": 337,
    "start_time": "2022-08-01T17:34:51.424Z"
   },
   {
    "duration": 2787,
    "start_time": "2022-08-01T17:34:51.763Z"
   },
   {
    "duration": 483,
    "start_time": "2022-08-01T17:34:54.552Z"
   },
   {
    "duration": 10,
    "start_time": "2022-08-01T17:34:55.037Z"
   },
   {
    "duration": 35,
    "start_time": "2022-08-01T17:34:55.049Z"
   },
   {
    "duration": 114,
    "start_time": "2022-08-01T17:34:55.085Z"
   },
   {
    "duration": 0,
    "start_time": "2022-08-01T17:34:55.200Z"
   },
   {
    "duration": 25,
    "start_time": "2022-08-01T17:35:12.439Z"
   },
   {
    "duration": 819,
    "start_time": "2022-08-01T17:35:21.560Z"
   },
   {
    "duration": 2258,
    "start_time": "2022-08-01T17:35:22.382Z"
   },
   {
    "duration": 100,
    "start_time": "2022-08-01T17:35:24.642Z"
   },
   {
    "duration": 12,
    "start_time": "2022-08-01T17:35:24.744Z"
   },
   {
    "duration": 5,
    "start_time": "2022-08-01T17:35:24.758Z"
   },
   {
    "duration": 94,
    "start_time": "2022-08-01T17:35:24.765Z"
   },
   {
    "duration": 18,
    "start_time": "2022-08-01T17:35:24.861Z"
   },
   {
    "duration": 9,
    "start_time": "2022-08-01T17:35:24.881Z"
   },
   {
    "duration": 225,
    "start_time": "2022-08-01T17:35:24.892Z"
   },
   {
    "duration": 33,
    "start_time": "2022-08-01T17:35:25.123Z"
   },
   {
    "duration": 9,
    "start_time": "2022-08-01T17:35:25.158Z"
   },
   {
    "duration": 9,
    "start_time": "2022-08-01T17:35:25.168Z"
   },
   {
    "duration": 4,
    "start_time": "2022-08-01T17:35:25.178Z"
   },
   {
    "duration": 46,
    "start_time": "2022-08-01T17:35:25.184Z"
   },
   {
    "duration": 5,
    "start_time": "2022-08-01T17:35:25.232Z"
   },
   {
    "duration": 6,
    "start_time": "2022-08-01T17:35:25.239Z"
   },
   {
    "duration": 7,
    "start_time": "2022-08-01T17:35:25.246Z"
   },
   {
    "duration": 419,
    "start_time": "2022-08-01T17:35:25.254Z"
   },
   {
    "duration": 4,
    "start_time": "2022-08-01T17:35:25.675Z"
   },
   {
    "duration": 6,
    "start_time": "2022-08-01T17:35:28.050Z"
   },
   {
    "duration": 29,
    "start_time": "2022-08-01T17:35:29.284Z"
   },
   {
    "duration": 909,
    "start_time": "2022-08-01T17:35:42.027Z"
   },
   {
    "duration": 2504,
    "start_time": "2022-08-01T17:35:42.940Z"
   },
   {
    "duration": 97,
    "start_time": "2022-08-01T17:35:45.445Z"
   },
   {
    "duration": 13,
    "start_time": "2022-08-01T17:35:45.545Z"
   },
   {
    "duration": 5,
    "start_time": "2022-08-01T17:35:45.561Z"
   },
   {
    "duration": 110,
    "start_time": "2022-08-01T17:35:45.567Z"
   },
   {
    "duration": 24,
    "start_time": "2022-08-01T17:35:45.679Z"
   },
   {
    "duration": 26,
    "start_time": "2022-08-01T17:35:45.705Z"
   },
   {
    "duration": 239,
    "start_time": "2022-08-01T17:35:45.733Z"
   },
   {
    "duration": 20,
    "start_time": "2022-08-01T17:35:45.975Z"
   },
   {
    "duration": 8,
    "start_time": "2022-08-01T17:35:45.997Z"
   },
   {
    "duration": 27,
    "start_time": "2022-08-01T17:35:46.007Z"
   },
   {
    "duration": 4,
    "start_time": "2022-08-01T17:35:46.036Z"
   },
   {
    "duration": 22,
    "start_time": "2022-08-01T17:35:46.042Z"
   },
   {
    "duration": 6,
    "start_time": "2022-08-01T17:35:46.066Z"
   },
   {
    "duration": 21,
    "start_time": "2022-08-01T17:35:46.074Z"
   },
   {
    "duration": 6,
    "start_time": "2022-08-01T17:35:46.098Z"
   },
   {
    "duration": 408,
    "start_time": "2022-08-01T17:35:46.125Z"
   },
   {
    "duration": 3,
    "start_time": "2022-08-01T17:35:46.535Z"
   },
   {
    "duration": 32,
    "start_time": "2022-08-01T17:35:46.540Z"
   },
   {
    "duration": 52,
    "start_time": "2022-08-01T17:35:46.574Z"
   },
   {
    "duration": 198,
    "start_time": "2022-08-01T17:35:46.628Z"
   },
   {
    "duration": 197,
    "start_time": "2022-08-01T17:35:46.827Z"
   },
   {
    "duration": 499,
    "start_time": "2022-08-01T17:35:47.025Z"
   },
   {
    "duration": 306,
    "start_time": "2022-08-01T17:35:47.526Z"
   },
   {
    "duration": 199,
    "start_time": "2022-08-01T17:35:47.834Z"
   },
   {
    "duration": 167,
    "start_time": "2022-08-01T17:35:48.035Z"
   },
   {
    "duration": 174,
    "start_time": "2022-08-01T17:35:48.205Z"
   },
   {
    "duration": 151,
    "start_time": "2022-08-01T17:35:48.381Z"
   },
   {
    "duration": 213,
    "start_time": "2022-08-01T17:35:48.534Z"
   },
   {
    "duration": 320,
    "start_time": "2022-08-01T17:35:48.749Z"
   },
   {
    "duration": 552,
    "start_time": "2022-08-01T17:35:49.070Z"
   },
   {
    "duration": 322,
    "start_time": "2022-08-01T17:35:49.624Z"
   },
   {
    "duration": 5,
    "start_time": "2022-08-01T17:35:49.948Z"
   },
   {
    "duration": 209,
    "start_time": "2022-08-01T17:35:49.954Z"
   },
   {
    "duration": 195,
    "start_time": "2022-08-01T17:35:50.165Z"
   },
   {
    "duration": 12,
    "start_time": "2022-08-01T17:35:50.362Z"
   },
   {
    "duration": 321,
    "start_time": "2022-08-01T17:35:50.376Z"
   },
   {
    "duration": 2669,
    "start_time": "2022-08-01T17:35:50.699Z"
   },
   {
    "duration": 431,
    "start_time": "2022-08-01T17:35:53.370Z"
   },
   {
    "duration": 21,
    "start_time": "2022-08-01T17:35:53.803Z"
   },
   {
    "duration": 31,
    "start_time": "2022-08-01T17:35:53.826Z"
   },
   {
    "duration": 104,
    "start_time": "2022-08-01T17:35:53.859Z"
   },
   {
    "duration": 0,
    "start_time": "2022-08-01T17:35:53.965Z"
   },
   {
    "duration": 34,
    "start_time": "2022-08-01T17:36:56.279Z"
   },
   {
    "duration": 280,
    "start_time": "2022-08-01T17:47:42.438Z"
   },
   {
    "duration": 279,
    "start_time": "2022-08-01T17:48:45.655Z"
   },
   {
    "duration": 312,
    "start_time": "2022-08-01T17:48:51.623Z"
   },
   {
    "duration": 17,
    "start_time": "2022-08-01T17:49:05.639Z"
   },
   {
    "duration": 326,
    "start_time": "2022-08-01T17:49:08.455Z"
   },
   {
    "duration": 17,
    "start_time": "2022-08-01T17:50:15.529Z"
   },
   {
    "duration": 15,
    "start_time": "2022-08-01T17:50:30.118Z"
   },
   {
    "duration": 35,
    "start_time": "2022-08-01T18:00:29.420Z"
   },
   {
    "duration": 13,
    "start_time": "2022-08-01T18:00:38.770Z"
   },
   {
    "duration": 295,
    "start_time": "2022-08-01T18:02:17.891Z"
   },
   {
    "duration": 29,
    "start_time": "2022-08-01T18:02:54.626Z"
   },
   {
    "duration": 164,
    "start_time": "2022-08-01T18:05:38.834Z"
   },
   {
    "duration": 976,
    "start_time": "2022-08-01T18:06:19.814Z"
   },
   {
    "duration": 804,
    "start_time": "2022-08-01T18:07:47.402Z"
   },
   {
    "duration": 157,
    "start_time": "2022-08-01T18:07:52.432Z"
   },
   {
    "duration": 894,
    "start_time": "2022-08-01T18:08:53.742Z"
   },
   {
    "duration": 148,
    "start_time": "2022-08-01T18:08:59.552Z"
   },
   {
    "duration": 787,
    "start_time": "2022-08-01T18:12:35.677Z"
   },
   {
    "duration": 159,
    "start_time": "2022-08-01T18:12:45.016Z"
   },
   {
    "duration": 585,
    "start_time": "2022-08-01T18:15:27.964Z"
   },
   {
    "duration": 25,
    "start_time": "2022-08-01T18:15:34.988Z"
   },
   {
    "duration": 1052,
    "start_time": "2022-08-01T18:17:42.586Z"
   },
   {
    "duration": 158,
    "start_time": "2022-08-01T18:17:46.746Z"
   },
   {
    "duration": 153,
    "start_time": "2022-08-01T18:19:00.835Z"
   },
   {
    "duration": 8,
    "start_time": "2022-08-01T18:46:14.390Z"
   },
   {
    "duration": 981,
    "start_time": "2022-08-01T18:46:19.829Z"
   },
   {
    "duration": 827,
    "start_time": "2022-08-01T18:46:35.836Z"
   },
   {
    "duration": 916,
    "start_time": "2022-08-01T19:31:46.355Z"
   },
   {
    "duration": 2790,
    "start_time": "2022-08-01T19:31:47.273Z"
   },
   {
    "duration": 113,
    "start_time": "2022-08-01T19:31:50.065Z"
   },
   {
    "duration": 24,
    "start_time": "2022-08-01T19:31:50.181Z"
   },
   {
    "duration": 5,
    "start_time": "2022-08-01T19:31:50.207Z"
   },
   {
    "duration": 342,
    "start_time": "2022-08-01T19:31:50.215Z"
   },
   {
    "duration": 4,
    "start_time": "2022-08-01T19:31:50.560Z"
   },
   {
    "duration": 84,
    "start_time": "2022-08-01T19:31:50.566Z"
   },
   {
    "duration": 20,
    "start_time": "2022-08-01T19:31:50.652Z"
   },
   {
    "duration": 10,
    "start_time": "2022-08-01T19:31:50.676Z"
   },
   {
    "duration": 214,
    "start_time": "2022-08-01T19:31:50.704Z"
   },
   {
    "duration": 9,
    "start_time": "2022-08-01T19:31:50.920Z"
   },
   {
    "duration": 26,
    "start_time": "2022-08-01T19:31:50.931Z"
   },
   {
    "duration": 11,
    "start_time": "2022-08-01T19:31:50.959Z"
   },
   {
    "duration": 39,
    "start_time": "2022-08-01T19:31:50.972Z"
   },
   {
    "duration": 56,
    "start_time": "2022-08-01T19:31:51.013Z"
   },
   {
    "duration": 4,
    "start_time": "2022-08-01T19:31:51.071Z"
   },
   {
    "duration": 38,
    "start_time": "2022-08-01T19:31:51.077Z"
   },
   {
    "duration": 10,
    "start_time": "2022-08-01T19:31:51.117Z"
   },
   {
    "duration": 7,
    "start_time": "2022-08-01T19:31:51.129Z"
   },
   {
    "duration": 6,
    "start_time": "2022-08-01T19:31:51.138Z"
   },
   {
    "duration": 443,
    "start_time": "2022-08-01T19:31:51.145Z"
   },
   {
    "duration": 5,
    "start_time": "2022-08-01T19:31:51.589Z"
   },
   {
    "duration": 12,
    "start_time": "2022-08-01T19:31:51.605Z"
   },
   {
    "duration": 34,
    "start_time": "2022-08-01T19:31:51.618Z"
   },
   {
    "duration": 399,
    "start_time": "2022-08-01T19:31:51.654Z"
   },
   {
    "duration": 341,
    "start_time": "2022-08-01T19:31:52.054Z"
   },
   {
    "duration": 453,
    "start_time": "2022-08-01T19:31:52.406Z"
   },
   {
    "duration": 445,
    "start_time": "2022-08-01T19:31:52.861Z"
   },
   {
    "duration": 298,
    "start_time": "2022-08-01T19:31:53.308Z"
   },
   {
    "duration": 297,
    "start_time": "2022-08-01T19:31:53.608Z"
   },
   {
    "duration": 308,
    "start_time": "2022-08-01T19:31:53.907Z"
   },
   {
    "duration": 246,
    "start_time": "2022-08-01T19:31:54.216Z"
   },
   {
    "duration": 365,
    "start_time": "2022-08-01T19:31:54.464Z"
   },
   {
    "duration": 569,
    "start_time": "2022-08-01T19:31:54.831Z"
   },
   {
    "duration": 637,
    "start_time": "2022-08-01T19:31:55.405Z"
   },
   {
    "duration": 484,
    "start_time": "2022-08-01T19:31:56.044Z"
   },
   {
    "duration": 8,
    "start_time": "2022-08-01T19:31:56.531Z"
   },
   {
    "duration": 388,
    "start_time": "2022-08-01T19:31:56.541Z"
   },
   {
    "duration": 311,
    "start_time": "2022-08-01T19:31:56.931Z"
   },
   {
    "duration": 16,
    "start_time": "2022-08-01T19:31:57.245Z"
   },
   {
    "duration": 543,
    "start_time": "2022-08-01T19:31:57.263Z"
   },
   {
    "duration": 3065,
    "start_time": "2022-08-01T19:31:57.807Z"
   },
   {
    "duration": 448,
    "start_time": "2022-08-01T19:32:00.874Z"
   },
   {
    "duration": 29,
    "start_time": "2022-08-01T19:32:01.324Z"
   },
   {
    "duration": 310,
    "start_time": "2022-08-01T19:32:01.355Z"
   },
   {
    "duration": 8,
    "start_time": "2022-08-01T20:26:59.024Z"
   },
   {
    "duration": 456,
    "start_time": "2022-08-01T20:38:57.204Z"
   },
   {
    "duration": 234,
    "start_time": "2022-08-01T20:41:09.733Z"
   },
   {
    "duration": 323,
    "start_time": "2022-08-01T20:42:26.707Z"
   },
   {
    "duration": 993,
    "start_time": "2022-08-01T20:50:06.478Z"
   },
   {
    "duration": 2962,
    "start_time": "2022-08-01T20:50:07.473Z"
   },
   {
    "duration": 102,
    "start_time": "2022-08-01T20:50:10.437Z"
   },
   {
    "duration": 10,
    "start_time": "2022-08-01T20:50:10.541Z"
   },
   {
    "duration": 36,
    "start_time": "2022-08-01T20:50:10.554Z"
   },
   {
    "duration": 375,
    "start_time": "2022-08-01T20:50:10.592Z"
   },
   {
    "duration": 4,
    "start_time": "2022-08-01T20:50:10.969Z"
   },
   {
    "duration": 89,
    "start_time": "2022-08-01T20:50:10.975Z"
   },
   {
    "duration": 19,
    "start_time": "2022-08-01T20:50:11.066Z"
   },
   {
    "duration": 25,
    "start_time": "2022-08-01T20:50:11.087Z"
   },
   {
    "duration": 227,
    "start_time": "2022-08-01T20:50:11.114Z"
   },
   {
    "duration": 11,
    "start_time": "2022-08-01T20:50:11.343Z"
   },
   {
    "duration": 30,
    "start_time": "2022-08-01T20:50:11.356Z"
   },
   {
    "duration": 16,
    "start_time": "2022-08-01T20:50:11.405Z"
   },
   {
    "duration": 42,
    "start_time": "2022-08-01T20:50:11.423Z"
   },
   {
    "duration": 66,
    "start_time": "2022-08-01T20:50:11.467Z"
   },
   {
    "duration": 8,
    "start_time": "2022-08-01T20:50:11.535Z"
   },
   {
    "duration": 14,
    "start_time": "2022-08-01T20:50:11.545Z"
   },
   {
    "duration": 22,
    "start_time": "2022-08-01T20:50:11.561Z"
   },
   {
    "duration": 33,
    "start_time": "2022-08-01T20:50:11.585Z"
   },
   {
    "duration": 10,
    "start_time": "2022-08-01T20:50:11.620Z"
   },
   {
    "duration": 30,
    "start_time": "2022-08-01T20:50:11.632Z"
   },
   {
    "duration": 463,
    "start_time": "2022-08-01T20:50:11.664Z"
   },
   {
    "duration": 5,
    "start_time": "2022-08-01T20:50:12.130Z"
   },
   {
    "duration": 16,
    "start_time": "2022-08-01T20:50:12.137Z"
   },
   {
    "duration": 31,
    "start_time": "2022-08-01T20:50:12.155Z"
   },
   {
    "duration": 422,
    "start_time": "2022-08-01T20:50:12.188Z"
   },
   {
    "duration": 301,
    "start_time": "2022-08-01T20:50:12.611Z"
   },
   {
    "duration": 508,
    "start_time": "2022-08-01T20:50:12.913Z"
   },
   {
    "duration": 490,
    "start_time": "2022-08-01T20:50:13.423Z"
   },
   {
    "duration": 308,
    "start_time": "2022-08-01T20:50:13.917Z"
   },
   {
    "duration": 293,
    "start_time": "2022-08-01T20:50:14.226Z"
   },
   {
    "duration": 303,
    "start_time": "2022-08-01T20:50:14.521Z"
   },
   {
    "duration": 270,
    "start_time": "2022-08-01T20:50:14.826Z"
   },
   {
    "duration": 354,
    "start_time": "2022-08-01T20:50:15.104Z"
   },
   {
    "duration": 576,
    "start_time": "2022-08-01T20:50:15.461Z"
   },
   {
    "duration": 680,
    "start_time": "2022-08-01T20:50:16.039Z"
   },
   {
    "duration": 534,
    "start_time": "2022-08-01T20:50:16.720Z"
   },
   {
    "duration": 6,
    "start_time": "2022-08-01T20:50:17.256Z"
   },
   {
    "duration": 329,
    "start_time": "2022-08-01T20:50:17.263Z"
   },
   {
    "duration": 326,
    "start_time": "2022-08-01T20:50:17.596Z"
   },
   {
    "duration": 13,
    "start_time": "2022-08-01T20:50:17.924Z"
   },
   {
    "duration": 484,
    "start_time": "2022-08-01T20:50:17.939Z"
   },
   {
    "duration": 3219,
    "start_time": "2022-08-01T20:50:18.425Z"
   },
   {
    "duration": 506,
    "start_time": "2022-08-01T20:50:21.646Z"
   },
   {
    "duration": 29,
    "start_time": "2022-08-01T20:50:22.154Z"
   },
   {
    "duration": 279,
    "start_time": "2022-08-01T20:50:22.204Z"
   },
   {
    "duration": 289,
    "start_time": "2022-08-01T20:50:22.485Z"
   },
   {
    "duration": 47,
    "start_time": "2022-08-02T14:41:09.135Z"
   },
   {
    "duration": 185,
    "start_time": "2022-08-02T14:41:16.947Z"
   },
   {
    "duration": 527,
    "start_time": "2022-08-02T14:41:21.595Z"
   },
   {
    "duration": 171,
    "start_time": "2022-08-02T14:41:44.659Z"
   },
   {
    "duration": 51,
    "start_time": "2022-08-04T14:20:07.427Z"
   },
   {
    "duration": 761,
    "start_time": "2022-08-04T14:20:11.558Z"
   },
   {
    "duration": 2127,
    "start_time": "2022-08-04T14:20:12.321Z"
   },
   {
    "duration": 65,
    "start_time": "2022-08-04T14:20:14.450Z"
   },
   {
    "duration": 7,
    "start_time": "2022-08-04T14:20:14.518Z"
   },
   {
    "duration": 4,
    "start_time": "2022-08-04T14:20:14.526Z"
   },
   {
    "duration": 222,
    "start_time": "2022-08-04T14:20:14.532Z"
   },
   {
    "duration": 3,
    "start_time": "2022-08-04T14:20:14.756Z"
   },
   {
    "duration": 66,
    "start_time": "2022-08-04T14:20:14.761Z"
   },
   {
    "duration": 14,
    "start_time": "2022-08-04T14:20:14.829Z"
   },
   {
    "duration": 8,
    "start_time": "2022-08-04T14:20:14.846Z"
   },
   {
    "duration": 198,
    "start_time": "2022-08-04T14:20:14.855Z"
   },
   {
    "duration": 6,
    "start_time": "2022-08-04T14:20:15.055Z"
   },
   {
    "duration": 18,
    "start_time": "2022-08-04T14:20:15.062Z"
   },
   {
    "duration": 28,
    "start_time": "2022-08-04T14:20:15.081Z"
   },
   {
    "duration": 7,
    "start_time": "2022-08-04T14:20:15.110Z"
   },
   {
    "duration": 44,
    "start_time": "2022-08-04T14:20:15.118Z"
   },
   {
    "duration": 7,
    "start_time": "2022-08-04T14:20:15.164Z"
   },
   {
    "duration": 6,
    "start_time": "2022-08-04T14:20:15.172Z"
   },
   {
    "duration": 39,
    "start_time": "2022-08-04T14:20:15.180Z"
   },
   {
    "duration": 5,
    "start_time": "2022-08-04T14:20:15.220Z"
   },
   {
    "duration": 5,
    "start_time": "2022-08-04T14:20:15.227Z"
   },
   {
    "duration": 8,
    "start_time": "2022-08-04T14:20:15.233Z"
   },
   {
    "duration": 360,
    "start_time": "2022-08-04T14:20:15.242Z"
   },
   {
    "duration": 3,
    "start_time": "2022-08-04T14:20:15.604Z"
   },
   {
    "duration": 6,
    "start_time": "2022-08-04T14:20:15.609Z"
   },
   {
    "duration": 25,
    "start_time": "2022-08-04T14:20:15.616Z"
   },
   {
    "duration": 250,
    "start_time": "2022-08-04T14:20:15.643Z"
   },
   {
    "duration": 191,
    "start_time": "2022-08-04T14:20:15.897Z"
   },
   {
    "duration": 353,
    "start_time": "2022-08-04T14:20:16.090Z"
   },
   {
    "duration": 300,
    "start_time": "2022-08-04T14:20:16.444Z"
   },
   {
    "duration": 148,
    "start_time": "2022-08-04T14:20:16.746Z"
   },
   {
    "duration": 146,
    "start_time": "2022-08-04T14:20:16.895Z"
   },
   {
    "duration": 155,
    "start_time": "2022-08-04T14:20:17.043Z"
   },
   {
    "duration": 123,
    "start_time": "2022-08-04T14:20:17.199Z"
   },
   {
    "duration": 184,
    "start_time": "2022-08-04T14:20:17.323Z"
   },
   {
    "duration": 338,
    "start_time": "2022-08-04T14:20:17.509Z"
   },
   {
    "duration": 404,
    "start_time": "2022-08-04T14:20:17.849Z"
   },
   {
    "duration": 281,
    "start_time": "2022-08-04T14:20:18.255Z"
   },
   {
    "duration": 4,
    "start_time": "2022-08-04T14:20:18.538Z"
   },
   {
    "duration": 172,
    "start_time": "2022-08-04T14:20:18.544Z"
   },
   {
    "duration": 177,
    "start_time": "2022-08-04T14:20:18.718Z"
   },
   {
    "duration": 13,
    "start_time": "2022-08-04T14:20:18.897Z"
   },
   {
    "duration": 297,
    "start_time": "2022-08-04T14:20:18.911Z"
   },
   {
    "duration": 2411,
    "start_time": "2022-08-04T14:20:19.210Z"
   },
   {
    "duration": 371,
    "start_time": "2022-08-04T14:20:21.623Z"
   },
   {
    "duration": 27,
    "start_time": "2022-08-04T14:20:21.996Z"
   },
   {
    "duration": 160,
    "start_time": "2022-08-04T14:20:22.024Z"
   },
   {
    "duration": 140,
    "start_time": "2022-08-04T14:20:22.186Z"
   },
   {
    "duration": 2448,
    "start_time": "2022-08-04T14:20:22.330Z"
   },
   {
    "duration": 2407,
    "start_time": "2022-08-04T14:20:28.636Z"
   },
   {
    "duration": 157,
    "start_time": "2022-08-04T14:58:23.640Z"
   },
   {
    "duration": 70,
    "start_time": "2022-08-04T14:58:25.569Z"
   },
   {
    "duration": 74,
    "start_time": "2022-08-04T14:59:13.432Z"
   },
   {
    "duration": 74,
    "start_time": "2022-08-04T14:59:24.800Z"
   },
   {
    "duration": 92,
    "start_time": "2022-08-04T14:59:45.960Z"
   },
   {
    "duration": 79,
    "start_time": "2022-08-04T14:59:47.680Z"
   },
   {
    "duration": 74,
    "start_time": "2022-08-04T15:02:05.924Z"
   },
   {
    "duration": 929,
    "start_time": "2022-08-04T15:04:30.675Z"
   },
   {
    "duration": 2045,
    "start_time": "2022-08-04T15:04:31.607Z"
   },
   {
    "duration": 69,
    "start_time": "2022-08-04T15:04:33.654Z"
   },
   {
    "duration": 9,
    "start_time": "2022-08-04T15:04:33.726Z"
   },
   {
    "duration": 5,
    "start_time": "2022-08-04T15:04:33.736Z"
   },
   {
    "duration": 236,
    "start_time": "2022-08-04T15:04:33.742Z"
   },
   {
    "duration": 4,
    "start_time": "2022-08-04T15:04:33.980Z"
   },
   {
    "duration": 66,
    "start_time": "2022-08-04T15:04:33.985Z"
   },
   {
    "duration": 14,
    "start_time": "2022-08-04T15:04:34.053Z"
   },
   {
    "duration": 9,
    "start_time": "2022-08-04T15:04:34.070Z"
   },
   {
    "duration": 192,
    "start_time": "2022-08-04T15:04:34.080Z"
   },
   {
    "duration": 7,
    "start_time": "2022-08-04T15:04:34.273Z"
   },
   {
    "duration": 91,
    "start_time": "2022-08-04T15:04:34.282Z"
   },
   {
    "duration": 0,
    "start_time": "2022-08-04T15:04:34.375Z"
   },
   {
    "duration": 0,
    "start_time": "2022-08-04T15:04:34.376Z"
   },
   {
    "duration": 0,
    "start_time": "2022-08-04T15:04:34.378Z"
   },
   {
    "duration": 0,
    "start_time": "2022-08-04T15:04:34.379Z"
   },
   {
    "duration": 0,
    "start_time": "2022-08-04T15:04:34.380Z"
   },
   {
    "duration": 0,
    "start_time": "2022-08-04T15:04:34.382Z"
   },
   {
    "duration": 0,
    "start_time": "2022-08-04T15:04:34.383Z"
   },
   {
    "duration": 0,
    "start_time": "2022-08-04T15:04:34.384Z"
   },
   {
    "duration": 0,
    "start_time": "2022-08-04T15:04:34.406Z"
   },
   {
    "duration": 0,
    "start_time": "2022-08-04T15:04:34.407Z"
   },
   {
    "duration": 0,
    "start_time": "2022-08-04T15:04:34.408Z"
   },
   {
    "duration": 0,
    "start_time": "2022-08-04T15:04:34.409Z"
   },
   {
    "duration": 0,
    "start_time": "2022-08-04T15:04:34.410Z"
   },
   {
    "duration": 0,
    "start_time": "2022-08-04T15:04:34.411Z"
   },
   {
    "duration": 0,
    "start_time": "2022-08-04T15:04:34.412Z"
   },
   {
    "duration": 0,
    "start_time": "2022-08-04T15:04:34.413Z"
   },
   {
    "duration": 0,
    "start_time": "2022-08-04T15:04:34.413Z"
   },
   {
    "duration": 0,
    "start_time": "2022-08-04T15:04:34.414Z"
   },
   {
    "duration": 0,
    "start_time": "2022-08-04T15:04:34.415Z"
   },
   {
    "duration": 0,
    "start_time": "2022-08-04T15:04:34.416Z"
   },
   {
    "duration": 0,
    "start_time": "2022-08-04T15:04:34.417Z"
   },
   {
    "duration": 0,
    "start_time": "2022-08-04T15:04:34.418Z"
   },
   {
    "duration": 0,
    "start_time": "2022-08-04T15:04:34.419Z"
   },
   {
    "duration": 0,
    "start_time": "2022-08-04T15:04:34.420Z"
   },
   {
    "duration": 0,
    "start_time": "2022-08-04T15:04:34.421Z"
   },
   {
    "duration": 0,
    "start_time": "2022-08-04T15:04:34.422Z"
   },
   {
    "duration": 0,
    "start_time": "2022-08-04T15:04:34.422Z"
   },
   {
    "duration": 0,
    "start_time": "2022-08-04T15:04:34.423Z"
   },
   {
    "duration": 0,
    "start_time": "2022-08-04T15:04:34.425Z"
   },
   {
    "duration": 0,
    "start_time": "2022-08-04T15:04:34.426Z"
   },
   {
    "duration": 0,
    "start_time": "2022-08-04T15:04:34.426Z"
   },
   {
    "duration": 0,
    "start_time": "2022-08-04T15:04:34.427Z"
   },
   {
    "duration": 0,
    "start_time": "2022-08-04T15:04:34.428Z"
   },
   {
    "duration": 0,
    "start_time": "2022-08-04T15:04:34.429Z"
   },
   {
    "duration": 0,
    "start_time": "2022-08-04T15:04:34.430Z"
   },
   {
    "duration": 14,
    "start_time": "2022-08-04T15:07:21.041Z"
   },
   {
    "duration": 14,
    "start_time": "2022-08-04T15:07:50.498Z"
   },
   {
    "duration": 51,
    "start_time": "2022-08-04T15:08:53.730Z"
   },
   {
    "duration": 1237,
    "start_time": "2022-08-04T15:12:05.096Z"
   },
   {
    "duration": 789,
    "start_time": "2022-08-04T15:12:33.979Z"
   },
   {
    "duration": 2007,
    "start_time": "2022-08-04T15:12:34.769Z"
   },
   {
    "duration": 68,
    "start_time": "2022-08-04T15:12:36.778Z"
   },
   {
    "duration": 7,
    "start_time": "2022-08-04T15:12:36.848Z"
   },
   {
    "duration": 3,
    "start_time": "2022-08-04T15:12:36.858Z"
   },
   {
    "duration": 210,
    "start_time": "2022-08-04T15:12:36.862Z"
   },
   {
    "duration": 4,
    "start_time": "2022-08-04T15:12:37.074Z"
   },
   {
    "duration": 66,
    "start_time": "2022-08-04T15:12:37.079Z"
   },
   {
    "duration": 14,
    "start_time": "2022-08-04T15:12:37.147Z"
   },
   {
    "duration": 9,
    "start_time": "2022-08-04T15:12:37.162Z"
   },
   {
    "duration": 187,
    "start_time": "2022-08-04T15:12:37.173Z"
   },
   {
    "duration": 7,
    "start_time": "2022-08-04T15:12:37.361Z"
   },
   {
    "duration": 21,
    "start_time": "2022-08-04T15:12:37.369Z"
   },
   {
    "duration": 14,
    "start_time": "2022-08-04T15:12:37.393Z"
   },
   {
    "duration": 7,
    "start_time": "2022-08-04T15:12:37.409Z"
   },
   {
    "duration": 47,
    "start_time": "2022-08-04T15:12:37.417Z"
   },
   {
    "duration": 8,
    "start_time": "2022-08-04T15:12:37.465Z"
   },
   {
    "duration": 33,
    "start_time": "2022-08-04T15:12:37.474Z"
   },
   {
    "duration": 16,
    "start_time": "2022-08-04T15:12:37.508Z"
   },
   {
    "duration": 7,
    "start_time": "2022-08-04T15:12:37.526Z"
   },
   {
    "duration": 16,
    "start_time": "2022-08-04T15:12:37.534Z"
   },
   {
    "duration": 8,
    "start_time": "2022-08-04T15:12:37.552Z"
   },
   {
    "duration": 364,
    "start_time": "2022-08-04T15:12:37.561Z"
   },
   {
    "duration": 5,
    "start_time": "2022-08-04T15:12:37.926Z"
   },
   {
    "duration": 13,
    "start_time": "2022-08-04T15:12:37.932Z"
   },
   {
    "duration": 30,
    "start_time": "2022-08-04T15:12:37.947Z"
   },
   {
    "duration": 198,
    "start_time": "2022-08-04T15:12:37.979Z"
   },
   {
    "duration": 235,
    "start_time": "2022-08-04T15:12:38.179Z"
   },
   {
    "duration": 285,
    "start_time": "2022-08-04T15:12:38.416Z"
   },
   {
    "duration": 265,
    "start_time": "2022-08-04T15:12:38.702Z"
   },
   {
    "duration": 152,
    "start_time": "2022-08-04T15:12:38.968Z"
   },
   {
    "duration": 149,
    "start_time": "2022-08-04T15:12:39.122Z"
   },
   {
    "duration": 150,
    "start_time": "2022-08-04T15:12:39.272Z"
   },
   {
    "duration": 119,
    "start_time": "2022-08-04T15:12:39.423Z"
   },
   {
    "duration": 188,
    "start_time": "2022-08-04T15:12:39.544Z"
   },
   {
    "duration": 351,
    "start_time": "2022-08-04T15:12:39.733Z"
   },
   {
    "duration": 432,
    "start_time": "2022-08-04T15:12:40.086Z"
   },
   {
    "duration": 268,
    "start_time": "2022-08-04T15:12:40.519Z"
   },
   {
    "duration": 4,
    "start_time": "2022-08-04T15:12:40.789Z"
   },
   {
    "duration": 168,
    "start_time": "2022-08-04T15:12:40.794Z"
   },
   {
    "duration": 184,
    "start_time": "2022-08-04T15:12:40.965Z"
   },
   {
    "duration": 31,
    "start_time": "2022-08-04T15:12:41.151Z"
   },
   {
    "duration": 296,
    "start_time": "2022-08-04T15:12:41.183Z"
   },
   {
    "duration": 2323,
    "start_time": "2022-08-04T15:12:41.480Z"
   },
   {
    "duration": 386,
    "start_time": "2022-08-04T15:12:43.806Z"
   },
   {
    "duration": 24,
    "start_time": "2022-08-04T15:12:44.193Z"
   },
   {
    "duration": 139,
    "start_time": "2022-08-04T15:12:44.218Z"
   },
   {
    "duration": 137,
    "start_time": "2022-08-04T15:12:44.358Z"
   },
   {
    "duration": 230,
    "start_time": "2022-08-04T15:17:18.987Z"
   },
   {
    "duration": 508,
    "start_time": "2022-08-04T15:17:51.722Z"
   },
   {
    "duration": 170,
    "start_time": "2022-08-04T15:17:57.636Z"
   },
   {
    "duration": 284,
    "start_time": "2022-08-04T15:19:09.178Z"
   },
   {
    "duration": 275,
    "start_time": "2022-08-04T15:20:10.997Z"
   },
   {
    "duration": 282,
    "start_time": "2022-08-04T15:20:41.091Z"
   },
   {
    "duration": 473,
    "start_time": "2022-08-04T15:20:49.947Z"
   },
   {
    "duration": 134,
    "start_time": "2022-08-04T15:24:41.297Z"
   },
   {
    "duration": 130,
    "start_time": "2022-08-04T16:13:34.537Z"
   },
   {
    "duration": 151,
    "start_time": "2022-08-04T16:15:37.735Z"
   },
   {
    "duration": 158,
    "start_time": "2022-08-04T16:15:46.537Z"
   },
   {
    "duration": 16,
    "start_time": "2022-08-04T16:16:59.173Z"
   },
   {
    "duration": 13,
    "start_time": "2022-08-04T16:17:06.990Z"
   },
   {
    "duration": 14,
    "start_time": "2022-08-04T16:17:14.206Z"
   },
   {
    "duration": 1201,
    "start_time": "2022-08-04T16:17:26.236Z"
   },
   {
    "duration": 2018,
    "start_time": "2022-08-04T16:17:27.438Z"
   },
   {
    "duration": 73,
    "start_time": "2022-08-04T16:17:29.458Z"
   },
   {
    "duration": 9,
    "start_time": "2022-08-04T16:17:29.533Z"
   },
   {
    "duration": 5,
    "start_time": "2022-08-04T16:17:29.543Z"
   },
   {
    "duration": 258,
    "start_time": "2022-08-04T16:17:29.550Z"
   },
   {
    "duration": 4,
    "start_time": "2022-08-04T16:17:29.810Z"
   },
   {
    "duration": 63,
    "start_time": "2022-08-04T16:17:29.816Z"
   },
   {
    "duration": 34,
    "start_time": "2022-08-04T16:17:29.880Z"
   },
   {
    "duration": 9,
    "start_time": "2022-08-04T16:17:29.916Z"
   },
   {
    "duration": 219,
    "start_time": "2022-08-04T16:17:29.927Z"
   },
   {
    "duration": 7,
    "start_time": "2022-08-04T16:17:30.148Z"
   },
   {
    "duration": 25,
    "start_time": "2022-08-04T16:17:30.156Z"
   },
   {
    "duration": 23,
    "start_time": "2022-08-04T16:17:30.183Z"
   },
   {
    "duration": 8,
    "start_time": "2022-08-04T16:17:30.207Z"
   },
   {
    "duration": 52,
    "start_time": "2022-08-04T16:17:30.216Z"
   },
   {
    "duration": 8,
    "start_time": "2022-08-04T16:17:30.269Z"
   },
   {
    "duration": 28,
    "start_time": "2022-08-04T16:17:30.278Z"
   },
   {
    "duration": 19,
    "start_time": "2022-08-04T16:17:30.308Z"
   },
   {
    "duration": 6,
    "start_time": "2022-08-04T16:17:30.328Z"
   },
   {
    "duration": 10,
    "start_time": "2022-08-04T16:17:30.336Z"
   },
   {
    "duration": 11,
    "start_time": "2022-08-04T16:17:30.347Z"
   },
   {
    "duration": 413,
    "start_time": "2022-08-04T16:17:30.360Z"
   },
   {
    "duration": 5,
    "start_time": "2022-08-04T16:17:30.775Z"
   },
   {
    "duration": 34,
    "start_time": "2022-08-04T16:17:30.781Z"
   },
   {
    "duration": 43,
    "start_time": "2022-08-04T16:17:30.817Z"
   },
   {
    "duration": 314,
    "start_time": "2022-08-04T16:17:30.862Z"
   },
   {
    "duration": 271,
    "start_time": "2022-08-04T16:17:31.180Z"
   },
   {
    "duration": 320,
    "start_time": "2022-08-04T16:17:31.452Z"
   },
   {
    "duration": 308,
    "start_time": "2022-08-04T16:17:31.773Z"
   },
   {
    "duration": 178,
    "start_time": "2022-08-04T16:17:32.083Z"
   },
   {
    "duration": 167,
    "start_time": "2022-08-04T16:17:32.262Z"
   },
   {
    "duration": 170,
    "start_time": "2022-08-04T16:17:32.430Z"
   },
   {
    "duration": 141,
    "start_time": "2022-08-04T16:17:32.601Z"
   },
   {
    "duration": 193,
    "start_time": "2022-08-04T16:17:32.744Z"
   },
   {
    "duration": 334,
    "start_time": "2022-08-04T16:17:32.938Z"
   },
   {
    "duration": 425,
    "start_time": "2022-08-04T16:17:33.274Z"
   },
   {
    "duration": 297,
    "start_time": "2022-08-04T16:17:33.700Z"
   },
   {
    "duration": 9,
    "start_time": "2022-08-04T16:17:33.998Z"
   },
   {
    "duration": 203,
    "start_time": "2022-08-04T16:17:34.009Z"
   },
   {
    "duration": 184,
    "start_time": "2022-08-04T16:17:34.213Z"
   },
   {
    "duration": 37,
    "start_time": "2022-08-04T16:17:34.398Z"
   },
   {
    "duration": 298,
    "start_time": "2022-08-04T16:17:34.436Z"
   },
   {
    "duration": 2485,
    "start_time": "2022-08-04T16:17:34.736Z"
   },
   {
    "duration": 380,
    "start_time": "2022-08-04T16:17:37.222Z"
   },
   {
    "duration": 22,
    "start_time": "2022-08-04T16:17:37.606Z"
   },
   {
    "duration": 148,
    "start_time": "2022-08-04T16:17:37.630Z"
   },
   {
    "duration": 138,
    "start_time": "2022-08-04T16:17:37.780Z"
   },
   {
    "duration": 24,
    "start_time": "2022-08-04T16:17:40.973Z"
   },
   {
    "duration": 368,
    "start_time": "2022-08-04T16:17:45.604Z"
   },
   {
    "duration": 572,
    "start_time": "2022-08-04T16:32:58.272Z"
   },
   {
    "duration": 35,
    "start_time": "2022-08-04T16:33:08.032Z"
   },
   {
    "duration": 344,
    "start_time": "2022-08-04T16:33:29.532Z"
   },
   {
    "duration": 312,
    "start_time": "2022-08-04T16:33:35.026Z"
   },
   {
    "duration": 1223,
    "start_time": "2022-08-04T16:36:05.875Z"
   },
   {
    "duration": 1981,
    "start_time": "2022-08-04T16:36:07.100Z"
   },
   {
    "duration": 73,
    "start_time": "2022-08-04T16:36:09.083Z"
   },
   {
    "duration": 9,
    "start_time": "2022-08-04T16:36:09.158Z"
   },
   {
    "duration": 4,
    "start_time": "2022-08-04T16:36:09.169Z"
   },
   {
    "duration": 246,
    "start_time": "2022-08-04T16:36:09.174Z"
   },
   {
    "duration": 4,
    "start_time": "2022-08-04T16:36:09.422Z"
   },
   {
    "duration": 60,
    "start_time": "2022-08-04T16:36:09.428Z"
   },
   {
    "duration": 30,
    "start_time": "2022-08-04T16:36:09.490Z"
   },
   {
    "duration": 10,
    "start_time": "2022-08-04T16:36:09.522Z"
   },
   {
    "duration": 222,
    "start_time": "2022-08-04T16:36:09.534Z"
   },
   {
    "duration": 8,
    "start_time": "2022-08-04T16:36:09.757Z"
   },
   {
    "duration": 44,
    "start_time": "2022-08-04T16:36:09.767Z"
   },
   {
    "duration": 9,
    "start_time": "2022-08-04T16:36:09.812Z"
   },
   {
    "duration": 11,
    "start_time": "2022-08-04T16:36:09.823Z"
   },
   {
    "duration": 53,
    "start_time": "2022-08-04T16:36:09.835Z"
   },
   {
    "duration": 8,
    "start_time": "2022-08-04T16:36:09.906Z"
   },
   {
    "duration": 5,
    "start_time": "2022-08-04T16:36:09.916Z"
   },
   {
    "duration": 14,
    "start_time": "2022-08-04T16:36:09.922Z"
   },
   {
    "duration": 5,
    "start_time": "2022-08-04T16:36:09.937Z"
   },
   {
    "duration": 6,
    "start_time": "2022-08-04T16:36:09.943Z"
   },
   {
    "duration": 5,
    "start_time": "2022-08-04T16:36:09.950Z"
   },
   {
    "duration": 406,
    "start_time": "2022-08-04T16:36:09.956Z"
   },
   {
    "duration": 4,
    "start_time": "2022-08-04T16:36:10.364Z"
   },
   {
    "duration": 7,
    "start_time": "2022-08-04T16:36:10.370Z"
   },
   {
    "duration": 36,
    "start_time": "2022-08-04T16:36:10.379Z"
   },
   {
    "duration": 277,
    "start_time": "2022-08-04T16:36:10.416Z"
   },
   {
    "duration": 252,
    "start_time": "2022-08-04T16:36:10.706Z"
   },
   {
    "duration": 282,
    "start_time": "2022-08-04T16:36:10.960Z"
   },
   {
    "duration": 282,
    "start_time": "2022-08-04T16:36:11.244Z"
   },
   {
    "duration": 162,
    "start_time": "2022-08-04T16:36:11.528Z"
   },
   {
    "duration": 157,
    "start_time": "2022-08-04T16:36:11.691Z"
   },
   {
    "duration": 171,
    "start_time": "2022-08-04T16:36:11.849Z"
   },
   {
    "duration": 144,
    "start_time": "2022-08-04T16:36:12.022Z"
   },
   {
    "duration": 211,
    "start_time": "2022-08-04T16:36:12.168Z"
   },
   {
    "duration": 368,
    "start_time": "2022-08-04T16:36:12.382Z"
   },
   {
    "duration": 431,
    "start_time": "2022-08-04T16:36:12.752Z"
   },
   {
    "duration": 307,
    "start_time": "2022-08-04T16:36:13.185Z"
   },
   {
    "duration": 4,
    "start_time": "2022-08-04T16:36:13.494Z"
   },
   {
    "duration": 167,
    "start_time": "2022-08-04T16:36:13.505Z"
   },
   {
    "duration": 185,
    "start_time": "2022-08-04T16:36:13.673Z"
   },
   {
    "duration": 31,
    "start_time": "2022-08-04T16:36:13.861Z"
   },
   {
    "duration": 292,
    "start_time": "2022-08-04T16:36:13.894Z"
   },
   {
    "duration": 2502,
    "start_time": "2022-08-04T16:36:14.188Z"
   },
   {
    "duration": 380,
    "start_time": "2022-08-04T16:36:16.692Z"
   },
   {
    "duration": 23,
    "start_time": "2022-08-04T16:36:17.074Z"
   },
   {
    "duration": 140,
    "start_time": "2022-08-04T16:36:17.106Z"
   },
   {
    "duration": 138,
    "start_time": "2022-08-04T16:36:17.248Z"
   },
   {
    "duration": 129,
    "start_time": "2022-08-04T16:37:43.987Z"
   },
   {
    "duration": 387,
    "start_time": "2022-08-04T16:37:51.644Z"
   },
   {
    "duration": 20,
    "start_time": "2022-08-04T16:38:29.325Z"
   },
   {
    "duration": 21,
    "start_time": "2022-08-04T16:38:48.579Z"
   },
   {
    "duration": 128,
    "start_time": "2022-08-04T16:39:31.021Z"
   },
   {
    "duration": 2364,
    "start_time": "2022-08-04T16:45:10.082Z"
   },
   {
    "duration": 43,
    "start_time": "2022-08-04T17:11:22.346Z"
   },
   {
    "duration": 919,
    "start_time": "2022-08-04T17:11:28.139Z"
   },
   {
    "duration": 1792,
    "start_time": "2022-08-04T17:11:29.060Z"
   },
   {
    "duration": 68,
    "start_time": "2022-08-04T17:11:30.854Z"
   },
   {
    "duration": 8,
    "start_time": "2022-08-04T17:11:30.924Z"
   },
   {
    "duration": 3,
    "start_time": "2022-08-04T17:11:30.935Z"
   },
   {
    "duration": 215,
    "start_time": "2022-08-04T17:11:30.940Z"
   },
   {
    "duration": 5,
    "start_time": "2022-08-04T17:11:31.157Z"
   },
   {
    "duration": 67,
    "start_time": "2022-08-04T17:11:31.163Z"
   },
   {
    "duration": 15,
    "start_time": "2022-08-04T17:11:31.232Z"
   },
   {
    "duration": 16,
    "start_time": "2022-08-04T17:11:31.248Z"
   },
   {
    "duration": 184,
    "start_time": "2022-08-04T17:11:31.266Z"
   },
   {
    "duration": 7,
    "start_time": "2022-08-04T17:11:31.453Z"
   },
   {
    "duration": 1261,
    "start_time": "2022-08-04T17:11:50.536Z"
   },
   {
    "duration": 1764,
    "start_time": "2022-08-04T17:11:51.799Z"
   },
   {
    "duration": 68,
    "start_time": "2022-08-04T17:11:53.564Z"
   },
   {
    "duration": 7,
    "start_time": "2022-08-04T17:11:53.634Z"
   },
   {
    "duration": 6,
    "start_time": "2022-08-04T17:11:53.643Z"
   },
   {
    "duration": 216,
    "start_time": "2022-08-04T17:11:53.650Z"
   },
   {
    "duration": 4,
    "start_time": "2022-08-04T17:11:53.867Z"
   },
   {
    "duration": 61,
    "start_time": "2022-08-04T17:11:53.872Z"
   },
   {
    "duration": 13,
    "start_time": "2022-08-04T17:11:53.935Z"
   },
   {
    "duration": 7,
    "start_time": "2022-08-04T17:11:53.950Z"
   },
   {
    "duration": 213,
    "start_time": "2022-08-04T17:11:55.964Z"
   },
   {
    "duration": 7,
    "start_time": "2022-08-04T17:11:57.372Z"
   },
   {
    "duration": 77,
    "start_time": "2022-08-04T17:15:48.615Z"
   },
   {
    "duration": 64,
    "start_time": "2022-08-04T17:16:41.586Z"
   },
   {
    "duration": 943,
    "start_time": "2022-08-04T17:17:04.552Z"
   },
   {
    "duration": 1747,
    "start_time": "2022-08-04T17:17:05.497Z"
   },
   {
    "duration": 71,
    "start_time": "2022-08-04T17:17:07.246Z"
   },
   {
    "duration": 8,
    "start_time": "2022-08-04T17:17:07.318Z"
   },
   {
    "duration": 8,
    "start_time": "2022-08-04T17:17:07.328Z"
   },
   {
    "duration": 229,
    "start_time": "2022-08-04T17:17:07.338Z"
   },
   {
    "duration": 4,
    "start_time": "2022-08-04T17:17:07.568Z"
   },
   {
    "duration": 70,
    "start_time": "2022-08-04T17:17:07.573Z"
   },
   {
    "duration": 14,
    "start_time": "2022-08-04T17:17:07.645Z"
   },
   {
    "duration": 9,
    "start_time": "2022-08-04T17:17:07.661Z"
   },
   {
    "duration": 194,
    "start_time": "2022-08-04T17:17:07.671Z"
   },
   {
    "duration": 6,
    "start_time": "2022-08-04T17:17:07.866Z"
   },
   {
    "duration": 7,
    "start_time": "2022-08-04T17:17:07.874Z"
   },
   {
    "duration": 31,
    "start_time": "2022-08-04T17:17:07.884Z"
   },
   {
    "duration": 9,
    "start_time": "2022-08-04T17:17:07.916Z"
   },
   {
    "duration": 7,
    "start_time": "2022-08-04T17:17:07.926Z"
   },
   {
    "duration": 49,
    "start_time": "2022-08-04T17:17:07.934Z"
   },
   {
    "duration": 27,
    "start_time": "2022-08-04T17:17:07.984Z"
   },
   {
    "duration": 4,
    "start_time": "2022-08-04T17:17:08.013Z"
   },
   {
    "duration": 16,
    "start_time": "2022-08-04T17:17:08.018Z"
   },
   {
    "duration": 6,
    "start_time": "2022-08-04T17:17:08.035Z"
   },
   {
    "duration": 12,
    "start_time": "2022-08-04T17:17:08.042Z"
   },
   {
    "duration": 5,
    "start_time": "2022-08-04T17:17:08.055Z"
   },
   {
    "duration": 386,
    "start_time": "2022-08-04T17:17:08.062Z"
   },
   {
    "duration": 3,
    "start_time": "2022-08-04T17:17:08.450Z"
   },
   {
    "duration": 8,
    "start_time": "2022-08-04T17:17:08.454Z"
   },
   {
    "duration": 25,
    "start_time": "2022-08-04T17:17:08.463Z"
   },
   {
    "duration": 293,
    "start_time": "2022-08-04T17:17:08.489Z"
   },
   {
    "duration": 257,
    "start_time": "2022-08-04T17:17:08.784Z"
   },
   {
    "duration": 294,
    "start_time": "2022-08-04T17:17:09.043Z"
   },
   {
    "duration": 285,
    "start_time": "2022-08-04T17:17:09.339Z"
   },
   {
    "duration": 176,
    "start_time": "2022-08-04T17:17:09.625Z"
   },
   {
    "duration": 152,
    "start_time": "2022-08-04T17:17:09.803Z"
   },
   {
    "duration": 165,
    "start_time": "2022-08-04T17:17:09.957Z"
   },
   {
    "duration": 133,
    "start_time": "2022-08-04T17:17:10.124Z"
   },
   {
    "duration": 180,
    "start_time": "2022-08-04T17:17:10.258Z"
   },
   {
    "duration": 335,
    "start_time": "2022-08-04T17:17:10.440Z"
   },
   {
    "duration": 400,
    "start_time": "2022-08-04T17:17:10.776Z"
   },
   {
    "duration": 272,
    "start_time": "2022-08-04T17:17:11.177Z"
   },
   {
    "duration": 4,
    "start_time": "2022-08-04T17:17:11.450Z"
   },
   {
    "duration": 169,
    "start_time": "2022-08-04T17:17:11.457Z"
   },
   {
    "duration": 166,
    "start_time": "2022-08-04T17:17:11.628Z"
   },
   {
    "duration": 38,
    "start_time": "2022-08-04T17:17:11.796Z"
   },
   {
    "duration": 276,
    "start_time": "2022-08-04T17:17:11.835Z"
   },
   {
    "duration": 2316,
    "start_time": "2022-08-04T17:17:12.113Z"
   },
   {
    "duration": 371,
    "start_time": "2022-08-04T17:17:14.431Z"
   },
   {
    "duration": 17,
    "start_time": "2022-08-04T17:17:14.803Z"
   },
   {
    "duration": 149,
    "start_time": "2022-08-04T17:17:14.821Z"
   },
   {
    "duration": 126,
    "start_time": "2022-08-04T17:17:14.971Z"
   },
   {
    "duration": 127,
    "start_time": "2022-08-04T17:19:56.717Z"
   },
   {
    "duration": 125,
    "start_time": "2022-08-04T17:20:01.516Z"
   },
   {
    "duration": 127,
    "start_time": "2022-08-04T17:20:13.559Z"
   },
   {
    "duration": 133,
    "start_time": "2022-08-04T17:20:17.417Z"
   },
   {
    "duration": 138,
    "start_time": "2022-08-04T17:21:12.558Z"
   },
   {
    "duration": 141,
    "start_time": "2022-08-04T17:30:39.314Z"
   },
   {
    "duration": 140,
    "start_time": "2022-08-04T17:31:15.347Z"
   },
   {
    "duration": 165,
    "start_time": "2022-08-04T17:31:26.570Z"
   },
   {
    "duration": 158,
    "start_time": "2022-08-04T17:31:48.115Z"
   },
   {
    "duration": 216,
    "start_time": "2022-08-04T17:33:35.850Z"
   },
   {
    "duration": 478,
    "start_time": "2022-08-04T17:33:57.517Z"
   },
   {
    "duration": 157,
    "start_time": "2022-08-04T17:36:48.441Z"
   },
   {
    "duration": 162,
    "start_time": "2022-08-04T17:36:52.143Z"
   },
   {
    "duration": 142,
    "start_time": "2022-08-04T17:37:13.736Z"
   },
   {
    "duration": 144,
    "start_time": "2022-08-04T17:37:22.479Z"
   },
   {
    "duration": 158,
    "start_time": "2022-08-04T17:37:26.071Z"
   },
   {
    "duration": 313,
    "start_time": "2022-08-04T17:37:32.359Z"
   },
   {
    "duration": 11,
    "start_time": "2022-08-04T17:37:47.518Z"
   },
   {
    "duration": 9,
    "start_time": "2022-08-04T17:37:53.887Z"
   },
   {
    "duration": 1057,
    "start_time": "2022-08-04T17:38:02.318Z"
   },
   {
    "duration": 1691,
    "start_time": "2022-08-04T17:38:03.377Z"
   },
   {
    "duration": 66,
    "start_time": "2022-08-04T17:38:05.070Z"
   },
   {
    "duration": 8,
    "start_time": "2022-08-04T17:38:05.137Z"
   },
   {
    "duration": 4,
    "start_time": "2022-08-04T17:38:05.146Z"
   },
   {
    "duration": 213,
    "start_time": "2022-08-04T17:38:05.151Z"
   },
   {
    "duration": 4,
    "start_time": "2022-08-04T17:38:05.365Z"
   },
   {
    "duration": 65,
    "start_time": "2022-08-04T17:38:05.371Z"
   },
   {
    "duration": 13,
    "start_time": "2022-08-04T17:38:05.437Z"
   },
   {
    "duration": 7,
    "start_time": "2022-08-04T17:38:05.452Z"
   },
   {
    "duration": 184,
    "start_time": "2022-08-04T17:38:05.461Z"
   },
   {
    "duration": 6,
    "start_time": "2022-08-04T17:38:05.646Z"
   },
   {
    "duration": 10,
    "start_time": "2022-08-04T17:38:05.654Z"
   },
   {
    "duration": 17,
    "start_time": "2022-08-04T17:38:05.666Z"
   },
   {
    "duration": 23,
    "start_time": "2022-08-04T17:38:05.684Z"
   },
   {
    "duration": 7,
    "start_time": "2022-08-04T17:38:05.709Z"
   },
   {
    "duration": 45,
    "start_time": "2022-08-04T17:38:05.717Z"
   },
   {
    "duration": 7,
    "start_time": "2022-08-04T17:38:05.763Z"
   },
   {
    "duration": 5,
    "start_time": "2022-08-04T17:38:05.771Z"
   },
   {
    "duration": 36,
    "start_time": "2022-08-04T17:38:05.777Z"
   },
   {
    "duration": 5,
    "start_time": "2022-08-04T17:38:05.815Z"
   },
   {
    "duration": 11,
    "start_time": "2022-08-04T17:38:05.821Z"
   },
   {
    "duration": 4,
    "start_time": "2022-08-04T17:38:05.834Z"
   },
   {
    "duration": 391,
    "start_time": "2022-08-04T17:38:05.839Z"
   },
   {
    "duration": 4,
    "start_time": "2022-08-04T17:38:06.232Z"
   },
   {
    "duration": 6,
    "start_time": "2022-08-04T17:38:06.237Z"
   },
   {
    "duration": 25,
    "start_time": "2022-08-04T17:38:06.244Z"
   },
   {
    "duration": 282,
    "start_time": "2022-08-04T17:38:06.271Z"
   },
   {
    "duration": 243,
    "start_time": "2022-08-04T17:38:06.554Z"
   },
   {
    "duration": 273,
    "start_time": "2022-08-04T17:38:06.799Z"
   },
   {
    "duration": 289,
    "start_time": "2022-08-04T17:38:07.074Z"
   },
   {
    "duration": 167,
    "start_time": "2022-08-04T17:38:07.365Z"
   },
   {
    "duration": 154,
    "start_time": "2022-08-04T17:38:07.534Z"
   },
   {
    "duration": 156,
    "start_time": "2022-08-04T17:38:07.690Z"
   },
   {
    "duration": 132,
    "start_time": "2022-08-04T17:38:07.847Z"
   },
   {
    "duration": 195,
    "start_time": "2022-08-04T17:38:07.980Z"
   },
   {
    "duration": 353,
    "start_time": "2022-08-04T17:38:08.176Z"
   },
   {
    "duration": 434,
    "start_time": "2022-08-04T17:38:08.530Z"
   },
   {
    "duration": 315,
    "start_time": "2022-08-04T17:38:08.966Z"
   },
   {
    "duration": 5,
    "start_time": "2022-08-04T17:38:09.283Z"
   },
   {
    "duration": 188,
    "start_time": "2022-08-04T17:38:09.291Z"
   },
   {
    "duration": 178,
    "start_time": "2022-08-04T17:38:09.480Z"
   },
   {
    "duration": 36,
    "start_time": "2022-08-04T17:38:09.659Z"
   },
   {
    "duration": 276,
    "start_time": "2022-08-04T17:38:09.706Z"
   },
   {
    "duration": 2265,
    "start_time": "2022-08-04T17:38:10.985Z"
   },
   {
    "duration": 19,
    "start_time": "2022-08-04T17:38:16.731Z"
   },
   {
    "duration": 66,
    "start_time": "2022-08-04T17:48:57.614Z"
   },
   {
    "duration": 183,
    "start_time": "2022-08-04T17:50:29.623Z"
   },
   {
    "duration": 166,
    "start_time": "2022-08-04T17:51:39.933Z"
   },
   {
    "duration": 161,
    "start_time": "2022-08-04T17:51:52.376Z"
   },
   {
    "duration": 174,
    "start_time": "2022-08-04T17:51:59.623Z"
   },
   {
    "duration": 179,
    "start_time": "2022-08-04T17:53:25.484Z"
   },
   {
    "duration": 167,
    "start_time": "2022-08-04T17:53:59.685Z"
   },
   {
    "duration": 161,
    "start_time": "2022-08-04T17:55:09.277Z"
   },
   {
    "duration": 148,
    "start_time": "2022-08-04T17:55:17.653Z"
   },
   {
    "duration": 148,
    "start_time": "2022-08-04T17:55:23.222Z"
   },
   {
    "duration": 348,
    "start_time": "2022-08-04T17:55:44.021Z"
   },
   {
    "duration": 136,
    "start_time": "2022-08-04T17:55:56.271Z"
   },
   {
    "duration": 122,
    "start_time": "2022-08-04T17:58:49.196Z"
   },
   {
    "duration": 343,
    "start_time": "2022-08-04T17:58:55.156Z"
   },
   {
    "duration": 182,
    "start_time": "2022-08-04T17:58:58.556Z"
   },
   {
    "duration": 172,
    "start_time": "2022-08-04T17:59:10.045Z"
   },
   {
    "duration": 154,
    "start_time": "2022-08-04T17:59:13.540Z"
   },
   {
    "duration": 1239,
    "start_time": "2022-08-05T08:07:12.271Z"
   },
   {
    "duration": 2049,
    "start_time": "2022-08-05T08:07:13.513Z"
   },
   {
    "duration": 82,
    "start_time": "2022-08-05T08:07:15.564Z"
   },
   {
    "duration": 10,
    "start_time": "2022-08-05T08:07:15.648Z"
   },
   {
    "duration": 4,
    "start_time": "2022-08-05T08:07:15.660Z"
   },
   {
    "duration": 304,
    "start_time": "2022-08-05T08:07:15.666Z"
   },
   {
    "duration": 8,
    "start_time": "2022-08-05T08:07:15.972Z"
   },
   {
    "duration": 88,
    "start_time": "2022-08-05T08:07:15.983Z"
   },
   {
    "duration": 22,
    "start_time": "2022-08-05T08:07:16.073Z"
   },
   {
    "duration": 29,
    "start_time": "2022-08-05T08:07:16.099Z"
   },
   {
    "duration": 221,
    "start_time": "2022-08-05T08:07:16.129Z"
   },
   {
    "duration": 7,
    "start_time": "2022-08-05T08:07:16.351Z"
   },
   {
    "duration": 18,
    "start_time": "2022-08-05T08:07:16.360Z"
   },
   {
    "duration": 33,
    "start_time": "2022-08-05T08:07:16.380Z"
   },
   {
    "duration": 19,
    "start_time": "2022-08-05T08:07:16.416Z"
   },
   {
    "duration": 13,
    "start_time": "2022-08-05T08:07:16.437Z"
   },
   {
    "duration": 75,
    "start_time": "2022-08-05T08:07:16.452Z"
   },
   {
    "duration": 10,
    "start_time": "2022-08-05T08:07:16.528Z"
   },
   {
    "duration": 7,
    "start_time": "2022-08-05T08:07:16.539Z"
   },
   {
    "duration": 20,
    "start_time": "2022-08-05T08:07:16.548Z"
   },
   {
    "duration": 5,
    "start_time": "2022-08-05T08:07:16.570Z"
   },
   {
    "duration": 6,
    "start_time": "2022-08-05T08:07:16.578Z"
   },
   {
    "duration": 47,
    "start_time": "2022-08-05T08:07:16.586Z"
   },
   {
    "duration": 396,
    "start_time": "2022-08-05T08:07:16.635Z"
   },
   {
    "duration": 4,
    "start_time": "2022-08-05T08:07:17.033Z"
   },
   {
    "duration": 7,
    "start_time": "2022-08-05T08:07:17.039Z"
   },
   {
    "duration": 28,
    "start_time": "2022-08-05T08:07:17.048Z"
   },
   {
    "duration": 395,
    "start_time": "2022-08-05T08:07:17.079Z"
   },
   {
    "duration": 375,
    "start_time": "2022-08-05T08:07:17.476Z"
   },
   {
    "duration": 375,
    "start_time": "2022-08-05T08:07:17.853Z"
   },
   {
    "duration": 325,
    "start_time": "2022-08-05T08:07:18.230Z"
   },
   {
    "duration": 196,
    "start_time": "2022-08-05T08:07:18.558Z"
   },
   {
    "duration": 173,
    "start_time": "2022-08-05T08:07:18.756Z"
   },
   {
    "duration": 191,
    "start_time": "2022-08-05T08:07:18.931Z"
   },
   {
    "duration": 137,
    "start_time": "2022-08-05T08:07:19.123Z"
   },
   {
    "duration": 217,
    "start_time": "2022-08-05T08:07:19.262Z"
   },
   {
    "duration": 417,
    "start_time": "2022-08-05T08:07:19.481Z"
   },
   {
    "duration": 498,
    "start_time": "2022-08-05T08:07:19.899Z"
   },
   {
    "duration": 338,
    "start_time": "2022-08-05T08:07:20.399Z"
   },
   {
    "duration": 5,
    "start_time": "2022-08-05T08:07:20.739Z"
   },
   {
    "duration": 195,
    "start_time": "2022-08-05T08:07:20.746Z"
   },
   {
    "duration": 205,
    "start_time": "2022-08-05T08:07:20.942Z"
   },
   {
    "duration": 35,
    "start_time": "2022-08-05T08:07:21.149Z"
   },
   {
    "duration": 367,
    "start_time": "2022-08-05T08:07:21.186Z"
   },
   {
    "duration": 23,
    "start_time": "2022-08-05T08:07:21.555Z"
   },
   {
    "duration": 264,
    "start_time": "2022-08-05T08:07:21.581Z"
   },
   {
    "duration": 325,
    "start_time": "2022-08-05T08:07:21.847Z"
   },
   {
    "duration": 212,
    "start_time": "2022-08-05T08:07:22.174Z"
   },
   {
    "duration": 204,
    "start_time": "2022-08-05T08:07:22.388Z"
   },
   {
    "duration": 173,
    "start_time": "2022-08-05T08:07:22.594Z"
   },
   {
    "duration": 447,
    "start_time": "2022-08-05T08:07:22.769Z"
   },
   {
    "duration": 28,
    "start_time": "2022-08-05T08:07:23.220Z"
   },
   {
    "duration": 183,
    "start_time": "2022-08-05T08:07:23.250Z"
   },
   {
    "duration": 153,
    "start_time": "2022-08-05T08:07:23.435Z"
   },
   {
    "duration": 46,
    "start_time": "2022-08-05T12:19:20.954Z"
   },
   {
    "duration": 1237,
    "start_time": "2022-08-05T12:19:25.367Z"
   },
   {
    "duration": 1896,
    "start_time": "2022-08-05T12:19:26.606Z"
   },
   {
    "duration": 67,
    "start_time": "2022-08-05T12:19:28.504Z"
   },
   {
    "duration": 10,
    "start_time": "2022-08-05T12:19:28.572Z"
   },
   {
    "duration": 4,
    "start_time": "2022-08-05T12:19:28.583Z"
   },
   {
    "duration": 218,
    "start_time": "2022-08-05T12:19:28.589Z"
   },
   {
    "duration": 4,
    "start_time": "2022-08-05T12:19:28.809Z"
   },
   {
    "duration": 58,
    "start_time": "2022-08-05T12:19:28.814Z"
   },
   {
    "duration": 16,
    "start_time": "2022-08-05T12:19:28.886Z"
   },
   {
    "duration": 11,
    "start_time": "2022-08-05T12:19:28.904Z"
   },
   {
    "duration": 192,
    "start_time": "2022-08-05T12:19:28.916Z"
   },
   {
    "duration": 6,
    "start_time": "2022-08-05T12:19:29.110Z"
   },
   {
    "duration": 9,
    "start_time": "2022-08-05T12:19:29.118Z"
   },
   {
    "duration": 22,
    "start_time": "2022-08-05T12:19:29.129Z"
   },
   {
    "duration": 10,
    "start_time": "2022-08-05T12:19:29.153Z"
   },
   {
    "duration": 29,
    "start_time": "2022-08-05T12:19:29.164Z"
   },
   {
    "duration": 48,
    "start_time": "2022-08-05T12:19:29.195Z"
   },
   {
    "duration": 8,
    "start_time": "2022-08-05T12:19:29.245Z"
   },
   {
    "duration": 5,
    "start_time": "2022-08-05T12:19:29.255Z"
   },
   {
    "duration": 15,
    "start_time": "2022-08-05T12:19:29.287Z"
   },
   {
    "duration": 5,
    "start_time": "2022-08-05T12:19:29.304Z"
   },
   {
    "duration": 9,
    "start_time": "2022-08-05T12:19:29.310Z"
   },
   {
    "duration": 6,
    "start_time": "2022-08-05T12:19:29.321Z"
   },
   {
    "duration": 392,
    "start_time": "2022-08-05T12:19:29.329Z"
   },
   {
    "duration": 4,
    "start_time": "2022-08-05T12:19:29.722Z"
   },
   {
    "duration": 8,
    "start_time": "2022-08-05T12:19:29.728Z"
   },
   {
    "duration": 32,
    "start_time": "2022-08-05T12:19:29.737Z"
   },
   {
    "duration": 295,
    "start_time": "2022-08-05T12:19:29.772Z"
   },
   {
    "duration": 259,
    "start_time": "2022-08-05T12:19:30.069Z"
   },
   {
    "duration": 306,
    "start_time": "2022-08-05T12:19:30.330Z"
   },
   {
    "duration": 307,
    "start_time": "2022-08-05T12:19:30.638Z"
   },
   {
    "duration": 198,
    "start_time": "2022-08-05T12:19:30.947Z"
   },
   {
    "duration": 157,
    "start_time": "2022-08-05T12:19:31.147Z"
   },
   {
    "duration": 161,
    "start_time": "2022-08-05T12:19:31.306Z"
   },
   {
    "duration": 129,
    "start_time": "2022-08-05T12:19:31.468Z"
   },
   {
    "duration": 192,
    "start_time": "2022-08-05T12:19:31.599Z"
   },
   {
    "duration": 361,
    "start_time": "2022-08-05T12:19:31.792Z"
   },
   {
    "duration": 406,
    "start_time": "2022-08-05T12:19:32.155Z"
   },
   {
    "duration": 283,
    "start_time": "2022-08-05T12:19:32.562Z"
   },
   {
    "duration": 5,
    "start_time": "2022-08-05T12:19:32.847Z"
   },
   {
    "duration": 176,
    "start_time": "2022-08-05T12:19:32.853Z"
   },
   {
    "duration": 178,
    "start_time": "2022-08-05T12:19:33.031Z"
   },
   {
    "duration": 30,
    "start_time": "2022-08-05T12:19:33.210Z"
   },
   {
    "duration": 295,
    "start_time": "2022-08-05T12:19:33.241Z"
   },
   {
    "duration": 20,
    "start_time": "2022-08-05T12:19:33.537Z"
   },
   {
    "duration": 198,
    "start_time": "2022-08-05T12:19:33.559Z"
   },
   {
    "duration": 284,
    "start_time": "2022-08-05T12:19:33.759Z"
   },
   {
    "duration": 181,
    "start_time": "2022-08-05T12:19:34.045Z"
   },
   {
    "duration": 173,
    "start_time": "2022-08-05T12:19:34.228Z"
   },
   {
    "duration": 150,
    "start_time": "2022-08-05T12:19:34.402Z"
   },
   {
    "duration": 382,
    "start_time": "2022-08-05T12:19:34.554Z"
   },
   {
    "duration": 19,
    "start_time": "2022-08-05T12:19:34.938Z"
   },
   {
    "duration": 172,
    "start_time": "2022-08-05T12:19:34.958Z"
   },
   {
    "duration": 147,
    "start_time": "2022-08-05T12:19:35.131Z"
   },
   {
    "duration": 163,
    "start_time": "2022-08-05T12:19:53.511Z"
   },
   {
    "duration": 183,
    "start_time": "2022-08-05T12:19:57.532Z"
   },
   {
    "duration": 168,
    "start_time": "2022-08-05T12:23:20.923Z"
   },
   {
    "duration": 162,
    "start_time": "2022-08-05T12:23:24.322Z"
   },
   {
    "duration": 165,
    "start_time": "2022-08-05T12:24:31.208Z"
   },
   {
    "duration": 4,
    "start_time": "2022-08-05T12:25:22.834Z"
   },
   {
    "duration": 161,
    "start_time": "2022-08-05T12:29:33.129Z"
   },
   {
    "duration": 188,
    "start_time": "2022-08-05T12:29:39.431Z"
   },
   {
    "duration": 54,
    "start_time": "2022-08-05T12:31:51.230Z"
   },
   {
    "duration": 161,
    "start_time": "2022-08-05T12:31:57.703Z"
   },
   {
    "duration": 142,
    "start_time": "2022-08-05T12:35:57.920Z"
   },
   {
    "duration": 38,
    "start_time": "2022-08-05T12:36:06.703Z"
   },
   {
    "duration": 9,
    "start_time": "2022-08-05T12:36:11.062Z"
   },
   {
    "duration": 933,
    "start_time": "2022-08-05T12:36:43.432Z"
   },
   {
    "duration": 1859,
    "start_time": "2022-08-05T12:36:44.367Z"
   },
   {
    "duration": 92,
    "start_time": "2022-08-05T12:36:46.228Z"
   },
   {
    "duration": 13,
    "start_time": "2022-08-05T12:36:46.322Z"
   },
   {
    "duration": 7,
    "start_time": "2022-08-05T12:36:46.338Z"
   },
   {
    "duration": 257,
    "start_time": "2022-08-05T12:36:46.347Z"
   },
   {
    "duration": 4,
    "start_time": "2022-08-05T12:36:46.606Z"
   },
   {
    "duration": 76,
    "start_time": "2022-08-05T12:36:46.611Z"
   },
   {
    "duration": 14,
    "start_time": "2022-08-05T12:36:46.689Z"
   },
   {
    "duration": 9,
    "start_time": "2022-08-05T12:36:46.705Z"
   },
   {
    "duration": 197,
    "start_time": "2022-08-05T12:36:46.715Z"
   },
   {
    "duration": 7,
    "start_time": "2022-08-05T12:36:46.914Z"
   },
   {
    "duration": 9,
    "start_time": "2022-08-05T12:36:46.922Z"
   },
   {
    "duration": 21,
    "start_time": "2022-08-05T12:36:46.934Z"
   },
   {
    "duration": 9,
    "start_time": "2022-08-05T12:36:46.957Z"
   },
   {
    "duration": 25,
    "start_time": "2022-08-05T12:36:46.968Z"
   },
   {
    "duration": 48,
    "start_time": "2022-08-05T12:36:46.995Z"
   },
   {
    "duration": 8,
    "start_time": "2022-08-05T12:36:47.044Z"
   },
   {
    "duration": 8,
    "start_time": "2022-08-05T12:36:47.053Z"
   },
   {
    "duration": 37,
    "start_time": "2022-08-05T12:36:47.062Z"
   },
   {
    "duration": 5,
    "start_time": "2022-08-05T12:36:47.101Z"
   },
   {
    "duration": 10,
    "start_time": "2022-08-05T12:36:47.107Z"
   },
   {
    "duration": 5,
    "start_time": "2022-08-05T12:36:47.119Z"
   },
   {
    "duration": 388,
    "start_time": "2022-08-05T12:36:47.126Z"
   },
   {
    "duration": 3,
    "start_time": "2022-08-05T12:36:47.516Z"
   },
   {
    "duration": 15,
    "start_time": "2022-08-05T12:36:47.521Z"
   },
   {
    "duration": 41,
    "start_time": "2022-08-05T12:36:47.538Z"
   },
   {
    "duration": 261,
    "start_time": "2022-08-05T12:36:47.580Z"
   },
   {
    "duration": 250,
    "start_time": "2022-08-05T12:36:47.843Z"
   },
   {
    "duration": 323,
    "start_time": "2022-08-05T12:36:48.094Z"
   },
   {
    "duration": 279,
    "start_time": "2022-08-05T12:36:48.419Z"
   },
   {
    "duration": 165,
    "start_time": "2022-08-05T12:36:48.700Z"
   },
   {
    "duration": 161,
    "start_time": "2022-08-05T12:36:48.867Z"
   },
   {
    "duration": 159,
    "start_time": "2022-08-05T12:36:49.029Z"
   },
   {
    "duration": 136,
    "start_time": "2022-08-05T12:36:49.190Z"
   },
   {
    "duration": 190,
    "start_time": "2022-08-05T12:36:49.327Z"
   },
   {
    "duration": 344,
    "start_time": "2022-08-05T12:36:49.519Z"
   },
   {
    "duration": 417,
    "start_time": "2022-08-05T12:36:49.864Z"
   },
   {
    "duration": 286,
    "start_time": "2022-08-05T12:36:50.286Z"
   },
   {
    "duration": 5,
    "start_time": "2022-08-05T12:36:50.573Z"
   },
   {
    "duration": 169,
    "start_time": "2022-08-05T12:36:50.588Z"
   },
   {
    "duration": 201,
    "start_time": "2022-08-05T12:36:50.759Z"
   },
   {
    "duration": 38,
    "start_time": "2022-08-05T12:36:50.962Z"
   },
   {
    "duration": 411,
    "start_time": "2022-08-05T12:36:51.001Z"
   },
   {
    "duration": 19,
    "start_time": "2022-08-05T12:36:51.413Z"
   },
   {
    "duration": 194,
    "start_time": "2022-08-05T12:36:51.434Z"
   },
   {
    "duration": 276,
    "start_time": "2022-08-05T12:36:51.630Z"
   },
   {
    "duration": 181,
    "start_time": "2022-08-05T12:36:51.908Z"
   },
   {
    "duration": 182,
    "start_time": "2022-08-05T12:36:52.090Z"
   },
   {
    "duration": 926,
    "start_time": "2022-08-05T12:39:32.829Z"
   },
   {
    "duration": 1833,
    "start_time": "2022-08-05T12:39:33.757Z"
   },
   {
    "duration": 71,
    "start_time": "2022-08-05T12:39:35.592Z"
   },
   {
    "duration": 9,
    "start_time": "2022-08-05T12:39:35.664Z"
   },
   {
    "duration": 4,
    "start_time": "2022-08-05T12:39:35.687Z"
   },
   {
    "duration": 232,
    "start_time": "2022-08-05T12:39:35.692Z"
   },
   {
    "duration": 4,
    "start_time": "2022-08-05T12:39:35.926Z"
   },
   {
    "duration": 65,
    "start_time": "2022-08-05T12:39:35.931Z"
   },
   {
    "duration": 16,
    "start_time": "2022-08-05T12:39:35.997Z"
   },
   {
    "duration": 14,
    "start_time": "2022-08-05T12:39:36.015Z"
   },
   {
    "duration": 189,
    "start_time": "2022-08-05T12:39:36.031Z"
   },
   {
    "duration": 6,
    "start_time": "2022-08-05T12:39:36.222Z"
   },
   {
    "duration": 29,
    "start_time": "2022-08-05T12:39:36.230Z"
   },
   {
    "duration": 54,
    "start_time": "2022-08-05T12:39:36.263Z"
   },
   {
    "duration": 11,
    "start_time": "2022-08-05T12:39:36.319Z"
   },
   {
    "duration": 35,
    "start_time": "2022-08-05T12:39:36.332Z"
   },
   {
    "duration": 78,
    "start_time": "2022-08-05T12:39:36.369Z"
   },
   {
    "duration": 10,
    "start_time": "2022-08-05T12:39:36.449Z"
   },
   {
    "duration": 21,
    "start_time": "2022-08-05T12:39:36.462Z"
   },
   {
    "duration": 31,
    "start_time": "2022-08-05T12:39:36.485Z"
   },
   {
    "duration": 24,
    "start_time": "2022-08-05T12:39:36.518Z"
   },
   {
    "duration": 21,
    "start_time": "2022-08-05T12:39:36.544Z"
   },
   {
    "duration": 25,
    "start_time": "2022-08-05T12:39:36.567Z"
   },
   {
    "duration": 404,
    "start_time": "2022-08-05T12:39:36.595Z"
   },
   {
    "duration": 4,
    "start_time": "2022-08-05T12:39:37.000Z"
   },
   {
    "duration": 15,
    "start_time": "2022-08-05T12:39:37.005Z"
   },
   {
    "duration": 42,
    "start_time": "2022-08-05T12:39:37.022Z"
   },
   {
    "duration": 274,
    "start_time": "2022-08-05T12:39:37.066Z"
   },
   {
    "duration": 276,
    "start_time": "2022-08-05T12:39:37.342Z"
   },
   {
    "duration": 303,
    "start_time": "2022-08-05T12:39:37.620Z"
   },
   {
    "duration": 308,
    "start_time": "2022-08-05T12:39:37.925Z"
   },
   {
    "duration": 164,
    "start_time": "2022-08-05T12:39:38.235Z"
   },
   {
    "duration": 158,
    "start_time": "2022-08-05T12:39:38.401Z"
   },
   {
    "duration": 146,
    "start_time": "2022-08-05T12:39:38.560Z"
   },
   {
    "duration": 127,
    "start_time": "2022-08-05T12:39:38.708Z"
   },
   {
    "duration": 185,
    "start_time": "2022-08-05T12:39:38.837Z"
   },
   {
    "duration": 337,
    "start_time": "2022-08-05T12:39:39.024Z"
   },
   {
    "duration": 431,
    "start_time": "2022-08-05T12:39:39.363Z"
   },
   {
    "duration": 305,
    "start_time": "2022-08-05T12:39:39.795Z"
   },
   {
    "duration": 5,
    "start_time": "2022-08-05T12:39:40.101Z"
   },
   {
    "duration": 209,
    "start_time": "2022-08-05T12:39:40.109Z"
   },
   {
    "duration": 199,
    "start_time": "2022-08-05T12:39:40.319Z"
   },
   {
    "duration": 34,
    "start_time": "2022-08-05T12:39:40.519Z"
   },
   {
    "duration": 304,
    "start_time": "2022-08-05T12:39:40.555Z"
   },
   {
    "duration": 29,
    "start_time": "2022-08-05T12:39:40.861Z"
   },
   {
    "duration": 170,
    "start_time": "2022-08-05T12:39:40.891Z"
   },
   {
    "duration": 267,
    "start_time": "2022-08-05T12:39:41.062Z"
   },
   {
    "duration": 179,
    "start_time": "2022-08-05T12:39:41.330Z"
   },
   {
    "duration": 178,
    "start_time": "2022-08-05T12:39:41.511Z"
   },
   {
    "duration": 151,
    "start_time": "2022-08-05T12:39:57.413Z"
   },
   {
    "duration": 159,
    "start_time": "2022-08-05T12:40:02.090Z"
   },
   {
    "duration": 152,
    "start_time": "2022-08-05T12:40:06.786Z"
   },
   {
    "duration": 154,
    "start_time": "2022-08-05T12:40:19.210Z"
   },
   {
    "duration": 151,
    "start_time": "2022-08-05T12:40:25.908Z"
   },
   {
    "duration": 171,
    "start_time": "2022-08-05T12:40:34.476Z"
   },
   {
    "duration": 165,
    "start_time": "2022-08-05T12:40:37.516Z"
   },
   {
    "duration": 20,
    "start_time": "2022-08-05T12:41:47.091Z"
   },
   {
    "duration": 69,
    "start_time": "2022-08-05T12:44:53.810Z"
   },
   {
    "duration": 14,
    "start_time": "2022-08-05T12:44:59.562Z"
   },
   {
    "duration": 8,
    "start_time": "2022-08-05T12:48:07.115Z"
   },
   {
    "duration": 10,
    "start_time": "2022-08-05T12:48:16.218Z"
   },
   {
    "duration": 8,
    "start_time": "2022-08-05T12:48:31.754Z"
   },
   {
    "duration": 8,
    "start_time": "2022-08-05T12:51:30.428Z"
   },
   {
    "duration": 1032,
    "start_time": "2022-08-05T12:52:07.049Z"
   },
   {
    "duration": 1900,
    "start_time": "2022-08-05T12:52:08.086Z"
   },
   {
    "duration": 79,
    "start_time": "2022-08-05T12:52:09.988Z"
   },
   {
    "duration": 24,
    "start_time": "2022-08-05T12:52:10.070Z"
   },
   {
    "duration": 5,
    "start_time": "2022-08-05T12:52:10.096Z"
   },
   {
    "duration": 258,
    "start_time": "2022-08-05T12:52:10.103Z"
   },
   {
    "duration": 4,
    "start_time": "2022-08-05T12:52:10.363Z"
   },
   {
    "duration": 77,
    "start_time": "2022-08-05T12:52:10.369Z"
   },
   {
    "duration": 20,
    "start_time": "2022-08-05T12:52:10.447Z"
   },
   {
    "duration": 24,
    "start_time": "2022-08-05T12:52:10.470Z"
   },
   {
    "duration": 214,
    "start_time": "2022-08-05T12:52:10.495Z"
   },
   {
    "duration": 6,
    "start_time": "2022-08-05T12:52:10.711Z"
   },
   {
    "duration": 8,
    "start_time": "2022-08-05T12:52:10.719Z"
   },
   {
    "duration": 22,
    "start_time": "2022-08-05T12:52:10.729Z"
   },
   {
    "duration": 9,
    "start_time": "2022-08-05T12:52:10.752Z"
   },
   {
    "duration": 25,
    "start_time": "2022-08-05T12:52:10.763Z"
   },
   {
    "duration": 50,
    "start_time": "2022-08-05T12:52:10.789Z"
   },
   {
    "duration": 7,
    "start_time": "2022-08-05T12:52:10.840Z"
   },
   {
    "duration": 3,
    "start_time": "2022-08-05T12:52:10.849Z"
   },
   {
    "duration": 41,
    "start_time": "2022-08-05T12:52:10.854Z"
   },
   {
    "duration": 7,
    "start_time": "2022-08-05T12:52:10.897Z"
   },
   {
    "duration": 12,
    "start_time": "2022-08-05T12:52:10.905Z"
   },
   {
    "duration": 9,
    "start_time": "2022-08-05T12:52:10.918Z"
   },
   {
    "duration": 383,
    "start_time": "2022-08-05T12:52:10.928Z"
   },
   {
    "duration": 4,
    "start_time": "2022-08-05T12:52:11.313Z"
   },
   {
    "duration": 7,
    "start_time": "2022-08-05T12:52:11.319Z"
   },
   {
    "duration": 25,
    "start_time": "2022-08-05T12:52:11.327Z"
   },
   {
    "duration": 284,
    "start_time": "2022-08-05T12:52:11.355Z"
   },
   {
    "duration": 261,
    "start_time": "2022-08-05T12:52:11.641Z"
   },
   {
    "duration": 317,
    "start_time": "2022-08-05T12:52:11.904Z"
   },
   {
    "duration": 298,
    "start_time": "2022-08-05T12:52:12.222Z"
   },
   {
    "duration": 171,
    "start_time": "2022-08-05T12:52:12.522Z"
   },
   {
    "duration": 156,
    "start_time": "2022-08-05T12:52:12.695Z"
   },
   {
    "duration": 163,
    "start_time": "2022-08-05T12:52:12.853Z"
   },
   {
    "duration": 140,
    "start_time": "2022-08-05T12:52:13.017Z"
   },
   {
    "duration": 203,
    "start_time": "2022-08-05T12:52:13.158Z"
   },
   {
    "duration": 354,
    "start_time": "2022-08-05T12:52:13.363Z"
   },
   {
    "duration": 463,
    "start_time": "2022-08-05T12:52:13.719Z"
   },
   {
    "duration": 304,
    "start_time": "2022-08-05T12:52:14.184Z"
   },
   {
    "duration": 5,
    "start_time": "2022-08-05T12:52:14.490Z"
   },
   {
    "duration": 192,
    "start_time": "2022-08-05T12:52:14.497Z"
   },
   {
    "duration": 180,
    "start_time": "2022-08-05T12:52:14.691Z"
   },
   {
    "duration": 39,
    "start_time": "2022-08-05T12:52:14.872Z"
   },
   {
    "duration": 305,
    "start_time": "2022-08-05T12:52:14.913Z"
   },
   {
    "duration": 20,
    "start_time": "2022-08-05T12:52:15.219Z"
   },
   {
    "duration": 194,
    "start_time": "2022-08-05T12:52:15.240Z"
   },
   {
    "duration": 282,
    "start_time": "2022-08-05T12:52:15.436Z"
   },
   {
    "duration": 173,
    "start_time": "2022-08-05T12:52:15.719Z"
   },
   {
    "duration": 196,
    "start_time": "2022-08-05T12:52:15.894Z"
   },
   {
    "duration": 195,
    "start_time": "2022-08-05T12:52:16.092Z"
   },
   {
    "duration": 21,
    "start_time": "2022-08-05T12:52:16.289Z"
   },
   {
    "duration": 102,
    "start_time": "2022-08-05T12:52:16.312Z"
   },
   {
    "duration": 923,
    "start_time": "2022-08-05T12:53:39.108Z"
   },
   {
    "duration": 1941,
    "start_time": "2022-08-05T12:53:40.033Z"
   },
   {
    "duration": 78,
    "start_time": "2022-08-05T12:53:41.976Z"
   },
   {
    "duration": 8,
    "start_time": "2022-08-05T12:53:42.056Z"
   },
   {
    "duration": 4,
    "start_time": "2022-08-05T12:53:42.066Z"
   },
   {
    "duration": 230,
    "start_time": "2022-08-05T12:53:42.071Z"
   },
   {
    "duration": 4,
    "start_time": "2022-08-05T12:53:42.303Z"
   },
   {
    "duration": 62,
    "start_time": "2022-08-05T12:53:42.309Z"
   },
   {
    "duration": 15,
    "start_time": "2022-08-05T12:53:42.386Z"
   },
   {
    "duration": 9,
    "start_time": "2022-08-05T12:53:42.403Z"
   },
   {
    "duration": 192,
    "start_time": "2022-08-05T12:53:42.413Z"
   },
   {
    "duration": 6,
    "start_time": "2022-08-05T12:53:42.607Z"
   },
   {
    "duration": 7,
    "start_time": "2022-08-05T12:53:42.615Z"
   },
   {
    "duration": 18,
    "start_time": "2022-08-05T12:53:42.624Z"
   },
   {
    "duration": 8,
    "start_time": "2022-08-05T12:53:42.644Z"
   },
   {
    "duration": 34,
    "start_time": "2022-08-05T12:53:42.654Z"
   },
   {
    "duration": 49,
    "start_time": "2022-08-05T12:53:42.689Z"
   },
   {
    "duration": 7,
    "start_time": "2022-08-05T12:53:42.740Z"
   },
   {
    "duration": 10,
    "start_time": "2022-08-05T12:53:42.749Z"
   },
   {
    "duration": 31,
    "start_time": "2022-08-05T12:53:42.761Z"
   },
   {
    "duration": 6,
    "start_time": "2022-08-05T12:53:42.794Z"
   },
   {
    "duration": 7,
    "start_time": "2022-08-05T12:53:42.801Z"
   },
   {
    "duration": 5,
    "start_time": "2022-08-05T12:53:42.810Z"
   },
   {
    "duration": 382,
    "start_time": "2022-08-05T12:53:42.817Z"
   },
   {
    "duration": 4,
    "start_time": "2022-08-05T12:53:43.201Z"
   },
   {
    "duration": 6,
    "start_time": "2022-08-05T12:53:43.207Z"
   },
   {
    "duration": 26,
    "start_time": "2022-08-05T12:53:43.215Z"
   },
   {
    "duration": 278,
    "start_time": "2022-08-05T12:53:43.244Z"
   },
   {
    "duration": 253,
    "start_time": "2022-08-05T12:53:43.523Z"
   },
   {
    "duration": 310,
    "start_time": "2022-08-05T12:53:43.778Z"
   },
   {
    "duration": 288,
    "start_time": "2022-08-05T12:53:44.090Z"
   },
   {
    "duration": 164,
    "start_time": "2022-08-05T12:53:44.380Z"
   },
   {
    "duration": 172,
    "start_time": "2022-08-05T12:53:44.546Z"
   },
   {
    "duration": 154,
    "start_time": "2022-08-05T12:53:44.720Z"
   },
   {
    "duration": 136,
    "start_time": "2022-08-05T12:53:44.876Z"
   },
   {
    "duration": 201,
    "start_time": "2022-08-05T12:53:45.014Z"
   },
   {
    "duration": 348,
    "start_time": "2022-08-05T12:53:45.217Z"
   },
   {
    "duration": 442,
    "start_time": "2022-08-05T12:53:45.567Z"
   },
   {
    "duration": 362,
    "start_time": "2022-08-05T12:53:46.011Z"
   },
   {
    "duration": 6,
    "start_time": "2022-08-05T12:53:46.375Z"
   },
   {
    "duration": 219,
    "start_time": "2022-08-05T12:53:46.387Z"
   },
   {
    "duration": 191,
    "start_time": "2022-08-05T12:53:46.608Z"
   },
   {
    "duration": 32,
    "start_time": "2022-08-05T12:53:46.801Z"
   },
   {
    "duration": 313,
    "start_time": "2022-08-05T12:53:46.834Z"
   },
   {
    "duration": 26,
    "start_time": "2022-08-05T12:53:47.149Z"
   },
   {
    "duration": 185,
    "start_time": "2022-08-05T12:53:47.187Z"
   },
   {
    "duration": 291,
    "start_time": "2022-08-05T12:53:47.374Z"
   },
   {
    "duration": 177,
    "start_time": "2022-08-05T12:53:47.667Z"
   },
   {
    "duration": 195,
    "start_time": "2022-08-05T12:53:47.846Z"
   },
   {
    "duration": 166,
    "start_time": "2022-08-05T12:53:48.042Z"
   },
   {
    "duration": 14,
    "start_time": "2022-08-05T12:53:48.210Z"
   },
   {
    "duration": 2,
    "start_time": "2022-08-05T12:53:48.226Z"
   },
   {
    "duration": 65,
    "start_time": "2022-08-05T12:54:12.034Z"
   },
   {
    "duration": 966,
    "start_time": "2022-08-05T12:54:14.047Z"
   },
   {
    "duration": 1991,
    "start_time": "2022-08-05T12:54:15.015Z"
   },
   {
    "duration": 72,
    "start_time": "2022-08-05T12:54:17.008Z"
   },
   {
    "duration": 11,
    "start_time": "2022-08-05T12:54:17.083Z"
   },
   {
    "duration": 4,
    "start_time": "2022-08-05T12:54:17.095Z"
   },
   {
    "duration": 249,
    "start_time": "2022-08-05T12:54:17.101Z"
   },
   {
    "duration": 5,
    "start_time": "2022-08-05T12:54:17.351Z"
   },
   {
    "duration": 64,
    "start_time": "2022-08-05T12:54:17.357Z"
   },
   {
    "duration": 16,
    "start_time": "2022-08-05T12:54:17.424Z"
   },
   {
    "duration": 9,
    "start_time": "2022-08-05T12:54:17.443Z"
   },
   {
    "duration": 220,
    "start_time": "2022-08-05T12:54:17.454Z"
   },
   {
    "duration": 14,
    "start_time": "2022-08-05T12:54:17.676Z"
   },
   {
    "duration": 7,
    "start_time": "2022-08-05T12:54:17.692Z"
   },
   {
    "duration": 19,
    "start_time": "2022-08-05T12:54:17.701Z"
   },
   {
    "duration": 8,
    "start_time": "2022-08-05T12:54:17.722Z"
   },
   {
    "duration": 10,
    "start_time": "2022-08-05T12:54:17.732Z"
   },
   {
    "duration": 75,
    "start_time": "2022-08-05T12:54:17.743Z"
   },
   {
    "duration": 9,
    "start_time": "2022-08-05T12:54:17.820Z"
   },
   {
    "duration": 6,
    "start_time": "2022-08-05T12:54:17.830Z"
   },
   {
    "duration": 16,
    "start_time": "2022-08-05T12:54:17.838Z"
   },
   {
    "duration": 31,
    "start_time": "2022-08-05T12:54:17.856Z"
   },
   {
    "duration": 6,
    "start_time": "2022-08-05T12:54:17.889Z"
   },
   {
    "duration": 7,
    "start_time": "2022-08-05T12:54:17.896Z"
   },
   {
    "duration": 390,
    "start_time": "2022-08-05T12:54:17.905Z"
   },
   {
    "duration": 4,
    "start_time": "2022-08-05T12:54:18.297Z"
   },
   {
    "duration": 7,
    "start_time": "2022-08-05T12:54:18.302Z"
   },
   {
    "duration": 24,
    "start_time": "2022-08-05T12:54:18.311Z"
   },
   {
    "duration": 302,
    "start_time": "2022-08-05T12:54:18.340Z"
   },
   {
    "duration": 264,
    "start_time": "2022-08-05T12:54:18.644Z"
   },
   {
    "duration": 353,
    "start_time": "2022-08-05T12:54:18.910Z"
   },
   {
    "duration": 336,
    "start_time": "2022-08-05T12:54:19.264Z"
   },
   {
    "duration": 173,
    "start_time": "2022-08-05T12:54:19.602Z"
   },
   {
    "duration": 164,
    "start_time": "2022-08-05T12:54:19.776Z"
   },
   {
    "duration": 172,
    "start_time": "2022-08-05T12:54:19.942Z"
   },
   {
    "duration": 136,
    "start_time": "2022-08-05T12:54:20.115Z"
   },
   {
    "duration": 210,
    "start_time": "2022-08-05T12:54:20.252Z"
   },
   {
    "duration": 374,
    "start_time": "2022-08-05T12:54:20.463Z"
   },
   {
    "duration": 446,
    "start_time": "2022-08-05T12:54:20.839Z"
   },
   {
    "duration": 314,
    "start_time": "2022-08-05T12:54:21.287Z"
   },
   {
    "duration": 5,
    "start_time": "2022-08-05T12:54:21.603Z"
   },
   {
    "duration": 190,
    "start_time": "2022-08-05T12:54:21.610Z"
   },
   {
    "duration": 185,
    "start_time": "2022-08-05T12:54:21.801Z"
   },
   {
    "duration": 34,
    "start_time": "2022-08-05T12:54:21.988Z"
   },
   {
    "duration": 330,
    "start_time": "2022-08-05T12:54:22.025Z"
   },
   {
    "duration": 30,
    "start_time": "2022-08-05T12:54:22.357Z"
   },
   {
    "duration": 209,
    "start_time": "2022-08-05T12:54:22.389Z"
   },
   {
    "duration": 297,
    "start_time": "2022-08-05T12:54:22.600Z"
   },
   {
    "duration": 205,
    "start_time": "2022-08-05T12:54:22.899Z"
   },
   {
    "duration": 219,
    "start_time": "2022-08-05T12:54:23.106Z"
   },
   {
    "duration": 182,
    "start_time": "2022-08-05T12:54:23.327Z"
   },
   {
    "duration": 20,
    "start_time": "2022-08-05T12:54:23.511Z"
   },
   {
    "duration": 2,
    "start_time": "2022-08-05T12:54:23.533Z"
   },
   {
    "duration": 182,
    "start_time": "2022-08-05T12:54:27.713Z"
   },
   {
    "duration": 982,
    "start_time": "2022-08-05T12:58:13.682Z"
   },
   {
    "duration": 2001,
    "start_time": "2022-08-05T12:58:14.665Z"
   },
   {
    "duration": 80,
    "start_time": "2022-08-05T12:58:16.668Z"
   },
   {
    "duration": 9,
    "start_time": "2022-08-05T12:58:16.750Z"
   },
   {
    "duration": 4,
    "start_time": "2022-08-05T12:58:16.761Z"
   },
   {
    "duration": 250,
    "start_time": "2022-08-05T12:58:16.767Z"
   },
   {
    "duration": 5,
    "start_time": "2022-08-05T12:58:17.018Z"
   },
   {
    "duration": 71,
    "start_time": "2022-08-05T12:58:17.024Z"
   },
   {
    "duration": 15,
    "start_time": "2022-08-05T12:58:17.096Z"
   },
   {
    "duration": 9,
    "start_time": "2022-08-05T12:58:17.113Z"
   },
   {
    "duration": 213,
    "start_time": "2022-08-05T12:58:17.123Z"
   },
   {
    "duration": 7,
    "start_time": "2022-08-05T12:58:17.338Z"
   },
   {
    "duration": 10,
    "start_time": "2022-08-05T12:58:17.346Z"
   },
   {
    "duration": 33,
    "start_time": "2022-08-05T12:58:17.359Z"
   },
   {
    "duration": 9,
    "start_time": "2022-08-05T12:58:17.394Z"
   },
   {
    "duration": 11,
    "start_time": "2022-08-05T12:58:17.404Z"
   },
   {
    "duration": 51,
    "start_time": "2022-08-05T12:58:17.417Z"
   },
   {
    "duration": 23,
    "start_time": "2022-08-05T12:58:17.469Z"
   },
   {
    "duration": 6,
    "start_time": "2022-08-05T12:58:17.494Z"
   },
   {
    "duration": 20,
    "start_time": "2022-08-05T12:58:17.501Z"
   },
   {
    "duration": 5,
    "start_time": "2022-08-05T12:58:17.522Z"
   },
   {
    "duration": 8,
    "start_time": "2022-08-05T12:58:17.529Z"
   },
   {
    "duration": 7,
    "start_time": "2022-08-05T12:58:17.539Z"
   },
   {
    "duration": 423,
    "start_time": "2022-08-05T12:58:17.548Z"
   },
   {
    "duration": 4,
    "start_time": "2022-08-05T12:58:17.972Z"
   },
   {
    "duration": 4,
    "start_time": "2022-08-05T12:58:17.987Z"
   },
   {
    "duration": 29,
    "start_time": "2022-08-05T12:58:17.992Z"
   },
   {
    "duration": 266,
    "start_time": "2022-08-05T12:58:18.023Z"
   },
   {
    "duration": 246,
    "start_time": "2022-08-05T12:58:18.290Z"
   },
   {
    "duration": 291,
    "start_time": "2022-08-05T12:58:18.537Z"
   },
   {
    "duration": 290,
    "start_time": "2022-08-05T12:58:18.830Z"
   },
   {
    "duration": 169,
    "start_time": "2022-08-05T12:58:19.122Z"
   },
   {
    "duration": 150,
    "start_time": "2022-08-05T12:58:19.293Z"
   },
   {
    "duration": 157,
    "start_time": "2022-08-05T12:58:19.445Z"
   },
   {
    "duration": 130,
    "start_time": "2022-08-05T12:58:19.604Z"
   },
   {
    "duration": 206,
    "start_time": "2022-08-05T12:58:19.736Z"
   },
   {
    "duration": 356,
    "start_time": "2022-08-05T12:58:19.944Z"
   },
   {
    "duration": 436,
    "start_time": "2022-08-05T12:58:20.301Z"
   },
   {
    "duration": 302,
    "start_time": "2022-08-05T12:58:20.738Z"
   },
   {
    "duration": 5,
    "start_time": "2022-08-05T12:58:21.042Z"
   },
   {
    "duration": 177,
    "start_time": "2022-08-05T12:58:21.050Z"
   },
   {
    "duration": 200,
    "start_time": "2022-08-05T12:58:21.229Z"
   },
   {
    "duration": 33,
    "start_time": "2022-08-05T12:58:21.431Z"
   },
   {
    "duration": 323,
    "start_time": "2022-08-05T12:58:21.466Z"
   },
   {
    "duration": 20,
    "start_time": "2022-08-05T12:58:21.790Z"
   },
   {
    "duration": 195,
    "start_time": "2022-08-05T12:58:21.812Z"
   },
   {
    "duration": 301,
    "start_time": "2022-08-05T12:58:22.008Z"
   },
   {
    "duration": 183,
    "start_time": "2022-08-05T12:58:22.311Z"
   },
   {
    "duration": 178,
    "start_time": "2022-08-05T12:58:22.496Z"
   },
   {
    "duration": 162,
    "start_time": "2022-08-05T12:58:22.675Z"
   },
   {
    "duration": 14,
    "start_time": "2022-08-05T12:58:22.839Z"
   },
   {
    "duration": 2,
    "start_time": "2022-08-05T12:58:22.855Z"
   },
   {
    "duration": 92,
    "start_time": "2022-08-05T12:58:27.364Z"
   },
   {
    "duration": 15,
    "start_time": "2022-08-05T13:03:04.567Z"
   },
   {
    "duration": 164,
    "start_time": "2022-08-05T13:03:17.941Z"
   },
   {
    "duration": 9,
    "start_time": "2022-08-05T13:03:26.980Z"
   },
   {
    "duration": 161,
    "start_time": "2022-08-05T13:03:30.299Z"
   },
   {
    "duration": 14,
    "start_time": "2022-08-05T13:04:30.420Z"
   },
   {
    "duration": 23,
    "start_time": "2022-08-05T13:04:39.162Z"
   },
   {
    "duration": 975,
    "start_time": "2022-08-05T13:04:58.252Z"
   },
   {
    "duration": 1849,
    "start_time": "2022-08-05T13:04:59.229Z"
   },
   {
    "duration": 74,
    "start_time": "2022-08-05T13:05:01.080Z"
   },
   {
    "duration": 9,
    "start_time": "2022-08-05T13:05:01.156Z"
   },
   {
    "duration": 14,
    "start_time": "2022-08-05T13:05:01.166Z"
   },
   {
    "duration": 268,
    "start_time": "2022-08-05T13:05:01.186Z"
   },
   {
    "duration": 4,
    "start_time": "2022-08-05T13:05:01.456Z"
   },
   {
    "duration": 72,
    "start_time": "2022-08-05T13:05:01.462Z"
   },
   {
    "duration": 15,
    "start_time": "2022-08-05T13:05:01.535Z"
   },
   {
    "duration": 27,
    "start_time": "2022-08-05T13:05:01.552Z"
   },
   {
    "duration": 211,
    "start_time": "2022-08-05T13:05:01.580Z"
   },
   {
    "duration": 7,
    "start_time": "2022-08-05T13:05:01.793Z"
   },
   {
    "duration": 18,
    "start_time": "2022-08-05T13:05:01.802Z"
   },
   {
    "duration": 34,
    "start_time": "2022-08-05T13:05:01.822Z"
   },
   {
    "duration": 10,
    "start_time": "2022-08-05T13:05:01.858Z"
   },
   {
    "duration": 17,
    "start_time": "2022-08-05T13:05:01.869Z"
   },
   {
    "duration": 58,
    "start_time": "2022-08-05T13:05:01.888Z"
   },
   {
    "duration": 8,
    "start_time": "2022-08-05T13:05:01.948Z"
   },
   {
    "duration": 45,
    "start_time": "2022-08-05T13:05:01.957Z"
   },
   {
    "duration": 25,
    "start_time": "2022-08-05T13:05:14.799Z"
   },
   {
    "duration": 15,
    "start_time": "2022-08-05T13:05:18.679Z"
   },
   {
    "duration": 27,
    "start_time": "2022-08-05T13:05:23.350Z"
   },
   {
    "duration": 932,
    "start_time": "2022-08-05T13:05:40.861Z"
   },
   {
    "duration": 1792,
    "start_time": "2022-08-05T13:05:41.794Z"
   },
   {
    "duration": 70,
    "start_time": "2022-08-05T13:05:43.588Z"
   },
   {
    "duration": 8,
    "start_time": "2022-08-05T13:05:43.660Z"
   },
   {
    "duration": 18,
    "start_time": "2022-08-05T13:05:43.669Z"
   },
   {
    "duration": 217,
    "start_time": "2022-08-05T13:05:43.689Z"
   },
   {
    "duration": 4,
    "start_time": "2022-08-05T13:05:43.908Z"
   },
   {
    "duration": 57,
    "start_time": "2022-08-05T13:05:43.913Z"
   },
   {
    "duration": 29,
    "start_time": "2022-08-05T13:05:43.972Z"
   },
   {
    "duration": 10,
    "start_time": "2022-08-05T13:05:44.005Z"
   },
   {
    "duration": 192,
    "start_time": "2022-08-05T13:05:44.017Z"
   },
   {
    "duration": 8,
    "start_time": "2022-08-05T13:05:44.211Z"
   },
   {
    "duration": 12,
    "start_time": "2022-08-05T13:05:44.220Z"
   },
   {
    "duration": 19,
    "start_time": "2022-08-05T13:05:44.233Z"
   },
   {
    "duration": 9,
    "start_time": "2022-08-05T13:05:44.254Z"
   },
   {
    "duration": 8,
    "start_time": "2022-08-05T13:05:44.286Z"
   },
   {
    "duration": 48,
    "start_time": "2022-08-05T13:05:44.296Z"
   },
   {
    "duration": 9,
    "start_time": "2022-08-05T13:05:44.346Z"
   },
   {
    "duration": 8,
    "start_time": "2022-08-05T13:05:44.356Z"
   },
   {
    "duration": 14,
    "start_time": "2022-08-05T13:05:44.387Z"
   },
   {
    "duration": 11,
    "start_time": "2022-08-05T13:05:44.402Z"
   },
   {
    "duration": 6,
    "start_time": "2022-08-05T13:05:44.414Z"
   },
   {
    "duration": 5,
    "start_time": "2022-08-05T13:05:44.421Z"
   },
   {
    "duration": 369,
    "start_time": "2022-08-05T13:05:44.427Z"
   },
   {
    "duration": 5,
    "start_time": "2022-08-05T13:05:44.798Z"
   },
   {
    "duration": 6,
    "start_time": "2022-08-05T13:05:44.804Z"
   },
   {
    "duration": 34,
    "start_time": "2022-08-05T13:05:44.812Z"
   },
   {
    "duration": 293,
    "start_time": "2022-08-05T13:05:44.850Z"
   },
   {
    "duration": 243,
    "start_time": "2022-08-05T13:05:45.145Z"
   },
   {
    "duration": 294,
    "start_time": "2022-08-05T13:05:45.390Z"
   },
   {
    "duration": 283,
    "start_time": "2022-08-05T13:05:45.687Z"
   },
   {
    "duration": 185,
    "start_time": "2022-08-05T13:05:45.972Z"
   },
   {
    "duration": 212,
    "start_time": "2022-08-05T13:05:46.159Z"
   },
   {
    "duration": 192,
    "start_time": "2022-08-05T13:05:46.373Z"
   },
   {
    "duration": 137,
    "start_time": "2022-08-05T13:05:46.567Z"
   },
   {
    "duration": 183,
    "start_time": "2022-08-05T13:05:46.705Z"
   },
   {
    "duration": 340,
    "start_time": "2022-08-05T13:05:46.890Z"
   },
   {
    "duration": 443,
    "start_time": "2022-08-05T13:05:47.231Z"
   },
   {
    "duration": 275,
    "start_time": "2022-08-05T13:05:47.676Z"
   },
   {
    "duration": 4,
    "start_time": "2022-08-05T13:05:47.953Z"
   },
   {
    "duration": 173,
    "start_time": "2022-08-05T13:05:47.958Z"
   },
   {
    "duration": 177,
    "start_time": "2022-08-05T13:05:48.132Z"
   },
   {
    "duration": 30,
    "start_time": "2022-08-05T13:05:48.311Z"
   },
   {
    "duration": 294,
    "start_time": "2022-08-05T13:05:48.342Z"
   },
   {
    "duration": 20,
    "start_time": "2022-08-05T13:05:48.638Z"
   },
   {
    "duration": 181,
    "start_time": "2022-08-05T13:05:48.659Z"
   },
   {
    "duration": 279,
    "start_time": "2022-08-05T13:05:48.841Z"
   },
   {
    "duration": 173,
    "start_time": "2022-08-05T13:05:49.122Z"
   },
   {
    "duration": 174,
    "start_time": "2022-08-05T13:05:49.297Z"
   },
   {
    "duration": 169,
    "start_time": "2022-08-05T13:05:49.473Z"
   },
   {
    "duration": 164,
    "start_time": "2022-08-05T13:05:49.644Z"
   },
   {
    "duration": 17,
    "start_time": "2022-08-05T13:05:49.810Z"
   },
   {
    "duration": 2,
    "start_time": "2022-08-05T13:05:49.829Z"
   },
   {
    "duration": 109,
    "start_time": "2022-08-05T13:05:49.833Z"
   },
   {
    "duration": 0,
    "start_time": "2022-08-05T13:05:49.944Z"
   },
   {
    "duration": 0,
    "start_time": "2022-08-05T13:05:49.945Z"
   },
   {
    "duration": 0,
    "start_time": "2022-08-05T13:05:49.946Z"
   },
   {
    "duration": 0,
    "start_time": "2022-08-05T13:05:49.947Z"
   },
   {
    "duration": 0,
    "start_time": "2022-08-05T13:05:49.948Z"
   },
   {
    "duration": 237,
    "start_time": "2022-08-05T13:15:08.196Z"
   },
   {
    "duration": 154,
    "start_time": "2022-08-05T13:18:13.723Z"
   },
   {
    "duration": 147,
    "start_time": "2022-08-05T13:19:02.219Z"
   },
   {
    "duration": 145,
    "start_time": "2022-08-05T13:19:08.722Z"
   },
   {
    "duration": 374,
    "start_time": "2022-08-05T13:21:04.561Z"
   },
   {
    "duration": 18,
    "start_time": "2022-08-05T13:21:28.626Z"
   },
   {
    "duration": 15,
    "start_time": "2022-08-05T13:21:37.338Z"
   },
   {
    "duration": 24,
    "start_time": "2022-08-05T13:21:44.897Z"
   },
   {
    "duration": 26,
    "start_time": "2022-08-05T13:22:10.265Z"
   },
   {
    "duration": 22,
    "start_time": "2022-08-05T13:22:28.225Z"
   },
   {
    "duration": 392,
    "start_time": "2022-08-05T13:22:49.393Z"
   },
   {
    "duration": 145,
    "start_time": "2022-08-05T13:26:09.063Z"
   },
   {
    "duration": 138,
    "start_time": "2022-08-05T13:26:31.232Z"
   },
   {
    "duration": 395,
    "start_time": "2022-08-05T13:31:37.566Z"
   },
   {
    "duration": 551,
    "start_time": "2022-08-05T13:32:19.072Z"
   },
   {
    "duration": 584,
    "start_time": "2022-08-05T13:32:34.638Z"
   },
   {
    "duration": 610,
    "start_time": "2022-08-05T13:33:09.098Z"
   },
   {
    "duration": 625,
    "start_time": "2022-08-05T13:33:35.862Z"
   },
   {
    "duration": 670,
    "start_time": "2022-08-05T13:34:12.350Z"
   },
   {
    "duration": 556,
    "start_time": "2022-08-05T13:34:17.838Z"
   },
   {
    "duration": 524,
    "start_time": "2022-08-05T13:35:29.919Z"
   },
   {
    "duration": 687,
    "start_time": "2022-08-05T13:36:23.114Z"
   },
   {
    "duration": 726,
    "start_time": "2022-08-05T13:37:19.077Z"
   },
   {
    "duration": 728,
    "start_time": "2022-08-05T13:37:31.349Z"
   },
   {
    "duration": 526,
    "start_time": "2022-08-05T13:37:51.167Z"
   },
   {
    "duration": 521,
    "start_time": "2022-08-05T13:38:01.493Z"
   },
   {
    "duration": 534,
    "start_time": "2022-08-05T13:38:05.172Z"
   },
   {
    "duration": 549,
    "start_time": "2022-08-05T13:38:37.427Z"
   },
   {
    "duration": 2203,
    "start_time": "2022-08-05T13:41:39.780Z"
   },
   {
    "duration": 751,
    "start_time": "2022-08-05T13:41:45.773Z"
   },
   {
    "duration": 1220,
    "start_time": "2022-08-05T13:42:45.660Z"
   },
   {
    "duration": 1408,
    "start_time": "2022-08-05T13:42:52.138Z"
   },
   {
    "duration": 1400,
    "start_time": "2022-08-05T13:42:58.283Z"
   },
   {
    "duration": 413,
    "start_time": "2022-08-05T13:43:04.075Z"
   },
   {
    "duration": 521,
    "start_time": "2022-08-05T13:43:22.909Z"
   },
   {
    "duration": 578,
    "start_time": "2022-08-05T13:45:14.289Z"
   },
   {
    "duration": 564,
    "start_time": "2022-08-05T13:45:39.865Z"
   },
   {
    "duration": 549,
    "start_time": "2022-08-05T13:45:48.888Z"
   },
   {
    "duration": 1116,
    "start_time": "2022-08-05T13:48:47.602Z"
   },
   {
    "duration": 1894,
    "start_time": "2022-08-05T13:48:48.720Z"
   },
   {
    "duration": 71,
    "start_time": "2022-08-05T13:48:50.616Z"
   },
   {
    "duration": 8,
    "start_time": "2022-08-05T13:48:50.689Z"
   },
   {
    "duration": 16,
    "start_time": "2022-08-05T13:48:50.698Z"
   },
   {
    "duration": 271,
    "start_time": "2022-08-05T13:48:50.715Z"
   },
   {
    "duration": 4,
    "start_time": "2022-08-05T13:48:50.988Z"
   },
   {
    "duration": 67,
    "start_time": "2022-08-05T13:48:50.994Z"
   },
   {
    "duration": 33,
    "start_time": "2022-08-05T13:48:51.062Z"
   },
   {
    "duration": 10,
    "start_time": "2022-08-05T13:48:51.097Z"
   },
   {
    "duration": 321,
    "start_time": "2022-08-05T13:48:51.109Z"
   },
   {
    "duration": 7,
    "start_time": "2022-08-05T13:48:51.433Z"
   },
   {
    "duration": 7,
    "start_time": "2022-08-05T13:48:51.441Z"
   },
   {
    "duration": 44,
    "start_time": "2022-08-05T13:48:51.450Z"
   },
   {
    "duration": 9,
    "start_time": "2022-08-05T13:48:51.496Z"
   },
   {
    "duration": 8,
    "start_time": "2022-08-05T13:48:51.506Z"
   },
   {
    "duration": 49,
    "start_time": "2022-08-05T13:48:51.516Z"
   },
   {
    "duration": 8,
    "start_time": "2022-08-05T13:48:51.587Z"
   },
   {
    "duration": 12,
    "start_time": "2022-08-05T13:48:51.598Z"
   },
   {
    "duration": 22,
    "start_time": "2022-08-05T13:48:51.611Z"
   },
   {
    "duration": 5,
    "start_time": "2022-08-05T13:48:51.635Z"
   },
   {
    "duration": 6,
    "start_time": "2022-08-05T13:48:51.642Z"
   },
   {
    "duration": 6,
    "start_time": "2022-08-05T13:48:51.650Z"
   },
   {
    "duration": 384,
    "start_time": "2022-08-05T13:48:51.658Z"
   },
   {
    "duration": 4,
    "start_time": "2022-08-05T13:48:52.043Z"
   },
   {
    "duration": 7,
    "start_time": "2022-08-05T13:48:52.049Z"
   },
   {
    "duration": 36,
    "start_time": "2022-08-05T13:48:52.057Z"
   },
   {
    "duration": 269,
    "start_time": "2022-08-05T13:48:52.096Z"
   },
   {
    "duration": 253,
    "start_time": "2022-08-05T13:48:52.367Z"
   },
   {
    "duration": 293,
    "start_time": "2022-08-05T13:48:52.622Z"
   },
   {
    "duration": 283,
    "start_time": "2022-08-05T13:48:52.917Z"
   },
   {
    "duration": 170,
    "start_time": "2022-08-05T13:48:53.202Z"
   },
   {
    "duration": 158,
    "start_time": "2022-08-05T13:48:53.374Z"
   },
   {
    "duration": 165,
    "start_time": "2022-08-05T13:48:53.534Z"
   },
   {
    "duration": 132,
    "start_time": "2022-08-05T13:48:53.700Z"
   },
   {
    "duration": 217,
    "start_time": "2022-08-05T13:48:53.833Z"
   },
   {
    "duration": 341,
    "start_time": "2022-08-05T13:48:54.052Z"
   },
   {
    "duration": 413,
    "start_time": "2022-08-05T13:48:54.394Z"
   },
   {
    "duration": 296,
    "start_time": "2022-08-05T13:48:54.808Z"
   },
   {
    "duration": 4,
    "start_time": "2022-08-05T13:48:55.106Z"
   },
   {
    "duration": 168,
    "start_time": "2022-08-05T13:48:55.111Z"
   },
   {
    "duration": 171,
    "start_time": "2022-08-05T13:48:55.280Z"
   },
   {
    "duration": 37,
    "start_time": "2022-08-05T13:48:55.452Z"
   },
   {
    "duration": 309,
    "start_time": "2022-08-05T13:48:55.491Z"
   },
   {
    "duration": 19,
    "start_time": "2022-08-05T13:48:55.802Z"
   },
   {
    "duration": 185,
    "start_time": "2022-08-05T13:48:55.823Z"
   },
   {
    "duration": 320,
    "start_time": "2022-08-05T13:48:56.009Z"
   },
   {
    "duration": 199,
    "start_time": "2022-08-05T13:48:56.332Z"
   },
   {
    "duration": 188,
    "start_time": "2022-08-05T13:48:56.533Z"
   },
   {
    "duration": 169,
    "start_time": "2022-08-05T13:48:56.722Z"
   },
   {
    "duration": 146,
    "start_time": "2022-08-05T13:48:56.893Z"
   },
   {
    "duration": 149,
    "start_time": "2022-08-05T13:48:57.040Z"
   },
   {
    "duration": 134,
    "start_time": "2022-08-05T13:48:57.191Z"
   },
   {
    "duration": 86,
    "start_time": "2022-08-05T13:48:58.301Z"
   },
   {
    "duration": 25,
    "start_time": "2022-08-05T13:49:45.092Z"
   },
   {
    "duration": 23,
    "start_time": "2022-08-05T13:51:06.133Z"
   },
   {
    "duration": 28,
    "start_time": "2022-08-05T13:51:29.796Z"
   },
   {
    "duration": 1024,
    "start_time": "2022-08-05T13:51:35.756Z"
   },
   {
    "duration": 1844,
    "start_time": "2022-08-05T13:51:36.782Z"
   },
   {
    "duration": 73,
    "start_time": "2022-08-05T13:51:38.628Z"
   },
   {
    "duration": 8,
    "start_time": "2022-08-05T13:51:38.703Z"
   },
   {
    "duration": 6,
    "start_time": "2022-08-05T13:51:38.712Z"
   },
   {
    "duration": 220,
    "start_time": "2022-08-05T13:51:38.720Z"
   },
   {
    "duration": 5,
    "start_time": "2022-08-05T13:51:38.941Z"
   },
   {
    "duration": 71,
    "start_time": "2022-08-05T13:51:38.947Z"
   },
   {
    "duration": 14,
    "start_time": "2022-08-05T13:51:39.020Z"
   },
   {
    "duration": 15,
    "start_time": "2022-08-05T13:51:39.036Z"
   },
   {
    "duration": 191,
    "start_time": "2022-08-05T13:51:39.052Z"
   },
   {
    "duration": 7,
    "start_time": "2022-08-05T13:51:39.245Z"
   },
   {
    "duration": 9,
    "start_time": "2022-08-05T13:51:39.253Z"
   },
   {
    "duration": 35,
    "start_time": "2022-08-05T13:51:39.264Z"
   },
   {
    "duration": 10,
    "start_time": "2022-08-05T13:51:39.301Z"
   },
   {
    "duration": 19,
    "start_time": "2022-08-05T13:51:39.313Z"
   },
   {
    "duration": 52,
    "start_time": "2022-08-05T13:51:39.334Z"
   },
   {
    "duration": 7,
    "start_time": "2022-08-05T13:51:39.388Z"
   },
   {
    "duration": 7,
    "start_time": "2022-08-05T13:51:39.396Z"
   },
   {
    "duration": 15,
    "start_time": "2022-08-05T13:51:39.405Z"
   },
   {
    "duration": 5,
    "start_time": "2022-08-05T13:51:39.421Z"
   },
   {
    "duration": 8,
    "start_time": "2022-08-05T13:51:39.428Z"
   },
   {
    "duration": 6,
    "start_time": "2022-08-05T13:51:39.438Z"
   },
   {
    "duration": 396,
    "start_time": "2022-08-05T13:51:39.445Z"
   },
   {
    "duration": 4,
    "start_time": "2022-08-05T13:51:39.843Z"
   },
   {
    "duration": 10,
    "start_time": "2022-08-05T13:51:39.849Z"
   },
   {
    "duration": 29,
    "start_time": "2022-08-05T13:51:39.860Z"
   },
   {
    "duration": 285,
    "start_time": "2022-08-05T13:51:39.892Z"
   },
   {
    "duration": 273,
    "start_time": "2022-08-05T13:51:40.179Z"
   },
   {
    "duration": 301,
    "start_time": "2022-08-05T13:51:40.454Z"
   },
   {
    "duration": 284,
    "start_time": "2022-08-05T13:51:40.757Z"
   },
   {
    "duration": 168,
    "start_time": "2022-08-05T13:51:41.043Z"
   },
   {
    "duration": 153,
    "start_time": "2022-08-05T13:51:41.213Z"
   },
   {
    "duration": 154,
    "start_time": "2022-08-05T13:51:41.367Z"
   },
   {
    "duration": 139,
    "start_time": "2022-08-05T13:51:41.523Z"
   },
   {
    "duration": 196,
    "start_time": "2022-08-05T13:51:41.663Z"
   },
   {
    "duration": 347,
    "start_time": "2022-08-05T13:51:41.861Z"
   },
   {
    "duration": 418,
    "start_time": "2022-08-05T13:51:42.210Z"
   },
   {
    "duration": 287,
    "start_time": "2022-08-05T13:51:42.629Z"
   },
   {
    "duration": 5,
    "start_time": "2022-08-05T13:51:42.917Z"
   },
   {
    "duration": 188,
    "start_time": "2022-08-05T13:51:42.924Z"
   },
   {
    "duration": 182,
    "start_time": "2022-08-05T13:51:43.114Z"
   },
   {
    "duration": 39,
    "start_time": "2022-08-05T13:51:43.298Z"
   },
   {
    "duration": 307,
    "start_time": "2022-08-05T13:51:43.338Z"
   },
   {
    "duration": 20,
    "start_time": "2022-08-05T13:51:43.647Z"
   },
   {
    "duration": 197,
    "start_time": "2022-08-05T13:51:43.669Z"
   },
   {
    "duration": 299,
    "start_time": "2022-08-05T13:51:43.869Z"
   },
   {
    "duration": 174,
    "start_time": "2022-08-05T13:51:44.170Z"
   },
   {
    "duration": 187,
    "start_time": "2022-08-05T13:51:44.346Z"
   },
   {
    "duration": 169,
    "start_time": "2022-08-05T13:51:44.534Z"
   },
   {
    "duration": 146,
    "start_time": "2022-08-05T13:51:44.705Z"
   },
   {
    "duration": 161,
    "start_time": "2022-08-05T13:51:44.853Z"
   },
   {
    "duration": 158,
    "start_time": "2022-08-05T13:51:45.015Z"
   },
   {
    "duration": 125,
    "start_time": "2022-08-05T13:51:53.933Z"
   },
   {
    "duration": 24,
    "start_time": "2022-08-05T13:52:22.337Z"
   },
   {
    "duration": 25,
    "start_time": "2022-08-05T13:52:29.733Z"
   },
   {
    "duration": 23,
    "start_time": "2022-08-05T13:52:41.848Z"
   },
   {
    "duration": 178,
    "start_time": "2022-08-05T13:53:02.361Z"
   },
   {
    "duration": 243,
    "start_time": "2022-08-05T13:53:49.621Z"
   },
   {
    "duration": 228,
    "start_time": "2022-08-05T13:54:07.731Z"
   },
   {
    "duration": 235,
    "start_time": "2022-08-05T13:54:17.429Z"
   },
   {
    "duration": 562,
    "start_time": "2022-08-05T13:54:43.832Z"
   },
   {
    "duration": 557,
    "start_time": "2022-08-05T13:55:00.863Z"
   },
   {
    "duration": 548,
    "start_time": "2022-08-05T13:55:04.166Z"
   },
   {
    "duration": 686,
    "start_time": "2022-08-05T13:55:07.446Z"
   },
   {
    "duration": 554,
    "start_time": "2022-08-05T13:55:27.424Z"
   },
   {
    "duration": 208,
    "start_time": "2022-08-05T13:55:41.358Z"
   },
   {
    "duration": 372,
    "start_time": "2022-08-05T13:56:08.332Z"
   },
   {
    "duration": 74,
    "start_time": "2022-08-05T13:56:26.028Z"
   },
   {
    "duration": 370,
    "start_time": "2022-08-05T13:56:30.933Z"
   },
   {
    "duration": 382,
    "start_time": "2022-08-05T13:57:21.532Z"
   },
   {
    "duration": 1220,
    "start_time": "2022-08-05T13:57:52.377Z"
   },
   {
    "duration": 1855,
    "start_time": "2022-08-05T13:57:53.599Z"
   },
   {
    "duration": 70,
    "start_time": "2022-08-05T13:57:55.456Z"
   },
   {
    "duration": 8,
    "start_time": "2022-08-05T13:57:55.528Z"
   },
   {
    "duration": 6,
    "start_time": "2022-08-05T13:57:55.537Z"
   },
   {
    "duration": 235,
    "start_time": "2022-08-05T13:57:55.544Z"
   },
   {
    "duration": 7,
    "start_time": "2022-08-05T13:57:55.781Z"
   },
   {
    "duration": 56,
    "start_time": "2022-08-05T13:57:55.790Z"
   },
   {
    "duration": 14,
    "start_time": "2022-08-05T13:57:55.848Z"
   },
   {
    "duration": 30,
    "start_time": "2022-08-05T13:57:55.864Z"
   },
   {
    "duration": 209,
    "start_time": "2022-08-05T13:57:55.896Z"
   },
   {
    "duration": 6,
    "start_time": "2022-08-05T13:57:56.107Z"
   },
   {
    "duration": 8,
    "start_time": "2022-08-05T13:57:56.114Z"
   },
   {
    "duration": 27,
    "start_time": "2022-08-05T13:57:56.123Z"
   },
   {
    "duration": 8,
    "start_time": "2022-08-05T13:57:56.152Z"
   },
   {
    "duration": 32,
    "start_time": "2022-08-05T13:57:56.162Z"
   },
   {
    "duration": 69,
    "start_time": "2022-08-05T13:57:56.196Z"
   },
   {
    "duration": 24,
    "start_time": "2022-08-05T13:57:56.267Z"
   },
   {
    "duration": 9,
    "start_time": "2022-08-05T13:57:56.294Z"
   },
   {
    "duration": 23,
    "start_time": "2022-08-05T13:57:56.305Z"
   },
   {
    "duration": 6,
    "start_time": "2022-08-05T13:57:56.330Z"
   },
   {
    "duration": 12,
    "start_time": "2022-08-05T13:57:56.338Z"
   },
   {
    "duration": 13,
    "start_time": "2022-08-05T13:57:56.352Z"
   },
   {
    "duration": 420,
    "start_time": "2022-08-05T13:57:56.367Z"
   },
   {
    "duration": 4,
    "start_time": "2022-08-05T13:57:56.789Z"
   },
   {
    "duration": 9,
    "start_time": "2022-08-05T13:57:56.795Z"
   },
   {
    "duration": 24,
    "start_time": "2022-08-05T13:57:56.805Z"
   },
   {
    "duration": 288,
    "start_time": "2022-08-05T13:57:56.833Z"
   },
   {
    "duration": 252,
    "start_time": "2022-08-05T13:57:57.122Z"
   },
   {
    "duration": 321,
    "start_time": "2022-08-05T13:57:57.376Z"
   },
   {
    "duration": 297,
    "start_time": "2022-08-05T13:57:57.698Z"
   },
   {
    "duration": 176,
    "start_time": "2022-08-05T13:57:57.997Z"
   },
   {
    "duration": 169,
    "start_time": "2022-08-05T13:57:58.175Z"
   },
   {
    "duration": 160,
    "start_time": "2022-08-05T13:57:58.346Z"
   },
   {
    "duration": 149,
    "start_time": "2022-08-05T13:57:58.508Z"
   },
   {
    "duration": 198,
    "start_time": "2022-08-05T13:57:58.658Z"
   },
   {
    "duration": 343,
    "start_time": "2022-08-05T13:57:58.857Z"
   },
   {
    "duration": 411,
    "start_time": "2022-08-05T13:57:59.201Z"
   },
   {
    "duration": 303,
    "start_time": "2022-08-05T13:57:59.614Z"
   },
   {
    "duration": 5,
    "start_time": "2022-08-05T13:57:59.919Z"
   },
   {
    "duration": 203,
    "start_time": "2022-08-05T13:57:59.926Z"
   },
   {
    "duration": 181,
    "start_time": "2022-08-05T13:58:00.131Z"
   },
   {
    "duration": 31,
    "start_time": "2022-08-05T13:58:00.314Z"
   },
   {
    "duration": 311,
    "start_time": "2022-08-05T13:58:00.347Z"
   },
   {
    "duration": 35,
    "start_time": "2022-08-05T13:58:00.660Z"
   },
   {
    "duration": 185,
    "start_time": "2022-08-05T13:58:00.697Z"
   },
   {
    "duration": 285,
    "start_time": "2022-08-05T13:58:00.886Z"
   },
   {
    "duration": 176,
    "start_time": "2022-08-05T13:58:01.173Z"
   },
   {
    "duration": 187,
    "start_time": "2022-08-05T13:58:01.350Z"
   },
   {
    "duration": 181,
    "start_time": "2022-08-05T13:58:01.539Z"
   },
   {
    "duration": 157,
    "start_time": "2022-08-05T13:58:01.722Z"
   },
   {
    "duration": 163,
    "start_time": "2022-08-05T13:58:01.880Z"
   },
   {
    "duration": 157,
    "start_time": "2022-08-05T13:58:02.044Z"
   },
   {
    "duration": 219,
    "start_time": "2022-08-05T13:58:02.202Z"
   },
   {
    "duration": 570,
    "start_time": "2022-08-05T13:58:02.423Z"
   },
   {
    "duration": 378,
    "start_time": "2022-08-05T13:58:02.994Z"
   },
   {
    "duration": 4,
    "start_time": "2022-08-05T13:58:21.829Z"
   },
   {
    "duration": 376,
    "start_time": "2022-08-05T13:58:24.301Z"
   },
   {
    "duration": 394,
    "start_time": "2022-08-05T13:58:36.437Z"
   },
   {
    "duration": 388,
    "start_time": "2022-08-05T13:58:40.572Z"
   },
   {
    "duration": 549,
    "start_time": "2022-08-05T13:59:08.892Z"
   },
   {
    "duration": 596,
    "start_time": "2022-08-05T13:59:15.724Z"
   },
   {
    "duration": 554,
    "start_time": "2022-08-05T13:59:21.020Z"
   },
   {
    "duration": 592,
    "start_time": "2022-08-05T13:59:39.756Z"
   },
   {
    "duration": 545,
    "start_time": "2022-08-05T13:59:50.403Z"
   },
   {
    "duration": 93,
    "start_time": "2022-08-05T14:00:53.839Z"
   },
   {
    "duration": 21,
    "start_time": "2022-08-05T14:00:58.811Z"
   },
   {
    "duration": 282,
    "start_time": "2022-08-05T14:01:03.866Z"
   },
   {
    "duration": 1014,
    "start_time": "2022-08-05T14:05:19.974Z"
   },
   {
    "duration": 1781,
    "start_time": "2022-08-05T14:05:20.990Z"
   },
   {
    "duration": 72,
    "start_time": "2022-08-05T14:05:22.773Z"
   },
   {
    "duration": 10,
    "start_time": "2022-08-05T14:05:22.847Z"
   },
   {
    "duration": 5,
    "start_time": "2022-08-05T14:05:22.858Z"
   },
   {
    "duration": 238,
    "start_time": "2022-08-05T14:05:22.865Z"
   },
   {
    "duration": 5,
    "start_time": "2022-08-05T14:05:23.105Z"
   },
   {
    "duration": 54,
    "start_time": "2022-08-05T14:05:23.111Z"
   },
   {
    "duration": 32,
    "start_time": "2022-08-05T14:05:23.167Z"
   },
   {
    "duration": 9,
    "start_time": "2022-08-05T14:05:23.202Z"
   },
   {
    "duration": 190,
    "start_time": "2022-08-05T14:05:23.213Z"
   },
   {
    "duration": 7,
    "start_time": "2022-08-05T14:05:23.405Z"
   },
   {
    "duration": 25,
    "start_time": "2022-08-05T14:05:23.414Z"
   },
   {
    "duration": 6,
    "start_time": "2022-08-05T14:05:39.789Z"
   },
   {
    "duration": 49,
    "start_time": "2022-08-05T14:06:23.214Z"
   },
   {
    "duration": 52,
    "start_time": "2022-08-05T14:06:34.138Z"
   },
   {
    "duration": 2,
    "start_time": "2022-08-05T14:22:43.315Z"
   },
   {
    "duration": 1195,
    "start_time": "2022-08-05T14:23:59.550Z"
   },
   {
    "duration": 1895,
    "start_time": "2022-08-05T14:24:00.747Z"
   },
   {
    "duration": 72,
    "start_time": "2022-08-05T14:24:02.644Z"
   },
   {
    "duration": 9,
    "start_time": "2022-08-05T14:24:02.719Z"
   },
   {
    "duration": 23,
    "start_time": "2022-08-05T14:24:02.730Z"
   },
   {
    "duration": 223,
    "start_time": "2022-08-05T14:24:02.755Z"
   },
   {
    "duration": 9,
    "start_time": "2022-08-05T14:24:02.979Z"
   },
   {
    "duration": 78,
    "start_time": "2022-08-05T14:24:02.990Z"
   },
   {
    "duration": 14,
    "start_time": "2022-08-05T14:24:03.070Z"
   },
   {
    "duration": 8,
    "start_time": "2022-08-05T14:24:03.086Z"
   },
   {
    "duration": 186,
    "start_time": "2022-08-05T14:24:03.095Z"
   },
   {
    "duration": 8,
    "start_time": "2022-08-05T14:24:03.282Z"
   },
   {
    "duration": 22,
    "start_time": "2022-08-05T14:24:03.292Z"
   },
   {
    "duration": 2,
    "start_time": "2022-08-05T14:24:03.316Z"
   },
   {
    "duration": 50,
    "start_time": "2022-08-05T14:24:08.108Z"
   },
   {
    "duration": 871,
    "start_time": "2022-08-05T14:24:13.229Z"
   },
   {
    "duration": 18,
    "start_time": "2022-08-05T14:24:15.269Z"
   },
   {
    "duration": 18,
    "start_time": "2022-08-05T14:24:17.172Z"
   },
   {
    "duration": 809,
    "start_time": "2022-08-05T14:24:30.981Z"
   },
   {
    "duration": 11,
    "start_time": "2022-08-05T14:24:40.030Z"
   },
   {
    "duration": 20,
    "start_time": "2022-08-05T14:24:43.813Z"
   },
   {
    "duration": 12,
    "start_time": "2022-08-05T14:29:03.332Z"
   },
   {
    "duration": 10,
    "start_time": "2022-08-05T14:29:06.725Z"
   },
   {
    "duration": 8,
    "start_time": "2022-08-05T14:29:12.051Z"
   },
   {
    "duration": 18,
    "start_time": "2022-08-05T14:29:13.940Z"
   },
   {
    "duration": 867,
    "start_time": "2022-08-05T14:29:34.023Z"
   },
   {
    "duration": 1866,
    "start_time": "2022-08-05T14:29:34.892Z"
   },
   {
    "duration": 70,
    "start_time": "2022-08-05T14:29:36.759Z"
   },
   {
    "duration": 7,
    "start_time": "2022-08-05T14:29:36.831Z"
   },
   {
    "duration": 4,
    "start_time": "2022-08-05T14:29:36.839Z"
   },
   {
    "duration": 225,
    "start_time": "2022-08-05T14:29:36.844Z"
   },
   {
    "duration": 5,
    "start_time": "2022-08-05T14:29:37.070Z"
   },
   {
    "duration": 56,
    "start_time": "2022-08-05T14:29:37.086Z"
   },
   {
    "duration": 13,
    "start_time": "2022-08-05T14:29:37.144Z"
   },
   {
    "duration": 27,
    "start_time": "2022-08-05T14:29:37.160Z"
   },
   {
    "duration": 195,
    "start_time": "2022-08-05T14:29:37.189Z"
   },
   {
    "duration": 7,
    "start_time": "2022-08-05T14:29:37.386Z"
   },
   {
    "duration": 33,
    "start_time": "2022-08-05T14:29:37.394Z"
   },
   {
    "duration": 3,
    "start_time": "2022-08-05T14:29:37.429Z"
   },
   {
    "duration": 50,
    "start_time": "2022-08-05T14:29:39.793Z"
   },
   {
    "duration": 10,
    "start_time": "2022-08-05T14:29:44.110Z"
   },
   {
    "duration": 18,
    "start_time": "2022-08-05T14:29:47.759Z"
   },
   {
    "duration": 989,
    "start_time": "2022-08-05T14:30:04.505Z"
   },
   {
    "duration": 1998,
    "start_time": "2022-08-05T14:30:05.496Z"
   },
   {
    "duration": 82,
    "start_time": "2022-08-05T14:30:07.496Z"
   },
   {
    "duration": 13,
    "start_time": "2022-08-05T14:30:07.580Z"
   },
   {
    "duration": 5,
    "start_time": "2022-08-05T14:30:07.595Z"
   },
   {
    "duration": 252,
    "start_time": "2022-08-05T14:30:07.601Z"
   },
   {
    "duration": 4,
    "start_time": "2022-08-05T14:30:07.855Z"
   },
   {
    "duration": 68,
    "start_time": "2022-08-05T14:30:07.860Z"
   },
   {
    "duration": 14,
    "start_time": "2022-08-05T14:30:07.930Z"
   },
   {
    "duration": 8,
    "start_time": "2022-08-05T14:30:07.946Z"
   },
   {
    "duration": 200,
    "start_time": "2022-08-05T14:30:07.956Z"
   },
   {
    "duration": 7,
    "start_time": "2022-08-05T14:30:08.157Z"
   },
   {
    "duration": 30,
    "start_time": "2022-08-05T14:30:08.165Z"
   },
   {
    "duration": 2,
    "start_time": "2022-08-05T14:30:08.197Z"
   },
   {
    "duration": 51,
    "start_time": "2022-08-05T14:30:11.455Z"
   },
   {
    "duration": 9,
    "start_time": "2022-08-05T14:30:19.680Z"
   },
   {
    "duration": 17,
    "start_time": "2022-08-05T14:30:22.225Z"
   },
   {
    "duration": 17,
    "start_time": "2022-08-05T14:30:42.487Z"
   },
   {
    "duration": 3,
    "start_time": "2022-08-05T14:30:48.200Z"
   },
   {
    "duration": 47,
    "start_time": "2022-08-05T14:32:28.360Z"
   },
   {
    "duration": 67,
    "start_time": "2022-08-05T14:32:42.887Z"
   },
   {
    "duration": 57,
    "start_time": "2022-08-05T14:32:44.918Z"
   },
   {
    "duration": 49,
    "start_time": "2022-08-05T14:32:48.407Z"
   },
   {
    "duration": 46,
    "start_time": "2022-08-05T14:33:20.535Z"
   },
   {
    "duration": 201,
    "start_time": "2022-08-05T14:42:15.453Z"
   },
   {
    "duration": 6,
    "start_time": "2022-08-05T14:50:54.499Z"
   },
   {
    "duration": 4,
    "start_time": "2022-08-05T14:56:08.448Z"
   },
   {
    "duration": 25,
    "start_time": "2022-08-05T14:56:16.777Z"
   },
   {
    "duration": 68,
    "start_time": "2022-08-05T14:58:21.185Z"
   },
   {
    "duration": 13,
    "start_time": "2022-08-05T14:58:23.512Z"
   },
   {
    "duration": 10,
    "start_time": "2022-08-05T14:58:28.457Z"
   },
   {
    "duration": 9,
    "start_time": "2022-08-05T14:58:33.745Z"
   },
   {
    "duration": 936,
    "start_time": "2022-08-05T14:59:07.227Z"
   },
   {
    "duration": 10,
    "start_time": "2022-08-05T14:59:54.881Z"
   },
   {
    "duration": 9,
    "start_time": "2022-08-05T15:01:54.601Z"
   },
   {
    "duration": 1346,
    "start_time": "2022-08-05T15:02:40.267Z"
   },
   {
    "duration": 1835,
    "start_time": "2022-08-05T15:02:41.615Z"
   },
   {
    "duration": 72,
    "start_time": "2022-08-05T15:02:43.452Z"
   },
   {
    "duration": 9,
    "start_time": "2022-08-05T15:02:43.527Z"
   },
   {
    "duration": 4,
    "start_time": "2022-08-05T15:02:43.538Z"
   },
   {
    "duration": 228,
    "start_time": "2022-08-05T15:02:43.544Z"
   },
   {
    "duration": 12,
    "start_time": "2022-08-05T15:02:43.774Z"
   },
   {
    "duration": 58,
    "start_time": "2022-08-05T15:02:43.788Z"
   },
   {
    "duration": 15,
    "start_time": "2022-08-05T15:02:43.848Z"
   },
   {
    "duration": 10,
    "start_time": "2022-08-05T15:02:43.886Z"
   },
   {
    "duration": 5,
    "start_time": "2022-08-05T15:02:45.335Z"
   },
   {
    "duration": 75,
    "start_time": "2022-08-05T15:02:46.848Z"
   },
   {
    "duration": 44,
    "start_time": "2022-08-05T15:02:52.303Z"
   },
   {
    "duration": 9,
    "start_time": "2022-08-05T15:03:50.255Z"
   },
   {
    "duration": 4,
    "start_time": "2022-08-05T15:03:52.503Z"
   },
   {
    "duration": 11,
    "start_time": "2022-08-05T15:03:54.815Z"
   },
   {
    "duration": 981,
    "start_time": "2022-08-05T15:04:01.150Z"
   },
   {
    "duration": 1845,
    "start_time": "2022-08-05T15:04:02.133Z"
   },
   {
    "duration": 74,
    "start_time": "2022-08-05T15:04:03.980Z"
   },
   {
    "duration": 12,
    "start_time": "2022-08-05T15:04:04.057Z"
   },
   {
    "duration": 17,
    "start_time": "2022-08-05T15:04:04.070Z"
   },
   {
    "duration": 233,
    "start_time": "2022-08-05T15:04:04.089Z"
   },
   {
    "duration": 4,
    "start_time": "2022-08-05T15:04:04.324Z"
   },
   {
    "duration": 71,
    "start_time": "2022-08-05T15:04:04.330Z"
   },
   {
    "duration": 15,
    "start_time": "2022-08-05T15:04:04.403Z"
   },
   {
    "duration": 8,
    "start_time": "2022-08-05T15:04:04.420Z"
   },
   {
    "duration": 4,
    "start_time": "2022-08-05T15:04:04.430Z"
   },
   {
    "duration": 48,
    "start_time": "2022-08-05T15:04:07.787Z"
   },
   {
    "duration": 4,
    "start_time": "2022-08-05T15:11:16.538Z"
   },
   {
    "duration": 25,
    "start_time": "2022-08-05T15:11:22.753Z"
   },
   {
    "duration": 1085,
    "start_time": "2022-08-05T15:12:02.130Z"
   },
   {
    "duration": 1949,
    "start_time": "2022-08-05T15:12:03.217Z"
   },
   {
    "duration": 72,
    "start_time": "2022-08-05T15:12:05.168Z"
   },
   {
    "duration": 10,
    "start_time": "2022-08-05T15:12:05.242Z"
   },
   {
    "duration": 4,
    "start_time": "2022-08-05T15:12:05.254Z"
   },
   {
    "duration": 229,
    "start_time": "2022-08-05T15:12:05.260Z"
   },
   {
    "duration": 4,
    "start_time": "2022-08-05T15:12:05.491Z"
   },
   {
    "duration": 61,
    "start_time": "2022-08-05T15:12:05.496Z"
   },
   {
    "duration": 32,
    "start_time": "2022-08-05T15:12:05.558Z"
   },
   {
    "duration": 28,
    "start_time": "2022-08-05T15:12:05.592Z"
   },
   {
    "duration": 20,
    "start_time": "2022-08-05T15:12:05.621Z"
   },
   {
    "duration": 5,
    "start_time": "2022-08-05T15:12:06.929Z"
   },
   {
    "duration": 27,
    "start_time": "2022-08-05T15:12:09.777Z"
   },
   {
    "duration": 915,
    "start_time": "2022-08-05T15:18:09.227Z"
   },
   {
    "duration": 1914,
    "start_time": "2022-08-05T15:18:10.144Z"
   },
   {
    "duration": 74,
    "start_time": "2022-08-05T15:18:12.060Z"
   },
   {
    "duration": 8,
    "start_time": "2022-08-05T15:18:12.136Z"
   },
   {
    "duration": 4,
    "start_time": "2022-08-05T15:18:12.146Z"
   },
   {
    "duration": 226,
    "start_time": "2022-08-05T15:18:12.151Z"
   },
   {
    "duration": 10,
    "start_time": "2022-08-05T15:18:12.378Z"
   },
   {
    "duration": 60,
    "start_time": "2022-08-05T15:18:12.389Z"
   },
   {
    "duration": 14,
    "start_time": "2022-08-05T15:18:12.450Z"
   },
   {
    "duration": 23,
    "start_time": "2022-08-05T15:18:12.466Z"
   },
   {
    "duration": 4,
    "start_time": "2022-08-05T15:18:12.490Z"
   },
   {
    "duration": 6,
    "start_time": "2022-08-05T15:18:16.575Z"
   },
   {
    "duration": 5,
    "start_time": "2022-08-05T15:18:36.912Z"
   },
   {
    "duration": 45,
    "start_time": "2022-08-05T15:18:46.967Z"
   },
   {
    "duration": 5,
    "start_time": "2022-08-05T15:20:03.367Z"
   },
   {
    "duration": 5,
    "start_time": "2022-08-05T15:20:21.151Z"
   },
   {
    "duration": 10,
    "start_time": "2022-08-05T15:21:07.223Z"
   },
   {
    "duration": 1187,
    "start_time": "2022-08-05T15:30:28.428Z"
   },
   {
    "duration": 8,
    "start_time": "2022-08-05T15:30:35.923Z"
   },
   {
    "duration": 9,
    "start_time": "2022-08-05T15:30:41.418Z"
   },
   {
    "duration": 7,
    "start_time": "2022-08-05T15:35:10.938Z"
   },
   {
    "duration": 7,
    "start_time": "2022-08-05T15:36:53.296Z"
   },
   {
    "duration": 7,
    "start_time": "2022-08-05T15:37:22.414Z"
   },
   {
    "duration": 33,
    "start_time": "2022-08-05T15:38:20.545Z"
   },
   {
    "duration": 8,
    "start_time": "2022-08-05T15:40:03.264Z"
   },
   {
    "duration": 6,
    "start_time": "2022-08-05T15:41:03.783Z"
   },
   {
    "duration": 8,
    "start_time": "2022-08-05T15:41:07.407Z"
   },
   {
    "duration": 6,
    "start_time": "2022-08-05T15:41:31.330Z"
   },
   {
    "duration": 7,
    "start_time": "2022-08-05T15:41:34.119Z"
   },
   {
    "duration": 1027,
    "start_time": "2022-08-05T15:41:40.456Z"
   },
   {
    "duration": 1841,
    "start_time": "2022-08-05T15:41:41.485Z"
   },
   {
    "duration": 69,
    "start_time": "2022-08-05T15:41:43.328Z"
   },
   {
    "duration": 9,
    "start_time": "2022-08-05T15:41:43.400Z"
   },
   {
    "duration": 5,
    "start_time": "2022-08-05T15:41:43.410Z"
   },
   {
    "duration": 228,
    "start_time": "2022-08-05T15:41:43.417Z"
   },
   {
    "duration": 5,
    "start_time": "2022-08-05T15:41:43.647Z"
   },
   {
    "duration": 68,
    "start_time": "2022-08-05T15:41:43.654Z"
   },
   {
    "duration": 13,
    "start_time": "2022-08-05T15:41:43.724Z"
   },
   {
    "duration": 9,
    "start_time": "2022-08-05T15:41:43.739Z"
   },
   {
    "duration": 8,
    "start_time": "2022-08-05T15:41:43.749Z"
   },
   {
    "duration": 6,
    "start_time": "2022-08-05T15:41:43.759Z"
   },
   {
    "duration": 22,
    "start_time": "2022-08-05T15:41:43.766Z"
   },
   {
    "duration": 42,
    "start_time": "2022-08-05T15:41:43.790Z"
   },
   {
    "duration": 195,
    "start_time": "2022-08-05T15:41:43.834Z"
   },
   {
    "duration": 6,
    "start_time": "2022-08-05T15:41:44.031Z"
   },
   {
    "duration": 33,
    "start_time": "2022-08-05T15:41:44.038Z"
   },
   {
    "duration": 3,
    "start_time": "2022-08-05T15:41:44.072Z"
   },
   {
    "duration": 13,
    "start_time": "2022-08-05T15:41:44.076Z"
   },
   {
    "duration": 11,
    "start_time": "2022-08-05T15:41:44.090Z"
   },
   {
    "duration": 19,
    "start_time": "2022-08-05T15:41:44.102Z"
   },
   {
    "duration": 6,
    "start_time": "2022-08-05T15:41:44.122Z"
   },
   {
    "duration": 13,
    "start_time": "2022-08-05T15:41:44.129Z"
   },
   {
    "duration": 6,
    "start_time": "2022-08-05T15:41:57.958Z"
   },
   {
    "duration": 39,
    "start_time": "2022-08-05T15:42:00.480Z"
   },
   {
    "duration": 9,
    "start_time": "2022-08-05T15:42:04.902Z"
   },
   {
    "duration": 6,
    "start_time": "2022-08-05T15:43:54.847Z"
   },
   {
    "duration": 6,
    "start_time": "2022-08-05T15:43:57.854Z"
   },
   {
    "duration": 19,
    "start_time": "2022-08-05T15:44:06.150Z"
   },
   {
    "duration": 7,
    "start_time": "2022-08-05T15:44:39.101Z"
   },
   {
    "duration": 8,
    "start_time": "2022-08-05T15:44:46.557Z"
   },
   {
    "duration": 79,
    "start_time": "2022-08-05T15:52:01.460Z"
   },
   {
    "duration": 1267,
    "start_time": "2022-08-05T15:52:09.261Z"
   },
   {
    "duration": 1848,
    "start_time": "2022-08-05T15:52:10.530Z"
   },
   {
    "duration": 68,
    "start_time": "2022-08-05T15:52:12.380Z"
   },
   {
    "duration": 9,
    "start_time": "2022-08-05T15:52:12.450Z"
   },
   {
    "duration": 4,
    "start_time": "2022-08-05T15:52:12.460Z"
   },
   {
    "duration": 230,
    "start_time": "2022-08-05T15:52:12.465Z"
   },
   {
    "duration": 5,
    "start_time": "2022-08-05T15:52:12.696Z"
   },
   {
    "duration": 56,
    "start_time": "2022-08-05T15:52:12.702Z"
   },
   {
    "duration": 32,
    "start_time": "2022-08-05T15:52:12.759Z"
   },
   {
    "duration": 8,
    "start_time": "2022-08-05T15:52:12.794Z"
   },
   {
    "duration": 6,
    "start_time": "2022-08-05T15:52:12.803Z"
   },
   {
    "duration": 8,
    "start_time": "2022-08-05T15:52:12.810Z"
   },
   {
    "duration": 5,
    "start_time": "2022-08-05T15:52:12.819Z"
   },
   {
    "duration": 46,
    "start_time": "2022-08-05T15:52:12.826Z"
   },
   {
    "duration": 207,
    "start_time": "2022-08-05T15:52:12.873Z"
   },
   {
    "duration": 10,
    "start_time": "2022-08-05T15:52:13.082Z"
   },
   {
    "duration": 23,
    "start_time": "2022-08-05T15:52:13.093Z"
   },
   {
    "duration": 3,
    "start_time": "2022-08-05T15:52:13.118Z"
   },
   {
    "duration": 15,
    "start_time": "2022-08-05T15:52:13.123Z"
   },
   {
    "duration": 9,
    "start_time": "2022-08-05T15:52:13.140Z"
   },
   {
    "duration": 49,
    "start_time": "2022-08-05T15:52:13.150Z"
   },
   {
    "duration": 9,
    "start_time": "2022-08-05T15:52:13.200Z"
   },
   {
    "duration": 7,
    "start_time": "2022-08-05T15:52:13.211Z"
   },
   {
    "duration": 12,
    "start_time": "2022-08-05T15:52:13.220Z"
   },
   {
    "duration": 5,
    "start_time": "2022-08-05T15:52:13.234Z"
   },
   {
    "duration": 6,
    "start_time": "2022-08-05T15:52:13.241Z"
   },
   {
    "duration": 7,
    "start_time": "2022-08-05T15:52:13.249Z"
   },
   {
    "duration": 17,
    "start_time": "2022-08-05T15:52:13.286Z"
   },
   {
    "duration": 5,
    "start_time": "2022-08-05T15:52:13.305Z"
   },
   {
    "duration": 6,
    "start_time": "2022-08-05T15:52:13.312Z"
   },
   {
    "duration": 9,
    "start_time": "2022-08-05T15:52:13.319Z"
   },
   {
    "duration": 377,
    "start_time": "2022-08-05T15:52:13.329Z"
   },
   {
    "duration": 4,
    "start_time": "2022-08-05T15:52:13.708Z"
   },
   {
    "duration": 9,
    "start_time": "2022-08-05T15:52:13.713Z"
   },
   {
    "duration": 23,
    "start_time": "2022-08-05T15:52:13.723Z"
   },
   {
    "duration": 185,
    "start_time": "2022-08-05T15:52:13.747Z"
   },
   {
    "duration": 256,
    "start_time": "2022-08-05T15:52:13.933Z"
   },
   {
    "duration": 282,
    "start_time": "2022-08-05T15:52:14.190Z"
   },
   {
    "duration": 279,
    "start_time": "2022-08-05T15:52:14.474Z"
   },
   {
    "duration": 158,
    "start_time": "2022-08-05T15:52:14.755Z"
   },
   {
    "duration": 154,
    "start_time": "2022-08-05T15:52:14.914Z"
   },
   {
    "duration": 159,
    "start_time": "2022-08-05T15:52:15.069Z"
   },
   {
    "duration": 121,
    "start_time": "2022-08-05T15:52:15.230Z"
   },
   {
    "duration": 191,
    "start_time": "2022-08-05T15:52:15.353Z"
   },
   {
    "duration": 341,
    "start_time": "2022-08-05T15:52:15.546Z"
   },
   {
    "duration": 467,
    "start_time": "2022-08-05T15:52:15.888Z"
   },
   {
    "duration": 338,
    "start_time": "2022-08-05T15:52:16.357Z"
   },
   {
    "duration": 4,
    "start_time": "2022-08-05T15:52:16.697Z"
   },
   {
    "duration": 179,
    "start_time": "2022-08-05T15:52:16.702Z"
   },
   {
    "duration": 182,
    "start_time": "2022-08-05T15:52:16.882Z"
   },
   {
    "duration": 293,
    "start_time": "2022-08-05T15:52:17.065Z"
   },
   {
    "duration": 27,
    "start_time": "2022-08-05T15:52:17.360Z"
   },
   {
    "duration": 184,
    "start_time": "2022-08-05T15:52:17.388Z"
   },
   {
    "duration": 267,
    "start_time": "2022-08-05T15:52:17.574Z"
   },
   {
    "duration": 185,
    "start_time": "2022-08-05T15:52:17.842Z"
   },
   {
    "duration": 175,
    "start_time": "2022-08-05T15:52:18.029Z"
   },
   {
    "duration": 157,
    "start_time": "2022-08-05T15:52:18.205Z"
   },
   {
    "duration": 160,
    "start_time": "2022-08-05T15:52:18.363Z"
   },
   {
    "duration": 144,
    "start_time": "2022-08-05T15:52:18.524Z"
   },
   {
    "duration": 143,
    "start_time": "2022-08-05T15:52:18.670Z"
   },
   {
    "duration": 199,
    "start_time": "2022-08-05T15:52:24.379Z"
   },
   {
    "duration": 16,
    "start_time": "2022-08-05T15:53:50.235Z"
   },
   {
    "duration": 163,
    "start_time": "2022-08-05T16:00:50.368Z"
   },
   {
    "duration": 247,
    "start_time": "2022-08-05T16:01:01.303Z"
   },
   {
    "duration": 9,
    "start_time": "2022-08-05T16:03:12.847Z"
   },
   {
    "duration": 17,
    "start_time": "2022-08-05T16:03:16.847Z"
   },
   {
    "duration": 144,
    "start_time": "2022-08-05T16:03:25.383Z"
   },
   {
    "duration": 18,
    "start_time": "2022-08-05T16:03:36.104Z"
   },
   {
    "duration": 262,
    "start_time": "2022-08-05T16:04:15.855Z"
   },
   {
    "duration": 176,
    "start_time": "2022-08-05T16:10:01.621Z"
   },
   {
    "duration": 176,
    "start_time": "2022-08-05T16:11:25.277Z"
   },
   {
    "duration": 185,
    "start_time": "2022-08-05T16:11:41.822Z"
   },
   {
    "duration": 192,
    "start_time": "2022-08-05T16:12:21.605Z"
   },
   {
    "duration": 47,
    "start_time": "2022-08-05T16:13:37.828Z"
   },
   {
    "duration": 46,
    "start_time": "2022-08-05T16:13:52.981Z"
   },
   {
    "duration": 53,
    "start_time": "2022-08-05T16:14:04.565Z"
   },
   {
    "duration": 176,
    "start_time": "2022-08-05T16:14:22.700Z"
   },
   {
    "duration": 173,
    "start_time": "2022-08-05T16:15:00.205Z"
   },
   {
    "duration": 182,
    "start_time": "2022-08-05T16:15:05.435Z"
   },
   {
    "duration": 9,
    "start_time": "2022-08-05T16:15:17.436Z"
   },
   {
    "duration": 179,
    "start_time": "2022-08-05T16:15:30.100Z"
   },
   {
    "duration": 179,
    "start_time": "2022-08-05T16:15:45.358Z"
   },
   {
    "duration": 174,
    "start_time": "2022-08-05T16:15:54.924Z"
   },
   {
    "duration": 252,
    "start_time": "2022-08-05T16:16:17.156Z"
   },
   {
    "duration": 59,
    "start_time": "2022-08-05T16:16:30.916Z"
   },
   {
    "duration": 57,
    "start_time": "2022-08-05T16:16:34.644Z"
   },
   {
    "duration": 59,
    "start_time": "2022-08-05T16:16:43.147Z"
   },
   {
    "duration": 186,
    "start_time": "2022-08-05T16:16:47.555Z"
   },
   {
    "duration": 184,
    "start_time": "2022-08-05T16:16:57.436Z"
   },
   {
    "duration": 172,
    "start_time": "2022-08-05T16:17:09.307Z"
   },
   {
    "duration": 175,
    "start_time": "2022-08-05T16:17:15.667Z"
   },
   {
    "duration": 172,
    "start_time": "2022-08-05T16:17:36.084Z"
   },
   {
    "duration": 225,
    "start_time": "2022-08-05T16:21:23.195Z"
   },
   {
    "duration": 11,
    "start_time": "2022-08-05T16:21:51.194Z"
   },
   {
    "duration": 10,
    "start_time": "2022-08-05T16:21:53.555Z"
   },
   {
    "duration": 119,
    "start_time": "2022-08-05T16:21:58.706Z"
   },
   {
    "duration": 122,
    "start_time": "2022-08-05T16:22:15.762Z"
   },
   {
    "duration": 135,
    "start_time": "2022-08-05T16:22:31.937Z"
   },
   {
    "duration": 207,
    "start_time": "2022-08-05T16:23:13.827Z"
   },
   {
    "duration": 1023,
    "start_time": "2022-08-05T16:24:37.168Z"
   },
   {
    "duration": 1877,
    "start_time": "2022-08-05T16:24:38.193Z"
   },
   {
    "duration": 70,
    "start_time": "2022-08-05T16:24:40.072Z"
   },
   {
    "duration": 8,
    "start_time": "2022-08-05T16:24:40.144Z"
   },
   {
    "duration": 40,
    "start_time": "2022-08-05T16:24:40.154Z"
   },
   {
    "duration": 227,
    "start_time": "2022-08-05T16:24:40.195Z"
   },
   {
    "duration": 4,
    "start_time": "2022-08-05T16:24:40.424Z"
   },
   {
    "duration": 77,
    "start_time": "2022-08-05T16:24:40.429Z"
   },
   {
    "duration": 16,
    "start_time": "2022-08-05T16:24:40.507Z"
   },
   {
    "duration": 26,
    "start_time": "2022-08-05T16:24:40.525Z"
   },
   {
    "duration": 29,
    "start_time": "2022-08-05T16:24:40.553Z"
   },
   {
    "duration": 21,
    "start_time": "2022-08-05T16:24:40.584Z"
   },
   {
    "duration": 22,
    "start_time": "2022-08-05T16:24:40.606Z"
   },
   {
    "duration": 61,
    "start_time": "2022-08-05T16:24:40.631Z"
   },
   {
    "duration": 201,
    "start_time": "2022-08-05T16:24:40.694Z"
   },
   {
    "duration": 6,
    "start_time": "2022-08-05T16:24:40.897Z"
   },
   {
    "duration": 49,
    "start_time": "2022-08-05T16:24:40.905Z"
   },
   {
    "duration": 22,
    "start_time": "2022-08-05T16:24:40.956Z"
   },
   {
    "duration": 22,
    "start_time": "2022-08-05T16:24:40.980Z"
   },
   {
    "duration": 36,
    "start_time": "2022-08-05T16:24:41.003Z"
   },
   {
    "duration": 26,
    "start_time": "2022-08-05T16:24:41.041Z"
   },
   {
    "duration": 31,
    "start_time": "2022-08-05T16:24:41.068Z"
   },
   {
    "duration": 28,
    "start_time": "2022-08-05T16:24:41.101Z"
   },
   {
    "duration": 17,
    "start_time": "2022-08-05T16:24:41.131Z"
   },
   {
    "duration": 7,
    "start_time": "2022-08-05T16:24:41.149Z"
   },
   {
    "duration": 6,
    "start_time": "2022-08-05T16:24:41.157Z"
   },
   {
    "duration": 8,
    "start_time": "2022-08-05T16:24:41.165Z"
   },
   {
    "duration": 19,
    "start_time": "2022-08-05T16:24:41.174Z"
   },
   {
    "duration": 5,
    "start_time": "2022-08-05T16:24:41.195Z"
   },
   {
    "duration": 8,
    "start_time": "2022-08-05T16:24:41.201Z"
   },
   {
    "duration": 5,
    "start_time": "2022-08-05T16:24:41.210Z"
   },
   {
    "duration": 362,
    "start_time": "2022-08-05T16:24:41.217Z"
   },
   {
    "duration": 8,
    "start_time": "2022-08-05T16:24:41.580Z"
   },
   {
    "duration": 8,
    "start_time": "2022-08-05T16:24:41.589Z"
   },
   {
    "duration": 25,
    "start_time": "2022-08-05T16:24:41.599Z"
   },
   {
    "duration": 175,
    "start_time": "2022-08-05T16:24:41.625Z"
   },
   {
    "duration": 242,
    "start_time": "2022-08-05T16:24:41.802Z"
   },
   {
    "duration": 283,
    "start_time": "2022-08-05T16:24:42.045Z"
   },
   {
    "duration": 280,
    "start_time": "2022-08-05T16:24:42.330Z"
   },
   {
    "duration": 155,
    "start_time": "2022-08-05T16:24:42.611Z"
   },
   {
    "duration": 148,
    "start_time": "2022-08-05T16:24:42.770Z"
   },
   {
    "duration": 153,
    "start_time": "2022-08-05T16:24:42.919Z"
   },
   {
    "duration": 122,
    "start_time": "2022-08-05T16:24:43.074Z"
   },
   {
    "duration": 189,
    "start_time": "2022-08-05T16:24:43.198Z"
   },
   {
    "duration": 356,
    "start_time": "2022-08-05T16:24:43.388Z"
   },
   {
    "duration": 436,
    "start_time": "2022-08-05T16:24:43.745Z"
   },
   {
    "duration": 290,
    "start_time": "2022-08-05T16:24:44.183Z"
   },
   {
    "duration": 5,
    "start_time": "2022-08-05T16:24:44.475Z"
   },
   {
    "duration": 168,
    "start_time": "2022-08-05T16:24:44.487Z"
   },
   {
    "duration": 174,
    "start_time": "2022-08-05T16:24:44.657Z"
   },
   {
    "duration": 289,
    "start_time": "2022-08-05T16:24:44.833Z"
   },
   {
    "duration": 20,
    "start_time": "2022-08-05T16:24:45.124Z"
   },
   {
    "duration": 177,
    "start_time": "2022-08-05T16:24:45.145Z"
   },
   {
    "duration": 297,
    "start_time": "2022-08-05T16:24:45.323Z"
   },
   {
    "duration": 182,
    "start_time": "2022-08-05T16:24:45.621Z"
   },
   {
    "duration": 184,
    "start_time": "2022-08-05T16:24:45.804Z"
   },
   {
    "duration": 150,
    "start_time": "2022-08-05T16:24:45.990Z"
   },
   {
    "duration": 197,
    "start_time": "2022-08-05T16:24:46.141Z"
   },
   {
    "duration": 179,
    "start_time": "2022-08-05T16:24:46.340Z"
   },
   {
    "duration": 151,
    "start_time": "2022-08-05T16:24:46.521Z"
   },
   {
    "duration": 201,
    "start_time": "2022-08-05T16:24:46.673Z"
   },
   {
    "duration": 26,
    "start_time": "2022-08-05T16:24:46.875Z"
   },
   {
    "duration": 189,
    "start_time": "2022-08-05T16:24:46.902Z"
   },
   {
    "duration": 155,
    "start_time": "2022-08-05T16:24:47.093Z"
   },
   {
    "duration": 17,
    "start_time": "2022-08-05T16:26:53.159Z"
   },
   {
    "duration": 16,
    "start_time": "2022-08-05T16:26:56.515Z"
   },
   {
    "duration": 23,
    "start_time": "2022-08-05T16:27:09.628Z"
   },
   {
    "duration": 21,
    "start_time": "2022-08-05T16:27:14.724Z"
   },
   {
    "duration": 1166,
    "start_time": "2022-08-05T16:27:19.769Z"
   },
   {
    "duration": 1829,
    "start_time": "2022-08-05T16:27:20.937Z"
   },
   {
    "duration": 70,
    "start_time": "2022-08-05T16:27:22.768Z"
   },
   {
    "duration": 8,
    "start_time": "2022-08-05T16:27:22.839Z"
   },
   {
    "duration": 3,
    "start_time": "2022-08-05T16:27:22.849Z"
   },
   {
    "duration": 229,
    "start_time": "2022-08-05T16:27:22.854Z"
   },
   {
    "duration": 4,
    "start_time": "2022-08-05T16:27:23.084Z"
   },
   {
    "duration": 58,
    "start_time": "2022-08-05T16:27:23.090Z"
   },
   {
    "duration": 15,
    "start_time": "2022-08-05T16:27:23.149Z"
   },
   {
    "duration": 27,
    "start_time": "2022-08-05T16:27:23.166Z"
   },
   {
    "duration": 7,
    "start_time": "2022-08-05T16:27:23.195Z"
   },
   {
    "duration": 6,
    "start_time": "2022-08-05T16:27:23.204Z"
   },
   {
    "duration": 7,
    "start_time": "2022-08-05T16:27:23.212Z"
   },
   {
    "duration": 45,
    "start_time": "2022-08-05T16:27:23.221Z"
   },
   {
    "duration": 198,
    "start_time": "2022-08-05T16:27:23.268Z"
   },
   {
    "duration": 9,
    "start_time": "2022-08-05T16:27:23.468Z"
   },
   {
    "duration": 26,
    "start_time": "2022-08-05T16:27:23.478Z"
   },
   {
    "duration": 2,
    "start_time": "2022-08-05T16:27:23.505Z"
   },
   {
    "duration": 22,
    "start_time": "2022-08-05T16:27:23.509Z"
   },
   {
    "duration": 7,
    "start_time": "2022-08-05T16:27:23.533Z"
   },
   {
    "duration": 16,
    "start_time": "2022-08-05T16:27:23.542Z"
   },
   {
    "duration": 7,
    "start_time": "2022-08-05T16:27:23.559Z"
   },
   {
    "duration": 22,
    "start_time": "2022-08-05T16:27:23.567Z"
   },
   {
    "duration": 8,
    "start_time": "2022-08-05T16:27:23.590Z"
   },
   {
    "duration": 7,
    "start_time": "2022-08-05T16:27:23.600Z"
   },
   {
    "duration": 5,
    "start_time": "2022-08-05T16:27:23.609Z"
   },
   {
    "duration": 5,
    "start_time": "2022-08-05T16:27:23.615Z"
   },
   {
    "duration": 15,
    "start_time": "2022-08-05T16:27:23.624Z"
   },
   {
    "duration": 5,
    "start_time": "2022-08-05T16:27:23.641Z"
   },
   {
    "duration": 41,
    "start_time": "2022-08-05T16:27:23.647Z"
   },
   {
    "duration": 5,
    "start_time": "2022-08-05T16:27:23.690Z"
   },
   {
    "duration": 401,
    "start_time": "2022-08-05T16:27:23.697Z"
   },
   {
    "duration": 4,
    "start_time": "2022-08-05T16:27:24.099Z"
   },
   {
    "duration": 11,
    "start_time": "2022-08-05T16:27:24.104Z"
   },
   {
    "duration": 23,
    "start_time": "2022-08-05T16:27:24.117Z"
   },
   {
    "duration": 176,
    "start_time": "2022-08-05T16:27:24.141Z"
   },
   {
    "duration": 256,
    "start_time": "2022-08-05T16:27:24.319Z"
   },
   {
    "duration": 296,
    "start_time": "2022-08-05T16:27:24.578Z"
   },
   {
    "duration": 284,
    "start_time": "2022-08-05T16:27:24.876Z"
   },
   {
    "duration": 158,
    "start_time": "2022-08-05T16:27:25.162Z"
   },
   {
    "duration": 152,
    "start_time": "2022-08-05T16:27:25.322Z"
   },
   {
    "duration": 159,
    "start_time": "2022-08-05T16:27:25.476Z"
   },
   {
    "duration": 128,
    "start_time": "2022-08-05T16:27:25.636Z"
   },
   {
    "duration": 182,
    "start_time": "2022-08-05T16:27:25.766Z"
   },
   {
    "duration": 401,
    "start_time": "2022-08-05T16:27:25.949Z"
   },
   {
    "duration": 443,
    "start_time": "2022-08-05T16:27:26.353Z"
   },
   {
    "duration": 307,
    "start_time": "2022-08-05T16:27:26.798Z"
   },
   {
    "duration": 5,
    "start_time": "2022-08-05T16:27:27.106Z"
   },
   {
    "duration": 176,
    "start_time": "2022-08-05T16:27:27.112Z"
   },
   {
    "duration": 166,
    "start_time": "2022-08-05T16:27:27.290Z"
   },
   {
    "duration": 304,
    "start_time": "2022-08-05T16:27:27.458Z"
   },
   {
    "duration": 30,
    "start_time": "2022-08-05T16:27:27.763Z"
   },
   {
    "duration": 180,
    "start_time": "2022-08-05T16:27:27.795Z"
   },
   {
    "duration": 275,
    "start_time": "2022-08-05T16:27:27.977Z"
   },
   {
    "duration": 182,
    "start_time": "2022-08-05T16:27:28.254Z"
   },
   {
    "duration": 186,
    "start_time": "2022-08-05T16:27:28.438Z"
   },
   {
    "duration": 139,
    "start_time": "2022-08-05T16:27:28.626Z"
   },
   {
    "duration": 151,
    "start_time": "2022-08-05T16:27:28.767Z"
   },
   {
    "duration": 149,
    "start_time": "2022-08-05T16:27:28.920Z"
   },
   {
    "duration": 147,
    "start_time": "2022-08-05T16:27:29.070Z"
   },
   {
    "duration": 202,
    "start_time": "2022-08-05T16:27:29.219Z"
   },
   {
    "duration": 21,
    "start_time": "2022-08-05T16:27:29.423Z"
   },
   {
    "duration": 180,
    "start_time": "2022-08-05T16:27:29.446Z"
   },
   {
    "duration": 146,
    "start_time": "2022-08-05T16:27:29.627Z"
   },
   {
    "duration": 16,
    "start_time": "2022-08-05T16:28:03.291Z"
   },
   {
    "duration": 25,
    "start_time": "2022-08-05T16:28:10.474Z"
   },
   {
    "duration": 6,
    "start_time": "2022-08-05T16:29:32.235Z"
   },
   {
    "duration": 24,
    "start_time": "2022-08-05T16:29:35.322Z"
   },
   {
    "duration": 78,
    "start_time": "2022-08-05T16:30:48.939Z"
   },
   {
    "duration": 5,
    "start_time": "2022-08-05T16:30:54.275Z"
   },
   {
    "duration": 141,
    "start_time": "2022-08-05T16:35:00.042Z"
   },
   {
    "duration": 203,
    "start_time": "2022-08-05T16:35:05.865Z"
   },
   {
    "duration": 123,
    "start_time": "2022-08-05T16:35:08.698Z"
   },
   {
    "duration": 159,
    "start_time": "2022-08-05T16:35:15.602Z"
   },
   {
    "duration": 186,
    "start_time": "2022-08-05T16:36:06.281Z"
   },
   {
    "duration": 120,
    "start_time": "2022-08-05T16:36:14.762Z"
   },
   {
    "duration": 115,
    "start_time": "2022-08-05T16:36:34.215Z"
   },
   {
    "duration": 49,
    "start_time": "2022-08-05T16:40:01.384Z"
   },
   {
    "duration": 131,
    "start_time": "2022-08-05T16:40:05.257Z"
   },
   {
    "duration": 202,
    "start_time": "2022-08-05T16:40:11.217Z"
   },
   {
    "duration": 199,
    "start_time": "2022-08-05T16:40:35.056Z"
   },
   {
    "duration": 178,
    "start_time": "2022-08-05T16:42:05.368Z"
   },
   {
    "duration": 209,
    "start_time": "2022-08-05T16:42:13.304Z"
   },
   {
    "duration": 296,
    "start_time": "2022-08-05T16:43:53.096Z"
   },
   {
    "duration": 206,
    "start_time": "2022-08-05T16:44:04.927Z"
   },
   {
    "duration": 217,
    "start_time": "2022-08-05T16:45:03.680Z"
   },
   {
    "duration": 214,
    "start_time": "2022-08-05T16:45:06.943Z"
   },
   {
    "duration": 134,
    "start_time": "2022-08-05T16:47:23.663Z"
   },
   {
    "duration": 134,
    "start_time": "2022-08-05T16:47:29.502Z"
   },
   {
    "duration": 131,
    "start_time": "2022-08-05T16:47:41.420Z"
   },
   {
    "duration": 210,
    "start_time": "2022-08-05T16:51:25.711Z"
   },
   {
    "duration": 127,
    "start_time": "2022-08-05T16:53:39.837Z"
   },
   {
    "duration": 1371,
    "start_time": "2022-08-06T00:48:16.777Z"
   },
   {
    "duration": 2311,
    "start_time": "2022-08-06T00:48:18.150Z"
   },
   {
    "duration": 97,
    "start_time": "2022-08-06T00:48:20.463Z"
   },
   {
    "duration": 10,
    "start_time": "2022-08-06T00:48:20.562Z"
   },
   {
    "duration": 21,
    "start_time": "2022-08-06T00:48:20.574Z"
   },
   {
    "duration": 285,
    "start_time": "2022-08-06T00:48:20.597Z"
   },
   {
    "duration": 15,
    "start_time": "2022-08-06T00:48:20.883Z"
   },
   {
    "duration": 73,
    "start_time": "2022-08-06T00:48:20.907Z"
   },
   {
    "duration": 20,
    "start_time": "2022-08-06T00:48:20.982Z"
   },
   {
    "duration": 16,
    "start_time": "2022-08-06T00:48:21.004Z"
   },
   {
    "duration": 13,
    "start_time": "2022-08-06T00:48:21.022Z"
   },
   {
    "duration": 18,
    "start_time": "2022-08-06T00:48:21.036Z"
   },
   {
    "duration": 12,
    "start_time": "2022-08-06T00:48:21.056Z"
   },
   {
    "duration": 69,
    "start_time": "2022-08-06T00:48:21.072Z"
   },
   {
    "duration": 16,
    "start_time": "2022-08-06T00:48:21.143Z"
   },
   {
    "duration": 243,
    "start_time": "2022-08-06T00:48:21.161Z"
   },
   {
    "duration": 9,
    "start_time": "2022-08-06T00:48:21.406Z"
   },
   {
    "duration": 24,
    "start_time": "2022-08-06T00:48:21.417Z"
   },
   {
    "duration": 2,
    "start_time": "2022-08-06T00:48:21.443Z"
   },
   {
    "duration": 23,
    "start_time": "2022-08-06T00:48:21.447Z"
   },
   {
    "duration": 23,
    "start_time": "2022-08-06T00:48:21.472Z"
   },
   {
    "duration": 28,
    "start_time": "2022-08-06T00:48:21.498Z"
   },
   {
    "duration": 12,
    "start_time": "2022-08-06T00:48:21.528Z"
   },
   {
    "duration": 22,
    "start_time": "2022-08-06T00:48:21.542Z"
   },
   {
    "duration": 18,
    "start_time": "2022-08-06T00:48:21.565Z"
   },
   {
    "duration": 30,
    "start_time": "2022-08-06T00:48:21.584Z"
   },
   {
    "duration": 10,
    "start_time": "2022-08-06T00:48:21.615Z"
   },
   {
    "duration": 18,
    "start_time": "2022-08-06T00:48:21.627Z"
   },
   {
    "duration": 8,
    "start_time": "2022-08-06T00:48:21.647Z"
   },
   {
    "duration": 11,
    "start_time": "2022-08-06T00:48:21.657Z"
   },
   {
    "duration": 17,
    "start_time": "2022-08-06T00:48:21.670Z"
   },
   {
    "duration": 14,
    "start_time": "2022-08-06T00:48:21.689Z"
   },
   {
    "duration": 482,
    "start_time": "2022-08-06T00:48:21.704Z"
   },
   {
    "duration": 6,
    "start_time": "2022-08-06T00:48:22.187Z"
   },
   {
    "duration": 28,
    "start_time": "2022-08-06T00:48:22.194Z"
   },
   {
    "duration": 36,
    "start_time": "2022-08-06T00:48:22.224Z"
   },
   {
    "duration": 205,
    "start_time": "2022-08-06T00:48:22.262Z"
   },
   {
    "duration": 292,
    "start_time": "2022-08-06T00:48:22.469Z"
   },
   {
    "duration": 353,
    "start_time": "2022-08-06T00:48:22.763Z"
   },
   {
    "duration": 344,
    "start_time": "2022-08-06T00:48:23.118Z"
   },
   {
    "duration": 197,
    "start_time": "2022-08-06T00:48:23.466Z"
   },
   {
    "duration": 194,
    "start_time": "2022-08-06T00:48:23.665Z"
   },
   {
    "duration": 198,
    "start_time": "2022-08-06T00:48:23.860Z"
   },
   {
    "duration": 160,
    "start_time": "2022-08-06T00:48:24.060Z"
   },
   {
    "duration": 234,
    "start_time": "2022-08-06T00:48:24.222Z"
   },
   {
    "duration": 421,
    "start_time": "2022-08-06T00:48:24.458Z"
   },
   {
    "duration": 545,
    "start_time": "2022-08-06T00:48:24.881Z"
   },
   {
    "duration": 352,
    "start_time": "2022-08-06T00:48:25.427Z"
   },
   {
    "duration": 13,
    "start_time": "2022-08-06T00:48:25.780Z"
   },
   {
    "duration": 216,
    "start_time": "2022-08-06T00:48:25.795Z"
   },
   {
    "duration": 212,
    "start_time": "2022-08-06T00:48:26.013Z"
   },
   {
    "duration": 352,
    "start_time": "2022-08-06T00:48:26.227Z"
   },
   {
    "duration": 36,
    "start_time": "2022-08-06T00:48:26.580Z"
   },
   {
    "duration": 231,
    "start_time": "2022-08-06T00:48:26.618Z"
   },
   {
    "duration": 329,
    "start_time": "2022-08-06T00:48:26.851Z"
   },
   {
    "duration": 225,
    "start_time": "2022-08-06T00:48:27.182Z"
   },
   {
    "duration": 174,
    "start_time": "2022-08-06T00:48:27.410Z"
   },
   {
    "duration": 169,
    "start_time": "2022-08-06T00:48:27.585Z"
   },
   {
    "duration": 192,
    "start_time": "2022-08-06T00:48:27.756Z"
   },
   {
    "duration": 190,
    "start_time": "2022-08-06T00:48:27.949Z"
   },
   {
    "duration": 174,
    "start_time": "2022-08-06T00:48:28.141Z"
   },
   {
    "duration": 266,
    "start_time": "2022-08-06T00:48:28.317Z"
   },
   {
    "duration": 28,
    "start_time": "2022-08-06T00:48:28.585Z"
   },
   {
    "duration": 215,
    "start_time": "2022-08-06T00:48:28.615Z"
   },
   {
    "duration": 169,
    "start_time": "2022-08-06T00:48:28.832Z"
   },
   {
    "duration": 27,
    "start_time": "2022-08-06T00:50:50.083Z"
   },
   {
    "duration": 230,
    "start_time": "2022-08-06T00:55:52.824Z"
   },
   {
    "duration": 353,
    "start_time": "2022-08-06T00:56:07.858Z"
   },
   {
    "duration": 218,
    "start_time": "2022-08-06T00:56:34.953Z"
   },
   {
    "duration": 216,
    "start_time": "2022-08-06T00:56:42.594Z"
   },
   {
    "duration": 187,
    "start_time": "2022-08-06T00:56:55.057Z"
   },
   {
    "duration": 180,
    "start_time": "2022-08-06T00:56:59.073Z"
   },
   {
    "duration": 698,
    "start_time": "2022-08-06T00:58:59.174Z"
   },
   {
    "duration": 14,
    "start_time": "2022-08-06T00:59:07.421Z"
   },
   {
    "duration": 7,
    "start_time": "2022-08-06T00:59:18.591Z"
   },
   {
    "duration": 4478,
    "start_time": "2022-08-06T00:59:27.250Z"
   },
   {
    "duration": 481,
    "start_time": "2022-08-06T00:59:37.464Z"
   },
   {
    "duration": 1217,
    "start_time": "2022-08-06T01:01:20.498Z"
   },
   {
    "duration": 2202,
    "start_time": "2022-08-06T01:01:21.717Z"
   },
   {
    "duration": 103,
    "start_time": "2022-08-06T01:01:23.920Z"
   },
   {
    "duration": 10,
    "start_time": "2022-08-06T01:01:24.025Z"
   },
   {
    "duration": 4,
    "start_time": "2022-08-06T01:01:24.038Z"
   },
   {
    "duration": 267,
    "start_time": "2022-08-06T01:01:24.044Z"
   },
   {
    "duration": 5,
    "start_time": "2022-08-06T01:01:24.313Z"
   },
   {
    "duration": 87,
    "start_time": "2022-08-06T01:01:24.320Z"
   },
   {
    "duration": 17,
    "start_time": "2022-08-06T01:01:24.409Z"
   },
   {
    "duration": 10,
    "start_time": "2022-08-06T01:01:24.428Z"
   },
   {
    "duration": 4,
    "start_time": "2022-08-06T01:01:24.440Z"
   },
   {
    "duration": 9,
    "start_time": "2022-08-06T01:01:24.446Z"
   },
   {
    "duration": 6,
    "start_time": "2022-08-06T01:01:24.457Z"
   },
   {
    "duration": 51,
    "start_time": "2022-08-06T01:01:24.494Z"
   },
   {
    "duration": 16,
    "start_time": "2022-08-06T01:01:24.546Z"
   },
   {
    "duration": 229,
    "start_time": "2022-08-06T01:01:24.563Z"
   },
   {
    "duration": 8,
    "start_time": "2022-08-06T01:01:24.794Z"
   },
   {
    "duration": 25,
    "start_time": "2022-08-06T01:01:24.804Z"
   },
   {
    "duration": 2,
    "start_time": "2022-08-06T01:01:24.831Z"
   },
   {
    "duration": 16,
    "start_time": "2022-08-06T01:01:24.835Z"
   },
   {
    "duration": 10,
    "start_time": "2022-08-06T01:01:24.853Z"
   },
   {
    "duration": 46,
    "start_time": "2022-08-06T01:01:24.864Z"
   },
   {
    "duration": 15,
    "start_time": "2022-08-06T01:01:24.911Z"
   },
   {
    "duration": 15,
    "start_time": "2022-08-06T01:01:24.928Z"
   },
   {
    "duration": 11,
    "start_time": "2022-08-06T01:01:24.945Z"
   },
   {
    "duration": 16,
    "start_time": "2022-08-06T01:01:24.958Z"
   },
   {
    "duration": 17,
    "start_time": "2022-08-06T01:01:24.976Z"
   },
   {
    "duration": 8,
    "start_time": "2022-08-06T01:01:24.995Z"
   },
   {
    "duration": 8,
    "start_time": "2022-08-06T01:01:25.004Z"
   },
   {
    "duration": 9,
    "start_time": "2022-08-06T01:01:25.014Z"
   },
   {
    "duration": 9,
    "start_time": "2022-08-06T01:01:25.024Z"
   },
   {
    "duration": 6,
    "start_time": "2022-08-06T01:01:25.035Z"
   },
   {
    "duration": 435,
    "start_time": "2022-08-06T01:01:25.043Z"
   },
   {
    "duration": 4,
    "start_time": "2022-08-06T01:01:25.480Z"
   },
   {
    "duration": 9,
    "start_time": "2022-08-06T01:01:25.486Z"
   },
   {
    "duration": 25,
    "start_time": "2022-08-06T01:01:25.496Z"
   },
   {
    "duration": 215,
    "start_time": "2022-08-06T01:01:25.523Z"
   },
   {
    "duration": 309,
    "start_time": "2022-08-06T01:01:25.740Z"
   },
   {
    "duration": 329,
    "start_time": "2022-08-06T01:01:26.051Z"
   },
   {
    "duration": 327,
    "start_time": "2022-08-06T01:01:26.382Z"
   },
   {
    "duration": 211,
    "start_time": "2022-08-06T01:01:26.715Z"
   },
   {
    "duration": 181,
    "start_time": "2022-08-06T01:01:26.928Z"
   },
   {
    "duration": 180,
    "start_time": "2022-08-06T01:01:27.111Z"
   },
   {
    "duration": 148,
    "start_time": "2022-08-06T01:01:27.293Z"
   },
   {
    "duration": 221,
    "start_time": "2022-08-06T01:01:27.443Z"
   },
   {
    "duration": 429,
    "start_time": "2022-08-06T01:01:27.665Z"
   },
   {
    "duration": 492,
    "start_time": "2022-08-06T01:01:28.096Z"
   },
   {
    "duration": 327,
    "start_time": "2022-08-06T01:01:28.592Z"
   },
   {
    "duration": 6,
    "start_time": "2022-08-06T01:01:28.921Z"
   },
   {
    "duration": 244,
    "start_time": "2022-08-06T01:01:28.929Z"
   },
   {
    "duration": 203,
    "start_time": "2022-08-06T01:01:29.175Z"
   },
   {
    "duration": 360,
    "start_time": "2022-08-06T01:01:29.379Z"
   },
   {
    "duration": 26,
    "start_time": "2022-08-06T01:01:29.741Z"
   },
   {
    "duration": 226,
    "start_time": "2022-08-06T01:01:29.769Z"
   },
   {
    "duration": 337,
    "start_time": "2022-08-06T01:01:29.997Z"
   },
   {
    "duration": 209,
    "start_time": "2022-08-06T01:01:30.336Z"
   },
   {
    "duration": 171,
    "start_time": "2022-08-06T01:01:30.547Z"
   },
   {
    "duration": 155,
    "start_time": "2022-08-06T01:01:30.720Z"
   },
   {
    "duration": 177,
    "start_time": "2022-08-06T01:01:30.878Z"
   },
   {
    "duration": 196,
    "start_time": "2022-08-06T01:01:31.057Z"
   },
   {
    "duration": 169,
    "start_time": "2022-08-06T01:01:31.255Z"
   },
   {
    "duration": 261,
    "start_time": "2022-08-06T01:01:31.425Z"
   },
   {
    "duration": 213,
    "start_time": "2022-08-06T01:01:31.688Z"
   },
   {
    "duration": 30,
    "start_time": "2022-08-06T01:01:31.903Z"
   },
   {
    "duration": 203,
    "start_time": "2022-08-06T01:01:31.935Z"
   },
   {
    "duration": 171,
    "start_time": "2022-08-06T01:01:32.140Z"
   },
   {
    "duration": 4599,
    "start_time": "2022-08-06T01:01:32.313Z"
   },
   {
    "duration": 598,
    "start_time": "2022-08-06T01:01:36.914Z"
   },
   {
    "duration": 68,
    "start_time": "2022-08-06T09:37:10.336Z"
   },
   {
    "duration": 1491,
    "start_time": "2022-08-06T09:37:15.357Z"
   },
   {
    "duration": 2241,
    "start_time": "2022-08-06T09:37:16.851Z"
   },
   {
    "duration": 98,
    "start_time": "2022-08-06T09:37:19.094Z"
   },
   {
    "duration": 12,
    "start_time": "2022-08-06T09:37:19.194Z"
   },
   {
    "duration": 8,
    "start_time": "2022-08-06T09:37:19.208Z"
   },
   {
    "duration": 326,
    "start_time": "2022-08-06T09:37:19.218Z"
   },
   {
    "duration": 5,
    "start_time": "2022-08-06T09:37:19.546Z"
   },
   {
    "duration": 91,
    "start_time": "2022-08-06T09:37:19.552Z"
   },
   {
    "duration": 17,
    "start_time": "2022-08-06T09:37:19.646Z"
   },
   {
    "duration": 29,
    "start_time": "2022-08-06T09:37:19.666Z"
   },
   {
    "duration": 6,
    "start_time": "2022-08-06T09:37:19.697Z"
   },
   {
    "duration": 8,
    "start_time": "2022-08-06T09:37:19.705Z"
   },
   {
    "duration": 12,
    "start_time": "2022-08-06T09:37:19.715Z"
   },
   {
    "duration": 69,
    "start_time": "2022-08-06T09:37:19.729Z"
   },
   {
    "duration": 17,
    "start_time": "2022-08-06T09:37:19.800Z"
   },
   {
    "duration": 248,
    "start_time": "2022-08-06T09:37:19.819Z"
   },
   {
    "duration": 11,
    "start_time": "2022-08-06T09:37:20.070Z"
   },
   {
    "duration": 29,
    "start_time": "2022-08-06T09:37:20.093Z"
   },
   {
    "duration": 3,
    "start_time": "2022-08-06T09:37:20.124Z"
   },
   {
    "duration": 43,
    "start_time": "2022-08-06T09:37:20.129Z"
   },
   {
    "duration": 23,
    "start_time": "2022-08-06T09:37:20.175Z"
   },
   {
    "duration": 20,
    "start_time": "2022-08-06T09:37:20.200Z"
   },
   {
    "duration": 9,
    "start_time": "2022-08-06T09:37:20.222Z"
   },
   {
    "duration": 13,
    "start_time": "2022-08-06T09:37:20.232Z"
   },
   {
    "duration": 29,
    "start_time": "2022-08-06T09:37:20.247Z"
   },
   {
    "duration": 19,
    "start_time": "2022-08-06T09:37:20.277Z"
   },
   {
    "duration": 25,
    "start_time": "2022-08-06T09:37:20.298Z"
   },
   {
    "duration": 6,
    "start_time": "2022-08-06T09:37:20.330Z"
   },
   {
    "duration": 12,
    "start_time": "2022-08-06T09:37:20.338Z"
   },
   {
    "duration": 12,
    "start_time": "2022-08-06T09:37:20.352Z"
   },
   {
    "duration": 7,
    "start_time": "2022-08-06T09:37:20.366Z"
   },
   {
    "duration": 7,
    "start_time": "2022-08-06T09:37:20.375Z"
   },
   {
    "duration": 490,
    "start_time": "2022-08-06T09:37:20.392Z"
   },
   {
    "duration": 3,
    "start_time": "2022-08-06T09:37:20.885Z"
   },
   {
    "duration": 17,
    "start_time": "2022-08-06T09:37:20.892Z"
   },
   {
    "duration": 45,
    "start_time": "2022-08-06T09:37:20.911Z"
   },
   {
    "duration": 208,
    "start_time": "2022-08-06T09:37:20.958Z"
   },
   {
    "duration": 299,
    "start_time": "2022-08-06T09:37:21.168Z"
   },
   {
    "duration": 378,
    "start_time": "2022-08-06T09:37:21.469Z"
   },
   {
    "duration": 414,
    "start_time": "2022-08-06T09:37:21.849Z"
   },
   {
    "duration": 196,
    "start_time": "2022-08-06T09:37:22.265Z"
   },
   {
    "duration": 184,
    "start_time": "2022-08-06T09:37:22.463Z"
   },
   {
    "duration": 186,
    "start_time": "2022-08-06T09:37:22.649Z"
   },
   {
    "duration": 172,
    "start_time": "2022-08-06T09:37:22.837Z"
   },
   {
    "duration": 233,
    "start_time": "2022-08-06T09:37:23.011Z"
   },
   {
    "duration": 500,
    "start_time": "2022-08-06T09:37:23.246Z"
   },
   {
    "duration": 614,
    "start_time": "2022-08-06T09:37:23.748Z"
   },
   {
    "duration": 345,
    "start_time": "2022-08-06T09:37:24.364Z"
   },
   {
    "duration": 7,
    "start_time": "2022-08-06T09:37:24.710Z"
   },
   {
    "duration": 223,
    "start_time": "2022-08-06T09:37:24.719Z"
   },
   {
    "duration": 196,
    "start_time": "2022-08-06T09:37:24.944Z"
   },
   {
    "duration": 363,
    "start_time": "2022-08-06T09:37:25.142Z"
   },
   {
    "duration": 22,
    "start_time": "2022-08-06T09:37:25.507Z"
   },
   {
    "duration": 211,
    "start_time": "2022-08-06T09:37:25.531Z"
   },
   {
    "duration": 323,
    "start_time": "2022-08-06T09:37:25.744Z"
   },
   {
    "duration": 199,
    "start_time": "2022-08-06T09:37:26.069Z"
   },
   {
    "duration": 162,
    "start_time": "2022-08-06T09:37:26.270Z"
   },
   {
    "duration": 150,
    "start_time": "2022-08-06T09:37:26.434Z"
   },
   {
    "duration": 174,
    "start_time": "2022-08-06T09:37:26.585Z"
   },
   {
    "duration": 191,
    "start_time": "2022-08-06T09:37:26.760Z"
   },
   {
    "duration": 158,
    "start_time": "2022-08-06T09:37:26.953Z"
   },
   {
    "duration": 259,
    "start_time": "2022-08-06T09:37:27.113Z"
   },
   {
    "duration": 179,
    "start_time": "2022-08-06T09:37:27.374Z"
   },
   {
    "duration": 26,
    "start_time": "2022-08-06T09:37:27.554Z"
   },
   {
    "duration": 182,
    "start_time": "2022-08-06T09:37:27.592Z"
   },
   {
    "duration": 172,
    "start_time": "2022-08-06T09:37:27.776Z"
   },
   {
    "duration": 5233,
    "start_time": "2022-08-06T09:37:27.951Z"
   },
   {
    "duration": 698,
    "start_time": "2022-08-06T09:37:33.187Z"
   },
   {
    "duration": 254,
    "start_time": "2022-08-06T09:48:18.704Z"
   },
   {
    "duration": 239,
    "start_time": "2022-08-06T09:49:39.838Z"
   },
   {
    "duration": 229,
    "start_time": "2022-08-06T09:49:46.678Z"
   },
   {
    "duration": 266,
    "start_time": "2022-08-06T09:52:01.877Z"
   },
   {
    "duration": 165,
    "start_time": "2022-08-06T09:52:11.970Z"
   },
   {
    "duration": 202,
    "start_time": "2022-08-06T09:52:54.228Z"
   },
   {
    "duration": 102,
    "start_time": "2022-08-06T09:53:13.334Z"
   },
   {
    "duration": 73,
    "start_time": "2022-08-06T09:53:16.426Z"
   },
   {
    "duration": 77,
    "start_time": "2022-08-06T09:53:25.022Z"
   },
   {
    "duration": 232,
    "start_time": "2022-08-06T09:53:33.608Z"
   },
   {
    "duration": 252,
    "start_time": "2022-08-06T09:53:41.761Z"
   },
   {
    "duration": 208,
    "start_time": "2022-08-06T09:54:17.305Z"
   }
  ],
  "kernelspec": {
   "display_name": "Python 3 (ipykernel)",
   "language": "python",
   "name": "python3"
  },
  "language_info": {
   "codemirror_mode": {
    "name": "ipython",
    "version": 3
   },
   "file_extension": ".py",
   "mimetype": "text/x-python",
   "name": "python",
   "nbconvert_exporter": "python",
   "pygments_lexer": "ipython3",
   "version": "3.9.12"
  },
  "toc": {
   "base_numbering": 1,
   "nav_menu": {
    "height": "363px",
    "width": "981px"
   },
   "number_sections": true,
   "sideBar": true,
   "skip_h1_title": true,
   "title_cell": "Table of Contents",
   "title_sidebar": "Contents",
   "toc_cell": false,
   "toc_position": {},
   "toc_section_display": true,
   "toc_window_display": true
  }
 },
 "nbformat": 4,
 "nbformat_minor": 2
}
