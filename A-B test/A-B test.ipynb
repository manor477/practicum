{
 "cells": [
  {
   "cell_type": "markdown",
   "metadata": {},
   "source": [
    "# Необходимо провести приоритизацию гипотез и анализ А/В-теста\n",
    "\n",
    "<a href='#data_description'>1. Описание данных.</a>\n",
    "\n",
    "<a href='#part1'>2. Нужно загрузить данные и применить фрейморвки `ICE` и `RICE` для приоритизации гипотез.</a>\n",
    "\n",
    "<a href='#part1_changing'>3. Расписать, как изменились приоритеты после применения двух методов.</a>\n",
    "\n",
    "<a href='#ab_tests'>4. Провести ряд А/В-тестов и проанализировать выводы.</a>\n",
    "\n",
    "<a href='#conclusion'>5. Принять решение по результатам тестов и объяснить их, сделать общий вывод.</a>"
   ]
  },
  {
   "cell_type": "markdown",
   "metadata": {},
   "source": [
    "<a id='data_description'></a>\n",
    "**Описание данных**"
   ]
  },
  {
   "cell_type": "markdown",
   "metadata": {},
   "source": [
    "Данные для первой части\n",
    "Файл `/datasets/hypothesis.csv.` \n",
    "* `Hypothesis` — краткое описание гипотезы;\n",
    "* `Reach` — охват пользователей по 10-балльной шкале;\n",
    "* `Impact` — влияние на пользователей по 10-балльной шкале;\n",
    "* `Confidence` — уверенность в гипотезе по 10-балльной шкале;\n",
    "* `Efforts` — затраты ресурсов на проверку гипотезы по 10-балльной шкале. Чем больше значение Efforts, тем дороже проверка гипотезы.\n",
    "\n",
    "Данные для второй части\n",
    "Файл `/datasets/orders.csv.`\n",
    "* `transactionId` — идентификатор заказа;\n",
    "* `visitorId` — идентификатор пользователя, совершившего заказ;\n",
    "* `date` — дата, когда был совершён заказ;\n",
    "* `revenue` — выручка заказа;\n",
    "* `group` — группа A/B-теста, в которую попал заказ.\n",
    "\n",
    "Файл `/datasets/visitors.csv.`\n",
    "* `date` — дата;\n",
    "* `group` — группа A/B-теста;\n",
    "* `visitors` — количество пользователей в указанную дату в указанной группе A/B-теста"
   ]
  },
  {
   "cell_type": "markdown",
   "metadata": {},
   "source": [
    "<a id='part1'></a>\n",
    "## Приоритизация гипотез. (Часть 1)"
   ]
  },
  {
   "cell_type": "markdown",
   "metadata": {},
   "source": [
    "### Ознакомление с датафреймом."
   ]
  },
  {
   "cell_type": "markdown",
   "metadata": {},
   "source": [
    "Импортируем библиотеки и читаем данные датафрейма."
   ]
  },
  {
   "cell_type": "code",
   "execution_count": 2,
   "metadata": {},
   "outputs": [],
   "source": [
    "import pandas as pd\n",
    "import datetime as dt\n",
    "import numpy as np\n",
    "import matplotlib.pyplot as plt\n",
    "import scipy.stats as stats"
   ]
  },
  {
   "cell_type": "code",
   "execution_count": 3,
   "metadata": {},
   "outputs": [],
   "source": [
    "data1 = pd.read_csv('https://code.s3.yandex.net/datasets/hypothesis.csv')"
   ]
  },
  {
   "cell_type": "code",
   "execution_count": 4,
   "metadata": {
    "scrolled": false
   },
   "outputs": [
    {
     "data": {
      "text/html": [
       "<div>\n",
       "<style scoped>\n",
       "    .dataframe tbody tr th:only-of-type {\n",
       "        vertical-align: middle;\n",
       "    }\n",
       "\n",
       "    .dataframe tbody tr th {\n",
       "        vertical-align: top;\n",
       "    }\n",
       "\n",
       "    .dataframe thead th {\n",
       "        text-align: right;\n",
       "    }\n",
       "</style>\n",
       "<table border=\"1\" class=\"dataframe\">\n",
       "  <thead>\n",
       "    <tr style=\"text-align: right;\">\n",
       "      <th></th>\n",
       "      <th>Hypothesis</th>\n",
       "      <th>Reach</th>\n",
       "      <th>Impact</th>\n",
       "      <th>Confidence</th>\n",
       "      <th>Efforts</th>\n",
       "    </tr>\n",
       "  </thead>\n",
       "  <tbody>\n",
       "    <tr>\n",
       "      <th>0</th>\n",
       "      <td>Добавить два новых канала привлечения трафика, что позволит привлекать на 30% больше пользователей</td>\n",
       "      <td>3</td>\n",
       "      <td>10</td>\n",
       "      <td>8</td>\n",
       "      <td>6</td>\n",
       "    </tr>\n",
       "    <tr>\n",
       "      <th>1</th>\n",
       "      <td>Запустить собственную службу доставки, что сократит срок доставки заказов</td>\n",
       "      <td>2</td>\n",
       "      <td>5</td>\n",
       "      <td>4</td>\n",
       "      <td>10</td>\n",
       "    </tr>\n",
       "    <tr>\n",
       "      <th>2</th>\n",
       "      <td>Добавить блоки рекомендаций товаров на сайт интернет магазина, чтобы повысить конверсию и средний чек заказа</td>\n",
       "      <td>8</td>\n",
       "      <td>3</td>\n",
       "      <td>7</td>\n",
       "      <td>3</td>\n",
       "    </tr>\n",
       "    <tr>\n",
       "      <th>3</th>\n",
       "      <td>Изменить структура категорий, что увеличит конверсию, т.к. пользователи быстрее найдут нужный товар</td>\n",
       "      <td>8</td>\n",
       "      <td>3</td>\n",
       "      <td>3</td>\n",
       "      <td>8</td>\n",
       "    </tr>\n",
       "    <tr>\n",
       "      <th>4</th>\n",
       "      <td>Изменить цвет фона главной страницы, чтобы увеличить вовлеченность пользователей</td>\n",
       "      <td>3</td>\n",
       "      <td>1</td>\n",
       "      <td>1</td>\n",
       "      <td>1</td>\n",
       "    </tr>\n",
       "    <tr>\n",
       "      <th>5</th>\n",
       "      <td>Добавить страницу отзывов клиентов о магазине, что позволит увеличить количество заказов</td>\n",
       "      <td>3</td>\n",
       "      <td>2</td>\n",
       "      <td>2</td>\n",
       "      <td>3</td>\n",
       "    </tr>\n",
       "    <tr>\n",
       "      <th>6</th>\n",
       "      <td>Показать на главной странице баннеры с актуальными акциями и распродажами, чтобы увеличить конверсию</td>\n",
       "      <td>5</td>\n",
       "      <td>3</td>\n",
       "      <td>8</td>\n",
       "      <td>3</td>\n",
       "    </tr>\n",
       "    <tr>\n",
       "      <th>7</th>\n",
       "      <td>Добавить форму подписки на все основные страницы, чтобы собрать базу клиентов для email-рассылок</td>\n",
       "      <td>10</td>\n",
       "      <td>7</td>\n",
       "      <td>8</td>\n",
       "      <td>5</td>\n",
       "    </tr>\n",
       "    <tr>\n",
       "      <th>8</th>\n",
       "      <td>Запустить акцию, дающую скидку на товар в день рождения</td>\n",
       "      <td>1</td>\n",
       "      <td>9</td>\n",
       "      <td>9</td>\n",
       "      <td>5</td>\n",
       "    </tr>\n",
       "  </tbody>\n",
       "</table>\n",
       "</div>"
      ],
      "text/plain": [
       "                                                                                                     Hypothesis  \\\n",
       "0            Добавить два новых канала привлечения трафика, что позволит привлекать на 30% больше пользователей   \n",
       "1                                     Запустить собственную службу доставки, что сократит срок доставки заказов   \n",
       "2  Добавить блоки рекомендаций товаров на сайт интернет магазина, чтобы повысить конверсию и средний чек заказа   \n",
       "3           Изменить структура категорий, что увеличит конверсию, т.к. пользователи быстрее найдут нужный товар   \n",
       "4                              Изменить цвет фона главной страницы, чтобы увеличить вовлеченность пользователей   \n",
       "5                      Добавить страницу отзывов клиентов о магазине, что позволит увеличить количество заказов   \n",
       "6          Показать на главной странице баннеры с актуальными акциями и распродажами, чтобы увеличить конверсию   \n",
       "7              Добавить форму подписки на все основные страницы, чтобы собрать базу клиентов для email-рассылок   \n",
       "8                                                       Запустить акцию, дающую скидку на товар в день рождения   \n",
       "\n",
       "   Reach  Impact  Confidence  Efforts  \n",
       "0      3      10           8        6  \n",
       "1      2       5           4       10  \n",
       "2      8       3           7        3  \n",
       "3      8       3           3        8  \n",
       "4      3       1           1        1  \n",
       "5      3       2           2        3  \n",
       "6      5       3           8        3  \n",
       "7     10       7           8        5  \n",
       "8      1       9           9        5  "
      ]
     },
     "execution_count": 4,
     "metadata": {},
     "output_type": "execute_result"
    }
   ],
   "source": [
    "pd.options.display.max_colwidth = 110\n",
    "data1"
   ]
  },
  {
   "cell_type": "markdown",
   "metadata": {},
   "source": [
    "### Применим способ приоритизации задач `ICE`"
   ]
  },
  {
   "cell_type": "markdown",
   "metadata": {},
   "source": [
    "ICE скоринг – это относительно быстрый способ присвоить конкретное числовое значение различным проектам или идеям для обозначения их приоритетности."
   ]
  },
  {
   "cell_type": "code",
   "execution_count": 5,
   "metadata": {
    "scrolled": true
   },
   "outputs": [
    {
     "name": "stdout",
     "output_type": "stream",
     "text": [
      "                                                         Hypothesis    ICE\n",
      "8           Запустить акцию, дающую скидку на товар в день рождения  16.20\n",
      "0  Добавить два новых канала привлечения трафика, что позволит п...  13.33\n",
      "7  Добавить форму подписки на все основные страницы, чтобы собра...  11.20\n",
      "6  Показать на главной странице баннеры с актуальными акциями и ...   8.00\n",
      "2  Добавить блоки рекомендаций товаров на сайт интернет магазина...   7.00\n",
      "1  Запустить собственную службу доставки, что сократит срок дост...   2.00\n",
      "5  Добавить страницу отзывов клиентов о магазине, что позволит у...   1.33\n",
      "3  Изменить структура категорий, что увеличит конверсию, т.к. по...   1.12\n",
      "4  Изменить цвет фона главной страницы, чтобы увеличить вовлечен...   1.00\n"
     ]
    }
   ],
   "source": [
    "pd.options.display.max_colwidth = 65\n",
    "data1['ICE'] = data1['Impact'] * data1['Confidence'] / data1['Efforts']\n",
    "print(data1[['Hypothesis', 'ICE']].sort_values(by='ICE', ascending=False).round(2))"
   ]
  },
  {
   "cell_type": "markdown",
   "metadata": {},
   "source": [
    "### Применим способ приоритизации задач `RICE`"
   ]
  },
  {
   "cell_type": "markdown",
   "metadata": {},
   "source": [
    "Rice Score — первый и довольно простой метод приоритизации идей. С его помощью мы с легкостью можем оценить задачи в проекте, и в дальнейшем сформировать последовательный план реализации продукта.\n",
    "Основное отличие заключается в том, что метод RICE скоринга предполагает ещё и оценку охвата, т.е. предполагаемой целевой аудитории проекта."
   ]
  },
  {
   "cell_type": "code",
   "execution_count": 6,
   "metadata": {},
   "outputs": [
    {
     "name": "stdout",
     "output_type": "stream",
     "text": [
      "                                                         Hypothesis   RICE\n",
      "7  Добавить форму подписки на все основные страницы, чтобы собра...  112.0\n",
      "2  Добавить блоки рекомендаций товаров на сайт интернет магазина...   56.0\n",
      "0  Добавить два новых канала привлечения трафика, что позволит п...   40.0\n",
      "6  Показать на главной странице баннеры с актуальными акциями и ...   40.0\n",
      "8           Запустить акцию, дающую скидку на товар в день рождения   16.2\n",
      "3  Изменить структура категорий, что увеличит конверсию, т.к. по...    9.0\n",
      "1  Запустить собственную службу доставки, что сократит срок дост...    4.0\n",
      "5  Добавить страницу отзывов клиентов о магазине, что позволит у...    4.0\n",
      "4  Изменить цвет фона главной страницы, чтобы увеличить вовлечен...    3.0\n"
     ]
    }
   ],
   "source": [
    "data1['RICE'] = data1['Reach'] * data1['Impact'] * data1['Confidence'] / data1['Efforts']\n",
    "print(data1[['Hypothesis', 'RICE']].sort_values(by='RICE', ascending=False))"
   ]
  },
  {
   "cell_type": "markdown",
   "metadata": {},
   "source": [
    "<a id='part1_changing'></a>\n",
    "### Подитог приоритизации гипотез:\n",
    "Приоритеты у способов `ICE` и `RICE` сильно разнятся, но в целом лидеры и аутсайдеры по гипотезам одиннаковые, меняется лишь их скоринг. Элементы у систем скоринга совпадают по 3/4 пунктам, однако, ключевое отличие 'Reach' - элемент \"охават\" вносит свои изменения в общую формулу вычисления, из-за этого и поменялась приоритизация гипотез."
   ]
  },
  {
   "cell_type": "markdown",
   "metadata": {},
   "source": [
    "---"
   ]
  },
  {
   "cell_type": "markdown",
   "metadata": {},
   "source": [
    "## Анализ А/В-теста. (Часть 2)"
   ]
  },
  {
   "cell_type": "markdown",
   "metadata": {},
   "source": [
    "### Ознакомление с датафреймом."
   ]
  },
  {
   "cell_type": "markdown",
   "metadata": {},
   "source": [
    "Читаем данные датафреймов."
   ]
  },
  {
   "cell_type": "code",
   "execution_count": 7,
   "metadata": {},
   "outputs": [],
   "source": [
    "visitors, orders = (\n",
    "    pd.read_csv('https://code.s3.yandex.net/datasets/visitors.csv'), # датафрейм с посетителями\n",
    "    pd.read_csv('https://code.s3.yandex.net/datasets/orders.csv')  # датафрейм с заказами\n",
    ")"
   ]
  },
  {
   "cell_type": "markdown",
   "metadata": {},
   "source": [
    "Выводим типы столбцов и ознакамливаемся с датафреймами."
   ]
  },
  {
   "cell_type": "code",
   "execution_count": 8,
   "metadata": {},
   "outputs": [
    {
     "name": "stdout",
     "output_type": "stream",
     "text": [
      "<class 'pandas.core.frame.DataFrame'>\n",
      "RangeIndex: 62 entries, 0 to 61\n",
      "Data columns (total 3 columns):\n",
      " #   Column    Non-Null Count  Dtype \n",
      "---  ------    --------------  ----- \n",
      " 0   date      62 non-null     object\n",
      " 1   group     62 non-null     object\n",
      " 2   visitors  62 non-null     int64 \n",
      "dtypes: int64(1), object(2)\n",
      "memory usage: 1.6+ KB\n"
     ]
    },
    {
     "data": {
      "text/html": [
       "<div>\n",
       "<style scoped>\n",
       "    .dataframe tbody tr th:only-of-type {\n",
       "        vertical-align: middle;\n",
       "    }\n",
       "\n",
       "    .dataframe tbody tr th {\n",
       "        vertical-align: top;\n",
       "    }\n",
       "\n",
       "    .dataframe thead th {\n",
       "        text-align: right;\n",
       "    }\n",
       "</style>\n",
       "<table border=\"1\" class=\"dataframe\">\n",
       "  <thead>\n",
       "    <tr style=\"text-align: right;\">\n",
       "      <th></th>\n",
       "      <th>date</th>\n",
       "      <th>group</th>\n",
       "      <th>visitors</th>\n",
       "    </tr>\n",
       "  </thead>\n",
       "  <tbody>\n",
       "    <tr>\n",
       "      <th>0</th>\n",
       "      <td>2019-08-01</td>\n",
       "      <td>A</td>\n",
       "      <td>719</td>\n",
       "    </tr>\n",
       "    <tr>\n",
       "      <th>1</th>\n",
       "      <td>2019-08-02</td>\n",
       "      <td>A</td>\n",
       "      <td>619</td>\n",
       "    </tr>\n",
       "    <tr>\n",
       "      <th>2</th>\n",
       "      <td>2019-08-03</td>\n",
       "      <td>A</td>\n",
       "      <td>507</td>\n",
       "    </tr>\n",
       "    <tr>\n",
       "      <th>3</th>\n",
       "      <td>2019-08-04</td>\n",
       "      <td>A</td>\n",
       "      <td>717</td>\n",
       "    </tr>\n",
       "    <tr>\n",
       "      <th>4</th>\n",
       "      <td>2019-08-05</td>\n",
       "      <td>A</td>\n",
       "      <td>756</td>\n",
       "    </tr>\n",
       "  </tbody>\n",
       "</table>\n",
       "</div>"
      ],
      "text/plain": [
       "         date group  visitors\n",
       "0  2019-08-01     A       719\n",
       "1  2019-08-02     A       619\n",
       "2  2019-08-03     A       507\n",
       "3  2019-08-04     A       717\n",
       "4  2019-08-05     A       756"
      ]
     },
     "execution_count": 8,
     "metadata": {},
     "output_type": "execute_result"
    }
   ],
   "source": [
    "visitors.info()\n",
    "visitors.head(5)"
   ]
  },
  {
   "cell_type": "code",
   "execution_count": 9,
   "metadata": {},
   "outputs": [
    {
     "name": "stdout",
     "output_type": "stream",
     "text": [
      "<class 'pandas.core.frame.DataFrame'>\n",
      "RangeIndex: 1197 entries, 0 to 1196\n",
      "Data columns (total 5 columns):\n",
      " #   Column         Non-Null Count  Dtype \n",
      "---  ------         --------------  ----- \n",
      " 0   transactionId  1197 non-null   int64 \n",
      " 1   visitorId      1197 non-null   int64 \n",
      " 2   date           1197 non-null   object\n",
      " 3   revenue        1197 non-null   int64 \n",
      " 4   group          1197 non-null   object\n",
      "dtypes: int64(3), object(2)\n",
      "memory usage: 46.9+ KB\n"
     ]
    },
    {
     "data": {
      "text/html": [
       "<div>\n",
       "<style scoped>\n",
       "    .dataframe tbody tr th:only-of-type {\n",
       "        vertical-align: middle;\n",
       "    }\n",
       "\n",
       "    .dataframe tbody tr th {\n",
       "        vertical-align: top;\n",
       "    }\n",
       "\n",
       "    .dataframe thead th {\n",
       "        text-align: right;\n",
       "    }\n",
       "</style>\n",
       "<table border=\"1\" class=\"dataframe\">\n",
       "  <thead>\n",
       "    <tr style=\"text-align: right;\">\n",
       "      <th></th>\n",
       "      <th>transactionId</th>\n",
       "      <th>visitorId</th>\n",
       "      <th>date</th>\n",
       "      <th>revenue</th>\n",
       "      <th>group</th>\n",
       "    </tr>\n",
       "  </thead>\n",
       "  <tbody>\n",
       "    <tr>\n",
       "      <th>0</th>\n",
       "      <td>3667963787</td>\n",
       "      <td>3312258926</td>\n",
       "      <td>2019-08-15</td>\n",
       "      <td>1650</td>\n",
       "      <td>B</td>\n",
       "    </tr>\n",
       "    <tr>\n",
       "      <th>1</th>\n",
       "      <td>2804400009</td>\n",
       "      <td>3642806036</td>\n",
       "      <td>2019-08-15</td>\n",
       "      <td>730</td>\n",
       "      <td>B</td>\n",
       "    </tr>\n",
       "    <tr>\n",
       "      <th>2</th>\n",
       "      <td>2961555356</td>\n",
       "      <td>4069496402</td>\n",
       "      <td>2019-08-15</td>\n",
       "      <td>400</td>\n",
       "      <td>A</td>\n",
       "    </tr>\n",
       "    <tr>\n",
       "      <th>3</th>\n",
       "      <td>3797467345</td>\n",
       "      <td>1196621759</td>\n",
       "      <td>2019-08-15</td>\n",
       "      <td>9759</td>\n",
       "      <td>B</td>\n",
       "    </tr>\n",
       "    <tr>\n",
       "      <th>4</th>\n",
       "      <td>2282983706</td>\n",
       "      <td>2322279887</td>\n",
       "      <td>2019-08-15</td>\n",
       "      <td>2308</td>\n",
       "      <td>B</td>\n",
       "    </tr>\n",
       "  </tbody>\n",
       "</table>\n",
       "</div>"
      ],
      "text/plain": [
       "   transactionId   visitorId        date  revenue group\n",
       "0     3667963787  3312258926  2019-08-15     1650     B\n",
       "1     2804400009  3642806036  2019-08-15      730     B\n",
       "2     2961555356  4069496402  2019-08-15      400     A\n",
       "3     3797467345  1196621759  2019-08-15     9759     B\n",
       "4     2282983706  2322279887  2019-08-15     2308     B"
      ]
     },
     "execution_count": 9,
     "metadata": {},
     "output_type": "execute_result"
    }
   ],
   "source": [
    "orders.info()\n",
    "orders.head(5)"
   ]
  },
  {
   "cell_type": "markdown",
   "metadata": {},
   "source": [
    "### Предобработка данных и подготовках их к анализу."
   ]
  },
  {
   "cell_type": "markdown",
   "metadata": {},
   "source": [
    "#### Изменим название столбцов."
   ]
  },
  {
   "cell_type": "code",
   "execution_count": 10,
   "metadata": {},
   "outputs": [],
   "source": [
    "orders = orders.rename(columns={'transactionId': 'transaction_id', 'visitorId': 'visitor_id'})"
   ]
  },
  {
   "cell_type": "code",
   "execution_count": 11,
   "metadata": {},
   "outputs": [
    {
     "name": "stdout",
     "output_type": "stream",
     "text": [
      "<class 'pandas.core.frame.DataFrame'>\n",
      "RangeIndex: 1197 entries, 0 to 1196\n",
      "Data columns (total 5 columns):\n",
      " #   Column          Non-Null Count  Dtype \n",
      "---  ------          --------------  ----- \n",
      " 0   transaction_id  1197 non-null   int64 \n",
      " 1   visitor_id      1197 non-null   int64 \n",
      " 2   date            1197 non-null   object\n",
      " 3   revenue         1197 non-null   int64 \n",
      " 4   group           1197 non-null   object\n",
      "dtypes: int64(3), object(2)\n",
      "memory usage: 46.9+ KB\n"
     ]
    }
   ],
   "source": [
    "orders.info()"
   ]
  },
  {
   "cell_type": "markdown",
   "metadata": {},
   "source": [
    "#### Проверка пропусков."
   ]
  },
  {
   "cell_type": "markdown",
   "metadata": {},
   "source": [
    "Убедимся, что пропусков в датафреймах нет."
   ]
  },
  {
   "cell_type": "code",
   "execution_count": 12,
   "metadata": {},
   "outputs": [
    {
     "data": {
      "text/plain": [
       "date        0\n",
       "group       0\n",
       "visitors    0\n",
       "dtype: int64"
      ]
     },
     "execution_count": 12,
     "metadata": {},
     "output_type": "execute_result"
    }
   ],
   "source": [
    "visitors.isna().sum()"
   ]
  },
  {
   "cell_type": "code",
   "execution_count": 13,
   "metadata": {},
   "outputs": [
    {
     "data": {
      "text/plain": [
       "transaction_id    0\n",
       "visitor_id        0\n",
       "date              0\n",
       "revenue           0\n",
       "group             0\n",
       "dtype: int64"
      ]
     },
     "execution_count": 13,
     "metadata": {},
     "output_type": "execute_result"
    }
   ],
   "source": [
    "orders.isna().sum()"
   ]
  },
  {
   "cell_type": "markdown",
   "metadata": {},
   "source": [
    "#### Изменение типов данных."
   ]
  },
  {
   "cell_type": "code",
   "execution_count": 14,
   "metadata": {},
   "outputs": [
    {
     "name": "stdout",
     "output_type": "stream",
     "text": [
      "<class 'pandas.core.frame.DataFrame'>\n",
      "RangeIndex: 62 entries, 0 to 61\n",
      "Data columns (total 3 columns):\n",
      " #   Column    Non-Null Count  Dtype \n",
      "---  ------    --------------  ----- \n",
      " 0   date      62 non-null     object\n",
      " 1   group     62 non-null     object\n",
      " 2   visitors  62 non-null     int64 \n",
      "dtypes: int64(1), object(2)\n",
      "memory usage: 1.6+ KB\n",
      "<class 'pandas.core.frame.DataFrame'>\n",
      "RangeIndex: 1197 entries, 0 to 1196\n",
      "Data columns (total 5 columns):\n",
      " #   Column          Non-Null Count  Dtype \n",
      "---  ------          --------------  ----- \n",
      " 0   transaction_id  1197 non-null   int64 \n",
      " 1   visitor_id      1197 non-null   int64 \n",
      " 2   date            1197 non-null   object\n",
      " 3   revenue         1197 non-null   int64 \n",
      " 4   group           1197 non-null   object\n",
      "dtypes: int64(3), object(2)\n",
      "memory usage: 46.9+ KB\n"
     ]
    }
   ],
   "source": [
    "visitors.info()\n",
    "orders.info()"
   ]
  },
  {
   "cell_type": "code",
   "execution_count": 15,
   "metadata": {},
   "outputs": [],
   "source": [
    "# датафрейм с посетителями\n",
    "visitors['date'] = pd.to_datetime(visitors['date'])\n",
    "\n",
    "# датафрейм с заказами\n",
    "orders['date'] = pd.to_datetime(orders['date'])"
   ]
  },
  {
   "cell_type": "markdown",
   "metadata": {},
   "source": [
    "#### Проверим дубликаты."
   ]
  },
  {
   "cell_type": "code",
   "execution_count": 16,
   "metadata": {},
   "outputs": [
    {
     "data": {
      "text/plain": [
       "0"
      ]
     },
     "execution_count": 16,
     "metadata": {},
     "output_type": "execute_result"
    }
   ],
   "source": [
    "visitors.duplicated().sum()"
   ]
  },
  {
   "cell_type": "code",
   "execution_count": 17,
   "metadata": {},
   "outputs": [
    {
     "data": {
      "text/plain": [
       "0"
      ]
     },
     "execution_count": 17,
     "metadata": {},
     "output_type": "execute_result"
    }
   ],
   "source": [
    "orders.duplicated().sum()"
   ]
  },
  {
   "cell_type": "markdown",
   "metadata": {},
   "source": [
    "#### Проверим аномальные значения."
   ]
  },
  {
   "cell_type": "code",
   "execution_count": 18,
   "metadata": {},
   "outputs": [
    {
     "data": {
      "text/html": [
       "<div>\n",
       "<style scoped>\n",
       "    .dataframe tbody tr th:only-of-type {\n",
       "        vertical-align: middle;\n",
       "    }\n",
       "\n",
       "    .dataframe tbody tr th {\n",
       "        vertical-align: top;\n",
       "    }\n",
       "\n",
       "    .dataframe thead th {\n",
       "        text-align: right;\n",
       "    }\n",
       "</style>\n",
       "<table border=\"1\" class=\"dataframe\">\n",
       "  <thead>\n",
       "    <tr style=\"text-align: right;\">\n",
       "      <th></th>\n",
       "      <th>date</th>\n",
       "      <th>group</th>\n",
       "      <th>visitors</th>\n",
       "    </tr>\n",
       "  </thead>\n",
       "  <tbody>\n",
       "    <tr>\n",
       "      <th>min</th>\n",
       "      <td>2019-08-01</td>\n",
       "      <td>A</td>\n",
       "      <td>361</td>\n",
       "    </tr>\n",
       "    <tr>\n",
       "      <th>max</th>\n",
       "      <td>2019-08-31</td>\n",
       "      <td>B</td>\n",
       "      <td>770</td>\n",
       "    </tr>\n",
       "  </tbody>\n",
       "</table>\n",
       "</div>"
      ],
      "text/plain": [
       "          date group  visitors\n",
       "min 2019-08-01     A       361\n",
       "max 2019-08-31     B       770"
      ]
     },
     "execution_count": 18,
     "metadata": {},
     "output_type": "execute_result"
    }
   ],
   "source": [
    "(\n",
    "visitors[['date', 'group', 'visitors']]\n",
    "    .apply ([ 'min', 'max'])\n",
    ")"
   ]
  },
  {
   "cell_type": "code",
   "execution_count": 19,
   "metadata": {},
   "outputs": [
    {
     "data": {
      "text/html": [
       "<div>\n",
       "<style scoped>\n",
       "    .dataframe tbody tr th:only-of-type {\n",
       "        vertical-align: middle;\n",
       "    }\n",
       "\n",
       "    .dataframe tbody tr th {\n",
       "        vertical-align: top;\n",
       "    }\n",
       "\n",
       "    .dataframe thead th {\n",
       "        text-align: right;\n",
       "    }\n",
       "</style>\n",
       "<table border=\"1\" class=\"dataframe\">\n",
       "  <thead>\n",
       "    <tr style=\"text-align: right;\">\n",
       "      <th></th>\n",
       "      <th>date</th>\n",
       "      <th>group</th>\n",
       "      <th>revenue</th>\n",
       "    </tr>\n",
       "  </thead>\n",
       "  <tbody>\n",
       "    <tr>\n",
       "      <th>min</th>\n",
       "      <td>2019-08-01</td>\n",
       "      <td>A</td>\n",
       "      <td>50</td>\n",
       "    </tr>\n",
       "    <tr>\n",
       "      <th>max</th>\n",
       "      <td>2019-08-31</td>\n",
       "      <td>B</td>\n",
       "      <td>1294500</td>\n",
       "    </tr>\n",
       "  </tbody>\n",
       "</table>\n",
       "</div>"
      ],
      "text/plain": [
       "          date group  revenue\n",
       "min 2019-08-01     A       50\n",
       "max 2019-08-31     B  1294500"
      ]
     },
     "execution_count": 19,
     "metadata": {},
     "output_type": "execute_result"
    }
   ],
   "source": [
    "(\n",
    "orders[['date', 'group', 'revenue']]\n",
    "    .apply ([ 'min', 'max'])\n",
    ")"
   ]
  },
  {
   "cell_type": "markdown",
   "metadata": {},
   "source": [
    "### Подитог пунтка 1. (Часть 2)"
   ]
  },
  {
   "cell_type": "markdown",
   "metadata": {},
   "source": [
    "**Датафреймы не подлежали какому-либо кардинальному изменению по типам столбцов или удалению дулбикатов/пропусков. Были проделаны следующие шаги:**\n",
    "- названия столбцов переименованы,\n",
    "- типы данных изменены у столбцов с датой и временем,\n",
    "- дубликаты не найдены,\n",
    "- пропуски не найдены,\n",
    "- аномалии не найдены;\n",
    "\n",
    "Дата начала теста: *01.08.2019*\n",
    "Дата окончания теста: *31.08.2019*"
   ]
  },
  {
   "cell_type": "code",
   "execution_count": 20,
   "metadata": {},
   "outputs": [
    {
     "data": {
      "text/plain": [
       "array([   8300375,  199603092,  232979603,  237748145,  276558944,\n",
       "        351125977,  393266494,  457167155,  471551937,  477780734,\n",
       "        818047933,  963407295, 1230306981, 1294878855, 1316129916,\n",
       "       1333886533, 1404934699, 1602967004, 1614305549, 1648269707,\n",
       "       1668030113, 1738359350, 1801183820, 1959144690, 2038680547,\n",
       "       2044997962, 2378935119, 2458001652, 2579882178, 2587333274,\n",
       "       2600415354, 2654030115, 2686716486, 2712142231, 2716752286,\n",
       "       2780786433, 2927087541, 2949041841, 2954449915, 3062433592,\n",
       "       3202540741, 3234906277, 3656415546, 3717692402, 3766097110,\n",
       "       3803269165, 3891541246, 3941795274, 3951559397, 3957174400,\n",
       "       3963646447, 3972127743, 3984495233, 4069496402, 4120364173,\n",
       "       4186807279, 4256040402, 4266935830])"
      ]
     },
     "execution_count": 20,
     "metadata": {},
     "output_type": "execute_result"
    }
   ],
   "source": [
    "duplicated_values = (np.intersect1d(orders.query('group == \"A\"')['visitor_id'], \n",
    "                                    orders.query('group == \"B\"')['visitor_id'], assume_unique = False))\n",
    "duplicated_values\n"
   ]
  },
  {
   "cell_type": "code",
   "execution_count": 21,
   "metadata": {},
   "outputs": [
    {
     "data": {
      "text/plain": [
       "166"
      ]
     },
     "execution_count": 21,
     "metadata": {},
     "output_type": "execute_result"
    }
   ],
   "source": [
    "len(np.intersect1d(orders.query('group == \"A\"')['visitor_id'], \n",
    "                   orders.query('group == \"B\"')['visitor_id'], assume_unique = True))"
   ]
  },
  {
   "cell_type": "markdown",
   "metadata": {},
   "source": [
    "---"
   ]
  },
  {
   "cell_type": "markdown",
   "metadata": {},
   "source": [
    "<a id='ab_tests'></a>\n",
    "## Задачи по анализу А/В-тестов. (Часть 2)"
   ]
  },
  {
   "cell_type": "markdown",
   "metadata": {},
   "source": [
    "### Постройте график кумулятивной выручки по группам. Сделайте выводы и предположения."
   ]
  },
  {
   "cell_type": "markdown",
   "metadata": {},
   "source": [
    "- создадим отдельный датафрейм `datesGroups` с уникальными парами значений 'date' и 'group' из таблицы 'orders'.\n",
    "- объявим переменные `ordersAggregated` и `visitorsAggregated` с необходимыми столбцами и данными.\n",
    "- затем добавим ещё одну преременную `cumulativeData` объединив 2 датафрейма `ordersAggregated` и `visitorsAggregated`."
   ]
  },
  {
   "cell_type": "code",
   "execution_count": 22,
   "metadata": {
    "scrolled": true
   },
   "outputs": [
    {
     "name": "stdout",
     "output_type": "stream",
     "text": [
      "        date group  orders  buyers  revenue  visitors\n",
      "0 2019-08-01     A      24      20   148579       719\n",
      "1 2019-08-01     B      21      20   101217       713\n",
      "2 2019-08-02     A      44      38   242401      1338\n",
      "3 2019-08-02     B      45      43   266748      1294\n",
      "4 2019-08-03     A      68      62   354874      1845\n"
     ]
    }
   ],
   "source": [
    "# датафрейм datesGroups с уникальными парами значений date и group, таблицы orders\n",
    "datesGroups = orders[['date','group']].drop_duplicates() \n",
    "\n",
    "# переменная с агрегированными данными о заказах\n",
    "ordersAggregated = datesGroups.apply(\n",
    "    lambda x: orders[np.logical_and(orders['date'] <= x['date'], orders['group'] == x['group'])]\n",
    "    .agg({\n",
    "        'date' : 'max',\n",
    "        'group' : 'max',\n",
    "        'transaction_id' : 'nunique',\n",
    "        'visitor_id' : 'nunique',\n",
    "        'revenue' : 'sum'}), axis=1).sort_values(by=['date','group']) \n",
    "\n",
    "# переменная с агрегированными данными о посетителях\n",
    "visitorsAggregated = datesGroups.apply(\n",
    "    lambda x: visitors[np.logical_and(visitors['date'] <= x['date'], visitors['group'] == x['group'])]\n",
    "    .agg({\n",
    "        'date' : 'max',\n",
    "        'group' : 'max',\n",
    "        'visitors' : 'sum'}), axis=1).sort_values(by=['date','group']) \n",
    "\n",
    "# соединение кумулятивные данные в одной таблицу и и называем столбцы\n",
    "cumulativeData = ordersAggregated.merge(visitorsAggregated, left_on=['date', 'group'], right_on=['date', 'group'])\n",
    "cumulativeData.columns = ['date', 'group', 'orders', 'buyers', 'revenue', 'visitors'] \n",
    "\n",
    "print(cumulativeData.head(5)) "
   ]
  },
  {
   "cell_type": "code",
   "execution_count": 23,
   "metadata": {},
   "outputs": [
    {
     "data": {
      "text/html": [
       "<div>\n",
       "<style scoped>\n",
       "    .dataframe tbody tr th:only-of-type {\n",
       "        vertical-align: middle;\n",
       "    }\n",
       "\n",
       "    .dataframe tbody tr th {\n",
       "        vertical-align: top;\n",
       "    }\n",
       "\n",
       "    .dataframe thead th {\n",
       "        text-align: right;\n",
       "    }\n",
       "</style>\n",
       "<table border=\"1\" class=\"dataframe\">\n",
       "  <thead>\n",
       "    <tr style=\"text-align: right;\">\n",
       "      <th></th>\n",
       "      <th>initial_data</th>\n",
       "      <th>new_df</th>\n",
       "    </tr>\n",
       "  </thead>\n",
       "  <tbody>\n",
       "    <tr>\n",
       "      <th>min</th>\n",
       "      <td>2019-08-01</td>\n",
       "      <td>2019-08-01</td>\n",
       "    </tr>\n",
       "    <tr>\n",
       "      <th>max</th>\n",
       "      <td>2019-08-31</td>\n",
       "      <td>2019-08-31</td>\n",
       "    </tr>\n",
       "  </tbody>\n",
       "</table>\n",
       "</div>"
      ],
      "text/plain": [
       "    initial_data     new_df\n",
       "min   2019-08-01 2019-08-01\n",
       "max   2019-08-31 2019-08-31"
      ]
     },
     "execution_count": 23,
     "metadata": {},
     "output_type": "execute_result"
    }
   ],
   "source": [
    "check_date = pd.DataFrame()\n",
    "check_date['initial_data'] = orders['date']\n",
    "check_date['new_df'] = cumulativeData['date']\n",
    "check_date[['initial_data', 'new_df']].apply(['min', 'max'])"
   ]
  },
  {
   "cell_type": "markdown",
   "metadata": {},
   "source": [
    "- объявим переменные `cumulativeRevenueA` и `cumulativeRevenueB`, в которых сохраним данные о датах, выручке и числе заказов в группах A и B."
   ]
  },
  {
   "cell_type": "code",
   "execution_count": 24,
   "metadata": {},
   "outputs": [
    {
     "data": {
      "image/png": "[encoded data removed]",
      "text/plain": [
       "<Figure size 432x288 with 1 Axes>"
      ]
     },
     "metadata": {
      "needs_background": "light"
     },
     "output_type": "display_data"
    }
   ],
   "source": [
    "# датафрейм с кумулятивным количеством заказов и кумулятивной выручкой по дням в группе А\n",
    "cumulativeRevenueA = cumulativeData[cumulativeData['group']=='A'][['date','revenue', 'orders']]\n",
    "\n",
    "# датафрейм с кумулятивным количеством заказов и кумулятивной выручкой по дням в группе B\n",
    "cumulativeRevenueB = cumulativeData[cumulativeData['group']=='B'][['date','revenue', 'orders']]\n",
    "\n",
    "# Строим график выручки группы А\n",
    "plt.plot(cumulativeRevenueA['date'], cumulativeRevenueA['revenue'], label='A')\n",
    "\n",
    "# Строим график выручки группы B\n",
    "plt.plot(cumulativeRevenueB['date'], cumulativeRevenueB['revenue'], label='B')\n",
    "\n",
    "plt.title('Кумулятивная выручка по группам А и В')\n",
    "plt.legend() \n",
    "plt.grid(True)\n",
    "plt.ylabel(\"Кумулятивная выручка\")\n",
    "plt.xlabel(\"Дата\")\n",
    "plt.xticks(rotation=45)\n",
    "plt.show()"
   ]
  },
  {
   "cell_type": "markdown",
   "metadata": {},
   "source": [
    "В налаче теста сегмент \"В\" вырвался вперёд и продолжал лидировать весь остаток теста. Скорее всего аномально большие заказы влияют на результат, в дальнейшем надо будет от них избавиться."
   ]
  },
  {
   "cell_type": "markdown",
   "metadata": {},
   "source": [
    "---"
   ]
  },
  {
   "cell_type": "markdown",
   "metadata": {},
   "source": [
    "### Постройте график кумулятивного среднего чека по группам. Сделайте выводы и предположения."
   ]
  },
  {
   "cell_type": "code",
   "execution_count": 25,
   "metadata": {
    "scrolled": true
   },
   "outputs": [
    {
     "data": {
      "image/png": "[encoded data removed]",
      "text/plain": [
       "<Figure size 432x288 with 1 Axes>"
      ]
     },
     "metadata": {
      "needs_background": "light"
     },
     "output_type": "display_data"
    }
   ],
   "source": [
    "plt.plot(cumulativeRevenueA['date'], cumulativeRevenueA['revenue']/cumulativeRevenueA['orders'], label='A')\n",
    "plt.plot(cumulativeRevenueB['date'], cumulativeRevenueB['revenue']/cumulativeRevenueB['orders'], label='B')\n",
    "plt.title('Кумулятивная средняя чека по группам')\n",
    "plt.legend() \n",
    "plt.grid(True)\n",
    "plt.ylabel(\"Кумулятивная средняя\")\n",
    "plt.xlabel(\"Дата\")\n",
    "plt.xticks(rotation=45)\n",
    "plt.show()"
   ]
  },
  {
   "cell_type": "markdown",
   "metadata": {},
   "source": [
    "По графикам видно, что имеются сильные колебания у сегментов. Необходимо провести дополнительный анализ выбросов, которые сильно искажают результаты."
   ]
  },
  {
   "cell_type": "markdown",
   "metadata": {},
   "source": [
    "---"
   ]
  },
  {
   "cell_type": "markdown",
   "metadata": {},
   "source": [
    "### Постройте график относительного изменения кумулятивного среднего чека группы B к группе A. Сделайте выводы и предположения."
   ]
  },
  {
   "cell_type": "markdown",
   "metadata": {},
   "source": [
    "Чтоб построить график относительного изменения кумулятивного среднего чека группы В к группе А, необходимо:\n",
    "- объединить таблицы `cumulativeRevenueA` и `cumulativeRevenueB` и сохранить всё в переменную."
   ]
  },
  {
   "cell_type": "code",
   "execution_count": 26,
   "metadata": {
    "scrolled": true
   },
   "outputs": [
    {
     "data": {
      "image/png": "[encoded data removed]",
      "text/plain": [
       "<Figure size 432x288 with 1 Axes>"
      ]
     },
     "metadata": {
      "needs_background": "light"
     },
     "output_type": "display_data"
    }
   ],
   "source": [
    "# объединяем данные в одном датафрейме\n",
    "mergedCumulativeRevenue = cumulativeRevenueA.merge(\n",
    "    cumulativeRevenueB, left_on='date', right_on='date', how='left', suffixes=['A', 'B'])\n",
    "\n",
    "# cтроим отношение средних чеков\n",
    "plt.plot(mergedCumulativeRevenue['date'], (\n",
    "    mergedCumulativeRevenue['revenueB']/mergedCumulativeRevenue['ordersB'])/\n",
    "         (mergedCumulativeRevenue['revenueA']/mergedCumulativeRevenue['ordersA'])-1)\n",
    "\n",
    "plt.title('Кумулятивная средняя чека группы В к группе А')\n",
    "plt.grid(True)\n",
    "plt.ylabel(\"Кумулятивная средняя\")\n",
    "plt.xlabel(\"Дата\")\n",
    "plt.xticks(rotation=45)\n",
    "# добавляем ось X\n",
    "plt.axhline(y=0, color='black', linestyle='--')\n",
    "plt.show()"
   ]
  },
  {
   "cell_type": "markdown",
   "metadata": {},
   "source": [
    "Видны сильные колебания в разные даты, видимо именно тогда были совершены аномальные заказы."
   ]
  },
  {
   "cell_type": "markdown",
   "metadata": {},
   "source": [
    "---"
   ]
  },
  {
   "cell_type": "markdown",
   "metadata": {},
   "source": [
    "### Постройте график кумулятивного среднего количества заказов по группам. Сделайте выводы и предположения."
   ]
  },
  {
   "cell_type": "markdown",
   "metadata": {},
   "source": [
    "Для построения такого графика нам необходимо добавить столбце `conversion` с отношением числа заказов к количеству пользователей в определённой группе в определённый день."
   ]
  },
  {
   "cell_type": "code",
   "execution_count": 27,
   "metadata": {
    "scrolled": true
   },
   "outputs": [
    {
     "data": {
      "image/png": "[encoded data removed]",
      "text/plain": [
       "<Figure size 432x288 with 1 Axes>"
      ]
     },
     "metadata": {
      "needs_background": "light"
     },
     "output_type": "display_data"
    }
   ],
   "source": [
    "# считаем кумулятивную конверсию\n",
    "cumulativeData['conversion'] = cumulativeData['orders']/cumulativeData['visitors']\n",
    "\n",
    "# отделяем данные для группы A\n",
    "cumulativeDataA = cumulativeData[cumulativeData['group']=='A']\n",
    "\n",
    "# отделяем данные для группы B\n",
    "cumulativeDataB = cumulativeData[cumulativeData['group']=='B']\n",
    "\n",
    "# строим графики\n",
    "plt.plot(cumulativeDataA['date'], cumulativeDataA['conversion'], label='A')\n",
    "plt.plot(cumulativeDataB['date'], cumulativeDataB['conversion'], label='B')\n",
    "\n",
    "plt.title('Кумулятивная конверсия по группам')\n",
    "plt.grid(True)\n",
    "plt.ylabel(\"Кумулятивная конверсия\")\n",
    "plt.xlabel(\"Дата\")\n",
    "plt.legend()\n",
    "plt.xticks(rotation=45)\n",
    "plt.show()"
   ]
  },
  {
   "cell_type": "markdown",
   "metadata": {},
   "source": [
    "В начале теста сегмент А имел большу конверсию, но со временем сегмент В вышел в лидеры и колеблется примерно в одном диапазоне. Однакое, конверсия сегмента А снизилась сначала теста и упала в начало сегмента В и там зафиксировалась."
   ]
  },
  {
   "cell_type": "markdown",
   "metadata": {},
   "source": [
    "---"
   ]
  },
  {
   "cell_type": "markdown",
   "metadata": {},
   "source": [
    "### Постройте график относительного изменения кумулятивного среднего количества заказов группы B к группе A. Сделайте выводы и предположения."
   ]
  },
  {
   "cell_type": "markdown",
   "metadata": {},
   "source": [
    "Для построения графика необходимо:\n",
    "- добавить новую переменную и объединить таблицы `cumulativeDataA` и `cumulativeDataB` , чтоб в ней сохранить необходимые нам столбцы."
   ]
  },
  {
   "cell_type": "code",
   "execution_count": 28,
   "metadata": {},
   "outputs": [
    {
     "data": {
      "image/png": "[encoded data removed]",
      "text/plain": [
       "<Figure size 432x288 with 1 Axes>"
      ]
     },
     "metadata": {
      "needs_background": "light"
     },
     "output_type": "display_data"
    }
   ],
   "source": [
    "# добавляем новую переменную\n",
    "mergedCumulativeConversions = cumulativeDataA[['date','conversion']].merge(\n",
    "    cumulativeDataB[['date','conversion']], left_on='date', right_on='date', how='left', suffixes=['A', 'B'])\n",
    "\n",
    "# строим график\n",
    "plt.plot(mergedCumulativeConversions['date'], mergedCumulativeConversions['conversionB']/\n",
    "         mergedCumulativeConversions['conversionA']-1)\n",
    "plt.title('Относительный прирост конверсии группы B относительно группы A')\n",
    "plt.grid(True)\n",
    "plt.ylabel(\"Кумулятивная конверсия\")\n",
    "plt.xlabel(\"Дата\")\n",
    "plt.xticks(rotation=45)\n",
    "plt.axhline(y=0, color='black', linestyle='--')\n",
    "plt.axhline(y= 0.15, color='grey', linestyle='--')\n",
    "plt.show()"
   ]
  },
  {
   "cell_type": "markdown",
   "metadata": {},
   "source": [
    "Изначально группа В вырывалась в лидеры по конверсии и со временем зафиксировалась примерно на отметке 15% прироста относительно группы А."
   ]
  },
  {
   "cell_type": "markdown",
   "metadata": {},
   "source": [
    "---"
   ]
  },
  {
   "cell_type": "markdown",
   "metadata": {},
   "source": [
    "### Постройте точечный график количества заказов по пользователям. Сделайте выводы и предположения."
   ]
  },
  {
   "cell_type": "markdown",
   "metadata": {},
   "source": [
    "Для того, чтоб построить точечный график количества заказов по пользователям необходимо:\n",
    "- создать новый датафрейм и в него добавить 2 столбца `visitor_id` и `transaction_id`"
   ]
  },
  {
   "cell_type": "code",
   "execution_count": 29,
   "metadata": {},
   "outputs": [
    {
     "data": {
      "image/png": "[encoded data removed]",
      "text/plain": [
       "<Figure size 432x288 with 1 Axes>"
      ]
     },
     "metadata": {
      "needs_background": "light"
     },
     "output_type": "display_data"
    }
   ],
   "source": [
    "# добавляем новую переменную\n",
    "ordersByUsers = (\n",
    "    orders.groupby('visitor_id', as_index=False)\n",
    "    .agg({'transaction_id': 'nunique'}))\n",
    "\n",
    "# серия чисел от 0 до количества наблюдений в переменной ordersByUsers\n",
    "x_values = pd.Series(range(0, len(ordersByUsers)))\n",
    "\n",
    "# строим график\n",
    "plt.scatter(x_values, ordersByUsers['transaction_id'])\n",
    "plt.title('Точечный график количества заказов по пользователям')\n",
    "plt.grid(True)\n",
    "plt.ylabel(\"кол-во заказов\")\n",
    "plt.xlabel(\"кол-во пользователей\")\n",
    "plt.xticks(rotation=45)\n",
    "plt.show()"
   ]
  },
  {
   "cell_type": "markdown",
   "metadata": {},
   "source": [
    "Пользователей, заказавших более двух раз совсем мало и стремится к 0. Они могут быть аномальными и создавать выбросы в результатах."
   ]
  },
  {
   "cell_type": "markdown",
   "metadata": {},
   "source": [
    "---"
   ]
  },
  {
   "cell_type": "markdown",
   "metadata": {},
   "source": [
    "### Посчитайте 95-й и 99-й перцентили количества заказов на пользователя. Выберите границу для определения аномальных пользователей."
   ]
  },
  {
   "cell_type": "code",
   "execution_count": 30,
   "metadata": {},
   "outputs": [
    {
     "data": {
      "text/plain": [
       "array([1., 2., 4.])"
      ]
     },
     "execution_count": 30,
     "metadata": {},
     "output_type": "execute_result"
    }
   ],
   "source": [
    "np.percentile(ordersByUsers['transaction_id'], [90, 95, 99])"
   ]
  },
  {
   "cell_type": "markdown",
   "metadata": {},
   "source": [
    "Основная масса пользователей (более 10%) совершали 1 заказ, не более 5% пользователей делали больше двух заказов и не более 1% заказывали больше четырёх раз.\n",
    "Примем за аномальных пользователей тех, кто совершил **4** заказа и более, так мы уберём 1% пользователей с наибольшим числом заказов."
   ]
  },
  {
   "cell_type": "markdown",
   "metadata": {},
   "source": [
    "---"
   ]
  },
  {
   "cell_type": "markdown",
   "metadata": {},
   "source": [
    "### Постройте точечный график стоимостей заказов. Сделайте выводы и предположения."
   ]
  },
  {
   "cell_type": "code",
   "execution_count": 31,
   "metadata": {},
   "outputs": [
    {
     "data": {
      "image/png": "[encoded data removed]",
      "text/plain": [
       "<Figure size 1152x432 with 2 Axes>"
      ]
     },
     "metadata": {
      "needs_background": "light"
     },
     "output_type": "display_data"
    }
   ],
   "source": [
    "plt.figure(figsize=(16, 6))\n",
    "x_values = pd.Series(range(0, len(orders['revenue'])))\n",
    "\n",
    "# строим график\n",
    "plt.subplot(1, 2, 1)\n",
    "plt.scatter(x_values, orders['revenue'])\n",
    "plt.title('Точечный график стоимостей заказов')\n",
    "plt.grid(True)\n",
    "plt.ylabel(\"сумма заказа, руб\")\n",
    "plt.xlabel(\"кол-во заказов\")\n",
    "plt.xticks(rotation=45)\n",
    "\n",
    "# график с ограничением по оси y, чтоб рассмотреть основную часть заказов\n",
    "plt.subplot(1, 2, 2)\n",
    "plt.scatter(x_values, orders['revenue'])\n",
    "plt.title('Точечный график стоимостей заказов')\n",
    "plt.grid(True)\n",
    "plt.ylabel(\"сумма заказа, руб\")\n",
    "plt.xlabel(\"кол-во заказов\")\n",
    "plt.xticks(rotation=45)\n",
    "plt.ylim(0, 100000)\n",
    "\n",
    "\n",
    "plt.show()"
   ]
  },
  {
   "cell_type": "markdown",
   "metadata": {},
   "source": [
    "В основном сетка заказов расположилась на сумме до 100 000 рублей. Есть не очень много заказов на 200 000 рублей и выбросы в районе 1 300 000 рублей. Данный заказ выглядит очень странно для интернет магазина."
   ]
  },
  {
   "cell_type": "markdown",
   "metadata": {},
   "source": [
    "---"
   ]
  },
  {
   "cell_type": "markdown",
   "metadata": {},
   "source": [
    "### Посчитайте 95-й и 99-й перцентили стоимости заказов. Выберите границу для определения аномальных заказов."
   ]
  },
  {
   "cell_type": "code",
   "execution_count": 32,
   "metadata": {},
   "outputs": [
    {
     "data": {
      "text/plain": [
       "array([18168. , 28000. , 58233.2])"
      ]
     },
     "execution_count": 32,
     "metadata": {},
     "output_type": "execute_result"
    }
   ],
   "source": [
    "np.percentile(orders['revenue'], [90, 95, 99])"
   ]
  },
  {
   "cell_type": "markdown",
   "metadata": {},
   "source": [
    "Не более, чем у 5% заказов сумма выше 28 000 рублей. И не больше, чем у 1% заказов - дороже 58 233.2 рублей.\n",
    "Примем за аномальных пользователей тех, кто совершил заказы на сумму свыше ~~**32 000 рублей**~~ 28 000 рублей, так мы уберём свыше 1% пользователей с наибольшими суммами заказов."
   ]
  },
  {
   "cell_type": "markdown",
   "metadata": {},
   "source": [
    "---"
   ]
  },
  {
   "cell_type": "markdown",
   "metadata": {},
   "source": [
    "### Посчитайте статистическую значимость различий в среднем количестве заказов между группами по «сырым» данным. Сделайте выводы и предположения."
   ]
  },
  {
   "cell_type": "markdown",
   "metadata": {},
   "source": [
    "Посчитаем статистическую значимость различий в среднем количестве заказов между группами по сырым данным. \n",
    "Сформулируем гипотезы. \n",
    "- нулевая: различий в среднем количестве заказов между группами нет. \n",
    "- альтернативная: различия в среднем между группами есть.\n",
    "\n",
    "Зададим значение **alpha = 0.05**. Метод будем использовать **Манна-Уитни**.\n",
    "\n",
    "Начнём с подготовки данных."
   ]
  },
  {
   "cell_type": "code",
   "execution_count": 33,
   "metadata": {},
   "outputs": [
    {
     "name": "stdout",
     "output_type": "stream",
     "text": [
      "        date  ordersPerDateA  revenuePerDateA  ordersPerDateB  \\\n",
      "0 2019-08-01              24           148579              21   \n",
      "1 2019-08-02              20            93822              24   \n",
      "2 2019-08-03              24           112473              16   \n",
      "3 2019-08-04              16            70825              17   \n",
      "4 2019-08-05              25           124218              23   \n",
      "\n",
      "   revenuePerDateB  ordersCummulativeA  revenueCummulativeA  \\\n",
      "0           101217                  24               148579   \n",
      "1           165531                  44               242401   \n",
      "2           114248                  68               354874   \n",
      "3           108571                  84               425699   \n",
      "4            92428                 109               549917   \n",
      "\n",
      "   ordersCummulativeB  revenueCummulativeB  visitorsPerDateA  \\\n",
      "0                  21               101217               719   \n",
      "1                  45               266748               619   \n",
      "2                  61               380996               507   \n",
      "3                  78               489567               717   \n",
      "4                 101               581995               756   \n",
      "\n",
      "   visitorsPerDateB  visitorsCummulativeA  visitorsCummulativeB  \n",
      "0               713                   719                   713  \n",
      "1               581                  1338                  1294  \n",
      "2               509                  1845                  1803  \n",
      "3               770                  2562                  2573  \n",
      "4               707                  3318                  3280  \n"
     ]
    }
   ],
   "source": [
    "visitorsADaily = visitors[visitors['group'] == 'A'][['date', 'visitors']]\n",
    "visitorsADaily.columns = ['date', 'visitorsPerDateA']\n",
    "\n",
    "visitorsACummulative = visitorsADaily.apply(\n",
    "    lambda x: visitorsADaily[visitorsADaily['date'] <= x['date']].agg(\n",
    "        {'date': 'max', 'visitorsPerDateA': 'sum'}\n",
    "    ),\n",
    "    axis=1,\n",
    ")\n",
    "visitorsACummulative.columns = ['date', 'visitorsCummulativeA']\n",
    "\n",
    "visitorsBDaily = visitors[visitors['group'] == 'B'][['date', 'visitors']]\n",
    "visitorsBDaily.columns = ['date', 'visitorsPerDateB']\n",
    "\n",
    "visitorsBCummulative = visitorsBDaily.apply(\n",
    "    lambda x: visitorsBDaily[visitorsBDaily['date'] <= x['date']].agg(\n",
    "        {'date': 'max', 'visitorsPerDateB': 'sum'}\n",
    "    ),\n",
    "    axis=1,\n",
    ")\n",
    "visitorsBCummulative.columns = ['date', 'visitorsCummulativeB']\n",
    "\n",
    "ordersADaily = (\n",
    "    orders[orders['group'] == 'A'][['date', 'transaction_id', 'visitor_id', 'revenue']]\n",
    "    .groupby('date', as_index=False)\n",
    "    .agg({'transaction_id': pd.Series.nunique, 'revenue': 'sum'})\n",
    ")\n",
    "ordersADaily.columns = ['date', 'ordersPerDateA', 'revenuePerDateA']\n",
    "\n",
    "ordersACummulative = ordersADaily.apply(\n",
    "    lambda x: ordersADaily[ordersADaily['date'] <= x['date']].agg(\n",
    "        {'date': 'max', 'ordersPerDateA': 'sum', 'revenuePerDateA': 'sum'}\n",
    "    ),\n",
    "    axis=1,\n",
    ").sort_values(by=['date'])\n",
    "ordersACummulative.columns = [\n",
    "    'date',\n",
    "    'ordersCummulativeA',\n",
    "    'revenueCummulativeA',\n",
    "]\n",
    "\n",
    "ordersBDaily = (\n",
    "    orders[orders['group'] == 'B'][['date', 'transaction_id', 'visitor_id', 'revenue']]\n",
    "    .groupby('date', as_index=False)\n",
    "    .agg({'transaction_id': pd.Series.nunique, 'revenue': 'sum'})\n",
    ")\n",
    "ordersBDaily.columns = ['date', 'ordersPerDateB', 'revenuePerDateB']\n",
    "\n",
    "ordersBCummulative = ordersBDaily.apply(\n",
    "    lambda x: ordersBDaily[ordersBDaily['date'] <= x['date']].agg(\n",
    "        {'date': 'max', 'ordersPerDateB': 'sum', 'revenuePerDateB': 'sum'}\n",
    "    ),\n",
    "    axis=1,\n",
    ").sort_values(by=['date'])\n",
    "ordersBCummulative.columns = [\n",
    "    'date',\n",
    "    'ordersCummulativeB',\n",
    "    'revenueCummulativeB',\n",
    "]\n",
    "\n",
    "data = (\n",
    "    ordersADaily.merge(\n",
    "        ordersBDaily, left_on='date', right_on='date', how='left'\n",
    "    )\n",
    "    .merge(ordersACummulative, left_on='date', right_on='date', how='left')\n",
    "    .merge(ordersBCummulative, left_on='date', right_on='date', how='left')\n",
    "    .merge(visitorsADaily, left_on='date', right_on='date', how='left')\n",
    "    .merge(visitorsBDaily, left_on='date', right_on='date', how='left')\n",
    "    .merge(visitorsACummulative, left_on='date', right_on='date', how='left')\n",
    "    .merge(visitorsBCummulative, left_on='date', right_on='date', how='left')\n",
    ")\n",
    "\n",
    "print(data.head(5))"
   ]
  },
  {
   "cell_type": "markdown",
   "metadata": {},
   "source": [
    "- `date` — дата;\n",
    "- `ordersPerDateA` — количество заказов в выбранную дату в группе A;\n",
    "- `revenuePerDateA` — суммарная выручка в выбранную дату в группе A;\n",
    "- `ordersPerDateB` — количество заказов в выбранную дату в группе B;\n",
    "- `revenuePerDateB` — суммарная выручка в выбранную дату в группе B;\n",
    "- `ordersCummulativeA` — суммарное число заказов до выбранной даты включительно в группе A;\n",
    "- `revenueCummulativeA` — суммарная выручка до выбранной даты включительно в группе A;\n",
    "- `ordersCummulativeB` — суммарное количество заказов до выбранной даты включительно в группе B;\n",
    "- `revenueCummulativeB` — суммарная выручка до выбранной даты включительно в группе B;\n",
    "- `visitorsPerDateA` — количество пользователей в выбранную дату в группе A;\n",
    "- `visitorsPerDateB` — количество пользователей в выбранную дату в группе B;\n",
    "- `visitorsCummulativeA` — количество пользователей до выбранной даты включительно в группе A;\n",
    "- `visitorsCummulativeB` — количество пользователей до выбранной даты включительно в группе B."
   ]
  },
  {
   "cell_type": "markdown",
   "metadata": {},
   "source": [
    "Создадим переменные `ordersByUsersA` и `ordersByUsersB` со столбцами `['visitor_id', 'transaction_id']`. В них для пользователей, которые заказывали хотя бы 1 раз, укажем число совершённых заказов."
   ]
  },
  {
   "cell_type": "code",
   "execution_count": 34,
   "metadata": {},
   "outputs": [
    {
     "name": "stdout",
     "output_type": "stream",
     "text": [
      "0.017\n",
      "0.138\n"
     ]
    }
   ],
   "source": [
    "ordersByUsersA = (\n",
    "    orders[orders['group'] == 'A']\n",
    "    .groupby('visitor_id', as_index=False)\n",
    "    .agg({'transaction_id': pd.Series.nunique})\n",
    ")\n",
    "ordersByUsersA.columns = ['visitor_id', 'orders']\n",
    "\n",
    "ordersByUsersB = (\n",
    "    orders[orders['group'] == 'B']\n",
    "    .groupby('visitor_id', as_index=False)\n",
    "    .agg({'transaction_id': pd.Series.nunique})\n",
    ")\n",
    "ordersByUsersB.columns = ['visitor_id', 'orders']\n",
    "\n",
    "sampleA = pd.concat([ordersByUsersA['orders'],pd.Series(0, index=np.arange(data['visitorsPerDateA'].sum() - \n",
    "                    len(ordersByUsersA['orders'])), name='orders')],axis=0)\n",
    "\n",
    "sampleB = pd.concat([ordersByUsersB['orders'],pd.Series(0, index=np.arange(data['visitorsPerDateB'].sum() - \n",
    "                    len(ordersByUsersB['orders'])), name='orders')],axis=0)\n",
    "\n",
    "print(\"{0:.3f}\".format(stats.mannwhitneyu(sampleA, sampleB)[1]))\n",
    "\n",
    "print(\"{0:.3f}\".format(sampleB.mean() / sampleA.mean() - 1))"
   ]
  },
  {
   "cell_type": "code",
   "execution_count": 45,
   "metadata": {},
   "outputs": [
    {
     "name": "stdout",
     "output_type": "stream",
     "text": [
      "Вероятность ошибки при отклонении нулевой гипотезы 0.017\n",
      "Прирост среднего группы В к конверсии группы А равен 0.138\n"
     ]
    }
   ],
   "source": [
    "print(\"Вероятность ошибки при отклонении нулевой гипотезы {0:.3f}\".format(stats.mannwhitneyu(sampleA, sampleB)[1]))\n",
    "print(\"Прирост среднего группы В к конверсии группы А равен {0:.3f}\".format(sampleB.mean() / sampleA.mean() - 1))"
   ]
  },
  {
   "cell_type": "markdown",
   "metadata": {},
   "source": [
    "По \"сырым\" данным имеются различия в среднем числе заказов групп А и В.\n",
    "\n",
    "~~Первое число~~  Поолученное значение — `p-value = 0.017` меньше 0.05 говорит о том, что вероятность получить схожиее значения в 2х группах статистически незначима. Значит, нулевую гипотезу о том, что статистически значимых различий в среднем числе заказов между группами нет, отвергаем. Анализ показал, что в среднем количестве заказов между группами есть статистически значимые различия. Относительный прирост среднего группы В к конверсии группы А равен 13.8%."
   ]
  },
  {
   "cell_type": "markdown",
   "metadata": {},
   "source": [
    "---"
   ]
  },
  {
   "cell_type": "markdown",
   "metadata": {},
   "source": [
    "### Посчитайте статистическую значимость различий в среднем чеке заказа между группами по «сырым» данным. Сделайте выводы и предположения."
   ]
  },
  {
   "cell_type": "code",
   "execution_count": 36,
   "metadata": {},
   "outputs": [
    {
     "name": "stdout",
     "output_type": "stream",
     "text": [
      "0.729\n",
      "0.259\n"
     ]
    }
   ],
   "source": [
    "print('{0:.3f}'.format(stats.mannwhitneyu(orders[orders['group']=='A']['revenue'], orders[orders['group']=='B']['revenue'])[1]))\n",
    "print('{0:.3f}'.format(orders[orders['group']=='B']['revenue'].mean()/orders[orders['group']=='A']['revenue'].mean()-1))"
   ]
  },
  {
   "cell_type": "markdown",
   "metadata": {},
   "source": [
    "`p-value = 0.729` больше 0.05 - статистически значимых отличий в среднем чеке между группами нет. Хотя относительное различие серднего чека между сегментами составляет 25.9%."
   ]
  },
  {
   "cell_type": "markdown",
   "metadata": {},
   "source": [
    "---"
   ]
  },
  {
   "cell_type": "markdown",
   "metadata": {},
   "source": [
    "### Посчитайте статистическую значимость различий в среднем количестве заказов между группами по «очищенным» данным. Сделайте выводы и предположения."
   ]
  },
  {
   "cell_type": "markdown",
   "metadata": {},
   "source": [
    "<a id='percentiles'></a>\n",
    "Приступаем к подготовке очищенных от аномалий данных.\n",
    "\n",
    "Наши 95-й и 99-й перцентили средних чеков равны 28000 и 58233.2 рублей. А 95-й и 99-й перцентили числа заказов на одного пользователя равны 2 и 4 заказам на пользователя.\n",
    "\n",
    "Примем за аномальных пользователей тех, кто совершил **4** заказа и более, или совершил заказ на сумму свыше **32 000 рублей**. Там мы уберём 1% пользователей с наибольшим числом заказов и от 1% до 5% заказов с наибольшей стоимостью."
   ]
  },
  {
   "cell_type": "code",
   "execution_count": 37,
   "metadata": {
    "scrolled": true
   },
   "outputs": [
    {
     "name": "stdout",
     "output_type": "stream",
     "text": [
      "1099    148427295\n",
      "18      199603092\n",
      "928     204675465\n",
      "23      237748145\n",
      "684     358944393\n",
      "Name: visitor_id, dtype: int64\n",
      "Количество аномальных пользователей: 63\n"
     ]
    }
   ],
   "source": [
    "orderqnt = 3\n",
    "ordersum = 28000\n",
    "\n",
    "# создаём переменную с числом заказов больше 3\n",
    "usersWithManyOrders = pd.concat(\n",
    "    [\n",
    "        ordersByUsersA[ordersByUsersA['orders'] > orderqnt]['visitor_id'],\n",
    "        ordersByUsersB[ordersByUsersB['orders'] > orderqnt]['visitor_id'],\n",
    "    ],\n",
    "    axis=0,\n",
    ")\n",
    "# создаём переменную с заказами дороже 32 000\n",
    "usersWithExpensiveOrders = orders[orders['revenue'] > ordersum]['visitor_id']\n",
    "# объединяем пользователей в одну таблицу и удаляем дубликаты\n",
    "abnormalUsers = (\n",
    "    pd.concat([usersWithManyOrders, usersWithExpensiveOrders], axis=0)\n",
    "    .drop_duplicates()\n",
    "    .sort_values()\n",
    ")\n",
    "print(abnormalUsers.head(5))\n",
    "# количество аномальнымх пользователей \n",
    "print('Количество аномальных пользователей: {}'.format(abnormalUsers.shape[0]))"
   ]
  },
  {
   "cell_type": "markdown",
   "metadata": {},
   "source": [
    "Для подсчёта статистической значимости различия среднего коилчества заказов после удаления аномальных пользователей необходимо создать ещё 2 переменные `sampleAFiltered` и `sampleBFiltered`, в которых сохраним очищенные данные о заказах."
   ]
  },
  {
   "cell_type": "code",
   "execution_count": 38,
   "metadata": {},
   "outputs": [
    {
     "name": "stdout",
     "output_type": "stream",
     "text": [
      "0.0179\n",
      "0.148\n"
     ]
    }
   ],
   "source": [
    "sampleAFiltered = pd.concat(\n",
    "    [\n",
    "        ordersByUsersA[\n",
    "            np.logical_not(ordersByUsersA['visitor_id'].isin(abnormalUsers))\n",
    "        ]['orders'],\n",
    "        pd.Series(\n",
    "            0,\n",
    "            index=np.arange(\n",
    "                data['visitorsPerDateA'].sum() - len(ordersByUsersA['orders'])\n",
    "            ),\n",
    "            name='orders',\n",
    "        ),\n",
    "    ],\n",
    "    axis=0,\n",
    ")\n",
    "\n",
    "sampleBFiltered = pd.concat(\n",
    "    [\n",
    "        ordersByUsersB[\n",
    "            np.logical_not(ordersByUsersB['visitor_id'].isin(abnormalUsers))\n",
    "        ]['orders'],\n",
    "        pd.Series(\n",
    "            0,\n",
    "            index=np.arange(\n",
    "                data['visitorsPerDateB'].sum() - len(ordersByUsersB['orders'])\n",
    "            ),\n",
    "            name='orders',\n",
    "        ),\n",
    "    ],\n",
    "    axis=0,\n",
    ")\n",
    "print('{0:.4f}'.format(stats.mannwhitneyu(sampleAFiltered, sampleBFiltered)[1]))\n",
    "print('{0:.3f}'.format(sampleBFiltered.mean()/sampleAFiltered.mean()-1))"
   ]
  },
  {
   "cell_type": "markdown",
   "metadata": {},
   "source": [
    "Как и в случае с сырыми данными, статистическая значимость достигнута. Сегмент В значительно лучше сегмента А."
   ]
  },
  {
   "cell_type": "markdown",
   "metadata": {},
   "source": [
    "---"
   ]
  },
  {
   "cell_type": "markdown",
   "metadata": {},
   "source": [
    "### Посчитайте статистическую значимость различий в среднем чеке заказа между группами по «очищенным» данным. Сделайте выводы и предположения."
   ]
  },
  {
   "cell_type": "code",
   "execution_count": 39,
   "metadata": {
    "scrolled": true
   },
   "outputs": [
    {
     "name": "stdout",
     "output_type": "stream",
     "text": [
      "0.977\n",
      "-0.017\n"
     ]
    }
   ],
   "source": [
    "print(\n",
    "    '{0:.3f}'.format(\n",
    "        stats.mannwhitneyu(\n",
    "            orders[\n",
    "                np.logical_and(\n",
    "                    orders['group'] == 'A',\n",
    "                    np.logical_not(orders['visitor_id'].isin(abnormalUsers)),\n",
    "                )\n",
    "            ]['revenue'],\n",
    "            orders[\n",
    "                np.logical_and(\n",
    "                    orders['group'] == 'B',\n",
    "                    np.logical_not(orders['visitor_id'].isin(abnormalUsers)),\n",
    "                )\n",
    "            ]['revenue'],\n",
    "        )[1]\n",
    "    )\n",
    ")\n",
    "\n",
    "print(\n",
    "    \"{0:.3f}\".format(\n",
    "        orders[\n",
    "            np.logical_and(\n",
    "                orders['group'] == 'B',\n",
    "                np.logical_not(orders['visitor_id'].isin(abnormalUsers)),\n",
    "            )\n",
    "        ]['revenue'].mean()\n",
    "        / orders[\n",
    "            np.logical_and(\n",
    "                orders['group'] == 'A',\n",
    "                np.logical_not(orders['visitor_id'].isin(abnormalUsers)),\n",
    "            )\n",
    "        ]['revenue'].mean()\n",
    "        - 1\n",
    "    )\n",
    ")"
   ]
  },
  {
   "cell_type": "markdown",
   "metadata": {},
   "source": [
    "Отличий статистической значимости среднего чека заказов между группами после фильтрования \"сырых\" данных не обнаружено. Это значит, что после удаления выбросов в данных шума меньше не стало. Даже различие в 1.4% по выручке не стало статистически значимым."
   ]
  },
  {
   "cell_type": "markdown",
   "metadata": {},
   "source": [
    "---"
   ]
  },
  {
   "cell_type": "markdown",
   "metadata": {},
   "source": [
    "<a id='conclusion'></a>\n",
    "### Примите решение по результатам теста и объясните его. \n",
    "Варианты решений: \n",
    "1. Остановить тест, зафиксировать победу одной из групп. \n",
    "2. Остановить тест, зафиксировать отсутствие различий между группами. \n",
    "3. Продолжить тест."
   ]
  },
  {
   "cell_type": "markdown",
   "metadata": {},
   "source": [
    "**Итог - 1. Остановить тест, зафиксировать победу одной из групп. (Группы В над группой А)** "
   ]
  },
  {
   "cell_type": "markdown",
   "metadata": {},
   "source": [
    "## Вывод.\n",
    "Вот результаты задач из этого проекта:\n",
    "- Как по сырым данным, так и после фильтрации статистически значимого различия по среднему чеку между группами нет. \n",
    "- Имеется статистически значимое различие по среднему числу заказов как по сырым данным, так и после фильтрации аномалий.\n",
    "- График различия конверсии между группа говорит, что результаты группы В лучше группы А. Со временем сегмент группы В зафиксировался примерно на отметке 15% прироста."
   ]
  },
  {
   "cell_type": "code",
   "execution_count": 40,
   "metadata": {
    "scrolled": true
   },
   "outputs": [
    {
     "data": {
      "image/png": "[encoded data removed]",
      "text/plain": [
       "<Figure size 432x288 with 1 Axes>"
      ]
     },
     "metadata": {
      "needs_background": "light"
     },
     "output_type": "display_data"
    }
   ],
   "source": [
    "\n",
    "plt.plot(mergedCumulativeConversions['date'], mergedCumulativeConversions['conversionB']/\n",
    "         mergedCumulativeConversions['conversionA']-1)\n",
    "plt.title('Относительный прирост конверсии группы B относительно группы A')\n",
    "plt.grid(True)\n",
    "plt.ylabel(\"Кумулятивная конверсия\")\n",
    "plt.xlabel(\"Дата\")\n",
    "plt.xticks(rotation=45)\n",
    "plt.axhline(y=0, color='black', linestyle='--')\n",
    "plt.axhline(y= 0.15, color='grey', linestyle='--')\n",
    "plt.show()\n"
   ]
  },
  {
   "cell_type": "markdown",
   "metadata": {},
   "source": [
    "График различия среднего чека колеблется: благодаря ему мы и смогли найти аномалии, а делать какие-либо выводы по нему нельзя."
   ]
  },
  {
   "cell_type": "code",
   "execution_count": 41,
   "metadata": {},
   "outputs": [
    {
     "data": {
      "image/png": "[encoded data removed]",
      "text/plain": [
       "<Figure size 432x288 with 1 Axes>"
      ]
     },
     "metadata": {
      "needs_background": "light"
     },
     "output_type": "display_data"
    }
   ],
   "source": [
    "plt.plot(mergedCumulativeRevenue['date'], (\n",
    "    mergedCumulativeRevenue['revenueB']/mergedCumulativeRevenue['ordersB'])/\n",
    "         (mergedCumulativeRevenue['revenueA']/mergedCumulativeRevenue['ordersA'])-1)\n",
    "\n",
    "plt.title('Кумулятивная средняя чека группы В к группе А')\n",
    "plt.grid(True)\n",
    "plt.ylabel(\"Кумулятивная средняя\")\n",
    "plt.xlabel(\"Дата\")\n",
    "plt.xticks(rotation=45)\n",
    "# добавляем ось X\n",
    "plt.axhline(y=0, color='black', linestyle='--')\n",
    "plt.show()"
   ]
  },
  {
   "cell_type": "markdown",
   "metadata": {},
   "source": [
    "И как итог - группа В зафиксировала выше результаты и одержала победу над группой А. А/В-тест является успешным."
   ]
  }
 ],
 "metadata": {
  "ExecuteTimeLog": [
   {
    "duration": 4,
    "start_time": "2022-10-19T10:49:05.329Z"
   },
   {
    "duration": 424,
    "start_time": "2022-10-19T10:51:54.329Z"
   },
   {
    "duration": 87,
    "start_time": "2022-10-19T10:52:27.783Z"
   },
   {
    "duration": 15,
    "start_time": "2022-10-19T10:52:33.770Z"
   },
   {
    "duration": 74,
    "start_time": "2022-10-19T10:54:12.212Z"
   },
   {
    "duration": 983,
    "start_time": "2022-10-19T10:54:23.657Z"
   },
   {
    "duration": 11,
    "start_time": "2022-10-19T10:54:47.845Z"
   },
   {
    "duration": 9,
    "start_time": "2022-10-19T10:55:27.484Z"
   },
   {
    "duration": 706,
    "start_time": "2022-10-19T11:17:12.431Z"
   },
   {
    "duration": 13,
    "start_time": "2022-10-19T11:30:04.337Z"
   },
   {
    "duration": 16,
    "start_time": "2022-10-19T11:30:07.618Z"
   },
   {
    "duration": 20,
    "start_time": "2022-10-19T11:30:16.618Z"
   },
   {
    "duration": 21,
    "start_time": "2022-10-19T11:30:37.400Z"
   },
   {
    "duration": 4,
    "start_time": "2022-10-19T11:32:55.231Z"
   },
   {
    "duration": 9,
    "start_time": "2022-10-19T11:33:00.499Z"
   },
   {
    "duration": 4,
    "start_time": "2022-10-19T11:33:25.675Z"
   },
   {
    "duration": 9,
    "start_time": "2022-10-19T11:33:27.271Z"
   },
   {
    "duration": 4,
    "start_time": "2022-10-19T11:34:06.495Z"
   },
   {
    "duration": 11,
    "start_time": "2022-10-19T11:34:07.702Z"
   },
   {
    "duration": 14,
    "start_time": "2022-10-19T11:35:05.222Z"
   },
   {
    "duration": 6,
    "start_time": "2022-10-19T11:39:16.378Z"
   },
   {
    "duration": 7,
    "start_time": "2022-10-19T11:39:20.931Z"
   },
   {
    "duration": 20,
    "start_time": "2022-10-19T11:41:31.081Z"
   },
   {
    "duration": 4,
    "start_time": "2022-10-19T11:42:01.281Z"
   },
   {
    "duration": 13,
    "start_time": "2022-10-19T11:42:11.633Z"
   },
   {
    "duration": 7,
    "start_time": "2022-10-19T11:43:00.948Z"
   },
   {
    "duration": 24,
    "start_time": "2022-10-19T11:43:03.943Z"
   },
   {
    "duration": 8,
    "start_time": "2022-10-19T11:43:23.616Z"
   },
   {
    "duration": 14,
    "start_time": "2022-10-19T11:43:50.889Z"
   },
   {
    "duration": 14,
    "start_time": "2022-10-19T11:44:07.975Z"
   },
   {
    "duration": 6,
    "start_time": "2022-10-19T11:44:15.611Z"
   },
   {
    "duration": 11,
    "start_time": "2022-10-19T11:44:42.195Z"
   },
   {
    "duration": 8,
    "start_time": "2022-10-19T11:45:55.677Z"
   },
   {
    "duration": 6,
    "start_time": "2022-10-19T11:46:38.556Z"
   },
   {
    "duration": 6,
    "start_time": "2022-10-19T11:47:05.813Z"
   },
   {
    "duration": 6,
    "start_time": "2022-10-19T11:47:08.661Z"
   },
   {
    "duration": 11,
    "start_time": "2022-10-19T11:49:15.235Z"
   },
   {
    "duration": 8,
    "start_time": "2022-10-19T11:49:38.939Z"
   },
   {
    "duration": 12,
    "start_time": "2022-10-19T11:50:11.754Z"
   },
   {
    "duration": 14,
    "start_time": "2022-10-19T11:50:24.702Z"
   },
   {
    "duration": 13,
    "start_time": "2022-10-19T11:50:54.769Z"
   },
   {
    "duration": 3,
    "start_time": "2022-10-19T12:05:11.639Z"
   },
   {
    "duration": 29,
    "start_time": "2022-10-19T12:18:42.348Z"
   },
   {
    "duration": 5,
    "start_time": "2022-10-19T12:19:11.756Z"
   },
   {
    "duration": 18,
    "start_time": "2022-10-19T12:19:15.332Z"
   },
   {
    "duration": 334,
    "start_time": "2022-10-19T12:19:42.580Z"
   },
   {
    "duration": 19,
    "start_time": "2022-10-19T12:19:58.891Z"
   },
   {
    "duration": 437,
    "start_time": "2022-10-19T12:20:31.619Z"
   },
   {
    "duration": 329,
    "start_time": "2022-10-19T12:20:34.515Z"
   },
   {
    "duration": 336,
    "start_time": "2022-10-19T12:27:43.447Z"
   },
   {
    "duration": 290,
    "start_time": "2022-10-19T12:31:05.883Z"
   },
   {
    "duration": 303,
    "start_time": "2022-10-19T12:31:31.691Z"
   },
   {
    "duration": 741,
    "start_time": "2022-10-19T12:31:39.199Z"
   },
   {
    "duration": 40,
    "start_time": "2022-10-19T12:31:39.942Z"
   },
   {
    "duration": 13,
    "start_time": "2022-10-19T12:31:39.984Z"
   },
   {
    "duration": 15,
    "start_time": "2022-10-19T12:31:39.999Z"
   },
   {
    "duration": 16,
    "start_time": "2022-10-19T12:31:40.017Z"
   },
   {
    "duration": 158,
    "start_time": "2022-10-19T12:31:40.034Z"
   },
   {
    "duration": 19,
    "start_time": "2022-10-19T12:31:40.194Z"
   },
   {
    "duration": 20,
    "start_time": "2022-10-19T12:31:40.215Z"
   },
   {
    "duration": 20,
    "start_time": "2022-10-19T12:31:40.236Z"
   },
   {
    "duration": 15,
    "start_time": "2022-10-19T12:31:40.258Z"
   },
   {
    "duration": 26,
    "start_time": "2022-10-19T12:31:40.275Z"
   },
   {
    "duration": 43,
    "start_time": "2022-10-19T12:31:40.303Z"
   },
   {
    "duration": 33,
    "start_time": "2022-10-19T12:31:40.348Z"
   },
   {
    "duration": 60,
    "start_time": "2022-10-19T12:31:40.384Z"
   },
   {
    "duration": 20,
    "start_time": "2022-10-19T12:31:40.446Z"
   },
   {
    "duration": 19,
    "start_time": "2022-10-19T12:31:40.468Z"
   },
   {
    "duration": 37,
    "start_time": "2022-10-19T12:31:40.489Z"
   },
   {
    "duration": 22,
    "start_time": "2022-10-19T12:31:40.528Z"
   },
   {
    "duration": 73,
    "start_time": "2022-10-19T12:31:44.242Z"
   },
   {
    "duration": 299,
    "start_time": "2022-10-19T12:31:45.987Z"
   },
   {
    "duration": 295,
    "start_time": "2022-10-19T12:32:16.531Z"
   },
   {
    "duration": 389,
    "start_time": "2022-10-19T12:34:18.725Z"
   },
   {
    "duration": 310,
    "start_time": "2022-10-19T12:34:46.336Z"
   },
   {
    "duration": 242,
    "start_time": "2022-10-19T12:34:56.729Z"
   },
   {
    "duration": 285,
    "start_time": "2022-10-19T12:35:04.989Z"
   },
   {
    "duration": 232,
    "start_time": "2022-10-19T12:35:07.874Z"
   },
   {
    "duration": 255,
    "start_time": "2022-10-19T12:35:12.489Z"
   },
   {
    "duration": 224,
    "start_time": "2022-10-19T12:35:19.208Z"
   },
   {
    "duration": 222,
    "start_time": "2022-10-19T12:36:30.159Z"
   },
   {
    "duration": 86,
    "start_time": "2022-10-19T12:37:23.223Z"
   },
   {
    "duration": 82,
    "start_time": "2022-10-19T12:37:32.426Z"
   },
   {
    "duration": 53,
    "start_time": "2022-10-19T12:37:39.718Z"
   },
   {
    "duration": 49,
    "start_time": "2022-10-19T12:37:43.854Z"
   },
   {
    "duration": 81,
    "start_time": "2022-10-19T12:38:11.806Z"
   },
   {
    "duration": 60,
    "start_time": "2022-10-19T12:38:25.000Z"
   },
   {
    "duration": 222,
    "start_time": "2022-10-19T12:38:31.366Z"
   },
   {
    "duration": 238,
    "start_time": "2022-10-19T12:38:35.542Z"
   },
   {
    "duration": 223,
    "start_time": "2022-10-19T12:39:11.206Z"
   },
   {
    "duration": 229,
    "start_time": "2022-10-19T12:39:24.525Z"
   },
   {
    "duration": 314,
    "start_time": "2022-10-19T12:47:19.678Z"
   },
   {
    "duration": 215,
    "start_time": "2022-10-19T12:49:06.772Z"
   },
   {
    "duration": 221,
    "start_time": "2022-10-19T12:49:12.997Z"
   },
   {
    "duration": 306,
    "start_time": "2022-10-19T12:49:19.917Z"
   },
   {
    "duration": 217,
    "start_time": "2022-10-19T12:49:28.277Z"
   },
   {
    "duration": 192,
    "start_time": "2022-10-19T12:54:30.793Z"
   },
   {
    "duration": 184,
    "start_time": "2022-10-19T12:54:33.744Z"
   },
   {
    "duration": 209,
    "start_time": "2022-10-19T12:57:32.030Z"
   },
   {
    "duration": 244,
    "start_time": "2022-10-19T12:58:03.454Z"
   },
   {
    "duration": 220,
    "start_time": "2022-10-19T12:58:24.862Z"
   },
   {
    "duration": 227,
    "start_time": "2022-10-19T12:58:25.165Z"
   },
   {
    "duration": 282,
    "start_time": "2022-10-19T13:01:08.444Z"
   },
   {
    "duration": 357,
    "start_time": "2022-10-19T13:01:32.395Z"
   },
   {
    "duration": 293,
    "start_time": "2022-10-19T13:01:40.763Z"
   },
   {
    "duration": 517,
    "start_time": "2022-10-19T13:02:02.483Z"
   },
   {
    "duration": 361,
    "start_time": "2022-10-19T13:02:08.195Z"
   },
   {
    "duration": 320,
    "start_time": "2022-10-19T13:02:17.540Z"
   },
   {
    "duration": 327,
    "start_time": "2022-10-19T13:02:26.524Z"
   },
   {
    "duration": 346,
    "start_time": "2022-10-19T13:02:29.987Z"
   },
   {
    "duration": 320,
    "start_time": "2022-10-19T13:03:53.082Z"
   },
   {
    "duration": 346,
    "start_time": "2022-10-19T13:05:25.809Z"
   },
   {
    "duration": 208,
    "start_time": "2022-10-19T13:15:41.873Z"
   },
   {
    "duration": 335,
    "start_time": "2022-10-19T13:18:36.136Z"
   },
   {
    "duration": 238,
    "start_time": "2022-10-19T13:18:41.496Z"
   },
   {
    "duration": 247,
    "start_time": "2022-10-19T13:18:55.151Z"
   },
   {
    "duration": 284,
    "start_time": "2022-10-19T13:22:59.796Z"
   },
   {
    "duration": 197,
    "start_time": "2022-10-19T13:23:02.908Z"
   },
   {
    "duration": 220,
    "start_time": "2022-10-19T13:23:56.443Z"
   },
   {
    "duration": 228,
    "start_time": "2022-10-19T13:24:13.907Z"
   },
   {
    "duration": 236,
    "start_time": "2022-10-19T13:24:20.516Z"
   },
   {
    "duration": 211,
    "start_time": "2022-10-19T13:24:29.483Z"
   },
   {
    "duration": 232,
    "start_time": "2022-10-19T13:24:38.996Z"
   },
   {
    "duration": 324,
    "start_time": "2022-10-19T13:25:59.771Z"
   },
   {
    "duration": 313,
    "start_time": "2022-10-19T13:26:07.369Z"
   },
   {
    "duration": 373,
    "start_time": "2022-10-19T13:27:21.777Z"
   },
   {
    "duration": 361,
    "start_time": "2022-10-19T13:27:27.689Z"
   },
   {
    "duration": 11,
    "start_time": "2022-10-19T13:41:28.486Z"
   },
   {
    "duration": 12,
    "start_time": "2022-10-19T13:41:35.814Z"
   },
   {
    "duration": 8,
    "start_time": "2022-10-19T13:42:27.630Z"
   },
   {
    "duration": 7,
    "start_time": "2022-10-19T13:42:32.950Z"
   },
   {
    "duration": 15,
    "start_time": "2022-10-19T13:42:42.675Z"
   },
   {
    "duration": 13,
    "start_time": "2022-10-19T13:42:45.733Z"
   },
   {
    "duration": 12,
    "start_time": "2022-10-19T13:43:09.204Z"
   },
   {
    "duration": 14,
    "start_time": "2022-10-19T13:43:27.821Z"
   },
   {
    "duration": 210,
    "start_time": "2022-10-19T13:45:33.387Z"
   },
   {
    "duration": 142,
    "start_time": "2022-10-19T13:45:35.795Z"
   },
   {
    "duration": 118,
    "start_time": "2022-10-19T13:45:39.483Z"
   },
   {
    "duration": 114,
    "start_time": "2022-10-19T13:47:03.690Z"
   },
   {
    "duration": 136,
    "start_time": "2022-10-19T13:47:17.786Z"
   },
   {
    "duration": 226,
    "start_time": "2022-10-19T13:47:43.066Z"
   },
   {
    "duration": 160,
    "start_time": "2022-10-19T13:47:49.082Z"
   },
   {
    "duration": 162,
    "start_time": "2022-10-19T13:48:09.922Z"
   },
   {
    "duration": 148,
    "start_time": "2022-10-19T13:48:18.066Z"
   },
   {
    "duration": 152,
    "start_time": "2022-10-19T13:48:24.936Z"
   },
   {
    "duration": 167,
    "start_time": "2022-10-19T13:50:50.399Z"
   },
   {
    "duration": 6,
    "start_time": "2022-10-19T13:52:27.630Z"
   },
   {
    "duration": 4,
    "start_time": "2022-10-19T13:52:37.221Z"
   },
   {
    "duration": 5,
    "start_time": "2022-10-19T13:52:39.071Z"
   },
   {
    "duration": 249,
    "start_time": "2022-10-19T13:55:27.342Z"
   },
   {
    "duration": 166,
    "start_time": "2022-10-19T13:56:39.960Z"
   },
   {
    "duration": 179,
    "start_time": "2022-10-19T13:56:42.202Z"
   },
   {
    "duration": 205,
    "start_time": "2022-10-19T13:56:58.964Z"
   },
   {
    "duration": 218,
    "start_time": "2022-10-19T13:57:00.706Z"
   },
   {
    "duration": 83,
    "start_time": "2022-10-19T14:00:49.128Z"
   },
   {
    "duration": 6,
    "start_time": "2022-10-19T14:00:54.848Z"
   },
   {
    "duration": 6,
    "start_time": "2022-10-19T14:00:57.384Z"
   },
   {
    "duration": 18,
    "start_time": "2022-10-19T14:08:10.418Z"
   },
   {
    "duration": 12,
    "start_time": "2022-10-19T14:08:24.874Z"
   },
   {
    "duration": 185,
    "start_time": "2022-10-19T14:09:09.679Z"
   },
   {
    "duration": 1443,
    "start_time": "2022-10-19T14:09:31.130Z"
   },
   {
    "duration": 124,
    "start_time": "2022-10-19T14:10:45.261Z"
   },
   {
    "duration": 124,
    "start_time": "2022-10-19T14:11:23.137Z"
   },
   {
    "duration": 235,
    "start_time": "2022-10-19T14:11:34.008Z"
   },
   {
    "duration": 1547,
    "start_time": "2022-10-19T14:11:52.128Z"
   },
   {
    "duration": 245,
    "start_time": "2022-10-19T14:12:28.285Z"
   },
   {
    "duration": 221,
    "start_time": "2022-10-19T14:12:34.528Z"
   },
   {
    "duration": 944,
    "start_time": "2022-10-19T14:12:36.231Z"
   },
   {
    "duration": 222,
    "start_time": "2022-10-19T14:13:29.007Z"
   },
   {
    "duration": 517,
    "start_time": "2022-10-19T14:13:47.101Z"
   },
   {
    "duration": 175,
    "start_time": "2022-10-19T14:13:50.263Z"
   },
   {
    "duration": 15,
    "start_time": "2022-10-19T14:18:40.504Z"
   },
   {
    "duration": 14,
    "start_time": "2022-10-19T14:24:50.247Z"
   },
   {
    "duration": 11,
    "start_time": "2022-10-19T14:24:52.815Z"
   },
   {
    "duration": 239,
    "start_time": "2022-10-19T14:25:50.302Z"
   },
   {
    "duration": 238,
    "start_time": "2022-10-19T14:26:27.086Z"
   },
   {
    "duration": 1056,
    "start_time": "2022-10-19T14:27:33.316Z"
   },
   {
    "duration": 1006,
    "start_time": "2022-10-19T14:27:52.765Z"
   },
   {
    "duration": 206,
    "start_time": "2022-10-19T14:28:12.571Z"
   },
   {
    "duration": 177,
    "start_time": "2022-10-19T14:28:16.416Z"
   },
   {
    "duration": 182,
    "start_time": "2022-10-19T14:28:26.139Z"
   },
   {
    "duration": 1278,
    "start_time": "2022-10-19T14:29:10.804Z"
   },
   {
    "duration": 187,
    "start_time": "2022-10-19T14:29:17.779Z"
   },
   {
    "duration": 14,
    "start_time": "2022-10-19T14:36:32.182Z"
   },
   {
    "duration": 1035,
    "start_time": "2022-10-19T14:46:13.926Z"
   },
   {
    "duration": 12,
    "start_time": "2022-10-19T14:46:27.454Z"
   },
   {
    "duration": 15,
    "start_time": "2022-10-19T14:48:50.564Z"
   },
   {
    "duration": 9,
    "start_time": "2022-10-19T14:52:44.073Z"
   },
   {
    "duration": 10,
    "start_time": "2022-10-19T14:54:49.264Z"
   },
   {
    "duration": 746,
    "start_time": "2022-10-19T14:56:41.127Z"
   },
   {
    "duration": 28,
    "start_time": "2022-10-19T14:56:50.415Z"
   },
   {
    "duration": 28,
    "start_time": "2022-10-19T14:56:57.487Z"
   },
   {
    "duration": 27,
    "start_time": "2022-10-19T14:59:21.284Z"
   },
   {
    "duration": 1127,
    "start_time": "2022-10-19T15:01:51.332Z"
   },
   {
    "duration": 14,
    "start_time": "2022-10-19T15:02:00.763Z"
   },
   {
    "duration": 17,
    "start_time": "2022-10-19T15:07:30.131Z"
   },
   {
    "duration": 17,
    "start_time": "2022-10-19T15:08:33.583Z"
   },
   {
    "duration": 17,
    "start_time": "2022-10-19T15:08:36.574Z"
   },
   {
    "duration": 15,
    "start_time": "2022-10-19T15:08:45.311Z"
   },
   {
    "duration": 4,
    "start_time": "2022-10-19T15:10:19.413Z"
   },
   {
    "duration": 56,
    "start_time": "2022-10-19T15:10:27.692Z"
   },
   {
    "duration": 7,
    "start_time": "2022-10-19T15:11:00.277Z"
   },
   {
    "duration": 15,
    "start_time": "2022-10-19T15:11:45.731Z"
   },
   {
    "duration": 19,
    "start_time": "2022-10-19T15:12:09.172Z"
   },
   {
    "duration": 10,
    "start_time": "2022-10-19T15:24:34.777Z"
   },
   {
    "duration": 14,
    "start_time": "2022-10-19T15:27:01.560Z"
   },
   {
    "duration": 11,
    "start_time": "2022-10-19T15:27:06.544Z"
   },
   {
    "duration": 14,
    "start_time": "2022-10-19T15:27:29.095Z"
   },
   {
    "duration": 10,
    "start_time": "2022-10-19T15:27:31.919Z"
   },
   {
    "duration": 10,
    "start_time": "2022-10-19T15:27:34.359Z"
   },
   {
    "duration": 299,
    "start_time": "2022-10-19T15:54:32.342Z"
   },
   {
    "duration": 173,
    "start_time": "2022-10-19T15:54:57.842Z"
   },
   {
    "duration": 161,
    "start_time": "2022-10-19T15:55:01.089Z"
   },
   {
    "duration": 326,
    "start_time": "2022-10-19T15:55:16.697Z"
   },
   {
    "duration": 85,
    "start_time": "2022-10-19T15:56:06.328Z"
   },
   {
    "duration": 46,
    "start_time": "2022-10-19T15:56:16.938Z"
   },
   {
    "duration": 428,
    "start_time": "2022-10-19T15:56:57.712Z"
   },
   {
    "duration": 4,
    "start_time": "2022-10-19T15:57:15.104Z"
   },
   {
    "duration": 4,
    "start_time": "2022-10-19T15:57:17.247Z"
   },
   {
    "duration": 342,
    "start_time": "2022-10-19T15:57:18.671Z"
   },
   {
    "duration": 4,
    "start_time": "2022-10-19T15:58:42.575Z"
   },
   {
    "duration": 2,
    "start_time": "2022-10-19T15:58:45.215Z"
   },
   {
    "duration": 280,
    "start_time": "2022-10-19T15:58:47.343Z"
   },
   {
    "duration": 4,
    "start_time": "2022-10-19T15:58:49.647Z"
   },
   {
    "duration": 4,
    "start_time": "2022-10-19T15:59:09.303Z"
   },
   {
    "duration": 309,
    "start_time": "2022-10-19T15:59:10.679Z"
   },
   {
    "duration": 4,
    "start_time": "2022-10-19T15:59:18.103Z"
   },
   {
    "duration": 320,
    "start_time": "2022-10-19T15:59:19.583Z"
   },
   {
    "duration": 4,
    "start_time": "2022-10-19T15:59:55.230Z"
   },
   {
    "duration": 305,
    "start_time": "2022-10-19T15:59:56.718Z"
   },
   {
    "duration": 311,
    "start_time": "2022-10-19T16:00:59.485Z"
   },
   {
    "duration": 278,
    "start_time": "2022-10-19T16:02:19.644Z"
   },
   {
    "duration": 1250,
    "start_time": "2022-10-20T08:06:37.792Z"
   },
   {
    "duration": 115,
    "start_time": "2022-10-20T08:06:39.044Z"
   },
   {
    "duration": 11,
    "start_time": "2022-10-20T08:06:39.160Z"
   },
   {
    "duration": 11,
    "start_time": "2022-10-20T08:06:39.172Z"
   },
   {
    "duration": 9,
    "start_time": "2022-10-20T08:06:39.185Z"
   },
   {
    "duration": 129,
    "start_time": "2022-10-20T08:06:39.195Z"
   },
   {
    "duration": 16,
    "start_time": "2022-10-20T08:06:39.326Z"
   },
   {
    "duration": 19,
    "start_time": "2022-10-20T08:06:39.344Z"
   },
   {
    "duration": 8,
    "start_time": "2022-10-20T08:06:39.365Z"
   },
   {
    "duration": 20,
    "start_time": "2022-10-20T08:06:39.374Z"
   },
   {
    "duration": 11,
    "start_time": "2022-10-20T08:06:39.396Z"
   },
   {
    "duration": 11,
    "start_time": "2022-10-20T08:06:39.409Z"
   },
   {
    "duration": 21,
    "start_time": "2022-10-20T08:06:39.422Z"
   },
   {
    "duration": 11,
    "start_time": "2022-10-20T08:06:39.447Z"
   },
   {
    "duration": 12,
    "start_time": "2022-10-20T08:06:39.461Z"
   },
   {
    "duration": 8,
    "start_time": "2022-10-20T08:06:39.475Z"
   },
   {
    "duration": 27,
    "start_time": "2022-10-20T08:06:39.485Z"
   },
   {
    "duration": 16,
    "start_time": "2022-10-20T08:06:39.514Z"
   },
   {
    "duration": 281,
    "start_time": "2022-10-20T08:06:39.532Z"
   },
   {
    "duration": 267,
    "start_time": "2022-10-20T08:06:39.815Z"
   },
   {
    "duration": 219,
    "start_time": "2022-10-20T08:06:40.084Z"
   },
   {
    "duration": 326,
    "start_time": "2022-10-20T08:06:40.305Z"
   },
   {
    "duration": 209,
    "start_time": "2022-10-20T08:06:40.633Z"
   },
   {
    "duration": 290,
    "start_time": "2022-10-20T08:06:40.844Z"
   },
   {
    "duration": 145,
    "start_time": "2022-10-20T08:06:41.136Z"
   },
   {
    "duration": 5,
    "start_time": "2022-10-20T08:06:41.283Z"
   },
   {
    "duration": 164,
    "start_time": "2022-10-20T08:06:41.290Z"
   },
   {
    "duration": 7,
    "start_time": "2022-10-20T08:06:41.456Z"
   },
   {
    "duration": 228,
    "start_time": "2022-10-20T08:06:41.466Z"
   },
   {
    "duration": 206,
    "start_time": "2022-10-20T08:06:41.702Z"
   },
   {
    "duration": 12,
    "start_time": "2022-10-20T08:06:41.910Z"
   },
   {
    "duration": 10,
    "start_time": "2022-10-20T08:06:41.924Z"
   },
   {
    "duration": 30,
    "start_time": "2022-10-20T08:06:41.935Z"
   },
   {
    "duration": 43,
    "start_time": "2022-10-20T08:06:41.967Z"
   },
   {
    "duration": 370,
    "start_time": "2022-10-20T08:06:42.012Z"
   },
   {
    "duration": 321,
    "start_time": "2022-10-20T08:06:42.384Z"
   },
   {
    "duration": 135,
    "start_time": "2022-10-20T08:26:00.491Z"
   },
   {
    "duration": 129,
    "start_time": "2022-10-20T08:26:06.368Z"
   },
   {
    "duration": 118,
    "start_time": "2022-10-20T08:27:27.871Z"
   },
   {
    "duration": 116,
    "start_time": "2022-10-20T08:27:50.959Z"
   },
   {
    "duration": 44,
    "start_time": "2022-10-20T09:40:09.689Z"
   },
   {
    "duration": 1218,
    "start_time": "2022-10-20T09:40:11.742Z"
   },
   {
    "duration": 121,
    "start_time": "2022-10-20T09:40:13.183Z"
   },
   {
    "duration": 12,
    "start_time": "2022-10-20T09:40:15.570Z"
   },
   {
    "duration": 8,
    "start_time": "2022-10-20T09:40:21.631Z"
   },
   {
    "duration": 7,
    "start_time": "2022-10-20T09:40:25.383Z"
   },
   {
    "duration": 9,
    "start_time": "2022-10-20T09:42:53.830Z"
   },
   {
    "duration": 8,
    "start_time": "2022-10-20T09:42:59.445Z"
   },
   {
    "duration": 7,
    "start_time": "2022-10-20T09:43:01.453Z"
   },
   {
    "duration": 7,
    "start_time": "2022-10-20T09:43:03.468Z"
   },
   {
    "duration": 7,
    "start_time": "2022-10-20T09:43:06.381Z"
   },
   {
    "duration": 8,
    "start_time": "2022-10-20T09:43:08.325Z"
   },
   {
    "duration": 9,
    "start_time": "2022-10-20T09:43:10.108Z"
   },
   {
    "duration": 7,
    "start_time": "2022-10-20T09:43:11.831Z"
   },
   {
    "duration": 8,
    "start_time": "2022-10-20T09:43:13.581Z"
   },
   {
    "duration": 6,
    "start_time": "2022-10-20T09:43:15.189Z"
   },
   {
    "duration": 7,
    "start_time": "2022-10-20T09:43:16.789Z"
   },
   {
    "duration": 56,
    "start_time": "2022-10-20T09:50:05.482Z"
   },
   {
    "duration": 3,
    "start_time": "2022-10-20T09:50:09.522Z"
   },
   {
    "duration": 68,
    "start_time": "2022-10-20T09:50:09.527Z"
   },
   {
    "duration": 7,
    "start_time": "2022-10-20T09:50:09.596Z"
   },
   {
    "duration": 30,
    "start_time": "2022-10-20T09:50:09.605Z"
   },
   {
    "duration": 32,
    "start_time": "2022-10-20T09:50:09.636Z"
   },
   {
    "duration": 272,
    "start_time": "2022-10-20T09:50:09.669Z"
   },
   {
    "duration": 15,
    "start_time": "2022-10-20T09:50:09.943Z"
   },
   {
    "duration": 33,
    "start_time": "2022-10-20T09:50:09.960Z"
   },
   {
    "duration": 21,
    "start_time": "2022-10-20T09:50:09.997Z"
   },
   {
    "duration": 29,
    "start_time": "2022-10-20T09:50:10.020Z"
   },
   {
    "duration": 22,
    "start_time": "2022-10-20T09:50:10.051Z"
   },
   {
    "duration": 22,
    "start_time": "2022-10-20T09:50:10.075Z"
   },
   {
    "duration": 21,
    "start_time": "2022-10-20T09:50:10.099Z"
   },
   {
    "duration": 13,
    "start_time": "2022-10-20T09:50:10.122Z"
   },
   {
    "duration": 33,
    "start_time": "2022-10-20T09:50:10.136Z"
   },
   {
    "duration": 11,
    "start_time": "2022-10-20T09:50:10.170Z"
   },
   {
    "duration": 13,
    "start_time": "2022-10-20T09:50:10.182Z"
   },
   {
    "duration": 12,
    "start_time": "2022-10-20T09:50:10.196Z"
   },
   {
    "duration": 261,
    "start_time": "2022-10-20T09:50:10.209Z"
   },
   {
    "duration": 251,
    "start_time": "2022-10-20T09:50:10.472Z"
   },
   {
    "duration": 181,
    "start_time": "2022-10-20T09:50:10.724Z"
   },
   {
    "duration": 329,
    "start_time": "2022-10-20T09:50:10.907Z"
   },
   {
    "duration": 204,
    "start_time": "2022-10-20T09:50:11.237Z"
   },
   {
    "duration": 289,
    "start_time": "2022-10-20T09:50:11.444Z"
   },
   {
    "duration": 148,
    "start_time": "2022-10-20T09:50:12.627Z"
   },
   {
    "duration": 126,
    "start_time": "2022-10-20T09:50:17.371Z"
   },
   {
    "duration": 1010,
    "start_time": "2022-10-20T10:29:54.051Z"
   },
   {
    "duration": 55,
    "start_time": "2022-10-20T10:29:55.063Z"
   },
   {
    "duration": 11,
    "start_time": "2022-10-20T10:29:55.120Z"
   },
   {
    "duration": 10,
    "start_time": "2022-10-20T10:29:55.133Z"
   },
   {
    "duration": 9,
    "start_time": "2022-10-20T10:29:55.145Z"
   },
   {
    "duration": 100,
    "start_time": "2022-10-20T10:29:55.155Z"
   },
   {
    "duration": 14,
    "start_time": "2022-10-20T10:29:55.256Z"
   },
   {
    "duration": 21,
    "start_time": "2022-10-20T10:29:55.272Z"
   },
   {
    "duration": 6,
    "start_time": "2022-10-20T10:29:55.294Z"
   },
   {
    "duration": 11,
    "start_time": "2022-10-20T10:29:55.301Z"
   },
   {
    "duration": 4,
    "start_time": "2022-10-20T10:29:55.314Z"
   },
   {
    "duration": 8,
    "start_time": "2022-10-20T10:29:55.320Z"
   },
   {
    "duration": 30,
    "start_time": "2022-10-20T10:29:55.330Z"
   },
   {
    "duration": 6,
    "start_time": "2022-10-20T10:29:55.364Z"
   },
   {
    "duration": 13,
    "start_time": "2022-10-20T10:29:55.372Z"
   },
   {
    "duration": 9,
    "start_time": "2022-10-20T10:29:55.387Z"
   },
   {
    "duration": 13,
    "start_time": "2022-10-20T10:29:55.397Z"
   },
   {
    "duration": 17,
    "start_time": "2022-10-20T10:29:55.411Z"
   },
   {
    "duration": 271,
    "start_time": "2022-10-20T10:29:55.430Z"
   },
   {
    "duration": 256,
    "start_time": "2022-10-20T10:29:55.703Z"
   },
   {
    "duration": 220,
    "start_time": "2022-10-20T10:29:55.961Z"
   },
   {
    "duration": 316,
    "start_time": "2022-10-20T10:29:56.183Z"
   },
   {
    "duration": 195,
    "start_time": "2022-10-20T10:29:56.501Z"
   },
   {
    "duration": 301,
    "start_time": "2022-10-20T10:29:56.697Z"
   },
   {
    "duration": 132,
    "start_time": "2022-10-20T10:29:57.000Z"
   },
   {
    "duration": 5,
    "start_time": "2022-10-20T10:29:57.133Z"
   },
   {
    "duration": 152,
    "start_time": "2022-10-20T10:29:57.139Z"
   },
   {
    "duration": 5,
    "start_time": "2022-10-20T10:29:57.292Z"
   },
   {
    "duration": 260,
    "start_time": "2022-10-20T10:29:57.298Z"
   },
   {
    "duration": 200,
    "start_time": "2022-10-20T10:29:57.559Z"
   },
   {
    "duration": 9,
    "start_time": "2022-10-20T10:29:57.761Z"
   },
   {
    "duration": 9,
    "start_time": "2022-10-20T10:29:57.772Z"
   },
   {
    "duration": 46,
    "start_time": "2022-10-20T10:29:57.782Z"
   },
   {
    "duration": 15,
    "start_time": "2022-10-20T10:29:57.830Z"
   },
   {
    "duration": 327,
    "start_time": "2022-10-20T10:29:57.847Z"
   },
   {
    "duration": 262,
    "start_time": "2022-10-20T10:29:58.175Z"
   },
   {
    "duration": 9,
    "start_time": "2022-10-20T10:30:14.320Z"
   },
   {
    "duration": 16,
    "start_time": "2022-10-20T10:37:30.297Z"
   },
   {
    "duration": 85,
    "start_time": "2022-10-20T10:38:03.601Z"
   },
   {
    "duration": 5,
    "start_time": "2022-10-20T10:38:09.225Z"
   },
   {
    "duration": 15,
    "start_time": "2022-10-20T10:38:13.345Z"
   },
   {
    "duration": 12,
    "start_time": "2022-10-20T10:38:19.485Z"
   },
   {
    "duration": 7,
    "start_time": "2022-10-20T10:38:22.793Z"
   },
   {
    "duration": 5,
    "start_time": "2022-10-20T10:38:30.752Z"
   },
   {
    "duration": 5,
    "start_time": "2022-10-20T10:42:46.677Z"
   },
   {
    "duration": 6,
    "start_time": "2022-10-20T10:42:55.757Z"
   },
   {
    "duration": 8,
    "start_time": "2022-10-20T10:43:01.005Z"
   },
   {
    "duration": 8,
    "start_time": "2022-10-20T10:44:57.107Z"
   },
   {
    "duration": 6,
    "start_time": "2022-10-20T10:44:59.308Z"
   },
   {
    "duration": 8,
    "start_time": "2022-10-20T10:45:18.587Z"
   },
   {
    "duration": 12,
    "start_time": "2022-10-20T10:45:24.291Z"
   },
   {
    "duration": 5,
    "start_time": "2022-10-20T10:46:01.211Z"
   },
   {
    "duration": 7,
    "start_time": "2022-10-20T10:46:06.762Z"
   },
   {
    "duration": 6,
    "start_time": "2022-10-20T10:47:22.729Z"
   },
   {
    "duration": 6,
    "start_time": "2022-10-20T10:47:29.050Z"
   },
   {
    "duration": 5,
    "start_time": "2022-10-20T10:47:40.345Z"
   },
   {
    "duration": 6,
    "start_time": "2022-10-20T10:47:43.402Z"
   },
   {
    "duration": 6,
    "start_time": "2022-10-20T10:47:45.001Z"
   },
   {
    "duration": 9,
    "start_time": "2022-10-20T10:50:33.951Z"
   },
   {
    "duration": 11,
    "start_time": "2022-10-20T10:50:42.352Z"
   },
   {
    "duration": 12,
    "start_time": "2022-10-20T10:51:01.986Z"
   },
   {
    "duration": 12,
    "start_time": "2022-10-20T10:51:29.841Z"
   },
   {
    "duration": 12,
    "start_time": "2022-10-20T10:51:48.841Z"
   },
   {
    "duration": 151,
    "start_time": "2022-10-20T11:06:32.771Z"
   },
   {
    "duration": 198,
    "start_time": "2022-10-20T11:07:09.790Z"
   },
   {
    "duration": 186,
    "start_time": "2022-10-20T11:07:25.122Z"
   },
   {
    "duration": 141,
    "start_time": "2022-10-20T11:10:34.639Z"
   },
   {
    "duration": 117,
    "start_time": "2022-10-20T11:10:46.072Z"
   },
   {
    "duration": 94,
    "start_time": "2022-10-20T11:11:01.336Z"
   },
   {
    "duration": 89,
    "start_time": "2022-10-20T11:11:04.014Z"
   },
   {
    "duration": 102,
    "start_time": "2022-10-20T11:11:53.996Z"
   },
   {
    "duration": 96,
    "start_time": "2022-10-20T11:12:10.614Z"
   },
   {
    "duration": 160,
    "start_time": "2022-10-20T11:14:17.573Z"
   },
   {
    "duration": 192,
    "start_time": "2022-10-20T11:15:37.308Z"
   },
   {
    "duration": 104,
    "start_time": "2022-10-20T11:15:44.796Z"
   },
   {
    "duration": 120,
    "start_time": "2022-10-20T11:16:11.308Z"
   },
   {
    "duration": 10,
    "start_time": "2022-10-20T11:16:16.484Z"
   },
   {
    "duration": 160,
    "start_time": "2022-10-20T11:16:56.189Z"
   },
   {
    "duration": 127,
    "start_time": "2022-10-20T11:16:59.627Z"
   },
   {
    "duration": 118,
    "start_time": "2022-10-20T11:17:15.467Z"
   },
   {
    "duration": 151,
    "start_time": "2022-10-20T11:17:21.015Z"
   },
   {
    "duration": 130,
    "start_time": "2022-10-20T11:17:25.019Z"
   },
   {
    "duration": 132,
    "start_time": "2022-10-20T11:17:27.068Z"
   },
   {
    "duration": 148,
    "start_time": "2022-10-20T11:18:41.506Z"
   },
   {
    "duration": 91,
    "start_time": "2022-10-20T11:19:00.027Z"
   },
   {
    "duration": 80,
    "start_time": "2022-10-20T11:19:30.441Z"
   },
   {
    "duration": 77,
    "start_time": "2022-10-20T11:19:34.114Z"
   },
   {
    "duration": 82,
    "start_time": "2022-10-20T11:19:45.250Z"
   },
   {
    "duration": 97,
    "start_time": "2022-10-20T11:20:44.258Z"
   },
   {
    "duration": 135,
    "start_time": "2022-10-20T11:20:52.848Z"
   },
   {
    "duration": 115,
    "start_time": "2022-10-20T11:21:25.888Z"
   },
   {
    "duration": 72,
    "start_time": "2022-10-20T11:21:38.974Z"
   },
   {
    "duration": 93,
    "start_time": "2022-10-20T11:22:38.982Z"
   },
   {
    "duration": 103,
    "start_time": "2022-10-20T11:22:41.958Z"
   },
   {
    "duration": 133,
    "start_time": "2022-10-20T11:22:46.934Z"
   },
   {
    "duration": 69,
    "start_time": "2022-10-20T11:22:51.022Z"
   },
   {
    "duration": 131,
    "start_time": "2022-10-20T11:22:55.214Z"
   },
   {
    "duration": 108,
    "start_time": "2022-10-20T11:23:13.247Z"
   },
   {
    "duration": 163,
    "start_time": "2022-10-20T11:23:25.430Z"
   },
   {
    "duration": 133,
    "start_time": "2022-10-20T11:25:14.196Z"
   },
   {
    "duration": 119,
    "start_time": "2022-10-20T11:25:25.614Z"
   },
   {
    "duration": 127,
    "start_time": "2022-10-20T11:25:30.668Z"
   },
   {
    "duration": 131,
    "start_time": "2022-10-20T11:25:33.060Z"
   },
   {
    "duration": 116,
    "start_time": "2022-10-20T11:25:38.518Z"
   },
   {
    "duration": 143,
    "start_time": "2022-10-20T11:25:46.188Z"
   },
   {
    "duration": 144,
    "start_time": "2022-10-20T11:25:59.716Z"
   },
   {
    "duration": 125,
    "start_time": "2022-10-20T11:26:04.720Z"
   },
   {
    "duration": 121,
    "start_time": "2022-10-20T11:26:30.827Z"
   },
   {
    "duration": 130,
    "start_time": "2022-10-20T11:26:33.419Z"
   },
   {
    "duration": 99,
    "start_time": "2022-10-20T11:26:42.731Z"
   },
   {
    "duration": 104,
    "start_time": "2022-10-20T11:27:12.099Z"
   },
   {
    "duration": 136,
    "start_time": "2022-10-20T11:27:35.354Z"
   },
   {
    "duration": 195,
    "start_time": "2022-10-20T11:28:02.482Z"
   },
   {
    "duration": 107,
    "start_time": "2022-10-20T11:28:09.154Z"
   },
   {
    "duration": 102,
    "start_time": "2022-10-20T11:28:21.242Z"
   },
   {
    "duration": 159,
    "start_time": "2022-10-20T11:28:37.314Z"
   },
   {
    "duration": 136,
    "start_time": "2022-10-20T11:28:47.664Z"
   },
   {
    "duration": 134,
    "start_time": "2022-10-20T11:28:51.961Z"
   },
   {
    "duration": 97,
    "start_time": "2022-10-20T11:29:03.697Z"
   },
   {
    "duration": 134,
    "start_time": "2022-10-20T11:30:37.503Z"
   },
   {
    "duration": 93,
    "start_time": "2022-10-20T11:30:54.656Z"
   },
   {
    "duration": 134,
    "start_time": "2022-10-20T11:31:02.720Z"
   },
   {
    "duration": 122,
    "start_time": "2022-10-20T11:31:05.255Z"
   },
   {
    "duration": 112,
    "start_time": "2022-10-20T11:31:15.543Z"
   },
   {
    "duration": 132,
    "start_time": "2022-10-20T11:31:19.175Z"
   },
   {
    "duration": 135,
    "start_time": "2022-10-20T11:31:25.047Z"
   },
   {
    "duration": 205,
    "start_time": "2022-10-20T11:32:23.190Z"
   },
   {
    "duration": 354,
    "start_time": "2022-10-20T11:33:04.134Z"
   },
   {
    "duration": 272,
    "start_time": "2022-10-20T11:33:12.725Z"
   },
   {
    "duration": 270,
    "start_time": "2022-10-20T11:33:31.011Z"
   },
   {
    "duration": 274,
    "start_time": "2022-10-20T11:33:34.485Z"
   },
   {
    "duration": 256,
    "start_time": "2022-10-20T11:33:39.845Z"
   },
   {
    "duration": 261,
    "start_time": "2022-10-20T11:33:50.700Z"
   },
   {
    "duration": 145,
    "start_time": "2022-10-20T11:34:15.973Z"
   },
   {
    "duration": 238,
    "start_time": "2022-10-20T11:34:28.956Z"
   },
   {
    "duration": 261,
    "start_time": "2022-10-20T11:35:35.523Z"
   },
   {
    "duration": 8,
    "start_time": "2022-10-20T11:46:50.506Z"
   },
   {
    "duration": 10,
    "start_time": "2022-10-20T11:46:52.562Z"
   },
   {
    "duration": 71,
    "start_time": "2022-10-20T11:48:47.833Z"
   },
   {
    "duration": 88,
    "start_time": "2022-10-20T11:48:56.074Z"
   },
   {
    "duration": 87,
    "start_time": "2022-10-20T11:49:10.569Z"
   },
   {
    "duration": 4,
    "start_time": "2022-10-20T11:49:42.575Z"
   },
   {
    "duration": 3,
    "start_time": "2022-10-20T11:50:02.225Z"
   },
   {
    "duration": 72,
    "start_time": "2022-10-20T12:14:29.049Z"
   },
   {
    "duration": 6,
    "start_time": "2022-10-20T12:20:16.261Z"
   },
   {
    "duration": 5,
    "start_time": "2022-10-20T12:29:24.052Z"
   },
   {
    "duration": 8,
    "start_time": "2022-10-20T12:29:26.157Z"
   },
   {
    "duration": 8,
    "start_time": "2022-10-20T12:29:29.212Z"
   },
   {
    "duration": 13,
    "start_time": "2022-10-20T12:30:12.044Z"
   },
   {
    "duration": 5,
    "start_time": "2022-10-20T12:35:42.432Z"
   },
   {
    "duration": 7,
    "start_time": "2022-10-20T12:35:45.021Z"
   },
   {
    "duration": 7,
    "start_time": "2022-10-20T12:35:59.983Z"
   },
   {
    "duration": 8,
    "start_time": "2022-10-20T12:36:03.454Z"
   },
   {
    "duration": 6,
    "start_time": "2022-10-20T12:36:08.120Z"
   },
   {
    "duration": 7,
    "start_time": "2022-10-20T12:36:19.455Z"
   },
   {
    "duration": 10,
    "start_time": "2022-10-20T12:36:29.006Z"
   },
   {
    "duration": 9,
    "start_time": "2022-10-20T12:36:33.124Z"
   },
   {
    "duration": 6,
    "start_time": "2022-10-20T12:36:40.094Z"
   },
   {
    "duration": 6,
    "start_time": "2022-10-20T12:36:45.503Z"
   },
   {
    "duration": 6,
    "start_time": "2022-10-20T12:36:54.942Z"
   },
   {
    "duration": 8,
    "start_time": "2022-10-20T12:37:26.261Z"
   },
   {
    "duration": 7,
    "start_time": "2022-10-20T12:37:57.912Z"
   },
   {
    "duration": 6,
    "start_time": "2022-10-20T12:38:01.293Z"
   },
   {
    "duration": 9,
    "start_time": "2022-10-20T12:38:05.133Z"
   },
   {
    "duration": 8,
    "start_time": "2022-10-20T12:38:09.349Z"
   },
   {
    "duration": 6,
    "start_time": "2022-10-20T12:38:51.629Z"
   },
   {
    "duration": 8,
    "start_time": "2022-10-20T12:38:57.052Z"
   },
   {
    "duration": 9,
    "start_time": "2022-10-20T12:39:00.948Z"
   },
   {
    "duration": 7,
    "start_time": "2022-10-20T12:39:07.149Z"
   },
   {
    "duration": 10,
    "start_time": "2022-10-20T12:39:16.100Z"
   },
   {
    "duration": 4,
    "start_time": "2022-10-20T12:39:23.900Z"
   },
   {
    "duration": 9,
    "start_time": "2022-10-20T12:40:05.444Z"
   },
   {
    "duration": 86,
    "start_time": "2022-10-20T12:40:11.339Z"
   },
   {
    "duration": 7,
    "start_time": "2022-10-20T12:40:14.227Z"
   },
   {
    "duration": 8,
    "start_time": "2022-10-20T12:40:16.955Z"
   },
   {
    "duration": 8,
    "start_time": "2022-10-20T12:40:21.414Z"
   },
   {
    "duration": 6,
    "start_time": "2022-10-20T12:40:27.067Z"
   },
   {
    "duration": 8,
    "start_time": "2022-10-20T12:40:41.244Z"
   },
   {
    "duration": 12,
    "start_time": "2022-10-20T12:41:32.026Z"
   },
   {
    "duration": 8,
    "start_time": "2022-10-20T12:41:37.362Z"
   },
   {
    "duration": 8,
    "start_time": "2022-10-20T12:41:40.720Z"
   },
   {
    "duration": 7,
    "start_time": "2022-10-20T12:41:45.698Z"
   },
   {
    "duration": 8,
    "start_time": "2022-10-20T12:41:53.770Z"
   },
   {
    "duration": 10,
    "start_time": "2022-10-20T12:41:56.193Z"
   },
   {
    "duration": 9,
    "start_time": "2022-10-20T12:42:09.220Z"
   },
   {
    "duration": 8,
    "start_time": "2022-10-20T12:42:31.401Z"
   },
   {
    "duration": 9,
    "start_time": "2022-10-20T12:43:02.889Z"
   },
   {
    "duration": 10,
    "start_time": "2022-10-20T12:43:35.057Z"
   },
   {
    "duration": 8,
    "start_time": "2022-10-20T12:43:39.193Z"
   },
   {
    "duration": 6,
    "start_time": "2022-10-20T12:43:43.497Z"
   },
   {
    "duration": 7,
    "start_time": "2022-10-20T12:43:47.744Z"
   },
   {
    "duration": 8,
    "start_time": "2022-10-20T12:44:27.552Z"
   },
   {
    "duration": 10,
    "start_time": "2022-10-20T12:44:37.871Z"
   },
   {
    "duration": 9,
    "start_time": "2022-10-20T12:44:53.271Z"
   },
   {
    "duration": 8,
    "start_time": "2022-10-20T12:45:18.071Z"
   },
   {
    "duration": 1327,
    "start_time": "2022-10-20T12:45:25.239Z"
   },
   {
    "duration": 9,
    "start_time": "2022-10-20T12:45:28.728Z"
   },
   {
    "duration": 8,
    "start_time": "2022-10-20T12:48:17.270Z"
   },
   {
    "duration": 12,
    "start_time": "2022-10-20T12:48:25.045Z"
   },
   {
    "duration": 12,
    "start_time": "2022-10-20T12:48:29.045Z"
   },
   {
    "duration": 7,
    "start_time": "2022-10-20T12:48:42.709Z"
   },
   {
    "duration": 12,
    "start_time": "2022-10-20T12:48:52.381Z"
   },
   {
    "duration": 16,
    "start_time": "2022-10-20T12:49:04.387Z"
   },
   {
    "duration": 16,
    "start_time": "2022-10-20T12:49:17.060Z"
   },
   {
    "duration": 13,
    "start_time": "2022-10-20T12:49:23.765Z"
   },
   {
    "duration": 8,
    "start_time": "2022-10-20T12:50:06.883Z"
   },
   {
    "duration": 8,
    "start_time": "2022-10-20T12:50:09.404Z"
   },
   {
    "duration": 4,
    "start_time": "2022-10-20T12:50:12.676Z"
   },
   {
    "duration": 4,
    "start_time": "2022-10-20T12:50:54.555Z"
   },
   {
    "duration": 4,
    "start_time": "2022-10-20T12:52:57.665Z"
   },
   {
    "duration": 6,
    "start_time": "2022-10-20T12:53:14.600Z"
   },
   {
    "duration": 6,
    "start_time": "2022-10-20T12:54:13.360Z"
   },
   {
    "duration": 13,
    "start_time": "2022-10-20T12:55:24.224Z"
   },
   {
    "duration": 7,
    "start_time": "2022-10-20T12:56:03.974Z"
   },
   {
    "duration": 9,
    "start_time": "2022-10-20T12:56:06.095Z"
   },
   {
    "duration": 12,
    "start_time": "2022-10-20T12:56:31.990Z"
   },
   {
    "duration": 7,
    "start_time": "2022-10-20T12:56:49.758Z"
   },
   {
    "duration": 9,
    "start_time": "2022-10-20T12:57:41.070Z"
   },
   {
    "duration": 10,
    "start_time": "2022-10-20T12:57:46.125Z"
   },
   {
    "duration": 4,
    "start_time": "2022-10-20T13:00:45.346Z"
   },
   {
    "duration": 6,
    "start_time": "2022-10-20T13:00:57.228Z"
   },
   {
    "duration": 9,
    "start_time": "2022-10-20T13:00:59.435Z"
   },
   {
    "duration": 14,
    "start_time": "2022-10-20T13:01:12.816Z"
   },
   {
    "duration": 5,
    "start_time": "2022-10-20T13:02:50.465Z"
   },
   {
    "duration": 4,
    "start_time": "2022-10-20T13:02:52.986Z"
   },
   {
    "duration": 11,
    "start_time": "2022-10-20T13:02:57.881Z"
   },
   {
    "duration": 11,
    "start_time": "2022-10-20T13:03:08.433Z"
   },
   {
    "duration": 11,
    "start_time": "2022-10-20T13:03:10.660Z"
   },
   {
    "duration": 7,
    "start_time": "2022-10-20T13:04:31.625Z"
   },
   {
    "duration": 13,
    "start_time": "2022-10-20T13:04:35.960Z"
   },
   {
    "duration": 12,
    "start_time": "2022-10-20T13:04:38.665Z"
   },
   {
    "duration": 11,
    "start_time": "2022-10-20T13:04:42.832Z"
   },
   {
    "duration": 11,
    "start_time": "2022-10-20T13:04:46.480Z"
   },
   {
    "duration": 859,
    "start_time": "2022-10-20T13:05:02.521Z"
   },
   {
    "duration": 554,
    "start_time": "2022-10-20T13:05:24.376Z"
   },
   {
    "duration": 553,
    "start_time": "2022-10-20T13:05:38.959Z"
   },
   {
    "duration": 639,
    "start_time": "2022-10-20T13:05:51.944Z"
   },
   {
    "duration": 537,
    "start_time": "2022-10-20T13:06:26.935Z"
   },
   {
    "duration": 12,
    "start_time": "2022-10-20T13:06:31.248Z"
   },
   {
    "duration": 6,
    "start_time": "2022-10-20T13:06:49.943Z"
   },
   {
    "duration": 11,
    "start_time": "2022-10-20T13:06:55.143Z"
   },
   {
    "duration": 13,
    "start_time": "2022-10-20T13:07:12.992Z"
   },
   {
    "duration": 13,
    "start_time": "2022-10-20T13:07:17.838Z"
   },
   {
    "duration": 9,
    "start_time": "2022-10-20T13:08:34.350Z"
   },
   {
    "duration": 9,
    "start_time": "2022-10-20T13:08:37.422Z"
   },
   {
    "duration": 15,
    "start_time": "2022-10-20T13:08:56.054Z"
   },
   {
    "duration": 15,
    "start_time": "2022-10-20T13:10:22.429Z"
   },
   {
    "duration": 8,
    "start_time": "2022-10-20T13:11:46.692Z"
   },
   {
    "duration": 10,
    "start_time": "2022-10-20T13:12:13.740Z"
   },
   {
    "duration": 9,
    "start_time": "2022-10-20T13:13:52.132Z"
   },
   {
    "duration": 8,
    "start_time": "2022-10-20T13:18:16.497Z"
   },
   {
    "duration": 7,
    "start_time": "2022-10-20T13:20:17.935Z"
   },
   {
    "duration": 13,
    "start_time": "2022-10-20T13:20:20.312Z"
   },
   {
    "duration": 11,
    "start_time": "2022-10-20T13:20:59.686Z"
   },
   {
    "duration": 7,
    "start_time": "2022-10-20T13:21:31.359Z"
   },
   {
    "duration": 15,
    "start_time": "2022-10-20T13:21:34.186Z"
   },
   {
    "duration": 13,
    "start_time": "2022-10-20T13:22:57.293Z"
   },
   {
    "duration": 11,
    "start_time": "2022-10-20T13:23:01.661Z"
   },
   {
    "duration": 1044,
    "start_time": "2022-10-20T13:25:40.523Z"
   },
   {
    "duration": 61,
    "start_time": "2022-10-20T13:25:41.569Z"
   },
   {
    "duration": 11,
    "start_time": "2022-10-20T13:25:41.632Z"
   },
   {
    "duration": 26,
    "start_time": "2022-10-20T13:25:41.645Z"
   },
   {
    "duration": 30,
    "start_time": "2022-10-20T13:25:41.672Z"
   },
   {
    "duration": 144,
    "start_time": "2022-10-20T13:25:41.704Z"
   },
   {
    "duration": 13,
    "start_time": "2022-10-20T13:25:41.850Z"
   },
   {
    "duration": 32,
    "start_time": "2022-10-20T13:25:41.865Z"
   },
   {
    "duration": 29,
    "start_time": "2022-10-20T13:25:41.898Z"
   },
   {
    "duration": 34,
    "start_time": "2022-10-20T13:25:41.930Z"
   },
   {
    "duration": 24,
    "start_time": "2022-10-20T13:25:41.966Z"
   },
   {
    "duration": 29,
    "start_time": "2022-10-20T13:25:41.991Z"
   },
   {
    "duration": 33,
    "start_time": "2022-10-20T13:25:42.021Z"
   },
   {
    "duration": 22,
    "start_time": "2022-10-20T13:25:42.056Z"
   },
   {
    "duration": 16,
    "start_time": "2022-10-20T13:25:42.079Z"
   },
   {
    "duration": 29,
    "start_time": "2022-10-20T13:25:42.097Z"
   },
   {
    "duration": 28,
    "start_time": "2022-10-20T13:25:42.129Z"
   },
   {
    "duration": 20,
    "start_time": "2022-10-20T13:25:42.159Z"
   },
   {
    "duration": 34,
    "start_time": "2022-10-20T13:25:42.180Z"
   },
   {
    "duration": 11,
    "start_time": "2022-10-20T13:25:42.216Z"
   },
   {
    "duration": 26,
    "start_time": "2022-10-20T13:25:42.229Z"
   },
   {
    "duration": 31,
    "start_time": "2022-10-20T13:25:42.257Z"
   },
   {
    "duration": 43,
    "start_time": "2022-10-20T13:25:42.289Z"
   },
   {
    "duration": 22,
    "start_time": "2022-10-20T13:25:42.333Z"
   },
   {
    "duration": 22,
    "start_time": "2022-10-20T13:25:42.356Z"
   },
   {
    "duration": 29,
    "start_time": "2022-10-20T13:25:42.380Z"
   },
   {
    "duration": 21,
    "start_time": "2022-10-20T13:25:42.411Z"
   },
   {
    "duration": 19,
    "start_time": "2022-10-20T13:25:42.435Z"
   },
   {
    "duration": 267,
    "start_time": "2022-10-20T13:25:42.455Z"
   },
   {
    "duration": 12,
    "start_time": "2022-10-20T13:25:42.723Z"
   },
   {
    "duration": 260,
    "start_time": "2022-10-20T13:25:42.736Z"
   },
   {
    "duration": 175,
    "start_time": "2022-10-20T13:25:42.997Z"
   },
   {
    "duration": 270,
    "start_time": "2022-10-20T13:25:43.174Z"
   },
   {
    "duration": 193,
    "start_time": "2022-10-20T13:25:43.445Z"
   },
   {
    "duration": 262,
    "start_time": "2022-10-20T13:25:43.639Z"
   },
   {
    "duration": 129,
    "start_time": "2022-10-20T13:25:43.903Z"
   },
   {
    "duration": 4,
    "start_time": "2022-10-20T13:25:44.033Z"
   },
   {
    "duration": 283,
    "start_time": "2022-10-20T13:25:44.038Z"
   },
   {
    "duration": 4,
    "start_time": "2022-10-20T13:25:44.322Z"
   },
   {
    "duration": 216,
    "start_time": "2022-10-20T13:25:44.328Z"
   },
   {
    "duration": 138,
    "start_time": "2022-10-20T13:25:44.546Z"
   },
   {
    "duration": 8,
    "start_time": "2022-10-20T13:25:44.686Z"
   },
   {
    "duration": 15,
    "start_time": "2022-10-20T13:25:44.695Z"
   },
   {
    "duration": 50,
    "start_time": "2022-10-20T13:25:44.712Z"
   },
   {
    "duration": 29,
    "start_time": "2022-10-20T13:25:44.763Z"
   },
   {
    "duration": 371,
    "start_time": "2022-10-20T13:25:44.793Z"
   },
   {
    "duration": 261,
    "start_time": "2022-10-20T13:25:45.166Z"
   },
   {
    "duration": 12,
    "start_time": "2022-10-20T13:25:56.731Z"
   },
   {
    "duration": 14,
    "start_time": "2022-10-20T13:27:21.061Z"
   },
   {
    "duration": 16,
    "start_time": "2022-10-20T13:27:37.586Z"
   },
   {
    "duration": 12,
    "start_time": "2022-10-20T13:27:42.995Z"
   },
   {
    "duration": 12,
    "start_time": "2022-10-20T13:28:17.362Z"
   },
   {
    "duration": 7,
    "start_time": "2022-10-20T13:29:43.458Z"
   },
   {
    "duration": 8,
    "start_time": "2022-10-20T13:31:36.356Z"
   },
   {
    "duration": 4,
    "start_time": "2022-10-20T13:34:46.849Z"
   },
   {
    "duration": 8,
    "start_time": "2022-10-20T13:34:48.826Z"
   },
   {
    "duration": 92,
    "start_time": "2022-10-20T13:35:01.357Z"
   },
   {
    "duration": 9,
    "start_time": "2022-10-20T13:35:17.686Z"
   },
   {
    "duration": 212,
    "start_time": "2022-10-20T13:35:29.405Z"
   },
   {
    "duration": 13,
    "start_time": "2022-10-20T13:35:32.149Z"
   },
   {
    "duration": 11,
    "start_time": "2022-10-20T13:36:15.851Z"
   },
   {
    "duration": 19,
    "start_time": "2022-10-20T13:36:27.350Z"
   },
   {
    "duration": 5,
    "start_time": "2022-10-20T13:36:47.572Z"
   },
   {
    "duration": 12,
    "start_time": "2022-10-20T13:36:50.107Z"
   },
   {
    "duration": 9,
    "start_time": "2022-10-20T13:39:25.674Z"
   },
   {
    "duration": 8,
    "start_time": "2022-10-20T13:51:44.700Z"
   },
   {
    "duration": 8,
    "start_time": "2022-10-20T13:51:50.523Z"
   },
   {
    "duration": 9,
    "start_time": "2022-10-20T13:51:54.771Z"
   },
   {
    "duration": 8,
    "start_time": "2022-10-20T13:52:03.603Z"
   },
   {
    "duration": 9,
    "start_time": "2022-10-20T13:52:11.019Z"
   },
   {
    "duration": 1051,
    "start_time": "2022-10-20T13:53:34.326Z"
   },
   {
    "duration": 97,
    "start_time": "2022-10-20T13:53:35.380Z"
   },
   {
    "duration": 11,
    "start_time": "2022-10-20T13:53:35.478Z"
   },
   {
    "duration": 14,
    "start_time": "2022-10-20T13:53:35.491Z"
   },
   {
    "duration": 10,
    "start_time": "2022-10-20T13:53:35.507Z"
   },
   {
    "duration": 133,
    "start_time": "2022-10-20T13:53:35.519Z"
   },
   {
    "duration": 21,
    "start_time": "2022-10-20T13:53:35.654Z"
   },
   {
    "duration": 17,
    "start_time": "2022-10-20T13:53:35.677Z"
   },
   {
    "duration": 9,
    "start_time": "2022-10-20T13:53:35.696Z"
   },
   {
    "duration": 15,
    "start_time": "2022-10-20T13:53:35.707Z"
   },
   {
    "duration": 13,
    "start_time": "2022-10-20T13:53:35.724Z"
   },
   {
    "duration": 8,
    "start_time": "2022-10-20T13:53:35.739Z"
   },
   {
    "duration": 26,
    "start_time": "2022-10-20T13:53:35.749Z"
   },
   {
    "duration": 9,
    "start_time": "2022-10-20T13:53:35.777Z"
   },
   {
    "duration": 9,
    "start_time": "2022-10-20T13:53:35.788Z"
   },
   {
    "duration": 27,
    "start_time": "2022-10-20T13:53:35.800Z"
   },
   {
    "duration": 14,
    "start_time": "2022-10-20T13:53:35.828Z"
   },
   {
    "duration": 13,
    "start_time": "2022-10-20T13:53:35.843Z"
   },
   {
    "duration": 12,
    "start_time": "2022-10-20T13:53:35.857Z"
   },
   {
    "duration": 18,
    "start_time": "2022-10-20T13:53:35.871Z"
   },
   {
    "duration": 370,
    "start_time": "2022-10-20T13:53:35.890Z"
   },
   {
    "duration": 15,
    "start_time": "2022-10-20T13:53:36.261Z"
   },
   {
    "duration": 290,
    "start_time": "2022-10-20T13:53:36.278Z"
   },
   {
    "duration": 198,
    "start_time": "2022-10-20T13:53:36.570Z"
   },
   {
    "duration": 287,
    "start_time": "2022-10-20T13:53:36.770Z"
   },
   {
    "duration": 209,
    "start_time": "2022-10-20T13:53:37.059Z"
   },
   {
    "duration": 286,
    "start_time": "2022-10-20T13:53:37.270Z"
   },
   {
    "duration": 131,
    "start_time": "2022-10-20T13:53:37.560Z"
   },
   {
    "duration": 5,
    "start_time": "2022-10-20T13:53:37.693Z"
   },
   {
    "duration": 286,
    "start_time": "2022-10-20T13:53:37.700Z"
   },
   {
    "duration": 4,
    "start_time": "2022-10-20T13:53:37.988Z"
   },
   {
    "duration": 231,
    "start_time": "2022-10-20T13:53:37.994Z"
   },
   {
    "duration": 141,
    "start_time": "2022-10-20T13:53:38.227Z"
   },
   {
    "duration": 10,
    "start_time": "2022-10-20T13:53:38.370Z"
   },
   {
    "duration": 15,
    "start_time": "2022-10-20T13:53:38.382Z"
   },
   {
    "duration": 44,
    "start_time": "2022-10-20T13:53:38.398Z"
   },
   {
    "duration": 25,
    "start_time": "2022-10-20T13:53:38.444Z"
   },
   {
    "duration": 414,
    "start_time": "2022-10-20T13:53:38.470Z"
   },
   {
    "duration": 311,
    "start_time": "2022-10-20T13:53:38.886Z"
   },
   {
    "duration": 42,
    "start_time": "2022-10-20T20:32:05.020Z"
   },
   {
    "duration": 1155,
    "start_time": "2022-10-20T20:32:07.984Z"
   },
   {
    "duration": 128,
    "start_time": "2022-10-20T20:32:09.140Z"
   },
   {
    "duration": 11,
    "start_time": "2022-10-20T20:32:09.269Z"
   },
   {
    "duration": 9,
    "start_time": "2022-10-20T20:32:09.282Z"
   },
   {
    "duration": 6,
    "start_time": "2022-10-20T20:32:09.293Z"
   },
   {
    "duration": 124,
    "start_time": "2022-10-20T20:32:09.301Z"
   },
   {
    "duration": 14,
    "start_time": "2022-10-20T20:32:09.426Z"
   },
   {
    "duration": 15,
    "start_time": "2022-10-20T20:32:09.441Z"
   },
   {
    "duration": 3,
    "start_time": "2022-10-20T20:32:09.457Z"
   },
   {
    "duration": 10,
    "start_time": "2022-10-20T20:32:09.462Z"
   },
   {
    "duration": 7,
    "start_time": "2022-10-20T20:32:09.473Z"
   },
   {
    "duration": 6,
    "start_time": "2022-10-20T20:32:09.481Z"
   },
   {
    "duration": 27,
    "start_time": "2022-10-20T20:32:09.488Z"
   },
   {
    "duration": 5,
    "start_time": "2022-10-20T20:32:09.516Z"
   },
   {
    "duration": 8,
    "start_time": "2022-10-20T20:32:09.522Z"
   },
   {
    "duration": 7,
    "start_time": "2022-10-20T20:32:09.531Z"
   },
   {
    "duration": 9,
    "start_time": "2022-10-20T20:32:09.540Z"
   },
   {
    "duration": 9,
    "start_time": "2022-10-20T20:32:09.551Z"
   },
   {
    "duration": 11,
    "start_time": "2022-10-20T20:32:09.562Z"
   },
   {
    "duration": 33,
    "start_time": "2022-10-20T20:32:09.574Z"
   },
   {
    "duration": 252,
    "start_time": "2022-10-20T20:32:09.608Z"
   },
   {
    "duration": 12,
    "start_time": "2022-10-20T20:32:09.861Z"
   },
   {
    "duration": 261,
    "start_time": "2022-10-20T20:32:09.874Z"
   },
   {
    "duration": 206,
    "start_time": "2022-10-20T20:32:10.136Z"
   },
   {
    "duration": 280,
    "start_time": "2022-10-20T20:32:10.344Z"
   },
   {
    "duration": 195,
    "start_time": "2022-10-20T20:32:10.626Z"
   },
   {
    "duration": 269,
    "start_time": "2022-10-20T20:32:10.822Z"
   },
   {
    "duration": 126,
    "start_time": "2022-10-20T20:32:11.094Z"
   },
   {
    "duration": 4,
    "start_time": "2022-10-20T20:32:11.221Z"
   },
   {
    "duration": 258,
    "start_time": "2022-10-20T20:32:11.227Z"
   },
   {
    "duration": 5,
    "start_time": "2022-10-20T20:32:11.486Z"
   },
   {
    "duration": 239,
    "start_time": "2022-10-20T20:32:11.492Z"
   },
   {
    "duration": 163,
    "start_time": "2022-10-20T20:32:11.733Z"
   },
   {
    "duration": 13,
    "start_time": "2022-10-20T20:32:11.898Z"
   },
   {
    "duration": 9,
    "start_time": "2022-10-20T20:32:11.912Z"
   },
   {
    "duration": 29,
    "start_time": "2022-10-20T20:32:11.922Z"
   },
   {
    "duration": 12,
    "start_time": "2022-10-20T20:32:11.953Z"
   },
   {
    "duration": 422,
    "start_time": "2022-10-20T20:32:11.967Z"
   },
   {
    "duration": 327,
    "start_time": "2022-10-20T20:32:12.391Z"
   },
   {
    "duration": 8,
    "start_time": "2022-10-20T20:46:33.031Z"
   },
   {
    "duration": 9,
    "start_time": "2022-10-20T20:46:34.966Z"
   },
   {
    "duration": 41,
    "start_time": "2022-10-21T09:34:55.241Z"
   },
   {
    "duration": 1122,
    "start_time": "2022-10-21T09:34:57.821Z"
   },
   {
    "duration": 103,
    "start_time": "2022-10-21T09:34:58.945Z"
   },
   {
    "duration": 13,
    "start_time": "2022-10-21T09:34:59.050Z"
   },
   {
    "duration": 10,
    "start_time": "2022-10-21T09:34:59.065Z"
   },
   {
    "duration": 7,
    "start_time": "2022-10-21T09:34:59.076Z"
   },
   {
    "duration": 156,
    "start_time": "2022-10-21T09:34:59.084Z"
   },
   {
    "duration": 14,
    "start_time": "2022-10-21T09:34:59.241Z"
   },
   {
    "duration": 15,
    "start_time": "2022-10-21T09:34:59.257Z"
   },
   {
    "duration": 3,
    "start_time": "2022-10-21T09:34:59.274Z"
   },
   {
    "duration": 10,
    "start_time": "2022-10-21T09:34:59.280Z"
   },
   {
    "duration": 7,
    "start_time": "2022-10-21T09:34:59.291Z"
   },
   {
    "duration": 7,
    "start_time": "2022-10-21T09:34:59.299Z"
   },
   {
    "duration": 16,
    "start_time": "2022-10-21T09:34:59.307Z"
   },
   {
    "duration": 7,
    "start_time": "2022-10-21T09:34:59.324Z"
   },
   {
    "duration": 9,
    "start_time": "2022-10-21T09:34:59.332Z"
   },
   {
    "duration": 7,
    "start_time": "2022-10-21T09:34:59.343Z"
   },
   {
    "duration": 14,
    "start_time": "2022-10-21T09:34:59.351Z"
   },
   {
    "duration": 9,
    "start_time": "2022-10-21T09:34:59.367Z"
   },
   {
    "duration": 27,
    "start_time": "2022-10-21T09:34:59.378Z"
   },
   {
    "duration": 9,
    "start_time": "2022-10-21T09:34:59.406Z"
   },
   {
    "duration": 267,
    "start_time": "2022-10-21T09:34:59.416Z"
   },
   {
    "duration": 21,
    "start_time": "2022-10-21T09:34:59.685Z"
   },
   {
    "duration": 259,
    "start_time": "2022-10-21T09:34:59.707Z"
   },
   {
    "duration": 195,
    "start_time": "2022-10-21T09:34:59.968Z"
   },
   {
    "duration": 364,
    "start_time": "2022-10-21T09:35:00.165Z"
   },
   {
    "duration": 193,
    "start_time": "2022-10-21T09:35:00.530Z"
   },
   {
    "duration": 280,
    "start_time": "2022-10-21T09:35:00.725Z"
   },
   {
    "duration": 128,
    "start_time": "2022-10-21T09:35:01.008Z"
   },
   {
    "duration": 5,
    "start_time": "2022-10-21T09:35:01.137Z"
   },
   {
    "duration": 262,
    "start_time": "2022-10-21T09:35:01.143Z"
   },
   {
    "duration": 5,
    "start_time": "2022-10-21T09:35:01.407Z"
   },
   {
    "duration": 213,
    "start_time": "2022-10-21T09:35:01.413Z"
   },
   {
    "duration": 145,
    "start_time": "2022-10-21T09:35:01.627Z"
   },
   {
    "duration": 17,
    "start_time": "2022-10-21T09:35:01.773Z"
   },
   {
    "duration": 14,
    "start_time": "2022-10-21T09:35:01.791Z"
   },
   {
    "duration": 12,
    "start_time": "2022-10-21T09:35:01.806Z"
   },
   {
    "duration": 35,
    "start_time": "2022-10-21T09:35:01.819Z"
   },
   {
    "duration": 12,
    "start_time": "2022-10-21T09:35:01.855Z"
   },
   {
    "duration": 395,
    "start_time": "2022-10-21T09:35:01.868Z"
   },
   {
    "duration": 306,
    "start_time": "2022-10-21T09:35:02.264Z"
   },
   {
    "duration": 19,
    "start_time": "2022-10-21T09:35:30.392Z"
   },
   {
    "duration": 19,
    "start_time": "2022-10-21T09:36:59.742Z"
   },
   {
    "duration": 20,
    "start_time": "2022-10-21T09:37:33.745Z"
   },
   {
    "duration": 30,
    "start_time": "2022-10-21T09:38:11.916Z"
   }
  ],
  "kernelspec": {
   "display_name": "Python 3 (ipykernel)",
   "language": "python",
   "name": "python3"
  },
  "language_info": {
   "codemirror_mode": {
    "name": "ipython",
    "version": 3
   },
   "file_extension": ".py",
   "mimetype": "text/x-python",
   "name": "python",
   "nbconvert_exporter": "python",
   "pygments_lexer": "ipython3",
   "version": "3.9.12"
  },
  "toc": {
   "base_numbering": 1,
   "nav_menu": {
    "height": "432px",
    "width": "817px"
   },
   "number_sections": true,
   "sideBar": true,
   "skip_h1_title": true,
   "title_cell": "Table of Contents",
   "title_sidebar": "Contents",
   "toc_cell": false,
   "toc_position": {},
   "toc_section_display": true,
   "toc_window_display": false
  }
 },
 "nbformat": 4,
 "nbformat_minor": 2
}
