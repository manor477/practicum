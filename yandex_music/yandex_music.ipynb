{
 "cells": [
  {
   "cell_type": "markdown",
   "metadata": {
    "deletable": false,
    "editable": false,
    "id": "E0vqbgi9ay0H"
   },
   "source": [
    "# Яндекс Музыка"
   ]
  },
  {
   "cell_type": "markdown",
   "metadata": {
    "deletable": false,
    "editable": false,
    "id": "VUC88oWjTJw2"
   },
   "source": [
    "Сравнение Москвы и Петербурга окружено мифами. Например:\n",
    " * Москва — мегаполис, подчинённый жёсткому ритму рабочей недели;\n",
    " * Петербург — культурная столица, со своими вкусами.\n",
    "\n",
    "На данных Яндекс Музыки вы сравните поведение пользователей двух столиц.\n",
    "\n",
    "**Цель исследования** — проверьте три гипотезы:\n",
    "1. Активность пользователей зависит от дня недели. Причём в Москве и Петербурге это проявляется по-разному.\n",
    "2. В понедельник утром в Москве преобладают одни жанры, а в Петербурге — другие. Так же и вечером пятницы преобладают разные жанры — в зависимости от города. \n",
    "3. Москва и Петербург предпочитают разные жанры музыки. В Москве чаще слушают поп-музыку, в Петербурге — русский рэп.\n",
    "\n",
    "**Ход исследования**\n",
    "\n",
    "Данные о поведении пользователей вы получите из файла `yandex_music_project.csv`. О качестве данных ничего не известно. Поэтому перед проверкой гипотез понадобится обзор данных. \n",
    "\n",
    "Вы проверите данные на ошибки и оцените их влияние на исследование. Затем, на этапе предобработки вы поищете возможность исправить самые критичные ошибки данных.\n",
    " \n",
    "Таким образом, исследование пройдёт в три этапа:\n",
    " 1. Обзор данных.\n",
    " 2. Предобработка данных.\n",
    " 3. Проверка гипотез.\n",
    "\n"
   ]
  },
  {
   "cell_type": "markdown",
   "metadata": {
    "deletable": false,
    "editable": false,
    "id": "Ml1hmfXC_Zcs"
   },
   "source": [
    "## Обзор данных\n",
    "\n",
    "Составьте первое представление о данных Яндекс Музыки.\n",
    "\n",
    "\n"
   ]
  },
  {
   "cell_type": "markdown",
   "metadata": {
    "deletable": false,
    "editable": false,
    "id": "57eAOGIz_Zcs",
    "tags": [
     "start_task"
    ]
   },
   "source": [
    "**Задание 1**\n",
    "\n",
    "Основной инструмент аналитика — `pandas`. Импортируйте эту библиотеку."
   ]
  },
  {
   "cell_type": "code",
   "execution_count": 2,
   "metadata": {
    "deletable": false,
    "id": "AXN7PHPN_Zcs"
   },
   "outputs": [],
   "source": [
    "import pandas as pd"
   ]
  },
  {
   "cell_type": "markdown",
   "metadata": {
    "deletable": false,
    "editable": false,
    "id": "SG23P8tt_Zcs",
    "tags": [
     "start_task"
    ]
   },
   "source": [
    "**Задание 2**\n",
    "\n",
    "Прочитайте файл `yandex_music_project.csv` из папки `/datasets` и сохраните его в переменной `df`:"
   ]
  },
  {
   "cell_type": "code",
   "execution_count": 6,
   "metadata": {
    "deletable": false,
    "id": "fFVu7vqh_Zct"
   },
   "outputs": [],
   "source": [
    "df = pd.read_csv('https://code.s3.yandex.net//datasets/yandex_music_project.csv')"
   ]
  },
  {
   "cell_type": "markdown",
   "metadata": {
    "deletable": false,
    "editable": false,
    "id": "rDoOMd3uTqnZ",
    "tags": [
     "start_task"
    ]
   },
   "source": [
    "**Задание 3**\n",
    "\n",
    "\n",
    "Выведите на экран первые десять строк таблицы:"
   ]
  },
  {
   "cell_type": "code",
   "execution_count": 7,
   "metadata": {
    "deletable": false,
    "id": "oWTVX3gW_Zct"
   },
   "outputs": [
    {
     "name": "stdout",
     "output_type": "stream",
     "text": [
      "     userID                        Track            artist   genre  \\\n",
      "0  FFB692EC            Kamigata To Boots  The Mass Missile    rock   \n",
      "1  55204538  Delayed Because of Accident  Andreas Rönnberg    rock   \n",
      "2    20EC38            Funiculì funiculà       Mario Lanza     pop   \n",
      "3  A3DD03C9        Dragons in the Sunset        Fire + Ice    folk   \n",
      "4  E2DC1FAE                  Soul People        Space Echo   dance   \n",
      "5  842029A1                    Преданная         IMPERVTOR  rusrap   \n",
      "6  4CB90AA5                         True      Roman Messer   dance   \n",
      "7  F03E1C1F             Feeling This Way   Polina Griffith   dance   \n",
      "8  8FA1D3BE     И вновь продолжается бой               NaN  ruspop   \n",
      "9  E772D5C0                    Pessimist               NaN   dance   \n",
      "\n",
      "             City        time        Day  \n",
      "0  Saint-Petersburg  20:28:33  Wednesday  \n",
      "1            Moscow  14:07:09     Friday  \n",
      "2  Saint-Petersburg  20:58:07  Wednesday  \n",
      "3  Saint-Petersburg  08:37:09     Monday  \n",
      "4            Moscow  08:34:34     Monday  \n",
      "5  Saint-Petersburg  13:09:41     Friday  \n",
      "6            Moscow  13:00:07  Wednesday  \n",
      "7            Moscow  20:47:49  Wednesday  \n",
      "8            Moscow  09:17:40     Friday  \n",
      "9  Saint-Petersburg  21:20:49  Wednesday  \n"
     ]
    }
   ],
   "source": [
    "print(df.head(10))"
   ]
  },
  {
   "cell_type": "markdown",
   "metadata": {
    "deletable": false,
    "editable": false,
    "id": "EO73Kwic_Zct",
    "tags": [
     "start_task"
    ]
   },
   "source": [
    "**Задание 4**\n",
    "\n",
    "\n",
    "Одной командой получить общую информацию о таблице c помощью метода `info()`:"
   ]
  },
  {
   "cell_type": "code",
   "execution_count": 51,
   "metadata": {
    "deletable": false,
    "id": "DSf2kIb-_Zct"
   },
   "outputs": [
    {
     "name": "stdout",
     "output_type": "stream",
     "text": [
      "<class 'pandas.core.frame.DataFrame'>\n",
      "RangeIndex: 65079 entries, 0 to 65078\n",
      "Data columns (total 7 columns):\n",
      " #   Column    Non-Null Count  Dtype \n",
      "---  ------    --------------  ----- \n",
      " 0     userID  65079 non-null  object\n",
      " 1   Track     63848 non-null  object\n",
      " 2   artist    57876 non-null  object\n",
      " 3   genre     63881 non-null  object\n",
      " 4     City    65079 non-null  object\n",
      " 5   time      65079 non-null  object\n",
      " 6   Day       65079 non-null  object\n",
      "dtypes: object(7)\n",
      "memory usage: 3.5+ MB\n"
     ]
    }
   ],
   "source": [
    "df.info()"
   ]
  },
  {
   "cell_type": "markdown",
   "metadata": {
    "deletable": false,
    "editable": false,
    "id": "TaQ2Iwbr_Zct"
   },
   "source": [
    "Итак, в таблице семь столбцов. Тип данных во всех столбцах — `object`.\n",
    "\n",
    "Согласно документации к данным:\n",
    "* `userID` — идентификатор пользователя;\n",
    "* `Track` — название трека;  \n",
    "* `artist` — имя исполнителя;\n",
    "* `genre` — название жанра;\n",
    "* `City` — город пользователя;\n",
    "* `time` — время начала прослушивания;\n",
    "* `Day` — день недели.\n",
    "\n",
    "Количество значений в столбцах различается. Значит, в данных есть пропущенные значения."
   ]
  },
  {
   "cell_type": "markdown",
   "metadata": {
    "deletable": false,
    "editable": false,
    "id": "rAfziTBDmf2h",
    "tags": [
     "start_task"
    ]
   },
   "source": [
    "**Задание 5**\n",
    "\n",
    "**Вопрос со свободной формой ответа**\n",
    "\n",
    "В названиях колонок видны нарушения стиля:\n",
    "* Строчные буквы сочетаются с прописными.\n",
    "* Встречаются пробелы.\n",
    "\n",
    "Какое третье нарушение?"
   ]
  },
  {
   "cell_type": "code",
   "execution_count": 52,
   "metadata": {
    "id": "jD8EXEIvmf2h"
   },
   "outputs": [],
   "source": [
    "# написано не по правилам snake с подчёркиваниями"
   ]
  },
  {
   "cell_type": "markdown",
   "metadata": {
    "deletable": false,
    "editable": false,
    "id": "MCB6-dXG_Zct"
   },
   "source": [
    "**Выводы**\n",
    "\n",
    "В каждой строке таблицы — данные о прослушанном треке. Часть колонок описывает саму композицию: название, исполнителя и жанр. Остальные данные рассказывают о пользователе: из какого он города, когда он слушал музыку. \n",
    "\n",
    "Предварительно можно утверждать, что данных достаточно для проверки гипотез. Но встречаются пропуски в данных, а в названиях колонок — расхождения с хорошим стилем.\n",
    "\n",
    "Чтобы двигаться дальше, нужно устранить проблемы в данных."
   ]
  },
  {
   "cell_type": "markdown",
   "metadata": {
    "deletable": false,
    "editable": false,
    "id": "SjYF6Ub9_Zct"
   },
   "source": [
    "## Предобработка данных\n",
    "Исправьте стиль в заголовках столбцов, исключите пропуски. Затем проверьте данные на дубликаты."
   ]
  },
  {
   "cell_type": "markdown",
   "metadata": {
    "deletable": false,
    "editable": false,
    "id": "dIaKXr29_Zct",
    "tags": [
     "start_task"
    ]
   },
   "source": [
    "### Стиль заголовков\n",
    "\n",
    "**Задание 6**\n",
    "\n",
    "Выведите на экран названия столбцов:"
   ]
  },
  {
   "cell_type": "code",
   "execution_count": 53,
   "metadata": {
    "deletable": false,
    "id": "oKOTdF_Q_Zct"
   },
   "outputs": [
    {
     "name": "stdout",
     "output_type": "stream",
     "text": [
      "Index(['  userID', 'Track', 'artist', 'genre', '  City  ', 'time', 'Day'], dtype='object')\n"
     ]
    }
   ],
   "source": [
    "print(df.columns)"
   ]
  },
  {
   "cell_type": "markdown",
   "metadata": {
    "deletable": false,
    "editable": false,
    "id": "zj5534cv_Zct",
    "tags": [
     "start_task"
    ]
   },
   "source": [
    "**Задание 7**\n",
    "\n",
    "\n",
    "Приведите названия в соответствие с хорошим стилем:\n",
    "* несколько слов в названии запишите в «змеином_регистре»,\n",
    "* все символы сделайте строчными,\n",
    "* устраните пробелы.\n",
    "\n",
    "Для этого переименуйте колонки так:\n",
    "* `'  userID'` → `'user_id'`;\n",
    "* `'Track'` → `'track'`;\n",
    "* `'  City  '` → `'city'`;\n",
    "* `'Day'` → `'day'`."
   ]
  },
  {
   "cell_type": "code",
   "execution_count": 54,
   "metadata": {
    "deletable": false,
    "id": "ISlFqs5y_Zct"
   },
   "outputs": [],
   "source": [
    "df = df.rename(columns={'  userID': 'user_id', 'Track': 'track', '  City  ': 'city', 'Day':'day'})"
   ]
  },
  {
   "cell_type": "markdown",
   "metadata": {
    "deletable": false,
    "editable": false,
    "id": "1dqbh00J_Zct",
    "tags": [
     "start_task"
    ]
   },
   "source": [
    "**Задание 8**\n",
    "\n",
    "\n",
    "Проверьте результат. Для этого ещё раз выведите на экран названия столбцов:"
   ]
  },
  {
   "cell_type": "code",
   "execution_count": 55,
   "metadata": {
    "deletable": false,
    "id": "d4NOAmTW_Zct"
   },
   "outputs": [
    {
     "name": "stdout",
     "output_type": "stream",
     "text": [
      "Index(['user_id', 'track', 'artist', 'genre', 'city', 'time', 'day'], dtype='object')\n"
     ]
    }
   ],
   "source": [
    "print(df.columns)"
   ]
  },
  {
   "cell_type": "markdown",
   "metadata": {
    "deletable": false,
    "editable": false,
    "id": "5ISfbcfY_Zct",
    "tags": [
     "start_task"
    ]
   },
   "source": [
    "### Пропуски значений\n",
    "\n",
    "**Задание 9**\n",
    "\n",
    "Сначала посчитайте, сколько в таблице пропущенных значений. Для этого достаточно двух методов `pandas`:"
   ]
  },
  {
   "cell_type": "code",
   "execution_count": 56,
   "metadata": {
    "deletable": false,
    "id": "RskX29qr_Zct"
   },
   "outputs": [
    {
     "name": "stdout",
     "output_type": "stream",
     "text": [
      "user_id       0\n",
      "track      1231\n",
      "artist     7203\n",
      "genre      1198\n",
      "city          0\n",
      "time          0\n",
      "day           0\n",
      "dtype: int64\n"
     ]
    }
   ],
   "source": [
    "print(df.isna().sum())"
   ]
  },
  {
   "cell_type": "markdown",
   "metadata": {
    "deletable": false,
    "editable": false,
    "id": "qubhgnlO_Zct"
   },
   "source": [
    "Не все пропущенные значения влияют на исследование. Так в `track` и `artist` пропуски не важны для вашей работы. Достаточно заменить их явными обозначениями.\n",
    "\n",
    "Но пропуски в `genre` могут помешать сравнению музыкальных вкусов в Москве и Санкт-Петербурге. На практике было бы правильно установить причину пропусков и восстановить данные. Такой возможности нет в учебном проекте. Придётся:\n",
    "* заполнить и эти пропуски явными обозначениями;\n",
    "* оценить, насколько они повредят расчётам. "
   ]
  },
  {
   "cell_type": "markdown",
   "metadata": {
    "deletable": false,
    "editable": false,
    "id": "fSv2laPA_Zct",
    "tags": [
     "start_task"
    ]
   },
   "source": [
    "**Задание 10**\n",
    "\n",
    "Замените пропущенные значения в столбцах `track`, `artist` и `genre` на строку `'unknown'`. Для этого создайте список `columns_to_replace`, переберите его элементы циклом `for` и для каждого столбца выполните замену пропущенных значений:"
   ]
  },
  {
   "cell_type": "code",
   "execution_count": 57,
   "metadata": {
    "deletable": false,
    "id": "KplB5qWs_Zct"
   },
   "outputs": [],
   "source": [
    "columns_to_replace = ['track', 'artist', 'genre']\n",
    "for column in columns_to_replace:\n",
    "    df[column] = df[column].fillna('unknown')"
   ]
  },
  {
   "cell_type": "markdown",
   "metadata": {
    "deletable": false,
    "editable": false,
    "id": "Ilsm-MZo_Zct",
    "tags": [
     "start_task"
    ]
   },
   "source": [
    "**Задание 11**\n",
    "\n",
    "Убедитесь, что в таблице не осталось пропусков. Для этого ещё раз посчитайте пропущенные значения."
   ]
  },
  {
   "cell_type": "code",
   "execution_count": 58,
   "metadata": {
    "deletable": false,
    "id": "Tq4nYRX4_Zct"
   },
   "outputs": [
    {
     "name": "stdout",
     "output_type": "stream",
     "text": [
      "user_id    0\n",
      "track      0\n",
      "artist     0\n",
      "genre      0\n",
      "city       0\n",
      "time       0\n",
      "day        0\n",
      "dtype: int64\n"
     ]
    }
   ],
   "source": [
    "print(df.isna().sum())"
   ]
  },
  {
   "cell_type": "markdown",
   "metadata": {
    "deletable": false,
    "editable": false,
    "id": "BWKRtBJ3_Zct",
    "tags": [
     "start_task"
    ]
   },
   "source": [
    "### Дубликаты\n",
    "\n",
    "**Задание 12**\n",
    "\n",
    "Посчитайте явные дубликаты в таблице одной командой:"
   ]
  },
  {
   "cell_type": "code",
   "execution_count": 59,
   "metadata": {
    "deletable": false,
    "id": "36eES_S0_Zct"
   },
   "outputs": [
    {
     "name": "stdout",
     "output_type": "stream",
     "text": [
      "3826\n"
     ]
    }
   ],
   "source": [
    "print(df.duplicated().sum())"
   ]
  },
  {
   "cell_type": "markdown",
   "metadata": {
    "deletable": false,
    "editable": false,
    "id": "Ot25h6XR_Zct",
    "tags": [
     "start_task"
    ]
   },
   "source": [
    "**Задание 13**\n",
    "\n",
    "Вызовите специальный метод `pandas`, чтобы удалить явные дубликаты:"
   ]
  },
  {
   "cell_type": "code",
   "execution_count": 60,
   "metadata": {
    "deletable": false,
    "id": "exFHq6tt_Zct"
   },
   "outputs": [],
   "source": [
    "df = df.drop_duplicates()"
   ]
  },
  {
   "cell_type": "markdown",
   "metadata": {
    "deletable": false,
    "editable": false,
    "id": "Im2YwBEG_Zct",
    "tags": [
     "start_task"
    ]
   },
   "source": [
    "**Задание 14**\n",
    "\n",
    "Ещё раз посчитайте явные дубликаты в таблице — убедитесь, что полностью от них избавились:"
   ]
  },
  {
   "cell_type": "code",
   "execution_count": 61,
   "metadata": {
    "deletable": false,
    "id": "-8PuNWQ0_Zct"
   },
   "outputs": [
    {
     "name": "stdout",
     "output_type": "stream",
     "text": [
      "0\n"
     ]
    }
   ],
   "source": [
    "print(df.duplicated().sum())"
   ]
  },
  {
   "cell_type": "markdown",
   "metadata": {
    "deletable": false,
    "editable": false,
    "id": "QlFBsxAr_Zct"
   },
   "source": [
    "Теперь избавьтесь от неявных дубликатов в колонке `genre`. Например, название одного и того же жанра может быть записано немного по-разному. Такие ошибки тоже повлияют на результат исследования."
   ]
  },
  {
   "cell_type": "markdown",
   "metadata": {
    "deletable": false,
    "editable": false,
    "id": "eSjWwsOh_Zct",
    "tags": [
     "start_task"
    ]
   },
   "source": [
    "**Задание 15**\n",
    "\n",
    "Выведите на экран список уникальных названий жанров, отсортированный в алфавитном порядке. Для этого:\n",
    "1. извлеките нужный столбец датафрейма; \n",
    "2. примените к нему метод сортировки;\n",
    "3. для отсортированного столбца вызовите метод, который вернёт уникальные значения из столбца."
   ]
  },
  {
   "cell_type": "code",
   "execution_count": 62,
   "metadata": {
    "deletable": false,
    "id": "JIUcqzZN_Zct"
   },
   "outputs": [
    {
     "name": "stdout",
     "output_type": "stream",
     "text": [
      "['acid' 'acoustic' 'action' 'adult' 'africa' 'afrikaans' 'alternative'\n",
      " 'alternativepunk' 'ambient' 'americana' 'animated' 'anime' 'arabesk'\n",
      " 'arabic' 'arena' 'argentinetango' 'art' 'audiobook' 'author' 'avantgarde'\n",
      " 'axé' 'baile' 'balkan' 'beats' 'bigroom' 'black' 'bluegrass' 'blues'\n",
      " 'bollywood' 'bossa' 'brazilian' 'breakbeat' 'breaks' 'broadway'\n",
      " 'cantautori' 'cantopop' 'canzone' 'caribbean' 'caucasian' 'celtic'\n",
      " 'chamber' 'chanson' 'children' 'chill' 'chinese' 'choral' 'christian'\n",
      " 'christmas' 'classical' 'classicmetal' 'club' 'colombian' 'comedy'\n",
      " 'conjazz' 'contemporary' 'country' 'cuban' 'dance' 'dancehall' 'dancepop'\n",
      " 'dark' 'death' 'deep' 'deutschrock' 'deutschspr' 'dirty' 'disco' 'dnb'\n",
      " 'documentary' 'downbeat' 'downtempo' 'drum' 'dub' 'dubstep' 'eastern'\n",
      " 'easy' 'electronic' 'electropop' 'emo' 'entehno' 'epicmetal' 'estrada'\n",
      " 'ethnic' 'eurofolk' 'european' 'experimental' 'extrememetal' 'fado'\n",
      " 'fairytail' 'film' 'fitness' 'flamenco' 'folk' 'folklore' 'folkmetal'\n",
      " 'folkrock' 'folktronica' 'forró' 'frankreich' 'französisch' 'french'\n",
      " 'funk' 'future' 'gangsta' 'garage' 'german' 'ghazal' 'gitarre' 'glitch'\n",
      " 'gospel' 'gothic' 'grime' 'grunge' 'gypsy' 'handsup' \"hard'n'heavy\"\n",
      " 'hardcore' 'hardstyle' 'hardtechno' 'hip' 'hip-hop' 'hiphop' 'historisch'\n",
      " 'holiday' 'hop' 'horror' 'house' 'hymn' 'idm' 'independent' 'indian'\n",
      " 'indie' 'indipop' 'industrial' 'inspirational' 'instrumental'\n",
      " 'international' 'irish' 'jam' 'japanese' 'jazz' 'jewish' 'jpop' 'jungle'\n",
      " 'k-pop' 'karadeniz' 'karaoke' 'kayokyoku' 'korean' 'laiko' 'latin'\n",
      " 'latino' 'leftfield' 'local' 'lounge' 'loungeelectronic' 'lovers'\n",
      " 'malaysian' 'mandopop' 'marschmusik' 'meditative' 'mediterranean'\n",
      " 'melodic' 'metal' 'metalcore' 'mexican' 'middle' 'minimal'\n",
      " 'miscellaneous' 'modern' 'mood' 'mpb' 'muslim' 'native' 'neoklassik'\n",
      " 'neue' 'new' 'newage' 'newwave' 'nu' 'nujazz' 'numetal' 'oceania' 'old'\n",
      " 'opera' 'orchestral' 'other' 'piano' 'podcasts' 'pop' 'popdance'\n",
      " 'popelectronic' 'popeurodance' 'poprussian' 'post' 'posthardcore'\n",
      " 'postrock' 'power' 'progmetal' 'progressive' 'psychedelic' 'punjabi'\n",
      " 'punk' 'quebecois' 'ragga' 'ram' 'rancheras' 'rap' 'rave' 'reggae'\n",
      " 'reggaeton' 'regional' 'relax' 'religious' 'retro' 'rhythm' 'rnb' 'rnr'\n",
      " 'rock' 'rockabilly' 'rockalternative' 'rockindie' 'rockother' 'romance'\n",
      " 'roots' 'ruspop' 'rusrap' 'rusrock' 'russian' 'salsa' 'samba' 'scenic'\n",
      " 'schlager' 'self' 'sertanejo' 'shanson' 'shoegazing' 'showtunes' 'singer'\n",
      " 'ska' 'skarock' 'slow' 'smooth' 'soft' 'soul' 'soulful' 'sound'\n",
      " 'soundtrack' 'southern' 'specialty' 'speech' 'spiritual' 'sport'\n",
      " 'stonerrock' 'surf' 'swing' 'synthpop' 'synthrock' 'sängerportrait'\n",
      " 'tango' 'tanzorchester' 'taraftar' 'tatar' 'tech' 'techno' 'teen'\n",
      " 'thrash' 'top' 'traditional' 'tradjazz' 'trance' 'tribal' 'trip'\n",
      " 'triphop' 'tropical' 'türk' 'türkçe' 'ukrrock' 'unknown' 'urban' 'uzbek'\n",
      " 'variété' 'vi' 'videogame' 'vocal' 'western' 'world' 'worldbeat' 'ïîï'\n",
      " 'электроника']\n"
     ]
    }
   ],
   "source": [
    "print(df['genre'].sort_values().unique())"
   ]
  },
  {
   "cell_type": "markdown",
   "metadata": {
    "deletable": false,
    "editable": false,
    "id": "qej-Qmuo_Zct",
    "tags": [
     "start_task"
    ]
   },
   "source": [
    "**Задание 16**\n",
    "\n",
    "Просмотрите список и найдите неявные дубликаты названия `hiphop`. Это могут быть названия с ошибками или альтернативные названия того же жанра.\n",
    "\n",
    "Вы увидите следующие неявные дубликаты:\n",
    "* *hip*,\n",
    "* *hop*,\n",
    "* *hip-hop*.\n",
    "\n",
    "Чтобы очистить от них таблицу используйте метод `replace()` с двумя аргументами: списком строк-дубликатов (включащий *hip*, *hop* и *hip-hop*) и строкой с правильным значением. Вам нужно исправить колонку `genre` в таблице `df`: заменить каждое значение из списка дубликатов на верное. Вместо `hip`, `hop` и `hip-hop` в таблице должно быть значение `hiphop`:"
   ]
  },
  {
   "cell_type": "code",
   "execution_count": 63,
   "metadata": {
    "deletable": false,
    "id": "ErNDkmns_Zct"
   },
   "outputs": [],
   "source": [
    "duplicates = ['hip', 'hop', 'hip-hop']\n",
    "genre_name = 'hiphop'\n",
    "df['genre'] = df['genre'].replace(duplicates, genre_name)"
   ]
  },
  {
   "cell_type": "markdown",
   "metadata": {
    "deletable": false,
    "editable": false,
    "id": "zQKF16_RG15m",
    "tags": [
     "start_task"
    ]
   },
   "source": [
    "**Задание 17**\n",
    "\n",
    "Проверьте, что заменили неправильные названия:\n",
    "\n",
    "*   hip,\n",
    "*   hop,\n",
    "*   hip-hop.\n",
    "\n",
    "Выведите отсортированный список уникальных значений столбца `genre`:"
   ]
  },
  {
   "cell_type": "code",
   "execution_count": 64,
   "metadata": {
    "deletable": false,
    "id": "wvixALnFG15m"
   },
   "outputs": [
    {
     "name": "stdout",
     "output_type": "stream",
     "text": [
      "['acid' 'acoustic' 'action' 'adult' 'africa' 'afrikaans' 'alternative'\n",
      " 'alternativepunk' 'ambient' 'americana' 'animated' 'anime' 'arabesk'\n",
      " 'arabic' 'arena' 'argentinetango' 'art' 'audiobook' 'author' 'avantgarde'\n",
      " 'axé' 'baile' 'balkan' 'beats' 'bigroom' 'black' 'bluegrass' 'blues'\n",
      " 'bollywood' 'bossa' 'brazilian' 'breakbeat' 'breaks' 'broadway'\n",
      " 'cantautori' 'cantopop' 'canzone' 'caribbean' 'caucasian' 'celtic'\n",
      " 'chamber' 'chanson' 'children' 'chill' 'chinese' 'choral' 'christian'\n",
      " 'christmas' 'classical' 'classicmetal' 'club' 'colombian' 'comedy'\n",
      " 'conjazz' 'contemporary' 'country' 'cuban' 'dance' 'dancehall' 'dancepop'\n",
      " 'dark' 'death' 'deep' 'deutschrock' 'deutschspr' 'dirty' 'disco' 'dnb'\n",
      " 'documentary' 'downbeat' 'downtempo' 'drum' 'dub' 'dubstep' 'eastern'\n",
      " 'easy' 'electronic' 'electropop' 'emo' 'entehno' 'epicmetal' 'estrada'\n",
      " 'ethnic' 'eurofolk' 'european' 'experimental' 'extrememetal' 'fado'\n",
      " 'fairytail' 'film' 'fitness' 'flamenco' 'folk' 'folklore' 'folkmetal'\n",
      " 'folkrock' 'folktronica' 'forró' 'frankreich' 'französisch' 'french'\n",
      " 'funk' 'future' 'gangsta' 'garage' 'german' 'ghazal' 'gitarre' 'glitch'\n",
      " 'gospel' 'gothic' 'grime' 'grunge' 'gypsy' 'handsup' \"hard'n'heavy\"\n",
      " 'hardcore' 'hardstyle' 'hardtechno' 'hiphop' 'historisch' 'holiday'\n",
      " 'horror' 'house' 'hymn' 'idm' 'independent' 'indian' 'indie' 'indipop'\n",
      " 'industrial' 'inspirational' 'instrumental' 'international' 'irish' 'jam'\n",
      " 'japanese' 'jazz' 'jewish' 'jpop' 'jungle' 'k-pop' 'karadeniz' 'karaoke'\n",
      " 'kayokyoku' 'korean' 'laiko' 'latin' 'latino' 'leftfield' 'local'\n",
      " 'lounge' 'loungeelectronic' 'lovers' 'malaysian' 'mandopop' 'marschmusik'\n",
      " 'meditative' 'mediterranean' 'melodic' 'metal' 'metalcore' 'mexican'\n",
      " 'middle' 'minimal' 'miscellaneous' 'modern' 'mood' 'mpb' 'muslim'\n",
      " 'native' 'neoklassik' 'neue' 'new' 'newage' 'newwave' 'nu' 'nujazz'\n",
      " 'numetal' 'oceania' 'old' 'opera' 'orchestral' 'other' 'piano' 'podcasts'\n",
      " 'pop' 'popdance' 'popelectronic' 'popeurodance' 'poprussian' 'post'\n",
      " 'posthardcore' 'postrock' 'power' 'progmetal' 'progressive' 'psychedelic'\n",
      " 'punjabi' 'punk' 'quebecois' 'ragga' 'ram' 'rancheras' 'rap' 'rave'\n",
      " 'reggae' 'reggaeton' 'regional' 'relax' 'religious' 'retro' 'rhythm'\n",
      " 'rnb' 'rnr' 'rock' 'rockabilly' 'rockalternative' 'rockindie' 'rockother'\n",
      " 'romance' 'roots' 'ruspop' 'rusrap' 'rusrock' 'russian' 'salsa' 'samba'\n",
      " 'scenic' 'schlager' 'self' 'sertanejo' 'shanson' 'shoegazing' 'showtunes'\n",
      " 'singer' 'ska' 'skarock' 'slow' 'smooth' 'soft' 'soul' 'soulful' 'sound'\n",
      " 'soundtrack' 'southern' 'specialty' 'speech' 'spiritual' 'sport'\n",
      " 'stonerrock' 'surf' 'swing' 'synthpop' 'synthrock' 'sängerportrait'\n",
      " 'tango' 'tanzorchester' 'taraftar' 'tatar' 'tech' 'techno' 'teen'\n",
      " 'thrash' 'top' 'traditional' 'tradjazz' 'trance' 'tribal' 'trip'\n",
      " 'triphop' 'tropical' 'türk' 'türkçe' 'ukrrock' 'unknown' 'urban' 'uzbek'\n",
      " 'variété' 'vi' 'videogame' 'vocal' 'western' 'world' 'worldbeat' 'ïîï'\n",
      " 'электроника']\n"
     ]
    }
   ],
   "source": [
    "print(df['genre'].sort_values().unique())"
   ]
  },
  {
   "cell_type": "markdown",
   "metadata": {
    "deletable": false,
    "editable": false,
    "id": "jz6a9-7HQUDd"
   },
   "source": [
    "**Выводы**\n",
    "\n",
    "Предобработка обнаружила три проблемы в данных:\n",
    "\n",
    "- нарушения в стиле заголовков,\n",
    "- пропущенные значения,\n",
    "- дубликаты — явные и неявные.\n",
    "\n",
    "Вы исправили заголовки, чтобы упростить работу с таблицей. Без дубликатов исследование станет более точным.\n",
    "\n",
    "Пропущенные значения вы заменили на `'unknown'`. Ещё предстоит увидеть, не повредят ли исследованию пропуски в колонке `genre`.\n",
    "\n",
    "Теперь можно перейти к проверке гипотез. "
   ]
  },
  {
   "cell_type": "markdown",
   "metadata": {
    "deletable": false,
    "editable": false,
    "id": "WttZHXH0SqKk"
   },
   "source": [
    "## Проверка гипотез"
   ]
  },
  {
   "cell_type": "markdown",
   "metadata": {
    "deletable": false,
    "editable": false,
    "id": "Im936VVi_Zcu"
   },
   "source": [
    "### Сравнение поведения пользователей двух столиц"
   ]
  },
  {
   "cell_type": "markdown",
   "metadata": {
    "deletable": false,
    "editable": false,
    "id": "nwt_MuaL_Zcu"
   },
   "source": [
    "Первая гипотеза утверждает, что пользователи по-разному слушают музыку в Москве и Санкт-Петербурге. Проверьте это предположение по данным о трёх днях недели — понедельнике, среде и пятнице. Для этого:\n",
    "\n",
    "* Разделите пользователей Москвы и Санкт-Петербурга.\n",
    "* Сравните, сколько треков послушала каждая группа пользователей в понедельник, среду и пятницу.\n"
   ]
  },
  {
   "cell_type": "markdown",
   "metadata": {
    "deletable": false,
    "editable": false,
    "id": "8Dw_YMmT_Zcu",
    "tags": [
     "start_task"
    ]
   },
   "source": [
    "**Задание 18**\n",
    "\n",
    "Для тренировки сначала выполните каждый из расчётов по отдельности. \n",
    "\n",
    "Оцените активность пользователей в каждом городе. Сгруппируйте данные по городу и посчитайте прослушивания в каждой группе.\n",
    "\n"
   ]
  },
  {
   "cell_type": "code",
   "execution_count": 65,
   "metadata": {
    "deletable": false,
    "id": "0_Qs96oh_Zcu"
   },
   "outputs": [
    {
     "data": {
      "text/plain": [
       "city\n",
       "Moscow              42741\n",
       "Saint-Petersburg    18512\n",
       "Name: track, dtype: int64"
      ]
     },
     "execution_count": 65,
     "metadata": {},
     "output_type": "execute_result"
    }
   ],
   "source": [
    "df.groupby('city')['track'].count()"
   ]
  },
  {
   "cell_type": "markdown",
   "metadata": {
    "deletable": false,
    "editable": false,
    "id": "dzli3w8o_Zcu",
    "tags": [
     "start_task"
    ]
   },
   "source": [
    "В Москве прослушиваний больше, чем в Петербурге. Из этого не следует, что московские пользователи чаще слушают музыку. Просто самих пользователей в Москве больше.\n",
    "\n",
    "**Задание 19**\n",
    "\n",
    "Теперь сгруппируйте данные по дню недели и посчитайте прослушивания в понедельник, среду и пятницу. Учтите, что в данных есть информация о прослушиваниях только за эти дни.\n"
   ]
  },
  {
   "cell_type": "code",
   "execution_count": 66,
   "metadata": {
    "deletable": false,
    "id": "uZMKjiJz_Zcu"
   },
   "outputs": [
    {
     "data": {
      "text/plain": [
       "day\n",
       "Friday       21840\n",
       "Monday       21354\n",
       "Wednesday    18059\n",
       "Name: track, dtype: int64"
      ]
     },
     "execution_count": 66,
     "metadata": {},
     "output_type": "execute_result"
    }
   ],
   "source": [
    "df.groupby('day')['track'].count()"
   ]
  },
  {
   "cell_type": "markdown",
   "metadata": {
    "deletable": false,
    "editable": false,
    "id": "cC2tNrlL_Zcu"
   },
   "source": [
    "В среднем пользователи из двух городов менее активны по средам. Но картина может измениться, если рассмотреть каждый город в отдельности."
   ]
  },
  {
   "cell_type": "markdown",
   "metadata": {
    "deletable": false,
    "editable": false,
    "id": "POzs8bGa_Zcu",
    "tags": [
     "start_task"
    ]
   },
   "source": [
    "**Задание 20**\n",
    "\n",
    "\n",
    "Вы видели, как работает группировка по городу и по дням недели. Теперь напишите функцию, которая объединит два эти расчёта.\n",
    "\n",
    "Создайте функцию `number_tracks()`, которая посчитает прослушивания для заданного дня и города. Ей понадобятся два параметра:\n",
    "* день недели,\n",
    "* название города.\n",
    "\n",
    "В функции сохраните в переменную строки исходной таблицы, у которых значение:\n",
    "  * в колонке `day` равно параметру `day`,\n",
    "  * в колонке `city` равно параметру `city`.\n",
    "\n",
    "Для этого примените последовательную фильтрацию с логической индексацией (или сложные логические выражения в одну строку, если вы уже знакомы с ними).\n",
    "\n",
    "Затем посчитайте значения в столбце `user_id` получившейся таблицы. Результат сохраните в новую переменную. Верните эту переменную из функции."
   ]
  },
  {
   "cell_type": "code",
   "execution_count": 74,
   "metadata": {
    "deletable": false,
    "id": "Nz3GdQB1_Zcu"
   },
   "outputs": [],
   "source": [
    "# <создание функции number_tracks()>\n",
    "# Объявляется функция с двумя параметрами: day, city.\n",
    "# В переменной track_list сохраняются те строки таблицы df, для которых \n",
    "# значение в столбце 'day' равно параметру day и одновременно значение\n",
    "# в столбце 'city' равно параметру city (используйте последовательную фильтрацию\n",
    "# с помощью логической индексации или сложные логические выражения в одну строку, если вы уже знакомы с ними).\n",
    "# В переменной track_list_count сохраняется число значений столбца 'user_id',\n",
    "# рассчитанное методом count() для таблицы track_list.\n",
    "# Функция возвращает число - значение track_list_count.\n",
    "def number_tracks(day, city):\n",
    "    track_list = df[(df['day'] == day) & (df['city'] == city)]\n",
    "    #track_list = df[df['day'] == day]\n",
    "    #track_list = track_list[track_list['city'] == city]\n",
    "    track_list_count = track_list['user_id'].count()\n",
    "    return track_list_count\n",
    "# Функция для подсчёта прослушиваний для конкретного города и дня.\n",
    "# С помощью последовательной фильтрации с логической индексацией она \n",
    "# сначала получит из исходной таблицы строки с нужным днём,\n",
    "# затем из результата отфильтрует строки с нужным городом,\n",
    "# методом count() посчитает количество значений в колонке user_id. \n",
    "# Это количество функция вернёт в качестве результата"
   ]
  },
  {
   "cell_type": "markdown",
   "metadata": {
    "deletable": false,
    "editable": false,
    "id": "ytf7xFrFJQ2r",
    "tags": [
     "start_task"
    ]
   },
   "source": [
    "**Задание 21**\n",
    "\n",
    "Вызовите `number_tracks()` шесть раз, меняя значение параметров — так, чтобы получить данные для каждого города в каждый из трёх дней."
   ]
  },
  {
   "cell_type": "code",
   "execution_count": 75,
   "metadata": {
    "deletable": false,
    "id": "rJcRATNQ_Zcu"
   },
   "outputs": [
    {
     "name": "stdout",
     "output_type": "stream",
     "text": [
      "15740\n"
     ]
    }
   ],
   "source": [
    "print(number_tracks('Monday', 'Moscow'))"
   ]
  },
  {
   "cell_type": "code",
   "execution_count": 72,
   "metadata": {
    "deletable": false,
    "id": "hq_ncZ5T_Zcu"
   },
   "outputs": [
    {
     "name": "stdout",
     "output_type": "stream",
     "text": [
      "5614\n"
     ]
    }
   ],
   "source": [
    "print(number_tracks('Monday', 'Saint-Petersburg'))"
   ]
  },
  {
   "cell_type": "code",
   "execution_count": 134,
   "metadata": {
    "deletable": false,
    "id": "_NTy2VPU_Zcu"
   },
   "outputs": [
    {
     "name": "stdout",
     "output_type": "stream",
     "text": [
      "11056\n"
     ]
    }
   ],
   "source": [
    "print(number_tracks('Wednesday', 'Moscow'))"
   ]
  },
  {
   "cell_type": "code",
   "execution_count": 135,
   "metadata": {
    "deletable": false,
    "id": "j2y3TAwo_Zcu"
   },
   "outputs": [
    {
     "name": "stdout",
     "output_type": "stream",
     "text": [
      "7003\n"
     ]
    }
   ],
   "source": [
    "print(number_tracks('Wednesday', 'Saint-Petersburg'))"
   ]
  },
  {
   "cell_type": "code",
   "execution_count": 136,
   "metadata": {
    "deletable": false,
    "id": "vYDw5u_K_Zcu"
   },
   "outputs": [
    {
     "name": "stdout",
     "output_type": "stream",
     "text": [
      "15945\n"
     ]
    }
   ],
   "source": [
    "print(number_tracks('Friday', 'Moscow'))"
   ]
  },
  {
   "cell_type": "code",
   "execution_count": 137,
   "metadata": {
    "deletable": false,
    "id": "8_yzFtW3_Zcu"
   },
   "outputs": [
    {
     "name": "stdout",
     "output_type": "stream",
     "text": [
      "5895\n"
     ]
    }
   ],
   "source": [
    "print(number_tracks('Friday', 'Saint-Petersburg'))"
   ]
  },
  {
   "cell_type": "markdown",
   "metadata": {
    "deletable": false,
    "editable": false,
    "id": "7QXffbO-_Zcu",
    "tags": [
     "start_task"
    ]
   },
   "source": [
    "**Задание 22**\n",
    "\n",
    "Создайте c помощью конструктора `pd.DataFrame` таблицу, где\n",
    "* названия колонок — `['city', 'monday', 'wednesday', 'friday']`;\n",
    "* данные — результаты, которые вы получили с помощью `number_tracks`."
   ]
  },
  {
   "cell_type": "code",
   "execution_count": 138,
   "metadata": {
    "deletable": false,
    "id": "APAcLpOr_Zcu"
   },
   "outputs": [
    {
     "data": {
      "text/html": [
       "<div>\n",
       "<style scoped>\n",
       "    .dataframe tbody tr th:only-of-type {\n",
       "        vertical-align: middle;\n",
       "    }\n",
       "\n",
       "    .dataframe tbody tr th {\n",
       "        vertical-align: top;\n",
       "    }\n",
       "\n",
       "    .dataframe thead th {\n",
       "        text-align: right;\n",
       "    }\n",
       "</style>\n",
       "<table border=\"1\" class=\"dataframe\">\n",
       "  <thead>\n",
       "    <tr style=\"text-align: right;\">\n",
       "      <th></th>\n",
       "      <th>city</th>\n",
       "      <th>monday</th>\n",
       "      <th>wednesday</th>\n",
       "      <th>friday</th>\n",
       "    </tr>\n",
       "  </thead>\n",
       "  <tbody>\n",
       "    <tr>\n",
       "      <th>0</th>\n",
       "      <td>Москва</td>\n",
       "      <td>15740</td>\n",
       "      <td>11056</td>\n",
       "      <td>15945</td>\n",
       "    </tr>\n",
       "    <tr>\n",
       "      <th>1</th>\n",
       "      <td>Санкт-Петербург</td>\n",
       "      <td>5614</td>\n",
       "      <td>7003</td>\n",
       "      <td>5895</td>\n",
       "    </tr>\n",
       "  </tbody>\n",
       "</table>\n",
       "</div>"
      ],
      "text/plain": [
       "              city  monday  wednesday  friday\n",
       "0           Москва   15740      11056   15945\n",
       "1  Санкт-Петербург    5614       7003    5895"
      ]
     },
     "execution_count": 138,
     "metadata": {},
     "output_type": "execute_result"
    }
   ],
   "source": [
    "info = pd.DataFrame(data=[['Москва', 15740, 11056, 15945], ['Санкт-Петербург', 5614, 7003, 5895]], columns=['city', 'monday', 'wednesday', 'friday'])\n",
    "info"
   ]
  },
  {
   "cell_type": "markdown",
   "metadata": {
    "deletable": false,
    "editable": false,
    "id": "-EgPIHYu_Zcu"
   },
   "source": [
    "**Выводы**\n",
    "\n",
    "Данные показывают разницу поведения пользователей:\n",
    "\n",
    "- В Москве пик прослушиваний приходится на понедельник и пятницу, а в среду заметен спад.\n",
    "- В Петербурге, наоборот, больше слушают музыку по средам. Активность в понедельник и пятницу здесь почти в равной мере уступает среде.\n",
    "\n",
    "Значит, данные говорят в пользу первой гипотезы."
   ]
  },
  {
   "cell_type": "markdown",
   "metadata": {
    "deletable": false,
    "editable": false,
    "id": "atZAxtq4_Zcu"
   },
   "source": [
    "### Музыка в начале и в конце недели"
   ]
  },
  {
   "cell_type": "markdown",
   "metadata": {
    "deletable": false,
    "editable": false,
    "id": "eXrQqXFH_Zcu"
   },
   "source": [
    "Согласно второй гипотезе, утром в понедельник в Москве преобладают одни жанры, а в Петербурге — другие. Так же и вечером пятницы преобладают разные жанры — в зависимости от города."
   ]
  },
  {
   "cell_type": "markdown",
   "metadata": {
    "deletable": false,
    "editable": false,
    "id": "S8UcW6Hw_Zcu",
    "tags": [
     "start_task"
    ]
   },
   "source": [
    "**Задание 23**\n",
    "\n",
    "Сохраните таблицы с данными в две переменные:\n",
    "* по Москве — в `moscow_general`;\n",
    "* по Санкт-Петербургу — в `spb_general`."
   ]
  },
  {
   "cell_type": "code",
   "execution_count": 139,
   "metadata": {
    "deletable": false,
    "id": "qeaFfM_P_Zcu"
   },
   "outputs": [],
   "source": [
    "moscow_general = df[df['city'] == 'Moscow']"
   ]
  },
  {
   "cell_type": "code",
   "execution_count": 140,
   "metadata": {
    "deletable": false,
    "id": "ORaVRKto_Zcu"
   },
   "outputs": [],
   "source": [
    "spb_general = df[df['city'] == 'Saint-Petersburg']"
   ]
  },
  {
   "cell_type": "markdown",
   "metadata": {
    "deletable": false,
    "id": "MEJV-CX2_Zcu",
    "tags": [
     "start_task"
    ]
   },
   "source": [
    "**Задание 24**\n",
    "\n",
    "Создайте функцию `genre_weekday()` с четырьмя параметрами:\n",
    "* таблица (датафрейм) с данными,\n",
    "* день недели,\n",
    "* начальная временная метка в формате 'hh:mm', \n",
    "* последняя временная метка в формате 'hh:mm'.\n",
    "\n",
    "Функция должна вернуть информацию о топ-10 жанров тех треков, которые прослушивали в указанный день, в промежутке между двумя отметками времени."
   ]
  },
  {
   "cell_type": "code",
   "execution_count": 141,
   "metadata": {
    "deletable": false,
    "id": "laJT9BYl_Zcu"
   },
   "outputs": [],
   "source": [
    "# Объявление функции genre_weekday() с параметрами table, day, time1, time2,\n",
    "# которая возвращает информацию о самых популярных жанрах в указанный день в\n",
    "# заданное время:\n",
    "# 1) в переменную genre_df сохраняются те строки переданного датафрейма table, для\n",
    "#    которых одновременно:\n",
    "#    - значение в столбце day равно значению аргумента day\n",
    "#    - значение в столбце time больше значения аргумента time1\n",
    "#    - значение в столбце time меньше значения аргумента time2\n",
    "#    Используйте последовательную фильтрацию с помощью логической индексации.\n",
    "# 2) сгруппировать датафрейм genre_df по столбцу genre, взять один из его\n",
    "#    столбцов и посчитать методом count() количество записей для каждого из\n",
    "#    присутствующих жанров, получившийся Series записать в переменную\n",
    "#    genre_df_count\n",
    "# 3) отсортировать genre_df_count по убыванию встречаемости и сохранить\n",
    "#    в переменную genre_df_sorted\n",
    "# 4) вернуть Series из 10 первых значений genre_df_sorted, это будут топ-10\n",
    "#    популярных жанров (в указанный день, в заданное время)\n",
    "\n",
    "def genre_weekday(df, day, time1, time2):\n",
    "    # последовательная фильтрация\n",
    "    # оставляем в genre_df только те строки df, у которых день равен day\n",
    "    genre_df = df[df['day'] == day]\n",
    "    # оставляем в genre_df только те строки genre_df, у которых время меньше time2\n",
    "    genre_df = genre_df[genre_df['time'] < time2]\n",
    "    # оставляем в genre_df только те строки genre_df, у которых время больше time1\n",
    "    genre_df = genre_df[genre_df['time'] > time1]\n",
    "    # сгруппируем отфильтрованный датафрейм по столбцу с названиями жанров, возьмём столбец genre и посчитаем кол-во строк для каждого жанра методом count()\n",
    "    genre_df_grouped = genre_df.groupby('genre')['genre'].count()\n",
    "    # отсортируем результат по убыванию (чтобы в начале Series оказались самые популярные жанры)\n",
    "    genre_df_sorted = genre_df_grouped.sort_values(ascending = False)\n",
    "    # вернём Series с 10 самыми популярными жанрами в указанный отрезок времени заданного дня\n",
    "    return genre_df_sorted[:10]"
   ]
  },
  {
   "cell_type": "markdown",
   "metadata": {
    "deletable": false,
    "editable": false,
    "id": "la2s2_PF_Zcu",
    "tags": [
     "start_task"
    ]
   },
   "source": [
    "**Задание 25**\n",
    "\n",
    "\n",
    "Cравните результаты функции `genre_weekday()` для Москвы и Санкт-Петербурга в понедельник утром (с 7:00 до 11:00) и в пятницу вечером (с 17:00 до 23:00):"
   ]
  },
  {
   "cell_type": "code",
   "execution_count": 142,
   "metadata": {
    "deletable": false,
    "id": "yz7itPUQ_Zcu"
   },
   "outputs": [
    {
     "name": "stdout",
     "output_type": "stream",
     "text": [
      "genre\n",
      "pop            781\n",
      "dance          549\n",
      "electronic     480\n",
      "rock           474\n",
      "hiphop         286\n",
      "ruspop         186\n",
      "world          181\n",
      "rusrap         175\n",
      "alternative    164\n",
      "unknown        161\n",
      "Name: genre, dtype: int64\n"
     ]
    }
   ],
   "source": [
    "# вызов функции для утра понедельника в Москве (вместо df — таблица moscow_general)\n",
    "# объекты, хранящие время, являются строками и сравниваются как строки\n",
    "# пример вызова: genre_weekday(moscow_general, 'Monday', '07:00', '11:00')\n",
    "print(genre_weekday(moscow_general, 'Monday', '07:00', '11:00'))"
   ]
  },
  {
   "cell_type": "code",
   "execution_count": 143,
   "metadata": {
    "deletable": false,
    "id": "kwUcHPdy_Zcu"
   },
   "outputs": [
    {
     "name": "stdout",
     "output_type": "stream",
     "text": [
      "genre\n",
      "pop            218\n",
      "dance          182\n",
      "rock           162\n",
      "electronic     147\n",
      "hiphop          80\n",
      "ruspop          64\n",
      "alternative     58\n",
      "rusrap          55\n",
      "jazz            44\n",
      "classical       40\n",
      "Name: genre, dtype: int64\n"
     ]
    }
   ],
   "source": [
    "# вызов функции для утра понедельника в Петербурге (вместо df — таблица spb_general)\n",
    "print(genre_weekday(spb_general, 'Monday', '07:00', '11:00'))"
   ]
  },
  {
   "cell_type": "code",
   "execution_count": 144,
   "metadata": {
    "deletable": false,
    "id": "EzXVRE1o_Zcu"
   },
   "outputs": [
    {
     "name": "stdout",
     "output_type": "stream",
     "text": [
      "genre\n",
      "pop            713\n",
      "rock           517\n",
      "dance          495\n",
      "electronic     482\n",
      "hiphop         273\n",
      "world          208\n",
      "ruspop         170\n",
      "alternative    163\n",
      "classical      163\n",
      "rusrap         142\n",
      "Name: genre, dtype: int64\n"
     ]
    }
   ],
   "source": [
    "print(genre_weekday(moscow_general, 'Friday', '17:00', '23:00'))"
   ]
  },
  {
   "cell_type": "code",
   "execution_count": 145,
   "metadata": {
    "deletable": false,
    "id": "JZaEKu5v_Zcu"
   },
   "outputs": [
    {
     "name": "stdout",
     "output_type": "stream",
     "text": [
      "genre\n",
      "pop            256\n",
      "electronic     216\n",
      "rock           216\n",
      "dance          210\n",
      "hiphop          97\n",
      "alternative     63\n",
      "jazz            61\n",
      "classical       60\n",
      "rusrap          59\n",
      "world           54\n",
      "Name: genre, dtype: int64\n"
     ]
    }
   ],
   "source": [
    "print(genre_weekday(spb_general, 'Friday', '17:00', '23:00'))"
   ]
  },
  {
   "cell_type": "markdown",
   "metadata": {
    "deletable": false,
    "editable": false,
    "id": "wrCe4MNX_Zcu"
   },
   "source": [
    "**Выводы**\n",
    "\n",
    "Если сравнить топ-10 жанров в понедельник утром, можно сделать такие выводы:\n",
    "\n",
    "1. В Москве и Петербурге слушают похожую музыку. Единственное отличие — в московский рейтинг вошёл жанр “world”, а в петербургский — джаз и классика.\n",
    "\n",
    "2. В Москве пропущенных значений оказалось так много, что значение `'unknown'` заняло десятое место среди самых популярных жанров. Значит, пропущенные значения занимают существенную долю в данных и угрожают достоверности исследования.\n",
    "\n",
    "Вечер пятницы не меняет эту картину. Некоторые жанры поднимаются немного выше, другие спускаются, но в целом топ-10 остаётся тем же самым.\n",
    "\n",
    "Таким образом, вторая гипотеза подтвердилась лишь частично:\n",
    "* Пользователи слушают похожую музыку в начале недели и в конце.\n",
    "* Разница между Москвой и Петербургом не слишком выражена. В Москве чаще слушают русскую популярную музыку, в Петербурге — джаз.\n",
    "\n",
    "Однако пропуски в данных ставят под сомнение этот результат. В Москве их так много, что рейтинг топ-10 мог бы выглядеть иначе, если бы не утерянные  данные о жанрах."
   ]
  },
  {
   "cell_type": "markdown",
   "metadata": {
    "deletable": false,
    "editable": false,
    "id": "JolODAqr_Zcu"
   },
   "source": [
    "### Жанровые предпочтения в Москве и Петербурге\n",
    "\n",
    "Гипотеза: Петербург — столица рэпа, музыку этого жанра там слушают чаще, чем в Москве.  А Москва — город контрастов, в котором, тем не менее, преобладает поп-музыка."
   ]
  },
  {
   "cell_type": "markdown",
   "metadata": {
    "deletable": false,
    "editable": false,
    "id": "DlegSvaT_Zcu",
    "tags": [
     "start_task"
    ]
   },
   "source": [
    "**Задание 26**\n",
    "\n",
    "Сгруппируйте таблицу `moscow_general` по жанру и посчитайте прослушивания треков каждого жанра методом `count()`. Затем отсортируйте результат в порядке убывания и сохраните его в таблице `moscow_genres`."
   ]
  },
  {
   "cell_type": "code",
   "execution_count": 146,
   "metadata": {
    "deletable": false,
    "id": "r19lIPke_Zcu"
   },
   "outputs": [],
   "source": [
    "# одной строкой: группировка таблицы moscow_general по столбцу 'genre', \n",
    "# подсчёт числа значений 'genre' в этой группировке методом count(), \n",
    "# сортировка получившегося Series в порядке убывания и сохранение в moscow_genres\n",
    "moscow_genres = moscow_general.groupby('genre')['genre'].count().sort_values(ascending = False)"
   ]
  },
  {
   "cell_type": "markdown",
   "metadata": {
    "deletable": false,
    "editable": false,
    "id": "6kMuomxTiIr8",
    "tags": [
     "start_task"
    ]
   },
   "source": [
    "**Задание 27**\n",
    "\n",
    "Выведите на экран первые десять строк `moscow_genres`:"
   ]
  },
  {
   "cell_type": "code",
   "execution_count": 147,
   "metadata": {
    "deletable": false,
    "id": "WhCSooF8_Zcv"
   },
   "outputs": [
    {
     "name": "stdout",
     "output_type": "stream",
     "text": [
      "genre\n",
      "pop            5892\n",
      "dance          4435\n",
      "rock           3965\n",
      "electronic     3786\n",
      "hiphop         2096\n",
      "classical      1616\n",
      "world          1432\n",
      "alternative    1379\n",
      "ruspop         1372\n",
      "rusrap         1161\n",
      "Name: genre, dtype: int64\n"
     ]
    }
   ],
   "source": [
    "print(moscow_genres.head(10))"
   ]
  },
  {
   "cell_type": "markdown",
   "metadata": {
    "deletable": false,
    "editable": false,
    "id": "cnPG2vnN_Zcv",
    "tags": [
     "start_task"
    ]
   },
   "source": [
    "**Задание 28**\n",
    "\n",
    "\n",
    "Теперь повторите то же и для Петербурга.\n",
    "\n",
    "Сгруппируйте таблицу `spb_general` по жанру. Посчитайте прослушивания треков каждого жанра. Результат отсортируйте в порядке убывания и сохраните в таблице `spb_genres`:\n"
   ]
  },
  {
   "cell_type": "code",
   "execution_count": 148,
   "metadata": {
    "deletable": false,
    "id": "gluLIpE7_Zcv"
   },
   "outputs": [],
   "source": [
    "# одной строкой: группировка таблицы spb_general по столбцу 'genre', \n",
    "# подсчёт числа значений 'genre' в этой группировке методом count(), \n",
    "# сортировка получившегося Series в порядке убывания и сохранение в spb_genres\n",
    "spb_genres = spb_general.groupby('genre')['genre'].count().sort_values(ascending = False)"
   ]
  },
  {
   "cell_type": "markdown",
   "metadata": {
    "deletable": false,
    "editable": false,
    "id": "5Doha_ODgyQ8",
    "tags": [
     "start_task"
    ]
   },
   "source": [
    "**Задание 29**\n",
    "\n",
    "Выведите на экран первые десять строк `spb_genres`:"
   ]
  },
  {
   "cell_type": "code",
   "execution_count": 149,
   "metadata": {
    "deletable": false,
    "id": "uaGJHjVU_Zcv"
   },
   "outputs": [
    {
     "name": "stdout",
     "output_type": "stream",
     "text": [
      "genre\n",
      "pop            2431\n",
      "dance          1932\n",
      "rock           1879\n",
      "electronic     1736\n",
      "hiphop          960\n",
      "alternative     649\n",
      "classical       646\n",
      "rusrap          564\n",
      "ruspop          538\n",
      "world           515\n",
      "Name: genre, dtype: int64\n"
     ]
    }
   ],
   "source": [
    "print(spb_genres.head(10))"
   ]
  },
  {
   "cell_type": "markdown",
   "metadata": {
    "deletable": false,
    "editable": false,
    "id": "RY51YJYu_Zcv"
   },
   "source": [
    "**Выводы**"
   ]
  },
  {
   "cell_type": "markdown",
   "metadata": {
    "deletable": false,
    "editable": false,
    "id": "nVhnJEm__Zcv"
   },
   "source": [
    "Гипотеза частично подтвердилась:\n",
    "* Поп-музыка — самый популярный жанр в Москве, как и предполагала гипотеза. Более того, в топ-10 жанров встречается близкий жанр — русская популярная музыка.\n",
    "* Вопреки ожиданиям, рэп одинаково популярен в Москве и Петербурге. \n"
   ]
  },
  {
   "cell_type": "markdown",
   "metadata": {
    "deletable": false,
    "editable": false,
    "id": "ykKQ0N65_Zcv"
   },
   "source": [
    "## Итоги исследования"
   ]
  },
  {
   "cell_type": "markdown",
   "metadata": {
    "deletable": false,
    "editable": false,
    "id": "tjUwbHb3_Zcv"
   },
   "source": [
    "## Вы проверили три гипотезы и установили:\n",
    "\n",
    "1. День недели по-разному влияет на активность пользователей в Москве и Петербурге. \n",
    "\n",
    "Первая гипотеза полностью подтвердилась.\n",
    "\n",
    "2. Музыкальные предпочтения не сильно меняются в течение недели — будь то Москва или Петербург. Небольшие различия заметны в начале недели, по понедельникам:\n",
    "* в Москве слушают музыку жанра “world”,\n",
    "* в Петербурге — джаз и классику.\n",
    "\n",
    "Таким образом, вторая гипотеза подтвердилась лишь отчасти. Этот результат мог оказаться иным, если бы не пропуски в данных.\n",
    "\n",
    "3. Во вкусах пользователей Москвы и Петербурга больше общего чем различий. Вопреки ожиданиям, предпочтения жанров в Петербурге напоминают московские.\n",
    "\n",
    "Третья гипотеза не подтвердилась. Если различия в предпочтениях и существуют, на основной массе пользователей они незаметны.\n",
    "\n",
    "**На практике исследования содержат проверки статистических гипотез.**\n",
    "Из данных одного сервиса не всегда можно сделать вывод о всех жителях города.\n",
    "Проверки статистических гипотез покажут, насколько они достоверны, исходя из имеющихся данных. \n",
    "С методами проверок гипотез вы ещё познакомитесь в следующих темах."
   ]
  }
 ],
 "metadata": {
  "ExecuteTimeLog": [
   {
    "duration": 41,
    "start_time": "2022-07-02T17:32:16.426Z"
   },
   {
    "duration": 5,
    "start_time": "2022-07-02T17:32:28.462Z"
   },
   {
    "duration": 43,
    "start_time": "2022-07-02T17:40:32.788Z"
   },
   {
    "duration": 6,
    "start_time": "2022-07-02T17:40:46.423Z"
   },
   {
    "duration": 401,
    "start_time": "2022-07-02T17:40:50.810Z"
   },
   {
    "duration": 463,
    "start_time": "2022-07-02T17:40:51.213Z"
   },
   {
    "duration": 7,
    "start_time": "2022-07-02T17:40:51.678Z"
   },
   {
    "duration": 26,
    "start_time": "2022-07-02T17:40:51.687Z"
   },
   {
    "duration": 2,
    "start_time": "2022-07-02T17:40:51.714Z"
   },
   {
    "duration": 5,
    "start_time": "2022-07-02T17:40:51.717Z"
   },
   {
    "duration": 15,
    "start_time": "2022-07-02T17:40:51.724Z"
   },
   {
    "duration": 9,
    "start_time": "2022-07-02T17:40:51.740Z"
   },
   {
    "duration": 12,
    "start_time": "2022-07-02T17:40:51.750Z"
   },
   {
    "duration": 4,
    "start_time": "2022-07-02T17:40:51.765Z"
   },
   {
    "duration": 5,
    "start_time": "2022-07-02T17:40:51.771Z"
   },
   {
    "duration": 9,
    "start_time": "2022-07-02T17:40:51.777Z"
   },
   {
    "duration": 8,
    "start_time": "2022-07-02T17:40:51.788Z"
   },
   {
    "duration": 4,
    "start_time": "2022-07-02T17:40:51.798Z"
   },
   {
    "duration": 5,
    "start_time": "2022-07-02T17:40:51.805Z"
   },
   {
    "duration": 7,
    "start_time": "2022-07-02T17:40:51.812Z"
   },
   {
    "duration": 7,
    "start_time": "2022-07-02T17:40:51.820Z"
   },
   {
    "duration": 8,
    "start_time": "2022-07-02T17:40:51.829Z"
   },
   {
    "duration": 6,
    "start_time": "2022-07-02T17:40:51.838Z"
   },
   {
    "duration": 6,
    "start_time": "2022-07-02T17:40:51.845Z"
   },
   {
    "duration": 7,
    "start_time": "2022-07-02T17:40:51.852Z"
   },
   {
    "duration": 10,
    "start_time": "2022-07-02T17:40:51.861Z"
   },
   {
    "duration": 4,
    "start_time": "2022-07-02T17:40:51.873Z"
   },
   {
    "duration": 4,
    "start_time": "2022-07-02T17:40:51.879Z"
   },
   {
    "duration": 7,
    "start_time": "2022-07-02T17:40:51.884Z"
   },
   {
    "duration": 4,
    "start_time": "2022-07-02T17:40:51.893Z"
   },
   {
    "duration": 7,
    "start_time": "2022-07-02T17:40:51.899Z"
   },
   {
    "duration": 3,
    "start_time": "2022-07-02T17:40:51.908Z"
   },
   {
    "duration": 20,
    "start_time": "2022-07-02T17:40:51.912Z"
   },
   {
    "duration": 144,
    "start_time": "2022-07-02T17:40:51.934Z"
   },
   {
    "duration": 0,
    "start_time": "2022-07-02T17:40:52.080Z"
   },
   {
    "duration": 0,
    "start_time": "2022-07-02T17:40:52.081Z"
   },
   {
    "duration": 0,
    "start_time": "2022-07-02T17:40:52.082Z"
   },
   {
    "duration": 0,
    "start_time": "2022-07-02T17:40:52.083Z"
   },
   {
    "duration": 0,
    "start_time": "2022-07-02T17:40:52.084Z"
   },
   {
    "duration": 0,
    "start_time": "2022-07-02T17:40:52.085Z"
   },
   {
    "duration": 0,
    "start_time": "2022-07-02T17:40:52.086Z"
   },
   {
    "duration": 0,
    "start_time": "2022-07-02T17:40:52.087Z"
   },
   {
    "duration": 3,
    "start_time": "2022-07-02T17:41:22.928Z"
   },
   {
    "duration": 157,
    "start_time": "2022-07-02T17:41:22.932Z"
   },
   {
    "duration": 6,
    "start_time": "2022-07-02T17:41:23.091Z"
   },
   {
    "duration": 31,
    "start_time": "2022-07-02T17:41:23.098Z"
   },
   {
    "duration": 2,
    "start_time": "2022-07-02T17:41:23.131Z"
   },
   {
    "duration": 5,
    "start_time": "2022-07-02T17:41:23.134Z"
   },
   {
    "duration": 9,
    "start_time": "2022-07-02T17:41:23.141Z"
   },
   {
    "duration": 4,
    "start_time": "2022-07-02T17:41:23.152Z"
   },
   {
    "duration": 15,
    "start_time": "2022-07-02T17:41:27.112Z"
   },
   {
    "duration": 12,
    "start_time": "2022-07-02T17:41:43.449Z"
   },
   {
    "duration": 11,
    "start_time": "2022-07-02T17:42:14.529Z"
   },
   {
    "duration": 28,
    "start_time": "2022-07-02T17:42:25.808Z"
   },
   {
    "duration": 11,
    "start_time": "2022-07-02T17:42:29.033Z"
   },
   {
    "duration": 11,
    "start_time": "2022-07-02T17:42:33.781Z"
   },
   {
    "duration": 23,
    "start_time": "2022-07-02T17:43:39.440Z"
   },
   {
    "duration": 42,
    "start_time": "2022-07-02T17:49:39.336Z"
   },
   {
    "duration": 400,
    "start_time": "2022-07-02T17:49:49.000Z"
   },
   {
    "duration": 172,
    "start_time": "2022-07-02T17:49:49.401Z"
   },
   {
    "duration": 9,
    "start_time": "2022-07-02T17:49:49.574Z"
   },
   {
    "duration": 31,
    "start_time": "2022-07-02T17:49:49.584Z"
   },
   {
    "duration": 3,
    "start_time": "2022-07-02T17:49:49.629Z"
   },
   {
    "duration": 5,
    "start_time": "2022-07-02T17:49:49.634Z"
   },
   {
    "duration": 14,
    "start_time": "2022-07-02T17:49:49.640Z"
   },
   {
    "duration": 7,
    "start_time": "2022-07-02T17:49:49.656Z"
   },
   {
    "duration": 25,
    "start_time": "2022-07-02T17:49:49.664Z"
   },
   {
    "duration": 41,
    "start_time": "2022-07-02T17:49:49.690Z"
   },
   {
    "duration": 2,
    "start_time": "2022-07-02T17:49:51.755Z"
   },
   {
    "duration": 159,
    "start_time": "2022-07-02T17:49:51.759Z"
   },
   {
    "duration": 10,
    "start_time": "2022-07-02T17:49:51.920Z"
   },
   {
    "duration": 28,
    "start_time": "2022-07-02T17:49:51.931Z"
   },
   {
    "duration": 3,
    "start_time": "2022-07-02T17:49:51.961Z"
   },
   {
    "duration": 6,
    "start_time": "2022-07-02T17:49:51.965Z"
   },
   {
    "duration": 20,
    "start_time": "2022-07-02T17:49:51.972Z"
   },
   {
    "duration": 3,
    "start_time": "2022-07-02T17:49:51.994Z"
   },
   {
    "duration": 46,
    "start_time": "2022-07-02T17:49:51.999Z"
   },
   {
    "duration": 16,
    "start_time": "2022-07-02T17:49:52.047Z"
   },
   {
    "duration": 19,
    "start_time": "2022-07-02T17:49:52.065Z"
   },
   {
    "duration": 21,
    "start_time": "2022-07-02T17:50:04.613Z"
   },
   {
    "duration": 59,
    "start_time": "2022-07-02T17:51:52.470Z"
   },
   {
    "duration": 48,
    "start_time": "2022-07-02T18:05:47.961Z"
   },
   {
    "duration": 361,
    "start_time": "2022-07-02T18:05:51.040Z"
   },
   {
    "duration": 153,
    "start_time": "2022-07-02T18:05:51.403Z"
   },
   {
    "duration": 8,
    "start_time": "2022-07-02T18:05:51.557Z"
   },
   {
    "duration": 28,
    "start_time": "2022-07-02T18:05:51.567Z"
   },
   {
    "duration": 3,
    "start_time": "2022-07-02T18:05:51.597Z"
   },
   {
    "duration": 5,
    "start_time": "2022-07-02T18:05:51.602Z"
   },
   {
    "duration": 31,
    "start_time": "2022-07-02T18:05:51.608Z"
   },
   {
    "duration": 6,
    "start_time": "2022-07-02T18:05:51.641Z"
   },
   {
    "duration": 22,
    "start_time": "2022-07-02T18:05:51.649Z"
   },
   {
    "duration": 15,
    "start_time": "2022-07-02T18:05:51.672Z"
   },
   {
    "duration": 20,
    "start_time": "2022-07-02T18:05:51.688Z"
   },
   {
    "duration": 58,
    "start_time": "2022-07-02T18:05:51.728Z"
   },
   {
    "duration": 76,
    "start_time": "2022-07-02T18:05:51.788Z"
   },
   {
    "duration": 54,
    "start_time": "2022-07-02T18:05:51.868Z"
   },
   {
    "duration": 40,
    "start_time": "2022-07-02T18:05:51.929Z"
   },
   {
    "duration": 2,
    "start_time": "2022-07-02T18:05:51.971Z"
   },
   {
    "duration": 5,
    "start_time": "2022-07-02T18:05:51.974Z"
   },
   {
    "duration": 4,
    "start_time": "2022-07-02T18:05:51.981Z"
   },
   {
    "duration": 5,
    "start_time": "2022-07-02T18:05:51.986Z"
   },
   {
    "duration": 5,
    "start_time": "2022-07-02T18:05:51.992Z"
   },
   {
    "duration": 9,
    "start_time": "2022-07-02T18:05:51.999Z"
   },
   {
    "duration": 10,
    "start_time": "2022-07-02T18:05:52.009Z"
   },
   {
    "duration": 9,
    "start_time": "2022-07-02T18:05:52.020Z"
   },
   {
    "duration": 4,
    "start_time": "2022-07-02T18:05:52.031Z"
   },
   {
    "duration": 11,
    "start_time": "2022-07-02T18:05:52.036Z"
   },
   {
    "duration": 5,
    "start_time": "2022-07-02T18:05:52.048Z"
   },
   {
    "duration": 6,
    "start_time": "2022-07-02T18:05:52.054Z"
   },
   {
    "duration": 5,
    "start_time": "2022-07-02T18:05:52.061Z"
   },
   {
    "duration": 10,
    "start_time": "2022-07-02T18:05:52.067Z"
   },
   {
    "duration": 77,
    "start_time": "2022-07-02T18:05:52.078Z"
   },
   {
    "duration": 0,
    "start_time": "2022-07-02T18:05:52.157Z"
   },
   {
    "duration": 0,
    "start_time": "2022-07-02T18:05:52.158Z"
   },
   {
    "duration": 0,
    "start_time": "2022-07-02T18:05:52.159Z"
   },
   {
    "duration": 0,
    "start_time": "2022-07-02T18:05:52.160Z"
   },
   {
    "duration": 0,
    "start_time": "2022-07-02T18:05:52.161Z"
   },
   {
    "duration": 0,
    "start_time": "2022-07-02T18:05:52.162Z"
   },
   {
    "duration": 0,
    "start_time": "2022-07-02T18:05:52.163Z"
   },
   {
    "duration": 0,
    "start_time": "2022-07-02T18:05:52.164Z"
   },
   {
    "duration": 40,
    "start_time": "2022-07-02T18:06:10.602Z"
   },
   {
    "duration": 43,
    "start_time": "2022-07-02T18:06:13.937Z"
   },
   {
    "duration": 58,
    "start_time": "2022-07-02T18:11:12.239Z"
   },
   {
    "duration": 62,
    "start_time": "2022-07-03T12:47:42.473Z"
   },
   {
    "duration": 402,
    "start_time": "2022-07-03T12:47:47.670Z"
   },
   {
    "duration": 226,
    "start_time": "2022-07-03T12:47:48.074Z"
   },
   {
    "duration": 12,
    "start_time": "2022-07-03T12:47:48.302Z"
   },
   {
    "duration": 48,
    "start_time": "2022-07-03T12:47:48.317Z"
   },
   {
    "duration": 3,
    "start_time": "2022-07-03T12:47:48.367Z"
   },
   {
    "duration": 12,
    "start_time": "2022-07-03T12:47:48.372Z"
   },
   {
    "duration": 18,
    "start_time": "2022-07-03T12:47:48.386Z"
   },
   {
    "duration": 9,
    "start_time": "2022-07-03T12:47:48.406Z"
   },
   {
    "duration": 35,
    "start_time": "2022-07-03T12:47:48.416Z"
   },
   {
    "duration": 36,
    "start_time": "2022-07-03T12:47:48.454Z"
   },
   {
    "duration": 35,
    "start_time": "2022-07-03T12:47:48.492Z"
   },
   {
    "duration": 82,
    "start_time": "2022-07-03T12:47:48.530Z"
   },
   {
    "duration": 92,
    "start_time": "2022-07-03T12:47:48.614Z"
   },
   {
    "duration": 82,
    "start_time": "2022-07-03T12:47:48.708Z"
   },
   {
    "duration": 86,
    "start_time": "2022-07-03T12:47:49.993Z"
   },
   {
    "duration": 67,
    "start_time": "2022-07-03T13:56:28.342Z"
   },
   {
    "duration": 71,
    "start_time": "2022-07-03T13:56:31.955Z"
   },
   {
    "duration": 427,
    "start_time": "2022-07-03T13:56:35.115Z"
   },
   {
    "duration": 234,
    "start_time": "2022-07-03T13:56:35.544Z"
   },
   {
    "duration": 8,
    "start_time": "2022-07-03T13:56:35.781Z"
   },
   {
    "duration": 42,
    "start_time": "2022-07-03T13:56:35.791Z"
   },
   {
    "duration": 3,
    "start_time": "2022-07-03T13:56:35.836Z"
   },
   {
    "duration": 14,
    "start_time": "2022-07-03T13:56:35.840Z"
   },
   {
    "duration": 30,
    "start_time": "2022-07-03T13:56:35.856Z"
   },
   {
    "duration": 11,
    "start_time": "2022-07-03T13:56:35.888Z"
   },
   {
    "duration": 30,
    "start_time": "2022-07-03T13:56:35.900Z"
   },
   {
    "duration": 31,
    "start_time": "2022-07-03T13:56:35.933Z"
   },
   {
    "duration": 28,
    "start_time": "2022-07-03T13:56:35.965Z"
   },
   {
    "duration": 68,
    "start_time": "2022-07-03T13:56:35.995Z"
   },
   {
    "duration": 79,
    "start_time": "2022-07-03T13:56:36.065Z"
   },
   {
    "duration": 58,
    "start_time": "2022-07-03T13:56:36.145Z"
   },
   {
    "duration": 4,
    "start_time": "2022-07-03T13:56:37.106Z"
   },
   {
    "duration": 7,
    "start_time": "2022-07-03T13:56:46.035Z"
   },
   {
    "duration": 8,
    "start_time": "2022-07-03T13:56:50.154Z"
   },
   {
    "duration": 48,
    "start_time": "2022-07-03T13:57:03.089Z"
   },
   {
    "duration": 10,
    "start_time": "2022-07-03T13:57:50.419Z"
   },
   {
    "duration": 5,
    "start_time": "2022-07-03T14:00:06.969Z"
   },
   {
    "duration": 7,
    "start_time": "2022-07-03T14:00:17.696Z"
   },
   {
    "duration": 71,
    "start_time": "2022-07-03T14:10:01.261Z"
   },
   {
    "duration": 54,
    "start_time": "2022-07-03T14:10:25.742Z"
   },
   {
    "duration": 56,
    "start_time": "2022-07-03T14:10:35.565Z"
   },
   {
    "duration": 79,
    "start_time": "2022-07-03T14:10:42.652Z"
   },
   {
    "duration": 55,
    "start_time": "2022-07-03T14:10:48.380Z"
   },
   {
    "duration": 51,
    "start_time": "2022-07-03T14:13:36.355Z"
   },
   {
    "duration": 56,
    "start_time": "2022-07-03T14:13:44.227Z"
   },
   {
    "duration": 49,
    "start_time": "2022-07-03T14:13:55.940Z"
   },
   {
    "duration": 78,
    "start_time": "2022-07-03T14:14:07.924Z"
   },
   {
    "duration": 50,
    "start_time": "2022-07-03T14:14:12.715Z"
   },
   {
    "duration": 51,
    "start_time": "2022-07-03T14:14:42.627Z"
   },
   {
    "duration": 81,
    "start_time": "2022-07-03T14:15:31.882Z"
   },
   {
    "duration": 139,
    "start_time": "2022-07-03T14:18:54.466Z"
   },
   {
    "duration": 88,
    "start_time": "2022-07-03T14:19:04.017Z"
   },
   {
    "duration": 77,
    "start_time": "2022-07-03T14:19:22.372Z"
   },
   {
    "duration": 76,
    "start_time": "2022-07-03T14:19:28.274Z"
   },
   {
    "duration": 146,
    "start_time": "2022-07-03T14:20:00.410Z"
   },
   {
    "duration": 78,
    "start_time": "2022-07-03T14:20:13.989Z"
   },
   {
    "duration": 50,
    "start_time": "2022-07-03T14:32:13.125Z"
   },
   {
    "duration": 104,
    "start_time": "2022-07-03T14:33:20.646Z"
   },
   {
    "duration": 4,
    "start_time": "2022-07-03T14:34:39.829Z"
   },
   {
    "duration": 11,
    "start_time": "2022-07-03T14:36:25.597Z"
   },
   {
    "duration": 5,
    "start_time": "2022-07-03T14:37:30.012Z"
   },
   {
    "duration": 677,
    "start_time": "2022-07-03T14:46:25.809Z"
   },
   {
    "duration": 554,
    "start_time": "2022-07-03T14:47:06.069Z"
   },
   {
    "duration": 607,
    "start_time": "2022-07-03T15:36:16.892Z"
   },
   {
    "duration": 3,
    "start_time": "2022-07-03T15:36:21.117Z"
   },
   {
    "duration": 226,
    "start_time": "2022-07-03T15:36:21.123Z"
   },
   {
    "duration": 7,
    "start_time": "2022-07-03T15:36:21.351Z"
   },
   {
    "duration": 45,
    "start_time": "2022-07-03T15:36:21.360Z"
   },
   {
    "duration": 4,
    "start_time": "2022-07-03T15:36:21.406Z"
   },
   {
    "duration": 31,
    "start_time": "2022-07-03T15:36:21.412Z"
   },
   {
    "duration": 14,
    "start_time": "2022-07-03T15:36:21.445Z"
   },
   {
    "duration": 3,
    "start_time": "2022-07-03T15:36:21.461Z"
   },
   {
    "duration": 32,
    "start_time": "2022-07-03T15:36:21.466Z"
   },
   {
    "duration": 45,
    "start_time": "2022-07-03T15:36:21.500Z"
   },
   {
    "duration": 38,
    "start_time": "2022-07-03T15:36:21.547Z"
   },
   {
    "duration": 80,
    "start_time": "2022-07-03T15:36:21.587Z"
   },
   {
    "duration": 75,
    "start_time": "2022-07-03T15:36:21.669Z"
   },
   {
    "duration": 61,
    "start_time": "2022-07-03T15:36:21.746Z"
   },
   {
    "duration": 47,
    "start_time": "2022-07-03T15:36:22.617Z"
   },
   {
    "duration": 11,
    "start_time": "2022-07-03T15:38:39.239Z"
   },
   {
    "duration": 10,
    "start_time": "2022-07-03T15:46:39.177Z"
   },
   {
    "duration": 42,
    "start_time": "2022-07-03T15:46:42.847Z"
   },
   {
    "duration": 14,
    "start_time": "2022-07-03T15:52:58.423Z"
   },
   {
    "duration": 7,
    "start_time": "2022-07-03T17:33:40.486Z"
   },
   {
    "duration": 2,
    "start_time": "2022-07-03T17:33:50.954Z"
   },
   {
    "duration": 189,
    "start_time": "2022-07-03T17:33:50.958Z"
   },
   {
    "duration": 7,
    "start_time": "2022-07-03T17:33:51.149Z"
   },
   {
    "duration": 41,
    "start_time": "2022-07-03T17:33:51.158Z"
   },
   {
    "duration": 3,
    "start_time": "2022-07-03T17:33:51.202Z"
   },
   {
    "duration": 19,
    "start_time": "2022-07-03T17:33:51.207Z"
   },
   {
    "duration": 28,
    "start_time": "2022-07-03T17:33:51.228Z"
   },
   {
    "duration": 5,
    "start_time": "2022-07-03T17:33:51.258Z"
   },
   {
    "duration": 54,
    "start_time": "2022-07-03T17:33:51.264Z"
   },
   {
    "duration": 50,
    "start_time": "2022-07-03T17:33:51.320Z"
   },
   {
    "duration": 33,
    "start_time": "2022-07-03T17:33:51.374Z"
   },
   {
    "duration": 81,
    "start_time": "2022-07-03T17:33:51.409Z"
   },
   {
    "duration": 87,
    "start_time": "2022-07-03T17:33:51.492Z"
   },
   {
    "duration": 76,
    "start_time": "2022-07-03T17:33:51.582Z"
   },
   {
    "duration": 38,
    "start_time": "2022-07-03T17:33:51.660Z"
   },
   {
    "duration": 40,
    "start_time": "2022-07-03T17:33:51.700Z"
   },
   {
    "duration": 40,
    "start_time": "2022-07-03T17:33:51.743Z"
   },
   {
    "duration": 13,
    "start_time": "2022-07-03T17:33:51.786Z"
   },
   {
    "duration": 25,
    "start_time": "2022-07-03T17:33:51.801Z"
   },
   {
    "duration": 4,
    "start_time": "2022-07-03T17:33:51.841Z"
   },
   {
    "duration": 11,
    "start_time": "2022-07-03T17:33:52.764Z"
   },
   {
    "duration": 10,
    "start_time": "2022-07-03T17:33:54.395Z"
   },
   {
    "duration": 8,
    "start_time": "2022-07-03T17:33:55.715Z"
   },
   {
    "duration": 9,
    "start_time": "2022-07-03T17:33:57.062Z"
   },
   {
    "duration": 8,
    "start_time": "2022-07-03T17:33:58.444Z"
   },
   {
    "duration": 12,
    "start_time": "2022-07-03T17:33:59.829Z"
   },
   {
    "duration": 8,
    "start_time": "2022-07-03T17:34:28.892Z"
   },
   {
    "duration": 4,
    "start_time": "2022-07-03T17:34:30.383Z"
   },
   {
    "duration": 3,
    "start_time": "2022-07-03T17:47:36.691Z"
   },
   {
    "duration": 185,
    "start_time": "2022-07-03T17:47:36.696Z"
   },
   {
    "duration": 7,
    "start_time": "2022-07-03T17:47:36.883Z"
   },
   {
    "duration": 49,
    "start_time": "2022-07-03T17:47:36.893Z"
   },
   {
    "duration": 12,
    "start_time": "2022-07-03T17:47:36.950Z"
   },
   {
    "duration": 13,
    "start_time": "2022-07-03T17:47:36.963Z"
   },
   {
    "duration": 20,
    "start_time": "2022-07-03T17:47:36.978Z"
   },
   {
    "duration": 4,
    "start_time": "2022-07-03T17:47:37.000Z"
   },
   {
    "duration": 47,
    "start_time": "2022-07-03T17:47:37.006Z"
   },
   {
    "duration": 33,
    "start_time": "2022-07-03T17:47:37.055Z"
   },
   {
    "duration": 51,
    "start_time": "2022-07-03T17:47:37.090Z"
   },
   {
    "duration": 73,
    "start_time": "2022-07-03T17:47:37.143Z"
   },
   {
    "duration": 78,
    "start_time": "2022-07-03T17:47:37.217Z"
   },
   {
    "duration": 83,
    "start_time": "2022-07-03T17:47:37.298Z"
   },
   {
    "duration": 57,
    "start_time": "2022-07-03T17:47:37.383Z"
   },
   {
    "duration": 17,
    "start_time": "2022-07-03T17:47:37.442Z"
   },
   {
    "duration": 72,
    "start_time": "2022-07-03T17:47:37.461Z"
   },
   {
    "duration": 26,
    "start_time": "2022-07-03T17:47:37.535Z"
   },
   {
    "duration": 35,
    "start_time": "2022-07-03T17:47:37.563Z"
   },
   {
    "duration": 19,
    "start_time": "2022-07-03T17:47:37.600Z"
   },
   {
    "duration": 56,
    "start_time": "2022-07-03T17:47:37.622Z"
   },
   {
    "duration": 18,
    "start_time": "2022-07-03T17:47:37.679Z"
   },
   {
    "duration": 24,
    "start_time": "2022-07-03T17:47:37.700Z"
   },
   {
    "duration": 41,
    "start_time": "2022-07-03T17:47:37.731Z"
   },
   {
    "duration": 27,
    "start_time": "2022-07-03T17:47:37.774Z"
   },
   {
    "duration": 25,
    "start_time": "2022-07-03T17:47:37.803Z"
   },
   {
    "duration": 13,
    "start_time": "2022-07-03T17:47:38.701Z"
   },
   {
    "duration": 12,
    "start_time": "2022-07-03T17:52:27.698Z"
   },
   {
    "duration": 9,
    "start_time": "2022-07-03T18:05:12.335Z"
   },
   {
    "duration": 5,
    "start_time": "2022-07-03T18:05:14.797Z"
   },
   {
    "duration": 8,
    "start_time": "2022-07-03T18:05:18.039Z"
   },
   {
    "duration": 6,
    "start_time": "2022-07-03T18:05:19.676Z"
   },
   {
    "duration": 11,
    "start_time": "2022-07-03T18:14:12.583Z"
   },
   {
    "duration": 4,
    "start_time": "2022-07-03T18:14:16.588Z"
   },
   {
    "duration": 223,
    "start_time": "2022-07-03T18:14:16.595Z"
   },
   {
    "duration": 13,
    "start_time": "2022-07-03T18:14:16.820Z"
   },
   {
    "duration": 84,
    "start_time": "2022-07-03T18:14:16.834Z"
   },
   {
    "duration": 3,
    "start_time": "2022-07-03T18:14:16.921Z"
   },
   {
    "duration": 24,
    "start_time": "2022-07-03T18:14:16.931Z"
   },
   {
    "duration": 25,
    "start_time": "2022-07-03T18:14:16.957Z"
   },
   {
    "duration": 4,
    "start_time": "2022-07-03T18:14:16.984Z"
   },
   {
    "duration": 68,
    "start_time": "2022-07-03T18:14:16.990Z"
   },
   {
    "duration": 29,
    "start_time": "2022-07-03T18:14:17.060Z"
   },
   {
    "duration": 60,
    "start_time": "2022-07-03T18:14:17.092Z"
   },
   {
    "duration": 93,
    "start_time": "2022-07-03T18:14:17.157Z"
   },
   {
    "duration": 84,
    "start_time": "2022-07-03T18:14:17.254Z"
   },
   {
    "duration": 112,
    "start_time": "2022-07-03T18:14:17.345Z"
   },
   {
    "duration": 56,
    "start_time": "2022-07-03T18:14:17.459Z"
   },
   {
    "duration": 30,
    "start_time": "2022-07-03T18:14:17.518Z"
   },
   {
    "duration": 42,
    "start_time": "2022-07-03T18:14:17.553Z"
   },
   {
    "duration": 15,
    "start_time": "2022-07-03T18:14:17.597Z"
   },
   {
    "duration": 40,
    "start_time": "2022-07-03T18:14:17.614Z"
   },
   {
    "duration": 4,
    "start_time": "2022-07-03T18:14:17.656Z"
   },
   {
    "duration": 22,
    "start_time": "2022-07-03T18:14:17.662Z"
   },
   {
    "duration": 15,
    "start_time": "2022-07-03T18:14:17.686Z"
   },
   {
    "duration": 38,
    "start_time": "2022-07-03T18:14:17.703Z"
   },
   {
    "duration": 20,
    "start_time": "2022-07-03T18:14:17.744Z"
   },
   {
    "duration": 26,
    "start_time": "2022-07-03T18:14:17.766Z"
   },
   {
    "duration": 45,
    "start_time": "2022-07-03T18:14:17.794Z"
   },
   {
    "duration": 22,
    "start_time": "2022-07-03T18:14:17.841Z"
   },
   {
    "duration": 12,
    "start_time": "2022-07-03T18:14:17.865Z"
   },
   {
    "duration": 17,
    "start_time": "2022-07-03T18:14:17.879Z"
   },
   {
    "duration": 7,
    "start_time": "2022-07-03T18:14:17.898Z"
   },
   {
    "duration": 4,
    "start_time": "2022-07-03T18:14:19.933Z"
   },
   {
    "duration": 228,
    "start_time": "2022-07-03T18:14:19.939Z"
   },
   {
    "duration": 8,
    "start_time": "2022-07-03T18:14:20.170Z"
   },
   {
    "duration": 71,
    "start_time": "2022-07-03T18:14:20.180Z"
   },
   {
    "duration": 8,
    "start_time": "2022-07-03T18:14:20.260Z"
   },
   {
    "duration": 11,
    "start_time": "2022-07-03T18:14:20.269Z"
   },
   {
    "duration": 28,
    "start_time": "2022-07-03T18:14:20.282Z"
   },
   {
    "duration": 36,
    "start_time": "2022-07-03T18:14:20.313Z"
   },
   {
    "duration": 39,
    "start_time": "2022-07-03T18:14:20.354Z"
   },
   {
    "duration": 70,
    "start_time": "2022-07-03T18:14:20.395Z"
   },
   {
    "duration": 41,
    "start_time": "2022-07-03T18:14:20.468Z"
   },
   {
    "duration": 84,
    "start_time": "2022-07-03T18:14:20.511Z"
   },
   {
    "duration": 133,
    "start_time": "2022-07-03T18:14:20.598Z"
   },
   {
    "duration": 104,
    "start_time": "2022-07-03T18:14:20.733Z"
   },
   {
    "duration": 54,
    "start_time": "2022-07-03T18:14:20.845Z"
   },
   {
    "duration": 27,
    "start_time": "2022-07-03T18:14:20.902Z"
   },
   {
    "duration": 57,
    "start_time": "2022-07-03T18:14:20.932Z"
   },
   {
    "duration": 38,
    "start_time": "2022-07-03T18:14:20.992Z"
   },
   {
    "duration": 22,
    "start_time": "2022-07-03T18:14:21.037Z"
   },
   {
    "duration": 5,
    "start_time": "2022-07-03T18:14:21.062Z"
   },
   {
    "duration": 41,
    "start_time": "2022-07-03T18:14:21.069Z"
   },
   {
    "duration": 28,
    "start_time": "2022-07-03T18:14:21.112Z"
   },
   {
    "duration": 28,
    "start_time": "2022-07-03T18:14:21.142Z"
   },
   {
    "duration": 23,
    "start_time": "2022-07-03T18:14:21.173Z"
   },
   {
    "duration": 49,
    "start_time": "2022-07-03T18:14:21.199Z"
   },
   {
    "duration": 23,
    "start_time": "2022-07-03T18:14:21.255Z"
   },
   {
    "duration": 40,
    "start_time": "2022-07-03T18:14:21.280Z"
   },
   {
    "duration": 35,
    "start_time": "2022-07-03T18:14:21.322Z"
   },
   {
    "duration": 16,
    "start_time": "2022-07-03T18:14:21.360Z"
   },
   {
    "duration": 7,
    "start_time": "2022-07-03T18:14:21.378Z"
   },
   {
    "duration": 25,
    "start_time": "2022-07-03T18:14:21.386Z"
   },
   {
    "duration": 11,
    "start_time": "2022-07-03T18:14:21.413Z"
   },
   {
    "duration": 35,
    "start_time": "2022-07-03T18:14:21.426Z"
   },
   {
    "duration": 17,
    "start_time": "2022-07-03T18:14:23.585Z"
   },
   {
    "duration": 8,
    "start_time": "2022-07-03T18:19:32.786Z"
   },
   {
    "duration": 4,
    "start_time": "2022-07-03T18:19:37.523Z"
   },
   {
    "duration": 213,
    "start_time": "2022-07-03T18:19:37.529Z"
   },
   {
    "duration": 9,
    "start_time": "2022-07-03T18:19:37.744Z"
   },
   {
    "duration": 38,
    "start_time": "2022-07-03T18:19:37.756Z"
   },
   {
    "duration": 3,
    "start_time": "2022-07-03T18:19:37.797Z"
   },
   {
    "duration": 12,
    "start_time": "2022-07-03T18:19:37.802Z"
   },
   {
    "duration": 34,
    "start_time": "2022-07-03T18:19:37.826Z"
   },
   {
    "duration": 4,
    "start_time": "2022-07-03T18:19:37.862Z"
   },
   {
    "duration": 45,
    "start_time": "2022-07-03T18:19:37.868Z"
   },
   {
    "duration": 39,
    "start_time": "2022-07-03T18:19:37.916Z"
   },
   {
    "duration": 33,
    "start_time": "2022-07-03T18:19:37.960Z"
   },
   {
    "duration": 105,
    "start_time": "2022-07-03T18:19:37.996Z"
   },
   {
    "duration": 92,
    "start_time": "2022-07-03T18:19:38.104Z"
   },
   {
    "duration": 105,
    "start_time": "2022-07-03T18:19:38.198Z"
   },
   {
    "duration": 58,
    "start_time": "2022-07-03T18:19:38.306Z"
   },
   {
    "duration": 11,
    "start_time": "2022-07-03T18:19:38.366Z"
   },
   {
    "duration": 70,
    "start_time": "2022-07-03T18:19:38.379Z"
   },
   {
    "duration": 14,
    "start_time": "2022-07-03T18:19:38.450Z"
   },
   {
    "duration": 15,
    "start_time": "2022-07-03T18:19:38.467Z"
   },
   {
    "duration": 10,
    "start_time": "2022-07-03T18:19:38.484Z"
   },
   {
    "duration": 44,
    "start_time": "2022-07-03T18:19:38.498Z"
   },
   {
    "duration": 35,
    "start_time": "2022-07-03T18:19:38.548Z"
   },
   {
    "duration": 21,
    "start_time": "2022-07-03T18:19:38.585Z"
   },
   {
    "duration": 16,
    "start_time": "2022-07-03T18:19:38.608Z"
   },
   {
    "duration": 37,
    "start_time": "2022-07-03T18:19:38.630Z"
   },
   {
    "duration": 25,
    "start_time": "2022-07-03T18:19:38.670Z"
   },
   {
    "duration": 15,
    "start_time": "2022-07-03T18:19:38.697Z"
   },
   {
    "duration": 35,
    "start_time": "2022-07-03T18:19:38.714Z"
   },
   {
    "duration": 17,
    "start_time": "2022-07-03T18:19:38.752Z"
   },
   {
    "duration": 4,
    "start_time": "2022-07-03T18:19:38.772Z"
   },
   {
    "duration": 27,
    "start_time": "2022-07-03T18:19:38.778Z"
   },
   {
    "duration": 11,
    "start_time": "2022-07-03T18:19:38.807Z"
   },
   {
    "duration": 45,
    "start_time": "2022-07-03T18:19:38.819Z"
   },
   {
    "duration": 13,
    "start_time": "2022-07-03T18:19:38.866Z"
   },
   {
    "duration": 12,
    "start_time": "2022-07-03T18:19:38.881Z"
   },
   {
    "duration": 5,
    "start_time": "2022-07-03T18:19:41.088Z"
   },
   {
    "duration": 5,
    "start_time": "2022-07-03T18:21:49.150Z"
   },
   {
    "duration": 11,
    "start_time": "2022-07-03T18:21:50.982Z"
   },
   {
    "duration": 5,
    "start_time": "2022-07-03T18:21:52.462Z"
   },
   {
    "duration": 7,
    "start_time": "2022-07-03T18:21:54.532Z"
   },
   {
    "duration": 287,
    "start_time": "2022-07-03T18:21:54.546Z"
   },
   {
    "duration": 12,
    "start_time": "2022-07-03T18:21:54.835Z"
   },
   {
    "duration": 51,
    "start_time": "2022-07-03T18:21:54.850Z"
   },
   {
    "duration": 3,
    "start_time": "2022-07-03T18:21:54.902Z"
   },
   {
    "duration": 12,
    "start_time": "2022-07-03T18:21:54.907Z"
   },
   {
    "duration": 52,
    "start_time": "2022-07-03T18:21:54.921Z"
   },
   {
    "duration": 4,
    "start_time": "2022-07-03T18:21:54.976Z"
   },
   {
    "duration": 36,
    "start_time": "2022-07-03T18:21:54.981Z"
   },
   {
    "duration": 57,
    "start_time": "2022-07-03T18:21:55.019Z"
   },
   {
    "duration": 32,
    "start_time": "2022-07-03T18:21:55.078Z"
   },
   {
    "duration": 91,
    "start_time": "2022-07-03T18:21:55.111Z"
   },
   {
    "duration": 111,
    "start_time": "2022-07-03T18:21:55.205Z"
   },
   {
    "duration": 103,
    "start_time": "2022-07-03T18:21:55.319Z"
   },
   {
    "duration": 57,
    "start_time": "2022-07-03T18:21:55.428Z"
   },
   {
    "duration": 40,
    "start_time": "2022-07-03T18:21:55.487Z"
   },
   {
    "duration": 57,
    "start_time": "2022-07-03T18:21:55.529Z"
   },
   {
    "duration": 16,
    "start_time": "2022-07-03T18:21:55.588Z"
   },
   {
    "duration": 43,
    "start_time": "2022-07-03T18:21:55.606Z"
   },
   {
    "duration": 6,
    "start_time": "2022-07-03T18:21:55.653Z"
   },
   {
    "duration": 27,
    "start_time": "2022-07-03T18:21:55.665Z"
   },
   {
    "duration": 18,
    "start_time": "2022-07-03T18:21:55.694Z"
   },
   {
    "duration": 21,
    "start_time": "2022-07-03T18:21:55.713Z"
   },
   {
    "duration": 47,
    "start_time": "2022-07-03T18:21:55.736Z"
   },
   {
    "duration": 16,
    "start_time": "2022-07-03T18:21:55.785Z"
   },
   {
    "duration": 17,
    "start_time": "2022-07-03T18:21:55.803Z"
   },
   {
    "duration": 17,
    "start_time": "2022-07-03T18:21:55.822Z"
   },
   {
    "duration": 49,
    "start_time": "2022-07-03T18:21:55.841Z"
   },
   {
    "duration": 17,
    "start_time": "2022-07-03T18:21:55.893Z"
   },
   {
    "duration": 6,
    "start_time": "2022-07-03T18:21:55.912Z"
   },
   {
    "duration": 56,
    "start_time": "2022-07-03T18:21:55.919Z"
   },
   {
    "duration": 32,
    "start_time": "2022-07-03T18:21:55.977Z"
   },
   {
    "duration": 43,
    "start_time": "2022-07-03T18:21:56.011Z"
   },
   {
    "duration": 18,
    "start_time": "2022-07-03T18:21:56.056Z"
   },
   {
    "duration": 11,
    "start_time": "2022-07-03T18:21:56.076Z"
   },
   {
    "duration": 6,
    "start_time": "2022-07-03T18:21:57.108Z"
   },
   {
    "duration": 427,
    "start_time": "2022-07-03T18:22:20.970Z"
   },
   {
    "duration": 222,
    "start_time": "2022-07-03T18:22:21.399Z"
   },
   {
    "duration": 16,
    "start_time": "2022-07-03T18:22:21.624Z"
   },
   {
    "duration": 68,
    "start_time": "2022-07-03T18:22:21.645Z"
   },
   {
    "duration": 3,
    "start_time": "2022-07-03T18:22:21.715Z"
   },
   {
    "duration": 29,
    "start_time": "2022-07-03T18:22:21.721Z"
   },
   {
    "duration": 38,
    "start_time": "2022-07-03T18:22:21.752Z"
   },
   {
    "duration": 14,
    "start_time": "2022-07-03T18:22:21.792Z"
   },
   {
    "duration": 48,
    "start_time": "2022-07-03T18:22:21.809Z"
   },
   {
    "duration": 38,
    "start_time": "2022-07-03T18:22:21.861Z"
   },
   {
    "duration": 27,
    "start_time": "2022-07-03T18:22:21.903Z"
   },
   {
    "duration": 113,
    "start_time": "2022-07-03T18:22:21.932Z"
   },
   {
    "duration": 124,
    "start_time": "2022-07-03T18:22:22.047Z"
   },
   {
    "duration": 89,
    "start_time": "2022-07-03T18:22:22.173Z"
   },
   {
    "duration": 67,
    "start_time": "2022-07-03T18:22:22.264Z"
   },
   {
    "duration": 17,
    "start_time": "2022-07-03T18:22:22.339Z"
   },
   {
    "duration": 59,
    "start_time": "2022-07-03T18:22:22.359Z"
   },
   {
    "duration": 30,
    "start_time": "2022-07-03T18:22:22.420Z"
   },
   {
    "duration": 23,
    "start_time": "2022-07-03T18:22:22.453Z"
   },
   {
    "duration": 6,
    "start_time": "2022-07-03T18:22:22.478Z"
   },
   {
    "duration": 33,
    "start_time": "2022-07-03T18:22:22.486Z"
   },
   {
    "duration": 30,
    "start_time": "2022-07-03T18:22:22.521Z"
   },
   {
    "duration": 48,
    "start_time": "2022-07-03T18:22:22.553Z"
   },
   {
    "duration": 19,
    "start_time": "2022-07-03T18:22:22.603Z"
   },
   {
    "duration": 25,
    "start_time": "2022-07-03T18:22:22.624Z"
   },
   {
    "duration": 21,
    "start_time": "2022-07-03T18:22:22.654Z"
   },
   {
    "duration": 14,
    "start_time": "2022-07-03T18:22:22.677Z"
   },
   {
    "duration": 15,
    "start_time": "2022-07-03T18:22:22.695Z"
   },
   {
    "duration": 49,
    "start_time": "2022-07-03T18:22:22.712Z"
   },
   {
    "duration": 6,
    "start_time": "2022-07-03T18:22:22.763Z"
   },
   {
    "duration": 37,
    "start_time": "2022-07-03T18:22:22.771Z"
   },
   {
    "duration": 13,
    "start_time": "2022-07-03T18:22:22.810Z"
   },
   {
    "duration": 55,
    "start_time": "2022-07-03T18:22:22.825Z"
   },
   {
    "duration": 16,
    "start_time": "2022-07-03T18:22:22.882Z"
   },
   {
    "duration": 107,
    "start_time": "2022-07-03T18:22:22.899Z"
   },
   {
    "duration": 4,
    "start_time": "2022-07-03T18:22:26.057Z"
   },
   {
    "duration": 4,
    "start_time": "2022-07-03T18:22:46.751Z"
   },
   {
    "duration": 5,
    "start_time": "2022-07-03T18:22:49.678Z"
   },
   {
    "duration": 3,
    "start_time": "2022-07-03T18:22:51.777Z"
   },
   {
    "duration": 207,
    "start_time": "2022-07-03T18:22:51.783Z"
   },
   {
    "duration": 7,
    "start_time": "2022-07-03T18:22:51.992Z"
   },
   {
    "duration": 60,
    "start_time": "2022-07-03T18:22:52.001Z"
   },
   {
    "duration": 17,
    "start_time": "2022-07-03T18:22:52.064Z"
   },
   {
    "duration": 12,
    "start_time": "2022-07-03T18:22:52.083Z"
   },
   {
    "duration": 25,
    "start_time": "2022-07-03T18:22:52.097Z"
   },
   {
    "duration": 33,
    "start_time": "2022-07-03T18:22:52.125Z"
   },
   {
    "duration": 32,
    "start_time": "2022-07-03T18:22:52.160Z"
   },
   {
    "duration": 24,
    "start_time": "2022-07-03T18:22:52.194Z"
   },
   {
    "duration": 45,
    "start_time": "2022-07-03T18:22:52.220Z"
   },
   {
    "duration": 87,
    "start_time": "2022-07-03T18:22:52.267Z"
   },
   {
    "duration": 90,
    "start_time": "2022-07-03T18:22:52.357Z"
   },
   {
    "duration": 83,
    "start_time": "2022-07-03T18:22:52.449Z"
   },
   {
    "duration": 52,
    "start_time": "2022-07-03T18:22:52.534Z"
   },
   {
    "duration": 32,
    "start_time": "2022-07-03T18:22:52.589Z"
   },
   {
    "duration": 46,
    "start_time": "2022-07-03T18:22:52.627Z"
   },
   {
    "duration": 13,
    "start_time": "2022-07-03T18:22:52.675Z"
   },
   {
    "duration": 12,
    "start_time": "2022-07-03T18:22:52.690Z"
   },
   {
    "duration": 5,
    "start_time": "2022-07-03T18:22:52.726Z"
   },
   {
    "duration": 43,
    "start_time": "2022-07-03T18:22:52.739Z"
   },
   {
    "duration": 16,
    "start_time": "2022-07-03T18:22:52.784Z"
   },
   {
    "duration": 29,
    "start_time": "2022-07-03T18:22:52.803Z"
   },
   {
    "duration": 21,
    "start_time": "2022-07-03T18:22:52.836Z"
   },
   {
    "duration": 22,
    "start_time": "2022-07-03T18:22:52.858Z"
   },
   {
    "duration": 17,
    "start_time": "2022-07-03T18:22:52.881Z"
   },
   {
    "duration": 37,
    "start_time": "2022-07-03T18:22:52.900Z"
   },
   {
    "duration": 25,
    "start_time": "2022-07-03T18:22:52.939Z"
   },
   {
    "duration": 13,
    "start_time": "2022-07-03T18:22:52.966Z"
   },
   {
    "duration": 5,
    "start_time": "2022-07-03T18:22:52.980Z"
   },
   {
    "duration": 22,
    "start_time": "2022-07-03T18:22:52.987Z"
   },
   {
    "duration": 33,
    "start_time": "2022-07-03T18:22:53.010Z"
   },
   {
    "duration": 29,
    "start_time": "2022-07-03T18:22:53.045Z"
   },
   {
    "duration": 12,
    "start_time": "2022-07-03T18:22:53.077Z"
   },
   {
    "duration": 19,
    "start_time": "2022-07-03T18:22:53.091Z"
   },
   {
    "duration": 5,
    "start_time": "2022-07-03T18:22:54.489Z"
   },
   {
    "duration": 3,
    "start_time": "2022-07-03T18:23:12.091Z"
   },
   {
    "duration": 218,
    "start_time": "2022-07-03T18:23:12.097Z"
   },
   {
    "duration": 7,
    "start_time": "2022-07-03T18:23:12.317Z"
   },
   {
    "duration": 70,
    "start_time": "2022-07-03T18:23:12.327Z"
   },
   {
    "duration": 3,
    "start_time": "2022-07-03T18:23:12.400Z"
   },
   {
    "duration": 10,
    "start_time": "2022-07-03T18:23:12.404Z"
   },
   {
    "duration": 23,
    "start_time": "2022-07-03T18:23:12.416Z"
   },
   {
    "duration": 25,
    "start_time": "2022-07-03T18:23:12.442Z"
   },
   {
    "duration": 44,
    "start_time": "2022-07-03T18:23:12.469Z"
   },
   {
    "duration": 30,
    "start_time": "2022-07-03T18:23:12.515Z"
   },
   {
    "duration": 50,
    "start_time": "2022-07-03T18:23:12.546Z"
   },
   {
    "duration": 99,
    "start_time": "2022-07-03T18:23:12.598Z"
   },
   {
    "duration": 89,
    "start_time": "2022-07-03T18:23:12.699Z"
   },
   {
    "duration": 83,
    "start_time": "2022-07-03T18:23:12.791Z"
   },
   {
    "duration": 39,
    "start_time": "2022-07-03T18:23:12.875Z"
   },
   {
    "duration": 21,
    "start_time": "2022-07-03T18:23:12.925Z"
   },
   {
    "duration": 57,
    "start_time": "2022-07-03T18:23:12.949Z"
   },
   {
    "duration": 21,
    "start_time": "2022-07-03T18:23:13.008Z"
   },
   {
    "duration": 34,
    "start_time": "2022-07-03T18:23:13.031Z"
   },
   {
    "duration": 5,
    "start_time": "2022-07-03T18:23:13.068Z"
   },
   {
    "duration": 33,
    "start_time": "2022-07-03T18:23:13.074Z"
   },
   {
    "duration": 31,
    "start_time": "2022-07-03T18:23:13.109Z"
   },
   {
    "duration": 27,
    "start_time": "2022-07-03T18:23:13.141Z"
   },
   {
    "duration": 20,
    "start_time": "2022-07-03T18:23:13.170Z"
   },
   {
    "duration": 46,
    "start_time": "2022-07-03T18:23:13.192Z"
   },
   {
    "duration": 32,
    "start_time": "2022-07-03T18:23:13.242Z"
   },
   {
    "duration": 12,
    "start_time": "2022-07-03T18:23:13.277Z"
   },
   {
    "duration": 19,
    "start_time": "2022-07-03T18:23:13.291Z"
   },
   {
    "duration": 37,
    "start_time": "2022-07-03T18:23:13.312Z"
   },
   {
    "duration": 22,
    "start_time": "2022-07-03T18:23:13.350Z"
   },
   {
    "duration": 24,
    "start_time": "2022-07-03T18:23:13.374Z"
   },
   {
    "duration": 10,
    "start_time": "2022-07-03T18:23:13.400Z"
   },
   {
    "duration": 75,
    "start_time": "2022-07-03T18:23:13.412Z"
   },
   {
    "duration": 13,
    "start_time": "2022-07-03T18:23:13.489Z"
   },
   {
    "duration": 9,
    "start_time": "2022-07-03T18:23:13.504Z"
   },
   {
    "duration": 5,
    "start_time": "2022-07-03T18:23:21.816Z"
   },
   {
    "duration": 95,
    "start_time": "2022-07-03T18:24:08.082Z"
   },
   {
    "duration": 4,
    "start_time": "2022-07-03T18:24:12.586Z"
   },
   {
    "duration": 225,
    "start_time": "2022-07-03T18:24:12.593Z"
   },
   {
    "duration": 15,
    "start_time": "2022-07-03T18:24:12.820Z"
   },
   {
    "duration": 47,
    "start_time": "2022-07-03T18:24:12.837Z"
   },
   {
    "duration": 4,
    "start_time": "2022-07-03T18:24:12.886Z"
   },
   {
    "duration": 12,
    "start_time": "2022-07-03T18:24:12.893Z"
   },
   {
    "duration": 30,
    "start_time": "2022-07-03T18:24:12.907Z"
   },
   {
    "duration": 20,
    "start_time": "2022-07-03T18:24:12.947Z"
   },
   {
    "duration": 47,
    "start_time": "2022-07-03T18:24:12.972Z"
   },
   {
    "duration": 33,
    "start_time": "2022-07-03T18:24:13.024Z"
   },
   {
    "duration": 61,
    "start_time": "2022-07-03T18:24:13.059Z"
   },
   {
    "duration": 125,
    "start_time": "2022-07-03T18:24:13.122Z"
   },
   {
    "duration": 100,
    "start_time": "2022-07-03T18:24:13.249Z"
   },
   {
    "duration": 89,
    "start_time": "2022-07-03T18:24:13.353Z"
   },
   {
    "duration": 72,
    "start_time": "2022-07-03T18:24:13.444Z"
   },
   {
    "duration": 19,
    "start_time": "2022-07-03T18:24:13.528Z"
   },
   {
    "duration": 75,
    "start_time": "2022-07-03T18:24:13.549Z"
   },
   {
    "duration": 25,
    "start_time": "2022-07-03T18:24:13.630Z"
   },
   {
    "duration": 29,
    "start_time": "2022-07-03T18:24:13.658Z"
   },
   {
    "duration": 5,
    "start_time": "2022-07-03T18:24:13.690Z"
   },
   {
    "duration": 39,
    "start_time": "2022-07-03T18:24:13.697Z"
   },
   {
    "duration": 47,
    "start_time": "2022-07-03T18:24:13.738Z"
   },
   {
    "duration": 25,
    "start_time": "2022-07-03T18:24:13.788Z"
   },
   {
    "duration": 32,
    "start_time": "2022-07-03T18:24:13.815Z"
   },
   {
    "duration": 42,
    "start_time": "2022-07-03T18:24:13.849Z"
   },
   {
    "duration": 24,
    "start_time": "2022-07-03T18:24:13.895Z"
   },
   {
    "duration": 24,
    "start_time": "2022-07-03T18:24:13.921Z"
   },
   {
    "duration": 33,
    "start_time": "2022-07-03T18:24:13.956Z"
   },
   {
    "duration": 18,
    "start_time": "2022-07-03T18:24:13.990Z"
   },
   {
    "duration": 39,
    "start_time": "2022-07-03T18:24:14.011Z"
   },
   {
    "duration": 50,
    "start_time": "2022-07-03T18:24:14.052Z"
   },
   {
    "duration": 16,
    "start_time": "2022-07-03T18:24:14.104Z"
   },
   {
    "duration": 60,
    "start_time": "2022-07-03T18:24:14.122Z"
   },
   {
    "duration": 16,
    "start_time": "2022-07-03T18:24:14.184Z"
   },
   {
    "duration": 31,
    "start_time": "2022-07-03T18:24:14.203Z"
   },
   {
    "duration": 30,
    "start_time": "2022-07-03T18:24:14.236Z"
   },
   {
    "duration": 25,
    "start_time": "2022-07-03T18:24:14.268Z"
   },
   {
    "duration": 6,
    "start_time": "2022-07-03T18:24:16.895Z"
   },
   {
    "duration": 49,
    "start_time": "2022-07-05T10:09:50.919Z"
   },
   {
    "duration": 438,
    "start_time": "2022-07-05T10:09:53.900Z"
   },
   {
    "duration": 254,
    "start_time": "2022-07-05T10:09:54.340Z"
   },
   {
    "duration": 10,
    "start_time": "2022-07-05T10:09:54.597Z"
   },
   {
    "duration": 60,
    "start_time": "2022-07-05T10:09:54.610Z"
   },
   {
    "duration": 9,
    "start_time": "2022-07-05T10:09:54.671Z"
   },
   {
    "duration": 9,
    "start_time": "2022-07-05T10:09:54.681Z"
   },
   {
    "duration": 21,
    "start_time": "2022-07-05T10:09:54.691Z"
   },
   {
    "duration": 9,
    "start_time": "2022-07-05T10:09:54.714Z"
   },
   {
    "duration": 31,
    "start_time": "2022-07-05T10:09:54.725Z"
   },
   {
    "duration": 19,
    "start_time": "2022-07-05T10:09:54.759Z"
   },
   {
    "duration": 24,
    "start_time": "2022-07-05T10:09:54.780Z"
   },
   {
    "duration": 79,
    "start_time": "2022-07-05T10:09:54.806Z"
   },
   {
    "duration": 85,
    "start_time": "2022-07-05T10:09:54.887Z"
   },
   {
    "duration": 75,
    "start_time": "2022-07-05T10:09:54.974Z"
   },
   {
    "duration": 40,
    "start_time": "2022-07-05T10:09:55.051Z"
   },
   {
    "duration": 11,
    "start_time": "2022-07-05T10:09:55.092Z"
   },
   {
    "duration": 55,
    "start_time": "2022-07-05T10:09:55.104Z"
   },
   {
    "duration": 17,
    "start_time": "2022-07-05T10:09:55.161Z"
   },
   {
    "duration": 13,
    "start_time": "2022-07-05T10:09:55.179Z"
   },
   {
    "duration": 28,
    "start_time": "2022-07-05T10:09:55.194Z"
   },
   {
    "duration": 22,
    "start_time": "2022-07-05T10:09:56.022Z"
   },
   {
    "duration": 5,
    "start_time": "2022-07-05T10:11:44.632Z"
   },
   {
    "duration": 4,
    "start_time": "2022-07-05T10:12:03.359Z"
   },
   {
    "duration": 228,
    "start_time": "2022-07-05T10:12:05.270Z"
   },
   {
    "duration": 3,
    "start_time": "2022-07-05T10:12:10.236Z"
   },
   {
    "duration": 180,
    "start_time": "2022-07-05T10:12:10.241Z"
   },
   {
    "duration": 6,
    "start_time": "2022-07-05T10:12:10.423Z"
   },
   {
    "duration": 55,
    "start_time": "2022-07-05T10:12:10.431Z"
   },
   {
    "duration": 31,
    "start_time": "2022-07-05T10:12:10.488Z"
   },
   {
    "duration": 18,
    "start_time": "2022-07-05T10:12:10.521Z"
   },
   {
    "duration": 36,
    "start_time": "2022-07-05T10:12:10.541Z"
   },
   {
    "duration": 6,
    "start_time": "2022-07-05T10:12:10.579Z"
   },
   {
    "duration": 51,
    "start_time": "2022-07-05T10:12:10.588Z"
   },
   {
    "duration": 27,
    "start_time": "2022-07-05T10:12:10.640Z"
   },
   {
    "duration": 34,
    "start_time": "2022-07-05T10:12:10.668Z"
   },
   {
    "duration": 80,
    "start_time": "2022-07-05T10:12:10.704Z"
   },
   {
    "duration": 69,
    "start_time": "2022-07-05T10:12:10.787Z"
   },
   {
    "duration": 70,
    "start_time": "2022-07-05T10:12:10.858Z"
   },
   {
    "duration": 38,
    "start_time": "2022-07-05T10:12:10.929Z"
   },
   {
    "duration": 23,
    "start_time": "2022-07-05T10:12:10.969Z"
   },
   {
    "duration": 46,
    "start_time": "2022-07-05T10:12:10.994Z"
   },
   {
    "duration": 13,
    "start_time": "2022-07-05T10:12:11.041Z"
   },
   {
    "duration": 14,
    "start_time": "2022-07-05T10:12:11.055Z"
   },
   {
    "duration": 20,
    "start_time": "2022-07-05T10:12:11.071Z"
   },
   {
    "duration": 205,
    "start_time": "2022-07-05T10:12:13.321Z"
   },
   {
    "duration": 247,
    "start_time": "2022-07-05T10:13:49.526Z"
   },
   {
    "duration": 3,
    "start_time": "2022-07-05T10:13:53.331Z"
   },
   {
    "duration": 187,
    "start_time": "2022-07-05T10:13:53.337Z"
   },
   {
    "duration": 8,
    "start_time": "2022-07-05T10:13:53.526Z"
   },
   {
    "duration": 39,
    "start_time": "2022-07-05T10:13:53.536Z"
   },
   {
    "duration": 10,
    "start_time": "2022-07-05T10:13:53.576Z"
   },
   {
    "duration": 11,
    "start_time": "2022-07-05T10:13:53.588Z"
   },
   {
    "duration": 22,
    "start_time": "2022-07-05T10:13:53.601Z"
   },
   {
    "duration": 11,
    "start_time": "2022-07-05T10:13:53.624Z"
   },
   {
    "duration": 34,
    "start_time": "2022-07-05T10:13:53.638Z"
   },
   {
    "duration": 45,
    "start_time": "2022-07-05T10:13:53.674Z"
   },
   {
    "duration": 28,
    "start_time": "2022-07-05T10:13:53.720Z"
   },
   {
    "duration": 72,
    "start_time": "2022-07-05T10:13:53.750Z"
   },
   {
    "duration": 64,
    "start_time": "2022-07-05T10:13:53.824Z"
   },
   {
    "duration": 86,
    "start_time": "2022-07-05T10:13:53.890Z"
   },
   {
    "duration": 60,
    "start_time": "2022-07-05T10:13:53.978Z"
   },
   {
    "duration": 12,
    "start_time": "2022-07-05T10:13:54.039Z"
   },
   {
    "duration": 41,
    "start_time": "2022-07-05T10:13:54.052Z"
   },
   {
    "duration": 31,
    "start_time": "2022-07-05T10:13:54.094Z"
   },
   {
    "duration": 12,
    "start_time": "2022-07-05T10:13:54.127Z"
   },
   {
    "duration": 3,
    "start_time": "2022-07-05T10:13:54.141Z"
   },
   {
    "duration": 219,
    "start_time": "2022-07-05T10:13:56.238Z"
   },
   {
    "duration": 4,
    "start_time": "2022-07-05T10:14:06.230Z"
   },
   {
    "duration": 4,
    "start_time": "2022-07-05T10:14:10.903Z"
   },
   {
    "duration": 18,
    "start_time": "2022-07-05T10:14:15.238Z"
   },
   {
    "duration": 18,
    "start_time": "2022-07-05T10:14:16.723Z"
   },
   {
    "duration": 4,
    "start_time": "2022-07-05T10:20:35.519Z"
   },
   {
    "duration": 3,
    "start_time": "2022-07-05T10:20:36.055Z"
   },
   {
    "duration": 18,
    "start_time": "2022-07-05T10:20:38.911Z"
   },
   {
    "duration": 709,
    "start_time": "2022-07-05T11:40:28.299Z"
   }
  ],
  "colab": {
   "collapsed_sections": [
    "E0vqbgi9ay0H",
    "VUC88oWjTJw2"
   ],
   "name": "automatization_template_upd4.ipynb",
   "provenance": []
  },
  "kernelspec": {
   "display_name": "Python 3 (ipykernel)",
   "language": "python",
   "name": "python3"
  },
  "language_info": {
   "codemirror_mode": {
    "name": "ipython",
    "version": 3
   },
   "file_extension": ".py",
   "mimetype": "text/x-python",
   "name": "python",
   "nbconvert_exporter": "python",
   "pygments_lexer": "ipython3",
   "version": "3.9.12"
  },
  "toc": {
   "base_numbering": 1,
   "nav_menu": {
    "height": "215px",
    "width": "403px"
   },
   "number_sections": true,
   "sideBar": true,
   "skip_h1_title": true,
   "title_cell": "Table of Contents",
   "title_sidebar": "Contents",
   "toc_cell": false,
   "toc_position": {
    "height": "calc(100% - 180px)",
    "left": "10px",
    "top": "150px",
    "width": "285.825px"
   },
   "toc_section_display": true,
   "toc_window_display": false
  }
 },
 "nbformat": 4,
 "nbformat_minor": 1
}
