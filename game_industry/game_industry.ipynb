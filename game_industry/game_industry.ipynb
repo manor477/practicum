{
 "cells": [
  {
   "cell_type": "markdown",
   "metadata": {},
   "source": [
    "# Исследование закономерности успешности игр в разных регионах\n",
    "В нашем распоряжении данные интернет-магазина \"Стримчик\", который занимается продажами компьютерных игры по всему миру. Необходимо сделать ИА закономерности успешности игры, чтобы увеличить шанс выпустить популярную игру и окупить рекламную кампанию.\n",
    "\n",
    "У нас имеются данные до 2016 года. Необходимо отобрать нужные данные для гипотез."
   ]
  },
  {
   "cell_type": "markdown",
   "metadata": {},
   "source": [
    "## Откроем файл с данными и изучим общую информацию."
   ]
  },
  {
   "cell_type": "markdown",
   "metadata": {},
   "source": [
    "### Ознакомление с датафреймом."
   ]
  },
  {
   "cell_type": "markdown",
   "metadata": {},
   "source": [
    "Импортируем библиотеку `pandas` и читаем данные датафрейма."
   ]
  },
  {
   "cell_type": "code",
   "execution_count": 11,
   "metadata": {},
   "outputs": [],
   "source": [
    "import pandas as pd\n",
    "import numpy as np\n",
    "import matplotlib.pyplot as plt\n",
    "from scipy import stats as st\n"
   ]
  },
  {
   "cell_type": "code",
   "execution_count": 12,
   "metadata": {},
   "outputs": [],
   "source": [
    "data = pd.read_csv('https://code.s3.yandex.net/datasets/games.csv')"
   ]
  },
  {
   "cell_type": "code",
   "execution_count": 13,
   "metadata": {},
   "outputs": [
    {
     "data": {
      "text/html": [
       "<div>\n",
       "<style scoped>\n",
       "    .dataframe tbody tr th:only-of-type {\n",
       "        vertical-align: middle;\n",
       "    }\n",
       "\n",
       "    .dataframe tbody tr th {\n",
       "        vertical-align: top;\n",
       "    }\n",
       "\n",
       "    .dataframe thead th {\n",
       "        text-align: right;\n",
       "    }\n",
       "</style>\n",
       "<table border=\"1\" class=\"dataframe\">\n",
       "  <thead>\n",
       "    <tr style=\"text-align: right;\">\n",
       "      <th></th>\n",
       "      <th>Name</th>\n",
       "      <th>Platform</th>\n",
       "      <th>Year_of_Release</th>\n",
       "      <th>Genre</th>\n",
       "      <th>NA_sales</th>\n",
       "      <th>EU_sales</th>\n",
       "      <th>JP_sales</th>\n",
       "      <th>Other_sales</th>\n",
       "      <th>Critic_Score</th>\n",
       "      <th>User_Score</th>\n",
       "      <th>Rating</th>\n",
       "    </tr>\n",
       "  </thead>\n",
       "  <tbody>\n",
       "    <tr>\n",
       "      <th>0</th>\n",
       "      <td>Wii Sports</td>\n",
       "      <td>Wii</td>\n",
       "      <td>2006.0</td>\n",
       "      <td>Sports</td>\n",
       "      <td>41.36</td>\n",
       "      <td>28.96</td>\n",
       "      <td>3.77</td>\n",
       "      <td>8.45</td>\n",
       "      <td>76.0</td>\n",
       "      <td>8</td>\n",
       "      <td>E</td>\n",
       "    </tr>\n",
       "    <tr>\n",
       "      <th>1</th>\n",
       "      <td>Super Mario Bros.</td>\n",
       "      <td>NES</td>\n",
       "      <td>1985.0</td>\n",
       "      <td>Platform</td>\n",
       "      <td>29.08</td>\n",
       "      <td>3.58</td>\n",
       "      <td>6.81</td>\n",
       "      <td>0.77</td>\n",
       "      <td>NaN</td>\n",
       "      <td>NaN</td>\n",
       "      <td>NaN</td>\n",
       "    </tr>\n",
       "    <tr>\n",
       "      <th>2</th>\n",
       "      <td>Mario Kart Wii</td>\n",
       "      <td>Wii</td>\n",
       "      <td>2008.0</td>\n",
       "      <td>Racing</td>\n",
       "      <td>15.68</td>\n",
       "      <td>12.76</td>\n",
       "      <td>3.79</td>\n",
       "      <td>3.29</td>\n",
       "      <td>82.0</td>\n",
       "      <td>8.3</td>\n",
       "      <td>E</td>\n",
       "    </tr>\n",
       "    <tr>\n",
       "      <th>3</th>\n",
       "      <td>Wii Sports Resort</td>\n",
       "      <td>Wii</td>\n",
       "      <td>2009.0</td>\n",
       "      <td>Sports</td>\n",
       "      <td>15.61</td>\n",
       "      <td>10.93</td>\n",
       "      <td>3.28</td>\n",
       "      <td>2.95</td>\n",
       "      <td>80.0</td>\n",
       "      <td>8</td>\n",
       "      <td>E</td>\n",
       "    </tr>\n",
       "    <tr>\n",
       "      <th>4</th>\n",
       "      <td>Pokemon Red/Pokemon Blue</td>\n",
       "      <td>GB</td>\n",
       "      <td>1996.0</td>\n",
       "      <td>Role-Playing</td>\n",
       "      <td>11.27</td>\n",
       "      <td>8.89</td>\n",
       "      <td>10.22</td>\n",
       "      <td>1.00</td>\n",
       "      <td>NaN</td>\n",
       "      <td>NaN</td>\n",
       "      <td>NaN</td>\n",
       "    </tr>\n",
       "  </tbody>\n",
       "</table>\n",
       "</div>"
      ],
      "text/plain": [
       "                       Name Platform  Year_of_Release         Genre  NA_sales  \\\n",
       "0                Wii Sports      Wii           2006.0        Sports     41.36   \n",
       "1         Super Mario Bros.      NES           1985.0      Platform     29.08   \n",
       "2            Mario Kart Wii      Wii           2008.0        Racing     15.68   \n",
       "3         Wii Sports Resort      Wii           2009.0        Sports     15.61   \n",
       "4  Pokemon Red/Pokemon Blue       GB           1996.0  Role-Playing     11.27   \n",
       "\n",
       "   EU_sales  JP_sales  Other_sales  Critic_Score User_Score Rating  \n",
       "0     28.96      3.77         8.45          76.0          8      E  \n",
       "1      3.58      6.81         0.77           NaN        NaN    NaN  \n",
       "2     12.76      3.79         3.29          82.0        8.3      E  \n",
       "3     10.93      3.28         2.95          80.0          8      E  \n",
       "4      8.89     10.22         1.00           NaN        NaN    NaN  "
      ]
     },
     "execution_count": 13,
     "metadata": {},
     "output_type": "execute_result"
    }
   ],
   "source": [
    "data.head()"
   ]
  },
  {
   "cell_type": "markdown",
   "metadata": {},
   "source": [
    "Выведем тип столбцов и объём датафрейма."
   ]
  },
  {
   "cell_type": "code",
   "execution_count": 14,
   "metadata": {},
   "outputs": [
    {
     "name": "stdout",
     "output_type": "stream",
     "text": [
      "<class 'pandas.core.frame.DataFrame'>\n",
      "RangeIndex: 16715 entries, 0 to 16714\n",
      "Data columns (total 11 columns):\n",
      " #   Column           Non-Null Count  Dtype  \n",
      "---  ------           --------------  -----  \n",
      " 0   Name             16713 non-null  object \n",
      " 1   Platform         16715 non-null  object \n",
      " 2   Year_of_Release  16446 non-null  float64\n",
      " 3   Genre            16713 non-null  object \n",
      " 4   NA_sales         16715 non-null  float64\n",
      " 5   EU_sales         16715 non-null  float64\n",
      " 6   JP_sales         16715 non-null  float64\n",
      " 7   Other_sales      16715 non-null  float64\n",
      " 8   Critic_Score     8137 non-null   float64\n",
      " 9   User_Score       10014 non-null  object \n",
      " 10  Rating           9949 non-null   object \n",
      "dtypes: float64(6), object(5)\n",
      "memory usage: 1.4+ MB\n"
     ]
    }
   ],
   "source": [
    "data.info()"
   ]
  },
  {
   "cell_type": "markdown",
   "metadata": {},
   "source": [
    "Вывод на экран список характерных значений."
   ]
  },
  {
   "cell_type": "code",
   "execution_count": 15,
   "metadata": {
    "scrolled": true
   },
   "outputs": [
    {
     "data": {
      "text/html": [
       "<div>\n",
       "<style scoped>\n",
       "    .dataframe tbody tr th:only-of-type {\n",
       "        vertical-align: middle;\n",
       "    }\n",
       "\n",
       "    .dataframe tbody tr th {\n",
       "        vertical-align: top;\n",
       "    }\n",
       "\n",
       "    .dataframe thead th {\n",
       "        text-align: right;\n",
       "    }\n",
       "</style>\n",
       "<table border=\"1\" class=\"dataframe\">\n",
       "  <thead>\n",
       "    <tr style=\"text-align: right;\">\n",
       "      <th></th>\n",
       "      <th>Year_of_Release</th>\n",
       "      <th>NA_sales</th>\n",
       "      <th>EU_sales</th>\n",
       "      <th>JP_sales</th>\n",
       "      <th>Other_sales</th>\n",
       "      <th>Critic_Score</th>\n",
       "    </tr>\n",
       "  </thead>\n",
       "  <tbody>\n",
       "    <tr>\n",
       "      <th>count</th>\n",
       "      <td>16446.000000</td>\n",
       "      <td>16715.000000</td>\n",
       "      <td>16715.000000</td>\n",
       "      <td>16715.000000</td>\n",
       "      <td>16715.000000</td>\n",
       "      <td>8137.000000</td>\n",
       "    </tr>\n",
       "    <tr>\n",
       "      <th>mean</th>\n",
       "      <td>2006.484616</td>\n",
       "      <td>0.263377</td>\n",
       "      <td>0.145060</td>\n",
       "      <td>0.077617</td>\n",
       "      <td>0.047342</td>\n",
       "      <td>68.967679</td>\n",
       "    </tr>\n",
       "    <tr>\n",
       "      <th>std</th>\n",
       "      <td>5.877050</td>\n",
       "      <td>0.813604</td>\n",
       "      <td>0.503339</td>\n",
       "      <td>0.308853</td>\n",
       "      <td>0.186731</td>\n",
       "      <td>13.938165</td>\n",
       "    </tr>\n",
       "    <tr>\n",
       "      <th>min</th>\n",
       "      <td>1980.000000</td>\n",
       "      <td>0.000000</td>\n",
       "      <td>0.000000</td>\n",
       "      <td>0.000000</td>\n",
       "      <td>0.000000</td>\n",
       "      <td>13.000000</td>\n",
       "    </tr>\n",
       "    <tr>\n",
       "      <th>25%</th>\n",
       "      <td>2003.000000</td>\n",
       "      <td>0.000000</td>\n",
       "      <td>0.000000</td>\n",
       "      <td>0.000000</td>\n",
       "      <td>0.000000</td>\n",
       "      <td>60.000000</td>\n",
       "    </tr>\n",
       "    <tr>\n",
       "      <th>50%</th>\n",
       "      <td>2007.000000</td>\n",
       "      <td>0.080000</td>\n",
       "      <td>0.020000</td>\n",
       "      <td>0.000000</td>\n",
       "      <td>0.010000</td>\n",
       "      <td>71.000000</td>\n",
       "    </tr>\n",
       "    <tr>\n",
       "      <th>75%</th>\n",
       "      <td>2010.000000</td>\n",
       "      <td>0.240000</td>\n",
       "      <td>0.110000</td>\n",
       "      <td>0.040000</td>\n",
       "      <td>0.030000</td>\n",
       "      <td>79.000000</td>\n",
       "    </tr>\n",
       "    <tr>\n",
       "      <th>max</th>\n",
       "      <td>2016.000000</td>\n",
       "      <td>41.360000</td>\n",
       "      <td>28.960000</td>\n",
       "      <td>10.220000</td>\n",
       "      <td>10.570000</td>\n",
       "      <td>98.000000</td>\n",
       "    </tr>\n",
       "  </tbody>\n",
       "</table>\n",
       "</div>"
      ],
      "text/plain": [
       "       Year_of_Release      NA_sales      EU_sales      JP_sales  \\\n",
       "count     16446.000000  16715.000000  16715.000000  16715.000000   \n",
       "mean       2006.484616      0.263377      0.145060      0.077617   \n",
       "std           5.877050      0.813604      0.503339      0.308853   \n",
       "min        1980.000000      0.000000      0.000000      0.000000   \n",
       "25%        2003.000000      0.000000      0.000000      0.000000   \n",
       "50%        2007.000000      0.080000      0.020000      0.000000   \n",
       "75%        2010.000000      0.240000      0.110000      0.040000   \n",
       "max        2016.000000     41.360000     28.960000     10.220000   \n",
       "\n",
       "        Other_sales  Critic_Score  \n",
       "count  16715.000000   8137.000000  \n",
       "mean       0.047342     68.967679  \n",
       "std        0.186731     13.938165  \n",
       "min        0.000000     13.000000  \n",
       "25%        0.000000     60.000000  \n",
       "50%        0.010000     71.000000  \n",
       "75%        0.030000     79.000000  \n",
       "max       10.570000     98.000000  "
      ]
     },
     "execution_count": 15,
     "metadata": {},
     "output_type": "execute_result"
    }
   ],
   "source": [
    "data.describe()"
   ]
  },
  {
   "cell_type": "markdown",
   "metadata": {},
   "source": [
    "## Предобработка данных."
   ]
  },
  {
   "cell_type": "markdown",
   "metadata": {},
   "source": [
    "### Изменим названия столбцов (приведём к нижнему регистру)."
   ]
  },
  {
   "cell_type": "code",
   "execution_count": 16,
   "metadata": {},
   "outputs": [],
   "source": [
    "data = data.rename(columns={'Name': 'name', 'Platform': 'platform',\n",
    "                            'Year_of_Release': 'year_of_release',\n",
    "                            'Genre': 'genre',\n",
    "                            'NA_sales': 'na_sales',\n",
    "                            'EU_sales': 'eu_sales',\n",
    "                            'JP_sales': 'jp_sales',\n",
    "                            'Other_sales': 'other_sales',\n",
    "                            'Critic_Score': 'critic_score',\n",
    "                            'User_Score': 'user_score',\n",
    "                            'Rating': 'rating'})"
   ]
  },
  {
   "cell_type": "markdown",
   "metadata": {},
   "source": [
    "### Обработка пропусков в столбцах.\n",
    "Выведем пропущенные значения для каждого столбца."
   ]
  },
  {
   "cell_type": "code",
   "execution_count": 17,
   "metadata": {
    "scrolled": true
   },
   "outputs": [
    {
     "data": {
      "text/plain": [
       "name                  2\n",
       "platform              0\n",
       "year_of_release     269\n",
       "genre                 2\n",
       "na_sales              0\n",
       "eu_sales              0\n",
       "jp_sales              0\n",
       "other_sales           0\n",
       "critic_score       8578\n",
       "user_score         6701\n",
       "rating             6766\n",
       "dtype: int64"
      ]
     },
     "execution_count": 17,
     "metadata": {},
     "output_type": "execute_result"
    }
   ],
   "source": [
    "data.isna().sum()"
   ]
  },
  {
   "cell_type": "code",
   "execution_count": 18,
   "metadata": {},
   "outputs": [
    {
     "data": {
      "text/html": [
       "<style type=\"text/css\">\n",
       "#T_818c8_row0_col0 {\n",
       "  background-color: #b40426;\n",
       "  color: #f1f1f1;\n",
       "}\n",
       "#T_818c8_row1_col0 {\n",
       "  background-color: #f08a6c;\n",
       "  color: #f1f1f1;\n",
       "}\n",
       "#T_818c8_row2_col0 {\n",
       "  background-color: #f18d6f;\n",
       "  color: #f1f1f1;\n",
       "}\n",
       "#T_818c8_row3_col0 {\n",
       "  background-color: #445acc;\n",
       "  color: #f1f1f1;\n",
       "}\n",
       "#T_818c8_row4_col0, #T_818c8_row5_col0, #T_818c8_row6_col0, #T_818c8_row7_col0, #T_818c8_row8_col0, #T_818c8_row9_col0, #T_818c8_row10_col0 {\n",
       "  background-color: #3b4cc0;\n",
       "  color: #f1f1f1;\n",
       "}\n",
       "</style>\n",
       "<table id=\"T_818c8\">\n",
       "  <thead>\n",
       "    <tr>\n",
       "      <th class=\"blank level0\" >&nbsp;</th>\n",
       "      <th id=\"T_818c8_level0_col0\" class=\"col_heading level0 col0\" >percent_space</th>\n",
       "    </tr>\n",
       "  </thead>\n",
       "  <tbody>\n",
       "    <tr>\n",
       "      <th id=\"T_818c8_level0_row0\" class=\"row_heading level0 row0\" >critic_score</th>\n",
       "      <td id=\"T_818c8_row0_col0\" class=\"data row0 col0\" >51.3</td>\n",
       "    </tr>\n",
       "    <tr>\n",
       "      <th id=\"T_818c8_level0_row1\" class=\"row_heading level0 row1\" >rating</th>\n",
       "      <td id=\"T_818c8_row1_col0\" class=\"data row1 col0\" >40.5</td>\n",
       "    </tr>\n",
       "    <tr>\n",
       "      <th id=\"T_818c8_level0_row2\" class=\"row_heading level0 row2\" >user_score</th>\n",
       "      <td id=\"T_818c8_row2_col0\" class=\"data row2 col0\" >40.1</td>\n",
       "    </tr>\n",
       "    <tr>\n",
       "      <th id=\"T_818c8_level0_row3\" class=\"row_heading level0 row3\" >year_of_release</th>\n",
       "      <td id=\"T_818c8_row3_col0\" class=\"data row3 col0\" >1.6</td>\n",
       "    </tr>\n",
       "    <tr>\n",
       "      <th id=\"T_818c8_level0_row4\" class=\"row_heading level0 row4\" >name</th>\n",
       "      <td id=\"T_818c8_row4_col0\" class=\"data row4 col0\" >0.0</td>\n",
       "    </tr>\n",
       "    <tr>\n",
       "      <th id=\"T_818c8_level0_row5\" class=\"row_heading level0 row5\" >genre</th>\n",
       "      <td id=\"T_818c8_row5_col0\" class=\"data row5 col0\" >0.0</td>\n",
       "    </tr>\n",
       "    <tr>\n",
       "      <th id=\"T_818c8_level0_row6\" class=\"row_heading level0 row6\" >platform</th>\n",
       "      <td id=\"T_818c8_row6_col0\" class=\"data row6 col0\" >0.0</td>\n",
       "    </tr>\n",
       "    <tr>\n",
       "      <th id=\"T_818c8_level0_row7\" class=\"row_heading level0 row7\" >na_sales</th>\n",
       "      <td id=\"T_818c8_row7_col0\" class=\"data row7 col0\" >0.0</td>\n",
       "    </tr>\n",
       "    <tr>\n",
       "      <th id=\"T_818c8_level0_row8\" class=\"row_heading level0 row8\" >eu_sales</th>\n",
       "      <td id=\"T_818c8_row8_col0\" class=\"data row8 col0\" >0.0</td>\n",
       "    </tr>\n",
       "    <tr>\n",
       "      <th id=\"T_818c8_level0_row9\" class=\"row_heading level0 row9\" >jp_sales</th>\n",
       "      <td id=\"T_818c8_row9_col0\" class=\"data row9 col0\" >0.0</td>\n",
       "    </tr>\n",
       "    <tr>\n",
       "      <th id=\"T_818c8_level0_row10\" class=\"row_heading level0 row10\" >other_sales</th>\n",
       "      <td id=\"T_818c8_row10_col0\" class=\"data row10 col0\" >0.0</td>\n",
       "    </tr>\n",
       "  </tbody>\n",
       "</table>\n"
      ],
      "text/plain": [
       "<pandas.io.formats.style.Styler at 0x201c158b160>"
      ]
     },
     "execution_count": 18,
     "metadata": {},
     "output_type": "execute_result"
    }
   ],
   "source": [
    "# check\n",
    "def isna_view (df):\n",
    "    return  (\n",
    "                (df.isna().mean()*100)\n",
    "                .sort_values(ascending=False)\n",
    "                .to_frame()\n",
    "                .rename(columns = {0:'percent_space'})\n",
    "                .style.background_gradient('coolwarm').format(\"{:.1f}\")\n",
    "            )\n",
    "\n",
    "isna_view (data)"
   ]
  },
  {
   "cell_type": "markdown",
   "metadata": {},
   "source": [
    "Удалим 2 пропущенных значения в колонке `name` и `genre`, т.к. название мы не можем придумать и жанр тоже. 2 значения никак не повлияют на выборку из всего датафрейма."
   ]
  },
  {
   "cell_type": "code",
   "execution_count": 19,
   "metadata": {},
   "outputs": [
    {
     "data": {
      "text/html": [
       "<div>\n",
       "<style scoped>\n",
       "    .dataframe tbody tr th:only-of-type {\n",
       "        vertical-align: middle;\n",
       "    }\n",
       "\n",
       "    .dataframe tbody tr th {\n",
       "        vertical-align: top;\n",
       "    }\n",
       "\n",
       "    .dataframe thead th {\n",
       "        text-align: right;\n",
       "    }\n",
       "</style>\n",
       "<table border=\"1\" class=\"dataframe\">\n",
       "  <thead>\n",
       "    <tr style=\"text-align: right;\">\n",
       "      <th></th>\n",
       "      <th>name</th>\n",
       "      <th>platform</th>\n",
       "      <th>year_of_release</th>\n",
       "      <th>genre</th>\n",
       "      <th>na_sales</th>\n",
       "      <th>eu_sales</th>\n",
       "      <th>jp_sales</th>\n",
       "      <th>other_sales</th>\n",
       "      <th>critic_score</th>\n",
       "      <th>user_score</th>\n",
       "      <th>rating</th>\n",
       "    </tr>\n",
       "  </thead>\n",
       "  <tbody>\n",
       "    <tr>\n",
       "      <th>659</th>\n",
       "      <td>NaN</td>\n",
       "      <td>GEN</td>\n",
       "      <td>1993.0</td>\n",
       "      <td>NaN</td>\n",
       "      <td>1.78</td>\n",
       "      <td>0.53</td>\n",
       "      <td>0.00</td>\n",
       "      <td>0.08</td>\n",
       "      <td>NaN</td>\n",
       "      <td>NaN</td>\n",
       "      <td>NaN</td>\n",
       "    </tr>\n",
       "    <tr>\n",
       "      <th>14244</th>\n",
       "      <td>NaN</td>\n",
       "      <td>GEN</td>\n",
       "      <td>1993.0</td>\n",
       "      <td>NaN</td>\n",
       "      <td>0.00</td>\n",
       "      <td>0.00</td>\n",
       "      <td>0.03</td>\n",
       "      <td>0.00</td>\n",
       "      <td>NaN</td>\n",
       "      <td>NaN</td>\n",
       "      <td>NaN</td>\n",
       "    </tr>\n",
       "  </tbody>\n",
       "</table>\n",
       "</div>"
      ],
      "text/plain": [
       "      name platform  year_of_release genre  na_sales  eu_sales  jp_sales  \\\n",
       "659    NaN      GEN           1993.0   NaN      1.78      0.53      0.00   \n",
       "14244  NaN      GEN           1993.0   NaN      0.00      0.00      0.03   \n",
       "\n",
       "       other_sales  critic_score user_score rating  \n",
       "659           0.08           NaN        NaN    NaN  \n",
       "14244         0.00           NaN        NaN    NaN  "
      ]
     },
     "metadata": {},
     "output_type": "display_data"
    }
   ],
   "source": [
    "display(data[data['name'].isnull()])"
   ]
  },
  {
   "cell_type": "code",
   "execution_count": 20,
   "metadata": {},
   "outputs": [],
   "source": [
    "data = data.dropna(subset=['name']) "
   ]
  },
  {
   "cell_type": "markdown",
   "metadata": {},
   "source": [
    "Заменим значение аббревиатуры `tbd` в столбце на значение `Nan`. TDB - аббревиатура 'To Be Determined (будет определено)'. Оно испольщуется, если какая-то информация ещё не определена. Служит для отметки пропусков, которые необходимо заполнить."
   ]
  },
  {
   "cell_type": "code",
   "execution_count": 21,
   "metadata": {},
   "outputs": [],
   "source": [
    "data['user_score'] = data['user_score'].replace('tbd', np.nan)"
   ]
  },
  {
   "cell_type": "markdown",
   "metadata": {},
   "source": [
    "- Заполнить пропуски в столбце `rating` зачениями из записей с тем же типом мы не можем, т.к. у каждого жанра есть свои возрастные ограничения. Получается, что один и тот же жанр может иметь рейтинг `E` и `AO`. Следовательно мы не можем заполнять одинаковые жанры одинаковым рейтингом.\n",
    "- Столбцы `critic_score` и `user_score` заполнять какими-либо мединными/средними значениями не стоит, т.к. пропусков в этих столбцах слишком много (больше 30% от всего датафрейма). Когда будем формулировать гипотезы эти значения могут сильно повлиять на наши исследования.\n",
    "- `year_of_release` можно заполнить значением сильно отличающимся от значений этого слолбца (например 1850-1900), чтоб при дальнейшем исследовании сразу было видно эти аномалии.\n",
    "\n"
   ]
  },
  {
   "cell_type": "markdown",
   "metadata": {},
   "source": [
    "Причины , которые могли привести к пропускам - отсутсвие проверки заполнения ячеек, либо неправильный перенос/копирование данных."
   ]
  },
  {
   "cell_type": "markdown",
   "metadata": {},
   "source": [
    "### Изменение типов данных.\n",
    "- `year_of_release` - поменяем с `float64` на целочисленное, т.к. год не может быть 2007.43.\n",
    "- `user_score` - поменяем с `object` на `float64`, т.к. оценка может быть с плавающим числом."
   ]
  },
  {
   "cell_type": "code",
   "execution_count": 22,
   "metadata": {},
   "outputs": [],
   "source": [
    "data['year_of_release'] = data['year_of_release'].astype('Int64')\n",
    "\n",
    "data['user_score'] = data['user_score'].astype('float64')"
   ]
  },
  {
   "cell_type": "markdown",
   "metadata": {},
   "source": [
    "Проверим, что тип данных изменился."
   ]
  },
  {
   "cell_type": "code",
   "execution_count": 23,
   "metadata": {},
   "outputs": [
    {
     "name": "stdout",
     "output_type": "stream",
     "text": [
      "<class 'pandas.core.frame.DataFrame'>\n",
      "Int64Index: 16713 entries, 0 to 16714\n",
      "Data columns (total 11 columns):\n",
      " #   Column           Non-Null Count  Dtype  \n",
      "---  ------           --------------  -----  \n",
      " 0   name             16713 non-null  object \n",
      " 1   platform         16713 non-null  object \n",
      " 2   year_of_release  16444 non-null  Int64  \n",
      " 3   genre            16713 non-null  object \n",
      " 4   na_sales         16713 non-null  float64\n",
      " 5   eu_sales         16713 non-null  float64\n",
      " 6   jp_sales         16713 non-null  float64\n",
      " 7   other_sales      16713 non-null  float64\n",
      " 8   critic_score     8137 non-null   float64\n",
      " 9   user_score       7590 non-null   float64\n",
      " 10  rating           9949 non-null   object \n",
      "dtypes: Int64(1), float64(6), object(4)\n",
      "memory usage: 1.5+ MB\n"
     ]
    }
   ],
   "source": [
    "data.info()"
   ]
  },
  {
   "cell_type": "markdown",
   "metadata": {},
   "source": [
    "### Посчитаем суммарные продажи во всех регионах."
   ]
  },
  {
   "cell_type": "markdown",
   "metadata": {},
   "source": [
    "Суммируем колонки `na_sales, eu_sales, jp_sales, other_sales` в одну общую."
   ]
  },
  {
   "cell_type": "code",
   "execution_count": 24,
   "metadata": {},
   "outputs": [],
   "source": [
    "data['overall_sales'] = data.iloc[:, 4:8].sum(axis=1)"
   ]
  },
  {
   "cell_type": "code",
   "execution_count": 25,
   "metadata": {},
   "outputs": [
    {
     "data": {
      "text/html": [
       "<div>\n",
       "<style scoped>\n",
       "    .dataframe tbody tr th:only-of-type {\n",
       "        vertical-align: middle;\n",
       "    }\n",
       "\n",
       "    .dataframe tbody tr th {\n",
       "        vertical-align: top;\n",
       "    }\n",
       "\n",
       "    .dataframe thead th {\n",
       "        text-align: right;\n",
       "    }\n",
       "</style>\n",
       "<table border=\"1\" class=\"dataframe\">\n",
       "  <thead>\n",
       "    <tr style=\"text-align: right;\">\n",
       "      <th></th>\n",
       "      <th>name</th>\n",
       "      <th>platform</th>\n",
       "      <th>year_of_release</th>\n",
       "      <th>genre</th>\n",
       "      <th>na_sales</th>\n",
       "      <th>eu_sales</th>\n",
       "      <th>jp_sales</th>\n",
       "      <th>other_sales</th>\n",
       "      <th>critic_score</th>\n",
       "      <th>user_score</th>\n",
       "      <th>rating</th>\n",
       "      <th>overall_sales</th>\n",
       "    </tr>\n",
       "  </thead>\n",
       "  <tbody>\n",
       "    <tr>\n",
       "      <th>0</th>\n",
       "      <td>Wii Sports</td>\n",
       "      <td>Wii</td>\n",
       "      <td>2006</td>\n",
       "      <td>Sports</td>\n",
       "      <td>41.36</td>\n",
       "      <td>28.96</td>\n",
       "      <td>3.77</td>\n",
       "      <td>8.45</td>\n",
       "      <td>76.0</td>\n",
       "      <td>8.0</td>\n",
       "      <td>E</td>\n",
       "      <td>82.54</td>\n",
       "    </tr>\n",
       "    <tr>\n",
       "      <th>1</th>\n",
       "      <td>Super Mario Bros.</td>\n",
       "      <td>NES</td>\n",
       "      <td>1985</td>\n",
       "      <td>Platform</td>\n",
       "      <td>29.08</td>\n",
       "      <td>3.58</td>\n",
       "      <td>6.81</td>\n",
       "      <td>0.77</td>\n",
       "      <td>NaN</td>\n",
       "      <td>NaN</td>\n",
       "      <td>NaN</td>\n",
       "      <td>40.24</td>\n",
       "    </tr>\n",
       "    <tr>\n",
       "      <th>2</th>\n",
       "      <td>Mario Kart Wii</td>\n",
       "      <td>Wii</td>\n",
       "      <td>2008</td>\n",
       "      <td>Racing</td>\n",
       "      <td>15.68</td>\n",
       "      <td>12.76</td>\n",
       "      <td>3.79</td>\n",
       "      <td>3.29</td>\n",
       "      <td>82.0</td>\n",
       "      <td>8.3</td>\n",
       "      <td>E</td>\n",
       "      <td>35.52</td>\n",
       "    </tr>\n",
       "    <tr>\n",
       "      <th>3</th>\n",
       "      <td>Wii Sports Resort</td>\n",
       "      <td>Wii</td>\n",
       "      <td>2009</td>\n",
       "      <td>Sports</td>\n",
       "      <td>15.61</td>\n",
       "      <td>10.93</td>\n",
       "      <td>3.28</td>\n",
       "      <td>2.95</td>\n",
       "      <td>80.0</td>\n",
       "      <td>8.0</td>\n",
       "      <td>E</td>\n",
       "      <td>32.77</td>\n",
       "    </tr>\n",
       "    <tr>\n",
       "      <th>4</th>\n",
       "      <td>Pokemon Red/Pokemon Blue</td>\n",
       "      <td>GB</td>\n",
       "      <td>1996</td>\n",
       "      <td>Role-Playing</td>\n",
       "      <td>11.27</td>\n",
       "      <td>8.89</td>\n",
       "      <td>10.22</td>\n",
       "      <td>1.00</td>\n",
       "      <td>NaN</td>\n",
       "      <td>NaN</td>\n",
       "      <td>NaN</td>\n",
       "      <td>31.38</td>\n",
       "    </tr>\n",
       "  </tbody>\n",
       "</table>\n",
       "</div>"
      ],
      "text/plain": [
       "                       name platform  year_of_release         genre  na_sales  \\\n",
       "0                Wii Sports      Wii             2006        Sports     41.36   \n",
       "1         Super Mario Bros.      NES             1985      Platform     29.08   \n",
       "2            Mario Kart Wii      Wii             2008        Racing     15.68   \n",
       "3         Wii Sports Resort      Wii             2009        Sports     15.61   \n",
       "4  Pokemon Red/Pokemon Blue       GB             1996  Role-Playing     11.27   \n",
       "\n",
       "   eu_sales  jp_sales  other_sales  critic_score  user_score rating  \\\n",
       "0     28.96      3.77         8.45          76.0         8.0      E   \n",
       "1      3.58      6.81         0.77           NaN         NaN    NaN   \n",
       "2     12.76      3.79         3.29          82.0         8.3      E   \n",
       "3     10.93      3.28         2.95          80.0         8.0      E   \n",
       "4      8.89     10.22         1.00           NaN         NaN    NaN   \n",
       "\n",
       "   overall_sales  \n",
       "0          82.54  \n",
       "1          40.24  \n",
       "2          35.52  \n",
       "3          32.77  \n",
       "4          31.38  "
      ]
     },
     "execution_count": 25,
     "metadata": {},
     "output_type": "execute_result"
    }
   ],
   "source": [
    "data.head()"
   ]
  },
  {
   "cell_type": "code",
   "execution_count": 26,
   "metadata": {},
   "outputs": [
    {
     "name": "stdout",
     "output_type": "stream",
     "text": [
      "<class 'pandas.core.frame.DataFrame'>\n",
      "Int64Index: 16713 entries, 0 to 16714\n",
      "Data columns (total 12 columns):\n",
      " #   Column           Non-Null Count  Dtype  \n",
      "---  ------           --------------  -----  \n",
      " 0   name             16713 non-null  object \n",
      " 1   platform         16713 non-null  object \n",
      " 2   year_of_release  16444 non-null  Int64  \n",
      " 3   genre            16713 non-null  object \n",
      " 4   na_sales         16713 non-null  float64\n",
      " 5   eu_sales         16713 non-null  float64\n",
      " 6   jp_sales         16713 non-null  float64\n",
      " 7   other_sales      16713 non-null  float64\n",
      " 8   critic_score     8137 non-null   float64\n",
      " 9   user_score       7590 non-null   float64\n",
      " 10  rating           9949 non-null   object \n",
      " 11  overall_sales    16713 non-null  float64\n",
      "dtypes: Int64(1), float64(7), object(4)\n",
      "memory usage: 1.7+ MB\n"
     ]
    }
   ],
   "source": [
    "# check\n",
    "data.info()"
   ]
  },
  {
   "cell_type": "code",
   "execution_count": 27,
   "metadata": {},
   "outputs": [],
   "source": [
    "data['rating'] = data['rating'].fillna('undefined')"
   ]
  },
  {
   "cell_type": "code",
   "execution_count": 28,
   "metadata": {},
   "outputs": [
    {
     "data": {
      "text/plain": [
       "array(['E', 'undefined', 'M', 'T', 'E10+', 'K-A', 'AO', 'EC', 'RP'],\n",
       "      dtype=object)"
      ]
     },
     "execution_count": 28,
     "metadata": {},
     "output_type": "execute_result"
    }
   ],
   "source": [
    "data.rating.unique()"
   ]
  },
  {
   "cell_type": "markdown",
   "metadata": {},
   "source": [
    "## Проведём исследовательский анализ данных."
   ]
  },
  {
   "cell_type": "markdown",
   "metadata": {},
   "source": [
    "###  Посмотрим, сколько игр выпускалось в разные года."
   ]
  },
  {
   "cell_type": "code",
   "execution_count": 29,
   "metadata": {},
   "outputs": [
    {
     "data": {
      "image/png": "[encoded data removed]",
      "text/plain": [
       "<Figure size 864x288 with 1 Axes>"
      ]
     },
     "metadata": {
      "needs_background": "light"
     },
     "output_type": "display_data"
    }
   ],
   "source": [
    "ax = data.plot(y=['year_of_release'], bins=90, kind='hist', figsize=(12,4), grid=True)\n",
    "ax.set_xlabel('Год')\n",
    "ax.set_ylabel('Кол-во продаж')\n",
    "ax.set_title('График продаж игр по годам');"
   ]
  },
  {
   "cell_type": "markdown",
   "metadata": {},
   "source": [
    "Начиная с 2001 года ежегодный выпуск игр стабильно растёт вплоть до 2011 года. Затем мы видим сильную просадку в производстве, но она остаётся выше значений 2001. Поэтому важные данные нас интересуют с 2001 года."
   ]
  },
  {
   "cell_type": "markdown",
   "metadata": {},
   "source": [
    "---"
   ]
  },
  {
   "cell_type": "markdown",
   "metadata": {},
   "source": [
    "### Посмотрим как менялись продажи по платформам. "
   ]
  },
  {
   "cell_type": "code",
   "execution_count": 30,
   "metadata": {
    "scrolled": false
   },
   "outputs": [
    {
     "data": {
      "image/png": "[encoded data removed]",
      "text/plain": [
       "<Figure size 1080x432 with 1 Axes>"
      ]
     },
     "metadata": {
      "needs_background": "light"
     },
     "output_type": "display_data"
    }
   ],
   "source": [
    "# группируем платформы и сортируем платформы по продажам в порядке убывания\n",
    "grouped_platforms = data.groupby('platform')['overall_sales'].sum().sort_values(ascending = False).head(10)\n",
    "# делаем список из отсортированных платформ и записываем в переменную\n",
    "list_top_platforms = grouped_platforms.index.values.tolist()\n",
    "# делаем датафрейм топ платформ из списка\n",
    "top_platforms_df = data.query('platform in @list_top_platforms')\n",
    "\n",
    "# сделаем сводную таблицу\n",
    "pivot_top_platforms = top_platforms_df.pivot_table(index='platform', columns='year_of_release',\n",
    "                                                   values='overall_sales', aggfunc='sum')\n",
    "# транспонируем пивот, чтоб year_of_release стала колонкой\n",
    "pivot_top_platforms_t = pivot_top_platforms.T\n",
    "\n",
    "# строим график\n",
    "ax = pivot_top_platforms_t.plot(\n",
    "        figsize=(15,6),\n",
    "        grid=True)\n",
    "ax.set_title('Платформы с наибольшими суммарными продажами')\n",
    "ax.set_xlabel('Года')\n",
    "ax.set_ylabel('Кол-во продаж')\n",
    "plt.xlim([1990, 2018]);"
   ]
  },
  {
   "cell_type": "markdown",
   "metadata": {},
   "source": [
    "По графику видно, что среднее время появления новых и исчезания старых платформ около 8-10 лет. Платформа PC - хоть находится не на пике продаж по годам, зато самая стабильная, пришла издалека и уходит в будущее."
   ]
  },
  {
   "cell_type": "markdown",
   "metadata": {},
   "source": [
    "---"
   ]
  },
  {
   "cell_type": "markdown",
   "metadata": {},
   "source": [
    "### Возьмём данные для актуального периода.\n",
    "Актуальный период - последние 5 лет."
   ]
  },
  {
   "cell_type": "code",
   "execution_count": 31,
   "metadata": {
    "scrolled": true
   },
   "outputs": [
    {
     "data": {
      "text/plain": [
       "<IntegerArray>\n",
       "[2013, 2015, 2012, 2014, 2016]\n",
       "Length: 5, dtype: Int64"
      ]
     },
     "execution_count": 31,
     "metadata": {},
     "output_type": "execute_result"
    }
   ],
   "source": [
    "last_five_year_period_df = data[(data['year_of_release'] >= 2012)]\n",
    "last_five_year_period_df.year_of_release.unique()"
   ]
  },
  {
   "cell_type": "markdown",
   "metadata": {},
   "source": [
    "---"
   ]
  },
  {
   "cell_type": "markdown",
   "metadata": {},
   "source": [
    "### Какие платформы лидируют по продажам, растут или падают? "
   ]
  },
  {
   "cell_type": "code",
   "execution_count": 32,
   "metadata": {
    "scrolled": false
   },
   "outputs": [
    {
     "data": {
      "image/png": "[encoded data removed]",
      "text/plain": [
       "<Figure size 1080x432 with 1 Axes>"
      ]
     },
     "metadata": {
      "needs_background": "light"
     },
     "output_type": "display_data"
    }
   ],
   "source": [
    "# группируем платформы и сортируем платформы по продажам в порядке убывания за последние 5 лет\n",
    "grouped_platforms_last_five_years = last_five_year_period_df.groupby('platform')['overall_sales'].sum().sort_values(ascending = False).head(10)\n",
    "# делаем список из отсортированных платформ и записываем в переменную\n",
    "list_top_platforms_last_five_years = grouped_platforms_last_five_years.index.values.tolist()\n",
    "# делаем датафрейм топ платформ из списка\n",
    "top_platforms_last_five_years_df = last_five_year_period_df.query('platform in @list_top_platforms_last_five_years')\n",
    "\n",
    "# сделаем сводную таблицу\n",
    "pivot_top_platforms_last_five_years = top_platforms_last_five_years_df.pivot_table(index='platform',\n",
    "                                                    columns='year_of_release', values='overall_sales', aggfunc='sum')\n",
    "# транспонируем пивот, чтоб year_of_release стала колонкой\n",
    "pivot_top_platforms_last_five_years_t = pivot_top_platforms_last_five_years.T\n",
    "\n",
    "# строим график\n",
    "ax = pivot_top_platforms_last_five_years_t.plot(\n",
    "        figsize=(15,6),\n",
    "        grid=True)\n",
    "ax.set_title('Платформы с наибольшими суммарными продажами за последние 5 лет.')\n",
    "ax.set_xlabel('Года')\n",
    "ax.set_ylabel('Кол-во продаж')\n",
    "plt.xlim([2012, 2016]);"
   ]
  },
  {
   "cell_type": "markdown",
   "metadata": {},
   "source": [
    "Актуальный период возьмём с `2012 года`. Последние 5 лет дадут более точные прогнозы на будущее.\n",
    "\n",
    "Из графика \"Платформы с наибольшими суммарными продажами за последние 5 лет.\" можно сделать вывод, что лидирующие платформы это `PS4, XOne, 3DS`. Данные показывают, что идёт тенденация снижения продаж, но эти производители являются лидерами среди топовых платформ."
   ]
  },
  {
   "cell_type": "markdown",
   "metadata": {},
   "source": [
    "---"
   ]
  },
  {
   "cell_type": "markdown",
   "metadata": {},
   "source": [
    "### Построим график «ящик с усами» по глобальным продажам игр в разбивке по платформам. "
   ]
  },
  {
   "cell_type": "code",
   "execution_count": 33,
   "metadata": {},
   "outputs": [
    {
     "data": {
      "image/png": "[encoded data removed]",
      "text/plain": [
       "<Figure size 1152x576 with 1 Axes>"
      ]
     },
     "metadata": {
      "needs_background": "light"
     },
     "output_type": "display_data"
    }
   ],
   "source": [
    "ax = last_five_year_period_df.query('platform in @list_top_platforms_last_five_years')   \n",
    "ax.boxplot(\n",
    "    'overall_sales',\n",
    "    by='platform',\n",
    "    grid = True,\n",
    "    figsize=(16,8)\n",
    ");"
   ]
  },
  {
   "cell_type": "markdown",
   "metadata": {},
   "source": [
    "Из графика можно сделать вывод, что все платформы находятся примерно в едином диапазоне по продажам. Пики (выбросы) по продажам проявляются в основном у линейки производителя `PlayStation` разных поколений."
   ]
  },
  {
   "cell_type": "code",
   "execution_count": 34,
   "metadata": {
    "scrolled": false
   },
   "outputs": [
    {
     "data": {
      "image/png": "[encoded data removed]",
      "text/plain": [
       "<Figure size 1152x576 with 1 Axes>"
      ]
     },
     "metadata": {
      "needs_background": "light"
     },
     "output_type": "display_data"
    }
   ],
   "source": [
    "ax = last_five_year_period_df.query('platform in @list_top_platforms_last_five_years')   \n",
    "ax.boxplot(\n",
    "    'overall_sales',\n",
    "    by='platform',\n",
    "    grid = True,\n",
    "    figsize=(16,8)\n",
    ")\n",
    "plt.ylim(0, 2);"
   ]
  },
  {
   "cell_type": "markdown",
   "metadata": {},
   "source": [
    "---"
   ]
  },
  {
   "cell_type": "markdown",
   "metadata": {},
   "source": [
    "### Посмотрим, как влияют на продажи внутри одной популярной платформы отзывы пользователей и критиков. \n",
    "Постром диаграмму рассеяния и посчитаем корреляцию между отзывами и продажами."
   ]
  },
  {
   "cell_type": "code",
   "execution_count": 35,
   "metadata": {},
   "outputs": [
    {
     "data": {
      "text/html": [
       "<div>\n",
       "<style scoped>\n",
       "    .dataframe tbody tr th:only-of-type {\n",
       "        vertical-align: middle;\n",
       "    }\n",
       "\n",
       "    .dataframe tbody tr th {\n",
       "        vertical-align: top;\n",
       "    }\n",
       "\n",
       "    .dataframe thead th {\n",
       "        text-align: right;\n",
       "    }\n",
       "</style>\n",
       "<table border=\"1\" class=\"dataframe\">\n",
       "  <thead>\n",
       "    <tr style=\"text-align: right;\">\n",
       "      <th></th>\n",
       "      <th>platform</th>\n",
       "      <th>overall_sales</th>\n",
       "    </tr>\n",
       "  </thead>\n",
       "  <tbody>\n",
       "    <tr>\n",
       "      <th>3</th>\n",
       "      <td>PS3</td>\n",
       "      <td>493</td>\n",
       "    </tr>\n",
       "    <tr>\n",
       "      <th>6</th>\n",
       "      <td>PSV</td>\n",
       "      <td>411</td>\n",
       "    </tr>\n",
       "    <tr>\n",
       "      <th>0</th>\n",
       "      <td>3DS</td>\n",
       "      <td>396</td>\n",
       "    </tr>\n",
       "    <tr>\n",
       "      <th>4</th>\n",
       "      <td>PS4</td>\n",
       "      <td>392</td>\n",
       "    </tr>\n",
       "    <tr>\n",
       "      <th>9</th>\n",
       "      <td>X360</td>\n",
       "      <td>292</td>\n",
       "    </tr>\n",
       "    <tr>\n",
       "      <th>2</th>\n",
       "      <td>PC</td>\n",
       "      <td>250</td>\n",
       "    </tr>\n",
       "    <tr>\n",
       "      <th>10</th>\n",
       "      <td>XOne</td>\n",
       "      <td>247</td>\n",
       "    </tr>\n",
       "    <tr>\n",
       "      <th>5</th>\n",
       "      <td>PSP</td>\n",
       "      <td>173</td>\n",
       "    </tr>\n",
       "    <tr>\n",
       "      <th>8</th>\n",
       "      <td>WiiU</td>\n",
       "      <td>147</td>\n",
       "    </tr>\n",
       "    <tr>\n",
       "      <th>7</th>\n",
       "      <td>Wii</td>\n",
       "      <td>54</td>\n",
       "    </tr>\n",
       "  </tbody>\n",
       "</table>\n",
       "</div>"
      ],
      "text/plain": [
       "   platform  overall_sales\n",
       "3       PS3            493\n",
       "6       PSV            411\n",
       "0       3DS            396\n",
       "4       PS4            392\n",
       "9      X360            292\n",
       "2        PC            250\n",
       "10     XOne            247\n",
       "5       PSP            173\n",
       "8      WiiU            147\n",
       "7       Wii             54"
      ]
     },
     "execution_count": 35,
     "metadata": {},
     "output_type": "execute_result"
    }
   ],
   "source": [
    "# выберем популярную платформу по сумме продаж PS3\n",
    "popular_platform = last_five_year_period_df.pivot_table(index='platform', values='overall_sales', aggfunc='count').reset_index()\n",
    "popular_platform.sort_values(by='overall_sales', ascending = False).head(10)"
   ]
  },
  {
   "cell_type": "code",
   "execution_count": 36,
   "metadata": {
    "scrolled": false
   },
   "outputs": [
    {
     "name": "stdout",
     "output_type": "stream",
     "text": [
      "Коэффициент Пирсона 0.0 - нет линейной зависимости.\n"
     ]
    },
    {
     "data": {
      "image/png": "[encoded data removed]",
      "text/plain": [
       "<Figure size 720x360 with 1 Axes>"
      ]
     },
     "metadata": {
      "needs_background": "light"
     },
     "output_type": "display_data"
    }
   ],
   "source": [
    "# график по отзывам пользователей\n",
    "last_five_year_period_df[last_five_year_period_df['platform'] == 'PS3'].plot(\n",
    "    kind='scatter', y='overall_sales', x='user_score', \n",
    "    alpha=0.5, figsize=(10,5), c = 'b', s = 10, grid=True,\n",
    "    label = 'PS3')\n",
    "plt.title('Диаграмма рассеяния PS3 платформы- Отзывы пользователей - Общий объём продаж')\n",
    "print(f'Коэффициент Пирсона {last_five_year_period_df[\"overall_sales\"].corr(last_five_year_period_df[\"user_score\"]).round(decimals=2)} - нет линейной зависимости.');"
   ]
  },
  {
   "cell_type": "code",
   "execution_count": 41,
   "metadata": {
    "scrolled": false
   },
   "outputs": [
    {
     "name": "stdout",
     "output_type": "stream",
     "text": [
      "Коэффициент Пирсона 0.31 - умеренная линейная зависимость.\n"
     ]
    },
    {
     "data": {
      "image/png": "[encoded data removed]",
      "text/plain": [
       "<Figure size 720x360 with 1 Axes>"
      ]
     },
     "metadata": {
      "needs_background": "light"
     },
     "output_type": "display_data"
    }
   ],
   "source": [
    "# график по отзывам пользователей\n",
    "last_five_year_period_df[last_five_year_period_df['platform'] == 'PS3'].plot(\n",
    "    kind='scatter', y='overall_sales', x='critic_score',\n",
    "    alpha=0.5, figsize=(10,5), c = 'r', s = 10, grid=True,\n",
    "    label = 'PS3')\n",
    "plt.title('Диаграмма рассеяния PS3 платформы - Отзывы критиков - Общий объём продаж')\n",
    "\n",
    "x = last_five_year_period_df[\"overall_sales\"]\\\n",
    ".corr(last_five_year_period_df[\"critic_score\"]).round(decimals=2)\n",
    "\n",
    "print((f'Коэффициент Пирсона {x} - умеренная линейная зависимость.'));"
   ]
  },
  {
   "cell_type": "markdown",
   "metadata": {},
   "source": [
    "Из графиков видно, что оценки пользователей и критиков во многом совпадают. Корреляция между оценками пользователей и количеством продаж равно 0, а вот оценка критиков имеет умеренное влияние на продажу."
   ]
  },
  {
   "cell_type": "code",
   "execution_count": 42,
   "metadata": {},
   "outputs": [
    {
     "name": "stdout",
     "output_type": "stream",
     "text": [
      "AxesSubplot(0.125,0.125;0.775x0.755) AxesSubplot(0.125,0.125;0.775x0.755) AxesSubplot(0.125,0.125;0.775x0.755)\n",
      "AxesSubplot(0.125,0.125;0.775x0.755) AxesSubplot(0.125,0.125;0.775x0.755) AxesSubplot(0.125,0.125;0.775x0.755)\n"
     ]
    },
    {
     "data": {
      "image/png": "[encoded data removed]",
      "text/plain": [
       "<Figure size 864x360 with 1 Axes>"
      ]
     },
     "metadata": {
      "needs_background": "light"
     },
     "output_type": "display_data"
    },
    {
     "data": {
      "image/png": "[encoded data removed]",
      "text/plain": [
       "<Figure size 864x360 with 1 Axes>"
      ]
     },
     "metadata": {
      "needs_background": "light"
     },
     "output_type": "display_data"
    }
   ],
   "source": [
    "# диаграмма рассеяния пользователей\n",
    "ax1 = last_five_year_period_df[last_five_year_period_df['platform'] == 'XOne'].plot(\n",
    "    kind='scatter', y='overall_sales', x='user_score',\n",
    "    alpha=0.4, figsize=(5,5), c = 'b', s = 20, grid=True, label = 'XOne');\n",
    "\n",
    "ax2 = last_five_year_period_df[last_five_year_period_df['platform'] == 'PS4'].plot(\n",
    "    kind='scatter', y='overall_sales', x='user_score',\n",
    "    alpha=0.4, figsize=(12,5), c = 'r', s = 20, grid=True, ax=ax1, label='PS4');\n",
    "\n",
    "ax3 = last_five_year_period_df[last_five_year_period_df['platform'] == 'PC'].plot(\n",
    "    kind='scatter', y='overall_sales', x='user_score',\n",
    "    alpha=0.4, figsize=(12,5), c = 'g', s = 20, grid=True, ax=ax1, label='PC');\n",
    "\n",
    "plt.title('Диаграмма рассеяния платформ - Отзывы пользователей - Общий объём продаж');\n",
    "print(ax1 , ax2, ax3);\n",
    "\n",
    "# диаграмма рассеяния критиков\n",
    "ax4 = last_five_year_period_df[last_five_year_period_df['platform'] == 'XOne'].plot(\n",
    "    kind='scatter', y='overall_sales', x='critic_score',\n",
    "    alpha=0.4, figsize=(5,5), c = 'b', s = 20, grid=True, label = 'XOne');\n",
    "\n",
    "ax5 = last_five_year_period_df[last_five_year_period_df['platform'] == 'PS4'].plot(\n",
    "    kind='scatter', y='overall_sales', x='critic_score',\n",
    "    alpha=0.4, figsize=(12,5), c = 'r', s = 20, grid=True, ax=ax4, label='PS4');\n",
    "\n",
    "ax6 = last_five_year_period_df[last_five_year_period_df['platform'] == 'PC'].plot(\n",
    "    kind='scatter', y='overall_sales', x='critic_score',\n",
    "    alpha=0.4, figsize=(12,5), c = 'g', s = 20, grid=True, ax=ax4, label='PC');\n",
    "\n",
    "plt.title('Диаграмма рассеяния платформ - Отзывы критиков - Общий объём продаж');\n",
    "print(ax4, ax5, ax6);"
   ]
  },
  {
   "cell_type": "markdown",
   "metadata": {},
   "source": [
    "---"
   ]
  },
  {
   "cell_type": "markdown",
   "metadata": {},
   "source": [
    "### Посмотрим на общее распределение игр по жанрам."
   ]
  },
  {
   "cell_type": "code",
   "execution_count": 43,
   "metadata": {},
   "outputs": [
    {
     "data": {
      "image/png": "[encoded data removed]",
      "text/plain": [
       "<Figure size 720x360 with 1 Axes>"
      ]
     },
     "metadata": {
      "needs_background": "light"
     },
     "output_type": "display_data"
    }
   ],
   "source": [
    "ax = last_five_year_period_df.groupby('genre')['overall_sales'].sum()\n",
    "ax.plot(\n",
    "    kind='bar',\n",
    "    y='genre',\n",
    "    grid=True,\n",
    "    figsize=(10,5),\n",
    "    title='Общее распределение продаж игр по жанрам.',\n",
    "    xlabel='Жанр',\n",
    "    ylabel='Количество продаж'\n",
    ");"
   ]
  },
  {
   "cell_type": "markdown",
   "metadata": {},
   "source": [
    "Самыми прибыльными жанрами и популярными по продажам являются `Action, Shooter, RP, Sports`. Также выделяются жанры с низкими продажами такие как `Puzzle, Adventure, Strategy`. Из этого графика можно сделать вывод, что усидчивость и вдумчивость нынче не в моде."
   ]
  },
  {
   "cell_type": "code",
   "execution_count": 44,
   "metadata": {},
   "outputs": [
    {
     "data": {
      "image/png": "[encoded data removed]",
      "text/plain": [
       "<Figure size 1152x576 with 1 Axes>"
      ]
     },
     "metadata": {
      "needs_background": "light"
     },
     "output_type": "display_data"
    }
   ],
   "source": [
    "last_five_year_period_df.boxplot(\n",
    "    'overall_sales',\n",
    "    by='genre',\n",
    "    grid = True,\n",
    "    figsize=(16,8)\n",
    ");"
   ]
  },
  {
   "cell_type": "code",
   "execution_count": 45,
   "metadata": {},
   "outputs": [
    {
     "data": {
      "image/png": "[encoded data removed]",
      "text/plain": [
       "<Figure size 1152x576 with 1 Axes>"
      ]
     },
     "metadata": {
      "needs_background": "light"
     },
     "output_type": "display_data"
    }
   ],
   "source": [
    "last_five_year_period_df.boxplot(\n",
    "    'overall_sales',\n",
    "    by='genre',\n",
    "    grid = True,\n",
    "    figsize=(16,8)\n",
    ")\n",
    "plt.ylim(0, 3.5);"
   ]
  },
  {
   "cell_type": "markdown",
   "metadata": {},
   "source": [
    "---"
   ]
  },
  {
   "cell_type": "markdown",
   "metadata": {},
   "source": [
    "## Составляем портрет пользователя каждого региона."
   ]
  },
  {
   "cell_type": "markdown",
   "metadata": {},
   "source": [
    "**Определим для пользователя каждого региона (NA, EU, JP):**"
   ]
  },
  {
   "cell_type": "markdown",
   "metadata": {},
   "source": [
    "### Самые популярные платформы (топ-5). Опишем разлчия в долях продаж."
   ]
  },
  {
   "cell_type": "code",
   "execution_count": 46,
   "metadata": {},
   "outputs": [
    {
     "data": {
      "image/png": "[encoded data removed]",
      "text/plain": [
       "<Figure size 432x288 with 1 Axes>"
      ]
     },
     "metadata": {
      "needs_background": "light"
     },
     "output_type": "display_data"
    }
   ],
   "source": [
    "na_platform = last_five_year_period_df.groupby('platform')['na_sales'].sum().sort_values(ascending = False).head(5)\n",
    "na_platform.plot(kind='bar', grid=True);"
   ]
  },
  {
   "cell_type": "code",
   "execution_count": 47,
   "metadata": {},
   "outputs": [
    {
     "data": {
      "image/png": "[encoded data removed]",
      "text/plain": [
       "<Figure size 432x288 with 1 Axes>"
      ]
     },
     "metadata": {
      "needs_background": "light"
     },
     "output_type": "display_data"
    }
   ],
   "source": [
    "eu_platform = last_five_year_period_df.groupby('platform')['eu_sales'].sum().sort_values(ascending = False).head(5)\n",
    "eu_platform.plot(kind='bar', grid=True);"
   ]
  },
  {
   "cell_type": "code",
   "execution_count": 48,
   "metadata": {},
   "outputs": [
    {
     "data": {
      "image/png": "[encoded data removed]",
      "text/plain": [
       "<Figure size 432x288 with 1 Axes>"
      ]
     },
     "metadata": {
      "needs_background": "light"
     },
     "output_type": "display_data"
    }
   ],
   "source": [
    "jp_platform = last_five_year_period_df.groupby('platform')['jp_sales'].sum().sort_values(ascending = False).head(5)\n",
    "jp_platform.plot(kind='bar', grid=True);"
   ]
  },
  {
   "cell_type": "markdown",
   "metadata": {},
   "source": [
    "Самым большим рынком по покупкам разных платформ является Северна Америка (NA). Япония же в свою очередь находится на последнем месте по объёмам покупок, в середине обосновалась Европе. Лидерами продаж являются платформы `PS4 и PS3` - их покупают в каждой стране."
   ]
  },
  {
   "cell_type": "markdown",
   "metadata": {},
   "source": [
    "### Самые популярные жанры (топ-5)."
   ]
  },
  {
   "cell_type": "code",
   "execution_count": 49,
   "metadata": {},
   "outputs": [
    {
     "data": {
      "image/png": "[encoded data removed]",
      "text/plain": [
       "<Figure size 432x288 with 1 Axes>"
      ]
     },
     "metadata": {
      "needs_background": "light"
     },
     "output_type": "display_data"
    }
   ],
   "source": [
    "na_genre = last_five_year_period_df.groupby('genre')['na_sales'].sum().sort_values(ascending = False).head(5)\n",
    "na_genre.plot(kind='bar', grid=True);"
   ]
  },
  {
   "cell_type": "code",
   "execution_count": 50,
   "metadata": {},
   "outputs": [
    {
     "data": {
      "image/png": "[encoded data removed]",
      "text/plain": [
       "<Figure size 432x288 with 1 Axes>"
      ]
     },
     "metadata": {
      "needs_background": "light"
     },
     "output_type": "display_data"
    }
   ],
   "source": [
    "eu_genre = last_five_year_period_df.groupby('genre')['eu_sales'].sum().sort_values(ascending = False).head(5)\n",
    "eu_genre.plot(kind='bar', grid=True);"
   ]
  },
  {
   "cell_type": "code",
   "execution_count": 51,
   "metadata": {},
   "outputs": [
    {
     "data": {
      "image/png": "[encoded data removed]",
      "text/plain": [
       "<Figure size 432x288 with 1 Axes>"
      ]
     },
     "metadata": {
      "needs_background": "light"
     },
     "output_type": "display_data"
    }
   ],
   "source": [
    "jp_genre = last_five_year_period_df.groupby('genre')['jp_sales'].sum().sort_values(ascending = False).head(5)\n",
    "jp_genre.plot(kind='bar', grid=True);"
   ]
  },
  {
   "cell_type": "markdown",
   "metadata": {},
   "source": [
    "Япония занимает опять же последнее место по количеству покупаемых игр на различные платформы. Самыми популярными жанрами среди всех стран являются `Action и Shooter`. Несмотря на то, что жанр `Shooter` отсутствует в топ покупках у Японии, количество продаж в странах Евпропы и Северной Америки совокупно выше, чем лидирующй жанр у Японии `Role-Playing`."
   ]
  },
  {
   "cell_type": "code",
   "execution_count": 52,
   "metadata": {},
   "outputs": [],
   "source": [
    "# создаём отдельный датафрейм с топ жанрами и платформами по регионам\n",
    "top_regions_pl_gn = pd.DataFrame().assign(top_na_pl=last_five_year_period_df['platform'],\n",
    "                                          top_eu_pl=last_five_year_period_df['platform'],\n",
    "                                          top_jp_pl=last_five_year_period_df['platform'],\n",
    "                                          top_na_gn=last_five_year_period_df['genre'],\n",
    "                                          top_eu_gn=last_five_year_period_df['genre'],\n",
    "                                          top_jp_gn=last_five_year_period_df['genre'],\n",
    "                                          na_sales=last_five_year_period_df['na_sales'],\n",
    "                                          eu_sales=last_five_year_period_df['eu_sales'],\n",
    "                                          jp_sales=last_five_year_period_df['jp_sales'])\n",
    "\n",
    "# группируем данные по платформам для каждого региона\n",
    "grouped_na_platform = top_regions_pl_gn.groupby('top_na_pl')['na_sales'].sum().sort_values(ascending = False).head(5)\n",
    "grouped_eu_platform = top_regions_pl_gn.groupby('top_eu_pl')['eu_sales'].sum().sort_values(ascending = False).head(5)\n",
    "grouped_jp_platform = top_regions_pl_gn.groupby('top_jp_pl')['jp_sales'].sum().sort_values(ascending = False).head(5)\n",
    "# группируем данные по платформам для каждого региона\n",
    "grouped_na_genre = top_regions_pl_gn.groupby('top_na_gn')['na_sales'].sum().sort_values(ascending = False).head(5)\n",
    "grouped_eu_genre = top_regions_pl_gn.groupby('top_eu_gn')['eu_sales'].sum().sort_values(ascending = False).head(5)\n",
    "grouped_jp_genre = top_regions_pl_gn.groupby('top_jp_gn')['jp_sales'].sum().sort_values(ascending = False).head(5)\n",
    "\n",
    "\n",
    "# создаём список из топ платформ по каждому региону\n",
    "grouped_na_list_p = grouped_na_platform.index.values.tolist()\n",
    "grouped_eu_list_p = grouped_eu_platform.index.values.tolist()\n",
    "grouped_jp_list_p = grouped_jp_platform.index.values.tolist()\n",
    "# создаём список из топ платформ по каждому региону\n",
    "grouped_na_list_g = grouped_na_genre.index.values.tolist()\n",
    "grouped_eu_list_g = grouped_eu_genre.index.values.tolist()\n",
    "grouped_jp_list_g = grouped_jp_genre.index.values.tolist()\n",
    "\n",
    "\n",
    "# изменяим значения для платформ, что не входят в топ5 \n",
    "top_regions_pl_gn.loc[~top_regions_pl_gn['top_na_pl'].isin(grouped_na_list_p), 'top_na_pl'] = 'other'\n",
    "top_regions_pl_gn.loc[~top_regions_pl_gn['top_eu_pl'].isin(grouped_eu_list_p), 'top_eu_pl'] = 'other'\n",
    "top_regions_pl_gn.loc[~top_regions_pl_gn['top_jp_pl'].isin(grouped_jp_list_p), 'top_jp_pl'] = 'other'\n",
    "# изменяим значения для жанров, что не входят в топ5 \n",
    "top_regions_pl_gn.loc[~top_regions_pl_gn['top_na_gn'].isin(grouped_na_list_g), 'top_na_gn'] = 'other'\n",
    "top_regions_pl_gn.loc[~top_regions_pl_gn['top_eu_gn'].isin(grouped_eu_list_g), 'top_eu_gn'] = 'other'\n",
    "top_regions_pl_gn.loc[~top_regions_pl_gn['top_jp_gn'].isin(grouped_jp_list_g), 'top_jp_gn'] = 'other'"
   ]
  },
  {
   "cell_type": "code",
   "execution_count": 53,
   "metadata": {},
   "outputs": [
    {
     "data": {
      "image/png": "[encoded data removed]",
      "text/plain": [
       "<Figure size 1152x720 with 3 Axes>"
      ]
     },
     "metadata": {},
     "output_type": "display_data"
    }
   ],
   "source": [
    "fig = top_regions_pl_gn.groupby(['top_na_pl']).sum().plot(kind='pie', subplots=True, shadow = True, legend = False, \n",
    "                                                                startangle=90, figsize=(16,10), autopct='%1.1f%%');\n"
   ]
  },
  {
   "cell_type": "code",
   "execution_count": 55,
   "metadata": {
    "scrolled": true
   },
   "outputs": [
    {
     "data": {
      "text/html": [
       "<div>\n",
       "<style scoped>\n",
       "    .dataframe tbody tr th:only-of-type {\n",
       "        vertical-align: middle;\n",
       "    }\n",
       "\n",
       "    .dataframe tbody tr th {\n",
       "        vertical-align: top;\n",
       "    }\n",
       "\n",
       "    .dataframe thead th {\n",
       "        text-align: right;\n",
       "    }\n",
       "</style>\n",
       "<table border=\"1\" class=\"dataframe\">\n",
       "  <thead>\n",
       "    <tr style=\"text-align: right;\">\n",
       "      <th></th>\n",
       "      <th>na_sales</th>\n",
       "      <th>eu_sales</th>\n",
       "      <th>jp_sales</th>\n",
       "    </tr>\n",
       "    <tr>\n",
       "      <th>top_na_pl</th>\n",
       "      <th></th>\n",
       "      <th></th>\n",
       "      <th></th>\n",
       "    </tr>\n",
       "  </thead>\n",
       "  <tbody>\n",
       "    <tr>\n",
       "      <th>3DS</th>\n",
       "      <td>55.31</td>\n",
       "      <td>42.64</td>\n",
       "      <td>87.79</td>\n",
       "    </tr>\n",
       "    <tr>\n",
       "      <th>PS3</th>\n",
       "      <td>103.38</td>\n",
       "      <td>106.86</td>\n",
       "      <td>35.29</td>\n",
       "    </tr>\n",
       "    <tr>\n",
       "      <th>PS4</th>\n",
       "      <td>108.74</td>\n",
       "      <td>141.09</td>\n",
       "      <td>15.96</td>\n",
       "    </tr>\n",
       "    <tr>\n",
       "      <th>X360</th>\n",
       "      <td>140.05</td>\n",
       "      <td>74.52</td>\n",
       "      <td>1.57</td>\n",
       "    </tr>\n",
       "    <tr>\n",
       "      <th>XOne</th>\n",
       "      <td>93.12</td>\n",
       "      <td>51.59</td>\n",
       "      <td>0.34</td>\n",
       "    </tr>\n",
       "    <tr>\n",
       "      <th>other</th>\n",
       "      <td>90.37</td>\n",
       "      <td>90.12</td>\n",
       "      <td>51.63</td>\n",
       "    </tr>\n",
       "  </tbody>\n",
       "</table>\n",
       "</div>"
      ],
      "text/plain": [
       "           na_sales  eu_sales  jp_sales\n",
       "top_na_pl                              \n",
       "3DS           55.31     42.64     87.79\n",
       "PS3          103.38    106.86     35.29\n",
       "PS4          108.74    141.09     15.96\n",
       "X360         140.05     74.52      1.57\n",
       "XOne          93.12     51.59      0.34\n",
       "other         90.37     90.12     51.63"
      ]
     },
     "execution_count": 55,
     "metadata": {},
     "output_type": "execute_result"
    }
   ],
   "source": [
    "# check\n",
    "top_regions_pl_gn.groupby(['top_na_pl']).sum()"
   ]
  },
  {
   "cell_type": "code",
   "execution_count": 56,
   "metadata": {},
   "outputs": [
    {
     "data": {
      "text/html": [
       "<div>\n",
       "<style scoped>\n",
       "    .dataframe tbody tr th:only-of-type {\n",
       "        vertical-align: middle;\n",
       "    }\n",
       "\n",
       "    .dataframe tbody tr th {\n",
       "        vertical-align: top;\n",
       "    }\n",
       "\n",
       "    .dataframe thead th {\n",
       "        text-align: right;\n",
       "    }\n",
       "</style>\n",
       "<table border=\"1\" class=\"dataframe\">\n",
       "  <thead>\n",
       "    <tr style=\"text-align: right;\">\n",
       "      <th></th>\n",
       "      <th>na_sales</th>\n",
       "      <th>eu_sales</th>\n",
       "      <th>jp_sales</th>\n",
       "    </tr>\n",
       "    <tr>\n",
       "      <th>top_jp_pl</th>\n",
       "      <th></th>\n",
       "      <th></th>\n",
       "      <th></th>\n",
       "    </tr>\n",
       "  </thead>\n",
       "  <tbody>\n",
       "    <tr>\n",
       "      <th>3DS</th>\n",
       "      <td>55.31</td>\n",
       "      <td>42.64</td>\n",
       "      <td>87.79</td>\n",
       "    </tr>\n",
       "    <tr>\n",
       "      <th>PS3</th>\n",
       "      <td>103.38</td>\n",
       "      <td>106.86</td>\n",
       "      <td>35.29</td>\n",
       "    </tr>\n",
       "    <tr>\n",
       "      <th>PS4</th>\n",
       "      <td>108.74</td>\n",
       "      <td>141.09</td>\n",
       "      <td>15.96</td>\n",
       "    </tr>\n",
       "    <tr>\n",
       "      <th>PSV</th>\n",
       "      <td>10.98</td>\n",
       "      <td>11.36</td>\n",
       "      <td>21.04</td>\n",
       "    </tr>\n",
       "    <tr>\n",
       "      <th>WiiU</th>\n",
       "      <td>38.10</td>\n",
       "      <td>25.13</td>\n",
       "      <td>13.01</td>\n",
       "    </tr>\n",
       "    <tr>\n",
       "      <th>other</th>\n",
       "      <td>274.46</td>\n",
       "      <td>179.74</td>\n",
       "      <td>19.49</td>\n",
       "    </tr>\n",
       "  </tbody>\n",
       "</table>\n",
       "</div>"
      ],
      "text/plain": [
       "           na_sales  eu_sales  jp_sales\n",
       "top_jp_pl                              \n",
       "3DS           55.31     42.64     87.79\n",
       "PS3          103.38    106.86     35.29\n",
       "PS4          108.74    141.09     15.96\n",
       "PSV           10.98     11.36     21.04\n",
       "WiiU          38.10     25.13     13.01\n",
       "other        274.46    179.74     19.49"
      ]
     },
     "execution_count": 56,
     "metadata": {},
     "output_type": "execute_result"
    }
   ],
   "source": [
    "# check\n",
    "top_regions_pl_gn.groupby(['top_jp_pl']).sum()"
   ]
  },
  {
   "cell_type": "code",
   "execution_count": 57,
   "metadata": {},
   "outputs": [
    {
     "data": {
      "image/png": "[encoded data removed]",
      "text/plain": [
       "<Figure size 1152x720 with 3 Axes>"
      ]
     },
     "metadata": {},
     "output_type": "display_data"
    }
   ],
   "source": [
    "top_regions_pl_gn.groupby(['top_na_gn']).sum().plot(kind='pie', subplots=True, shadow = True, legend = False,\n",
    "                                                    startangle=90, figsize=(16,10), autopct='%1.1f%%');"
   ]
  },
  {
   "cell_type": "markdown",
   "metadata": {},
   "source": [
    "### Влияние рейтинга ESRB на продажми в отдельных регионах."
   ]
  },
  {
   "cell_type": "code",
   "execution_count": 59,
   "metadata": {},
   "outputs": [
    {
     "data": {
      "image/png": "[encoded data removed]",
      "text/plain": [
       "<Figure size 432x288 with 1 Axes>"
      ]
     },
     "metadata": {
      "needs_background": "light"
     },
     "output_type": "display_data"
    }
   ],
   "source": [
    "na_rating = last_five_year_period_df.groupby('rating')['na_sales'].sum().sort_values(ascending = False).head(5)\n",
    "na_rating.plot(kind='bar', grid=True);"
   ]
  },
  {
   "cell_type": "code",
   "execution_count": 60,
   "metadata": {
    "scrolled": true
   },
   "outputs": [
    {
     "data": {
      "image/png": "[encoded data removed]",
      "text/plain": [
       "<Figure size 432x288 with 1 Axes>"
      ]
     },
     "metadata": {
      "needs_background": "light"
     },
     "output_type": "display_data"
    }
   ],
   "source": [
    "eu_rating = last_five_year_period_df.groupby('rating')['eu_sales'].sum().sort_values(ascending = False).head(5)\n",
    "eu_rating.plot(kind='bar', grid=True);"
   ]
  },
  {
   "cell_type": "code",
   "execution_count": 61,
   "metadata": {},
   "outputs": [
    {
     "data": {
      "image/png": "[encoded data removed]",
      "text/plain": [
       "<Figure size 432x288 with 1 Axes>"
      ]
     },
     "metadata": {
      "needs_background": "light"
     },
     "output_type": "display_data"
    }
   ],
   "source": [
    "jp_rating = last_five_year_period_df.groupby('rating')['jp_sales'].sum().sort_values(ascending = False).head(5)\n",
    "jp_rating.plot(kind='bar', grid=True);"
   ]
  },
  {
   "cell_type": "markdown",
   "metadata": {},
   "source": [
    "В Европе и Северной Америке топ продаваемых игр по рейтингу ESRB совпадает, различается лишь объём продаж. Популярностью пользуются жанры с 17+ лет и для всех возрастов.Япония в свою очередь имеет другой топ лист, она более ориентирована на продажу игр в общей массе для всех возростных категорий и 13+. Нельзя прямо сказать, что рейтинг влияет на продажи игр, но можно предположить, что больше влияет менталитет стран на выбор жанров."
   ]
  },
  {
   "cell_type": "markdown",
   "metadata": {},
   "source": [
    "## Проверка гипотез."
   ]
  },
  {
   "cell_type": "markdown",
   "metadata": {},
   "source": [
    "**Чтобы проверить гипотезы нам необходимо подготовить датафрейм без пропусков в столбце `user_score`.**"
   ]
  },
  {
   "cell_type": "code",
   "execution_count": 62,
   "metadata": {},
   "outputs": [],
   "source": [
    "filtered_df = last_five_year_period_df[last_five_year_period_df['user_score'].notnull()]"
   ]
  },
  {
   "cell_type": "markdown",
   "metadata": {},
   "source": [
    "### Средние пользовательские рейтинги платформ Xbox One и PC одинаковые."
   ]
  },
  {
   "cell_type": "markdown",
   "metadata": {},
   "source": [
    "Гипотезы:\n",
    "\n",
    "- H_0 - Средние пользовательские рейтинги платформ *Xbox One и PC* одинаковые\n",
    "- H_1 - Средние пользовательские рейтинги платформ *Xbox One и PC* разные\n",
    "- alpha = 0.05\n",
    "\n",
    "Выборки не зависят друг от друга."
   ]
  },
  {
   "cell_type": "code",
   "execution_count": 63,
   "metadata": {
    "scrolled": false
   },
   "outputs": [
    {
     "name": "stdout",
     "output_type": "stream",
     "text": [
      "p-значение: 0.5489537965134912\n",
      "Не получилось отвергнуть нулевую гипотезу\n"
     ]
    }
   ],
   "source": [
    "# проверка гипотезы о равенстве средних двух независимых совокупностей\n",
    "results = st.ttest_ind(\n",
    "    filtered_df.loc[(filtered_df['platform'] == 'XOne'), 'user_score'],\n",
    "    filtered_df.loc[(filtered_df['platform'] == 'PC'), 'user_score'],\n",
    "    equal_var = False)\n",
    "\n",
    "# критический уровень значимости\n",
    "alpha = .05\n",
    "\n",
    "# выведите на экран получившееся p-значение\n",
    "print('p-значение:', results.pvalue) \n",
    "\n",
    "# условный оператор с выводом строки с ответом\n",
    "if results.pvalue < alpha:\n",
    "    print(\"Отвергаем нулевую гипотезу\")\n",
    "else:\n",
    "    print(\"Не получилось отвергнуть нулевую гипотезу\")"
   ]
  },
  {
   "cell_type": "markdown",
   "metadata": {},
   "source": [
    "Вероятность получить схожие результаты довольно высока, поэтому нулевая гипотеза, что средние показатаельские рейтинги платформ XOne и PC одинаковые - имеет высокую вероятность оказаться правдой. Поэтому нулевую гипотезу не отвергаем."
   ]
  },
  {
   "cell_type": "markdown",
   "metadata": {},
   "source": [
    "### Средние пользовательские рейтинги жанров Action (англ. «действие», экшен-игры) и Sports (англ. «спортивные соревнования») разные.\n"
   ]
  },
  {
   "cell_type": "markdown",
   "metadata": {},
   "source": [
    "Гипотезы:\n",
    "\n",
    "- H_0 - Средние пользовательские рейтинги жанров *Action и Sports* одинаковые\n",
    "- H_1 - Средние пользовательские рейтинги жанров *Action и Sports* разные\n",
    "- alpha = 0.05\n",
    "\n",
    "Выборки не зависят друг от друга."
   ]
  },
  {
   "cell_type": "code",
   "execution_count": 65,
   "metadata": {},
   "outputs": [
    {
     "name": "stdout",
     "output_type": "stream",
     "text": [
      "p-значение: 4.24307776572644e-20\n",
      "Отвергаем нулевую гипотезу\n"
     ]
    }
   ],
   "source": [
    "# проверка гипотезы о равенстве средних двух независимых совокупностей\n",
    "results = st.ttest_ind(\n",
    "    filtered_df.loc[(filtered_df['genre'] == 'Action'), 'user_score'],\n",
    "    filtered_df.loc[(filtered_df['genre'] == 'Sports'), 'user_score'],\n",
    "    equal_var = False)\n",
    "\n",
    "# критический уровень значимости\n",
    "alpha = .05\n",
    "\n",
    "# выведите на экран получившееся p-значение\n",
    "print('p-значение:', results.pvalue) \n",
    "\n",
    "# условный оператор с выводом строки с ответом\n",
    "if results.pvalue < alpha:\n",
    "    print(\"Отвергаем нулевую гипотезу\")\n",
    "else:\n",
    "    print(\"Не получилось отвергнуть нулевую гипотезу\")"
   ]
  },
  {
   "cell_type": "markdown",
   "metadata": {},
   "source": [
    "Полученное зачение p-value <b>ниже 0.01%</b> говорит о том, что <b>вероятность получить схожие значения в \n",
    "рейтингах 2х жанров статистически незначима</b>. Выявленная вероятность имеет низкий показатель, чтобы делать вывод о \n",
    "значимом различии в жанрах."
   ]
  },
  {
   "cell_type": "markdown",
   "metadata": {},
   "source": [
    "## Общий вывод"
   ]
  },
  {
   "cell_type": "markdown",
   "metadata": {},
   "source": [
    "### Были проделаны следующие шаги для успешности исследования:\n",
    "\n",
    "- изменены названия столбцов для удобства работы с ними и приведены к канонам;\n",
    "- заполнены пропуски в столбца где это было возможно и описано где нельзя этого делать;\n",
    "- изменены типы данных для дальнейшей работы с ними;"
   ]
  },
  {
   "cell_type": "markdown",
   "metadata": {},
   "source": [
    "### Проведён иссследовательский анализ данных:\n",
    "\n",
    "- `Посмотрите, сколько игр выпускалось в разные годы.`\n",
    "```\n",
    "Мы увидели положительную тенденцию роста рынка продаж игр. Начиная с 2001 этот рост усилился в разы в связи, также в связи с выходом новых платформ.\n",
    "```\n",
    "\n",
    "- `Посмотрите, как менялись продажи по платформам.`\n",
    "```\n",
    "Нашли пиковые значения на графиках по продажам игр у разных платформ и пришли к выводу, что примерное время появления и исчезновыения платформ составляет около 8-10 лет.\n",
    "```\n",
    "\n",
    "***Взяли актуальный период - последние 5 лет. Весь дальнейший ИА из расчёта 5 лет.***\n",
    "\n",
    "\n",
    "- `Какие платформы лидируют по продажам, растут или падают?`\n",
    "```\n",
    "С 2012 года многие производители платформ уже перестали выпускать игры и ушли с рынка. Идёт снижение продаж у всех, зато заметны лидеры, у кого падают продажи, но они показывают отличные значения по сравнению с другими - PS4, XOne, 3DS.\n",
    "```\n",
    "\n",
    "- `Постройте график «ящик с усами» по глобальным продажам игр в разбивке по платформам.`\n",
    "```\n",
    "Сделали вывод из графика, что у всех платформ примерно одинаковые продажи, а выбросы по продажам заметны у линейки PlayStation.\n",
    "```\n",
    "\n",
    "- `Посмотрите, как влияют на продажи внутри одной популярной платформы отзывы пользователей и критиков.`\n",
    "```\n",
    "Корреляции между оценками пользователей и количеством продаж не было заметно и составляет 0.00, в то время оценки критиков имеют умеренное влияние на продажи и составляет 0.31. В целом виднеется совпадение по данным оценок у 2х независимых \"экспертов\".\n",
    "```\n",
    "\n",
    "- `Посмотрите на общее распределение игр по жанрам.`\n",
    "```\n",
    "Определили, что наибольшей популярностью пользуются жанрый - Action, Shootr, RP, Sports.\n",
    "```"
   ]
  },
  {
   "cell_type": "markdown",
   "metadata": {},
   "source": [
    "### Составлен портрет пользователей по каждому из 3х регионов - NA, EU, JP:\n",
    "\n",
    "- `Самые популярные платформы (топ-5).`\n",
    "```\n",
    "Подавляющее большинство покупок по различным платформам уходит на Северную Америку. В Японии спрос на них намного ниже из этой тройки, а в середине обосновалась Европа.\n",
    "```\n",
    "\n",
    "- `Самые популярные жанры (топ-5).`\n",
    "```\n",
    "Так как Япония покупает меньше всех платформ, то и игр с различными жанрами в ней покупают меньше, лидирующим жанром является - Role-Playing. Европа и Северная Америка имеют схожие вкусы и топ у них взяли игры с жанрами - Action и Shooter.\n",
    "```\n",
    "\n",
    "- `Влияние рейтинга ESRB на продажи в отдельных регионах.`\n",
    "```\n",
    "Как и в предыдущем исследовании, у Европы и Северной Америки то продаваемых игр по рейтингу ESRB совпадает. В основном покупаются игры с возврастным ограничением в 17+ и для всех возрастов. Япония имеет приоритеты на жанры игр с рейтингами для всех возрастов и 13+.\n",
    "```"
   ]
  },
  {
   "cell_type": "markdown",
   "metadata": {},
   "source": [
    "1) Средние пользователские рейтинги платформ Xbox One и PC одинаковые.\n",
    "\n",
    "Полученное зачение p-value почти в <b>55%</b> говорит о том, что <b>вероятность получить схожие значения в оценках критиков и пользователей очень высока</b>. Выявленная вероятность имеет высокий показатель, чтобы делать вывод о значимом различии в оценках.\n",
    "        \n",
    "2) Средние пользовательские рейтинги жанров Action (англ. «действие», экшен-игры) и Sports (англ. «спортивные соревнования») разные.\n",
    "        \n",
    "Полученное зачение p-value <b>ниже 0.01%</b> говорит о том, что <b>вероятность получить схожие значения в \n",
    "рейтингах 2х жанров статистически незначима</b>. Выявленная вероятность имеет низкий показатель, чтобы делать вывод о \n",
    "значимом различии в жанрах."
   ]
  },
  {
   "cell_type": "markdown",
   "metadata": {},
   "source": [
    "### Общий вывод можно сделать следющий:\n",
    "\n",
    "Рынок Северной Америки и Европы сильно схож в отметке 2012 года. Продаваемые платформы на обоих рынках одиннаковые, различается лишь % всех продаж в регионах. Явно заметными лидерами являются серии платформ <b>PlayStation и Xbox</b>. Японский рынок имеет схожих лидеров, однако, топ по продажам занимает <b>3DS и опять же линейка PlayStation</b>.\n",
    "        \n",
    "В 2015 году Европа и Америка сделали сильный приоритет по покупкам платформ <b>PS и Xbox</b>. Топ лист остался неизменным, в то время как продажи других производителей претерпели изменения. В свою очередь Японский рынок ничуть не изменился и лидеры остались прежними <b>3DS с процентом продаж по общему рынку в 44% и PlayStation в 23%</b>, остальные прозиводители остались примерно на том же уровне.\n",
    "        \n",
    "Сильное изменение в 2х регионах (EU и NA) скорее зависит от выускаемых производителями игр, компании, которые смогли заработать уважение, любовь потребителей остались на плаву и радуют новыми сериями в различных жанрах игр. Современная графика и мощностя у платформ вывели определённые жанры на первое место, такие как <b>Shooter</b> с процентами <b>22.4% и 24.5%</b> в Европе и Северной Америке соответственно. В Японии самым популярным жанром является <b>Role-Playing с 34%<b/>."
   ]
  }
 ],
 "metadata": {
  "ExecuteTimeLog": [
   {
    "duration": 42,
    "start_time": "2022-08-22T10:35:14.088Z"
   },
   {
    "duration": 400,
    "start_time": "2022-08-22T11:02:35.284Z"
   },
   {
    "duration": 135,
    "start_time": "2022-08-22T11:03:02.946Z"
   },
   {
    "duration": 24,
    "start_time": "2022-08-22T11:03:07.562Z"
   },
   {
    "duration": 13,
    "start_time": "2022-08-22T11:03:11.130Z"
   },
   {
    "duration": 355,
    "start_time": "2022-08-22T11:03:24.850Z"
   },
   {
    "duration": 25,
    "start_time": "2022-08-22T11:03:26.537Z"
   },
   {
    "duration": 15,
    "start_time": "2022-08-22T11:03:55.162Z"
   },
   {
    "duration": 26,
    "start_time": "2022-08-22T11:04:03.802Z"
   },
   {
    "duration": 18,
    "start_time": "2022-08-22T11:04:05.587Z"
   },
   {
    "duration": 76,
    "start_time": "2022-08-22T11:04:09.697Z"
   },
   {
    "duration": 88,
    "start_time": "2022-08-22T11:04:54.330Z"
   },
   {
    "duration": 329,
    "start_time": "2022-08-22T11:04:56.017Z"
   },
   {
    "duration": 6,
    "start_time": "2022-08-22T11:04:57.315Z"
   },
   {
    "duration": 103,
    "start_time": "2022-08-22T11:05:04.361Z"
   },
   {
    "duration": 13,
    "start_time": "2022-08-22T11:05:05.753Z"
   },
   {
    "duration": 14,
    "start_time": "2022-08-22T11:05:14.450Z"
   },
   {
    "duration": 34,
    "start_time": "2022-08-22T11:05:17.162Z"
   },
   {
    "duration": 1072,
    "start_time": "2022-08-22T11:08:34.504Z"
   },
   {
    "duration": 4,
    "start_time": "2022-08-22T11:09:06.184Z"
   },
   {
    "duration": 29,
    "start_time": "2022-08-22T11:20:52.779Z"
   },
   {
    "duration": 4,
    "start_time": "2022-08-22T11:23:35.795Z"
   },
   {
    "duration": 29,
    "start_time": "2022-08-22T11:23:38.189Z"
   },
   {
    "duration": 5,
    "start_time": "2022-08-22T11:27:15.865Z"
   },
   {
    "duration": 13,
    "start_time": "2022-08-22T11:27:18.801Z"
   },
   {
    "duration": 5,
    "start_time": "2022-08-22T11:27:36.753Z"
   },
   {
    "duration": 14,
    "start_time": "2022-08-22T11:27:38.192Z"
   },
   {
    "duration": 4,
    "start_time": "2022-08-22T11:28:02.217Z"
   },
   {
    "duration": 14,
    "start_time": "2022-08-22T11:28:03.856Z"
   },
   {
    "duration": 23,
    "start_time": "2022-08-22T11:30:34.128Z"
   },
   {
    "duration": 74,
    "start_time": "2022-08-22T11:36:00.238Z"
   },
   {
    "duration": 3,
    "start_time": "2022-08-22T11:41:43.876Z"
   },
   {
    "duration": 9,
    "start_time": "2022-08-22T11:43:32.579Z"
   },
   {
    "duration": 9,
    "start_time": "2022-08-22T11:43:54.971Z"
   },
   {
    "duration": 4,
    "start_time": "2022-08-22T11:44:56.178Z"
   },
   {
    "duration": 190,
    "start_time": "2022-08-22T11:45:01.346Z"
   },
   {
    "duration": 4,
    "start_time": "2022-08-22T11:45:28.402Z"
   },
   {
    "duration": 154,
    "start_time": "2022-08-22T11:45:30.778Z"
   },
   {
    "duration": 6,
    "start_time": "2022-08-22T11:47:42.945Z"
   },
   {
    "duration": 11,
    "start_time": "2022-08-22T11:47:45.056Z"
   },
   {
    "duration": 353,
    "start_time": "2022-08-22T11:47:59.151Z"
   },
   {
    "duration": 146,
    "start_time": "2022-08-22T11:47:59.506Z"
   },
   {
    "duration": 19,
    "start_time": "2022-08-22T11:47:59.654Z"
   },
   {
    "duration": 13,
    "start_time": "2022-08-22T11:47:59.675Z"
   },
   {
    "duration": 29,
    "start_time": "2022-08-22T11:47:59.689Z"
   },
   {
    "duration": 4,
    "start_time": "2022-08-22T11:47:59.720Z"
   },
   {
    "duration": 10,
    "start_time": "2022-08-22T11:48:01.608Z"
   },
   {
    "duration": 10,
    "start_time": "2022-08-22T11:49:10.352Z"
   },
   {
    "duration": 8,
    "start_time": "2022-08-22T11:49:13.553Z"
   },
   {
    "duration": 21,
    "start_time": "2022-08-22T11:54:02.549Z"
   },
   {
    "duration": 6,
    "start_time": "2022-08-22T11:54:13.502Z"
   },
   {
    "duration": 4,
    "start_time": "2022-08-22T11:54:18.862Z"
   },
   {
    "duration": 5,
    "start_time": "2022-08-22T11:55:25.349Z"
   },
   {
    "duration": 78,
    "start_time": "2022-08-22T11:55:41.525Z"
   },
   {
    "duration": 9,
    "start_time": "2022-08-22T11:55:50.476Z"
   },
   {
    "duration": 10,
    "start_time": "2022-08-22T11:55:53.173Z"
   },
   {
    "duration": 5,
    "start_time": "2022-08-22T11:56:04.917Z"
   },
   {
    "duration": 23,
    "start_time": "2022-08-22T12:00:18.227Z"
   },
   {
    "duration": 33,
    "start_time": "2022-08-22T12:00:38.589Z"
   },
   {
    "duration": 16,
    "start_time": "2022-08-22T12:06:59.516Z"
   },
   {
    "duration": 5,
    "start_time": "2022-08-22T12:07:49.864Z"
   },
   {
    "duration": 5,
    "start_time": "2022-08-22T12:11:53.087Z"
   },
   {
    "duration": 4,
    "start_time": "2022-08-22T12:12:40.839Z"
   },
   {
    "duration": 43,
    "start_time": "2022-08-22T12:12:45.894Z"
   },
   {
    "duration": 10,
    "start_time": "2022-08-22T12:12:51.125Z"
   },
   {
    "duration": 37,
    "start_time": "2022-08-22T12:13:51.519Z"
   },
   {
    "duration": 19,
    "start_time": "2022-08-22T12:15:23.808Z"
   },
   {
    "duration": 34,
    "start_time": "2022-08-22T12:15:30.200Z"
   },
   {
    "duration": 10,
    "start_time": "2022-08-22T12:17:25.797Z"
   },
   {
    "duration": 9,
    "start_time": "2022-08-22T12:18:10.333Z"
   },
   {
    "duration": 13,
    "start_time": "2022-08-22T12:21:40.627Z"
   },
   {
    "duration": 20,
    "start_time": "2022-08-22T12:52:39.113Z"
   },
   {
    "duration": 21,
    "start_time": "2022-08-22T12:53:57.865Z"
   },
   {
    "duration": 14,
    "start_time": "2022-08-22T12:54:09.019Z"
   },
   {
    "duration": 10,
    "start_time": "2022-08-22T12:56:49.378Z"
   },
   {
    "duration": 21,
    "start_time": "2022-08-22T12:57:07.744Z"
   },
   {
    "duration": 22,
    "start_time": "2022-08-22T12:57:14.607Z"
   },
   {
    "duration": 23,
    "start_time": "2022-08-22T12:57:34.799Z"
   },
   {
    "duration": 21,
    "start_time": "2022-08-22T12:57:40.887Z"
   },
   {
    "duration": 10,
    "start_time": "2022-08-22T12:57:52.983Z"
   },
   {
    "duration": 21,
    "start_time": "2022-08-22T12:58:06.119Z"
   },
   {
    "duration": 13,
    "start_time": "2022-08-22T12:58:22.055Z"
   },
   {
    "duration": 12,
    "start_time": "2022-08-22T12:58:26.190Z"
   },
   {
    "duration": 11,
    "start_time": "2022-08-22T12:58:47.414Z"
   },
   {
    "duration": 30,
    "start_time": "2022-08-22T12:58:51.480Z"
   },
   {
    "duration": 21,
    "start_time": "2022-08-22T12:58:55.416Z"
   },
   {
    "duration": 11,
    "start_time": "2022-08-22T12:58:59.437Z"
   },
   {
    "duration": 22,
    "start_time": "2022-08-22T12:59:03.512Z"
   },
   {
    "duration": 13,
    "start_time": "2022-08-22T12:59:06.375Z"
   },
   {
    "duration": 13,
    "start_time": "2022-08-22T12:59:09.287Z"
   },
   {
    "duration": 11,
    "start_time": "2022-08-22T12:59:12.461Z"
   },
   {
    "duration": 22,
    "start_time": "2022-08-22T12:59:14.591Z"
   },
   {
    "duration": 12,
    "start_time": "2022-08-22T12:59:18.838Z"
   },
   {
    "duration": 15,
    "start_time": "2022-08-22T12:59:21.463Z"
   },
   {
    "duration": 22,
    "start_time": "2022-08-22T12:59:25.111Z"
   },
   {
    "duration": 14,
    "start_time": "2022-08-22T13:08:58.475Z"
   },
   {
    "duration": 6,
    "start_time": "2022-08-22T13:09:10.362Z"
   },
   {
    "duration": 13,
    "start_time": "2022-08-22T13:09:13.699Z"
   },
   {
    "duration": 13,
    "start_time": "2022-08-22T13:09:51.170Z"
   },
   {
    "duration": 19,
    "start_time": "2022-08-22T13:10:10.452Z"
   },
   {
    "duration": 3,
    "start_time": "2022-08-22T13:10:19.067Z"
   },
   {
    "duration": 184,
    "start_time": "2022-08-22T13:24:52.500Z"
   },
   {
    "duration": 227,
    "start_time": "2022-08-22T13:24:58.216Z"
   },
   {
    "duration": 15,
    "start_time": "2022-08-22T13:26:13.092Z"
   },
   {
    "duration": 21,
    "start_time": "2022-08-22T13:26:42.068Z"
   },
   {
    "duration": 20,
    "start_time": "2022-08-22T13:27:11.068Z"
   },
   {
    "duration": 31,
    "start_time": "2022-08-22T13:27:13.180Z"
   },
   {
    "duration": 13,
    "start_time": "2022-08-22T13:34:04.428Z"
   },
   {
    "duration": 8,
    "start_time": "2022-08-22T13:37:26.892Z"
   },
   {
    "duration": 220,
    "start_time": "2022-08-22T13:37:30.784Z"
   },
   {
    "duration": 3,
    "start_time": "2022-08-22T13:37:38.808Z"
   },
   {
    "duration": 42,
    "start_time": "2022-08-22T13:37:43.632Z"
   },
   {
    "duration": 25,
    "start_time": "2022-08-22T13:37:45.343Z"
   },
   {
    "duration": 13,
    "start_time": "2022-08-22T13:37:50.879Z"
   },
   {
    "duration": 8,
    "start_time": "2022-08-22T13:38:25.224Z"
   },
   {
    "duration": 12,
    "start_time": "2022-08-22T13:38:27.240Z"
   },
   {
    "duration": 8,
    "start_time": "2022-08-22T13:38:28.569Z"
   },
   {
    "duration": 12,
    "start_time": "2022-08-22T13:38:29.888Z"
   },
   {
    "duration": 411,
    "start_time": "2022-08-22T13:38:37.195Z"
   },
   {
    "duration": 147,
    "start_time": "2022-08-22T13:38:37.608Z"
   },
   {
    "duration": 22,
    "start_time": "2022-08-22T13:38:37.757Z"
   },
   {
    "duration": 46,
    "start_time": "2022-08-22T13:38:37.781Z"
   },
   {
    "duration": 38,
    "start_time": "2022-08-22T13:38:37.829Z"
   },
   {
    "duration": 5,
    "start_time": "2022-08-22T13:38:37.868Z"
   },
   {
    "duration": 16,
    "start_time": "2022-08-22T13:38:37.875Z"
   },
   {
    "duration": 12,
    "start_time": "2022-08-22T13:38:37.892Z"
   },
   {
    "duration": 61,
    "start_time": "2022-08-22T13:38:37.906Z"
   },
   {
    "duration": 0,
    "start_time": "2022-08-22T13:38:37.969Z"
   },
   {
    "duration": 0,
    "start_time": "2022-08-22T13:38:37.970Z"
   },
   {
    "duration": 0,
    "start_time": "2022-08-22T13:38:37.971Z"
   },
   {
    "duration": 0,
    "start_time": "2022-08-22T13:38:37.972Z"
   },
   {
    "duration": 0,
    "start_time": "2022-08-22T13:38:37.973Z"
   },
   {
    "duration": 0,
    "start_time": "2022-08-22T13:38:37.974Z"
   },
   {
    "duration": 5,
    "start_time": "2022-08-22T13:38:45.443Z"
   },
   {
    "duration": 13,
    "start_time": "2022-08-22T13:38:46.934Z"
   },
   {
    "duration": 15,
    "start_time": "2022-08-22T13:38:48.419Z"
   },
   {
    "duration": 14,
    "start_time": "2022-08-22T13:38:50.147Z"
   },
   {
    "duration": 14,
    "start_time": "2022-08-22T13:38:55.580Z"
   },
   {
    "duration": 7,
    "start_time": "2022-08-22T13:39:33.947Z"
   },
   {
    "duration": 336,
    "start_time": "2022-08-22T13:39:47.551Z"
   },
   {
    "duration": 146,
    "start_time": "2022-08-22T13:39:47.889Z"
   },
   {
    "duration": 19,
    "start_time": "2022-08-22T13:39:48.037Z"
   },
   {
    "duration": 13,
    "start_time": "2022-08-22T13:39:48.057Z"
   },
   {
    "duration": 43,
    "start_time": "2022-08-22T13:39:48.072Z"
   },
   {
    "duration": 4,
    "start_time": "2022-08-22T13:39:48.117Z"
   },
   {
    "duration": 14,
    "start_time": "2022-08-22T13:39:48.123Z"
   },
   {
    "duration": 7,
    "start_time": "2022-08-22T13:39:48.139Z"
   },
   {
    "duration": 79,
    "start_time": "2022-08-22T13:39:48.148Z"
   },
   {
    "duration": 0,
    "start_time": "2022-08-22T13:39:48.229Z"
   },
   {
    "duration": 0,
    "start_time": "2022-08-22T13:39:48.230Z"
   },
   {
    "duration": 0,
    "start_time": "2022-08-22T13:39:48.231Z"
   },
   {
    "duration": 0,
    "start_time": "2022-08-22T13:39:48.232Z"
   },
   {
    "duration": 0,
    "start_time": "2022-08-22T13:39:48.233Z"
   },
   {
    "duration": 0,
    "start_time": "2022-08-22T13:39:48.234Z"
   },
   {
    "duration": 5,
    "start_time": "2022-08-22T13:39:50.941Z"
   },
   {
    "duration": 13,
    "start_time": "2022-08-22T13:39:52.398Z"
   },
   {
    "duration": 204,
    "start_time": "2022-08-22T13:39:54.101Z"
   },
   {
    "duration": 8,
    "start_time": "2022-08-22T13:42:35.734Z"
   },
   {
    "duration": 17,
    "start_time": "2022-08-22T14:57:25.117Z"
   },
   {
    "duration": 5,
    "start_time": "2022-08-22T14:57:48.781Z"
   },
   {
    "duration": 361,
    "start_time": "2022-08-22T14:58:29.227Z"
   },
   {
    "duration": 130,
    "start_time": "2022-08-22T14:58:29.590Z"
   },
   {
    "duration": 20,
    "start_time": "2022-08-22T14:58:29.722Z"
   },
   {
    "duration": 16,
    "start_time": "2022-08-22T14:58:29.745Z"
   },
   {
    "duration": 37,
    "start_time": "2022-08-22T14:58:29.763Z"
   },
   {
    "duration": 4,
    "start_time": "2022-08-22T14:58:29.802Z"
   },
   {
    "duration": 12,
    "start_time": "2022-08-22T14:58:29.808Z"
   },
   {
    "duration": 8,
    "start_time": "2022-08-22T14:58:29.822Z"
   },
   {
    "duration": 18,
    "start_time": "2022-08-22T14:58:36.025Z"
   },
   {
    "duration": 5,
    "start_time": "2022-08-22T14:58:37.753Z"
   },
   {
    "duration": 355,
    "start_time": "2022-08-22T14:59:48.845Z"
   },
   {
    "duration": 86,
    "start_time": "2022-08-22T14:59:49.202Z"
   },
   {
    "duration": 19,
    "start_time": "2022-08-22T14:59:49.290Z"
   },
   {
    "duration": 14,
    "start_time": "2022-08-22T14:59:49.311Z"
   },
   {
    "duration": 33,
    "start_time": "2022-08-22T14:59:49.327Z"
   },
   {
    "duration": 4,
    "start_time": "2022-08-22T14:59:49.363Z"
   },
   {
    "duration": 15,
    "start_time": "2022-08-22T14:59:49.368Z"
   },
   {
    "duration": 22,
    "start_time": "2022-08-22T14:59:49.384Z"
   },
   {
    "duration": 7,
    "start_time": "2022-08-22T14:59:51.069Z"
   },
   {
    "duration": 64,
    "start_time": "2022-08-22T15:00:13.396Z"
   },
   {
    "duration": 7,
    "start_time": "2022-08-22T15:00:49.860Z"
   },
   {
    "duration": 5,
    "start_time": "2022-08-22T15:00:54.605Z"
   },
   {
    "duration": 5,
    "start_time": "2022-08-22T15:01:07.347Z"
   },
   {
    "duration": 5,
    "start_time": "2022-08-22T15:01:08.844Z"
   },
   {
    "duration": 7,
    "start_time": "2022-08-22T15:02:09.193Z"
   },
   {
    "duration": 16,
    "start_time": "2022-08-22T15:02:11.518Z"
   },
   {
    "duration": 4,
    "start_time": "2022-08-22T15:03:34.621Z"
   },
   {
    "duration": 6,
    "start_time": "2022-08-22T15:03:36.905Z"
   },
   {
    "duration": 408,
    "start_time": "2022-08-22T15:03:48.976Z"
   },
   {
    "duration": 143,
    "start_time": "2022-08-22T15:03:49.386Z"
   },
   {
    "duration": 19,
    "start_time": "2022-08-22T15:03:49.531Z"
   },
   {
    "duration": 14,
    "start_time": "2022-08-22T15:03:49.551Z"
   },
   {
    "duration": 39,
    "start_time": "2022-08-22T15:03:49.567Z"
   },
   {
    "duration": 5,
    "start_time": "2022-08-22T15:03:49.608Z"
   },
   {
    "duration": 12,
    "start_time": "2022-08-22T15:03:49.614Z"
   },
   {
    "duration": 9,
    "start_time": "2022-08-22T15:03:49.627Z"
   },
   {
    "duration": 6,
    "start_time": "2022-08-22T15:03:49.637Z"
   },
   {
    "duration": 21,
    "start_time": "2022-08-22T15:03:49.645Z"
   },
   {
    "duration": 6,
    "start_time": "2022-08-22T15:03:51.267Z"
   },
   {
    "duration": 5,
    "start_time": "2022-08-22T15:03:54.524Z"
   },
   {
    "duration": 7,
    "start_time": "2022-08-22T15:04:24.683Z"
   },
   {
    "duration": 13,
    "start_time": "2022-08-22T15:04:26.980Z"
   },
   {
    "duration": 4,
    "start_time": "2022-08-22T15:10:59.943Z"
   },
   {
    "duration": 16,
    "start_time": "2022-08-22T15:11:04.303Z"
   },
   {
    "duration": 5,
    "start_time": "2022-08-22T15:11:38.286Z"
   },
   {
    "duration": 15,
    "start_time": "2022-08-22T15:11:39.935Z"
   },
   {
    "duration": 417,
    "start_time": "2022-08-22T15:23:19.679Z"
   },
   {
    "duration": 40,
    "start_time": "2022-08-22T15:23:40.406Z"
   },
   {
    "duration": 194,
    "start_time": "2022-08-22T15:23:53.782Z"
   },
   {
    "duration": 158,
    "start_time": "2022-08-22T15:23:58.382Z"
   },
   {
    "duration": 189,
    "start_time": "2022-08-22T15:24:02.135Z"
   },
   {
    "duration": 269,
    "start_time": "2022-08-22T15:24:12.975Z"
   },
   {
    "duration": 170,
    "start_time": "2022-08-22T15:24:17.614Z"
   },
   {
    "duration": 255,
    "start_time": "2022-08-22T15:24:21.069Z"
   },
   {
    "duration": 198,
    "start_time": "2022-08-22T15:24:25.446Z"
   },
   {
    "duration": 219,
    "start_time": "2022-08-22T15:24:28.070Z"
   },
   {
    "duration": 50,
    "start_time": "2022-08-22T15:24:54.421Z"
   },
   {
    "duration": 254,
    "start_time": "2022-08-22T15:25:00.069Z"
   },
   {
    "duration": 310,
    "start_time": "2022-08-22T15:25:06.830Z"
   },
   {
    "duration": 241,
    "start_time": "2022-08-22T15:25:12.661Z"
   },
   {
    "duration": 155,
    "start_time": "2022-08-22T15:25:14.837Z"
   },
   {
    "duration": 174,
    "start_time": "2022-08-22T15:25:19.821Z"
   },
   {
    "duration": 153,
    "start_time": "2022-08-22T15:25:22.973Z"
   },
   {
    "duration": 161,
    "start_time": "2022-08-22T15:25:27.646Z"
   },
   {
    "duration": 261,
    "start_time": "2022-08-22T15:25:34.918Z"
   },
   {
    "duration": 231,
    "start_time": "2022-08-22T15:25:46.445Z"
   },
   {
    "duration": 355,
    "start_time": "2022-08-22T15:29:38.564Z"
   },
   {
    "duration": 205,
    "start_time": "2022-08-22T15:29:44.531Z"
   },
   {
    "duration": 209,
    "start_time": "2022-08-22T15:29:46.997Z"
   },
   {
    "duration": 239,
    "start_time": "2022-08-22T15:30:48.091Z"
   },
   {
    "duration": 222,
    "start_time": "2022-08-22T15:31:48.754Z"
   },
   {
    "duration": 217,
    "start_time": "2022-08-22T15:31:50.827Z"
   },
   {
    "duration": 227,
    "start_time": "2022-08-22T15:31:52.722Z"
   },
   {
    "duration": 338,
    "start_time": "2022-08-22T15:31:54.738Z"
   },
   {
    "duration": 238,
    "start_time": "2022-08-22T15:31:56.715Z"
   },
   {
    "duration": 257,
    "start_time": "2022-08-22T15:31:58.778Z"
   },
   {
    "duration": 314,
    "start_time": "2022-08-22T15:32:01.450Z"
   },
   {
    "duration": 55,
    "start_time": "2022-08-22T15:33:28.585Z"
   },
   {
    "duration": 68,
    "start_time": "2022-08-22T15:35:34.704Z"
   },
   {
    "duration": 14,
    "start_time": "2022-08-22T15:35:39.210Z"
   },
   {
    "duration": 18,
    "start_time": "2022-08-22T15:35:49.304Z"
   },
   {
    "duration": 14,
    "start_time": "2022-08-22T15:35:56.312Z"
   },
   {
    "duration": 5,
    "start_time": "2022-08-22T15:36:47.400Z"
   },
   {
    "duration": 4,
    "start_time": "2022-08-22T15:39:50.823Z"
   },
   {
    "duration": 7,
    "start_time": "2022-08-22T15:40:18.942Z"
   },
   {
    "duration": 40,
    "start_time": "2022-08-22T15:47:58.892Z"
   },
   {
    "duration": 12,
    "start_time": "2022-08-22T15:52:13.833Z"
   },
   {
    "duration": 5,
    "start_time": "2022-08-22T15:52:46.865Z"
   },
   {
    "duration": 6,
    "start_time": "2022-08-22T15:52:50.674Z"
   },
   {
    "duration": 7,
    "start_time": "2022-08-22T17:57:21.867Z"
   },
   {
    "duration": 14,
    "start_time": "2022-08-22T17:57:29.434Z"
   },
   {
    "duration": 23,
    "start_time": "2022-08-22T17:58:37.682Z"
   },
   {
    "duration": 33,
    "start_time": "2022-08-22T18:39:51.228Z"
   },
   {
    "duration": 77,
    "start_time": "2022-08-22T18:40:11.300Z"
   },
   {
    "duration": 249,
    "start_time": "2022-08-22T18:42:05.043Z"
   },
   {
    "duration": 5,
    "start_time": "2022-08-22T18:46:46.778Z"
   },
   {
    "duration": 7,
    "start_time": "2022-08-22T18:46:51.937Z"
   },
   {
    "duration": 11,
    "start_time": "2022-08-22T18:47:47.400Z"
   },
   {
    "duration": 10,
    "start_time": "2022-08-22T18:53:07.487Z"
   },
   {
    "duration": 6,
    "start_time": "2022-08-22T18:53:14.830Z"
   },
   {
    "duration": 9,
    "start_time": "2022-08-22T18:53:18.150Z"
   },
   {
    "duration": 7,
    "start_time": "2022-08-22T18:53:27.391Z"
   },
   {
    "duration": 8,
    "start_time": "2022-08-22T18:53:47.814Z"
   },
   {
    "duration": 8,
    "start_time": "2022-08-22T18:53:59.710Z"
   },
   {
    "duration": 9,
    "start_time": "2022-08-22T18:54:08.302Z"
   },
   {
    "duration": 10,
    "start_time": "2022-08-22T18:56:41.134Z"
   },
   {
    "duration": 8,
    "start_time": "2022-08-22T18:56:46.060Z"
   },
   {
    "duration": 8,
    "start_time": "2022-08-22T18:56:57.005Z"
   },
   {
    "duration": 10,
    "start_time": "2022-08-22T18:57:01.565Z"
   },
   {
    "duration": 6,
    "start_time": "2022-08-22T18:57:59.142Z"
   },
   {
    "duration": 17,
    "start_time": "2022-08-22T18:58:03.420Z"
   },
   {
    "duration": 7,
    "start_time": "2022-08-22T18:58:05.653Z"
   },
   {
    "duration": 8,
    "start_time": "2022-08-22T19:00:10.740Z"
   },
   {
    "duration": 7,
    "start_time": "2022-08-22T19:01:07.820Z"
   },
   {
    "duration": 7,
    "start_time": "2022-08-22T19:03:44.749Z"
   },
   {
    "duration": 20,
    "start_time": "2022-08-22T19:03:54.626Z"
   },
   {
    "duration": 216,
    "start_time": "2022-08-22T19:06:59.345Z"
   },
   {
    "duration": 242,
    "start_time": "2022-08-22T19:07:02.377Z"
   },
   {
    "duration": 7,
    "start_time": "2022-08-22T19:07:08.905Z"
   },
   {
    "duration": 17,
    "start_time": "2022-08-22T19:07:52.816Z"
   },
   {
    "duration": 235,
    "start_time": "2022-08-22T19:08:00.169Z"
   },
   {
    "duration": 8,
    "start_time": "2022-08-22T19:08:03.072Z"
   },
   {
    "duration": 12,
    "start_time": "2022-08-22T19:09:10.041Z"
   },
   {
    "duration": 17,
    "start_time": "2022-08-22T19:10:13.954Z"
   },
   {
    "duration": 13,
    "start_time": "2022-08-22T19:18:06.782Z"
   },
   {
    "duration": 7,
    "start_time": "2022-08-22T19:18:13.630Z"
   },
   {
    "duration": 10,
    "start_time": "2022-08-22T19:18:42.573Z"
   },
   {
    "duration": 7,
    "start_time": "2022-08-22T19:18:45.916Z"
   },
   {
    "duration": 7,
    "start_time": "2022-08-22T19:20:04.964Z"
   },
   {
    "duration": 6,
    "start_time": "2022-08-22T19:20:42.772Z"
   },
   {
    "duration": 5,
    "start_time": "2022-08-22T19:21:52.556Z"
   },
   {
    "duration": 8,
    "start_time": "2022-08-22T19:21:56.516Z"
   },
   {
    "duration": 12,
    "start_time": "2022-08-22T19:24:57.234Z"
   },
   {
    "duration": 9,
    "start_time": "2022-08-22T19:28:01.444Z"
   },
   {
    "duration": 224,
    "start_time": "2022-08-22T19:28:28.965Z"
   },
   {
    "duration": 273,
    "start_time": "2022-08-22T19:28:35.513Z"
   },
   {
    "duration": 11,
    "start_time": "2022-08-22T19:29:04.833Z"
   },
   {
    "duration": 17,
    "start_time": "2022-08-22T19:29:13.610Z"
   },
   {
    "duration": 25,
    "start_time": "2022-08-22T19:29:21.073Z"
   },
   {
    "duration": 3,
    "start_time": "2022-08-22T19:31:20.480Z"
   },
   {
    "duration": 10,
    "start_time": "2022-08-22T19:31:23.015Z"
   },
   {
    "duration": 7,
    "start_time": "2022-08-22T19:31:29.536Z"
   },
   {
    "duration": 138,
    "start_time": "2022-08-22T19:31:38.543Z"
   },
   {
    "duration": 140,
    "start_time": "2022-08-22T19:31:49.240Z"
   },
   {
    "duration": 168,
    "start_time": "2022-08-22T19:31:52.696Z"
   },
   {
    "duration": 244,
    "start_time": "2022-08-22T19:31:55.447Z"
   },
   {
    "duration": 7,
    "start_time": "2022-08-22T19:32:47.127Z"
   },
   {
    "duration": 11,
    "start_time": "2022-08-22T19:33:22.671Z"
   },
   {
    "duration": 7,
    "start_time": "2022-08-22T19:33:28.218Z"
   },
   {
    "duration": 7,
    "start_time": "2022-08-22T19:34:09.536Z"
   },
   {
    "duration": 7,
    "start_time": "2022-08-22T19:34:18.054Z"
   },
   {
    "duration": 9,
    "start_time": "2022-08-22T19:34:35.047Z"
   },
   {
    "duration": 8,
    "start_time": "2022-08-22T19:34:43.919Z"
   },
   {
    "duration": 6,
    "start_time": "2022-08-22T19:36:08.463Z"
   },
   {
    "duration": 38,
    "start_time": "2022-08-22T19:38:28.814Z"
   },
   {
    "duration": 28,
    "start_time": "2022-08-22T19:38:35.068Z"
   },
   {
    "duration": 29,
    "start_time": "2022-08-22T19:38:45.940Z"
   },
   {
    "duration": 28,
    "start_time": "2022-08-22T19:41:55.636Z"
   },
   {
    "duration": 277,
    "start_time": "2022-08-22T19:42:01.043Z"
   },
   {
    "duration": 29,
    "start_time": "2022-08-22T19:42:52.612Z"
   },
   {
    "duration": 270,
    "start_time": "2022-08-22T19:42:57.155Z"
   },
   {
    "duration": 26,
    "start_time": "2022-08-22T19:43:42.516Z"
   },
   {
    "duration": 28,
    "start_time": "2022-08-22T19:53:45.568Z"
   },
   {
    "duration": 278,
    "start_time": "2022-08-22T19:56:24.046Z"
   },
   {
    "duration": 10,
    "start_time": "2022-08-22T19:58:59.958Z"
   },
   {
    "duration": 816,
    "start_time": "2022-08-22T19:59:37.197Z"
   },
   {
    "duration": 2,
    "start_time": "2022-08-22T19:59:54.913Z"
   },
   {
    "duration": 10,
    "start_time": "2022-08-22T19:59:57.557Z"
   },
   {
    "duration": 17,
    "start_time": "2022-08-22T20:00:04.085Z"
   },
   {
    "duration": 9,
    "start_time": "2022-08-22T20:00:51.718Z"
   },
   {
    "duration": 159,
    "start_time": "2022-08-22T20:01:00.816Z"
   },
   {
    "duration": 145,
    "start_time": "2022-08-22T20:01:13.276Z"
   },
   {
    "duration": 140,
    "start_time": "2022-08-22T20:01:24.625Z"
   },
   {
    "duration": 23,
    "start_time": "2022-08-22T20:02:05.077Z"
   },
   {
    "duration": 220,
    "start_time": "2022-08-22T20:02:10.294Z"
   },
   {
    "duration": 31,
    "start_time": "2022-08-22T20:03:04.435Z"
   },
   {
    "duration": 13910,
    "start_time": "2022-08-22T20:05:26.690Z"
   },
   {
    "duration": 392,
    "start_time": "2022-08-22T20:05:54.574Z"
   },
   {
    "duration": 89,
    "start_time": "2022-08-22T20:05:54.968Z"
   },
   {
    "duration": 19,
    "start_time": "2022-08-22T20:05:55.058Z"
   },
   {
    "duration": 14,
    "start_time": "2022-08-22T20:05:55.078Z"
   },
   {
    "duration": 28,
    "start_time": "2022-08-22T20:05:55.094Z"
   },
   {
    "duration": 4,
    "start_time": "2022-08-22T20:05:55.123Z"
   },
   {
    "duration": 13,
    "start_time": "2022-08-22T20:05:55.128Z"
   },
   {
    "duration": 11,
    "start_time": "2022-08-22T20:05:55.142Z"
   },
   {
    "duration": 4,
    "start_time": "2022-08-22T20:05:55.154Z"
   },
   {
    "duration": 7,
    "start_time": "2022-08-22T20:05:55.159Z"
   },
   {
    "duration": 8,
    "start_time": "2022-08-22T20:05:55.168Z"
   },
   {
    "duration": 32,
    "start_time": "2022-08-22T20:05:55.177Z"
   },
   {
    "duration": 4,
    "start_time": "2022-08-22T20:05:55.211Z"
   },
   {
    "duration": 15,
    "start_time": "2022-08-22T20:05:55.217Z"
   },
   {
    "duration": 517,
    "start_time": "2022-08-22T20:05:55.233Z"
   },
   {
    "duration": 28,
    "start_time": "2022-08-22T20:05:55.752Z"
   },
   {
    "duration": 10,
    "start_time": "2022-08-22T20:06:02.546Z"
   },
   {
    "duration": 3,
    "start_time": "2022-08-22T20:06:04.976Z"
   },
   {
    "duration": 73,
    "start_time": "2022-08-22T20:06:07.019Z"
   },
   {
    "duration": 47,
    "start_time": "2022-08-23T09:33:41.973Z"
   },
   {
    "duration": 415,
    "start_time": "2022-08-23T09:33:46.033Z"
   },
   {
    "duration": 148,
    "start_time": "2022-08-23T09:33:46.450Z"
   },
   {
    "duration": 21,
    "start_time": "2022-08-23T09:33:46.600Z"
   },
   {
    "duration": 13,
    "start_time": "2022-08-23T09:33:46.623Z"
   },
   {
    "duration": 33,
    "start_time": "2022-08-23T09:33:46.637Z"
   },
   {
    "duration": 4,
    "start_time": "2022-08-23T09:33:46.671Z"
   },
   {
    "duration": 13,
    "start_time": "2022-08-23T09:33:46.677Z"
   },
   {
    "duration": 10,
    "start_time": "2022-08-23T09:33:46.708Z"
   },
   {
    "duration": 8,
    "start_time": "2022-08-23T09:33:46.720Z"
   },
   {
    "duration": 5,
    "start_time": "2022-08-23T09:33:46.730Z"
   },
   {
    "duration": 7,
    "start_time": "2022-08-23T09:33:46.736Z"
   },
   {
    "duration": 11,
    "start_time": "2022-08-23T09:33:46.744Z"
   },
   {
    "duration": 4,
    "start_time": "2022-08-23T09:33:46.756Z"
   },
   {
    "duration": 15,
    "start_time": "2022-08-23T09:33:46.761Z"
   },
   {
    "duration": 699,
    "start_time": "2022-08-23T09:33:46.777Z"
   },
   {
    "duration": 6,
    "start_time": "2022-08-23T09:33:48.257Z"
   },
   {
    "duration": 18,
    "start_time": "2022-08-23T09:38:20.841Z"
   },
   {
    "duration": 8,
    "start_time": "2022-08-23T09:38:44.320Z"
   },
   {
    "duration": 8,
    "start_time": "2022-08-23T09:39:10.487Z"
   },
   {
    "duration": 7,
    "start_time": "2022-08-23T09:39:17.828Z"
   },
   {
    "duration": 4,
    "start_time": "2022-08-23T09:39:43.621Z"
   },
   {
    "duration": 6,
    "start_time": "2022-08-23T09:44:05.376Z"
   },
   {
    "duration": 15,
    "start_time": "2022-08-23T09:46:16.239Z"
   },
   {
    "duration": 8,
    "start_time": "2022-08-23T09:46:30.716Z"
   },
   {
    "duration": 6,
    "start_time": "2022-08-23T09:46:36.440Z"
   },
   {
    "duration": 6,
    "start_time": "2022-08-23T09:46:39.863Z"
   },
   {
    "duration": 8,
    "start_time": "2022-08-23T09:51:37.630Z"
   },
   {
    "duration": 37,
    "start_time": "2022-08-23T09:53:06.429Z"
   },
   {
    "duration": 195,
    "start_time": "2022-08-23T09:58:30.402Z"
   },
   {
    "duration": 80,
    "start_time": "2022-08-23T09:58:35.938Z"
   },
   {
    "duration": 10,
    "start_time": "2022-08-23T09:58:39.921Z"
   },
   {
    "duration": 8,
    "start_time": "2022-08-23T10:00:00.489Z"
   },
   {
    "duration": 51,
    "start_time": "2022-08-23T10:04:44.236Z"
   },
   {
    "duration": 36,
    "start_time": "2022-08-23T10:04:57.102Z"
   },
   {
    "duration": 48,
    "start_time": "2022-08-23T10:13:29.047Z"
   },
   {
    "duration": 4,
    "start_time": "2022-08-23T10:16:43.356Z"
   },
   {
    "duration": 7,
    "start_time": "2022-08-23T10:16:46.571Z"
   },
   {
    "duration": 29,
    "start_time": "2022-08-23T10:17:07.203Z"
   },
   {
    "duration": 6,
    "start_time": "2022-08-23T10:17:10.797Z"
   },
   {
    "duration": 9,
    "start_time": "2022-08-23T10:18:56.348Z"
   },
   {
    "duration": 7,
    "start_time": "2022-08-23T10:28:20.373Z"
   },
   {
    "duration": 12,
    "start_time": "2022-08-23T10:28:32.200Z"
   },
   {
    "duration": 7,
    "start_time": "2022-08-23T10:28:37.132Z"
   },
   {
    "duration": 7,
    "start_time": "2022-08-23T10:28:44.597Z"
   },
   {
    "duration": 8,
    "start_time": "2022-08-23T10:29:17.728Z"
   },
   {
    "duration": 9,
    "start_time": "2022-08-23T10:29:19.694Z"
   },
   {
    "duration": 6,
    "start_time": "2022-08-23T10:29:58.093Z"
   },
   {
    "duration": 39,
    "start_time": "2022-08-23T10:30:36.165Z"
   },
   {
    "duration": 25,
    "start_time": "2022-08-23T10:30:48.517Z"
   },
   {
    "duration": 13,
    "start_time": "2022-08-23T10:30:57.773Z"
   },
   {
    "duration": 13,
    "start_time": "2022-08-23T10:31:09.164Z"
   },
   {
    "duration": 26,
    "start_time": "2022-08-23T10:31:18.565Z"
   },
   {
    "duration": 20,
    "start_time": "2022-08-23T10:31:24.205Z"
   },
   {
    "duration": 10,
    "start_time": "2022-08-23T10:31:29.924Z"
   },
   {
    "duration": 10,
    "start_time": "2022-08-23T10:31:32.221Z"
   },
   {
    "duration": 10,
    "start_time": "2022-08-23T10:31:45.102Z"
   },
   {
    "duration": 9,
    "start_time": "2022-08-23T10:32:05.733Z"
   },
   {
    "duration": 26,
    "start_time": "2022-08-23T10:32:14.580Z"
   },
   {
    "duration": 26,
    "start_time": "2022-08-23T10:32:58.435Z"
   },
   {
    "duration": 19,
    "start_time": "2022-08-23T10:33:52.444Z"
   },
   {
    "duration": 9,
    "start_time": "2022-08-23T10:36:15.466Z"
   },
   {
    "duration": 37,
    "start_time": "2022-08-23T10:36:18.850Z"
   },
   {
    "duration": 40,
    "start_time": "2022-08-23T10:38:00.890Z"
   },
   {
    "duration": 23,
    "start_time": "2022-08-23T10:42:51.417Z"
   },
   {
    "duration": 404,
    "start_time": "2022-08-23T10:42:55.116Z"
   },
   {
    "duration": 430,
    "start_time": "2022-08-23T10:43:01.040Z"
   },
   {
    "duration": 24,
    "start_time": "2022-08-23T10:47:14.727Z"
   },
   {
    "duration": 223,
    "start_time": "2022-08-23T10:52:27.502Z"
   },
   {
    "duration": 267,
    "start_time": "2022-08-23T10:52:36.228Z"
   },
   {
    "duration": 205,
    "start_time": "2022-08-23T10:54:51.844Z"
   },
   {
    "duration": 166,
    "start_time": "2022-08-23T10:58:58.290Z"
   },
   {
    "duration": 196,
    "start_time": "2022-08-23T10:59:05.732Z"
   },
   {
    "duration": 101,
    "start_time": "2022-08-23T10:59:20.275Z"
   },
   {
    "duration": 218,
    "start_time": "2022-08-23T10:59:24.338Z"
   },
   {
    "duration": 248,
    "start_time": "2022-08-23T10:59:30.779Z"
   },
   {
    "duration": 248,
    "start_time": "2022-08-23T10:59:34.318Z"
   },
   {
    "duration": 426,
    "start_time": "2022-08-23T10:59:57.395Z"
   },
   {
    "duration": 235,
    "start_time": "2022-08-23T11:00:05.362Z"
   },
   {
    "duration": 185,
    "start_time": "2022-08-23T11:03:28.065Z"
   },
   {
    "duration": 187,
    "start_time": "2022-08-23T11:03:34.577Z"
   },
   {
    "duration": 99,
    "start_time": "2022-08-23T11:04:14.256Z"
   },
   {
    "duration": 149,
    "start_time": "2022-08-23T11:04:18.959Z"
   },
   {
    "duration": 75,
    "start_time": "2022-08-23T11:04:34.577Z"
   },
   {
    "duration": 146,
    "start_time": "2022-08-23T11:04:37.976Z"
   },
   {
    "duration": 242,
    "start_time": "2022-08-23T11:04:55.948Z"
   },
   {
    "duration": 218,
    "start_time": "2022-08-23T11:05:05.440Z"
   },
   {
    "duration": 234,
    "start_time": "2022-08-23T11:06:46.792Z"
   },
   {
    "duration": 211,
    "start_time": "2022-08-23T11:06:56.808Z"
   },
   {
    "duration": 642,
    "start_time": "2022-08-23T11:07:28.792Z"
   },
   {
    "duration": 570,
    "start_time": "2022-08-23T11:07:32.640Z"
   },
   {
    "duration": 21,
    "start_time": "2022-08-23T11:09:58.327Z"
   },
   {
    "duration": 198,
    "start_time": "2022-08-23T11:10:07.031Z"
   },
   {
    "duration": 217,
    "start_time": "2022-08-23T11:10:22.782Z"
   },
   {
    "duration": 1348,
    "start_time": "2022-08-23T11:10:49.030Z"
   },
   {
    "duration": 197,
    "start_time": "2022-08-23T11:10:57.933Z"
   },
   {
    "duration": 255,
    "start_time": "2022-08-23T11:11:34.726Z"
   },
   {
    "duration": 215,
    "start_time": "2022-08-23T11:11:40.005Z"
   },
   {
    "duration": 210,
    "start_time": "2022-08-23T11:14:07.143Z"
   },
   {
    "duration": 367,
    "start_time": "2022-08-23T11:14:49.781Z"
   },
   {
    "duration": 3,
    "start_time": "2022-08-23T11:15:41.667Z"
   },
   {
    "duration": 211,
    "start_time": "2022-08-23T11:16:34.660Z"
   },
   {
    "duration": 202,
    "start_time": "2022-08-23T11:17:04.700Z"
   },
   {
    "duration": 236,
    "start_time": "2022-08-23T11:17:13.251Z"
   },
   {
    "duration": 244,
    "start_time": "2022-08-23T11:18:49.514Z"
   },
   {
    "duration": 237,
    "start_time": "2022-08-23T11:18:53.706Z"
   },
   {
    "duration": 224,
    "start_time": "2022-08-23T11:21:00.827Z"
   },
   {
    "duration": 228,
    "start_time": "2022-08-23T11:21:08.795Z"
   },
   {
    "duration": 260,
    "start_time": "2022-08-23T11:21:13.290Z"
   },
   {
    "duration": 302,
    "start_time": "2022-08-23T11:21:22.217Z"
   },
   {
    "duration": 343,
    "start_time": "2022-08-23T11:21:26.457Z"
   },
   {
    "duration": 248,
    "start_time": "2022-08-23T11:21:31.186Z"
   },
   {
    "duration": 256,
    "start_time": "2022-08-23T11:21:34.594Z"
   },
   {
    "duration": 247,
    "start_time": "2022-08-23T11:22:39.721Z"
   },
   {
    "duration": 242,
    "start_time": "2022-08-23T11:23:05.585Z"
   },
   {
    "duration": 299,
    "start_time": "2022-08-23T11:23:38.689Z"
   },
   {
    "duration": 242,
    "start_time": "2022-08-23T11:23:45.259Z"
   },
   {
    "duration": 245,
    "start_time": "2022-08-23T11:23:48.257Z"
   },
   {
    "duration": 291,
    "start_time": "2022-08-23T11:25:08.344Z"
   },
   {
    "duration": 257,
    "start_time": "2022-08-23T11:25:13.202Z"
   },
   {
    "duration": 252,
    "start_time": "2022-08-23T11:25:16.825Z"
   },
   {
    "duration": 342,
    "start_time": "2022-08-23T11:25:33.337Z"
   },
   {
    "duration": 265,
    "start_time": "2022-08-23T11:25:37.560Z"
   },
   {
    "duration": 8,
    "start_time": "2022-08-23T11:45:50.857Z"
   },
   {
    "duration": 5,
    "start_time": "2022-08-23T11:45:58.168Z"
   },
   {
    "duration": 10,
    "start_time": "2022-08-23T11:46:08.120Z"
   },
   {
    "duration": 7,
    "start_time": "2022-08-23T11:46:28.064Z"
   },
   {
    "duration": 10,
    "start_time": "2022-08-23T11:46:31.465Z"
   },
   {
    "duration": 11,
    "start_time": "2022-08-23T11:46:42.505Z"
   },
   {
    "duration": 6,
    "start_time": "2022-08-23T11:46:45.591Z"
   },
   {
    "duration": 8,
    "start_time": "2022-08-23T11:46:52.943Z"
   },
   {
    "duration": 277,
    "start_time": "2022-08-23T11:55:21.742Z"
   },
   {
    "duration": 463,
    "start_time": "2022-08-23T11:58:33.691Z"
   },
   {
    "duration": 1112,
    "start_time": "2022-08-23T11:58:41.674Z"
   },
   {
    "duration": 182,
    "start_time": "2022-08-23T11:58:42.788Z"
   },
   {
    "duration": 17,
    "start_time": "2022-08-23T11:58:42.971Z"
   },
   {
    "duration": 12,
    "start_time": "2022-08-23T11:58:42.990Z"
   },
   {
    "duration": 32,
    "start_time": "2022-08-23T11:58:43.004Z"
   },
   {
    "duration": 5,
    "start_time": "2022-08-23T11:58:43.037Z"
   },
   {
    "duration": 13,
    "start_time": "2022-08-23T11:58:43.043Z"
   },
   {
    "duration": 13,
    "start_time": "2022-08-23T11:58:43.057Z"
   },
   {
    "duration": 7,
    "start_time": "2022-08-23T11:58:43.071Z"
   },
   {
    "duration": 5,
    "start_time": "2022-08-23T11:58:43.080Z"
   },
   {
    "duration": 30,
    "start_time": "2022-08-23T11:58:43.087Z"
   },
   {
    "duration": 13,
    "start_time": "2022-08-23T11:58:43.119Z"
   },
   {
    "duration": 5,
    "start_time": "2022-08-23T11:58:43.133Z"
   },
   {
    "duration": 14,
    "start_time": "2022-08-23T11:58:43.139Z"
   },
   {
    "duration": 338,
    "start_time": "2022-08-23T11:58:43.154Z"
   },
   {
    "duration": 303,
    "start_time": "2022-08-23T11:58:43.493Z"
   },
   {
    "duration": 246,
    "start_time": "2022-08-23T11:58:45.055Z"
   },
   {
    "duration": 92,
    "start_time": "2022-08-23T11:59:24.599Z"
   },
   {
    "duration": 21375,
    "start_time": "2022-08-23T11:59:42.800Z"
   },
   {
    "duration": 28,
    "start_time": "2022-08-23T12:00:47.334Z"
   },
   {
    "duration": 2,
    "start_time": "2022-08-23T12:02:41.312Z"
   },
   {
    "duration": 10,
    "start_time": "2022-08-23T12:04:37.693Z"
   },
   {
    "duration": 9,
    "start_time": "2022-08-23T12:04:42.229Z"
   },
   {
    "duration": 7,
    "start_time": "2022-08-23T12:04:45.492Z"
   },
   {
    "duration": 7,
    "start_time": "2022-08-23T12:04:51.133Z"
   },
   {
    "duration": 9,
    "start_time": "2022-08-23T12:05:19.685Z"
   },
   {
    "duration": 11,
    "start_time": "2022-08-23T12:08:56.347Z"
   },
   {
    "duration": 135,
    "start_time": "2022-08-23T12:12:38.417Z"
   },
   {
    "duration": 134,
    "start_time": "2022-08-23T12:12:51.890Z"
   },
   {
    "duration": 126,
    "start_time": "2022-08-23T12:13:14.906Z"
   },
   {
    "duration": 243,
    "start_time": "2022-08-23T12:13:33.649Z"
   },
   {
    "duration": 6,
    "start_time": "2022-08-23T12:13:58.634Z"
   },
   {
    "duration": 8,
    "start_time": "2022-08-23T12:14:46.097Z"
   },
   {
    "duration": 7,
    "start_time": "2022-08-23T12:14:51.768Z"
   },
   {
    "duration": 126,
    "start_time": "2022-08-23T12:16:52.160Z"
   },
   {
    "duration": 127,
    "start_time": "2022-08-23T12:17:08.696Z"
   },
   {
    "duration": 130,
    "start_time": "2022-08-23T12:17:11.863Z"
   },
   {
    "duration": 158,
    "start_time": "2022-08-23T12:17:17.072Z"
   },
   {
    "duration": 288,
    "start_time": "2022-08-23T12:17:23.832Z"
   },
   {
    "duration": 279,
    "start_time": "2022-08-23T12:17:30.336Z"
   },
   {
    "duration": 298,
    "start_time": "2022-08-23T12:17:32.824Z"
   },
   {
    "duration": 135,
    "start_time": "2022-08-23T12:18:15.465Z"
   },
   {
    "duration": 570,
    "start_time": "2022-08-23T12:18:31.008Z"
   },
   {
    "duration": 330,
    "start_time": "2022-08-23T12:18:33.448Z"
   },
   {
    "duration": 248,
    "start_time": "2022-08-23T12:18:57.463Z"
   },
   {
    "duration": 272,
    "start_time": "2022-08-23T12:19:10.695Z"
   },
   {
    "duration": 284,
    "start_time": "2022-08-23T12:19:43.416Z"
   },
   {
    "duration": 281,
    "start_time": "2022-08-23T12:19:51.578Z"
   },
   {
    "duration": 300,
    "start_time": "2022-08-23T12:19:55.160Z"
   },
   {
    "duration": 280,
    "start_time": "2022-08-23T12:20:05.167Z"
   },
   {
    "duration": 453,
    "start_time": "2022-08-23T12:20:08.040Z"
   },
   {
    "duration": 326,
    "start_time": "2022-08-23T12:20:10.150Z"
   },
   {
    "duration": 282,
    "start_time": "2022-08-23T12:20:29.896Z"
   },
   {
    "duration": 374,
    "start_time": "2022-08-23T12:20:36.063Z"
   },
   {
    "duration": 298,
    "start_time": "2022-08-23T12:20:38.647Z"
   },
   {
    "duration": 305,
    "start_time": "2022-08-23T12:20:41.160Z"
   },
   {
    "duration": 295,
    "start_time": "2022-08-23T12:20:43.111Z"
   },
   {
    "duration": 271,
    "start_time": "2022-08-23T12:20:53.702Z"
   },
   {
    "duration": 314,
    "start_time": "2022-08-23T12:21:06.527Z"
   },
   {
    "duration": 285,
    "start_time": "2022-08-23T12:21:13.006Z"
   },
   {
    "duration": 318,
    "start_time": "2022-08-23T12:21:21.727Z"
   },
   {
    "duration": 293,
    "start_time": "2022-08-23T12:34:57.554Z"
   },
   {
    "duration": 1545,
    "start_time": "2022-08-23T12:43:35.295Z"
   },
   {
    "duration": 280,
    "start_time": "2022-08-23T12:43:48.535Z"
   },
   {
    "duration": 303,
    "start_time": "2022-08-23T12:43:57.321Z"
   },
   {
    "duration": 142,
    "start_time": "2022-08-23T12:45:08.335Z"
   },
   {
    "duration": 148,
    "start_time": "2022-08-23T12:45:11.703Z"
   },
   {
    "duration": 175,
    "start_time": "2022-08-23T12:45:26.398Z"
   },
   {
    "duration": 147,
    "start_time": "2022-08-23T12:45:39.824Z"
   },
   {
    "duration": 163,
    "start_time": "2022-08-23T12:45:42.093Z"
   },
   {
    "duration": 5,
    "start_time": "2022-08-23T12:50:55.884Z"
   },
   {
    "duration": 24,
    "start_time": "2022-08-23T12:51:00.780Z"
   },
   {
    "duration": 7,
    "start_time": "2022-08-23T12:51:11.724Z"
   },
   {
    "duration": 7,
    "start_time": "2022-08-23T12:51:38.316Z"
   },
   {
    "duration": 7,
    "start_time": "2022-08-23T12:52:51.780Z"
   },
   {
    "duration": 154,
    "start_time": "2022-08-23T12:52:53.155Z"
   },
   {
    "duration": 146,
    "start_time": "2022-08-23T12:53:04.947Z"
   },
   {
    "duration": 160,
    "start_time": "2022-08-23T12:53:41.011Z"
   },
   {
    "duration": 158,
    "start_time": "2022-08-23T12:53:46.628Z"
   },
   {
    "duration": 5,
    "start_time": "2022-08-23T12:54:19.666Z"
   },
   {
    "duration": 7,
    "start_time": "2022-08-23T12:54:22.666Z"
   },
   {
    "duration": 11,
    "start_time": "2022-08-23T12:54:29.698Z"
   },
   {
    "duration": 9,
    "start_time": "2022-08-23T12:54:38.603Z"
   },
   {
    "duration": 117,
    "start_time": "2022-08-23T12:55:28.025Z"
   },
   {
    "duration": 109,
    "start_time": "2022-08-23T12:55:36.483Z"
   },
   {
    "duration": 90,
    "start_time": "2022-08-23T12:55:44.978Z"
   },
   {
    "duration": 156,
    "start_time": "2022-08-23T12:55:52.714Z"
   },
   {
    "duration": 176,
    "start_time": "2022-08-23T12:56:25.450Z"
   },
   {
    "duration": 165,
    "start_time": "2022-08-23T12:56:30.170Z"
   },
   {
    "duration": 9,
    "start_time": "2022-08-23T12:57:36.177Z"
   },
   {
    "duration": 6,
    "start_time": "2022-08-23T12:57:55.514Z"
   },
   {
    "duration": 11,
    "start_time": "2022-08-23T12:59:06.777Z"
   },
   {
    "duration": 10,
    "start_time": "2022-08-23T12:59:48.409Z"
   },
   {
    "duration": 11,
    "start_time": "2022-08-23T12:59:52.023Z"
   },
   {
    "duration": 9,
    "start_time": "2022-08-23T12:59:54.329Z"
   },
   {
    "duration": 8,
    "start_time": "2022-08-23T13:04:15.894Z"
   },
   {
    "duration": 13,
    "start_time": "2022-08-23T13:04:24.830Z"
   },
   {
    "duration": 14,
    "start_time": "2022-08-23T13:04:59.863Z"
   },
   {
    "duration": 19,
    "start_time": "2022-08-23T13:05:12.590Z"
   },
   {
    "duration": 18,
    "start_time": "2022-08-23T13:05:18.614Z"
   },
   {
    "duration": 14,
    "start_time": "2022-08-23T13:05:23.926Z"
   },
   {
    "duration": 10,
    "start_time": "2022-08-23T13:05:57.702Z"
   },
   {
    "duration": 14,
    "start_time": "2022-08-23T13:06:05.413Z"
   },
   {
    "duration": 14,
    "start_time": "2022-08-23T13:06:17.822Z"
   },
   {
    "duration": 18,
    "start_time": "2022-08-23T13:06:35.134Z"
   },
   {
    "duration": 13,
    "start_time": "2022-08-23T13:06:45.775Z"
   },
   {
    "duration": 14,
    "start_time": "2022-08-23T13:06:54.590Z"
   },
   {
    "duration": 13,
    "start_time": "2022-08-23T13:06:57.942Z"
   },
   {
    "duration": 14,
    "start_time": "2022-08-23T13:07:18.390Z"
   },
   {
    "duration": 152,
    "start_time": "2022-08-23T13:07:25.061Z"
   },
   {
    "duration": 150,
    "start_time": "2022-08-23T13:07:29.658Z"
   },
   {
    "duration": 134,
    "start_time": "2022-08-23T13:13:03.275Z"
   },
   {
    "duration": 280,
    "start_time": "2022-08-23T13:14:57.010Z"
   },
   {
    "duration": 8,
    "start_time": "2022-08-23T13:15:07.749Z"
   },
   {
    "duration": 300,
    "start_time": "2022-08-23T13:15:10.026Z"
   },
   {
    "duration": 277,
    "start_time": "2022-08-23T13:15:25.283Z"
   },
   {
    "duration": 298,
    "start_time": "2022-08-23T13:16:42.002Z"
   },
   {
    "duration": 290,
    "start_time": "2022-08-23T13:16:59.705Z"
   },
   {
    "duration": 277,
    "start_time": "2022-08-23T13:17:04.170Z"
   },
   {
    "duration": 330,
    "start_time": "2022-08-23T13:17:07.529Z"
   },
   {
    "duration": 284,
    "start_time": "2022-08-23T13:17:48.882Z"
   },
   {
    "duration": 297,
    "start_time": "2022-08-23T13:17:51.209Z"
   },
   {
    "duration": 240,
    "start_time": "2022-08-23T13:20:28.192Z"
   },
   {
    "duration": 294,
    "start_time": "2022-08-23T13:20:43.009Z"
   },
   {
    "duration": 301,
    "start_time": "2022-08-23T13:21:22.704Z"
   },
   {
    "duration": 244,
    "start_time": "2022-08-23T13:22:14.488Z"
   },
   {
    "duration": 249,
    "start_time": "2022-08-23T13:22:22.560Z"
   },
   {
    "duration": 276,
    "start_time": "2022-08-23T13:22:27.991Z"
   },
   {
    "duration": 356,
    "start_time": "2022-08-23T13:22:46.024Z"
   },
   {
    "duration": 11,
    "start_time": "2022-08-23T13:22:57.903Z"
   },
   {
    "duration": 680,
    "start_time": "2022-08-23T13:23:47.651Z"
   },
   {
    "duration": 1911,
    "start_time": "2022-08-23T13:32:56.363Z"
   },
   {
    "duration": 1828,
    "start_time": "2022-08-23T13:33:08.491Z"
   },
   {
    "duration": 2587,
    "start_time": "2022-08-23T13:33:15.963Z"
   },
   {
    "duration": 2138,
    "start_time": "2022-08-23T13:33:22.123Z"
   },
   {
    "duration": 159,
    "start_time": "2022-08-23T13:50:19.893Z"
   },
   {
    "duration": 182,
    "start_time": "2022-08-23T13:50:28.324Z"
   },
   {
    "duration": 14,
    "start_time": "2022-08-23T15:01:57.173Z"
   },
   {
    "duration": 306,
    "start_time": "2022-08-23T15:02:14.673Z"
   },
   {
    "duration": 153,
    "start_time": "2022-08-23T15:05:18.527Z"
   },
   {
    "duration": 165,
    "start_time": "2022-08-23T15:05:21.245Z"
   },
   {
    "duration": 157,
    "start_time": "2022-08-23T15:08:01.541Z"
   },
   {
    "duration": 154,
    "start_time": "2022-08-23T15:08:47.921Z"
   },
   {
    "duration": 151,
    "start_time": "2022-08-23T15:08:51.283Z"
   },
   {
    "duration": 151,
    "start_time": "2022-08-23T15:08:54.682Z"
   },
   {
    "duration": 148,
    "start_time": "2022-08-23T15:08:58.332Z"
   },
   {
    "duration": 143,
    "start_time": "2022-08-23T15:09:04.443Z"
   },
   {
    "duration": 154,
    "start_time": "2022-08-23T15:09:48.218Z"
   },
   {
    "duration": 163,
    "start_time": "2022-08-23T15:10:17.084Z"
   },
   {
    "duration": 214,
    "start_time": "2022-08-23T15:10:26.044Z"
   },
   {
    "duration": 167,
    "start_time": "2022-08-23T15:10:30.754Z"
   },
   {
    "duration": 167,
    "start_time": "2022-08-23T15:12:47.665Z"
   },
   {
    "duration": 173,
    "start_time": "2022-08-23T15:13:07.552Z"
   },
   {
    "duration": 174,
    "start_time": "2022-08-23T15:13:26.657Z"
   },
   {
    "duration": 213,
    "start_time": "2022-08-23T15:23:09.164Z"
   },
   {
    "duration": 250,
    "start_time": "2022-08-23T15:23:10.976Z"
   },
   {
    "duration": 76,
    "start_time": "2022-08-23T15:23:56.656Z"
   },
   {
    "duration": 70,
    "start_time": "2022-08-23T15:24:04.136Z"
   },
   {
    "duration": 269,
    "start_time": "2022-08-23T15:24:32.024Z"
   },
   {
    "duration": 269,
    "start_time": "2022-08-23T15:26:15.159Z"
   },
   {
    "duration": 240,
    "start_time": "2022-08-23T15:26:17.911Z"
   },
   {
    "duration": 736,
    "start_time": "2022-08-23T15:26:21.479Z"
   },
   {
    "duration": 245,
    "start_time": "2022-08-23T15:26:24.648Z"
   },
   {
    "duration": 251,
    "start_time": "2022-08-23T15:26:27.462Z"
   },
   {
    "duration": 235,
    "start_time": "2022-08-23T15:26:30.111Z"
   },
   {
    "duration": 272,
    "start_time": "2022-08-23T15:26:32.831Z"
   },
   {
    "duration": 257,
    "start_time": "2022-08-23T15:26:35.215Z"
   },
   {
    "duration": 271,
    "start_time": "2022-08-23T15:27:32.847Z"
   },
   {
    "duration": 279,
    "start_time": "2022-08-23T15:27:38.768Z"
   },
   {
    "duration": 154,
    "start_time": "2022-08-23T15:28:44.278Z"
   },
   {
    "duration": 147,
    "start_time": "2022-08-23T15:28:57.711Z"
   },
   {
    "duration": 146,
    "start_time": "2022-08-23T15:29:00.695Z"
   },
   {
    "duration": 244,
    "start_time": "2022-08-23T15:29:03.063Z"
   },
   {
    "duration": 249,
    "start_time": "2022-08-23T15:29:58.567Z"
   },
   {
    "duration": 241,
    "start_time": "2022-08-23T15:30:06.677Z"
   },
   {
    "duration": 239,
    "start_time": "2022-08-23T15:30:40.030Z"
   },
   {
    "duration": 146,
    "start_time": "2022-08-23T15:30:48.903Z"
   },
   {
    "duration": 237,
    "start_time": "2022-08-23T15:30:51.277Z"
   },
   {
    "duration": 319,
    "start_time": "2022-08-23T15:30:56.013Z"
   },
   {
    "duration": 12,
    "start_time": "2022-08-23T15:39:13.146Z"
   },
   {
    "duration": 6,
    "start_time": "2022-08-23T15:48:51.071Z"
   },
   {
    "duration": 8,
    "start_time": "2022-08-23T15:48:59.591Z"
   },
   {
    "duration": 6,
    "start_time": "2022-08-23T15:49:16.812Z"
   },
   {
    "duration": 8,
    "start_time": "2022-08-23T15:49:44.687Z"
   },
   {
    "duration": 9,
    "start_time": "2022-08-23T15:49:48.921Z"
   },
   {
    "duration": 109,
    "start_time": "2022-08-23T15:49:55.121Z"
   },
   {
    "duration": 6,
    "start_time": "2022-08-23T15:49:58.447Z"
   },
   {
    "duration": 8,
    "start_time": "2022-08-23T15:50:18.423Z"
   },
   {
    "duration": 9,
    "start_time": "2022-08-23T15:50:22.847Z"
   },
   {
    "duration": 7,
    "start_time": "2022-08-23T15:50:25.903Z"
   },
   {
    "duration": 7,
    "start_time": "2022-08-23T15:50:45.350Z"
   },
   {
    "duration": 7,
    "start_time": "2022-08-23T15:50:51.774Z"
   },
   {
    "duration": 9,
    "start_time": "2022-08-23T15:51:12.206Z"
   },
   {
    "duration": 10,
    "start_time": "2022-08-23T15:51:22.471Z"
   },
   {
    "duration": 9,
    "start_time": "2022-08-23T15:51:26.503Z"
   },
   {
    "duration": 8,
    "start_time": "2022-08-23T15:51:30.726Z"
   },
   {
    "duration": 8,
    "start_time": "2022-08-23T15:51:32.566Z"
   },
   {
    "duration": 9,
    "start_time": "2022-08-23T15:51:55.534Z"
   },
   {
    "duration": 9,
    "start_time": "2022-08-23T15:51:58.646Z"
   },
   {
    "duration": 7,
    "start_time": "2022-08-23T15:53:13.591Z"
   },
   {
    "duration": 7,
    "start_time": "2022-08-23T15:53:35.806Z"
   },
   {
    "duration": 8,
    "start_time": "2022-08-23T15:53:37.254Z"
   },
   {
    "duration": 8,
    "start_time": "2022-08-23T15:54:04.565Z"
   },
   {
    "duration": 6,
    "start_time": "2022-08-23T15:56:42.454Z"
   },
   {
    "duration": 32,
    "start_time": "2022-08-23T15:57:31.700Z"
   },
   {
    "duration": 8,
    "start_time": "2022-08-23T16:00:37.050Z"
   },
   {
    "duration": 12,
    "start_time": "2022-08-23T16:01:32.763Z"
   },
   {
    "duration": 15,
    "start_time": "2022-08-23T16:01:37.542Z"
   },
   {
    "duration": 10,
    "start_time": "2022-08-23T16:01:46.178Z"
   },
   {
    "duration": 9,
    "start_time": "2022-08-23T16:01:56.275Z"
   },
   {
    "duration": 13,
    "start_time": "2022-08-23T16:01:58.898Z"
   },
   {
    "duration": 14,
    "start_time": "2022-08-23T16:02:01.418Z"
   },
   {
    "duration": 7,
    "start_time": "2022-08-23T16:04:36.402Z"
   },
   {
    "duration": 6,
    "start_time": "2022-08-23T16:04:37.914Z"
   },
   {
    "duration": 8,
    "start_time": "2022-08-23T16:04:40.018Z"
   },
   {
    "duration": 8,
    "start_time": "2022-08-23T16:04:49.769Z"
   },
   {
    "duration": 7,
    "start_time": "2022-08-23T16:04:55.273Z"
   },
   {
    "duration": 7,
    "start_time": "2022-08-23T16:06:44.865Z"
   },
   {
    "duration": 8,
    "start_time": "2022-08-23T16:06:48.096Z"
   },
   {
    "duration": 8,
    "start_time": "2022-08-23T16:06:51.520Z"
   },
   {
    "duration": 75,
    "start_time": "2022-08-23T16:15:52.013Z"
   },
   {
    "duration": 33,
    "start_time": "2022-08-23T16:16:05.213Z"
   },
   {
    "duration": 45,
    "start_time": "2022-08-23T16:16:50.062Z"
   },
   {
    "duration": 145,
    "start_time": "2022-08-23T16:16:57.903Z"
   },
   {
    "duration": 154,
    "start_time": "2022-08-23T16:17:07.207Z"
   },
   {
    "duration": 121,
    "start_time": "2022-08-23T16:17:12.765Z"
   },
   {
    "duration": 114,
    "start_time": "2022-08-23T16:17:33.836Z"
   },
   {
    "duration": 123,
    "start_time": "2022-08-23T16:17:53.107Z"
   },
   {
    "duration": 116,
    "start_time": "2022-08-23T16:19:19.908Z"
   },
   {
    "duration": 129,
    "start_time": "2022-08-23T16:19:23.837Z"
   },
   {
    "duration": 141,
    "start_time": "2022-08-23T16:19:32.717Z"
   },
   {
    "duration": 113,
    "start_time": "2022-08-23T16:19:39.317Z"
   },
   {
    "duration": 113,
    "start_time": "2022-08-23T16:19:42.300Z"
   },
   {
    "duration": 15,
    "start_time": "2022-08-23T16:21:22.284Z"
   },
   {
    "duration": 15,
    "start_time": "2022-08-23T16:27:10.337Z"
   },
   {
    "duration": 150,
    "start_time": "2022-08-23T16:27:17.842Z"
   },
   {
    "duration": 165,
    "start_time": "2022-08-23T16:27:28.305Z"
   },
   {
    "duration": 223,
    "start_time": "2022-08-23T16:27:38.346Z"
   },
   {
    "duration": 133,
    "start_time": "2022-08-23T16:31:08.544Z"
   },
   {
    "duration": 96,
    "start_time": "2022-08-23T16:33:46.447Z"
   },
   {
    "duration": 93,
    "start_time": "2022-08-23T16:33:57.535Z"
   },
   {
    "duration": 174,
    "start_time": "2022-08-23T16:34:16.350Z"
   },
   {
    "duration": 176,
    "start_time": "2022-08-23T16:34:38.239Z"
   },
   {
    "duration": 11,
    "start_time": "2022-08-23T16:50:47.769Z"
   },
   {
    "duration": 117,
    "start_time": "2022-08-23T16:50:53.937Z"
   },
   {
    "duration": 119,
    "start_time": "2022-08-23T16:50:55.465Z"
   },
   {
    "duration": 115,
    "start_time": "2022-08-23T16:50:57.945Z"
   },
   {
    "duration": 47,
    "start_time": "2022-08-24T09:38:43.737Z"
   },
   {
    "duration": 1244,
    "start_time": "2022-08-24T09:38:48.428Z"
   },
   {
    "duration": 93,
    "start_time": "2022-08-24T09:38:49.674Z"
   },
   {
    "duration": 16,
    "start_time": "2022-08-24T09:38:49.768Z"
   },
   {
    "duration": 12,
    "start_time": "2022-08-24T09:38:49.786Z"
   },
   {
    "duration": 27,
    "start_time": "2022-08-24T09:38:49.799Z"
   },
   {
    "duration": 4,
    "start_time": "2022-08-24T09:38:49.828Z"
   },
   {
    "duration": 11,
    "start_time": "2022-08-24T09:38:49.834Z"
   },
   {
    "duration": 8,
    "start_time": "2022-08-24T09:38:49.846Z"
   },
   {
    "duration": 5,
    "start_time": "2022-08-24T09:38:49.855Z"
   },
   {
    "duration": 10,
    "start_time": "2022-08-24T09:38:49.862Z"
   },
   {
    "duration": 7,
    "start_time": "2022-08-24T09:38:49.873Z"
   },
   {
    "duration": 32,
    "start_time": "2022-08-24T09:38:49.881Z"
   },
   {
    "duration": 6,
    "start_time": "2022-08-24T09:38:49.915Z"
   },
   {
    "duration": 21,
    "start_time": "2022-08-24T09:38:49.924Z"
   },
   {
    "duration": 308,
    "start_time": "2022-08-24T09:38:49.947Z"
   },
   {
    "duration": 287,
    "start_time": "2022-08-24T09:38:50.256Z"
   },
   {
    "duration": 7,
    "start_time": "2022-08-24T09:38:50.544Z"
   },
   {
    "duration": 289,
    "start_time": "2022-08-24T09:38:50.552Z"
   },
   {
    "duration": 241,
    "start_time": "2022-08-24T09:38:50.842Z"
   },
   {
    "duration": 13,
    "start_time": "2022-08-24T09:38:51.084Z"
   },
   {
    "duration": 151,
    "start_time": "2022-08-24T09:38:51.099Z"
   },
   {
    "duration": 140,
    "start_time": "2022-08-24T09:38:51.252Z"
   },
   {
    "duration": 236,
    "start_time": "2022-08-24T09:38:51.394Z"
   },
   {
    "duration": 116,
    "start_time": "2022-08-24T09:38:51.631Z"
   },
   {
    "duration": 130,
    "start_time": "2022-08-24T09:38:51.749Z"
   },
   {
    "duration": 109,
    "start_time": "2022-08-24T09:38:51.881Z"
   },
   {
    "duration": 132,
    "start_time": "2022-08-24T09:38:51.992Z"
   },
   {
    "duration": 130,
    "start_time": "2022-08-24T09:38:52.127Z"
   },
   {
    "duration": 121,
    "start_time": "2022-08-24T09:38:52.259Z"
   },
   {
    "duration": 11,
    "start_time": "2022-08-24T09:39:03.226Z"
   },
   {
    "duration": 105,
    "start_time": "2022-08-24T09:39:13.183Z"
   },
   {
    "duration": 111,
    "start_time": "2022-08-24T09:39:52.334Z"
   },
   {
    "duration": 95,
    "start_time": "2022-08-24T09:39:55.253Z"
   },
   {
    "duration": 215,
    "start_time": "2022-08-24T09:50:50.697Z"
   },
   {
    "duration": 3,
    "start_time": "2022-08-24T10:49:37.725Z"
   },
   {
    "duration": 10,
    "start_time": "2022-08-24T10:56:50.562Z"
   },
   {
    "duration": 5,
    "start_time": "2022-08-24T10:57:08.331Z"
   },
   {
    "duration": 11,
    "start_time": "2022-08-24T10:59:20.818Z"
   },
   {
    "duration": 6,
    "start_time": "2022-08-24T10:59:47.337Z"
   },
   {
    "duration": 1030,
    "start_time": "2022-08-24T11:00:11.046Z"
   },
   {
    "duration": 100,
    "start_time": "2022-08-24T11:00:12.078Z"
   },
   {
    "duration": 16,
    "start_time": "2022-08-24T11:00:12.179Z"
   },
   {
    "duration": 14,
    "start_time": "2022-08-24T11:00:12.197Z"
   },
   {
    "duration": 32,
    "start_time": "2022-08-24T11:00:12.213Z"
   },
   {
    "duration": 47,
    "start_time": "2022-08-24T11:00:12.246Z"
   },
   {
    "duration": 35,
    "start_time": "2022-08-24T11:00:12.294Z"
   },
   {
    "duration": 36,
    "start_time": "2022-08-24T11:00:12.331Z"
   },
   {
    "duration": 36,
    "start_time": "2022-08-24T11:00:12.368Z"
   },
   {
    "duration": 22,
    "start_time": "2022-08-24T11:00:12.407Z"
   },
   {
    "duration": 11,
    "start_time": "2022-08-24T11:00:12.431Z"
   },
   {
    "duration": 28,
    "start_time": "2022-08-24T11:00:12.444Z"
   },
   {
    "duration": 21,
    "start_time": "2022-08-24T11:00:12.474Z"
   },
   {
    "duration": 46,
    "start_time": "2022-08-24T11:00:12.497Z"
   },
   {
    "duration": 363,
    "start_time": "2022-08-24T11:00:12.545Z"
   },
   {
    "duration": 274,
    "start_time": "2022-08-24T11:00:12.909Z"
   },
   {
    "duration": 6,
    "start_time": "2022-08-24T11:00:13.185Z"
   },
   {
    "duration": 317,
    "start_time": "2022-08-24T11:00:13.192Z"
   },
   {
    "duration": 238,
    "start_time": "2022-08-24T11:00:13.511Z"
   },
   {
    "duration": 13,
    "start_time": "2022-08-24T11:00:13.751Z"
   },
   {
    "duration": 154,
    "start_time": "2022-08-24T11:00:13.765Z"
   },
   {
    "duration": 131,
    "start_time": "2022-08-24T11:00:13.921Z"
   },
   {
    "duration": 224,
    "start_time": "2022-08-24T11:00:14.054Z"
   },
   {
    "duration": 117,
    "start_time": "2022-08-24T11:00:14.280Z"
   },
   {
    "duration": 113,
    "start_time": "2022-08-24T11:00:14.399Z"
   },
   {
    "duration": 110,
    "start_time": "2022-08-24T11:00:14.513Z"
   },
   {
    "duration": 137,
    "start_time": "2022-08-24T11:00:14.625Z"
   },
   {
    "duration": 119,
    "start_time": "2022-08-24T11:00:14.764Z"
   },
   {
    "duration": 113,
    "start_time": "2022-08-24T11:00:14.885Z"
   },
   {
    "duration": 98,
    "start_time": "2022-08-24T11:00:15.000Z"
   },
   {
    "duration": 114,
    "start_time": "2022-08-24T11:00:15.099Z"
   },
   {
    "duration": 104,
    "start_time": "2022-08-24T11:00:15.215Z"
   },
   {
    "duration": 10,
    "start_time": "2022-08-24T11:00:15.321Z"
   },
   {
    "duration": 6,
    "start_time": "2022-08-24T11:00:17.106Z"
   },
   {
    "duration": 54,
    "start_time": "2022-08-24T11:02:03.585Z"
   },
   {
    "duration": 27,
    "start_time": "2022-08-24T11:02:13.104Z"
   },
   {
    "duration": 6,
    "start_time": "2022-08-24T11:02:21.313Z"
   },
   {
    "duration": 6,
    "start_time": "2022-08-24T11:02:39.033Z"
   },
   {
    "duration": 14,
    "start_time": "2022-08-24T11:03:38.065Z"
   },
   {
    "duration": 6,
    "start_time": "2022-08-24T11:04:00.720Z"
   },
   {
    "duration": 7,
    "start_time": "2022-08-24T11:04:40.176Z"
   },
   {
    "duration": 6,
    "start_time": "2022-08-24T11:05:50.151Z"
   },
   {
    "duration": 8,
    "start_time": "2022-08-24T11:06:06.744Z"
   },
   {
    "duration": 7,
    "start_time": "2022-08-24T11:06:08.760Z"
   },
   {
    "duration": 5,
    "start_time": "2022-08-24T11:06:19.007Z"
   },
   {
    "duration": 5,
    "start_time": "2022-08-24T11:06:35.895Z"
   },
   {
    "duration": 7,
    "start_time": "2022-08-24T11:09:39.655Z"
   },
   {
    "duration": 6,
    "start_time": "2022-08-24T11:09:48.437Z"
   },
   {
    "duration": 7,
    "start_time": "2022-08-24T11:09:51.782Z"
   },
   {
    "duration": 6,
    "start_time": "2022-08-24T11:09:58.487Z"
   },
   {
    "duration": 6,
    "start_time": "2022-08-24T11:16:33.459Z"
   },
   {
    "duration": 5,
    "start_time": "2022-08-24T11:16:36.451Z"
   },
   {
    "duration": 4,
    "start_time": "2022-08-24T11:16:51.196Z"
   },
   {
    "duration": 7,
    "start_time": "2022-08-24T11:18:01.235Z"
   },
   {
    "duration": 7,
    "start_time": "2022-08-24T11:18:06.132Z"
   },
   {
    "duration": 7,
    "start_time": "2022-08-24T11:18:08.746Z"
   },
   {
    "duration": 3,
    "start_time": "2022-08-24T11:19:29.523Z"
   },
   {
    "duration": 6,
    "start_time": "2022-08-24T11:19:39.138Z"
   },
   {
    "duration": 10,
    "start_time": "2022-08-24T11:23:32.472Z"
   },
   {
    "duration": 4,
    "start_time": "2022-08-24T11:25:14.376Z"
   },
   {
    "duration": 7,
    "start_time": "2022-08-24T11:25:16.640Z"
   },
   {
    "duration": 9,
    "start_time": "2022-08-24T11:25:20.639Z"
   },
   {
    "duration": 6,
    "start_time": "2022-08-24T11:26:12.456Z"
   },
   {
    "duration": 7,
    "start_time": "2022-08-24T11:26:22.584Z"
   },
   {
    "duration": 6,
    "start_time": "2022-08-24T11:26:30.248Z"
   },
   {
    "duration": 4,
    "start_time": "2022-08-24T11:28:13.279Z"
   },
   {
    "duration": 20,
    "start_time": "2022-08-24T11:28:15.252Z"
   },
   {
    "duration": 7,
    "start_time": "2022-08-24T11:28:23.528Z"
   },
   {
    "duration": 6,
    "start_time": "2022-08-24T11:36:19.603Z"
   },
   {
    "duration": 5,
    "start_time": "2022-08-24T11:36:21.756Z"
   },
   {
    "duration": 189,
    "start_time": "2022-08-24T11:42:16.193Z"
   },
   {
    "duration": 206,
    "start_time": "2022-08-24T11:42:28.634Z"
   },
   {
    "duration": 2,
    "start_time": "2022-08-24T13:16:07.190Z"
   },
   {
    "duration": 49,
    "start_time": "2022-08-24T17:13:38.750Z"
   },
   {
    "duration": 8,
    "start_time": "2022-08-24T17:13:42.517Z"
   },
   {
    "duration": 1038,
    "start_time": "2022-08-24T17:13:48.796Z"
   },
   {
    "duration": 131,
    "start_time": "2022-08-24T17:13:49.836Z"
   },
   {
    "duration": 15,
    "start_time": "2022-08-24T17:13:49.968Z"
   },
   {
    "duration": 12,
    "start_time": "2022-08-24T17:13:49.984Z"
   },
   {
    "duration": 25,
    "start_time": "2022-08-24T17:13:49.998Z"
   },
   {
    "duration": 4,
    "start_time": "2022-08-24T17:13:50.024Z"
   },
   {
    "duration": 12,
    "start_time": "2022-08-24T17:13:50.029Z"
   },
   {
    "duration": 50,
    "start_time": "2022-08-24T17:13:50.043Z"
   },
   {
    "duration": 18,
    "start_time": "2022-08-24T17:13:50.095Z"
   },
   {
    "duration": 3,
    "start_time": "2022-08-24T17:13:50.115Z"
   },
   {
    "duration": 25,
    "start_time": "2022-08-24T17:13:50.120Z"
   },
   {
    "duration": 14,
    "start_time": "2022-08-24T17:13:50.147Z"
   },
   {
    "duration": 4,
    "start_time": "2022-08-24T17:13:50.162Z"
   },
   {
    "duration": 15,
    "start_time": "2022-08-24T17:13:50.168Z"
   },
   {
    "duration": 271,
    "start_time": "2022-08-24T17:13:50.184Z"
   },
   {
    "duration": 287,
    "start_time": "2022-08-24T17:13:50.456Z"
   },
   {
    "duration": 6,
    "start_time": "2022-08-24T17:13:50.745Z"
   },
   {
    "duration": 469,
    "start_time": "2022-08-24T17:13:50.752Z"
   },
   {
    "duration": 434,
    "start_time": "2022-08-24T17:13:51.223Z"
   },
   {
    "duration": 54,
    "start_time": "2022-08-24T17:13:51.658Z"
   },
   {
    "duration": 134,
    "start_time": "2022-08-24T17:13:51.715Z"
   },
   {
    "duration": 202,
    "start_time": "2022-08-24T17:13:51.850Z"
   },
   {
    "duration": 489,
    "start_time": "2022-08-24T17:13:52.053Z"
   },
   {
    "duration": 389,
    "start_time": "2022-08-24T17:13:52.544Z"
   },
   {
    "duration": 216,
    "start_time": "2022-08-24T17:13:52.935Z"
   },
   {
    "duration": 379,
    "start_time": "2022-08-24T17:13:53.153Z"
   },
   {
    "duration": 278,
    "start_time": "2022-08-24T17:13:53.534Z"
   },
   {
    "duration": 212,
    "start_time": "2022-08-24T17:13:53.814Z"
   },
   {
    "duration": 157,
    "start_time": "2022-08-24T17:13:54.027Z"
   },
   {
    "duration": 127,
    "start_time": "2022-08-24T17:13:54.186Z"
   },
   {
    "duration": 135,
    "start_time": "2022-08-24T17:13:54.315Z"
   },
   {
    "duration": 202,
    "start_time": "2022-08-24T17:13:54.452Z"
   },
   {
    "duration": 5,
    "start_time": "2022-08-24T17:13:54.710Z"
   },
   {
    "duration": 9,
    "start_time": "2022-08-24T17:13:54.717Z"
   },
   {
    "duration": 11,
    "start_time": "2022-08-24T17:13:54.728Z"
   },
   {
    "duration": 11,
    "start_time": "2022-08-24T17:18:08.635Z"
   },
   {
    "duration": 4,
    "start_time": "2022-08-24T17:22:57.597Z"
   },
   {
    "duration": 4,
    "start_time": "2022-08-24T17:23:05.406Z"
   },
   {
    "duration": 1065,
    "start_time": "2022-08-24T17:34:47.290Z"
   },
   {
    "duration": 144,
    "start_time": "2022-08-24T17:34:48.357Z"
   },
   {
    "duration": 15,
    "start_time": "2022-08-24T17:34:48.503Z"
   },
   {
    "duration": 23,
    "start_time": "2022-08-24T17:34:48.520Z"
   },
   {
    "duration": 31,
    "start_time": "2022-08-24T17:34:48.544Z"
   },
   {
    "duration": 4,
    "start_time": "2022-08-24T17:34:48.577Z"
   },
   {
    "duration": 27,
    "start_time": "2022-08-24T17:34:48.583Z"
   },
   {
    "duration": 57,
    "start_time": "2022-08-24T17:34:48.612Z"
   },
   {
    "duration": 7,
    "start_time": "2022-08-24T17:34:48.671Z"
   },
   {
    "duration": 22,
    "start_time": "2022-08-24T17:34:48.680Z"
   },
   {
    "duration": 21,
    "start_time": "2022-08-24T17:34:48.704Z"
   },
   {
    "duration": 24,
    "start_time": "2022-08-24T17:34:48.726Z"
   },
   {
    "duration": 5,
    "start_time": "2022-08-24T17:34:48.751Z"
   },
   {
    "duration": 15,
    "start_time": "2022-08-24T17:34:48.758Z"
   },
   {
    "duration": 25,
    "start_time": "2022-08-24T17:34:48.774Z"
   },
   {
    "duration": 281,
    "start_time": "2022-08-24T17:34:48.800Z"
   },
   {
    "duration": 261,
    "start_time": "2022-08-24T17:34:49.083Z"
   },
   {
    "duration": 8,
    "start_time": "2022-08-24T17:34:49.347Z"
   },
   {
    "duration": 311,
    "start_time": "2022-08-24T17:34:49.357Z"
   },
   {
    "duration": 240,
    "start_time": "2022-08-24T17:34:49.671Z"
   },
   {
    "duration": 12,
    "start_time": "2022-08-24T17:34:49.913Z"
   },
   {
    "duration": 147,
    "start_time": "2022-08-24T17:34:49.927Z"
   },
   {
    "duration": 141,
    "start_time": "2022-08-24T17:34:50.076Z"
   },
   {
    "duration": 163,
    "start_time": "2022-08-24T17:34:50.219Z"
   },
   {
    "duration": 183,
    "start_time": "2022-08-24T17:34:50.384Z"
   },
   {
    "duration": 112,
    "start_time": "2022-08-24T17:34:50.569Z"
   },
   {
    "duration": 101,
    "start_time": "2022-08-24T17:34:50.683Z"
   },
   {
    "duration": 118,
    "start_time": "2022-08-24T17:34:50.787Z"
   },
   {
    "duration": 122,
    "start_time": "2022-08-24T17:34:50.910Z"
   },
   {
    "duration": 116,
    "start_time": "2022-08-24T17:34:51.033Z"
   },
   {
    "duration": 101,
    "start_time": "2022-08-24T17:34:51.151Z"
   },
   {
    "duration": 110,
    "start_time": "2022-08-24T17:34:51.253Z"
   },
   {
    "duration": 111,
    "start_time": "2022-08-24T17:34:51.364Z"
   },
   {
    "duration": 3,
    "start_time": "2022-08-24T17:34:51.477Z"
   },
   {
    "duration": 17,
    "start_time": "2022-08-24T17:34:51.482Z"
   },
   {
    "duration": 11,
    "start_time": "2022-08-24T17:34:51.500Z"
   },
   {
    "duration": 49,
    "start_time": "2022-08-25T09:10:33.917Z"
   },
   {
    "duration": 1223,
    "start_time": "2022-08-25T09:10:39.118Z"
   },
   {
    "duration": 125,
    "start_time": "2022-08-25T09:10:40.345Z"
   },
   {
    "duration": 17,
    "start_time": "2022-08-25T09:10:40.471Z"
   },
   {
    "duration": 12,
    "start_time": "2022-08-25T09:10:40.489Z"
   },
   {
    "duration": 34,
    "start_time": "2022-08-25T09:10:40.504Z"
   },
   {
    "duration": 4,
    "start_time": "2022-08-25T09:10:40.539Z"
   },
   {
    "duration": 12,
    "start_time": "2022-08-25T09:10:40.544Z"
   },
   {
    "duration": 67,
    "start_time": "2022-08-25T09:10:40.558Z"
   },
   {
    "duration": 10,
    "start_time": "2022-08-25T09:10:40.628Z"
   },
   {
    "duration": 5,
    "start_time": "2022-08-25T09:10:40.640Z"
   },
   {
    "duration": 9,
    "start_time": "2022-08-25T09:10:40.647Z"
   },
   {
    "duration": 15,
    "start_time": "2022-08-25T09:10:40.657Z"
   },
   {
    "duration": 4,
    "start_time": "2022-08-25T09:10:40.674Z"
   },
   {
    "duration": 47,
    "start_time": "2022-08-25T09:10:40.680Z"
   },
   {
    "duration": 20,
    "start_time": "2022-08-25T09:10:40.728Z"
   },
   {
    "duration": 305,
    "start_time": "2022-08-25T09:10:40.750Z"
   },
   {
    "duration": 295,
    "start_time": "2022-08-25T09:10:41.057Z"
   },
   {
    "duration": 7,
    "start_time": "2022-08-25T09:10:41.354Z"
   },
   {
    "duration": 299,
    "start_time": "2022-08-25T09:10:57.928Z"
   },
   {
    "duration": 80,
    "start_time": "2022-08-25T09:13:47.430Z"
   },
   {
    "duration": 79,
    "start_time": "2022-08-25T09:13:51.862Z"
   },
   {
    "duration": 74,
    "start_time": "2022-08-25T09:13:56.285Z"
   },
   {
    "duration": 8,
    "start_time": "2022-08-25T09:29:43.779Z"
   },
   {
    "duration": 1001,
    "start_time": "2022-08-25T09:30:24.444Z"
   },
   {
    "duration": 156,
    "start_time": "2022-08-25T09:30:25.446Z"
   },
   {
    "duration": 18,
    "start_time": "2022-08-25T09:30:25.604Z"
   },
   {
    "duration": 15,
    "start_time": "2022-08-25T09:30:25.624Z"
   },
   {
    "duration": 29,
    "start_time": "2022-08-25T09:30:25.640Z"
   },
   {
    "duration": 4,
    "start_time": "2022-08-25T09:30:25.671Z"
   },
   {
    "duration": 36,
    "start_time": "2022-08-25T09:30:25.676Z"
   },
   {
    "duration": 52,
    "start_time": "2022-08-25T09:30:25.713Z"
   },
   {
    "duration": 9,
    "start_time": "2022-08-25T09:30:33.863Z"
   },
   {
    "duration": 8,
    "start_time": "2022-08-25T09:30:37.006Z"
   },
   {
    "duration": 6,
    "start_time": "2022-08-25T09:30:54.471Z"
   },
   {
    "duration": 5,
    "start_time": "2022-08-25T09:31:04.149Z"
   },
   {
    "duration": 81,
    "start_time": "2022-08-25T09:32:02.286Z"
   },
   {
    "duration": 4,
    "start_time": "2022-08-25T09:32:08.045Z"
   },
   {
    "duration": 5,
    "start_time": "2022-08-25T09:32:17.989Z"
   },
   {
    "duration": 10,
    "start_time": "2022-08-25T09:33:58.445Z"
   },
   {
    "duration": 4,
    "start_time": "2022-08-25T09:36:59.229Z"
   },
   {
    "duration": 4,
    "start_time": "2022-08-25T09:39:55.241Z"
   },
   {
    "duration": 12,
    "start_time": "2022-08-25T09:39:59.922Z"
   },
   {
    "duration": 1186,
    "start_time": "2022-08-25T09:40:14.240Z"
   },
   {
    "duration": 112,
    "start_time": "2022-08-25T09:40:15.428Z"
   },
   {
    "duration": 16,
    "start_time": "2022-08-25T09:40:15.541Z"
   },
   {
    "duration": 12,
    "start_time": "2022-08-25T09:40:15.559Z"
   },
   {
    "duration": 25,
    "start_time": "2022-08-25T09:40:15.572Z"
   },
   {
    "duration": 3,
    "start_time": "2022-08-25T09:40:15.606Z"
   },
   {
    "duration": 13,
    "start_time": "2022-08-25T09:40:15.611Z"
   },
   {
    "duration": 46,
    "start_time": "2022-08-25T09:40:15.625Z"
   },
   {
    "duration": 8,
    "start_time": "2022-08-25T09:40:15.673Z"
   },
   {
    "duration": 25,
    "start_time": "2022-08-25T09:40:15.683Z"
   },
   {
    "duration": 4,
    "start_time": "2022-08-25T09:40:15.710Z"
   },
   {
    "duration": 6,
    "start_time": "2022-08-25T09:40:15.715Z"
   },
   {
    "duration": 11,
    "start_time": "2022-08-25T09:40:15.723Z"
   },
   {
    "duration": 4,
    "start_time": "2022-08-25T09:40:15.735Z"
   },
   {
    "duration": 14,
    "start_time": "2022-08-25T09:40:15.740Z"
   },
   {
    "duration": 13,
    "start_time": "2022-08-25T09:40:15.755Z"
   },
   {
    "duration": 6,
    "start_time": "2022-08-25T09:40:45.699Z"
   },
   {
    "duration": 17,
    "start_time": "2022-08-25T09:40:50.388Z"
   },
   {
    "duration": 7,
    "start_time": "2022-08-25T09:40:56.180Z"
   },
   {
    "duration": 302,
    "start_time": "2022-08-25T09:43:22.345Z"
   },
   {
    "duration": 275,
    "start_time": "2022-08-25T09:43:33.226Z"
   },
   {
    "duration": 380,
    "start_time": "2022-08-25T09:43:44.762Z"
   },
   {
    "duration": 260,
    "start_time": "2022-08-25T09:43:54.618Z"
   },
   {
    "duration": 333,
    "start_time": "2022-08-25T09:43:58.970Z"
   },
   {
    "duration": 296,
    "start_time": "2022-08-25T09:44:49.097Z"
   },
   {
    "duration": 325,
    "start_time": "2022-08-25T09:45:03.994Z"
   },
   {
    "duration": 10,
    "start_time": "2022-08-25T10:05:52.242Z"
   },
   {
    "duration": 3,
    "start_time": "2022-08-25T10:06:01.003Z"
   },
   {
    "duration": 239,
    "start_time": "2022-08-25T10:06:01.008Z"
   },
   {
    "duration": 12,
    "start_time": "2022-08-25T10:06:01.249Z"
   },
   {
    "duration": 17,
    "start_time": "2022-08-25T10:06:01.262Z"
   },
   {
    "duration": 25,
    "start_time": "2022-08-25T10:06:01.281Z"
   },
   {
    "duration": 4,
    "start_time": "2022-08-25T10:06:01.307Z"
   },
   {
    "duration": 12,
    "start_time": "2022-08-25T10:06:01.312Z"
   },
   {
    "duration": 15,
    "start_time": "2022-08-25T10:06:01.325Z"
   },
   {
    "duration": 9,
    "start_time": "2022-08-25T10:06:01.342Z"
   },
   {
    "duration": 12,
    "start_time": "2022-08-25T10:06:01.353Z"
   },
   {
    "duration": 4,
    "start_time": "2022-08-25T10:06:01.368Z"
   },
   {
    "duration": 32,
    "start_time": "2022-08-25T10:06:01.374Z"
   },
   {
    "duration": 13,
    "start_time": "2022-08-25T10:06:01.408Z"
   },
   {
    "duration": 5,
    "start_time": "2022-08-25T10:06:01.423Z"
   },
   {
    "duration": 26,
    "start_time": "2022-08-25T10:06:01.430Z"
   },
   {
    "duration": 20,
    "start_time": "2022-08-25T10:06:01.458Z"
   },
   {
    "duration": 4,
    "start_time": "2022-08-25T10:06:01.479Z"
   },
   {
    "duration": 50,
    "start_time": "2022-08-25T10:06:01.484Z"
   },
   {
    "duration": 19,
    "start_time": "2022-08-25T10:06:01.536Z"
   },
   {
    "duration": 291,
    "start_time": "2022-08-25T10:06:01.557Z"
   },
   {
    "duration": 278,
    "start_time": "2022-08-25T10:06:01.850Z"
   },
   {
    "duration": 6,
    "start_time": "2022-08-25T10:06:02.130Z"
   },
   {
    "duration": 267,
    "start_time": "2022-08-25T10:06:03.426Z"
   },
   {
    "duration": 238,
    "start_time": "2022-08-25T10:08:05.721Z"
   },
   {
    "duration": 3,
    "start_time": "2022-08-25T10:08:09.962Z"
   },
   {
    "duration": 107,
    "start_time": "2022-08-25T10:08:09.966Z"
   },
   {
    "duration": 16,
    "start_time": "2022-08-25T10:08:10.075Z"
   },
   {
    "duration": 21,
    "start_time": "2022-08-25T10:08:10.093Z"
   },
   {
    "duration": 120,
    "start_time": "2022-08-25T10:08:10.115Z"
   },
   {
    "duration": 4,
    "start_time": "2022-08-25T10:08:10.236Z"
   },
   {
    "duration": 12,
    "start_time": "2022-08-25T10:08:10.242Z"
   },
   {
    "duration": 16,
    "start_time": "2022-08-25T10:08:10.256Z"
   },
   {
    "duration": 9,
    "start_time": "2022-08-25T10:08:10.275Z"
   },
   {
    "duration": 8,
    "start_time": "2022-08-25T10:08:10.306Z"
   },
   {
    "duration": 6,
    "start_time": "2022-08-25T10:08:10.316Z"
   },
   {
    "duration": 10,
    "start_time": "2022-08-25T10:08:10.324Z"
   },
   {
    "duration": 15,
    "start_time": "2022-08-25T10:08:10.336Z"
   },
   {
    "duration": 5,
    "start_time": "2022-08-25T10:08:10.353Z"
   },
   {
    "duration": 49,
    "start_time": "2022-08-25T10:08:10.360Z"
   },
   {
    "duration": 14,
    "start_time": "2022-08-25T10:08:10.411Z"
   },
   {
    "duration": 4,
    "start_time": "2022-08-25T10:08:10.427Z"
   },
   {
    "duration": 17,
    "start_time": "2022-08-25T10:08:10.433Z"
   },
   {
    "duration": 5,
    "start_time": "2022-08-25T10:08:10.452Z"
   },
   {
    "duration": 317,
    "start_time": "2022-08-25T10:08:10.458Z"
   },
   {
    "duration": 258,
    "start_time": "2022-08-25T10:08:10.776Z"
   },
   {
    "duration": 7,
    "start_time": "2022-08-25T10:08:11.035Z"
   },
   {
    "duration": 307,
    "start_time": "2022-08-25T10:08:11.043Z"
   },
   {
    "duration": 270,
    "start_time": "2022-08-25T10:08:11.353Z"
   },
   {
    "duration": 262,
    "start_time": "2022-08-25T10:08:11.625Z"
   },
   {
    "duration": 22,
    "start_time": "2022-08-25T10:08:11.888Z"
   },
   {
    "duration": 146,
    "start_time": "2022-08-25T10:08:11.911Z"
   },
   {
    "duration": 159,
    "start_time": "2022-08-25T10:08:12.059Z"
   },
   {
    "duration": 187,
    "start_time": "2022-08-25T10:08:12.220Z"
   },
   {
    "duration": 221,
    "start_time": "2022-08-25T10:08:12.409Z"
   },
   {
    "duration": 116,
    "start_time": "2022-08-25T10:08:12.631Z"
   },
   {
    "duration": 106,
    "start_time": "2022-08-25T10:08:12.748Z"
   },
   {
    "duration": 125,
    "start_time": "2022-08-25T10:08:12.856Z"
   },
   {
    "duration": 124,
    "start_time": "2022-08-25T10:08:12.983Z"
   },
   {
    "duration": 117,
    "start_time": "2022-08-25T10:08:13.108Z"
   },
   {
    "duration": 104,
    "start_time": "2022-08-25T10:08:13.227Z"
   },
   {
    "duration": 121,
    "start_time": "2022-08-25T10:08:13.333Z"
   },
   {
    "duration": 109,
    "start_time": "2022-08-25T10:08:13.456Z"
   },
   {
    "duration": 4,
    "start_time": "2022-08-25T10:08:13.566Z"
   },
   {
    "duration": 8,
    "start_time": "2022-08-25T10:08:13.572Z"
   },
   {
    "duration": 10,
    "start_time": "2022-08-25T10:08:13.581Z"
   },
   {
    "duration": 261,
    "start_time": "2022-08-25T10:08:38.563Z"
   },
   {
    "duration": 361,
    "start_time": "2022-08-25T10:08:45.224Z"
   },
   {
    "duration": 237,
    "start_time": "2022-08-25T10:09:07.776Z"
   },
   {
    "duration": 76,
    "start_time": "2022-08-25T10:13:41.750Z"
   },
   {
    "duration": 162,
    "start_time": "2022-08-25T10:13:46.463Z"
   },
   {
    "duration": 127,
    "start_time": "2022-08-25T10:14:14.110Z"
   },
   {
    "duration": 125,
    "start_time": "2022-08-25T10:14:17.182Z"
   },
   {
    "duration": 127,
    "start_time": "2022-08-25T10:14:37.031Z"
   },
   {
    "duration": 141,
    "start_time": "2022-08-25T10:14:46.367Z"
   },
   {
    "duration": 117,
    "start_time": "2022-08-25T10:17:52.766Z"
   },
   {
    "duration": 274,
    "start_time": "2022-08-25T10:18:04.758Z"
   },
   {
    "duration": 275,
    "start_time": "2022-08-25T10:18:10.333Z"
   },
   {
    "duration": 240,
    "start_time": "2022-08-25T10:18:12.134Z"
   },
   {
    "duration": 270,
    "start_time": "2022-08-25T10:18:13.486Z"
   },
   {
    "duration": 385,
    "start_time": "2022-08-25T10:18:31.678Z"
   },
   {
    "duration": 278,
    "start_time": "2022-08-25T10:18:36.565Z"
   },
   {
    "duration": 265,
    "start_time": "2022-08-25T10:18:38.790Z"
   },
   {
    "duration": 23,
    "start_time": "2022-08-25T10:19:18.038Z"
   },
   {
    "duration": 146,
    "start_time": "2022-08-25T10:19:20.893Z"
   },
   {
    "duration": 152,
    "start_time": "2022-08-25T10:19:42.606Z"
   },
   {
    "duration": 157,
    "start_time": "2022-08-25T10:19:48.891Z"
   },
   {
    "duration": 162,
    "start_time": "2022-08-25T10:19:55.116Z"
   },
   {
    "duration": 167,
    "start_time": "2022-08-25T10:19:58.016Z"
   },
   {
    "duration": 158,
    "start_time": "2022-08-25T10:20:09.181Z"
   },
   {
    "duration": 156,
    "start_time": "2022-08-25T10:20:18.061Z"
   },
   {
    "duration": 172,
    "start_time": "2022-08-25T10:20:27.572Z"
   },
   {
    "duration": 166,
    "start_time": "2022-08-25T10:20:58.652Z"
   },
   {
    "duration": 258,
    "start_time": "2022-08-25T10:21:01.204Z"
   },
   {
    "duration": 288,
    "start_time": "2022-08-25T10:21:14.684Z"
   },
   {
    "duration": 161,
    "start_time": "2022-08-25T10:21:16.844Z"
   },
   {
    "duration": 168,
    "start_time": "2022-08-25T10:22:07.053Z"
   },
   {
    "duration": 171,
    "start_time": "2022-08-25T10:22:21.493Z"
   },
   {
    "duration": 164,
    "start_time": "2022-08-25T10:22:30.347Z"
   },
   {
    "duration": 199,
    "start_time": "2022-08-25T10:22:33.708Z"
   },
   {
    "duration": 189,
    "start_time": "2022-08-25T10:22:35.851Z"
   },
   {
    "duration": 170,
    "start_time": "2022-08-25T10:25:04.884Z"
   },
   {
    "duration": 170,
    "start_time": "2022-08-25T10:25:08.220Z"
   },
   {
    "duration": 169,
    "start_time": "2022-08-25T10:25:17.802Z"
   },
   {
    "duration": 181,
    "start_time": "2022-08-25T10:25:20.434Z"
   },
   {
    "duration": 18,
    "start_time": "2022-08-25T10:26:59.851Z"
   },
   {
    "duration": 273,
    "start_time": "2022-08-25T10:27:07.795Z"
   },
   {
    "duration": 198,
    "start_time": "2022-08-25T10:27:23.513Z"
   },
   {
    "duration": 152,
    "start_time": "2022-08-25T10:27:36.827Z"
   },
   {
    "duration": 163,
    "start_time": "2022-08-25T10:27:47.843Z"
   },
   {
    "duration": 110,
    "start_time": "2022-08-25T10:41:39.366Z"
   },
   {
    "duration": 118,
    "start_time": "2022-08-25T10:41:47.157Z"
   },
   {
    "duration": 167,
    "start_time": "2022-08-25T10:41:52.005Z"
   },
   {
    "duration": 169,
    "start_time": "2022-08-25T10:42:12.604Z"
   },
   {
    "duration": 172,
    "start_time": "2022-08-25T10:42:15.309Z"
   },
   {
    "duration": 188,
    "start_time": "2022-08-25T10:42:42.517Z"
   },
   {
    "duration": 192,
    "start_time": "2022-08-25T10:42:45.709Z"
   },
   {
    "duration": 171,
    "start_time": "2022-08-25T10:42:57.972Z"
   },
   {
    "duration": 194,
    "start_time": "2022-08-25T10:45:44.788Z"
   },
   {
    "duration": 178,
    "start_time": "2022-08-25T10:45:49.851Z"
   },
   {
    "duration": 178,
    "start_time": "2022-08-25T10:45:54.916Z"
   },
   {
    "duration": 265,
    "start_time": "2022-08-25T10:46:09.027Z"
   },
   {
    "duration": 187,
    "start_time": "2022-08-25T10:46:12.716Z"
   },
   {
    "duration": 199,
    "start_time": "2022-08-25T10:50:46.250Z"
   },
   {
    "duration": 138,
    "start_time": "2022-08-25T10:51:16.857Z"
   },
   {
    "duration": 206,
    "start_time": "2022-08-25T10:51:21.465Z"
   },
   {
    "duration": 123,
    "start_time": "2022-08-25T10:51:52.817Z"
   },
   {
    "duration": 126,
    "start_time": "2022-08-25T10:51:57.617Z"
   },
   {
    "duration": 140,
    "start_time": "2022-08-25T10:52:02.472Z"
   },
   {
    "duration": 156,
    "start_time": "2022-08-25T10:52:17.705Z"
   },
   {
    "duration": 210,
    "start_time": "2022-08-25T10:52:45.410Z"
   },
   {
    "duration": 418,
    "start_time": "2022-08-25T10:54:02.393Z"
   },
   {
    "duration": 442,
    "start_time": "2022-08-25T10:54:33.218Z"
   },
   {
    "duration": 525,
    "start_time": "2022-08-25T10:54:41.337Z"
   },
   {
    "duration": 115,
    "start_time": "2022-08-25T10:56:06.752Z"
   },
   {
    "duration": 425,
    "start_time": "2022-08-25T10:56:12.049Z"
   },
   {
    "duration": 457,
    "start_time": "2022-08-25T10:56:40.072Z"
   },
   {
    "duration": 74,
    "start_time": "2022-08-25T10:57:59.224Z"
   },
   {
    "duration": 148,
    "start_time": "2022-08-25T10:58:06.632Z"
   },
   {
    "duration": 79,
    "start_time": "2022-08-25T10:58:58.200Z"
   },
   {
    "duration": 93,
    "start_time": "2022-08-25T10:59:11.881Z"
   },
   {
    "duration": 149,
    "start_time": "2022-08-25T10:59:21.680Z"
   },
   {
    "duration": 284,
    "start_time": "2022-08-25T11:00:17.824Z"
   },
   {
    "duration": 137,
    "start_time": "2022-08-25T11:01:06.880Z"
   },
   {
    "duration": 132,
    "start_time": "2022-08-25T11:01:10.385Z"
   },
   {
    "duration": 81,
    "start_time": "2022-08-25T11:01:13.514Z"
   },
   {
    "duration": 77,
    "start_time": "2022-08-25T11:01:16.360Z"
   },
   {
    "duration": 145,
    "start_time": "2022-08-25T11:01:39.329Z"
   },
   {
    "duration": 397,
    "start_time": "2022-08-25T11:03:01.849Z"
   },
   {
    "duration": 198,
    "start_time": "2022-08-25T11:03:29.472Z"
   },
   {
    "duration": 193,
    "start_time": "2022-08-25T11:03:39.481Z"
   },
   {
    "duration": 196,
    "start_time": "2022-08-25T11:04:41.721Z"
   },
   {
    "duration": 263,
    "start_time": "2022-08-25T11:04:46.296Z"
   },
   {
    "duration": 324,
    "start_time": "2022-08-25T11:05:00.936Z"
   },
   {
    "duration": 238,
    "start_time": "2022-08-25T11:05:03.935Z"
   },
   {
    "duration": 219,
    "start_time": "2022-08-25T11:05:16.911Z"
   },
   {
    "duration": 459,
    "start_time": "2022-08-25T11:07:53.376Z"
   },
   {
    "duration": 462,
    "start_time": "2022-08-25T11:09:51.096Z"
   },
   {
    "duration": 461,
    "start_time": "2022-08-25T11:10:01.303Z"
   },
   {
    "duration": 11,
    "start_time": "2022-08-25T11:14:58.814Z"
   },
   {
    "duration": 11,
    "start_time": "2022-08-25T11:15:00.326Z"
   },
   {
    "duration": 5,
    "start_time": "2022-08-25T11:22:57.827Z"
   },
   {
    "duration": 243,
    "start_time": "2022-08-25T11:23:11.165Z"
   },
   {
    "duration": 378,
    "start_time": "2022-08-25T11:23:15.851Z"
   },
   {
    "duration": 5,
    "start_time": "2022-08-25T11:24:35.181Z"
   },
   {
    "duration": 227,
    "start_time": "2022-08-25T11:24:42.410Z"
   },
   {
    "duration": 6,
    "start_time": "2022-08-25T11:27:48.949Z"
   },
   {
    "duration": 241,
    "start_time": "2022-08-25T11:27:50.419Z"
   },
   {
    "duration": 5,
    "start_time": "2022-08-25T11:29:51.057Z"
   },
   {
    "duration": 245,
    "start_time": "2022-08-25T11:32:12.457Z"
   },
   {
    "duration": 253,
    "start_time": "2022-08-25T11:32:22.825Z"
   },
   {
    "duration": 269,
    "start_time": "2022-08-25T11:32:27.013Z"
   },
   {
    "duration": 349,
    "start_time": "2022-08-25T11:32:29.257Z"
   },
   {
    "duration": 257,
    "start_time": "2022-08-25T11:32:31.497Z"
   },
   {
    "duration": 254,
    "start_time": "2022-08-25T11:32:57.945Z"
   },
   {
    "duration": 272,
    "start_time": "2022-08-25T11:33:04.600Z"
   },
   {
    "duration": 298,
    "start_time": "2022-08-25T11:33:10.224Z"
   },
   {
    "duration": 6,
    "start_time": "2022-08-25T11:37:08.936Z"
   },
   {
    "duration": 31,
    "start_time": "2022-08-25T11:37:51.144Z"
   },
   {
    "duration": 358,
    "start_time": "2022-08-25T11:46:33.221Z"
   },
   {
    "duration": 311,
    "start_time": "2022-08-25T11:46:35.876Z"
   },
   {
    "duration": 261,
    "start_time": "2022-08-25T11:47:15.559Z"
   },
   {
    "duration": 76,
    "start_time": "2022-08-25T11:47:17.709Z"
   },
   {
    "duration": 77,
    "start_time": "2022-08-25T11:47:20.125Z"
   },
   {
    "duration": 112,
    "start_time": "2022-08-25T11:47:24.485Z"
   },
   {
    "duration": 77,
    "start_time": "2022-08-25T11:47:31.357Z"
   },
   {
    "duration": 293,
    "start_time": "2022-08-25T11:47:36.869Z"
   },
   {
    "duration": 226,
    "start_time": "2022-08-25T11:48:55.084Z"
   },
   {
    "duration": 255,
    "start_time": "2022-08-25T11:49:00.069Z"
   },
   {
    "duration": 111,
    "start_time": "2022-08-25T13:17:48.302Z"
   },
   {
    "duration": 128,
    "start_time": "2022-08-25T13:20:09.821Z"
   },
   {
    "duration": 233,
    "start_time": "2022-08-25T13:22:58.507Z"
   },
   {
    "duration": 205,
    "start_time": "2022-08-25T13:23:19.988Z"
   },
   {
    "duration": 196,
    "start_time": "2022-08-25T13:23:28.362Z"
   },
   {
    "duration": 210,
    "start_time": "2022-08-25T13:23:37.307Z"
   },
   {
    "duration": 398,
    "start_time": "2022-08-25T13:23:46.268Z"
   },
   {
    "duration": 254,
    "start_time": "2022-08-25T13:23:59.267Z"
   },
   {
    "duration": 259,
    "start_time": "2022-08-25T13:24:54.682Z"
   },
   {
    "duration": 286,
    "start_time": "2022-08-25T13:25:13.354Z"
   },
   {
    "duration": 81,
    "start_time": "2022-08-25T13:26:02.275Z"
   },
   {
    "duration": 208,
    "start_time": "2022-08-25T13:26:06.537Z"
   },
   {
    "duration": 222,
    "start_time": "2022-08-25T13:26:15.519Z"
   },
   {
    "duration": 273,
    "start_time": "2022-08-25T13:26:32.212Z"
   },
   {
    "duration": 300,
    "start_time": "2022-08-25T13:26:38.525Z"
   },
   {
    "duration": 307,
    "start_time": "2022-08-25T13:26:49.865Z"
   },
   {
    "duration": 434,
    "start_time": "2022-08-25T13:26:53.924Z"
   },
   {
    "duration": 308,
    "start_time": "2022-08-25T13:29:46.432Z"
   },
   {
    "duration": 278,
    "start_time": "2022-08-25T13:29:59.921Z"
   },
   {
    "duration": 119,
    "start_time": "2022-08-25T13:30:55.560Z"
   },
   {
    "duration": 289,
    "start_time": "2022-08-25T13:31:06.736Z"
   },
   {
    "duration": 274,
    "start_time": "2022-08-25T13:41:14.163Z"
   },
   {
    "duration": 287,
    "start_time": "2022-08-25T13:43:57.547Z"
   },
   {
    "duration": 309,
    "start_time": "2022-08-25T13:44:07.876Z"
   },
   {
    "duration": 302,
    "start_time": "2022-08-25T13:44:15.451Z"
   },
   {
    "duration": 184,
    "start_time": "2022-08-25T13:44:46.458Z"
   },
   {
    "duration": 325,
    "start_time": "2022-08-25T13:44:54.835Z"
   },
   {
    "duration": 314,
    "start_time": "2022-08-25T13:45:48.250Z"
   },
   {
    "duration": 530,
    "start_time": "2022-08-25T13:45:58.210Z"
   },
   {
    "duration": 316,
    "start_time": "2022-08-25T13:46:09.730Z"
   },
   {
    "duration": 321,
    "start_time": "2022-08-25T13:46:22.274Z"
   },
   {
    "duration": 334,
    "start_time": "2022-08-25T13:47:31.753Z"
   },
   {
    "duration": 307,
    "start_time": "2022-08-25T13:48:01.137Z"
   },
   {
    "duration": 323,
    "start_time": "2022-08-25T13:48:04.842Z"
   },
   {
    "duration": 308,
    "start_time": "2022-08-25T13:48:07.353Z"
   },
   {
    "duration": 320,
    "start_time": "2022-08-25T13:48:11.753Z"
   },
   {
    "duration": 325,
    "start_time": "2022-08-25T13:49:17.177Z"
   },
   {
    "duration": 151,
    "start_time": "2022-08-25T13:50:11.193Z"
   },
   {
    "duration": 151,
    "start_time": "2022-08-25T13:50:38.361Z"
   },
   {
    "duration": 405,
    "start_time": "2022-08-25T13:50:46.600Z"
   },
   {
    "duration": 184,
    "start_time": "2022-08-25T13:50:50.288Z"
   },
   {
    "duration": 335,
    "start_time": "2022-08-25T13:51:39.897Z"
   },
   {
    "duration": 173,
    "start_time": "2022-08-25T13:51:47.233Z"
   },
   {
    "duration": 356,
    "start_time": "2022-08-25T13:52:11.122Z"
   },
   {
    "duration": 317,
    "start_time": "2022-08-25T13:52:14.159Z"
   },
   {
    "duration": 321,
    "start_time": "2022-08-25T13:55:16.446Z"
   },
   {
    "duration": 320,
    "start_time": "2022-08-25T13:55:20.646Z"
   },
   {
    "duration": 365,
    "start_time": "2022-08-25T13:55:26.902Z"
   },
   {
    "duration": 205,
    "start_time": "2022-08-25T13:56:08.551Z"
   },
   {
    "duration": 289,
    "start_time": "2022-08-25T13:56:13.919Z"
   },
   {
    "duration": 276,
    "start_time": "2022-08-25T13:56:30.247Z"
   },
   {
    "duration": 381,
    "start_time": "2022-08-25T13:56:35.950Z"
   },
   {
    "duration": 539,
    "start_time": "2022-08-25T13:56:41.183Z"
   },
   {
    "duration": 295,
    "start_time": "2022-08-25T13:56:57.198Z"
   },
   {
    "duration": 280,
    "start_time": "2022-08-25T13:58:49.016Z"
   },
   {
    "duration": 301,
    "start_time": "2022-08-25T14:03:05.980Z"
   },
   {
    "duration": 276,
    "start_time": "2022-08-25T14:04:30.275Z"
   },
   {
    "duration": 318,
    "start_time": "2022-08-25T14:04:33.556Z"
   },
   {
    "duration": 273,
    "start_time": "2022-08-25T14:04:40.347Z"
   },
   {
    "duration": 281,
    "start_time": "2022-08-25T14:04:43.203Z"
   },
   {
    "duration": 325,
    "start_time": "2022-08-25T14:04:46.259Z"
   },
   {
    "duration": 323,
    "start_time": "2022-08-25T14:07:41.050Z"
   },
   {
    "duration": 583,
    "start_time": "2022-08-25T14:08:00.810Z"
   },
   {
    "duration": 340,
    "start_time": "2022-08-25T14:08:08.873Z"
   },
   {
    "duration": 469,
    "start_time": "2022-08-25T14:08:15.009Z"
   },
   {
    "duration": 267,
    "start_time": "2022-08-25T14:08:32.945Z"
   },
   {
    "duration": 330,
    "start_time": "2022-08-25T14:10:15.912Z"
   },
   {
    "duration": 281,
    "start_time": "2022-08-25T14:11:10.920Z"
   },
   {
    "duration": 14,
    "start_time": "2022-08-25T14:11:18.962Z"
   },
   {
    "duration": 16,
    "start_time": "2022-08-25T14:11:27.433Z"
   },
   {
    "duration": 203,
    "start_time": "2022-08-25T14:11:29.689Z"
   },
   {
    "duration": 280,
    "start_time": "2022-08-25T14:11:34.256Z"
   },
   {
    "duration": 233,
    "start_time": "2022-08-25T14:11:39.192Z"
   },
   {
    "duration": 186,
    "start_time": "2022-08-25T14:11:51.008Z"
   },
   {
    "duration": 487,
    "start_time": "2022-08-25T14:11:55.040Z"
   },
   {
    "duration": 194,
    "start_time": "2022-08-25T14:12:39.960Z"
   },
   {
    "duration": 242,
    "start_time": "2022-08-25T14:12:43.704Z"
   },
   {
    "duration": 240,
    "start_time": "2022-08-25T14:12:47.631Z"
   },
   {
    "duration": 239,
    "start_time": "2022-08-25T14:12:50.648Z"
   },
   {
    "duration": 229,
    "start_time": "2022-08-25T14:12:53.479Z"
   },
   {
    "duration": 16,
    "start_time": "2022-08-25T14:12:56.751Z"
   },
   {
    "duration": 16,
    "start_time": "2022-08-25T14:13:03.096Z"
   },
   {
    "duration": 196,
    "start_time": "2022-08-25T14:13:08.455Z"
   },
   {
    "duration": 264,
    "start_time": "2022-08-25T14:13:16.327Z"
   },
   {
    "duration": 259,
    "start_time": "2022-08-25T14:13:19.719Z"
   },
   {
    "duration": 238,
    "start_time": "2022-08-25T14:13:23.527Z"
   },
   {
    "duration": 269,
    "start_time": "2022-08-25T14:13:26.767Z"
   },
   {
    "duration": 475,
    "start_time": "2022-08-25T14:19:59.237Z"
   },
   {
    "duration": 265,
    "start_time": "2022-08-25T14:20:03.973Z"
   },
   {
    "duration": 260,
    "start_time": "2022-08-25T14:20:07.157Z"
   },
   {
    "duration": 247,
    "start_time": "2022-08-25T14:20:09.188Z"
   },
   {
    "duration": 277,
    "start_time": "2022-08-25T14:20:11.301Z"
   },
   {
    "duration": 274,
    "start_time": "2022-08-25T14:20:36.717Z"
   },
   {
    "duration": 19,
    "start_time": "2022-08-25T14:22:36.516Z"
   },
   {
    "duration": 194,
    "start_time": "2022-08-25T14:22:49.821Z"
   },
   {
    "duration": 249,
    "start_time": "2022-08-25T14:22:52.979Z"
   },
   {
    "duration": 319,
    "start_time": "2022-08-25T14:23:36.060Z"
   },
   {
    "duration": 204,
    "start_time": "2022-08-25T14:23:38.716Z"
   },
   {
    "duration": 276,
    "start_time": "2022-08-25T14:23:42.827Z"
   },
   {
    "duration": 538,
    "start_time": "2022-08-25T14:23:44.835Z"
   },
   {
    "duration": 82,
    "start_time": "2022-08-25T14:36:56.227Z"
   },
   {
    "duration": 85,
    "start_time": "2022-08-25T14:39:04.754Z"
   },
   {
    "duration": 83,
    "start_time": "2022-08-25T14:39:09.378Z"
   },
   {
    "duration": 275,
    "start_time": "2022-08-25T14:39:19.218Z"
   },
   {
    "duration": 423,
    "start_time": "2022-08-25T14:47:23.790Z"
   },
   {
    "duration": 276,
    "start_time": "2022-08-25T14:47:31.430Z"
   },
   {
    "duration": 12,
    "start_time": "2022-08-25T14:52:06.028Z"
   },
   {
    "duration": 11,
    "start_time": "2022-08-25T14:52:08.948Z"
   },
   {
    "duration": 5,
    "start_time": "2022-08-25T14:52:13.660Z"
   },
   {
    "duration": 5,
    "start_time": "2022-08-25T14:52:21.347Z"
   },
   {
    "duration": 7,
    "start_time": "2022-08-25T14:57:15.210Z"
   },
   {
    "duration": 7,
    "start_time": "2022-08-25T14:57:18.729Z"
   },
   {
    "duration": 11,
    "start_time": "2022-08-25T14:57:24.129Z"
   },
   {
    "duration": 14,
    "start_time": "2022-08-25T14:57:49.441Z"
   },
   {
    "duration": 6,
    "start_time": "2022-08-25T14:59:03.130Z"
   },
   {
    "duration": 20,
    "start_time": "2022-08-25T14:59:04.506Z"
   },
   {
    "duration": 1041,
    "start_time": "2022-08-25T14:59:11.792Z"
   },
   {
    "duration": 156,
    "start_time": "2022-08-25T14:59:12.835Z"
   },
   {
    "duration": 19,
    "start_time": "2022-08-25T14:59:12.992Z"
   },
   {
    "duration": 17,
    "start_time": "2022-08-25T14:59:13.014Z"
   },
   {
    "duration": 26,
    "start_time": "2022-08-25T14:59:13.033Z"
   },
   {
    "duration": 4,
    "start_time": "2022-08-25T14:59:13.061Z"
   },
   {
    "duration": 11,
    "start_time": "2022-08-25T14:59:13.066Z"
   },
   {
    "duration": 71,
    "start_time": "2022-08-25T14:59:13.079Z"
   },
   {
    "duration": 8,
    "start_time": "2022-08-25T14:59:13.152Z"
   },
   {
    "duration": 12,
    "start_time": "2022-08-25T14:59:13.162Z"
   },
   {
    "duration": 4,
    "start_time": "2022-08-25T14:59:13.176Z"
   },
   {
    "duration": 12,
    "start_time": "2022-08-25T14:59:13.181Z"
   },
   {
    "duration": 22,
    "start_time": "2022-08-25T14:59:13.195Z"
   },
   {
    "duration": 16,
    "start_time": "2022-08-25T14:59:13.220Z"
   },
   {
    "duration": 16,
    "start_time": "2022-08-25T14:59:13.238Z"
   },
   {
    "duration": 14,
    "start_time": "2022-08-25T14:59:13.255Z"
   },
   {
    "duration": 4,
    "start_time": "2022-08-25T14:59:13.270Z"
   },
   {
    "duration": 14,
    "start_time": "2022-08-25T14:59:13.275Z"
   },
   {
    "duration": 332,
    "start_time": "2022-08-25T14:59:13.291Z"
   },
   {
    "duration": 303,
    "start_time": "2022-08-25T14:59:13.625Z"
   },
   {
    "duration": 11,
    "start_time": "2022-08-25T14:59:13.930Z"
   },
   {
    "duration": 1728,
    "start_time": "2022-08-25T14:59:13.942Z"
   },
   {
    "duration": 7,
    "start_time": "2022-08-25T14:59:25.576Z"
   },
   {
    "duration": 16,
    "start_time": "2022-08-25T14:59:27.632Z"
   },
   {
    "duration": 23,
    "start_time": "2022-08-25T14:59:32.176Z"
   },
   {
    "duration": 13,
    "start_time": "2022-08-25T15:00:13.318Z"
   },
   {
    "duration": 7,
    "start_time": "2022-08-25T15:00:32.920Z"
   },
   {
    "duration": 2,
    "start_time": "2022-08-25T15:00:35.856Z"
   },
   {
    "duration": 8,
    "start_time": "2022-08-25T15:47:19.210Z"
   },
   {
    "duration": 42,
    "start_time": "2022-08-25T15:52:38.159Z"
   },
   {
    "duration": 1019,
    "start_time": "2022-08-25T15:52:40.797Z"
   },
   {
    "duration": 89,
    "start_time": "2022-08-25T15:52:41.818Z"
   },
   {
    "duration": 15,
    "start_time": "2022-08-25T15:52:41.908Z"
   },
   {
    "duration": 12,
    "start_time": "2022-08-25T15:52:41.925Z"
   },
   {
    "duration": 27,
    "start_time": "2022-08-25T15:52:41.938Z"
   },
   {
    "duration": 4,
    "start_time": "2022-08-25T15:52:41.966Z"
   },
   {
    "duration": 16,
    "start_time": "2022-08-25T15:52:41.971Z"
   },
   {
    "duration": 57,
    "start_time": "2022-08-25T15:52:41.988Z"
   },
   {
    "duration": 9,
    "start_time": "2022-08-25T15:52:42.047Z"
   },
   {
    "duration": 15,
    "start_time": "2022-08-25T15:52:42.059Z"
   },
   {
    "duration": 7,
    "start_time": "2022-08-25T15:52:42.075Z"
   },
   {
    "duration": 8,
    "start_time": "2022-08-25T15:52:42.084Z"
   },
   {
    "duration": 20,
    "start_time": "2022-08-25T15:52:42.093Z"
   },
   {
    "duration": 4,
    "start_time": "2022-08-25T15:52:42.114Z"
   },
   {
    "duration": 15,
    "start_time": "2022-08-25T15:52:42.119Z"
   },
   {
    "duration": 14,
    "start_time": "2022-08-25T15:52:42.135Z"
   },
   {
    "duration": 4,
    "start_time": "2022-08-25T15:52:42.150Z"
   },
   {
    "duration": 10,
    "start_time": "2022-08-25T15:52:42.155Z"
   },
   {
    "duration": 302,
    "start_time": "2022-08-25T15:52:42.166Z"
   },
   {
    "duration": 275,
    "start_time": "2022-08-25T15:52:42.469Z"
   },
   {
    "duration": 6,
    "start_time": "2022-08-25T15:52:42.746Z"
   },
   {
    "duration": 10,
    "start_time": "2022-08-25T15:52:43.758Z"
   },
   {
    "duration": 103,
    "start_time": "2022-08-25T18:10:13.921Z"
   },
   {
    "duration": 48,
    "start_time": "2022-08-25T18:10:23.048Z"
   },
   {
    "duration": 1331,
    "start_time": "2022-08-25T18:10:27.750Z"
   },
   {
    "duration": 191,
    "start_time": "2022-08-25T18:10:29.083Z"
   },
   {
    "duration": 24,
    "start_time": "2022-08-25T18:10:29.276Z"
   },
   {
    "duration": 22,
    "start_time": "2022-08-25T18:10:29.302Z"
   },
   {
    "duration": 45,
    "start_time": "2022-08-25T18:10:29.327Z"
   },
   {
    "duration": 20,
    "start_time": "2022-08-25T18:10:29.374Z"
   },
   {
    "duration": 22,
    "start_time": "2022-08-25T18:10:29.397Z"
   },
   {
    "duration": 77,
    "start_time": "2022-08-25T18:10:29.421Z"
   },
   {
    "duration": 10,
    "start_time": "2022-08-25T18:10:29.500Z"
   },
   {
    "duration": 10,
    "start_time": "2022-08-25T18:10:29.512Z"
   },
   {
    "duration": 8,
    "start_time": "2022-08-25T18:10:29.524Z"
   },
   {
    "duration": 10,
    "start_time": "2022-08-25T18:10:29.534Z"
   },
   {
    "duration": 51,
    "start_time": "2022-08-25T18:10:29.546Z"
   },
   {
    "duration": 5,
    "start_time": "2022-08-25T18:10:29.601Z"
   },
   {
    "duration": 18,
    "start_time": "2022-08-25T18:10:29.608Z"
   },
   {
    "duration": 17,
    "start_time": "2022-08-25T18:10:29.628Z"
   },
   {
    "duration": 5,
    "start_time": "2022-08-25T18:10:29.648Z"
   },
   {
    "duration": 38,
    "start_time": "2022-08-25T18:10:29.655Z"
   },
   {
    "duration": 387,
    "start_time": "2022-08-25T18:10:29.695Z"
   },
   {
    "duration": 339,
    "start_time": "2022-08-25T18:10:30.084Z"
   },
   {
    "duration": 9,
    "start_time": "2022-08-25T18:10:30.426Z"
   },
   {
    "duration": 20,
    "start_time": "2022-08-25T18:10:32.023Z"
   },
   {
    "duration": 11,
    "start_time": "2022-08-25T18:11:13.318Z"
   },
   {
    "duration": 10,
    "start_time": "2022-08-25T18:11:19.055Z"
   },
   {
    "duration": 70,
    "start_time": "2022-08-25T18:16:24.830Z"
   },
   {
    "duration": 73,
    "start_time": "2022-08-25T18:17:25.534Z"
   },
   {
    "duration": 18,
    "start_time": "2022-08-25T18:17:37.926Z"
   },
   {
    "duration": 17,
    "start_time": "2022-08-25T18:20:19.636Z"
   },
   {
    "duration": 79,
    "start_time": "2022-08-25T18:20:28.205Z"
   },
   {
    "duration": 9,
    "start_time": "2022-08-25T18:22:00.036Z"
   },
   {
    "duration": 36,
    "start_time": "2022-08-25T18:22:05.423Z"
   },
   {
    "duration": 32,
    "start_time": "2022-08-25T18:22:13.828Z"
   },
   {
    "duration": 1268,
    "start_time": "2022-08-25T18:23:05.072Z"
   },
   {
    "duration": 176,
    "start_time": "2022-08-25T18:23:06.343Z"
   },
   {
    "duration": 28,
    "start_time": "2022-08-25T18:23:06.521Z"
   },
   {
    "duration": 19,
    "start_time": "2022-08-25T18:23:06.552Z"
   },
   {
    "duration": 35,
    "start_time": "2022-08-25T18:23:06.591Z"
   },
   {
    "duration": 5,
    "start_time": "2022-08-25T18:23:06.628Z"
   },
   {
    "duration": 24,
    "start_time": "2022-08-25T18:23:06.636Z"
   },
   {
    "duration": 81,
    "start_time": "2022-08-25T18:23:06.663Z"
   },
   {
    "duration": 12,
    "start_time": "2022-08-25T18:23:06.747Z"
   },
   {
    "duration": 29,
    "start_time": "2022-08-25T18:23:06.763Z"
   },
   {
    "duration": 10,
    "start_time": "2022-08-25T18:23:06.794Z"
   },
   {
    "duration": 22,
    "start_time": "2022-08-25T18:23:06.806Z"
   },
   {
    "duration": 40,
    "start_time": "2022-08-25T18:23:06.830Z"
   },
   {
    "duration": 30,
    "start_time": "2022-08-25T18:23:06.873Z"
   },
   {
    "duration": 29,
    "start_time": "2022-08-25T18:23:06.905Z"
   },
   {
    "duration": 39,
    "start_time": "2022-08-25T18:23:06.936Z"
   },
   {
    "duration": 8,
    "start_time": "2022-08-25T18:23:06.978Z"
   },
   {
    "duration": 43,
    "start_time": "2022-08-25T18:23:06.989Z"
   },
   {
    "duration": 496,
    "start_time": "2022-08-25T18:23:07.034Z"
   },
   {
    "duration": 404,
    "start_time": "2022-08-25T18:23:07.532Z"
   },
   {
    "duration": 9,
    "start_time": "2022-08-25T18:23:07.938Z"
   },
   {
    "duration": 29,
    "start_time": "2022-08-25T18:23:30.866Z"
   },
   {
    "duration": 8,
    "start_time": "2022-08-25T18:23:34.288Z"
   },
   {
    "duration": 33,
    "start_time": "2022-08-25T18:23:36.137Z"
   },
   {
    "duration": 19,
    "start_time": "2022-08-25T18:32:27.150Z"
   },
   {
    "duration": 12,
    "start_time": "2022-08-25T18:36:22.515Z"
   },
   {
    "duration": 52,
    "start_time": "2022-08-25T18:36:30.988Z"
   },
   {
    "duration": 64,
    "start_time": "2022-08-25T18:36:37.971Z"
   },
   {
    "duration": 14,
    "start_time": "2022-08-25T18:36:51.476Z"
   },
   {
    "duration": 16,
    "start_time": "2022-08-25T18:37:09.043Z"
   },
   {
    "duration": 121,
    "start_time": "2022-08-25T18:37:13.259Z"
   },
   {
    "duration": 24,
    "start_time": "2022-08-25T18:37:20.207Z"
   },
   {
    "duration": 21,
    "start_time": "2022-08-25T18:37:24.747Z"
   },
   {
    "duration": 24,
    "start_time": "2022-08-25T18:37:33.291Z"
   },
   {
    "duration": 19,
    "start_time": "2022-08-25T18:37:46.739Z"
   },
   {
    "duration": 545,
    "start_time": "2022-08-25T18:40:09.290Z"
   },
   {
    "duration": 116,
    "start_time": "2022-08-25T18:41:06.798Z"
   },
   {
    "duration": 20,
    "start_time": "2022-08-25T18:41:14.154Z"
   },
   {
    "duration": 26,
    "start_time": "2022-08-25T18:41:40.229Z"
   },
   {
    "duration": 17,
    "start_time": "2022-08-25T18:41:43.657Z"
   },
   {
    "duration": 18,
    "start_time": "2022-08-25T18:41:46.595Z"
   },
   {
    "duration": 21,
    "start_time": "2022-08-25T18:42:04.954Z"
   },
   {
    "duration": 65,
    "start_time": "2022-08-25T18:42:09.362Z"
   },
   {
    "duration": 4,
    "start_time": "2022-08-25T18:42:59.251Z"
   },
   {
    "duration": 1311,
    "start_time": "2022-08-25T18:43:01.577Z"
   },
   {
    "duration": 177,
    "start_time": "2022-08-25T18:43:02.891Z"
   },
   {
    "duration": 21,
    "start_time": "2022-08-25T18:43:03.070Z"
   },
   {
    "duration": 52,
    "start_time": "2022-08-25T18:43:03.093Z"
   },
   {
    "duration": 36,
    "start_time": "2022-08-25T18:43:03.147Z"
   },
   {
    "duration": 5,
    "start_time": "2022-08-25T18:43:03.185Z"
   },
   {
    "duration": 29,
    "start_time": "2022-08-25T18:43:03.192Z"
   },
   {
    "duration": 64,
    "start_time": "2022-08-25T18:43:03.223Z"
   },
   {
    "duration": 21,
    "start_time": "2022-08-25T18:43:03.289Z"
   },
   {
    "duration": 20,
    "start_time": "2022-08-25T18:43:03.315Z"
   },
   {
    "duration": 8,
    "start_time": "2022-08-25T18:43:03.338Z"
   },
   {
    "duration": 14,
    "start_time": "2022-08-25T18:43:03.349Z"
   },
   {
    "duration": 38,
    "start_time": "2022-08-25T18:43:03.365Z"
   },
   {
    "duration": 6,
    "start_time": "2022-08-25T18:43:03.410Z"
   },
   {
    "duration": 20,
    "start_time": "2022-08-25T18:43:03.419Z"
   },
   {
    "duration": 25,
    "start_time": "2022-08-25T18:43:03.442Z"
   },
   {
    "duration": 23,
    "start_time": "2022-08-25T18:43:03.469Z"
   },
   {
    "duration": 11,
    "start_time": "2022-08-25T18:43:03.507Z"
   },
   {
    "duration": 401,
    "start_time": "2022-08-25T18:43:03.519Z"
   },
   {
    "duration": 386,
    "start_time": "2022-08-25T18:43:03.922Z"
   },
   {
    "duration": 8,
    "start_time": "2022-08-25T18:43:04.311Z"
   },
   {
    "duration": 399,
    "start_time": "2022-08-25T18:43:04.321Z"
   },
   {
    "duration": 314,
    "start_time": "2022-08-25T18:43:04.722Z"
   },
   {
    "duration": 343,
    "start_time": "2022-08-25T18:43:05.038Z"
   },
   {
    "duration": 30,
    "start_time": "2022-08-25T18:43:05.383Z"
   },
   {
    "duration": 222,
    "start_time": "2022-08-25T18:43:05.416Z"
   },
   {
    "duration": 314,
    "start_time": "2022-08-25T18:43:05.641Z"
   },
   {
    "duration": 651,
    "start_time": "2022-08-25T18:43:05.960Z"
   },
   {
    "duration": 225,
    "start_time": "2022-08-25T18:43:06.613Z"
   },
   {
    "duration": 366,
    "start_time": "2022-08-25T18:43:06.840Z"
   },
   {
    "duration": 365,
    "start_time": "2022-08-25T18:43:07.208Z"
   },
   {
    "duration": 161,
    "start_time": "2022-08-25T18:43:07.576Z"
   },
   {
    "duration": 165,
    "start_time": "2022-08-25T18:43:07.740Z"
   },
   {
    "duration": 142,
    "start_time": "2022-08-25T18:43:07.908Z"
   },
   {
    "duration": 257,
    "start_time": "2022-08-25T18:43:08.052Z"
   },
   {
    "duration": 167,
    "start_time": "2022-08-25T18:43:08.311Z"
   },
   {
    "duration": 151,
    "start_time": "2022-08-25T18:43:08.481Z"
   },
   {
    "duration": 27,
    "start_time": "2022-08-25T18:52:23.747Z"
   },
   {
    "duration": 19,
    "start_time": "2022-08-25T18:52:35.193Z"
   },
   {
    "duration": 69,
    "start_time": "2022-08-25T18:52:38.370Z"
   },
   {
    "duration": 20,
    "start_time": "2022-08-25T18:52:50.193Z"
   },
   {
    "duration": 1123,
    "start_time": "2022-08-25T18:55:54.639Z"
   },
   {
    "duration": 184,
    "start_time": "2022-08-25T18:55:55.764Z"
   },
   {
    "duration": 29,
    "start_time": "2022-08-25T18:55:55.952Z"
   },
   {
    "duration": 57,
    "start_time": "2022-08-25T18:55:55.983Z"
   },
   {
    "duration": 42,
    "start_time": "2022-08-25T18:55:56.043Z"
   },
   {
    "duration": 5,
    "start_time": "2022-08-25T18:55:56.086Z"
   },
   {
    "duration": 27,
    "start_time": "2022-08-25T18:55:56.093Z"
   },
   {
    "duration": 77,
    "start_time": "2022-08-25T18:55:56.122Z"
   },
   {
    "duration": 16,
    "start_time": "2022-08-25T18:55:56.200Z"
   },
   {
    "duration": 11,
    "start_time": "2022-08-25T18:55:56.219Z"
   },
   {
    "duration": 7,
    "start_time": "2022-08-25T18:55:56.232Z"
   },
   {
    "duration": 18,
    "start_time": "2022-08-25T18:55:56.241Z"
   },
   {
    "duration": 44,
    "start_time": "2022-08-25T18:55:56.261Z"
   },
   {
    "duration": 7,
    "start_time": "2022-08-25T18:55:56.308Z"
   },
   {
    "duration": 52,
    "start_time": "2022-08-25T18:55:56.317Z"
   },
   {
    "duration": 18,
    "start_time": "2022-08-25T18:55:56.372Z"
   },
   {
    "duration": 6,
    "start_time": "2022-08-25T18:55:56.393Z"
   },
   {
    "duration": 23,
    "start_time": "2022-08-25T18:55:56.402Z"
   },
   {
    "duration": 450,
    "start_time": "2022-08-25T18:55:56.429Z"
   },
   {
    "duration": 386,
    "start_time": "2022-08-25T18:55:56.881Z"
   },
   {
    "duration": 9,
    "start_time": "2022-08-25T18:55:57.269Z"
   },
   {
    "duration": 383,
    "start_time": "2022-08-25T18:55:57.280Z"
   },
   {
    "duration": 374,
    "start_time": "2022-08-25T18:55:57.666Z"
   },
   {
    "duration": 381,
    "start_time": "2022-08-25T18:55:58.042Z"
   },
   {
    "duration": 23,
    "start_time": "2022-08-25T18:55:58.425Z"
   },
   {
    "duration": 282,
    "start_time": "2022-08-25T18:55:58.450Z"
   },
   {
    "duration": 284,
    "start_time": "2022-08-25T18:55:58.734Z"
   },
   {
    "duration": 668,
    "start_time": "2022-08-25T18:55:59.020Z"
   },
   {
    "duration": 221,
    "start_time": "2022-08-25T18:55:59.692Z"
   },
   {
    "duration": 341,
    "start_time": "2022-08-25T18:55:59.915Z"
   },
   {
    "duration": 341,
    "start_time": "2022-08-25T18:56:00.258Z"
   },
   {
    "duration": 149,
    "start_time": "2022-08-25T18:56:00.601Z"
   },
   {
    "duration": 147,
    "start_time": "2022-08-25T18:56:00.752Z"
   },
   {
    "duration": 132,
    "start_time": "2022-08-25T18:56:00.901Z"
   },
   {
    "duration": 234,
    "start_time": "2022-08-25T18:56:01.034Z"
   },
   {
    "duration": 159,
    "start_time": "2022-08-25T18:56:01.271Z"
   },
   {
    "duration": 148,
    "start_time": "2022-08-25T18:56:01.433Z"
   },
   {
    "duration": 9,
    "start_time": "2022-08-25T18:56:01.584Z"
   },
   {
    "duration": 29,
    "start_time": "2022-08-25T18:56:01.595Z"
   },
   {
    "duration": 51,
    "start_time": "2022-08-25T18:56:05.483Z"
   },
   {
    "duration": 155,
    "start_time": "2022-08-25T18:59:16.414Z"
   },
   {
    "duration": 4,
    "start_time": "2022-08-25T19:33:32.182Z"
   },
   {
    "duration": 73,
    "start_time": "2022-08-25T19:51:36.462Z"
   },
   {
    "duration": 5,
    "start_time": "2022-08-25T19:54:45.968Z"
   },
   {
    "duration": 20,
    "start_time": "2022-08-25T19:55:26.873Z"
   },
   {
    "duration": 112,
    "start_time": "2022-08-25T20:20:17.570Z"
   },
   {
    "duration": 1167,
    "start_time": "2022-08-25T20:42:38.900Z"
   },
   {
    "duration": 175,
    "start_time": "2022-08-25T20:42:40.069Z"
   },
   {
    "duration": 20,
    "start_time": "2022-08-25T20:42:40.245Z"
   },
   {
    "duration": 20,
    "start_time": "2022-08-25T20:42:40.269Z"
   },
   {
    "duration": 44,
    "start_time": "2022-08-25T20:42:40.295Z"
   },
   {
    "duration": 5,
    "start_time": "2022-08-25T20:42:40.341Z"
   },
   {
    "duration": 13,
    "start_time": "2022-08-25T20:42:40.348Z"
   },
   {
    "duration": 71,
    "start_time": "2022-08-25T20:42:40.362Z"
   },
   {
    "duration": 11,
    "start_time": "2022-08-25T20:42:40.435Z"
   },
   {
    "duration": 10,
    "start_time": "2022-08-25T20:42:40.449Z"
   },
   {
    "duration": 6,
    "start_time": "2022-08-25T20:42:40.461Z"
   },
   {
    "duration": 7,
    "start_time": "2022-08-25T20:42:40.492Z"
   },
   {
    "duration": 22,
    "start_time": "2022-08-25T20:42:40.501Z"
   },
   {
    "duration": 11,
    "start_time": "2022-08-25T20:42:40.525Z"
   },
   {
    "duration": 42,
    "start_time": "2022-08-25T20:42:40.539Z"
   },
   {
    "duration": 43,
    "start_time": "2022-08-25T20:42:40.583Z"
   },
   {
    "duration": 5,
    "start_time": "2022-08-25T20:42:40.628Z"
   },
   {
    "duration": 14,
    "start_time": "2022-08-25T20:42:40.634Z"
   },
   {
    "duration": 340,
    "start_time": "2022-08-25T20:42:40.650Z"
   },
   {
    "duration": 323,
    "start_time": "2022-08-25T20:42:40.992Z"
   },
   {
    "duration": 8,
    "start_time": "2022-08-25T20:42:41.318Z"
   },
   {
    "duration": 354,
    "start_time": "2022-08-25T20:42:41.328Z"
   },
   {
    "duration": 337,
    "start_time": "2022-08-25T20:42:41.684Z"
   },
   {
    "duration": 294,
    "start_time": "2022-08-25T20:42:42.023Z"
   },
   {
    "duration": 14,
    "start_time": "2022-08-25T20:42:42.319Z"
   },
   {
    "duration": 185,
    "start_time": "2022-08-25T20:42:42.335Z"
   },
   {
    "duration": 271,
    "start_time": "2022-08-25T20:42:42.522Z"
   },
   {
    "duration": 553,
    "start_time": "2022-08-25T20:42:42.796Z"
   },
   {
    "duration": 195,
    "start_time": "2022-08-25T20:42:43.351Z"
   },
   {
    "duration": 295,
    "start_time": "2022-08-25T20:42:43.548Z"
   },
   {
    "duration": 310,
    "start_time": "2022-08-25T20:42:43.845Z"
   },
   {
    "duration": 129,
    "start_time": "2022-08-25T20:42:44.156Z"
   },
   {
    "duration": 143,
    "start_time": "2022-08-25T20:42:44.291Z"
   },
   {
    "duration": 116,
    "start_time": "2022-08-25T20:42:44.435Z"
   },
   {
    "duration": 223,
    "start_time": "2022-08-25T20:42:44.553Z"
   },
   {
    "duration": 140,
    "start_time": "2022-08-25T20:42:44.778Z"
   },
   {
    "duration": 129,
    "start_time": "2022-08-25T20:42:44.920Z"
   },
   {
    "duration": 3,
    "start_time": "2022-08-25T20:42:45.051Z"
   },
   {
    "duration": 38,
    "start_time": "2022-08-25T20:42:46.605Z"
   },
   {
    "duration": 335,
    "start_time": "2022-08-25T20:49:19.315Z"
   },
   {
    "duration": 99,
    "start_time": "2022-08-25T20:49:41.944Z"
   },
   {
    "duration": 1241,
    "start_time": "2022-08-26T09:20:56.176Z"
   },
   {
    "duration": 155,
    "start_time": "2022-08-26T09:20:57.419Z"
   },
   {
    "duration": 15,
    "start_time": "2022-08-26T09:20:57.576Z"
   },
   {
    "duration": 12,
    "start_time": "2022-08-26T09:20:57.593Z"
   },
   {
    "duration": 24,
    "start_time": "2022-08-26T09:20:57.606Z"
   },
   {
    "duration": 4,
    "start_time": "2022-08-26T09:20:57.631Z"
   },
   {
    "duration": 10,
    "start_time": "2022-08-26T09:20:57.636Z"
   },
   {
    "duration": 78,
    "start_time": "2022-08-26T09:20:57.648Z"
   },
   {
    "duration": 7,
    "start_time": "2022-08-26T09:20:57.727Z"
   },
   {
    "duration": 8,
    "start_time": "2022-08-26T09:20:57.736Z"
   },
   {
    "duration": 5,
    "start_time": "2022-08-26T09:20:57.745Z"
   },
   {
    "duration": 7,
    "start_time": "2022-08-26T09:20:57.751Z"
   },
   {
    "duration": 10,
    "start_time": "2022-08-26T09:20:57.760Z"
   },
   {
    "duration": 4,
    "start_time": "2022-08-26T09:20:57.798Z"
   },
   {
    "duration": 16,
    "start_time": "2022-08-26T09:20:57.803Z"
   },
   {
    "duration": 13,
    "start_time": "2022-08-26T09:20:57.820Z"
   },
   {
    "duration": 3,
    "start_time": "2022-08-26T09:20:57.835Z"
   },
   {
    "duration": 6,
    "start_time": "2022-08-26T09:20:57.839Z"
   },
   {
    "duration": 320,
    "start_time": "2022-08-26T09:20:57.847Z"
   },
   {
    "duration": 252,
    "start_time": "2022-08-26T09:20:58.170Z"
   },
   {
    "duration": 6,
    "start_time": "2022-08-26T09:20:58.423Z"
   },
   {
    "duration": 293,
    "start_time": "2022-08-26T09:20:58.430Z"
   },
   {
    "duration": 233,
    "start_time": "2022-08-26T09:20:58.724Z"
   },
   {
    "duration": 243,
    "start_time": "2022-08-26T09:20:58.958Z"
   },
   {
    "duration": 13,
    "start_time": "2022-08-26T09:20:59.202Z"
   },
   {
    "duration": 168,
    "start_time": "2022-08-26T09:20:59.216Z"
   },
   {
    "duration": 222,
    "start_time": "2022-08-26T09:20:59.385Z"
   },
   {
    "duration": 480,
    "start_time": "2022-08-26T09:20:59.610Z"
   },
   {
    "duration": 173,
    "start_time": "2022-08-26T09:21:00.092Z"
   },
   {
    "duration": 285,
    "start_time": "2022-08-26T09:21:00.267Z"
   },
   {
    "duration": 268,
    "start_time": "2022-08-26T09:21:00.553Z"
   },
   {
    "duration": 121,
    "start_time": "2022-08-26T09:21:00.823Z"
   },
   {
    "duration": 110,
    "start_time": "2022-08-26T09:21:00.945Z"
   },
   {
    "duration": 107,
    "start_time": "2022-08-26T09:21:01.056Z"
   },
   {
    "duration": 175,
    "start_time": "2022-08-26T09:21:01.164Z"
   },
   {
    "duration": 125,
    "start_time": "2022-08-26T09:21:01.341Z"
   },
   {
    "duration": 118,
    "start_time": "2022-08-26T09:21:01.467Z"
   },
   {
    "duration": 2,
    "start_time": "2022-08-26T09:21:01.587Z"
   },
   {
    "duration": 24,
    "start_time": "2022-08-26T09:21:05.997Z"
   },
   {
    "duration": 8,
    "start_time": "2022-08-26T09:23:20.139Z"
   },
   {
    "duration": 25,
    "start_time": "2022-08-26T09:23:25.684Z"
   },
   {
    "duration": 3,
    "start_time": "2022-08-26T09:23:38.470Z"
   },
   {
    "duration": 7,
    "start_time": "2022-08-26T09:24:01.340Z"
   },
   {
    "duration": 5,
    "start_time": "2022-08-26T09:26:45.228Z"
   },
   {
    "duration": 4,
    "start_time": "2022-08-26T09:26:50.436Z"
   },
   {
    "duration": 11,
    "start_time": "2022-08-26T09:30:03.412Z"
   },
   {
    "duration": 5,
    "start_time": "2022-08-26T09:30:21.137Z"
   },
   {
    "duration": 16,
    "start_time": "2022-08-26T09:32:52.905Z"
   },
   {
    "duration": 12,
    "start_time": "2022-08-26T09:33:51.841Z"
   },
   {
    "duration": 13,
    "start_time": "2022-08-26T09:33:54.601Z"
   },
   {
    "duration": 13,
    "start_time": "2022-08-26T09:34:05.249Z"
   },
   {
    "duration": 14,
    "start_time": "2022-08-26T09:34:10.456Z"
   },
   {
    "duration": 12,
    "start_time": "2022-08-26T09:34:13.681Z"
   },
   {
    "duration": 100,
    "start_time": "2022-08-26T09:37:41.127Z"
   },
   {
    "duration": 6,
    "start_time": "2022-08-26T09:37:46.256Z"
   },
   {
    "duration": 12,
    "start_time": "2022-08-26T09:38:10.047Z"
   },
   {
    "duration": 5,
    "start_time": "2022-08-26T09:43:50.228Z"
   },
   {
    "duration": 8,
    "start_time": "2022-08-26T09:43:53.725Z"
   },
   {
    "duration": 11,
    "start_time": "2022-08-26T09:43:58.820Z"
   },
   {
    "duration": 5,
    "start_time": "2022-08-26T09:44:07.397Z"
   },
   {
    "duration": 8,
    "start_time": "2022-08-26T09:44:38.453Z"
   },
   {
    "duration": 9,
    "start_time": "2022-08-26T09:44:46.605Z"
   },
   {
    "duration": 4,
    "start_time": "2022-08-26T09:44:51.973Z"
   },
   {
    "duration": 5,
    "start_time": "2022-08-26T09:45:07.781Z"
   },
   {
    "duration": 8,
    "start_time": "2022-08-26T09:45:29.813Z"
   },
   {
    "duration": 4,
    "start_time": "2022-08-26T09:45:47.036Z"
   },
   {
    "duration": 5,
    "start_time": "2022-08-26T09:46:19.517Z"
   },
   {
    "duration": 4,
    "start_time": "2022-08-26T09:46:21.133Z"
   },
   {
    "duration": 5,
    "start_time": "2022-08-26T09:46:26.517Z"
   },
   {
    "duration": 4,
    "start_time": "2022-08-26T09:47:02.405Z"
   },
   {
    "duration": 6,
    "start_time": "2022-08-26T09:47:06.077Z"
   },
   {
    "duration": 48,
    "start_time": "2022-08-26T09:48:29.868Z"
   },
   {
    "duration": 10,
    "start_time": "2022-08-26T09:48:35.597Z"
   },
   {
    "duration": 12,
    "start_time": "2022-08-26T09:48:40.700Z"
   },
   {
    "duration": 10,
    "start_time": "2022-08-26T09:48:46.084Z"
   },
   {
    "duration": 9,
    "start_time": "2022-08-26T09:48:50.668Z"
   },
   {
    "duration": 10,
    "start_time": "2022-08-26T09:51:00.683Z"
   },
   {
    "duration": 4,
    "start_time": "2022-08-26T09:51:13.659Z"
   },
   {
    "duration": 8,
    "start_time": "2022-08-26T09:51:18.539Z"
   },
   {
    "duration": 5,
    "start_time": "2022-08-26T09:51:29.971Z"
   },
   {
    "duration": 11,
    "start_time": "2022-08-26T09:54:19.793Z"
   },
   {
    "duration": 4,
    "start_time": "2022-08-26T09:54:36.626Z"
   },
   {
    "duration": 7,
    "start_time": "2022-08-26T09:54:46.898Z"
   },
   {
    "duration": 11,
    "start_time": "2022-08-26T09:56:23.794Z"
   },
   {
    "duration": 11,
    "start_time": "2022-08-26T09:56:59.625Z"
   },
   {
    "duration": 7,
    "start_time": "2022-08-26T09:57:01.800Z"
   },
   {
    "duration": 12,
    "start_time": "2022-08-26T09:57:13.280Z"
   },
   {
    "duration": 968,
    "start_time": "2022-08-26T09:57:18.252Z"
   },
   {
    "duration": 107,
    "start_time": "2022-08-26T09:57:19.221Z"
   },
   {
    "duration": 15,
    "start_time": "2022-08-26T09:57:19.329Z"
   },
   {
    "duration": 17,
    "start_time": "2022-08-26T09:57:19.346Z"
   },
   {
    "duration": 38,
    "start_time": "2022-08-26T09:57:19.365Z"
   },
   {
    "duration": 4,
    "start_time": "2022-08-26T09:57:19.404Z"
   },
   {
    "duration": 20,
    "start_time": "2022-08-26T09:57:19.409Z"
   },
   {
    "duration": 51,
    "start_time": "2022-08-26T09:57:19.430Z"
   },
   {
    "duration": 22,
    "start_time": "2022-08-26T09:57:19.482Z"
   },
   {
    "duration": 7,
    "start_time": "2022-08-26T09:57:19.506Z"
   },
   {
    "duration": 3,
    "start_time": "2022-08-26T09:57:19.515Z"
   },
   {
    "duration": 7,
    "start_time": "2022-08-26T09:57:19.519Z"
   },
   {
    "duration": 13,
    "start_time": "2022-08-26T09:57:19.528Z"
   },
   {
    "duration": 3,
    "start_time": "2022-08-26T09:57:19.543Z"
   },
   {
    "duration": 17,
    "start_time": "2022-08-26T09:57:19.548Z"
   },
   {
    "duration": 38,
    "start_time": "2022-08-26T09:57:19.566Z"
   },
   {
    "duration": 12,
    "start_time": "2022-08-26T09:57:19.606Z"
   },
   {
    "duration": 6,
    "start_time": "2022-08-26T09:57:19.620Z"
   },
   {
    "duration": 282,
    "start_time": "2022-08-26T09:57:19.627Z"
   },
   {
    "duration": 266,
    "start_time": "2022-08-26T09:57:19.911Z"
   },
   {
    "duration": 6,
    "start_time": "2022-08-26T09:57:20.179Z"
   },
   {
    "duration": 296,
    "start_time": "2022-08-26T09:57:20.197Z"
   },
   {
    "duration": 264,
    "start_time": "2022-08-26T09:57:20.494Z"
   },
   {
    "duration": 265,
    "start_time": "2022-08-26T09:57:20.760Z"
   },
   {
    "duration": 14,
    "start_time": "2022-08-26T09:57:21.026Z"
   },
   {
    "duration": 202,
    "start_time": "2022-08-26T09:57:21.041Z"
   },
   {
    "duration": 472,
    "start_time": "2022-08-26T09:57:21.244Z"
   },
   {
    "duration": 985,
    "start_time": "2022-08-26T09:57:21.719Z"
   },
   {
    "duration": 268,
    "start_time": "2022-08-26T09:57:22.706Z"
   },
   {
    "duration": 262,
    "start_time": "2022-08-26T09:57:22.976Z"
   },
   {
    "duration": 274,
    "start_time": "2022-08-26T09:57:23.239Z"
   },
   {
    "duration": 114,
    "start_time": "2022-08-26T09:57:23.515Z"
   },
   {
    "duration": 116,
    "start_time": "2022-08-26T09:57:23.630Z"
   },
   {
    "duration": 103,
    "start_time": "2022-08-26T09:57:23.748Z"
   },
   {
    "duration": 190,
    "start_time": "2022-08-26T09:57:23.853Z"
   },
   {
    "duration": 123,
    "start_time": "2022-08-26T09:57:24.045Z"
   },
   {
    "duration": 117,
    "start_time": "2022-08-26T09:57:24.169Z"
   },
   {
    "duration": 112,
    "start_time": "2022-08-26T09:57:24.287Z"
   },
   {
    "duration": 0,
    "start_time": "2022-08-26T09:57:24.401Z"
   },
   {
    "duration": 0,
    "start_time": "2022-08-26T09:57:24.402Z"
   },
   {
    "duration": 0,
    "start_time": "2022-08-26T09:57:24.404Z"
   },
   {
    "duration": 1,
    "start_time": "2022-08-26T09:57:24.405Z"
   },
   {
    "duration": 0,
    "start_time": "2022-08-26T09:57:24.407Z"
   },
   {
    "duration": 0,
    "start_time": "2022-08-26T09:57:24.409Z"
   },
   {
    "duration": 0,
    "start_time": "2022-08-26T09:57:24.410Z"
   },
   {
    "duration": 0,
    "start_time": "2022-08-26T09:57:24.412Z"
   },
   {
    "duration": 0,
    "start_time": "2022-08-26T09:57:24.413Z"
   },
   {
    "duration": 0,
    "start_time": "2022-08-26T09:57:24.415Z"
   },
   {
    "duration": 0,
    "start_time": "2022-08-26T09:57:24.416Z"
   },
   {
    "duration": 0,
    "start_time": "2022-08-26T09:57:24.417Z"
   },
   {
    "duration": 0,
    "start_time": "2022-08-26T09:57:24.419Z"
   },
   {
    "duration": 0,
    "start_time": "2022-08-26T09:57:24.419Z"
   },
   {
    "duration": 0,
    "start_time": "2022-08-26T09:57:24.421Z"
   },
   {
    "duration": 0,
    "start_time": "2022-08-26T09:57:24.422Z"
   },
   {
    "duration": 9,
    "start_time": "2022-08-26T09:57:28.493Z"
   },
   {
    "duration": 5,
    "start_time": "2022-08-26T09:57:37.172Z"
   },
   {
    "duration": 11,
    "start_time": "2022-08-26T09:57:38.813Z"
   },
   {
    "duration": 7,
    "start_time": "2022-08-26T09:57:39.957Z"
   },
   {
    "duration": 3,
    "start_time": "2022-08-26T09:59:27.468Z"
   },
   {
    "duration": 1001,
    "start_time": "2022-08-26T10:12:16.912Z"
   },
   {
    "duration": 82,
    "start_time": "2022-08-26T10:12:17.915Z"
   },
   {
    "duration": 17,
    "start_time": "2022-08-26T10:12:17.999Z"
   },
   {
    "duration": 13,
    "start_time": "2022-08-26T10:12:18.018Z"
   },
   {
    "duration": 26,
    "start_time": "2022-08-26T10:12:18.033Z"
   },
   {
    "duration": 42,
    "start_time": "2022-08-26T10:12:18.061Z"
   },
   {
    "duration": 15,
    "start_time": "2022-08-26T10:12:18.105Z"
   },
   {
    "duration": 53,
    "start_time": "2022-08-26T10:12:18.122Z"
   },
   {
    "duration": 27,
    "start_time": "2022-08-26T10:12:18.176Z"
   },
   {
    "duration": 14,
    "start_time": "2022-08-26T10:12:18.207Z"
   },
   {
    "duration": 5,
    "start_time": "2022-08-26T10:12:18.223Z"
   },
   {
    "duration": 7,
    "start_time": "2022-08-26T10:12:18.230Z"
   },
   {
    "duration": 13,
    "start_time": "2022-08-26T10:12:18.239Z"
   },
   {
    "duration": 4,
    "start_time": "2022-08-26T10:12:18.254Z"
   },
   {
    "duration": 52,
    "start_time": "2022-08-26T10:12:18.260Z"
   },
   {
    "duration": 12,
    "start_time": "2022-08-26T10:12:18.313Z"
   },
   {
    "duration": 4,
    "start_time": "2022-08-26T10:12:18.326Z"
   },
   {
    "duration": 15,
    "start_time": "2022-08-26T10:12:18.331Z"
   },
   {
    "duration": 297,
    "start_time": "2022-08-26T10:12:18.347Z"
   },
   {
    "duration": 253,
    "start_time": "2022-08-26T10:12:18.645Z"
   },
   {
    "duration": 8,
    "start_time": "2022-08-26T10:12:18.900Z"
   },
   {
    "duration": 296,
    "start_time": "2022-08-26T10:12:18.910Z"
   },
   {
    "duration": 237,
    "start_time": "2022-08-26T10:12:19.208Z"
   },
   {
    "duration": 249,
    "start_time": "2022-08-26T10:12:19.447Z"
   },
   {
    "duration": 15,
    "start_time": "2022-08-26T10:12:19.698Z"
   },
   {
    "duration": 164,
    "start_time": "2022-08-26T10:12:19.715Z"
   },
   {
    "duration": 221,
    "start_time": "2022-08-26T10:12:19.881Z"
   },
   {
    "duration": 471,
    "start_time": "2022-08-26T10:12:20.106Z"
   },
   {
    "duration": 166,
    "start_time": "2022-08-26T10:12:20.579Z"
   },
   {
    "duration": 248,
    "start_time": "2022-08-26T10:12:20.747Z"
   },
   {
    "duration": 264,
    "start_time": "2022-08-26T10:12:20.999Z"
   },
   {
    "duration": 115,
    "start_time": "2022-08-26T10:12:21.265Z"
   },
   {
    "duration": 118,
    "start_time": "2022-08-26T10:12:21.382Z"
   },
   {
    "duration": 108,
    "start_time": "2022-08-26T10:12:21.502Z"
   },
   {
    "duration": 182,
    "start_time": "2022-08-26T10:12:21.611Z"
   },
   {
    "duration": 120,
    "start_time": "2022-08-26T10:12:21.795Z"
   },
   {
    "duration": 119,
    "start_time": "2022-08-26T10:12:21.917Z"
   },
   {
    "duration": 7,
    "start_time": "2022-08-26T10:12:22.039Z"
   },
   {
    "duration": 7,
    "start_time": "2022-08-26T10:14:18.182Z"
   },
   {
    "duration": 5,
    "start_time": "2022-08-26T10:14:22.107Z"
   },
   {
    "duration": 9,
    "start_time": "2022-08-26T10:15:54.389Z"
   },
   {
    "duration": 8,
    "start_time": "2022-08-26T10:18:15.235Z"
   },
   {
    "duration": 1043,
    "start_time": "2022-08-26T10:18:32.975Z"
   },
   {
    "duration": 115,
    "start_time": "2022-08-26T10:18:34.020Z"
   },
   {
    "duration": 15,
    "start_time": "2022-08-26T10:18:34.136Z"
   },
   {
    "duration": 12,
    "start_time": "2022-08-26T10:18:34.153Z"
   },
   {
    "duration": 34,
    "start_time": "2022-08-26T10:18:34.166Z"
   },
   {
    "duration": 4,
    "start_time": "2022-08-26T10:18:34.201Z"
   },
   {
    "duration": 9,
    "start_time": "2022-08-26T10:18:34.207Z"
   },
   {
    "duration": 58,
    "start_time": "2022-08-26T10:18:34.217Z"
   },
   {
    "duration": 22,
    "start_time": "2022-08-26T10:18:34.277Z"
   },
   {
    "duration": 17,
    "start_time": "2022-08-26T10:18:34.302Z"
   },
   {
    "duration": 4,
    "start_time": "2022-08-26T10:18:34.321Z"
   },
   {
    "duration": 7,
    "start_time": "2022-08-26T10:18:34.326Z"
   },
   {
    "duration": 13,
    "start_time": "2022-08-26T10:18:34.334Z"
   },
   {
    "duration": 4,
    "start_time": "2022-08-26T10:18:34.348Z"
   },
   {
    "duration": 20,
    "start_time": "2022-08-26T10:18:34.354Z"
   },
   {
    "duration": 17,
    "start_time": "2022-08-26T10:18:34.400Z"
   },
   {
    "duration": 6,
    "start_time": "2022-08-26T10:18:34.419Z"
   },
   {
    "duration": 36,
    "start_time": "2022-08-26T10:18:34.427Z"
   },
   {
    "duration": 342,
    "start_time": "2022-08-26T10:18:34.464Z"
   },
   {
    "duration": 255,
    "start_time": "2022-08-26T10:18:34.807Z"
   },
   {
    "duration": 7,
    "start_time": "2022-08-26T10:18:35.063Z"
   },
   {
    "duration": 315,
    "start_time": "2022-08-26T10:18:35.072Z"
   },
   {
    "duration": 239,
    "start_time": "2022-08-26T10:18:35.388Z"
   },
   {
    "duration": 246,
    "start_time": "2022-08-26T10:18:35.629Z"
   },
   {
    "duration": 22,
    "start_time": "2022-08-26T10:18:35.877Z"
   },
   {
    "duration": 165,
    "start_time": "2022-08-26T10:18:35.900Z"
   },
   {
    "duration": 229,
    "start_time": "2022-08-26T10:18:36.066Z"
   },
   {
    "duration": 467,
    "start_time": "2022-08-26T10:18:36.298Z"
   },
   {
    "duration": 164,
    "start_time": "2022-08-26T10:18:36.767Z"
   },
   {
    "duration": 254,
    "start_time": "2022-08-26T10:18:36.932Z"
   },
   {
    "duration": 260,
    "start_time": "2022-08-26T10:18:37.187Z"
   },
   {
    "duration": 113,
    "start_time": "2022-08-26T10:18:37.448Z"
   },
   {
    "duration": 125,
    "start_time": "2022-08-26T10:18:37.562Z"
   },
   {
    "duration": 109,
    "start_time": "2022-08-26T10:18:37.689Z"
   },
   {
    "duration": 187,
    "start_time": "2022-08-26T10:18:37.799Z"
   },
   {
    "duration": 126,
    "start_time": "2022-08-26T10:18:37.988Z"
   },
   {
    "duration": 117,
    "start_time": "2022-08-26T10:18:38.116Z"
   },
   {
    "duration": 7,
    "start_time": "2022-08-26T10:18:38.235Z"
   },
   {
    "duration": 102,
    "start_time": "2022-08-26T10:18:44.036Z"
   },
   {
    "duration": 12,
    "start_time": "2022-08-26T10:18:45.788Z"
   },
   {
    "duration": 3,
    "start_time": "2022-08-26T10:18:47.132Z"
   },
   {
    "duration": 6,
    "start_time": "2022-08-26T10:18:48.564Z"
   },
   {
    "duration": 13,
    "start_time": "2022-08-26T10:23:50.283Z"
   },
   {
    "duration": 7,
    "start_time": "2022-08-26T10:23:52.474Z"
   },
   {
    "duration": 95,
    "start_time": "2022-08-26T10:25:27.658Z"
   },
   {
    "duration": 112,
    "start_time": "2022-08-26T10:25:29.786Z"
   },
   {
    "duration": 98,
    "start_time": "2022-08-26T10:25:33.110Z"
   },
   {
    "duration": 19,
    "start_time": "2022-08-26T10:25:44.873Z"
   },
   {
    "duration": 14,
    "start_time": "2022-08-26T10:28:52.618Z"
   },
   {
    "duration": 3,
    "start_time": "2022-08-26T10:28:53.624Z"
   },
   {
    "duration": 8,
    "start_time": "2022-08-26T10:28:54.855Z"
   },
   {
    "duration": 14,
    "start_time": "2022-08-26T10:30:10.752Z"
   },
   {
    "duration": 3,
    "start_time": "2022-08-26T10:30:17.047Z"
   },
   {
    "duration": 16,
    "start_time": "2022-08-26T10:30:19.839Z"
   },
   {
    "duration": 3,
    "start_time": "2022-08-26T10:30:21.735Z"
   },
   {
    "duration": 7,
    "start_time": "2022-08-26T10:30:39.064Z"
   },
   {
    "duration": 985,
    "start_time": "2022-08-26T10:43:40.442Z"
   },
   {
    "duration": 112,
    "start_time": "2022-08-26T10:43:41.428Z"
   },
   {
    "duration": 18,
    "start_time": "2022-08-26T10:43:41.542Z"
   },
   {
    "duration": 14,
    "start_time": "2022-08-26T10:43:41.562Z"
   },
   {
    "duration": 37,
    "start_time": "2022-08-26T10:43:41.577Z"
   },
   {
    "duration": 5,
    "start_time": "2022-08-26T10:43:41.616Z"
   },
   {
    "duration": 12,
    "start_time": "2022-08-26T10:43:41.622Z"
   },
   {
    "duration": 69,
    "start_time": "2022-08-26T10:43:41.636Z"
   },
   {
    "duration": 9,
    "start_time": "2022-08-26T10:43:41.706Z"
   },
   {
    "duration": 10,
    "start_time": "2022-08-26T10:43:41.718Z"
   },
   {
    "duration": 4,
    "start_time": "2022-08-26T10:43:41.729Z"
   },
   {
    "duration": 11,
    "start_time": "2022-08-26T10:43:41.734Z"
   },
   {
    "duration": 12,
    "start_time": "2022-08-26T10:43:41.746Z"
   },
   {
    "duration": 3,
    "start_time": "2022-08-26T10:43:41.760Z"
   },
   {
    "duration": 41,
    "start_time": "2022-08-26T10:43:41.764Z"
   },
   {
    "duration": 15,
    "start_time": "2022-08-26T10:43:41.806Z"
   },
   {
    "duration": 4,
    "start_time": "2022-08-26T10:43:41.822Z"
   },
   {
    "duration": 8,
    "start_time": "2022-08-26T10:43:41.827Z"
   },
   {
    "duration": 316,
    "start_time": "2022-08-26T10:43:41.836Z"
   },
   {
    "duration": 269,
    "start_time": "2022-08-26T10:43:42.154Z"
   },
   {
    "duration": 6,
    "start_time": "2022-08-26T10:43:42.425Z"
   },
   {
    "duration": 290,
    "start_time": "2022-08-26T10:43:42.432Z"
   },
   {
    "duration": 232,
    "start_time": "2022-08-26T10:43:42.723Z"
   },
   {
    "duration": 248,
    "start_time": "2022-08-26T10:43:42.957Z"
   },
   {
    "duration": 13,
    "start_time": "2022-08-26T10:43:43.207Z"
   },
   {
    "duration": 158,
    "start_time": "2022-08-26T10:43:43.222Z"
   },
   {
    "duration": 221,
    "start_time": "2022-08-26T10:43:43.381Z"
   },
   {
    "duration": 457,
    "start_time": "2022-08-26T10:43:43.605Z"
   },
   {
    "duration": 164,
    "start_time": "2022-08-26T10:43:44.063Z"
   },
   {
    "duration": 269,
    "start_time": "2022-08-26T10:43:44.229Z"
   },
   {
    "duration": 298,
    "start_time": "2022-08-26T10:43:44.500Z"
   },
   {
    "duration": 118,
    "start_time": "2022-08-26T10:43:44.799Z"
   },
   {
    "duration": 128,
    "start_time": "2022-08-26T10:43:44.918Z"
   },
   {
    "duration": 104,
    "start_time": "2022-08-26T10:43:45.047Z"
   },
   {
    "duration": 191,
    "start_time": "2022-08-26T10:43:45.152Z"
   },
   {
    "duration": 124,
    "start_time": "2022-08-26T10:43:45.344Z"
   },
   {
    "duration": 113,
    "start_time": "2022-08-26T10:43:45.470Z"
   },
   {
    "duration": 22,
    "start_time": "2022-08-26T10:43:45.584Z"
   },
   {
    "duration": 4,
    "start_time": "2022-08-26T10:43:45.607Z"
   },
   {
    "duration": 9,
    "start_time": "2022-08-26T10:43:45.612Z"
   },
   {
    "duration": 12,
    "start_time": "2022-08-26T10:43:45.623Z"
   },
   {
    "duration": 3,
    "start_time": "2022-08-26T10:43:45.637Z"
   },
   {
    "duration": 8,
    "start_time": "2022-08-26T10:43:45.641Z"
   },
   {
    "duration": 345,
    "start_time": "2022-08-26T10:43:45.650Z"
   },
   {
    "duration": 271,
    "start_time": "2022-08-26T10:43:45.996Z"
   },
   {
    "duration": 103,
    "start_time": "2022-08-26T10:43:46.268Z"
   },
   {
    "duration": 118,
    "start_time": "2022-08-26T10:43:46.373Z"
   },
   {
    "duration": 104,
    "start_time": "2022-08-26T10:43:46.498Z"
   },
   {
    "duration": 4,
    "start_time": "2022-08-26T10:43:46.603Z"
   },
   {
    "duration": 13,
    "start_time": "2022-08-26T10:43:46.608Z"
   },
   {
    "duration": 10,
    "start_time": "2022-08-26T10:43:46.622Z"
   },
   {
    "duration": 16,
    "start_time": "2022-08-26T10:44:31.071Z"
   },
   {
    "duration": 7,
    "start_time": "2022-08-26T10:44:33.142Z"
   },
   {
    "duration": 308,
    "start_time": "2022-08-26T10:45:24.311Z"
   },
   {
    "duration": 236,
    "start_time": "2022-08-26T10:45:50.721Z"
   },
   {
    "duration": 2,
    "start_time": "2022-08-26T10:45:56.263Z"
   },
   {
    "duration": 252,
    "start_time": "2022-08-26T10:46:18.951Z"
   },
   {
    "duration": 234,
    "start_time": "2022-08-26T10:46:22.719Z"
   },
   {
    "duration": 5,
    "start_time": "2022-08-26T10:47:22.639Z"
   },
   {
    "duration": 5,
    "start_time": "2022-08-26T10:47:26.039Z"
   },
   {
    "duration": 10,
    "start_time": "2022-08-26T10:47:29.591Z"
   },
   {
    "duration": 6,
    "start_time": "2022-08-26T10:47:33.806Z"
   },
   {
    "duration": 308,
    "start_time": "2022-08-26T10:48:03.504Z"
   },
   {
    "duration": 957,
    "start_time": "2022-08-26T10:48:37.168Z"
   },
   {
    "duration": 13,
    "start_time": "2022-08-26T10:48:53.478Z"
   },
   {
    "duration": 2144,
    "start_time": "2022-08-26T10:48:54.958Z"
   },
   {
    "duration": 23,
    "start_time": "2022-08-26T10:49:01.759Z"
   },
   {
    "duration": 267,
    "start_time": "2022-08-26T10:49:12.566Z"
   },
   {
    "duration": 2,
    "start_time": "2022-08-26T10:50:56.542Z"
   },
   {
    "duration": 3,
    "start_time": "2022-08-26T10:51:27.314Z"
   },
   {
    "duration": 14,
    "start_time": "2022-08-26T10:51:39.790Z"
   },
   {
    "duration": 12,
    "start_time": "2022-08-26T10:52:08.685Z"
   },
   {
    "duration": 4,
    "start_time": "2022-08-26T10:52:14.438Z"
   },
   {
    "duration": 11,
    "start_time": "2022-08-26T10:52:17.077Z"
   },
   {
    "duration": 131,
    "start_time": "2022-08-26T10:52:31.127Z"
   },
   {
    "duration": 220,
    "start_time": "2022-08-26T10:52:40.189Z"
   },
   {
    "duration": 149,
    "start_time": "2022-08-26T10:53:15.988Z"
   },
   {
    "duration": 104,
    "start_time": "2022-08-26T10:53:40.965Z"
   },
   {
    "duration": 137,
    "start_time": "2022-08-26T10:53:46.886Z"
   },
   {
    "duration": 195,
    "start_time": "2022-08-26T10:54:19.525Z"
   },
   {
    "duration": 232,
    "start_time": "2022-08-26T10:54:27.846Z"
   },
   {
    "duration": 943,
    "start_time": "2022-08-26T10:55:19.720Z"
   },
   {
    "duration": 271,
    "start_time": "2022-08-26T10:55:34.816Z"
   },
   {
    "duration": 281,
    "start_time": "2022-08-26T10:56:47.172Z"
   },
   {
    "duration": 263,
    "start_time": "2022-08-26T10:57:11.059Z"
   },
   {
    "duration": 11,
    "start_time": "2022-08-26T10:57:23.076Z"
   },
   {
    "duration": 278,
    "start_time": "2022-08-26T10:58:30.772Z"
   },
   {
    "duration": 904,
    "start_time": "2022-08-26T10:58:48.923Z"
   },
   {
    "duration": 942,
    "start_time": "2022-08-26T10:58:55.275Z"
   },
   {
    "duration": 1086,
    "start_time": "2022-08-26T10:59:06.259Z"
   },
   {
    "duration": 167,
    "start_time": "2022-08-26T10:59:43.908Z"
   },
   {
    "duration": 248,
    "start_time": "2022-08-26T10:59:51.619Z"
   },
   {
    "duration": 156,
    "start_time": "2022-08-26T11:00:03.163Z"
   },
   {
    "duration": 7,
    "start_time": "2022-08-26T11:01:01.421Z"
   },
   {
    "duration": 1037,
    "start_time": "2022-08-26T11:01:09.102Z"
   },
   {
    "duration": 146,
    "start_time": "2022-08-26T11:01:10.141Z"
   },
   {
    "duration": 21,
    "start_time": "2022-08-26T11:01:10.289Z"
   },
   {
    "duration": 39,
    "start_time": "2022-08-26T11:01:10.312Z"
   },
   {
    "duration": 28,
    "start_time": "2022-08-26T11:01:10.354Z"
   },
   {
    "duration": 5,
    "start_time": "2022-08-26T11:01:10.384Z"
   },
   {
    "duration": 40,
    "start_time": "2022-08-26T11:01:10.391Z"
   },
   {
    "duration": 60,
    "start_time": "2022-08-26T11:01:10.433Z"
   },
   {
    "duration": 8,
    "start_time": "2022-08-26T11:01:10.495Z"
   },
   {
    "duration": 29,
    "start_time": "2022-08-26T11:01:10.504Z"
   },
   {
    "duration": 5,
    "start_time": "2022-08-26T11:01:10.535Z"
   },
   {
    "duration": 9,
    "start_time": "2022-08-26T11:01:10.541Z"
   },
   {
    "duration": 14,
    "start_time": "2022-08-26T11:01:10.551Z"
   },
   {
    "duration": 5,
    "start_time": "2022-08-26T11:01:10.569Z"
   },
   {
    "duration": 43,
    "start_time": "2022-08-26T11:01:10.575Z"
   },
   {
    "duration": 18,
    "start_time": "2022-08-26T11:01:10.620Z"
   },
   {
    "duration": 6,
    "start_time": "2022-08-26T11:01:10.639Z"
   },
   {
    "duration": 12,
    "start_time": "2022-08-26T11:01:10.646Z"
   },
   {
    "duration": 314,
    "start_time": "2022-08-26T11:01:10.660Z"
   },
   {
    "duration": 269,
    "start_time": "2022-08-26T11:01:10.976Z"
   },
   {
    "duration": 8,
    "start_time": "2022-08-26T11:01:11.247Z"
   },
   {
    "duration": 331,
    "start_time": "2022-08-26T11:01:11.257Z"
   },
   {
    "duration": 255,
    "start_time": "2022-08-26T11:01:11.590Z"
   },
   {
    "duration": 291,
    "start_time": "2022-08-26T11:01:11.846Z"
   },
   {
    "duration": 15,
    "start_time": "2022-08-26T11:01:12.138Z"
   },
   {
    "duration": 191,
    "start_time": "2022-08-26T11:01:12.155Z"
   },
   {
    "duration": 243,
    "start_time": "2022-08-26T11:01:12.348Z"
   },
   {
    "duration": 491,
    "start_time": "2022-08-26T11:01:12.597Z"
   },
   {
    "duration": 193,
    "start_time": "2022-08-26T11:01:13.090Z"
   },
   {
    "duration": 278,
    "start_time": "2022-08-26T11:01:13.285Z"
   },
   {
    "duration": 310,
    "start_time": "2022-08-26T11:01:13.565Z"
   },
   {
    "duration": 137,
    "start_time": "2022-08-26T11:01:13.876Z"
   },
   {
    "duration": 123,
    "start_time": "2022-08-26T11:01:14.016Z"
   },
   {
    "duration": 112,
    "start_time": "2022-08-26T11:01:14.141Z"
   },
   {
    "duration": 213,
    "start_time": "2022-08-26T11:01:14.254Z"
   },
   {
    "duration": 184,
    "start_time": "2022-08-26T11:01:14.469Z"
   },
   {
    "duration": 156,
    "start_time": "2022-08-26T11:01:14.654Z"
   },
   {
    "duration": 17,
    "start_time": "2022-08-26T11:01:14.811Z"
   },
   {
    "duration": 163,
    "start_time": "2022-08-26T11:01:14.830Z"
   },
   {
    "duration": 17,
    "start_time": "2022-08-26T11:01:14.995Z"
   },
   {
    "duration": 239,
    "start_time": "2022-08-26T11:03:19.115Z"
   },
   {
    "duration": 114,
    "start_time": "2022-08-26T11:03:25.815Z"
   },
   {
    "duration": 300,
    "start_time": "2022-08-26T11:03:53.516Z"
   },
   {
    "duration": 2,
    "start_time": "2022-08-26T11:04:11.866Z"
   },
   {
    "duration": 173,
    "start_time": "2022-08-26T11:04:17.465Z"
   },
   {
    "duration": 183,
    "start_time": "2022-08-26T11:04:23.937Z"
   },
   {
    "duration": 16,
    "start_time": "2022-08-26T11:16:00.061Z"
   },
   {
    "duration": 177,
    "start_time": "2022-08-26T11:16:10.981Z"
   },
   {
    "duration": 19,
    "start_time": "2022-08-26T11:16:13.197Z"
   },
   {
    "duration": 10,
    "start_time": "2022-08-26T11:17:25.390Z"
   },
   {
    "duration": 12,
    "start_time": "2022-08-26T11:17:30.172Z"
   },
   {
    "duration": 24,
    "start_time": "2022-08-26T11:22:05.643Z"
   },
   {
    "duration": 4,
    "start_time": "2022-08-26T11:22:45.891Z"
   },
   {
    "duration": 18,
    "start_time": "2022-08-26T11:22:47.929Z"
   },
   {
    "duration": 164,
    "start_time": "2022-08-26T11:22:56.650Z"
   },
   {
    "duration": 201,
    "start_time": "2022-08-26T11:23:00.290Z"
   },
   {
    "duration": 235,
    "start_time": "2022-08-26T11:23:05.530Z"
   },
   {
    "duration": 7,
    "start_time": "2022-08-26T11:23:27.725Z"
   },
   {
    "duration": 7,
    "start_time": "2022-08-26T11:23:46.652Z"
   },
   {
    "duration": 1006,
    "start_time": "2022-08-26T11:25:18.662Z"
   },
   {
    "duration": 150,
    "start_time": "2022-08-26T11:25:19.670Z"
   },
   {
    "duration": 25,
    "start_time": "2022-08-26T11:25:19.822Z"
   },
   {
    "duration": 14,
    "start_time": "2022-08-26T11:25:19.849Z"
   },
   {
    "duration": 47,
    "start_time": "2022-08-26T11:25:19.865Z"
   },
   {
    "duration": 5,
    "start_time": "2022-08-26T11:25:19.913Z"
   },
   {
    "duration": 29,
    "start_time": "2022-08-26T11:25:19.919Z"
   },
   {
    "duration": 74,
    "start_time": "2022-08-26T11:25:19.950Z"
   },
   {
    "duration": 16,
    "start_time": "2022-08-26T11:25:20.025Z"
   },
   {
    "duration": 11,
    "start_time": "2022-08-26T11:25:20.045Z"
   },
   {
    "duration": 12,
    "start_time": "2022-08-26T11:25:20.057Z"
   },
   {
    "duration": 22,
    "start_time": "2022-08-26T11:25:20.070Z"
   },
   {
    "duration": 19,
    "start_time": "2022-08-26T11:25:20.093Z"
   },
   {
    "duration": 30,
    "start_time": "2022-08-26T11:25:20.113Z"
   },
   {
    "duration": 15,
    "start_time": "2022-08-26T11:25:20.145Z"
   },
   {
    "duration": 13,
    "start_time": "2022-08-26T11:25:20.161Z"
   },
   {
    "duration": 4,
    "start_time": "2022-08-26T11:25:20.175Z"
   },
   {
    "duration": 47,
    "start_time": "2022-08-26T11:25:20.180Z"
   },
   {
    "duration": 326,
    "start_time": "2022-08-26T11:25:20.233Z"
   },
   {
    "duration": 333,
    "start_time": "2022-08-26T11:25:20.561Z"
   },
   {
    "duration": 26,
    "start_time": "2022-08-26T11:25:20.895Z"
   },
   {
    "duration": 335,
    "start_time": "2022-08-26T11:25:20.923Z"
   },
   {
    "duration": 277,
    "start_time": "2022-08-26T11:25:21.260Z"
   },
   {
    "duration": 294,
    "start_time": "2022-08-26T11:25:21.539Z"
   },
   {
    "duration": 18,
    "start_time": "2022-08-26T11:25:21.834Z"
   },
   {
    "duration": 194,
    "start_time": "2022-08-26T11:25:21.853Z"
   },
   {
    "duration": 246,
    "start_time": "2022-08-26T11:25:22.049Z"
   },
   {
    "duration": 543,
    "start_time": "2022-08-26T11:25:22.298Z"
   },
   {
    "duration": 187,
    "start_time": "2022-08-26T11:25:22.844Z"
   },
   {
    "duration": 309,
    "start_time": "2022-08-26T11:25:23.033Z"
   },
   {
    "duration": 304,
    "start_time": "2022-08-26T11:25:23.344Z"
   },
   {
    "duration": 139,
    "start_time": "2022-08-26T11:25:23.650Z"
   },
   {
    "duration": 135,
    "start_time": "2022-08-26T11:25:23.791Z"
   },
   {
    "duration": 139,
    "start_time": "2022-08-26T11:25:23.932Z"
   },
   {
    "duration": 189,
    "start_time": "2022-08-26T11:25:24.072Z"
   },
   {
    "duration": 151,
    "start_time": "2022-08-26T11:25:24.263Z"
   },
   {
    "duration": 151,
    "start_time": "2022-08-26T11:25:24.416Z"
   },
   {
    "duration": 151,
    "start_time": "2022-08-26T11:25:25.992Z"
   },
   {
    "duration": 23,
    "start_time": "2022-08-26T11:25:45.465Z"
   },
   {
    "duration": 10,
    "start_time": "2022-08-26T11:25:48.625Z"
   },
   {
    "duration": 1146,
    "start_time": "2022-08-26T11:27:00.925Z"
   },
   {
    "duration": 206,
    "start_time": "2022-08-26T11:27:02.073Z"
   },
   {
    "duration": 16,
    "start_time": "2022-08-26T11:27:02.281Z"
   },
   {
    "duration": 39,
    "start_time": "2022-08-26T11:27:02.308Z"
   },
   {
    "duration": 25,
    "start_time": "2022-08-26T11:27:02.348Z"
   },
   {
    "duration": 6,
    "start_time": "2022-08-26T11:27:02.375Z"
   },
   {
    "duration": 15,
    "start_time": "2022-08-26T11:27:02.382Z"
   },
   {
    "duration": 113,
    "start_time": "2022-08-26T11:27:02.399Z"
   },
   {
    "duration": 12,
    "start_time": "2022-08-26T11:27:02.514Z"
   },
   {
    "duration": 22,
    "start_time": "2022-08-26T11:27:02.528Z"
   },
   {
    "duration": 7,
    "start_time": "2022-08-26T11:27:02.551Z"
   },
   {
    "duration": 24,
    "start_time": "2022-08-26T11:27:02.560Z"
   },
   {
    "duration": 15,
    "start_time": "2022-08-26T11:27:02.585Z"
   },
   {
    "duration": 5,
    "start_time": "2022-08-26T11:27:02.603Z"
   },
   {
    "duration": 46,
    "start_time": "2022-08-26T11:27:02.609Z"
   },
   {
    "duration": 20,
    "start_time": "2022-08-26T11:27:02.657Z"
   },
   {
    "duration": 6,
    "start_time": "2022-08-26T11:27:02.679Z"
   },
   {
    "duration": 8,
    "start_time": "2022-08-26T11:27:02.686Z"
   },
   {
    "duration": 360,
    "start_time": "2022-08-26T11:27:02.705Z"
   },
   {
    "duration": 314,
    "start_time": "2022-08-26T11:27:03.066Z"
   },
   {
    "duration": 7,
    "start_time": "2022-08-26T11:27:03.381Z"
   },
   {
    "duration": 378,
    "start_time": "2022-08-26T11:27:03.390Z"
   },
   {
    "duration": 354,
    "start_time": "2022-08-26T11:27:03.770Z"
   },
   {
    "duration": 329,
    "start_time": "2022-08-26T11:27:04.126Z"
   },
   {
    "duration": 18,
    "start_time": "2022-08-26T11:27:04.460Z"
   },
   {
    "duration": 262,
    "start_time": "2022-08-26T11:27:04.479Z"
   },
   {
    "duration": 265,
    "start_time": "2022-08-26T11:27:04.743Z"
   },
   {
    "duration": 585,
    "start_time": "2022-08-26T11:27:05.010Z"
   },
   {
    "duration": 206,
    "start_time": "2022-08-26T11:27:05.604Z"
   },
   {
    "duration": 329,
    "start_time": "2022-08-26T11:27:05.818Z"
   },
   {
    "duration": 321,
    "start_time": "2022-08-26T11:27:06.149Z"
   },
   {
    "duration": 148,
    "start_time": "2022-08-26T11:27:06.471Z"
   },
   {
    "duration": 127,
    "start_time": "2022-08-26T11:27:06.621Z"
   },
   {
    "duration": 113,
    "start_time": "2022-08-26T11:27:06.749Z"
   },
   {
    "duration": 214,
    "start_time": "2022-08-26T11:27:06.863Z"
   },
   {
    "duration": 140,
    "start_time": "2022-08-26T11:27:07.079Z"
   },
   {
    "duration": 127,
    "start_time": "2022-08-26T11:27:07.226Z"
   },
   {
    "duration": 32,
    "start_time": "2022-08-26T11:27:08.325Z"
   },
   {
    "duration": 12,
    "start_time": "2022-08-26T11:27:24.230Z"
   },
   {
    "duration": 384,
    "start_time": "2022-08-26T11:29:21.285Z"
   },
   {
    "duration": 185,
    "start_time": "2022-08-26T11:30:04.235Z"
   },
   {
    "duration": 113,
    "start_time": "2022-08-26T11:30:27.762Z"
   },
   {
    "duration": 117,
    "start_time": "2022-08-26T11:30:48.385Z"
   },
   {
    "duration": 228,
    "start_time": "2022-08-26T11:30:56.268Z"
   },
   {
    "duration": 270,
    "start_time": "2022-08-26T11:31:01.443Z"
   },
   {
    "duration": 270,
    "start_time": "2022-08-26T11:31:04.483Z"
   },
   {
    "duration": 225,
    "start_time": "2022-08-26T11:31:06.369Z"
   },
   {
    "duration": 268,
    "start_time": "2022-08-26T11:31:14.882Z"
   },
   {
    "duration": 248,
    "start_time": "2022-08-26T11:31:22.962Z"
   },
   {
    "duration": 170,
    "start_time": "2022-08-26T11:31:32.746Z"
   },
   {
    "duration": 544,
    "start_time": "2022-08-26T11:32:13.587Z"
   },
   {
    "duration": 366,
    "start_time": "2022-08-26T11:33:46.430Z"
   },
   {
    "duration": 334,
    "start_time": "2022-08-26T11:34:13.346Z"
   },
   {
    "duration": 324,
    "start_time": "2022-08-26T11:34:36.590Z"
   },
   {
    "duration": 328,
    "start_time": "2022-08-26T11:34:42.169Z"
   },
   {
    "duration": 444,
    "start_time": "2022-08-26T11:34:45.392Z"
   },
   {
    "duration": 323,
    "start_time": "2022-08-26T11:34:49.665Z"
   },
   {
    "duration": 338,
    "start_time": "2022-08-26T11:35:00.928Z"
   },
   {
    "duration": 359,
    "start_time": "2022-08-26T11:35:30.960Z"
   },
   {
    "duration": 361,
    "start_time": "2022-08-26T11:35:40.265Z"
   },
   {
    "duration": 392,
    "start_time": "2022-08-26T11:37:18.689Z"
   },
   {
    "duration": 654,
    "start_time": "2022-08-26T11:37:44.040Z"
   },
   {
    "duration": 428,
    "start_time": "2022-08-26T11:37:51.113Z"
   },
   {
    "duration": 368,
    "start_time": "2022-08-26T11:38:03.848Z"
   },
   {
    "duration": 360,
    "start_time": "2022-08-26T11:38:09.095Z"
   },
   {
    "duration": 370,
    "start_time": "2022-08-26T11:38:13.735Z"
   },
   {
    "duration": 342,
    "start_time": "2022-08-26T11:38:18.943Z"
   },
   {
    "duration": 294,
    "start_time": "2022-08-26T11:38:37.731Z"
   },
   {
    "duration": 204,
    "start_time": "2022-08-26T11:38:45.151Z"
   },
   {
    "duration": 280,
    "start_time": "2022-08-26T11:42:05.732Z"
   },
   {
    "duration": 11,
    "start_time": "2022-08-26T11:43:50.270Z"
   },
   {
    "duration": 246,
    "start_time": "2022-08-26T11:43:56.334Z"
   },
   {
    "duration": 331,
    "start_time": "2022-08-26T11:53:04.613Z"
   },
   {
    "duration": 280,
    "start_time": "2022-08-26T11:53:12.058Z"
   },
   {
    "duration": 5,
    "start_time": "2022-08-26T11:54:03.441Z"
   },
   {
    "duration": 6,
    "start_time": "2022-08-26T11:54:18.734Z"
   },
   {
    "duration": 34913,
    "start_time": "2022-08-26T11:56:32.577Z"
   },
   {
    "duration": 803,
    "start_time": "2022-08-26T11:58:21.968Z"
   },
   {
    "duration": 927,
    "start_time": "2022-08-26T12:00:06.925Z"
   },
   {
    "duration": 684,
    "start_time": "2022-08-26T12:00:59.911Z"
   },
   {
    "duration": 12,
    "start_time": "2022-08-26T12:01:45.639Z"
   },
   {
    "duration": 671,
    "start_time": "2022-08-26T12:01:50.558Z"
   },
   {
    "duration": 507,
    "start_time": "2022-08-26T12:01:53.534Z"
   },
   {
    "duration": 680,
    "start_time": "2022-08-26T12:01:57.269Z"
   },
   {
    "duration": 1017,
    "start_time": "2022-08-26T12:03:37.615Z"
   },
   {
    "duration": 633,
    "start_time": "2022-08-26T12:05:59.338Z"
   },
   {
    "duration": 739,
    "start_time": "2022-08-26T12:06:04.396Z"
   },
   {
    "duration": 664,
    "start_time": "2022-08-26T12:08:42.973Z"
   },
   {
    "duration": 300,
    "start_time": "2022-08-26T12:09:07.580Z"
   },
   {
    "duration": 746,
    "start_time": "2022-08-26T12:10:21.844Z"
   },
   {
    "duration": 644,
    "start_time": "2022-08-26T12:10:28.539Z"
   },
   {
    "duration": 67,
    "start_time": "2022-08-26T12:10:42.086Z"
   },
   {
    "duration": 276,
    "start_time": "2022-08-26T12:10:45.498Z"
   },
   {
    "duration": 662,
    "start_time": "2022-08-26T12:10:53.667Z"
   },
   {
    "duration": 328,
    "start_time": "2022-08-26T12:11:00.651Z"
   },
   {
    "duration": 636,
    "start_time": "2022-08-26T12:11:21.090Z"
   },
   {
    "duration": 320,
    "start_time": "2022-08-26T12:11:35.580Z"
   },
   {
    "duration": 310,
    "start_time": "2022-08-26T12:16:33.383Z"
   },
   {
    "duration": 360,
    "start_time": "2022-08-26T12:19:19.760Z"
   },
   {
    "duration": 352,
    "start_time": "2022-08-26T12:19:34.160Z"
   },
   {
    "duration": 324,
    "start_time": "2022-08-26T12:19:46.647Z"
   },
   {
    "duration": 314,
    "start_time": "2022-08-26T12:24:36.599Z"
   },
   {
    "duration": 1087,
    "start_time": "2022-08-26T12:24:42.254Z"
   },
   {
    "duration": 308,
    "start_time": "2022-08-26T12:25:06.509Z"
   },
   {
    "duration": 329,
    "start_time": "2022-08-26T12:26:40.364Z"
   },
   {
    "duration": 350,
    "start_time": "2022-08-26T12:26:48.788Z"
   },
   {
    "duration": 308,
    "start_time": "2022-08-26T12:26:56.481Z"
   },
   {
    "duration": 55,
    "start_time": "2022-08-26T12:27:14.478Z"
   },
   {
    "duration": 340,
    "start_time": "2022-08-26T12:27:31.708Z"
   },
   {
    "duration": 316,
    "start_time": "2022-08-26T12:27:37.940Z"
   },
   {
    "duration": 187,
    "start_time": "2022-08-27T01:28:19.744Z"
   },
   {
    "duration": 102,
    "start_time": "2022-08-27T01:28:31.520Z"
   },
   {
    "duration": 39,
    "start_time": "2022-08-27T01:29:14.700Z"
   },
   {
    "duration": 980,
    "start_time": "2022-08-27T01:29:25.340Z"
   },
   {
    "duration": 159,
    "start_time": "2022-08-27T01:29:26.322Z"
   },
   {
    "duration": 17,
    "start_time": "2022-08-27T01:29:26.483Z"
   },
   {
    "duration": 14,
    "start_time": "2022-08-27T01:29:26.501Z"
   },
   {
    "duration": 31,
    "start_time": "2022-08-27T01:29:26.517Z"
   },
   {
    "duration": 4,
    "start_time": "2022-08-27T01:29:26.550Z"
   },
   {
    "duration": 10,
    "start_time": "2022-08-27T01:29:26.555Z"
   },
   {
    "duration": 65,
    "start_time": "2022-08-27T01:29:26.566Z"
   },
   {
    "duration": 8,
    "start_time": "2022-08-27T01:29:26.633Z"
   },
   {
    "duration": 8,
    "start_time": "2022-08-27T01:29:26.642Z"
   },
   {
    "duration": 4,
    "start_time": "2022-08-27T01:29:26.651Z"
   },
   {
    "duration": 14,
    "start_time": "2022-08-27T01:29:26.657Z"
   },
   {
    "duration": 12,
    "start_time": "2022-08-27T01:29:26.672Z"
   },
   {
    "duration": 21,
    "start_time": "2022-08-27T01:29:26.686Z"
   },
   {
    "duration": 13,
    "start_time": "2022-08-27T01:29:26.708Z"
   },
   {
    "duration": 25,
    "start_time": "2022-08-27T01:29:26.723Z"
   },
   {
    "duration": 4,
    "start_time": "2022-08-27T01:29:26.750Z"
   },
   {
    "duration": 21,
    "start_time": "2022-08-27T01:29:26.755Z"
   },
   {
    "duration": 297,
    "start_time": "2022-08-27T01:29:26.778Z"
   },
   {
    "duration": 265,
    "start_time": "2022-08-27T01:29:27.077Z"
   },
   {
    "duration": 7,
    "start_time": "2022-08-27T01:29:27.344Z"
   },
   {
    "duration": 317,
    "start_time": "2022-08-27T01:29:27.352Z"
   },
   {
    "duration": 255,
    "start_time": "2022-08-27T01:29:27.670Z"
   },
   {
    "duration": 269,
    "start_time": "2022-08-27T01:29:27.926Z"
   },
   {
    "duration": 20,
    "start_time": "2022-08-27T01:29:28.196Z"
   },
   {
    "duration": 174,
    "start_time": "2022-08-27T01:29:28.217Z"
   },
   {
    "duration": 237,
    "start_time": "2022-08-27T01:29:28.392Z"
   },
   {
    "duration": 494,
    "start_time": "2022-08-27T01:29:28.631Z"
   },
   {
    "duration": 179,
    "start_time": "2022-08-27T01:29:29.127Z"
   },
   {
    "duration": 262,
    "start_time": "2022-08-27T01:29:29.307Z"
   },
   {
    "duration": 298,
    "start_time": "2022-08-27T01:29:29.571Z"
   },
   {
    "duration": 118,
    "start_time": "2022-08-27T01:29:29.870Z"
   },
   {
    "duration": 132,
    "start_time": "2022-08-27T01:29:29.990Z"
   },
   {
    "duration": 113,
    "start_time": "2022-08-27T01:29:30.123Z"
   },
   {
    "duration": 212,
    "start_time": "2022-08-27T01:29:30.238Z"
   },
   {
    "duration": 122,
    "start_time": "2022-08-27T01:29:30.452Z"
   },
   {
    "duration": 123,
    "start_time": "2022-08-27T01:29:30.575Z"
   },
   {
    "duration": 24,
    "start_time": "2022-08-27T01:29:30.706Z"
   },
   {
    "duration": 320,
    "start_time": "2022-08-27T01:29:30.731Z"
   },
   {
    "duration": 263,
    "start_time": "2022-08-27T01:29:31.052Z"
   },
   {
    "duration": 327,
    "start_time": "2022-08-27T01:29:31.318Z"
   },
   {
    "duration": 303,
    "start_time": "2022-08-27T01:29:31.647Z"
   },
   {
    "duration": 202,
    "start_time": "2022-08-27T01:29:31.952Z"
   },
   {
    "duration": 134,
    "start_time": "2022-08-27T01:29:32.156Z"
   },
   {
    "duration": 105,
    "start_time": "2022-08-27T01:29:32.292Z"
   },
   {
    "duration": 4,
    "start_time": "2022-08-27T01:29:32.405Z"
   },
   {
    "duration": 11,
    "start_time": "2022-08-27T01:29:32.411Z"
   },
   {
    "duration": 11,
    "start_time": "2022-08-27T01:29:32.423Z"
   },
   {
    "duration": 10,
    "start_time": "2022-08-27T01:34:35.920Z"
   },
   {
    "duration": 11,
    "start_time": "2022-08-27T01:35:55.917Z"
   },
   {
    "duration": 5,
    "start_time": "2022-08-27T01:38:58.306Z"
   },
   {
    "duration": 300,
    "start_time": "2022-08-27T01:42:58.029Z"
   },
   {
    "duration": 1035,
    "start_time": "2022-08-27T01:43:03.386Z"
   },
   {
    "duration": 292,
    "start_time": "2022-08-27T01:43:04.423Z"
   },
   {
    "duration": 16,
    "start_time": "2022-08-27T01:43:04.717Z"
   },
   {
    "duration": 15,
    "start_time": "2022-08-27T01:43:04.734Z"
   },
   {
    "duration": 24,
    "start_time": "2022-08-27T01:43:04.751Z"
   },
   {
    "duration": 4,
    "start_time": "2022-08-27T01:43:04.776Z"
   },
   {
    "duration": 27,
    "start_time": "2022-08-27T01:43:04.781Z"
   },
   {
    "duration": 46,
    "start_time": "2022-08-27T01:43:04.809Z"
   },
   {
    "duration": 8,
    "start_time": "2022-08-27T01:43:04.856Z"
   },
   {
    "duration": 7,
    "start_time": "2022-08-27T01:43:04.865Z"
   },
   {
    "duration": 4,
    "start_time": "2022-08-27T01:43:04.873Z"
   },
   {
    "duration": 7,
    "start_time": "2022-08-27T01:43:04.878Z"
   },
   {
    "duration": 12,
    "start_time": "2022-08-27T01:43:04.905Z"
   },
   {
    "duration": 4,
    "start_time": "2022-08-27T01:43:04.921Z"
   },
   {
    "duration": 15,
    "start_time": "2022-08-27T01:43:04.926Z"
   },
   {
    "duration": 16,
    "start_time": "2022-08-27T01:43:04.942Z"
   },
   {
    "duration": 3,
    "start_time": "2022-08-27T01:43:04.959Z"
   },
   {
    "duration": 6,
    "start_time": "2022-08-27T01:43:04.964Z"
   },
   {
    "duration": 286,
    "start_time": "2022-08-27T01:43:04.971Z"
   },
   {
    "duration": 234,
    "start_time": "2022-08-27T01:43:05.258Z"
   },
   {
    "duration": 12,
    "start_time": "2022-08-27T01:43:05.494Z"
   },
   {
    "duration": 267,
    "start_time": "2022-08-27T01:43:05.507Z"
   },
   {
    "duration": 225,
    "start_time": "2022-08-27T01:43:05.775Z"
   },
   {
    "duration": 259,
    "start_time": "2022-08-27T01:43:06.002Z"
   },
   {
    "duration": 13,
    "start_time": "2022-08-27T01:43:06.262Z"
   },
   {
    "duration": 153,
    "start_time": "2022-08-27T01:43:06.276Z"
   },
   {
    "duration": 236,
    "start_time": "2022-08-27T01:43:06.431Z"
   },
   {
    "duration": 452,
    "start_time": "2022-08-27T01:43:06.668Z"
   },
   {
    "duration": 175,
    "start_time": "2022-08-27T01:43:07.122Z"
   },
   {
    "duration": 267,
    "start_time": "2022-08-27T01:43:07.305Z"
   },
   {
    "duration": 253,
    "start_time": "2022-08-27T01:43:07.574Z"
   },
   {
    "duration": 117,
    "start_time": "2022-08-27T01:43:07.829Z"
   },
   {
    "duration": 112,
    "start_time": "2022-08-27T01:43:07.948Z"
   },
   {
    "duration": 100,
    "start_time": "2022-08-27T01:43:08.062Z"
   },
   {
    "duration": 195,
    "start_time": "2022-08-27T01:43:08.163Z"
   },
   {
    "duration": 118,
    "start_time": "2022-08-27T01:43:08.360Z"
   },
   {
    "duration": 115,
    "start_time": "2022-08-27T01:43:08.479Z"
   },
   {
    "duration": 25,
    "start_time": "2022-08-27T01:43:08.596Z"
   },
   {
    "duration": 357,
    "start_time": "2022-08-27T01:43:08.623Z"
   },
   {
    "duration": 290,
    "start_time": "2022-08-27T01:43:08.981Z"
   },
   {
    "duration": 10,
    "start_time": "2022-08-27T01:43:09.275Z"
   },
   {
    "duration": 23,
    "start_time": "2022-08-27T01:43:09.287Z"
   },
   {
    "duration": 353,
    "start_time": "2022-08-27T01:43:09.311Z"
   },
   {
    "duration": 318,
    "start_time": "2022-08-27T01:43:09.665Z"
   },
   {
    "duration": 190,
    "start_time": "2022-08-27T01:43:09.984Z"
   },
   {
    "duration": 133,
    "start_time": "2022-08-27T01:43:10.176Z"
   },
   {
    "duration": 108,
    "start_time": "2022-08-27T01:43:10.311Z"
   },
   {
    "duration": 5,
    "start_time": "2022-08-27T01:43:10.421Z"
   },
   {
    "duration": 7,
    "start_time": "2022-08-27T01:43:10.427Z"
   },
   {
    "duration": 6,
    "start_time": "2022-08-27T01:43:10.435Z"
   },
   {
    "duration": 6,
    "start_time": "2022-08-27T01:43:10.442Z"
   },
   {
    "duration": 49,
    "start_time": "2022-08-27T01:43:10.449Z"
   },
   {
    "duration": 7,
    "start_time": "2022-08-27T01:43:10.499Z"
   },
   {
    "duration": 10,
    "start_time": "2022-08-27T01:43:10.508Z"
   },
   {
    "duration": 5,
    "start_time": "2022-08-27T01:43:10.520Z"
   },
   {
    "duration": 4,
    "start_time": "2022-08-27T01:43:10.527Z"
   },
   {
    "duration": 6,
    "start_time": "2022-08-27T01:43:10.533Z"
   },
   {
    "duration": 4,
    "start_time": "2022-08-27T01:43:10.541Z"
   },
   {
    "duration": 574,
    "start_time": "2022-08-27T01:43:10.547Z"
   },
   {
    "duration": 607,
    "start_time": "2022-08-27T01:43:11.122Z"
   },
   {
    "duration": 53,
    "start_time": "2022-08-27T14:37:36.638Z"
   },
   {
    "duration": 48,
    "start_time": "2022-08-27T14:37:41.278Z"
   },
   {
    "duration": 1005,
    "start_time": "2022-08-28T00:46:13.207Z"
   },
   {
    "duration": 220,
    "start_time": "2022-08-28T00:46:14.214Z"
   },
   {
    "duration": 18,
    "start_time": "2022-08-28T00:46:14.436Z"
   },
   {
    "duration": 15,
    "start_time": "2022-08-28T00:46:14.456Z"
   },
   {
    "duration": 47,
    "start_time": "2022-08-28T00:46:14.474Z"
   },
   {
    "duration": 4,
    "start_time": "2022-08-28T00:46:14.523Z"
   },
   {
    "duration": 10,
    "start_time": "2022-08-28T00:46:14.529Z"
   },
   {
    "duration": 65,
    "start_time": "2022-08-28T00:46:14.541Z"
   },
   {
    "duration": 8,
    "start_time": "2022-08-28T00:46:14.607Z"
   },
   {
    "duration": 9,
    "start_time": "2022-08-28T00:46:14.616Z"
   },
   {
    "duration": 5,
    "start_time": "2022-08-28T00:46:14.626Z"
   },
   {
    "duration": 7,
    "start_time": "2022-08-28T00:46:14.632Z"
   },
   {
    "duration": 13,
    "start_time": "2022-08-28T00:46:14.641Z"
   },
   {
    "duration": 4,
    "start_time": "2022-08-28T00:46:14.657Z"
   },
   {
    "duration": 40,
    "start_time": "2022-08-28T00:46:14.662Z"
   },
   {
    "duration": 12,
    "start_time": "2022-08-28T00:46:14.703Z"
   },
   {
    "duration": 5,
    "start_time": "2022-08-28T00:46:14.716Z"
   },
   {
    "duration": 7,
    "start_time": "2022-08-28T00:46:14.723Z"
   },
   {
    "duration": 292,
    "start_time": "2022-08-28T00:46:14.731Z"
   },
   {
    "duration": 254,
    "start_time": "2022-08-28T00:46:15.024Z"
   },
   {
    "duration": 6,
    "start_time": "2022-08-28T00:46:15.279Z"
   },
   {
    "duration": 270,
    "start_time": "2022-08-28T00:46:15.287Z"
   },
   {
    "duration": 222,
    "start_time": "2022-08-28T00:46:15.559Z"
   },
   {
    "duration": 234,
    "start_time": "2022-08-28T00:46:15.783Z"
   },
   {
    "duration": 13,
    "start_time": "2022-08-28T00:46:16.018Z"
   },
   {
    "duration": 153,
    "start_time": "2022-08-28T00:46:16.032Z"
   },
   {
    "duration": 214,
    "start_time": "2022-08-28T00:46:16.187Z"
   },
   {
    "duration": 461,
    "start_time": "2022-08-28T00:46:16.402Z"
   },
   {
    "duration": 164,
    "start_time": "2022-08-28T00:46:16.864Z"
   },
   {
    "duration": 248,
    "start_time": "2022-08-28T00:46:17.029Z"
   },
   {
    "duration": 263,
    "start_time": "2022-08-28T00:46:17.279Z"
   },
   {
    "duration": 109,
    "start_time": "2022-08-28T00:46:17.543Z"
   },
   {
    "duration": 113,
    "start_time": "2022-08-28T00:46:17.653Z"
   },
   {
    "duration": 99,
    "start_time": "2022-08-28T00:46:17.767Z"
   },
   {
    "duration": 171,
    "start_time": "2022-08-28T00:46:17.867Z"
   },
   {
    "duration": 115,
    "start_time": "2022-08-28T00:46:18.040Z"
   },
   {
    "duration": 102,
    "start_time": "2022-08-28T00:46:18.156Z"
   },
   {
    "duration": 22,
    "start_time": "2022-08-28T00:46:18.260Z"
   },
   {
    "duration": 303,
    "start_time": "2022-08-28T00:46:18.283Z"
   },
   {
    "duration": 264,
    "start_time": "2022-08-28T00:46:18.587Z"
   },
   {
    "duration": 9,
    "start_time": "2022-08-28T00:46:18.855Z"
   },
   {
    "duration": 8,
    "start_time": "2022-08-28T00:46:18.865Z"
   },
   {
    "duration": 314,
    "start_time": "2022-08-28T00:46:18.875Z"
   },
   {
    "duration": 269,
    "start_time": "2022-08-28T00:46:19.190Z"
   },
   {
    "duration": 161,
    "start_time": "2022-08-28T00:46:19.461Z"
   },
   {
    "duration": 114,
    "start_time": "2022-08-28T00:46:19.623Z"
   },
   {
    "duration": 97,
    "start_time": "2022-08-28T00:46:19.739Z"
   },
   {
    "duration": 5,
    "start_time": "2022-08-28T00:46:19.838Z"
   },
   {
    "duration": 7,
    "start_time": "2022-08-28T00:46:19.845Z"
   },
   {
    "duration": 8,
    "start_time": "2022-08-28T00:46:19.853Z"
   },
   {
    "duration": 6,
    "start_time": "2022-08-28T00:46:19.862Z"
   },
   {
    "duration": 52,
    "start_time": "2022-08-28T00:46:19.869Z"
   },
   {
    "duration": 3,
    "start_time": "2022-08-28T00:46:19.922Z"
   },
   {
    "duration": 9,
    "start_time": "2022-08-28T00:46:19.927Z"
   },
   {
    "duration": 7,
    "start_time": "2022-08-28T00:46:19.937Z"
   },
   {
    "duration": 6,
    "start_time": "2022-08-28T00:46:19.946Z"
   },
   {
    "duration": 6,
    "start_time": "2022-08-28T00:46:19.953Z"
   },
   {
    "duration": 4,
    "start_time": "2022-08-28T00:46:19.961Z"
   },
   {
    "duration": 539,
    "start_time": "2022-08-28T00:46:19.966Z"
   },
   {
    "duration": 528,
    "start_time": "2022-08-28T00:46:20.506Z"
   }
  ],
  "kernelspec": {
   "display_name": "Python 3 (ipykernel)",
   "language": "python",
   "name": "python3"
  },
  "language_info": {
   "codemirror_mode": {
    "name": "ipython",
    "version": 3
   },
   "file_extension": ".py",
   "mimetype": "text/x-python",
   "name": "python",
   "nbconvert_exporter": "python",
   "pygments_lexer": "ipython3",
   "version": "3.9.12"
  },
  "toc": {
   "base_numbering": 1,
   "nav_menu": {
    "height": "327px",
    "width": "533px"
   },
   "number_sections": true,
   "sideBar": true,
   "skip_h1_title": true,
   "title_cell": "Table of Contents",
   "title_sidebar": "Contents",
   "toc_cell": false,
   "toc_position": {
    "height": "calc(100% - 180px)",
    "left": "10px",
    "top": "150px",
    "width": "217.391px"
   },
   "toc_section_display": true,
   "toc_window_display": true
  }
 },
 "nbformat": 4,
 "nbformat_minor": 2
}
