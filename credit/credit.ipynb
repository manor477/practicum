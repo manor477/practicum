{
 "cells": [
  {
   "cell_type": "markdown",
   "id": "c81daeeb",
   "metadata": {
    "deletable": false,
    "id": "c81daeeb"
   },
   "source": [
    "# Исследование надежности заемщиков\n"
   ]
  },
  {
   "cell_type": "markdown",
   "id": "827c20bf",
   "metadata": {
    "id": "827c20bf"
   },
   "source": [
    "Во второй части проекта вы выполните шаги 3 и 4. Их вручную проверит ревьюер.\n",
    "Чтобы вам не пришлось писать код заново для шагов 1 и 2, мы добавили авторские решения в ячейки с кодом. \n",
    "\n"
   ]
  },
  {
   "cell_type": "markdown",
   "id": "744d7639",
   "metadata": {
    "deletable": false,
    "id": "744d7639"
   },
   "source": [
    "## Откройте таблицу и изучите общую информацию о данных"
   ]
  },
  {
   "cell_type": "markdown",
   "id": "e7a14c31",
   "metadata": {
    "deletable": false,
    "id": "e7a14c31"
   },
   "source": [
    "**Задание 1. Импортируйте библиотеку pandas. Считайте данные из csv-файла в датафрейм и сохраните в переменную `data`. Путь к файлу:**\n",
    "\n",
    "`/datasets/data.csv`"
   ]
  },
  {
   "cell_type": "code",
   "execution_count": 1,
   "id": "7bcf75c9",
   "metadata": {
    "deletable": false,
    "id": "7bcf75c9"
   },
   "outputs": [],
   "source": [
    "import pandas as pd\n",
    "\n",
    "try:\n",
    "    data = pd.read_csv('/datasets/data.csv')\n",
    "except:\n",
    "    data = pd.read_csv('https://code.s3.yandex.net/datasets/data.csv')"
   ]
  },
  {
   "cell_type": "markdown",
   "id": "b8038fe3",
   "metadata": {
    "deletable": false,
    "id": "b8038fe3"
   },
   "source": [
    "**Задание 2. Выведите первые 20 строчек датафрейма `data` на экран.**"
   ]
  },
  {
   "cell_type": "code",
   "execution_count": 2,
   "id": "2a7cab99",
   "metadata": {
    "deletable": false,
    "id": "2a7cab99",
    "outputId": "1a8f3ef2-d323-4ec2-ddf7-89670b5944c4"
   },
   "outputs": [
    {
     "data": {
      "text/html": [
       "<div>\n",
       "<style scoped>\n",
       "    .dataframe tbody tr th:only-of-type {\n",
       "        vertical-align: middle;\n",
       "    }\n",
       "\n",
       "    .dataframe tbody tr th {\n",
       "        vertical-align: top;\n",
       "    }\n",
       "\n",
       "    .dataframe thead th {\n",
       "        text-align: right;\n",
       "    }\n",
       "</style>\n",
       "<table border=\"1\" class=\"dataframe\">\n",
       "  <thead>\n",
       "    <tr style=\"text-align: right;\">\n",
       "      <th></th>\n",
       "      <th>children</th>\n",
       "      <th>days_employed</th>\n",
       "      <th>dob_years</th>\n",
       "      <th>education</th>\n",
       "      <th>education_id</th>\n",
       "      <th>family_status</th>\n",
       "      <th>family_status_id</th>\n",
       "      <th>gender</th>\n",
       "      <th>income_type</th>\n",
       "      <th>debt</th>\n",
       "      <th>total_income</th>\n",
       "      <th>purpose</th>\n",
       "    </tr>\n",
       "  </thead>\n",
       "  <tbody>\n",
       "    <tr>\n",
       "      <th>0</th>\n",
       "      <td>1</td>\n",
       "      <td>-8437.673028</td>\n",
       "      <td>42</td>\n",
       "      <td>высшее</td>\n",
       "      <td>0</td>\n",
       "      <td>женат / замужем</td>\n",
       "      <td>0</td>\n",
       "      <td>F</td>\n",
       "      <td>сотрудник</td>\n",
       "      <td>0</td>\n",
       "      <td>253875.639453</td>\n",
       "      <td>покупка жилья</td>\n",
       "    </tr>\n",
       "    <tr>\n",
       "      <th>1</th>\n",
       "      <td>1</td>\n",
       "      <td>-4024.803754</td>\n",
       "      <td>36</td>\n",
       "      <td>среднее</td>\n",
       "      <td>1</td>\n",
       "      <td>женат / замужем</td>\n",
       "      <td>0</td>\n",
       "      <td>F</td>\n",
       "      <td>сотрудник</td>\n",
       "      <td>0</td>\n",
       "      <td>112080.014102</td>\n",
       "      <td>приобретение автомобиля</td>\n",
       "    </tr>\n",
       "    <tr>\n",
       "      <th>2</th>\n",
       "      <td>0</td>\n",
       "      <td>-5623.422610</td>\n",
       "      <td>33</td>\n",
       "      <td>Среднее</td>\n",
       "      <td>1</td>\n",
       "      <td>женат / замужем</td>\n",
       "      <td>0</td>\n",
       "      <td>M</td>\n",
       "      <td>сотрудник</td>\n",
       "      <td>0</td>\n",
       "      <td>145885.952297</td>\n",
       "      <td>покупка жилья</td>\n",
       "    </tr>\n",
       "    <tr>\n",
       "      <th>3</th>\n",
       "      <td>3</td>\n",
       "      <td>-4124.747207</td>\n",
       "      <td>32</td>\n",
       "      <td>среднее</td>\n",
       "      <td>1</td>\n",
       "      <td>женат / замужем</td>\n",
       "      <td>0</td>\n",
       "      <td>M</td>\n",
       "      <td>сотрудник</td>\n",
       "      <td>0</td>\n",
       "      <td>267628.550329</td>\n",
       "      <td>дополнительное образование</td>\n",
       "    </tr>\n",
       "    <tr>\n",
       "      <th>4</th>\n",
       "      <td>0</td>\n",
       "      <td>340266.072047</td>\n",
       "      <td>53</td>\n",
       "      <td>среднее</td>\n",
       "      <td>1</td>\n",
       "      <td>гражданский брак</td>\n",
       "      <td>1</td>\n",
       "      <td>F</td>\n",
       "      <td>пенсионер</td>\n",
       "      <td>0</td>\n",
       "      <td>158616.077870</td>\n",
       "      <td>сыграть свадьбу</td>\n",
       "    </tr>\n",
       "    <tr>\n",
       "      <th>5</th>\n",
       "      <td>0</td>\n",
       "      <td>-926.185831</td>\n",
       "      <td>27</td>\n",
       "      <td>высшее</td>\n",
       "      <td>0</td>\n",
       "      <td>гражданский брак</td>\n",
       "      <td>1</td>\n",
       "      <td>M</td>\n",
       "      <td>компаньон</td>\n",
       "      <td>0</td>\n",
       "      <td>255763.565419</td>\n",
       "      <td>покупка жилья</td>\n",
       "    </tr>\n",
       "    <tr>\n",
       "      <th>6</th>\n",
       "      <td>0</td>\n",
       "      <td>-2879.202052</td>\n",
       "      <td>43</td>\n",
       "      <td>высшее</td>\n",
       "      <td>0</td>\n",
       "      <td>женат / замужем</td>\n",
       "      <td>0</td>\n",
       "      <td>F</td>\n",
       "      <td>компаньон</td>\n",
       "      <td>0</td>\n",
       "      <td>240525.971920</td>\n",
       "      <td>операции с жильем</td>\n",
       "    </tr>\n",
       "    <tr>\n",
       "      <th>7</th>\n",
       "      <td>0</td>\n",
       "      <td>-152.779569</td>\n",
       "      <td>50</td>\n",
       "      <td>СРЕДНЕЕ</td>\n",
       "      <td>1</td>\n",
       "      <td>женат / замужем</td>\n",
       "      <td>0</td>\n",
       "      <td>M</td>\n",
       "      <td>сотрудник</td>\n",
       "      <td>0</td>\n",
       "      <td>135823.934197</td>\n",
       "      <td>образование</td>\n",
       "    </tr>\n",
       "    <tr>\n",
       "      <th>8</th>\n",
       "      <td>2</td>\n",
       "      <td>-6929.865299</td>\n",
       "      <td>35</td>\n",
       "      <td>ВЫСШЕЕ</td>\n",
       "      <td>0</td>\n",
       "      <td>гражданский брак</td>\n",
       "      <td>1</td>\n",
       "      <td>F</td>\n",
       "      <td>сотрудник</td>\n",
       "      <td>0</td>\n",
       "      <td>95856.832424</td>\n",
       "      <td>на проведение свадьбы</td>\n",
       "    </tr>\n",
       "    <tr>\n",
       "      <th>9</th>\n",
       "      <td>0</td>\n",
       "      <td>-2188.756445</td>\n",
       "      <td>41</td>\n",
       "      <td>среднее</td>\n",
       "      <td>1</td>\n",
       "      <td>женат / замужем</td>\n",
       "      <td>0</td>\n",
       "      <td>M</td>\n",
       "      <td>сотрудник</td>\n",
       "      <td>0</td>\n",
       "      <td>144425.938277</td>\n",
       "      <td>покупка жилья для семьи</td>\n",
       "    </tr>\n",
       "    <tr>\n",
       "      <th>10</th>\n",
       "      <td>2</td>\n",
       "      <td>-4171.483647</td>\n",
       "      <td>36</td>\n",
       "      <td>высшее</td>\n",
       "      <td>0</td>\n",
       "      <td>женат / замужем</td>\n",
       "      <td>0</td>\n",
       "      <td>M</td>\n",
       "      <td>компаньон</td>\n",
       "      <td>0</td>\n",
       "      <td>113943.491460</td>\n",
       "      <td>покупка недвижимости</td>\n",
       "    </tr>\n",
       "    <tr>\n",
       "      <th>11</th>\n",
       "      <td>0</td>\n",
       "      <td>-792.701887</td>\n",
       "      <td>40</td>\n",
       "      <td>среднее</td>\n",
       "      <td>1</td>\n",
       "      <td>женат / замужем</td>\n",
       "      <td>0</td>\n",
       "      <td>F</td>\n",
       "      <td>сотрудник</td>\n",
       "      <td>0</td>\n",
       "      <td>77069.234271</td>\n",
       "      <td>покупка коммерческой недвижимости</td>\n",
       "    </tr>\n",
       "    <tr>\n",
       "      <th>12</th>\n",
       "      <td>0</td>\n",
       "      <td>NaN</td>\n",
       "      <td>65</td>\n",
       "      <td>среднее</td>\n",
       "      <td>1</td>\n",
       "      <td>гражданский брак</td>\n",
       "      <td>1</td>\n",
       "      <td>M</td>\n",
       "      <td>пенсионер</td>\n",
       "      <td>0</td>\n",
       "      <td>NaN</td>\n",
       "      <td>сыграть свадьбу</td>\n",
       "    </tr>\n",
       "    <tr>\n",
       "      <th>13</th>\n",
       "      <td>0</td>\n",
       "      <td>-1846.641941</td>\n",
       "      <td>54</td>\n",
       "      <td>неоконченное высшее</td>\n",
       "      <td>2</td>\n",
       "      <td>женат / замужем</td>\n",
       "      <td>0</td>\n",
       "      <td>F</td>\n",
       "      <td>сотрудник</td>\n",
       "      <td>0</td>\n",
       "      <td>130458.228857</td>\n",
       "      <td>приобретение автомобиля</td>\n",
       "    </tr>\n",
       "    <tr>\n",
       "      <th>14</th>\n",
       "      <td>0</td>\n",
       "      <td>-1844.956182</td>\n",
       "      <td>56</td>\n",
       "      <td>высшее</td>\n",
       "      <td>0</td>\n",
       "      <td>гражданский брак</td>\n",
       "      <td>1</td>\n",
       "      <td>F</td>\n",
       "      <td>компаньон</td>\n",
       "      <td>1</td>\n",
       "      <td>165127.911772</td>\n",
       "      <td>покупка жилой недвижимости</td>\n",
       "    </tr>\n",
       "    <tr>\n",
       "      <th>15</th>\n",
       "      <td>1</td>\n",
       "      <td>-972.364419</td>\n",
       "      <td>26</td>\n",
       "      <td>среднее</td>\n",
       "      <td>1</td>\n",
       "      <td>женат / замужем</td>\n",
       "      <td>0</td>\n",
       "      <td>F</td>\n",
       "      <td>сотрудник</td>\n",
       "      <td>0</td>\n",
       "      <td>116820.904450</td>\n",
       "      <td>строительство собственной недвижимости</td>\n",
       "    </tr>\n",
       "    <tr>\n",
       "      <th>16</th>\n",
       "      <td>0</td>\n",
       "      <td>-1719.934226</td>\n",
       "      <td>35</td>\n",
       "      <td>среднее</td>\n",
       "      <td>1</td>\n",
       "      <td>женат / замужем</td>\n",
       "      <td>0</td>\n",
       "      <td>F</td>\n",
       "      <td>сотрудник</td>\n",
       "      <td>0</td>\n",
       "      <td>289202.704229</td>\n",
       "      <td>недвижимость</td>\n",
       "    </tr>\n",
       "    <tr>\n",
       "      <th>17</th>\n",
       "      <td>0</td>\n",
       "      <td>-2369.999720</td>\n",
       "      <td>33</td>\n",
       "      <td>высшее</td>\n",
       "      <td>0</td>\n",
       "      <td>гражданский брак</td>\n",
       "      <td>1</td>\n",
       "      <td>M</td>\n",
       "      <td>сотрудник</td>\n",
       "      <td>0</td>\n",
       "      <td>90410.586745</td>\n",
       "      <td>строительство недвижимости</td>\n",
       "    </tr>\n",
       "    <tr>\n",
       "      <th>18</th>\n",
       "      <td>0</td>\n",
       "      <td>400281.136913</td>\n",
       "      <td>53</td>\n",
       "      <td>среднее</td>\n",
       "      <td>1</td>\n",
       "      <td>вдовец / вдова</td>\n",
       "      <td>2</td>\n",
       "      <td>F</td>\n",
       "      <td>пенсионер</td>\n",
       "      <td>0</td>\n",
       "      <td>56823.777243</td>\n",
       "      <td>на покупку подержанного автомобиля</td>\n",
       "    </tr>\n",
       "    <tr>\n",
       "      <th>19</th>\n",
       "      <td>0</td>\n",
       "      <td>-10038.818549</td>\n",
       "      <td>48</td>\n",
       "      <td>СРЕДНЕЕ</td>\n",
       "      <td>1</td>\n",
       "      <td>в разводе</td>\n",
       "      <td>3</td>\n",
       "      <td>F</td>\n",
       "      <td>сотрудник</td>\n",
       "      <td>0</td>\n",
       "      <td>242831.107982</td>\n",
       "      <td>на покупку своего автомобиля</td>\n",
       "    </tr>\n",
       "  </tbody>\n",
       "</table>\n",
       "</div>"
      ],
      "text/plain": [
       "    children  days_employed  dob_years            education  education_id  \\\n",
       "0          1   -8437.673028         42               высшее             0   \n",
       "1          1   -4024.803754         36              среднее             1   \n",
       "2          0   -5623.422610         33              Среднее             1   \n",
       "3          3   -4124.747207         32              среднее             1   \n",
       "4          0  340266.072047         53              среднее             1   \n",
       "5          0    -926.185831         27               высшее             0   \n",
       "6          0   -2879.202052         43               высшее             0   \n",
       "7          0    -152.779569         50              СРЕДНЕЕ             1   \n",
       "8          2   -6929.865299         35               ВЫСШЕЕ             0   \n",
       "9          0   -2188.756445         41              среднее             1   \n",
       "10         2   -4171.483647         36               высшее             0   \n",
       "11         0    -792.701887         40              среднее             1   \n",
       "12         0            NaN         65              среднее             1   \n",
       "13         0   -1846.641941         54  неоконченное высшее             2   \n",
       "14         0   -1844.956182         56               высшее             0   \n",
       "15         1    -972.364419         26              среднее             1   \n",
       "16         0   -1719.934226         35              среднее             1   \n",
       "17         0   -2369.999720         33               высшее             0   \n",
       "18         0  400281.136913         53              среднее             1   \n",
       "19         0  -10038.818549         48              СРЕДНЕЕ             1   \n",
       "\n",
       "       family_status  family_status_id gender income_type  debt  \\\n",
       "0    женат / замужем                 0      F   сотрудник     0   \n",
       "1    женат / замужем                 0      F   сотрудник     0   \n",
       "2    женат / замужем                 0      M   сотрудник     0   \n",
       "3    женат / замужем                 0      M   сотрудник     0   \n",
       "4   гражданский брак                 1      F   пенсионер     0   \n",
       "5   гражданский брак                 1      M   компаньон     0   \n",
       "6    женат / замужем                 0      F   компаньон     0   \n",
       "7    женат / замужем                 0      M   сотрудник     0   \n",
       "8   гражданский брак                 1      F   сотрудник     0   \n",
       "9    женат / замужем                 0      M   сотрудник     0   \n",
       "10   женат / замужем                 0      M   компаньон     0   \n",
       "11   женат / замужем                 0      F   сотрудник     0   \n",
       "12  гражданский брак                 1      M   пенсионер     0   \n",
       "13   женат / замужем                 0      F   сотрудник     0   \n",
       "14  гражданский брак                 1      F   компаньон     1   \n",
       "15   женат / замужем                 0      F   сотрудник     0   \n",
       "16   женат / замужем                 0      F   сотрудник     0   \n",
       "17  гражданский брак                 1      M   сотрудник     0   \n",
       "18    вдовец / вдова                 2      F   пенсионер     0   \n",
       "19         в разводе                 3      F   сотрудник     0   \n",
       "\n",
       "     total_income                                 purpose  \n",
       "0   253875.639453                           покупка жилья  \n",
       "1   112080.014102                 приобретение автомобиля  \n",
       "2   145885.952297                           покупка жилья  \n",
       "3   267628.550329              дополнительное образование  \n",
       "4   158616.077870                         сыграть свадьбу  \n",
       "5   255763.565419                           покупка жилья  \n",
       "6   240525.971920                       операции с жильем  \n",
       "7   135823.934197                             образование  \n",
       "8    95856.832424                   на проведение свадьбы  \n",
       "9   144425.938277                 покупка жилья для семьи  \n",
       "10  113943.491460                    покупка недвижимости  \n",
       "11   77069.234271       покупка коммерческой недвижимости  \n",
       "12            NaN                         сыграть свадьбу  \n",
       "13  130458.228857                 приобретение автомобиля  \n",
       "14  165127.911772              покупка жилой недвижимости  \n",
       "15  116820.904450  строительство собственной недвижимости  \n",
       "16  289202.704229                            недвижимость  \n",
       "17   90410.586745              строительство недвижимости  \n",
       "18   56823.777243      на покупку подержанного автомобиля  \n",
       "19  242831.107982            на покупку своего автомобиля  "
      ]
     },
     "execution_count": 2,
     "metadata": {},
     "output_type": "execute_result"
    }
   ],
   "source": [
    "data.head(20)"
   ]
  },
  {
   "cell_type": "markdown",
   "id": "1c12e233",
   "metadata": {
    "deletable": false,
    "id": "1c12e233"
   },
   "source": [
    "**Задание 3. Выведите основную информацию о датафрейме с помощью метода `info()`.**"
   ]
  },
  {
   "cell_type": "code",
   "execution_count": 3,
   "id": "2b757bca",
   "metadata": {
    "deletable": false,
    "id": "2b757bca",
    "outputId": "15376089-8dad-46c9-b520-c05248d43158"
   },
   "outputs": [
    {
     "name": "stdout",
     "output_type": "stream",
     "text": [
      "<class 'pandas.core.frame.DataFrame'>\n",
      "RangeIndex: 21525 entries, 0 to 21524\n",
      "Data columns (total 12 columns):\n",
      " #   Column            Non-Null Count  Dtype  \n",
      "---  ------            --------------  -----  \n",
      " 0   children          21525 non-null  int64  \n",
      " 1   days_employed     19351 non-null  float64\n",
      " 2   dob_years         21525 non-null  int64  \n",
      " 3   education         21525 non-null  object \n",
      " 4   education_id      21525 non-null  int64  \n",
      " 5   family_status     21525 non-null  object \n",
      " 6   family_status_id  21525 non-null  int64  \n",
      " 7   gender            21525 non-null  object \n",
      " 8   income_type       21525 non-null  object \n",
      " 9   debt              21525 non-null  int64  \n",
      " 10  total_income      19351 non-null  float64\n",
      " 11  purpose           21525 non-null  object \n",
      "dtypes: float64(2), int64(5), object(5)\n",
      "memory usage: 2.0+ MB\n"
     ]
    }
   ],
   "source": [
    "data.info()"
   ]
  },
  {
   "cell_type": "markdown",
   "id": "333ec665",
   "metadata": {
    "deletable": false,
    "id": "333ec665"
   },
   "source": [
    "## Предобработка данных"
   ]
  },
  {
   "cell_type": "markdown",
   "id": "02d92d53",
   "metadata": {
    "deletable": false,
    "id": "02d92d53"
   },
   "source": [
    "### Удаление пропусков"
   ]
  },
  {
   "cell_type": "markdown",
   "id": "cd84967c",
   "metadata": {
    "deletable": false,
    "id": "cd84967c"
   },
   "source": [
    "**Задание 4. Выведите количество пропущенных значений для каждого столбца. Используйте комбинацию двух методов.**"
   ]
  },
  {
   "cell_type": "code",
   "execution_count": 4,
   "id": "7f9b2309",
   "metadata": {
    "deletable": false,
    "id": "7f9b2309",
    "outputId": "81f4d817-781c-465c-ed15-91ce4446810d"
   },
   "outputs": [
    {
     "data": {
      "text/plain": [
       "children               0\n",
       "days_employed       2174\n",
       "dob_years              0\n",
       "education              0\n",
       "education_id           0\n",
       "family_status          0\n",
       "family_status_id       0\n",
       "gender                 0\n",
       "income_type            0\n",
       "debt                   0\n",
       "total_income        2174\n",
       "purpose                0\n",
       "dtype: int64"
      ]
     },
     "execution_count": 4,
     "metadata": {},
     "output_type": "execute_result"
    }
   ],
   "source": [
    "data.isna().sum()"
   ]
  },
  {
   "cell_type": "markdown",
   "id": "db86e27b",
   "metadata": {
    "deletable": false,
    "id": "db86e27b"
   },
   "source": [
    "**Задание 5. В двух столбцах есть пропущенные значения. Один из них — `days_employed`. Пропуски в этом столбце вы обработаете на следующем этапе. Другой столбец с пропущенными значениями — `total_income` — хранит данные о доходах. На сумму дохода сильнее всего влияет тип занятости, поэтому заполнить пропуски в этом столбце нужно медианным значением по каждому типу из столбца `income_type`. Например, у человека с типом занятости `сотрудник` пропуск в столбце `total_income` должен быть заполнен медианным доходом среди всех записей с тем же типом.**"
   ]
  },
  {
   "cell_type": "code",
   "execution_count": 5,
   "id": "42006a93",
   "metadata": {
    "deletable": false,
    "id": "42006a93"
   },
   "outputs": [],
   "source": [
    "for t in data['income_type'].unique():\n",
    "    data.loc[(data['income_type'] == t) & (data['total_income'].isna()), 'total_income'] = \\\n",
    "    data.loc[(data['income_type'] == t), 'total_income'].median()"
   ]
  },
  {
   "cell_type": "markdown",
   "id": "89da5ece",
   "metadata": {
    "deletable": false,
    "id": "89da5ece"
   },
   "source": [
    "### Обработка аномальных значений"
   ]
  },
  {
   "cell_type": "markdown",
   "id": "57964554",
   "metadata": {
    "deletable": false,
    "id": "57964554"
   },
   "source": [
    "**Задание 6. В данных могут встречаться артефакты (аномалии) — значения, которые не отражают действительность и появились по какой-то ошибке. таким артефактом будет отрицательное количество дней трудового стажа в столбце `days_employed`. Для реальных данных это нормально. Обработайте значения в этом столбце: замените все отрицательные значения положительными с помощью метода `abs()`.**"
   ]
  },
  {
   "cell_type": "code",
   "execution_count": 6,
   "id": "f6f055bf",
   "metadata": {
    "deletable": false,
    "id": "f6f055bf"
   },
   "outputs": [],
   "source": [
    "data['days_employed'] = data['days_employed'].abs()"
   ]
  },
  {
   "cell_type": "markdown",
   "id": "6107dd2f",
   "metadata": {
    "deletable": false,
    "id": "6107dd2f"
   },
   "source": [
    "**Задание 7. Для каждого типа занятости выведите медианное значение трудового стажа `days_employed` в днях.**"
   ]
  },
  {
   "cell_type": "code",
   "execution_count": 7,
   "id": "85a5faf6",
   "metadata": {
    "deletable": false,
    "id": "85a5faf6",
    "outputId": "801ef80e-522b-4668-f34e-565af7432bcf"
   },
   "outputs": [
    {
     "data": {
      "text/plain": [
       "income_type\n",
       "безработный        366413.652744\n",
       "в декрете            3296.759962\n",
       "госслужащий          2689.368353\n",
       "компаньон            1547.382223\n",
       "пенсионер          365213.306266\n",
       "предприниматель       520.848083\n",
       "сотрудник            1574.202821\n",
       "студент               578.751554\n",
       "Name: days_employed, dtype: float64"
      ]
     },
     "execution_count": 7,
     "metadata": {},
     "output_type": "execute_result"
    }
   ],
   "source": [
    "data.groupby('income_type')['days_employed'].agg('median')"
   ]
  },
  {
   "cell_type": "markdown",
   "id": "38d1a030",
   "metadata": {
    "deletable": false,
    "id": "38d1a030"
   },
   "source": [
    "У двух типов (безработные и пенсионеры) получатся аномально большие значения. Исправить такие значения сложно, поэтому оставьте их как есть. Тем более этот столбец не понадобится вам для исследования."
   ]
  },
  {
   "cell_type": "markdown",
   "id": "d8a9f147",
   "metadata": {
    "deletable": false,
    "id": "d8a9f147"
   },
   "source": [
    "**Задание 8. Выведите перечень уникальных значений столбца `children`.**"
   ]
  },
  {
   "cell_type": "code",
   "execution_count": 8,
   "id": "ef5056eb",
   "metadata": {
    "deletable": false,
    "id": "ef5056eb",
    "outputId": "6975b15c-7f95-4697-d16d-a0c79b657b03"
   },
   "outputs": [
    {
     "data": {
      "text/plain": [
       "array([ 1,  0,  3,  2, -1,  4, 20,  5], dtype=int64)"
      ]
     },
     "execution_count": 8,
     "metadata": {},
     "output_type": "execute_result"
    }
   ],
   "source": [
    "data['children'].unique()"
   ]
  },
  {
   "cell_type": "markdown",
   "id": "40b9ebf2",
   "metadata": {
    "deletable": false,
    "id": "40b9ebf2"
   },
   "source": [
    "**Задание 9. В столбце `children` есть два аномальных значения. Удалите строки, в которых встречаются такие аномальные значения из датафрейма `data`.**"
   ]
  },
  {
   "cell_type": "code",
   "execution_count": 9,
   "id": "3ff9801d",
   "metadata": {
    "deletable": false,
    "id": "3ff9801d"
   },
   "outputs": [],
   "source": [
    "data = data[(data['children'] != -1) & (data['children'] != 20)]"
   ]
  },
  {
   "cell_type": "markdown",
   "id": "bbc4d0ce",
   "metadata": {
    "deletable": false,
    "id": "bbc4d0ce"
   },
   "source": [
    "**Задание 10. Ещё раз выведите перечень уникальных значений столбца `children`, чтобы убедиться, что артефакты удалены.**"
   ]
  },
  {
   "cell_type": "code",
   "execution_count": 10,
   "id": "ad4fa8b7",
   "metadata": {
    "deletable": false,
    "id": "ad4fa8b7",
    "outputId": "b2097101-d49d-44d9-901b-32a65c9463d1"
   },
   "outputs": [
    {
     "data": {
      "text/plain": [
       "array([1, 0, 3, 2, 4, 5], dtype=int64)"
      ]
     },
     "execution_count": 10,
     "metadata": {},
     "output_type": "execute_result"
    }
   ],
   "source": [
    "data['children'].unique()"
   ]
  },
  {
   "cell_type": "markdown",
   "id": "75440b63",
   "metadata": {
    "deletable": false,
    "id": "75440b63"
   },
   "source": [
    "### Удаление пропусков (продолжение)"
   ]
  },
  {
   "cell_type": "markdown",
   "id": "f4ea573f",
   "metadata": {
    "deletable": false,
    "id": "f4ea573f"
   },
   "source": [
    "**Задание 11. Заполните пропуски в столбце `days_employed` медианными значениями по каждого типа занятости `income_type`.**"
   ]
  },
  {
   "cell_type": "code",
   "execution_count": 11,
   "id": "af6b1a7e",
   "metadata": {
    "deletable": false,
    "id": "af6b1a7e"
   },
   "outputs": [],
   "source": [
    "for t in data['income_type'].unique():\n",
    "    data.loc[(data['income_type'] == t) & (data['days_employed'].isna()), 'days_employed'] = \\\n",
    "    data.loc[(data['income_type'] == t), 'days_employed'].median()"
   ]
  },
  {
   "cell_type": "markdown",
   "id": "2753f40d",
   "metadata": {
    "deletable": false,
    "id": "2753f40d"
   },
   "source": [
    "**Задание 12. Убедитесь, что все пропуски заполнены. Проверьте себя и ещё раз выведите количество пропущенных значений для каждого столбца с помощью двух методов.**"
   ]
  },
  {
   "cell_type": "code",
   "execution_count": 12,
   "id": "55f78bc2",
   "metadata": {
    "deletable": false,
    "id": "55f78bc2",
    "outputId": "8da1e4e1-358e-4e87-98c9-f261bce0a7b2"
   },
   "outputs": [
    {
     "data": {
      "text/plain": [
       "children            0\n",
       "days_employed       0\n",
       "dob_years           0\n",
       "education           0\n",
       "education_id        0\n",
       "family_status       0\n",
       "family_status_id    0\n",
       "gender              0\n",
       "income_type         0\n",
       "debt                0\n",
       "total_income        0\n",
       "purpose             0\n",
       "dtype: int64"
      ]
     },
     "execution_count": 12,
     "metadata": {},
     "output_type": "execute_result"
    }
   ],
   "source": [
    "data.isna().sum()"
   ]
  },
  {
   "cell_type": "markdown",
   "id": "ddc81e43",
   "metadata": {
    "deletable": false,
    "id": "ddc81e43"
   },
   "source": [
    "### Изменение типов данных"
   ]
  },
  {
   "cell_type": "markdown",
   "id": "42d19d24",
   "metadata": {
    "deletable": false,
    "id": "42d19d24"
   },
   "source": [
    "**Задание 13. Замените вещественный тип данных в столбце `total_income` на целочисленный с помощью метода `astype()`.**"
   ]
  },
  {
   "cell_type": "code",
   "execution_count": 13,
   "id": "920b65ad",
   "metadata": {
    "deletable": false,
    "id": "920b65ad"
   },
   "outputs": [],
   "source": [
    "data['total_income'] = data['total_income'].astype(int)"
   ]
  },
  {
   "cell_type": "markdown",
   "id": "80c420ba",
   "metadata": {
    "deletable": false,
    "id": "80c420ba"
   },
   "source": [
    "### Обработка дубликатов"
   ]
  },
  {
   "cell_type": "markdown",
   "id": "dc587695",
   "metadata": {
    "deletable": false,
    "id": "dc587695"
   },
   "source": [
    "**Задание 14. Выведите на экран количество строк-дубликатов в данных. Если такие строки присутствуют, удалите их.**"
   ]
  },
  {
   "cell_type": "code",
   "execution_count": 14,
   "id": "3ee445e4",
   "metadata": {
    "deletable": false,
    "id": "3ee445e4",
    "outputId": "9684deba-1934-42d1-99e1-cda61740f822"
   },
   "outputs": [
    {
     "data": {
      "text/plain": [
       "54"
      ]
     },
     "execution_count": 14,
     "metadata": {},
     "output_type": "execute_result"
    }
   ],
   "source": [
    "data.duplicated().sum()"
   ]
  },
  {
   "cell_type": "code",
   "execution_count": 15,
   "id": "8575fe05",
   "metadata": {
    "deletable": false,
    "id": "8575fe05"
   },
   "outputs": [],
   "source": [
    "data = data.drop_duplicates()"
   ]
  },
  {
   "cell_type": "markdown",
   "id": "9771a76c",
   "metadata": {
    "deletable": false,
    "id": "9771a76c"
   },
   "source": [
    "**Задание 15. Обработайте неявные дубликаты в столбце `education`. В этом столбце есть одни и те же значения, но записанные по-разному: с использованием заглавных и строчных букв. Приведите их к нижнему регистру. Проверьте остальные столбцы.**"
   ]
  },
  {
   "cell_type": "code",
   "execution_count": 16,
   "id": "a9f8e2bf",
   "metadata": {
    "deletable": false,
    "id": "a9f8e2bf"
   },
   "outputs": [],
   "source": [
    "data['education'] = data['education'].str.lower()"
   ]
  },
  {
   "cell_type": "markdown",
   "id": "9904cf55",
   "metadata": {
    "deletable": false,
    "id": "9904cf55"
   },
   "source": [
    "### Категоризация данных"
   ]
  },
  {
   "cell_type": "markdown",
   "id": "72fcc8a2",
   "metadata": {
    "deletable": false,
    "id": "72fcc8a2"
   },
   "source": [
    "**Задание 16. На основании диапазонов, указанных ниже, создайте в датафрейме `data` столбец `total_income_category` с категориями:**\n",
    "\n",
    "- 0–30000 — `'E'`;\n",
    "- 30001–50000 — `'D'`;\n",
    "- 50001–200000 — `'C'`;\n",
    "- 200001–1000000 — `'B'`;\n",
    "- 1000001 и выше — `'A'`.\n",
    "\n",
    "\n",
    "**Например, кредитополучателю с доходом 25000 нужно назначить категорию `'E'`, а клиенту, получающему 235000, — `'B'`. Используйте собственную функцию с именем `categorize_income()` и метод `apply()`.**"
   ]
  },
  {
   "cell_type": "code",
   "execution_count": 17,
   "id": "e1771346",
   "metadata": {
    "deletable": false,
    "id": "e1771346"
   },
   "outputs": [],
   "source": [
    "def categorize_income(income):\n",
    "    try:\n",
    "        if 0 <= income <= 30000:\n",
    "            return 'E'\n",
    "        elif 30001 <= income <= 50000:\n",
    "            return 'D'\n",
    "        elif 50001 <= income <= 200000:\n",
    "            return 'C'\n",
    "        elif 200001 <= income <= 1000000:\n",
    "            return 'B'\n",
    "        elif income >= 1000001:\n",
    "            return 'A'\n",
    "    except:\n",
    "        pass"
   ]
  },
  {
   "cell_type": "code",
   "execution_count": 18,
   "id": "d5f3586d",
   "metadata": {
    "deletable": false,
    "id": "d5f3586d"
   },
   "outputs": [],
   "source": [
    "data['total_income_category'] = data['total_income'].apply(categorize_income)"
   ]
  },
  {
   "cell_type": "markdown",
   "id": "dde49b5c",
   "metadata": {
    "deletable": false,
    "id": "dde49b5c"
   },
   "source": [
    "**Задание 17. Выведите на экран перечень уникальных целей взятия кредита из столбца `purpose`.**"
   ]
  },
  {
   "cell_type": "code",
   "execution_count": 19,
   "id": "f67ce9b3",
   "metadata": {
    "deletable": false,
    "id": "f67ce9b3",
    "outputId": "673c12d9-7d7e-4ae0-9812-c622c89dd244"
   },
   "outputs": [
    {
     "data": {
      "text/plain": [
       "array(['покупка жилья', 'приобретение автомобиля',\n",
       "       'дополнительное образование', 'сыграть свадьбу',\n",
       "       'операции с жильем', 'образование', 'на проведение свадьбы',\n",
       "       'покупка жилья для семьи', 'покупка недвижимости',\n",
       "       'покупка коммерческой недвижимости', 'покупка жилой недвижимости',\n",
       "       'строительство собственной недвижимости', 'недвижимость',\n",
       "       'строительство недвижимости', 'на покупку подержанного автомобиля',\n",
       "       'на покупку своего автомобиля',\n",
       "       'операции с коммерческой недвижимостью',\n",
       "       'строительство жилой недвижимости', 'жилье',\n",
       "       'операции со своей недвижимостью', 'автомобили',\n",
       "       'заняться образованием', 'сделка с подержанным автомобилем',\n",
       "       'получение образования', 'автомобиль', 'свадьба',\n",
       "       'получение дополнительного образования', 'покупка своего жилья',\n",
       "       'операции с недвижимостью', 'получение высшего образования',\n",
       "       'свой автомобиль', 'сделка с автомобилем',\n",
       "       'профильное образование', 'высшее образование',\n",
       "       'покупка жилья для сдачи', 'на покупку автомобиля', 'ремонт жилью',\n",
       "       'заняться высшим образованием'], dtype=object)"
      ]
     },
     "execution_count": 19,
     "metadata": {},
     "output_type": "execute_result"
    }
   ],
   "source": [
    "data['purpose'].unique()"
   ]
  },
  {
   "cell_type": "markdown",
   "id": "85d0aef0",
   "metadata": {
    "deletable": false,
    "id": "85d0aef0"
   },
   "source": [
    "**Задание 18. Создайте функцию, которая на основании данных из столбца `purpose` сформирует новый столбец `purpose_category`, в который войдут следующие категории:**\n",
    "\n",
    "- `'операции с автомобилем'`,\n",
    "- `'операции с недвижимостью'`,\n",
    "- `'проведение свадьбы'`,\n",
    "- `'получение образования'`.\n",
    "\n",
    "**Например, если в столбце `purpose` находится подстрока `'на покупку автомобиля'`, то в столбце `purpose_category` должна появиться строка `'операции с автомобилем'`.**\n",
    "\n",
    "**Используйте собственную функцию с именем `categorize_purpose()` и метод `apply()`. Изучите данные в столбце `purpose` и определите, какие подстроки помогут вам правильно определить категорию.**"
   ]
  },
  {
   "cell_type": "code",
   "execution_count": 20,
   "id": "e149fab4",
   "metadata": {
    "deletable": false,
    "id": "e149fab4"
   },
   "outputs": [],
   "source": [
    "def categorize_purpose(row):\n",
    "    try:\n",
    "        if 'автом' in row:\n",
    "            return 'операции с автомобилем'\n",
    "        elif 'жил' in row or 'недвиж' in row:\n",
    "            return 'операции с недвижимостью'\n",
    "        elif 'свад' in row:\n",
    "            return 'проведение свадьбы'\n",
    "        elif 'образов' in row:\n",
    "            return 'получение образования'\n",
    "    except:\n",
    "        return 'нет категории'"
   ]
  },
  {
   "cell_type": "code",
   "execution_count": 21,
   "id": "bf36e69b",
   "metadata": {
    "deletable": false,
    "id": "bf36e69b"
   },
   "outputs": [
    {
     "data": {
      "text/html": [
       "<div>\n",
       "<style scoped>\n",
       "    .dataframe tbody tr th:only-of-type {\n",
       "        vertical-align: middle;\n",
       "    }\n",
       "\n",
       "    .dataframe tbody tr th {\n",
       "        vertical-align: top;\n",
       "    }\n",
       "\n",
       "    .dataframe thead th {\n",
       "        text-align: right;\n",
       "    }\n",
       "</style>\n",
       "<table border=\"1\" class=\"dataframe\">\n",
       "  <thead>\n",
       "    <tr style=\"text-align: right;\">\n",
       "      <th></th>\n",
       "      <th>children</th>\n",
       "      <th>days_employed</th>\n",
       "      <th>dob_years</th>\n",
       "      <th>education</th>\n",
       "      <th>education_id</th>\n",
       "      <th>family_status</th>\n",
       "      <th>family_status_id</th>\n",
       "      <th>gender</th>\n",
       "      <th>income_type</th>\n",
       "      <th>debt</th>\n",
       "      <th>total_income</th>\n",
       "      <th>purpose</th>\n",
       "      <th>total_income_category</th>\n",
       "      <th>purpose_category</th>\n",
       "    </tr>\n",
       "  </thead>\n",
       "  <tbody>\n",
       "    <tr>\n",
       "      <th>0</th>\n",
       "      <td>1</td>\n",
       "      <td>8437.673028</td>\n",
       "      <td>42</td>\n",
       "      <td>высшее</td>\n",
       "      <td>0</td>\n",
       "      <td>женат / замужем</td>\n",
       "      <td>0</td>\n",
       "      <td>F</td>\n",
       "      <td>сотрудник</td>\n",
       "      <td>0</td>\n",
       "      <td>253875</td>\n",
       "      <td>покупка жилья</td>\n",
       "      <td>B</td>\n",
       "      <td>операции с недвижимостью</td>\n",
       "    </tr>\n",
       "    <tr>\n",
       "      <th>1</th>\n",
       "      <td>1</td>\n",
       "      <td>4024.803754</td>\n",
       "      <td>36</td>\n",
       "      <td>среднее</td>\n",
       "      <td>1</td>\n",
       "      <td>женат / замужем</td>\n",
       "      <td>0</td>\n",
       "      <td>F</td>\n",
       "      <td>сотрудник</td>\n",
       "      <td>0</td>\n",
       "      <td>112080</td>\n",
       "      <td>приобретение автомобиля</td>\n",
       "      <td>C</td>\n",
       "      <td>операции с автомобилем</td>\n",
       "    </tr>\n",
       "    <tr>\n",
       "      <th>2</th>\n",
       "      <td>0</td>\n",
       "      <td>5623.422610</td>\n",
       "      <td>33</td>\n",
       "      <td>среднее</td>\n",
       "      <td>1</td>\n",
       "      <td>женат / замужем</td>\n",
       "      <td>0</td>\n",
       "      <td>M</td>\n",
       "      <td>сотрудник</td>\n",
       "      <td>0</td>\n",
       "      <td>145885</td>\n",
       "      <td>покупка жилья</td>\n",
       "      <td>C</td>\n",
       "      <td>операции с недвижимостью</td>\n",
       "    </tr>\n",
       "    <tr>\n",
       "      <th>3</th>\n",
       "      <td>3</td>\n",
       "      <td>4124.747207</td>\n",
       "      <td>32</td>\n",
       "      <td>среднее</td>\n",
       "      <td>1</td>\n",
       "      <td>женат / замужем</td>\n",
       "      <td>0</td>\n",
       "      <td>M</td>\n",
       "      <td>сотрудник</td>\n",
       "      <td>0</td>\n",
       "      <td>267628</td>\n",
       "      <td>дополнительное образование</td>\n",
       "      <td>B</td>\n",
       "      <td>получение образования</td>\n",
       "    </tr>\n",
       "    <tr>\n",
       "      <th>4</th>\n",
       "      <td>0</td>\n",
       "      <td>340266.072047</td>\n",
       "      <td>53</td>\n",
       "      <td>среднее</td>\n",
       "      <td>1</td>\n",
       "      <td>гражданский брак</td>\n",
       "      <td>1</td>\n",
       "      <td>F</td>\n",
       "      <td>пенсионер</td>\n",
       "      <td>0</td>\n",
       "      <td>158616</td>\n",
       "      <td>сыграть свадьбу</td>\n",
       "      <td>C</td>\n",
       "      <td>проведение свадьбы</td>\n",
       "    </tr>\n",
       "    <tr>\n",
       "      <th>...</th>\n",
       "      <td>...</td>\n",
       "      <td>...</td>\n",
       "      <td>...</td>\n",
       "      <td>...</td>\n",
       "      <td>...</td>\n",
       "      <td>...</td>\n",
       "      <td>...</td>\n",
       "      <td>...</td>\n",
       "      <td>...</td>\n",
       "      <td>...</td>\n",
       "      <td>...</td>\n",
       "      <td>...</td>\n",
       "      <td>...</td>\n",
       "      <td>...</td>\n",
       "    </tr>\n",
       "    <tr>\n",
       "      <th>21520</th>\n",
       "      <td>1</td>\n",
       "      <td>4529.316663</td>\n",
       "      <td>43</td>\n",
       "      <td>среднее</td>\n",
       "      <td>1</td>\n",
       "      <td>гражданский брак</td>\n",
       "      <td>1</td>\n",
       "      <td>F</td>\n",
       "      <td>компаньон</td>\n",
       "      <td>0</td>\n",
       "      <td>224791</td>\n",
       "      <td>операции с жильем</td>\n",
       "      <td>B</td>\n",
       "      <td>операции с недвижимостью</td>\n",
       "    </tr>\n",
       "    <tr>\n",
       "      <th>21521</th>\n",
       "      <td>0</td>\n",
       "      <td>343937.404131</td>\n",
       "      <td>67</td>\n",
       "      <td>среднее</td>\n",
       "      <td>1</td>\n",
       "      <td>женат / замужем</td>\n",
       "      <td>0</td>\n",
       "      <td>F</td>\n",
       "      <td>пенсионер</td>\n",
       "      <td>0</td>\n",
       "      <td>155999</td>\n",
       "      <td>сделка с автомобилем</td>\n",
       "      <td>C</td>\n",
       "      <td>операции с автомобилем</td>\n",
       "    </tr>\n",
       "    <tr>\n",
       "      <th>21522</th>\n",
       "      <td>1</td>\n",
       "      <td>2113.346888</td>\n",
       "      <td>38</td>\n",
       "      <td>среднее</td>\n",
       "      <td>1</td>\n",
       "      <td>гражданский брак</td>\n",
       "      <td>1</td>\n",
       "      <td>M</td>\n",
       "      <td>сотрудник</td>\n",
       "      <td>1</td>\n",
       "      <td>89672</td>\n",
       "      <td>недвижимость</td>\n",
       "      <td>C</td>\n",
       "      <td>операции с недвижимостью</td>\n",
       "    </tr>\n",
       "    <tr>\n",
       "      <th>21523</th>\n",
       "      <td>3</td>\n",
       "      <td>3112.481705</td>\n",
       "      <td>38</td>\n",
       "      <td>среднее</td>\n",
       "      <td>1</td>\n",
       "      <td>женат / замужем</td>\n",
       "      <td>0</td>\n",
       "      <td>M</td>\n",
       "      <td>сотрудник</td>\n",
       "      <td>1</td>\n",
       "      <td>244093</td>\n",
       "      <td>на покупку своего автомобиля</td>\n",
       "      <td>B</td>\n",
       "      <td>операции с автомобилем</td>\n",
       "    </tr>\n",
       "    <tr>\n",
       "      <th>21524</th>\n",
       "      <td>2</td>\n",
       "      <td>1984.507589</td>\n",
       "      <td>40</td>\n",
       "      <td>среднее</td>\n",
       "      <td>1</td>\n",
       "      <td>женат / замужем</td>\n",
       "      <td>0</td>\n",
       "      <td>F</td>\n",
       "      <td>сотрудник</td>\n",
       "      <td>0</td>\n",
       "      <td>82047</td>\n",
       "      <td>на покупку автомобиля</td>\n",
       "      <td>C</td>\n",
       "      <td>операции с автомобилем</td>\n",
       "    </tr>\n",
       "  </tbody>\n",
       "</table>\n",
       "<p>21348 rows × 14 columns</p>\n",
       "</div>"
      ],
      "text/plain": [
       "       children  days_employed  dob_years education  education_id  \\\n",
       "0             1    8437.673028         42    высшее             0   \n",
       "1             1    4024.803754         36   среднее             1   \n",
       "2             0    5623.422610         33   среднее             1   \n",
       "3             3    4124.747207         32   среднее             1   \n",
       "4             0  340266.072047         53   среднее             1   \n",
       "...         ...            ...        ...       ...           ...   \n",
       "21520         1    4529.316663         43   среднее             1   \n",
       "21521         0  343937.404131         67   среднее             1   \n",
       "21522         1    2113.346888         38   среднее             1   \n",
       "21523         3    3112.481705         38   среднее             1   \n",
       "21524         2    1984.507589         40   среднее             1   \n",
       "\n",
       "          family_status  family_status_id gender income_type  debt  \\\n",
       "0       женат / замужем                 0      F   сотрудник     0   \n",
       "1       женат / замужем                 0      F   сотрудник     0   \n",
       "2       женат / замужем                 0      M   сотрудник     0   \n",
       "3       женат / замужем                 0      M   сотрудник     0   \n",
       "4      гражданский брак                 1      F   пенсионер     0   \n",
       "...                 ...               ...    ...         ...   ...   \n",
       "21520  гражданский брак                 1      F   компаньон     0   \n",
       "21521   женат / замужем                 0      F   пенсионер     0   \n",
       "21522  гражданский брак                 1      M   сотрудник     1   \n",
       "21523   женат / замужем                 0      M   сотрудник     1   \n",
       "21524   женат / замужем                 0      F   сотрудник     0   \n",
       "\n",
       "       total_income                       purpose total_income_category  \\\n",
       "0            253875                 покупка жилья                     B   \n",
       "1            112080       приобретение автомобиля                     C   \n",
       "2            145885                 покупка жилья                     C   \n",
       "3            267628    дополнительное образование                     B   \n",
       "4            158616               сыграть свадьбу                     C   \n",
       "...             ...                           ...                   ...   \n",
       "21520        224791             операции с жильем                     B   \n",
       "21521        155999          сделка с автомобилем                     C   \n",
       "21522         89672                  недвижимость                     C   \n",
       "21523        244093  на покупку своего автомобиля                     B   \n",
       "21524         82047         на покупку автомобиля                     C   \n",
       "\n",
       "               purpose_category  \n",
       "0      операции с недвижимостью  \n",
       "1        операции с автомобилем  \n",
       "2      операции с недвижимостью  \n",
       "3         получение образования  \n",
       "4            проведение свадьбы  \n",
       "...                         ...  \n",
       "21520  операции с недвижимостью  \n",
       "21521    операции с автомобилем  \n",
       "21522  операции с недвижимостью  \n",
       "21523    операции с автомобилем  \n",
       "21524    операции с автомобилем  \n",
       "\n",
       "[21348 rows x 14 columns]"
      ]
     },
     "execution_count": 21,
     "metadata": {},
     "output_type": "execute_result"
    }
   ],
   "source": [
    "data['purpose_category'] = data['purpose'].apply(categorize_purpose)\n",
    "data"
   ]
  },
  {
   "cell_type": "markdown",
   "id": "09b242bf",
   "metadata": {
    "deletable": false,
    "editable": false,
    "id": "09b242bf"
   },
   "source": [
    "## Исследуйте данные и ответьте на вопросы"
   ]
  },
  {
   "cell_type": "markdown",
   "id": "c5d66278",
   "metadata": {
    "deletable": false,
    "editable": false,
    "id": "c5d66278"
   },
   "source": [
    "**Задание 19. Есть ли зависимость между количеством детей и возвратом кредита в срок?**"
   ]
  },
  {
   "cell_type": "code",
   "execution_count": 22,
   "id": "6cf888c5",
   "metadata": {},
   "outputs": [],
   "source": [
    "import seaborn as sns \n",
    "import matplotlib.pylab as plt\n",
    "\n",
    "def dependency_category(column): # создание собственной функции для заданий\n",
    "    df = pd.DataFrame() # создание отдельного датафрейма\n",
    "    pd.options.display.float_format = '{:,.2f}%'.format # отображение процентов в таблице\n",
    "    \n",
    "    df['кол-во людей в категории'] = data.groupby(column)['debt'].count() # столбец количества людей по категориям от входных данных\n",
    "    df['% от общего количества заемщиков'] = data.groupby(column)['debt'].count() / data['debt'].count() * 100 # доля клиентов от общего количества заемщиков \n",
    "    df['кол-во человек платящих в срок'] = data.groupby(column)['debt'].count() - data.groupby(column)['debt'].sum() # количество людей, которые платят в срок из категории\n",
    "    df['выплата в срок'] = ((df['кол-во человек платящих в срок'] / data.groupby(column)['debt'].count()) * 100) # процент количество людей, которые платят в срок из категории\n",
    "    df['отношение неплатящие/платящие'] = data.groupby(column)['debt'].sum() / data.groupby(column)['debt'].count() * 100 # отношение неплатящих к платящим из категории\n",
    "    \n",
    "    df = df.sort_values(by='выплата в срок', ascending=False) # сортировка таблицы по столбцу (выплата в срок) по убыванию\n",
    "    df = df.reset_index().rename(columns={df.index.name:'категория'}) # изменение названия столбца фильтра\n",
    "    barplot = sns.barplot(x = 'категория', y = 'отношение неплатящие/платящие', data=df) # график показывает максимальное количество неплатящих людей из категории\n",
    "    plt.xticks(rotation=45) # поворачиваем текст по абсцисе, чтоб был читаем\n",
    "    barplot.set(xlabel=None, ylabel=None) # скрываем названия координат на графике\n",
    "       \n",
    "    return df"
   ]
  },
  {
   "cell_type": "code",
   "execution_count": 23,
   "id": "2cacfc4a",
   "metadata": {
    "id": "2cacfc4a"
   },
   "outputs": [
    {
     "data": {
      "text/html": [
       "<div>\n",
       "<style scoped>\n",
       "    .dataframe tbody tr th:only-of-type {\n",
       "        vertical-align: middle;\n",
       "    }\n",
       "\n",
       "    .dataframe tbody tr th {\n",
       "        vertical-align: top;\n",
       "    }\n",
       "\n",
       "    .dataframe thead th {\n",
       "        text-align: right;\n",
       "    }\n",
       "</style>\n",
       "<table border=\"1\" class=\"dataframe\">\n",
       "  <thead>\n",
       "    <tr style=\"text-align: right;\">\n",
       "      <th></th>\n",
       "      <th>категория</th>\n",
       "      <th>кол-во людей в категории</th>\n",
       "      <th>% от общего количества заемщиков</th>\n",
       "      <th>кол-во человек платящих в срок</th>\n",
       "      <th>выплата в срок</th>\n",
       "      <th>отношение неплатящие/платящие</th>\n",
       "    </tr>\n",
       "  </thead>\n",
       "  <tbody>\n",
       "    <tr>\n",
       "      <th>0</th>\n",
       "      <td>5</td>\n",
       "      <td>9</td>\n",
       "      <td>0.04%</td>\n",
       "      <td>9</td>\n",
       "      <td>100.00%</td>\n",
       "      <td>0.00%</td>\n",
       "    </tr>\n",
       "    <tr>\n",
       "      <th>1</th>\n",
       "      <td>0</td>\n",
       "      <td>14107</td>\n",
       "      <td>66.08%</td>\n",
       "      <td>13044</td>\n",
       "      <td>92.46%</td>\n",
       "      <td>7.54%</td>\n",
       "    </tr>\n",
       "    <tr>\n",
       "      <th>2</th>\n",
       "      <td>3</td>\n",
       "      <td>330</td>\n",
       "      <td>1.55%</td>\n",
       "      <td>303</td>\n",
       "      <td>91.82%</td>\n",
       "      <td>8.18%</td>\n",
       "    </tr>\n",
       "    <tr>\n",
       "      <th>3</th>\n",
       "      <td>1</td>\n",
       "      <td>4809</td>\n",
       "      <td>22.53%</td>\n",
       "      <td>4365</td>\n",
       "      <td>90.77%</td>\n",
       "      <td>9.23%</td>\n",
       "    </tr>\n",
       "    <tr>\n",
       "      <th>4</th>\n",
       "      <td>2</td>\n",
       "      <td>2052</td>\n",
       "      <td>9.61%</td>\n",
       "      <td>1858</td>\n",
       "      <td>90.55%</td>\n",
       "      <td>9.45%</td>\n",
       "    </tr>\n",
       "    <tr>\n",
       "      <th>5</th>\n",
       "      <td>4</td>\n",
       "      <td>41</td>\n",
       "      <td>0.19%</td>\n",
       "      <td>37</td>\n",
       "      <td>90.24%</td>\n",
       "      <td>9.76%</td>\n",
       "    </tr>\n",
       "  </tbody>\n",
       "</table>\n",
       "</div>"
      ],
      "text/plain": [
       "   категория  кол-во людей в категории  % от общего количества заемщиков  \\\n",
       "0          5                         9                             0.04%   \n",
       "1          0                     14107                            66.08%   \n",
       "2          3                       330                             1.55%   \n",
       "3          1                      4809                            22.53%   \n",
       "4          2                      2052                             9.61%   \n",
       "5          4                        41                             0.19%   \n",
       "\n",
       "   кол-во человек платящих в срок  выплата в срок  \\\n",
       "0                               9         100.00%   \n",
       "1                           13044          92.46%   \n",
       "2                             303          91.82%   \n",
       "3                            4365          90.77%   \n",
       "4                            1858          90.55%   \n",
       "5                              37          90.24%   \n",
       "\n",
       "   отношение неплатящие/платящие  \n",
       "0                          0.00%  \n",
       "1                          7.54%  \n",
       "2                          8.18%  \n",
       "3                          9.23%  \n",
       "4                          9.45%  \n",
       "5                          9.76%  "
      ]
     },
     "execution_count": 23,
     "metadata": {},
     "output_type": "execute_result"
    },
    {
     "data": {
      "image/png": "[encoded data removed]",
      "text/plain": [
       "<Figure size 432x288 with 1 Axes>"
      ]
     },
     "metadata": {
      "needs_background": "light"
     },
     "output_type": "display_data"
    }
   ],
   "source": [
    "# вызов функции \"dependency_category\" с фильтром по количеству детей\n",
    "#сортировка таблицы по столбцу (выплата в срок) по убыванию\n",
    "\n",
    "dependency_category('children')"
   ]
  },
  {
   "cell_type": "markdown",
   "id": "3a6b99ec",
   "metadata": {
    "deletable": false,
    "id": "3a6b99ec"
   },
   "source": [
    "**Вывод:** Нет, такой зависимости нет, но имеется другая. Чем больше у людей детей - тем они реже берут кредит."
   ]
  },
  {
   "cell_type": "markdown",
   "id": "97be82ca",
   "metadata": {
    "deletable": false,
    "editable": false,
    "id": "97be82ca"
   },
   "source": [
    "**Задание 20. Есть ли зависимость между семейным положением и возвратом кредита в срок?**"
   ]
  },
  {
   "cell_type": "code",
   "execution_count": 24,
   "id": "dc3f7ee8",
   "metadata": {
    "id": "dc3f7ee8"
   },
   "outputs": [
    {
     "data": {
      "text/html": [
       "<div>\n",
       "<style scoped>\n",
       "    .dataframe tbody tr th:only-of-type {\n",
       "        vertical-align: middle;\n",
       "    }\n",
       "\n",
       "    .dataframe tbody tr th {\n",
       "        vertical-align: top;\n",
       "    }\n",
       "\n",
       "    .dataframe thead th {\n",
       "        text-align: right;\n",
       "    }\n",
       "</style>\n",
       "<table border=\"1\" class=\"dataframe\">\n",
       "  <thead>\n",
       "    <tr style=\"text-align: right;\">\n",
       "      <th></th>\n",
       "      <th>категория</th>\n",
       "      <th>кол-во людей в категории</th>\n",
       "      <th>% от общего количества заемщиков</th>\n",
       "      <th>кол-во человек платящих в срок</th>\n",
       "      <th>выплата в срок</th>\n",
       "      <th>отношение неплатящие/платящие</th>\n",
       "    </tr>\n",
       "  </thead>\n",
       "  <tbody>\n",
       "    <tr>\n",
       "      <th>0</th>\n",
       "      <td>вдовец / вдова</td>\n",
       "      <td>951</td>\n",
       "      <td>4.45%</td>\n",
       "      <td>888</td>\n",
       "      <td>93.38%</td>\n",
       "      <td>6.62%</td>\n",
       "    </tr>\n",
       "    <tr>\n",
       "      <th>1</th>\n",
       "      <td>в разводе</td>\n",
       "      <td>1189</td>\n",
       "      <td>5.57%</td>\n",
       "      <td>1105</td>\n",
       "      <td>92.94%</td>\n",
       "      <td>7.06%</td>\n",
       "    </tr>\n",
       "    <tr>\n",
       "      <th>2</th>\n",
       "      <td>женат / замужем</td>\n",
       "      <td>12266</td>\n",
       "      <td>57.46%</td>\n",
       "      <td>11339</td>\n",
       "      <td>92.44%</td>\n",
       "      <td>7.56%</td>\n",
       "    </tr>\n",
       "    <tr>\n",
       "      <th>3</th>\n",
       "      <td>гражданский брак</td>\n",
       "      <td>4146</td>\n",
       "      <td>19.42%</td>\n",
       "      <td>3761</td>\n",
       "      <td>90.71%</td>\n",
       "      <td>9.29%</td>\n",
       "    </tr>\n",
       "    <tr>\n",
       "      <th>4</th>\n",
       "      <td>Не женат / не замужем</td>\n",
       "      <td>2796</td>\n",
       "      <td>13.10%</td>\n",
       "      <td>2523</td>\n",
       "      <td>90.24%</td>\n",
       "      <td>9.76%</td>\n",
       "    </tr>\n",
       "  </tbody>\n",
       "</table>\n",
       "</div>"
      ],
      "text/plain": [
       "               категория  кол-во людей в категории  \\\n",
       "0         вдовец / вдова                       951   \n",
       "1              в разводе                      1189   \n",
       "2        женат / замужем                     12266   \n",
       "3       гражданский брак                      4146   \n",
       "4  Не женат / не замужем                      2796   \n",
       "\n",
       "   % от общего количества заемщиков  кол-во человек платящих в срок  \\\n",
       "0                             4.45%                             888   \n",
       "1                             5.57%                            1105   \n",
       "2                            57.46%                           11339   \n",
       "3                            19.42%                            3761   \n",
       "4                            13.10%                            2523   \n",
       "\n",
       "   выплата в срок  отношение неплатящие/платящие  \n",
       "0          93.38%                          6.62%  \n",
       "1          92.94%                          7.06%  \n",
       "2          92.44%                          7.56%  \n",
       "3          90.71%                          9.29%  \n",
       "4          90.24%                          9.76%  "
      ]
     },
     "execution_count": 24,
     "metadata": {},
     "output_type": "execute_result"
    },
    {
     "data": {
      "image/png": "[encoded data removed]",
      "text/plain": [
       "<Figure size 432x288 with 1 Axes>"
      ]
     },
     "metadata": {
      "needs_background": "light"
     },
     "output_type": "display_data"
    }
   ],
   "source": [
    "# вызов функции \"dependency_category\" с фильтром по семейному положению\n",
    "#сортировка таблицы по столбцу (выплата в срок) по убыванию\n",
    "\n",
    "dependency_category('family_status')"
   ]
  },
  {
   "cell_type": "markdown",
   "id": "1cef7837",
   "metadata": {
    "deletable": false,
    "id": "1cef7837"
   },
   "source": [
    "**Вывод:** Не замужние/Не женатые кредиторы в представленной категории чаще являются должниками"
   ]
  },
  {
   "cell_type": "markdown",
   "id": "1e8b2fca",
   "metadata": {
    "deletable": false,
    "editable": false,
    "id": "1e8b2fca"
   },
   "source": [
    "**Задание 21. Есть ли зависимость между уровнем дохода и возвратом кредита в срок?**"
   ]
  },
  {
   "cell_type": "code",
   "execution_count": 25,
   "id": "cd7e3720",
   "metadata": {
    "id": "cd7e3720"
   },
   "outputs": [
    {
     "data": {
      "text/html": [
       "<div>\n",
       "<style scoped>\n",
       "    .dataframe tbody tr th:only-of-type {\n",
       "        vertical-align: middle;\n",
       "    }\n",
       "\n",
       "    .dataframe tbody tr th {\n",
       "        vertical-align: top;\n",
       "    }\n",
       "\n",
       "    .dataframe thead th {\n",
       "        text-align: right;\n",
       "    }\n",
       "</style>\n",
       "<table border=\"1\" class=\"dataframe\">\n",
       "  <thead>\n",
       "    <tr style=\"text-align: right;\">\n",
       "      <th></th>\n",
       "      <th>категория</th>\n",
       "      <th>кол-во людей в категории</th>\n",
       "      <th>% от общего количества заемщиков</th>\n",
       "      <th>кол-во человек платящих в срок</th>\n",
       "      <th>выплата в срок</th>\n",
       "      <th>отношение неплатящие/платящие</th>\n",
       "    </tr>\n",
       "  </thead>\n",
       "  <tbody>\n",
       "    <tr>\n",
       "      <th>0</th>\n",
       "      <td>D</td>\n",
       "      <td>349</td>\n",
       "      <td>1.63%</td>\n",
       "      <td>328</td>\n",
       "      <td>93.98%</td>\n",
       "      <td>6.02%</td>\n",
       "    </tr>\n",
       "    <tr>\n",
       "      <th>1</th>\n",
       "      <td>B</td>\n",
       "      <td>5014</td>\n",
       "      <td>23.49%</td>\n",
       "      <td>4660</td>\n",
       "      <td>92.94%</td>\n",
       "      <td>7.06%</td>\n",
       "    </tr>\n",
       "    <tr>\n",
       "      <th>2</th>\n",
       "      <td>A</td>\n",
       "      <td>25</td>\n",
       "      <td>0.12%</td>\n",
       "      <td>23</td>\n",
       "      <td>92.00%</td>\n",
       "      <td>8.00%</td>\n",
       "    </tr>\n",
       "    <tr>\n",
       "      <th>3</th>\n",
       "      <td>C</td>\n",
       "      <td>15938</td>\n",
       "      <td>74.66%</td>\n",
       "      <td>14585</td>\n",
       "      <td>91.51%</td>\n",
       "      <td>8.49%</td>\n",
       "    </tr>\n",
       "    <tr>\n",
       "      <th>4</th>\n",
       "      <td>E</td>\n",
       "      <td>22</td>\n",
       "      <td>0.10%</td>\n",
       "      <td>20</td>\n",
       "      <td>90.91%</td>\n",
       "      <td>9.09%</td>\n",
       "    </tr>\n",
       "  </tbody>\n",
       "</table>\n",
       "</div>"
      ],
      "text/plain": [
       "  категория  кол-во людей в категории  % от общего количества заемщиков  \\\n",
       "0         D                       349                             1.63%   \n",
       "1         B                      5014                            23.49%   \n",
       "2         A                        25                             0.12%   \n",
       "3         C                     15938                            74.66%   \n",
       "4         E                        22                             0.10%   \n",
       "\n",
       "   кол-во человек платящих в срок  выплата в срок  \\\n",
       "0                             328          93.98%   \n",
       "1                            4660          92.94%   \n",
       "2                              23          92.00%   \n",
       "3                           14585          91.51%   \n",
       "4                              20          90.91%   \n",
       "\n",
       "   отношение неплатящие/платящие  \n",
       "0                          6.02%  \n",
       "1                          7.06%  \n",
       "2                          8.00%  \n",
       "3                          8.49%  \n",
       "4                          9.09%  "
      ]
     },
     "execution_count": 25,
     "metadata": {},
     "output_type": "execute_result"
    },
    {
     "data": {
      "image/png": "[encoded data removed]",
      "text/plain": [
       "<Figure size 432x288 with 1 Axes>"
      ]
     },
     "metadata": {
      "needs_background": "light"
     },
     "output_type": "display_data"
    }
   ],
   "source": [
    "# вызов функции \"dependency_category\" с фильтром по доходу\n",
    "#сортировка таблицы по столбцу (выплата в срок) по убыванию\n",
    "\n",
    "dependency_category('total_income_category')"
   ]
  },
  {
   "cell_type": "markdown",
   "id": "e8593def",
   "metadata": {
    "deletable": false,
    "id": "e8593def"
   },
   "source": [
    "**Вывод:** Такая зависимость не выявлена. Люди с доходом ниже 50 000 расположились как на первом так и на последнем местах по выплатам в срок."
   ]
  },
  {
   "cell_type": "markdown",
   "id": "99ecbd1f",
   "metadata": {
    "deletable": false,
    "editable": false,
    "id": "99ecbd1f"
   },
   "source": [
    "**Задание 22. Как разные цели кредита влияют на его возврат в срок?**"
   ]
  },
  {
   "cell_type": "code",
   "execution_count": 26,
   "id": "2b687290",
   "metadata": {
    "id": "2b687290"
   },
   "outputs": [
    {
     "data": {
      "text/html": [
       "<div>\n",
       "<style scoped>\n",
       "    .dataframe tbody tr th:only-of-type {\n",
       "        vertical-align: middle;\n",
       "    }\n",
       "\n",
       "    .dataframe tbody tr th {\n",
       "        vertical-align: top;\n",
       "    }\n",
       "\n",
       "    .dataframe thead th {\n",
       "        text-align: right;\n",
       "    }\n",
       "</style>\n",
       "<table border=\"1\" class=\"dataframe\">\n",
       "  <thead>\n",
       "    <tr style=\"text-align: right;\">\n",
       "      <th></th>\n",
       "      <th>категория</th>\n",
       "      <th>кол-во людей в категории</th>\n",
       "      <th>% от общего количества заемщиков</th>\n",
       "      <th>кол-во человек платящих в срок</th>\n",
       "      <th>выплата в срок</th>\n",
       "      <th>отношение неплатящие/платящие</th>\n",
       "    </tr>\n",
       "  </thead>\n",
       "  <tbody>\n",
       "    <tr>\n",
       "      <th>0</th>\n",
       "      <td>операции с недвижимостью</td>\n",
       "      <td>10754</td>\n",
       "      <td>50.37%</td>\n",
       "      <td>9974</td>\n",
       "      <td>92.75%</td>\n",
       "      <td>7.25%</td>\n",
       "    </tr>\n",
       "    <tr>\n",
       "      <th>1</th>\n",
       "      <td>проведение свадьбы</td>\n",
       "      <td>2324</td>\n",
       "      <td>10.89%</td>\n",
       "      <td>2141</td>\n",
       "      <td>92.13%</td>\n",
       "      <td>7.87%</td>\n",
       "    </tr>\n",
       "    <tr>\n",
       "      <th>2</th>\n",
       "      <td>получение образования</td>\n",
       "      <td>3989</td>\n",
       "      <td>18.69%</td>\n",
       "      <td>3620</td>\n",
       "      <td>90.75%</td>\n",
       "      <td>9.25%</td>\n",
       "    </tr>\n",
       "    <tr>\n",
       "      <th>3</th>\n",
       "      <td>операции с автомобилем</td>\n",
       "      <td>4281</td>\n",
       "      <td>20.05%</td>\n",
       "      <td>3881</td>\n",
       "      <td>90.66%</td>\n",
       "      <td>9.34%</td>\n",
       "    </tr>\n",
       "  </tbody>\n",
       "</table>\n",
       "</div>"
      ],
      "text/plain": [
       "                  категория  кол-во людей в категории  \\\n",
       "0  операции с недвижимостью                     10754   \n",
       "1        проведение свадьбы                      2324   \n",
       "2     получение образования                      3989   \n",
       "3    операции с автомобилем                      4281   \n",
       "\n",
       "   % от общего количества заемщиков  кол-во человек платящих в срок  \\\n",
       "0                            50.37%                            9974   \n",
       "1                            10.89%                            2141   \n",
       "2                            18.69%                            3620   \n",
       "3                            20.05%                            3881   \n",
       "\n",
       "   выплата в срок  отношение неплатящие/платящие  \n",
       "0          92.75%                          7.25%  \n",
       "1          92.13%                          7.87%  \n",
       "2          90.75%                          9.25%  \n",
       "3          90.66%                          9.34%  "
      ]
     },
     "execution_count": 26,
     "metadata": {},
     "output_type": "execute_result"
    },
    {
     "data": {
      "image/png": "[encoded data removed]",
      "text/plain": [
       "<Figure size 432x288 with 1 Axes>"
      ]
     },
     "metadata": {
      "needs_background": "light"
     },
     "output_type": "display_data"
    }
   ],
   "source": [
    "# вызов функции \"dependency_category\" с фильтром по целям кредита\n",
    "#сортировка таблицы по столбцу (выплата в срок) по убыванию\n",
    "\n",
    "dependency_category('purpose_category')"
   ]
  },
  {
   "cell_type": "markdown",
   "id": "b4bb2ce6",
   "metadata": {
    "deletable": false,
    "id": "b4bb2ce6"
   },
   "source": [
    "**Вывод:** Из таблицы видно, что люди, имеющие кредит на недвижимость являются самыми стабильными плательщиками. "
   ]
  },
  {
   "cell_type": "markdown",
   "id": "09c3ac4c",
   "metadata": {
    "deletable": false,
    "editable": false,
    "id": "09c3ac4c"
   },
   "source": [
    "**Задание 23. Приведите возможные причины появления пропусков в исходных данных.**"
   ]
  },
  {
   "cell_type": "markdown",
   "id": "9da2ceda",
   "metadata": {
    "deletable": false,
    "id": "9da2ceda"
   },
   "source": [
    "*Ответ:* Ошибка при обработке данных, отсутствует проверка вводимых данных "
   ]
  },
  {
   "cell_type": "markdown",
   "id": "7b0487d6",
   "metadata": {
    "deletable": false,
    "editable": false,
    "id": "7b0487d6"
   },
   "source": [
    "**Задание 24. Объясните, почему заполнить пропуски медианным значением — лучшее решение для количественных переменных.**"
   ]
  },
  {
   "cell_type": "markdown",
   "id": "7ecf2b8e",
   "metadata": {
    "deletable": false,
    "id": "7ecf2b8e"
   },
   "source": [
    "*Ответ:* В случае выброса значений в данных сильно изменится среднее арифмитическое и повлияет на модель, поэтому лучше заполнять недостающие количественные значения медианным. (как у нас в случае с детьми / трудовым стажем)"
   ]
  },
  {
   "cell_type": "markdown",
   "id": "6db5255a",
   "metadata": {
    "deletable": false,
    "editable": false,
    "id": "6db5255a"
   },
   "source": [
    "## Общий вывод."
   ]
  },
  {
   "cell_type": "markdown",
   "id": "bad65432",
   "metadata": {
    "id": "bad65432"
   },
   "source": [
    "Было проверено четыре гипотезы и установлено:\n",
    "\n",
    "`1. Есть ли зависимость между количеством детей и возвратом кредита в срок?`\n",
    "\n",
    "Зависимость не подтвердилась, но нашлась другая. Количество детей в семье напрямую влияет на наличие кредита в целом - число заёмщиков в подкатегориях уменьшается от увеличения детей.\n",
    "\n",
    "`2. Есть ли зависимость между семейным положением и возвратом кредита в срок?`\n",
    "\n",
    "Люде не обременённые семейным положением чаще просрачивают кредитные выплаты.\n",
    "\n",
    "\n",
    "`3. Есть ли зависимость между уровнем дохода и возвратом кредита в срок?`\n",
    "\n",
    "Данная гипотеза не подтвердилась.\n",
    "\n",
    "`4. Как разные цели кредита влияют на его возврат в срок?`\n",
    "\n",
    "Кредиторы связанные с недвижимостью платят стабильнее. Возможно тут больше влияет фактор суммы заёма в сравнении с кредитом на `недвижимость` и `автомобиль`. В основном \"недвижимость\" дороже авто, поэтому увеличивать процент переплат и время из-за несвоевременной оплаты не целесообразно.\n",
    "\n",
    "**Вывод:**\n",
    "Одинокие люди, не имеющие собственной семьи и детей являются самыми опасными кредиторами для самих себя, но в то же время наиболее выгодные для банков (выплаты идут хоть и с задержкой)."
   ]
  }
 ],
 "metadata": {
  "ExecuteTimeLog": [
   {
    "duration": 675,
    "start_time": "2022-07-15T14:20:50.614Z"
   },
   {
    "duration": 21,
    "start_time": "2022-07-15T14:20:51.291Z"
   },
   {
    "duration": 25,
    "start_time": "2022-07-15T14:20:51.313Z"
   },
   {
    "duration": 28,
    "start_time": "2022-07-15T14:20:51.340Z"
   },
   {
    "duration": 46,
    "start_time": "2022-07-15T14:20:51.369Z"
   },
   {
    "duration": 4,
    "start_time": "2022-07-15T14:20:51.416Z"
   },
   {
    "duration": 33,
    "start_time": "2022-07-15T14:20:51.421Z"
   },
   {
    "duration": 19,
    "start_time": "2022-07-15T14:20:51.456Z"
   },
   {
    "duration": 21,
    "start_time": "2022-07-15T14:20:51.476Z"
   },
   {
    "duration": 12,
    "start_time": "2022-07-15T14:20:51.500Z"
   },
   {
    "duration": 58,
    "start_time": "2022-07-15T14:20:51.514Z"
   },
   {
    "duration": 9,
    "start_time": "2022-07-15T14:20:51.574Z"
   },
   {
    "duration": 24,
    "start_time": "2022-07-15T14:20:51.584Z"
   },
   {
    "duration": 36,
    "start_time": "2022-07-15T14:20:51.609Z"
   },
   {
    "duration": 20,
    "start_time": "2022-07-15T14:20:51.647Z"
   },
   {
    "duration": 22,
    "start_time": "2022-07-15T14:20:51.668Z"
   },
   {
    "duration": 12,
    "start_time": "2022-07-15T14:20:51.692Z"
   },
   {
    "duration": 27,
    "start_time": "2022-07-15T14:20:51.706Z"
   },
   {
    "duration": 25,
    "start_time": "2022-07-15T14:20:51.734Z"
   },
   {
    "duration": 17,
    "start_time": "2022-07-15T14:20:51.760Z"
   },
   {
    "duration": 33,
    "start_time": "2022-07-15T14:20:51.779Z"
   },
   {
    "duration": 24,
    "start_time": "2022-07-15T14:20:57.412Z"
   },
   {
    "duration": 20,
    "start_time": "2022-07-15T14:41:30.868Z"
   },
   {
    "duration": 21,
    "start_time": "2022-07-15T18:50:48.972Z"
   },
   {
    "duration": 17,
    "start_time": "2022-07-15T18:51:06.479Z"
   },
   {
    "duration": 14,
    "start_time": "2022-07-15T18:53:02.468Z"
   },
   {
    "duration": 12,
    "start_time": "2022-07-15T18:53:07.436Z"
   },
   {
    "duration": 14,
    "start_time": "2022-07-15T18:53:35.569Z"
   },
   {
    "duration": 12,
    "start_time": "2022-07-15T18:53:36.949Z"
   },
   {
    "duration": 16,
    "start_time": "2022-07-15T18:53:38.454Z"
   },
   {
    "duration": 11,
    "start_time": "2022-07-15T18:53:41.335Z"
   },
   {
    "duration": 14,
    "start_time": "2022-07-15T18:53:48.327Z"
   },
   {
    "duration": 11,
    "start_time": "2022-07-15T18:53:49.717Z"
   },
   {
    "duration": 5,
    "start_time": "2022-07-15T18:55:11.325Z"
   },
   {
    "duration": 13,
    "start_time": "2022-07-15T18:55:13.539Z"
   },
   {
    "duration": 15,
    "start_time": "2022-07-15T18:55:22.037Z"
   },
   {
    "duration": 6,
    "start_time": "2022-07-15T18:55:43.789Z"
   },
   {
    "duration": 2,
    "start_time": "2022-07-15T18:56:17.908Z"
   },
   {
    "duration": 6,
    "start_time": "2022-07-15T18:56:25.884Z"
   },
   {
    "duration": 7,
    "start_time": "2022-07-15T18:56:35.660Z"
   },
   {
    "duration": 8,
    "start_time": "2022-07-15T18:56:46.172Z"
   },
   {
    "duration": 14,
    "start_time": "2022-07-15T18:56:50.567Z"
   },
   {
    "duration": 2,
    "start_time": "2022-07-15T18:57:17.756Z"
   },
   {
    "duration": 6,
    "start_time": "2022-07-15T18:57:25.740Z"
   },
   {
    "duration": 11,
    "start_time": "2022-07-15T18:57:27.595Z"
   },
   {
    "duration": 6,
    "start_time": "2022-07-15T18:58:29.739Z"
   },
   {
    "duration": 8,
    "start_time": "2022-07-15T18:58:36.383Z"
   },
   {
    "duration": 6,
    "start_time": "2022-07-15T18:58:38.882Z"
   },
   {
    "duration": 7,
    "start_time": "2022-07-15T19:16:13.437Z"
   },
   {
    "duration": 15,
    "start_time": "2022-07-15T19:19:09.366Z"
   },
   {
    "duration": 11,
    "start_time": "2022-07-15T19:24:06.890Z"
   },
   {
    "duration": 14,
    "start_time": "2022-07-15T19:28:54.373Z"
   },
   {
    "duration": 14,
    "start_time": "2022-07-15T19:29:00.400Z"
   },
   {
    "duration": 20,
    "start_time": "2022-07-15T19:29:10.456Z"
   },
   {
    "duration": 18,
    "start_time": "2022-07-15T19:29:16.416Z"
   },
   {
    "duration": 1030,
    "start_time": "2022-07-15T19:29:52.288Z"
   },
   {
    "duration": 129,
    "start_time": "2022-07-15T19:29:57.209Z"
   },
   {
    "duration": 144,
    "start_time": "2022-07-15T19:30:22.633Z"
   },
   {
    "duration": 25,
    "start_time": "2022-07-15T19:30:45.447Z"
   },
   {
    "duration": 119,
    "start_time": "2022-07-15T19:30:58.735Z"
   },
   {
    "duration": 17,
    "start_time": "2022-07-15T19:32:40.103Z"
   },
   {
    "duration": 145,
    "start_time": "2022-07-15T19:34:27.057Z"
   },
   {
    "duration": 15,
    "start_time": "2022-07-15T19:34:34.519Z"
   },
   {
    "duration": 18,
    "start_time": "2022-07-15T19:37:46.294Z"
   },
   {
    "duration": 17,
    "start_time": "2022-07-15T19:37:50.376Z"
   },
   {
    "duration": 17,
    "start_time": "2022-07-15T19:37:53.421Z"
   },
   {
    "duration": 51,
    "start_time": "2022-07-15T19:55:23.416Z"
   },
   {
    "duration": 15,
    "start_time": "2022-07-15T19:55:28.464Z"
   },
   {
    "duration": 11,
    "start_time": "2022-07-15T19:55:48.473Z"
   },
   {
    "duration": 13,
    "start_time": "2022-07-15T19:55:58.415Z"
   },
   {
    "duration": 13,
    "start_time": "2022-07-15T19:56:29.712Z"
   },
   {
    "duration": 14,
    "start_time": "2022-07-15T19:56:45.535Z"
   },
   {
    "duration": 13,
    "start_time": "2022-07-15T19:56:53.606Z"
   },
   {
    "duration": 12,
    "start_time": "2022-07-15T19:56:57.911Z"
   },
   {
    "duration": 13,
    "start_time": "2022-07-15T19:57:02.777Z"
   },
   {
    "duration": 55,
    "start_time": "2022-07-15T19:57:07.187Z"
   },
   {
    "duration": 42,
    "start_time": "2022-07-15T19:57:10.634Z"
   },
   {
    "duration": 13,
    "start_time": "2022-07-15T19:57:14.121Z"
   },
   {
    "duration": 14,
    "start_time": "2022-07-15T19:59:38.838Z"
   },
   {
    "duration": 27,
    "start_time": "2022-07-15T20:00:18.582Z"
   },
   {
    "duration": 15,
    "start_time": "2022-07-15T20:00:26.414Z"
   },
   {
    "duration": 17,
    "start_time": "2022-07-15T20:01:47.541Z"
   },
   {
    "duration": 4,
    "start_time": "2022-07-15T20:05:48.268Z"
   },
   {
    "duration": 8,
    "start_time": "2022-07-15T20:06:17.926Z"
   },
   {
    "duration": 10,
    "start_time": "2022-07-15T20:06:33.227Z"
   },
   {
    "duration": 12,
    "start_time": "2022-07-15T20:06:53.731Z"
   },
   {
    "duration": 13,
    "start_time": "2022-07-15T20:10:16.921Z"
   },
   {
    "duration": 13,
    "start_time": "2022-07-15T20:11:41.121Z"
   },
   {
    "duration": 10,
    "start_time": "2022-07-15T20:11:45.082Z"
   },
   {
    "duration": 12,
    "start_time": "2022-07-15T20:11:52.929Z"
   },
   {
    "duration": 51,
    "start_time": "2022-07-15T20:12:56.786Z"
   },
   {
    "duration": 47,
    "start_time": "2022-07-15T20:13:10.696Z"
   },
   {
    "duration": 60,
    "start_time": "2022-07-15T20:13:22.625Z"
   },
   {
    "duration": 12,
    "start_time": "2022-07-15T20:13:24.753Z"
   },
   {
    "duration": 13,
    "start_time": "2022-07-15T20:14:30.320Z"
   },
   {
    "duration": 19,
    "start_time": "2022-07-15T20:14:42.777Z"
   },
   {
    "duration": 65,
    "start_time": "2022-07-15T20:15:52.800Z"
   },
   {
    "duration": 12,
    "start_time": "2022-07-15T20:16:01.048Z"
   },
   {
    "duration": 14,
    "start_time": "2022-07-15T20:16:31.432Z"
   },
   {
    "duration": 14,
    "start_time": "2022-07-15T20:16:36.737Z"
   },
   {
    "duration": 9,
    "start_time": "2022-07-15T20:16:44.743Z"
   },
   {
    "duration": 9,
    "start_time": "2022-07-15T20:16:52.055Z"
   },
   {
    "duration": 9,
    "start_time": "2022-07-15T20:16:58.503Z"
   },
   {
    "duration": 4,
    "start_time": "2022-07-15T20:18:53.920Z"
   },
   {
    "duration": 10,
    "start_time": "2022-07-15T20:18:59.039Z"
   },
   {
    "duration": 12,
    "start_time": "2022-07-15T20:19:12.311Z"
   },
   {
    "duration": 10,
    "start_time": "2022-07-15T20:19:25.624Z"
   },
   {
    "duration": 766,
    "start_time": "2022-07-15T20:22:30.189Z"
   },
   {
    "duration": 12,
    "start_time": "2022-07-15T20:22:42.445Z"
   },
   {
    "duration": 7,
    "start_time": "2022-07-15T20:25:14.788Z"
   },
   {
    "duration": 4,
    "start_time": "2022-07-15T20:26:46.803Z"
   },
   {
    "duration": 6,
    "start_time": "2022-07-15T20:26:56.526Z"
   },
   {
    "duration": 8,
    "start_time": "2022-07-15T20:27:02.475Z"
   },
   {
    "duration": 14,
    "start_time": "2022-07-15T20:27:56.690Z"
   },
   {
    "duration": 13,
    "start_time": "2022-07-15T20:28:21.483Z"
   },
   {
    "duration": 12,
    "start_time": "2022-07-15T20:28:33.113Z"
   },
   {
    "duration": 13,
    "start_time": "2022-07-15T20:28:37.346Z"
   },
   {
    "duration": 15,
    "start_time": "2022-07-15T20:28:40.603Z"
   },
   {
    "duration": 12,
    "start_time": "2022-07-15T20:28:42.355Z"
   },
   {
    "duration": 15,
    "start_time": "2022-07-15T20:28:46.730Z"
   },
   {
    "duration": 13,
    "start_time": "2022-07-15T20:28:51.553Z"
   },
   {
    "duration": 12,
    "start_time": "2022-07-15T20:29:18.361Z"
   },
   {
    "duration": 47,
    "start_time": "2022-07-15T20:29:28.825Z"
   },
   {
    "duration": 443,
    "start_time": "2022-07-15T20:29:33.211Z"
   },
   {
    "duration": 20,
    "start_time": "2022-07-15T20:29:33.656Z"
   },
   {
    "duration": 19,
    "start_time": "2022-07-15T20:29:33.678Z"
   },
   {
    "duration": 11,
    "start_time": "2022-07-15T20:29:33.699Z"
   },
   {
    "duration": 33,
    "start_time": "2022-07-15T20:29:33.712Z"
   },
   {
    "duration": 15,
    "start_time": "2022-07-15T20:29:33.747Z"
   },
   {
    "duration": 15,
    "start_time": "2022-07-15T20:29:33.764Z"
   },
   {
    "duration": 12,
    "start_time": "2022-07-15T20:29:33.781Z"
   },
   {
    "duration": 20,
    "start_time": "2022-07-15T20:29:33.795Z"
   },
   {
    "duration": 7,
    "start_time": "2022-07-15T20:29:33.817Z"
   },
   {
    "duration": 36,
    "start_time": "2022-07-15T20:29:33.826Z"
   },
   {
    "duration": 9,
    "start_time": "2022-07-15T20:29:33.864Z"
   },
   {
    "duration": 32,
    "start_time": "2022-07-15T20:29:33.874Z"
   },
   {
    "duration": 26,
    "start_time": "2022-07-15T20:29:33.907Z"
   },
   {
    "duration": 16,
    "start_time": "2022-07-15T20:29:33.935Z"
   },
   {
    "duration": 11,
    "start_time": "2022-07-15T20:29:33.952Z"
   },
   {
    "duration": 17,
    "start_time": "2022-07-15T20:29:33.965Z"
   },
   {
    "duration": 19,
    "start_time": "2022-07-15T20:29:33.983Z"
   },
   {
    "duration": 6,
    "start_time": "2022-07-15T20:29:34.004Z"
   },
   {
    "duration": 14,
    "start_time": "2022-07-15T20:29:34.011Z"
   },
   {
    "duration": 35,
    "start_time": "2022-07-15T20:29:34.026Z"
   },
   {
    "duration": 13,
    "start_time": "2022-07-15T20:29:37.417Z"
   },
   {
    "duration": 13,
    "start_time": "2022-07-15T20:29:41.969Z"
   },
   {
    "duration": 11,
    "start_time": "2022-07-15T20:30:27.354Z"
   },
   {
    "duration": 12,
    "start_time": "2022-07-15T20:30:40.306Z"
   },
   {
    "duration": 12,
    "start_time": "2022-07-15T20:30:45.280Z"
   },
   {
    "duration": 12,
    "start_time": "2022-07-15T20:32:36.583Z"
   },
   {
    "duration": 12,
    "start_time": "2022-07-15T20:32:40.247Z"
   },
   {
    "duration": 10,
    "start_time": "2022-07-15T20:34:20.486Z"
   },
   {
    "duration": 13,
    "start_time": "2022-07-15T20:34:29.918Z"
   },
   {
    "duration": 4,
    "start_time": "2022-07-15T20:44:36.208Z"
   },
   {
    "duration": 773,
    "start_time": "2022-07-15T20:45:26.745Z"
   },
   {
    "duration": 723,
    "start_time": "2022-07-15T20:45:49.784Z"
   },
   {
    "duration": 773,
    "start_time": "2022-07-15T20:45:52.472Z"
   },
   {
    "duration": 70,
    "start_time": "2022-07-15T20:46:00.712Z"
   },
   {
    "duration": 13,
    "start_time": "2022-07-15T20:46:00.784Z"
   },
   {
    "duration": 23,
    "start_time": "2022-07-15T20:46:00.799Z"
   },
   {
    "duration": 18,
    "start_time": "2022-07-15T20:46:00.824Z"
   },
   {
    "duration": 39,
    "start_time": "2022-07-15T20:46:00.844Z"
   },
   {
    "duration": 3,
    "start_time": "2022-07-15T20:46:00.885Z"
   },
   {
    "duration": 15,
    "start_time": "2022-07-15T20:46:00.889Z"
   },
   {
    "duration": 5,
    "start_time": "2022-07-15T20:46:00.906Z"
   },
   {
    "duration": 20,
    "start_time": "2022-07-15T20:46:00.913Z"
   },
   {
    "duration": 6,
    "start_time": "2022-07-15T20:46:00.935Z"
   },
   {
    "duration": 51,
    "start_time": "2022-07-15T20:46:00.942Z"
   },
   {
    "duration": 10,
    "start_time": "2022-07-15T20:46:00.994Z"
   },
   {
    "duration": 7,
    "start_time": "2022-07-15T20:46:01.005Z"
   },
   {
    "duration": 38,
    "start_time": "2022-07-15T20:46:01.013Z"
   },
   {
    "duration": 27,
    "start_time": "2022-07-15T20:46:01.053Z"
   },
   {
    "duration": 11,
    "start_time": "2022-07-15T20:46:01.082Z"
   },
   {
    "duration": 16,
    "start_time": "2022-07-15T20:46:01.095Z"
   },
   {
    "duration": 28,
    "start_time": "2022-07-15T20:46:01.112Z"
   },
   {
    "duration": 35,
    "start_time": "2022-07-15T20:46:01.141Z"
   },
   {
    "duration": 17,
    "start_time": "2022-07-15T20:46:01.178Z"
   },
   {
    "duration": 28,
    "start_time": "2022-07-15T20:46:01.197Z"
   },
   {
    "duration": 710,
    "start_time": "2022-07-15T20:46:02.239Z"
   },
   {
    "duration": 13,
    "start_time": "2022-07-15T20:46:07.704Z"
   },
   {
    "duration": 12,
    "start_time": "2022-07-15T20:49:43.168Z"
   },
   {
    "duration": 12,
    "start_time": "2022-07-15T20:49:46.551Z"
   },
   {
    "duration": 12,
    "start_time": "2022-07-15T20:49:52.222Z"
   },
   {
    "duration": 12,
    "start_time": "2022-07-15T20:50:48.382Z"
   },
   {
    "duration": 12,
    "start_time": "2022-07-15T20:50:51.590Z"
   },
   {
    "duration": 21,
    "start_time": "2022-07-15T20:52:10.085Z"
   },
   {
    "duration": 18,
    "start_time": "2022-07-15T20:52:47.142Z"
   },
   {
    "duration": 24,
    "start_time": "2022-07-15T20:53:34.941Z"
   },
   {
    "duration": 20,
    "start_time": "2022-07-15T20:54:04.469Z"
   },
   {
    "duration": 19,
    "start_time": "2022-07-15T20:54:44.600Z"
   },
   {
    "duration": 21,
    "start_time": "2022-07-15T20:54:48.516Z"
   },
   {
    "duration": 690,
    "start_time": "2022-07-15T20:54:56.907Z"
   },
   {
    "duration": 14,
    "start_time": "2022-07-15T20:55:02.310Z"
   },
   {
    "duration": 16,
    "start_time": "2022-07-15T20:55:08.244Z"
   },
   {
    "duration": 19,
    "start_time": "2022-07-15T20:58:47.476Z"
   },
   {
    "duration": 17,
    "start_time": "2022-07-15T20:58:54.195Z"
   },
   {
    "duration": 13,
    "start_time": "2022-07-15T20:58:57.988Z"
   },
   {
    "duration": 17,
    "start_time": "2022-07-15T20:59:01.530Z"
   },
   {
    "duration": 15,
    "start_time": "2022-07-15T20:59:29.082Z"
   },
   {
    "duration": 14,
    "start_time": "2022-07-15T21:00:41.250Z"
   },
   {
    "duration": 14,
    "start_time": "2022-07-15T21:00:51.338Z"
   },
   {
    "duration": 13,
    "start_time": "2022-07-15T21:00:55.083Z"
   },
   {
    "duration": 15,
    "start_time": "2022-07-15T21:00:58.637Z"
   },
   {
    "duration": 19,
    "start_time": "2022-07-15T21:02:27.451Z"
   },
   {
    "duration": 19,
    "start_time": "2022-07-15T21:04:01.660Z"
   },
   {
    "duration": 17,
    "start_time": "2022-07-15T21:04:11.851Z"
   },
   {
    "duration": 980,
    "start_time": "2022-07-15T21:10:26.938Z"
   },
   {
    "duration": 19,
    "start_time": "2022-07-15T21:10:36.341Z"
   },
   {
    "duration": 6,
    "start_time": "2022-07-15T21:12:03.801Z"
   },
   {
    "duration": 9,
    "start_time": "2022-07-15T21:12:10.809Z"
   },
   {
    "duration": 6,
    "start_time": "2022-07-15T21:12:14.974Z"
   },
   {
    "duration": 6,
    "start_time": "2022-07-15T21:12:21.337Z"
   },
   {
    "duration": 10,
    "start_time": "2022-07-15T21:13:48.176Z"
   },
   {
    "duration": 52,
    "start_time": "2022-07-15T21:13:55.882Z"
   },
   {
    "duration": 10,
    "start_time": "2022-07-15T21:14:00.193Z"
   },
   {
    "duration": 11,
    "start_time": "2022-07-15T21:14:08.273Z"
   },
   {
    "duration": 5,
    "start_time": "2022-07-15T21:14:56.345Z"
   },
   {
    "duration": 5,
    "start_time": "2022-07-15T21:15:06.828Z"
   },
   {
    "duration": 5,
    "start_time": "2022-07-15T21:15:20.933Z"
   },
   {
    "duration": 399,
    "start_time": "2022-07-15T21:15:23.385Z"
   },
   {
    "duration": 16,
    "start_time": "2022-07-15T21:15:33.056Z"
   },
   {
    "duration": 17,
    "start_time": "2022-07-15T21:15:35.232Z"
   },
   {
    "duration": 5,
    "start_time": "2022-07-15T21:17:31.224Z"
   },
   {
    "duration": 15,
    "start_time": "2022-07-15T21:18:17.016Z"
   },
   {
    "duration": 12,
    "start_time": "2022-07-15T21:18:23.129Z"
   },
   {
    "duration": 4,
    "start_time": "2022-07-15T21:21:48.311Z"
   },
   {
    "duration": 10,
    "start_time": "2022-07-15T21:23:30.273Z"
   },
   {
    "duration": 7,
    "start_time": "2022-07-15T21:27:25.957Z"
   },
   {
    "duration": 5,
    "start_time": "2022-07-15T21:27:32.044Z"
   },
   {
    "duration": 15,
    "start_time": "2022-07-15T21:28:05.477Z"
   },
   {
    "duration": 15,
    "start_time": "2022-07-15T21:29:08.840Z"
   },
   {
    "duration": 16,
    "start_time": "2022-07-15T21:29:16.789Z"
   },
   {
    "duration": 13,
    "start_time": "2022-07-15T21:29:34.054Z"
   },
   {
    "duration": 13,
    "start_time": "2022-07-15T21:29:40.227Z"
   },
   {
    "duration": 14,
    "start_time": "2022-07-15T21:30:07.588Z"
   },
   {
    "duration": 19,
    "start_time": "2022-07-15T21:30:13.604Z"
   },
   {
    "duration": 19,
    "start_time": "2022-07-15T21:30:53.573Z"
   },
   {
    "duration": 14,
    "start_time": "2022-07-15T21:30:55.628Z"
   },
   {
    "duration": 17,
    "start_time": "2022-07-15T21:31:00.764Z"
   },
   {
    "duration": 16,
    "start_time": "2022-07-15T21:31:02.980Z"
   },
   {
    "duration": 14,
    "start_time": "2022-07-15T21:31:11.908Z"
   },
   {
    "duration": 441,
    "start_time": "2022-07-15T21:31:21.624Z"
   },
   {
    "duration": 27,
    "start_time": "2022-07-15T21:31:22.067Z"
   },
   {
    "duration": 13,
    "start_time": "2022-07-15T21:31:22.100Z"
   },
   {
    "duration": 9,
    "start_time": "2022-07-15T21:31:22.115Z"
   },
   {
    "duration": 55,
    "start_time": "2022-07-15T21:31:22.125Z"
   },
   {
    "duration": 3,
    "start_time": "2022-07-15T21:31:22.182Z"
   },
   {
    "duration": 12,
    "start_time": "2022-07-15T21:31:22.187Z"
   },
   {
    "duration": 4,
    "start_time": "2022-07-15T21:31:22.200Z"
   },
   {
    "duration": 9,
    "start_time": "2022-07-15T21:31:22.205Z"
   },
   {
    "duration": 11,
    "start_time": "2022-07-15T21:31:22.216Z"
   },
   {
    "duration": 52,
    "start_time": "2022-07-15T21:31:22.229Z"
   },
   {
    "duration": 9,
    "start_time": "2022-07-15T21:31:22.282Z"
   },
   {
    "duration": 3,
    "start_time": "2022-07-15T21:31:22.293Z"
   },
   {
    "duration": 19,
    "start_time": "2022-07-15T21:31:22.297Z"
   },
   {
    "duration": 15,
    "start_time": "2022-07-15T21:31:22.317Z"
   },
   {
    "duration": 37,
    "start_time": "2022-07-15T21:31:22.333Z"
   },
   {
    "duration": 5,
    "start_time": "2022-07-15T21:31:22.372Z"
   },
   {
    "duration": 16,
    "start_time": "2022-07-15T21:31:22.379Z"
   },
   {
    "duration": 8,
    "start_time": "2022-07-15T21:31:22.396Z"
   },
   {
    "duration": 4,
    "start_time": "2022-07-15T21:31:22.406Z"
   },
   {
    "duration": 29,
    "start_time": "2022-07-15T21:31:22.411Z"
   },
   {
    "duration": 14,
    "start_time": "2022-07-15T21:31:25.073Z"
   },
   {
    "duration": 22,
    "start_time": "2022-07-15T21:31:28.461Z"
   },
   {
    "duration": 13,
    "start_time": "2022-07-15T21:31:43.748Z"
   },
   {
    "duration": 14,
    "start_time": "2022-07-15T21:31:56.812Z"
   },
   {
    "duration": 14,
    "start_time": "2022-07-15T21:33:24.977Z"
   },
   {
    "duration": 18,
    "start_time": "2022-07-15T21:33:27.831Z"
   },
   {
    "duration": 18,
    "start_time": "2022-07-15T21:33:56.516Z"
   },
   {
    "duration": 22,
    "start_time": "2022-07-15T21:33:59.573Z"
   },
   {
    "duration": 13,
    "start_time": "2022-07-15T21:34:05.835Z"
   },
   {
    "duration": 14,
    "start_time": "2022-07-15T21:34:33.299Z"
   },
   {
    "duration": 747,
    "start_time": "2022-07-15T21:34:42.523Z"
   },
   {
    "duration": 16,
    "start_time": "2022-07-15T21:34:49.091Z"
   },
   {
    "duration": 14,
    "start_time": "2022-07-15T21:34:51.356Z"
   },
   {
    "duration": 16,
    "start_time": "2022-07-15T21:34:54.651Z"
   },
   {
    "duration": 11,
    "start_time": "2022-07-15T21:34:59.763Z"
   },
   {
    "duration": 16,
    "start_time": "2022-07-15T21:35:02.123Z"
   },
   {
    "duration": 29,
    "start_time": "2022-07-15T21:35:04.659Z"
   },
   {
    "duration": 6,
    "start_time": "2022-07-15T21:35:45.059Z"
   },
   {
    "duration": 16,
    "start_time": "2022-07-15T21:36:05.740Z"
   },
   {
    "duration": 23,
    "start_time": "2022-07-15T21:36:17.147Z"
   },
   {
    "duration": 12,
    "start_time": "2022-07-15T21:36:29.995Z"
   },
   {
    "duration": 17,
    "start_time": "2022-07-15T21:36:32.851Z"
   },
   {
    "duration": 14,
    "start_time": "2022-07-15T21:39:21.426Z"
   },
   {
    "duration": 1047,
    "start_time": "2022-07-15T21:51:44.901Z"
   },
   {
    "duration": 14,
    "start_time": "2022-07-15T21:51:49.470Z"
   },
   {
    "duration": 14,
    "start_time": "2022-07-15T21:52:02.853Z"
   },
   {
    "duration": 14,
    "start_time": "2022-07-15T21:52:11.285Z"
   },
   {
    "duration": 14,
    "start_time": "2022-07-15T21:52:19.245Z"
   },
   {
    "duration": 13,
    "start_time": "2022-07-15T21:52:23.357Z"
   },
   {
    "duration": 13,
    "start_time": "2022-07-15T21:52:59.126Z"
   },
   {
    "duration": 15,
    "start_time": "2022-07-15T21:56:53.988Z"
   },
   {
    "duration": 15,
    "start_time": "2022-07-15T21:56:58.541Z"
   },
   {
    "duration": 18,
    "start_time": "2022-07-15T21:57:04.516Z"
   },
   {
    "duration": 14,
    "start_time": "2022-07-15T21:57:07.181Z"
   },
   {
    "duration": 14,
    "start_time": "2022-07-15T21:57:10.012Z"
   },
   {
    "duration": 14,
    "start_time": "2022-07-15T21:57:12.828Z"
   },
   {
    "duration": 14,
    "start_time": "2022-07-15T21:59:51.101Z"
   },
   {
    "duration": 14,
    "start_time": "2022-07-15T22:00:55.491Z"
   },
   {
    "duration": 16,
    "start_time": "2022-07-15T22:02:52.851Z"
   },
   {
    "duration": 17,
    "start_time": "2022-07-15T22:03:38.226Z"
   },
   {
    "duration": 16,
    "start_time": "2022-07-15T22:04:10.466Z"
   },
   {
    "duration": 15,
    "start_time": "2022-07-15T22:04:19.122Z"
   },
   {
    "duration": 15,
    "start_time": "2022-07-15T22:04:46.010Z"
   },
   {
    "duration": 15,
    "start_time": "2022-07-15T22:04:51.867Z"
   },
   {
    "duration": 17,
    "start_time": "2022-07-15T22:05:08.874Z"
   },
   {
    "duration": 17,
    "start_time": "2022-07-15T22:05:35.402Z"
   },
   {
    "duration": 17,
    "start_time": "2022-07-15T22:05:47.033Z"
   },
   {
    "duration": 18,
    "start_time": "2022-07-15T22:08:14.752Z"
   },
   {
    "duration": 14,
    "start_time": "2022-07-15T22:08:35.104Z"
   },
   {
    "duration": 16,
    "start_time": "2022-07-15T22:09:37.920Z"
   },
   {
    "duration": 16,
    "start_time": "2022-07-15T22:09:43.279Z"
   },
   {
    "duration": 16,
    "start_time": "2022-07-15T22:09:48.510Z"
   },
   {
    "duration": 17,
    "start_time": "2022-07-15T22:11:23.246Z"
   },
   {
    "duration": 15,
    "start_time": "2022-07-15T22:11:29.117Z"
   },
   {
    "duration": 17,
    "start_time": "2022-07-15T22:12:58.964Z"
   },
   {
    "duration": 21,
    "start_time": "2022-07-15T22:13:58.991Z"
   },
   {
    "duration": 15,
    "start_time": "2022-07-15T22:14:02.462Z"
   },
   {
    "duration": 20,
    "start_time": "2022-07-15T22:14:05.155Z"
   },
   {
    "duration": 16,
    "start_time": "2022-07-15T22:14:14.020Z"
   },
   {
    "duration": 20,
    "start_time": "2022-07-15T22:16:12.034Z"
   },
   {
    "duration": 18,
    "start_time": "2022-07-15T22:16:23.458Z"
   },
   {
    "duration": 16,
    "start_time": "2022-07-15T22:16:28.090Z"
   },
   {
    "duration": 20,
    "start_time": "2022-07-15T22:16:56.425Z"
   },
   {
    "duration": 19,
    "start_time": "2022-07-15T22:17:05.145Z"
   },
   {
    "duration": 16,
    "start_time": "2022-07-15T22:17:52.923Z"
   },
   {
    "duration": 17,
    "start_time": "2022-07-15T22:18:41.633Z"
   },
   {
    "duration": 19,
    "start_time": "2022-07-15T22:18:48.119Z"
   },
   {
    "duration": 20,
    "start_time": "2022-07-15T22:18:49.953Z"
   },
   {
    "duration": 17,
    "start_time": "2022-07-15T22:18:54.297Z"
   },
   {
    "duration": 50,
    "start_time": "2022-07-17T18:29:20.516Z"
   },
   {
    "duration": 678,
    "start_time": "2022-07-17T18:29:23.974Z"
   },
   {
    "duration": 21,
    "start_time": "2022-07-17T18:29:24.654Z"
   },
   {
    "duration": 14,
    "start_time": "2022-07-17T18:29:24.677Z"
   },
   {
    "duration": 9,
    "start_time": "2022-07-17T18:29:24.692Z"
   },
   {
    "duration": 31,
    "start_time": "2022-07-17T18:29:24.702Z"
   },
   {
    "duration": 3,
    "start_time": "2022-07-17T18:29:24.735Z"
   },
   {
    "duration": 19,
    "start_time": "2022-07-17T18:29:24.739Z"
   },
   {
    "duration": 8,
    "start_time": "2022-07-17T18:29:24.759Z"
   },
   {
    "duration": 22,
    "start_time": "2022-07-17T18:29:24.768Z"
   },
   {
    "duration": 10,
    "start_time": "2022-07-17T18:29:24.793Z"
   },
   {
    "duration": 39,
    "start_time": "2022-07-17T18:29:24.805Z"
   },
   {
    "duration": 8,
    "start_time": "2022-07-17T18:29:24.845Z"
   },
   {
    "duration": 17,
    "start_time": "2022-07-17T18:29:24.855Z"
   },
   {
    "duration": 38,
    "start_time": "2022-07-17T18:29:24.873Z"
   },
   {
    "duration": 14,
    "start_time": "2022-07-17T18:29:24.912Z"
   },
   {
    "duration": 19,
    "start_time": "2022-07-17T18:29:24.928Z"
   },
   {
    "duration": 16,
    "start_time": "2022-07-17T18:29:24.949Z"
   },
   {
    "duration": 25,
    "start_time": "2022-07-17T18:29:24.966Z"
   },
   {
    "duration": 16,
    "start_time": "2022-07-17T18:29:24.992Z"
   },
   {
    "duration": 22,
    "start_time": "2022-07-17T18:29:25.009Z"
   },
   {
    "duration": 45,
    "start_time": "2022-07-17T18:29:25.033Z"
   },
   {
    "duration": 21,
    "start_time": "2022-07-17T18:29:25.080Z"
   },
   {
    "duration": 20,
    "start_time": "2022-07-17T18:29:25.102Z"
   },
   {
    "duration": 857,
    "start_time": "2022-07-17T18:29:25.123Z"
   },
   {
    "duration": 20,
    "start_time": "2022-07-17T18:29:25.981Z"
   },
   {
    "duration": 17,
    "start_time": "2022-07-17T18:29:29.591Z"
   },
   {
    "duration": 17,
    "start_time": "2022-07-17T18:29:31.446Z"
   },
   {
    "duration": 969,
    "start_time": "2022-07-17T19:19:12.156Z"
   },
   {
    "duration": 16,
    "start_time": "2022-07-17T19:19:31.748Z"
   },
   {
    "duration": 19,
    "start_time": "2022-07-17T19:20:20.101Z"
   },
   {
    "duration": 21,
    "start_time": "2022-07-17T19:20:23.189Z"
   },
   {
    "duration": 19,
    "start_time": "2022-07-17T19:20:24.980Z"
   },
   {
    "duration": 18,
    "start_time": "2022-07-17T19:20:38.317Z"
   },
   {
    "duration": 22,
    "start_time": "2022-07-17T19:20:41.333Z"
   },
   {
    "duration": 21,
    "start_time": "2022-07-17T19:21:46.933Z"
   },
   {
    "duration": 17,
    "start_time": "2022-07-17T19:21:48.812Z"
   },
   {
    "duration": 13,
    "start_time": "2022-07-17T19:21:51.476Z"
   },
   {
    "duration": 19,
    "start_time": "2022-07-17T19:23:37.316Z"
   },
   {
    "duration": 22,
    "start_time": "2022-07-17T19:23:41.372Z"
   },
   {
    "duration": 25,
    "start_time": "2022-07-17T19:23:45.036Z"
   },
   {
    "duration": 9,
    "start_time": "2022-07-17T19:23:58.644Z"
   },
   {
    "duration": 6,
    "start_time": "2022-07-17T19:42:33.502Z"
   },
   {
    "duration": 9,
    "start_time": "2022-07-17T19:42:36.590Z"
   },
   {
    "duration": 24,
    "start_time": "2022-07-17T19:44:20.469Z"
   },
   {
    "duration": 19,
    "start_time": "2022-07-17T20:06:03.059Z"
   },
   {
    "duration": 13,
    "start_time": "2022-07-17T20:09:21.138Z"
   },
   {
    "duration": 17,
    "start_time": "2022-07-17T20:09:34.745Z"
   },
   {
    "duration": 21,
    "start_time": "2022-07-17T20:10:27.585Z"
   },
   {
    "duration": 18,
    "start_time": "2022-07-17T20:12:21.721Z"
   },
   {
    "duration": 1053,
    "start_time": "2022-07-17T20:14:15.168Z"
   },
   {
    "duration": 18,
    "start_time": "2022-07-17T20:14:21.275Z"
   },
   {
    "duration": 22,
    "start_time": "2022-07-17T20:16:17.023Z"
   },
   {
    "duration": 751,
    "start_time": "2022-07-17T20:17:52.927Z"
   },
   {
    "duration": 759,
    "start_time": "2022-07-17T20:17:58.870Z"
   },
   {
    "duration": 18,
    "start_time": "2022-07-17T20:18:03.254Z"
   },
   {
    "duration": 17,
    "start_time": "2022-07-17T20:18:32.359Z"
   },
   {
    "duration": 16,
    "start_time": "2022-07-17T20:18:39.550Z"
   },
   {
    "duration": 16,
    "start_time": "2022-07-17T20:22:57.300Z"
   },
   {
    "duration": 17,
    "start_time": "2022-07-17T20:23:23.206Z"
   },
   {
    "duration": 19,
    "start_time": "2022-07-17T20:23:33.036Z"
   },
   {
    "duration": 13,
    "start_time": "2022-07-17T20:23:37.819Z"
   },
   {
    "duration": 18,
    "start_time": "2022-07-17T20:23:41.260Z"
   },
   {
    "duration": 19,
    "start_time": "2022-07-17T20:24:32.947Z"
   },
   {
    "duration": 17,
    "start_time": "2022-07-17T20:24:39.419Z"
   },
   {
    "duration": 17,
    "start_time": "2022-07-17T20:24:44.202Z"
   },
   {
    "duration": 18,
    "start_time": "2022-07-17T20:24:52.028Z"
   },
   {
    "duration": 207,
    "start_time": "2022-07-17T20:25:54.460Z"
   },
   {
    "duration": 245,
    "start_time": "2022-07-17T20:25:58.331Z"
   },
   {
    "duration": 17,
    "start_time": "2022-07-17T20:26:00.724Z"
   },
   {
    "duration": 15,
    "start_time": "2022-07-17T20:26:06.947Z"
   },
   {
    "duration": 14,
    "start_time": "2022-07-17T20:26:18.484Z"
   },
   {
    "duration": 20,
    "start_time": "2022-07-17T20:26:21.682Z"
   },
   {
    "duration": 19,
    "start_time": "2022-07-17T20:26:29.195Z"
   },
   {
    "duration": 207,
    "start_time": "2022-07-17T20:26:34.755Z"
   },
   {
    "duration": 19,
    "start_time": "2022-07-17T20:26:38.042Z"
   },
   {
    "duration": 19,
    "start_time": "2022-07-17T20:26:42.915Z"
   },
   {
    "duration": 20,
    "start_time": "2022-07-17T20:30:01.658Z"
   },
   {
    "duration": 14,
    "start_time": "2022-07-17T20:33:39.650Z"
   },
   {
    "duration": 19,
    "start_time": "2022-07-17T20:33:45.361Z"
   },
   {
    "duration": 188,
    "start_time": "2022-07-17T20:33:53.325Z"
   },
   {
    "duration": 275,
    "start_time": "2022-07-17T20:33:59.243Z"
   },
   {
    "duration": 210,
    "start_time": "2022-07-17T20:34:19.850Z"
   },
   {
    "duration": 194,
    "start_time": "2022-07-17T20:34:45.609Z"
   },
   {
    "duration": 19,
    "start_time": "2022-07-17T20:34:49.361Z"
   },
   {
    "duration": 17,
    "start_time": "2022-07-17T20:40:38.665Z"
   },
   {
    "duration": 26,
    "start_time": "2022-07-17T20:47:27.389Z"
   },
   {
    "duration": 22,
    "start_time": "2022-07-17T20:47:31.765Z"
   },
   {
    "duration": 21,
    "start_time": "2022-07-17T20:47:41.352Z"
   },
   {
    "duration": 18,
    "start_time": "2022-07-17T20:47:44.005Z"
   },
   {
    "duration": 18,
    "start_time": "2022-07-17T20:47:59.693Z"
   },
   {
    "duration": 22,
    "start_time": "2022-07-17T20:48:31.164Z"
   },
   {
    "duration": 18,
    "start_time": "2022-07-17T20:48:38.151Z"
   },
   {
    "duration": 21,
    "start_time": "2022-07-17T20:48:46.021Z"
   },
   {
    "duration": 20,
    "start_time": "2022-07-17T20:49:02.709Z"
   },
   {
    "duration": 25,
    "start_time": "2022-07-17T20:49:16.772Z"
   },
   {
    "duration": 18,
    "start_time": "2022-07-17T20:49:28.908Z"
   },
   {
    "duration": 18,
    "start_time": "2022-07-17T20:50:00.397Z"
   },
   {
    "duration": 22,
    "start_time": "2022-07-17T20:51:16.156Z"
   },
   {
    "duration": 10,
    "start_time": "2022-07-17T20:52:23.597Z"
   },
   {
    "duration": 10,
    "start_time": "2022-07-17T20:52:28.355Z"
   },
   {
    "duration": 12,
    "start_time": "2022-07-17T20:52:38.771Z"
   },
   {
    "duration": 20,
    "start_time": "2022-07-17T20:53:34.387Z"
   },
   {
    "duration": 21,
    "start_time": "2022-07-17T20:53:43.363Z"
   },
   {
    "duration": 19,
    "start_time": "2022-07-17T20:55:24.334Z"
   },
   {
    "duration": 21,
    "start_time": "2022-07-17T20:55:27.802Z"
   },
   {
    "duration": 18,
    "start_time": "2022-07-17T20:55:29.522Z"
   },
   {
    "duration": 24,
    "start_time": "2022-07-17T20:55:31.810Z"
   },
   {
    "duration": 43,
    "start_time": "2022-07-17T20:57:24.290Z"
   },
   {
    "duration": 19,
    "start_time": "2022-07-17T20:57:38.602Z"
   },
   {
    "duration": 19,
    "start_time": "2022-07-17T20:58:07.404Z"
   },
   {
    "duration": 23,
    "start_time": "2022-07-17T20:58:12.008Z"
   },
   {
    "duration": 20,
    "start_time": "2022-07-17T20:58:16.050Z"
   },
   {
    "duration": 22,
    "start_time": "2022-07-17T20:58:19.641Z"
   },
   {
    "duration": 26,
    "start_time": "2022-07-17T20:58:25.993Z"
   },
   {
    "duration": 19,
    "start_time": "2022-07-17T20:58:55.648Z"
   },
   {
    "duration": 21,
    "start_time": "2022-07-17T20:59:00.481Z"
   },
   {
    "duration": 24,
    "start_time": "2022-07-17T20:59:03.081Z"
   },
   {
    "duration": 27,
    "start_time": "2022-07-17T20:59:07.026Z"
   },
   {
    "duration": 28,
    "start_time": "2022-07-17T20:59:13.425Z"
   },
   {
    "duration": 18,
    "start_time": "2022-07-17T21:01:56.471Z"
   },
   {
    "duration": 19,
    "start_time": "2022-07-17T21:06:24.660Z"
   },
   {
    "duration": 19,
    "start_time": "2022-07-17T21:06:47.228Z"
   },
   {
    "duration": 14,
    "start_time": "2022-07-17T21:13:43.840Z"
   },
   {
    "duration": 21,
    "start_time": "2022-07-17T21:13:48.064Z"
   },
   {
    "duration": 19,
    "start_time": "2022-07-17T21:14:00.120Z"
   },
   {
    "duration": 138,
    "start_time": "2022-07-17T21:14:14.317Z"
   },
   {
    "duration": 140,
    "start_time": "2022-07-17T21:15:04.895Z"
   },
   {
    "duration": 127,
    "start_time": "2022-07-17T21:15:16.368Z"
   },
   {
    "duration": 125,
    "start_time": "2022-07-17T21:15:59.120Z"
   },
   {
    "duration": 146,
    "start_time": "2022-07-17T21:17:20.141Z"
   },
   {
    "duration": 137,
    "start_time": "2022-07-17T21:18:50.182Z"
   },
   {
    "duration": 35,
    "start_time": "2022-07-17T21:24:23.981Z"
   },
   {
    "duration": 137,
    "start_time": "2022-07-17T21:24:29.020Z"
   },
   {
    "duration": 224,
    "start_time": "2022-07-17T21:27:01.652Z"
   },
   {
    "duration": 144,
    "start_time": "2022-07-17T21:30:08.850Z"
   },
   {
    "duration": 127,
    "start_time": "2022-07-17T21:30:26.304Z"
   },
   {
    "duration": 5,
    "start_time": "2022-07-17T21:30:52.009Z"
   },
   {
    "duration": 119,
    "start_time": "2022-07-17T21:30:54.633Z"
   },
   {
    "duration": 5,
    "start_time": "2022-07-17T21:32:19.271Z"
   },
   {
    "duration": 21,
    "start_time": "2022-07-17T21:32:21.039Z"
   },
   {
    "duration": 5,
    "start_time": "2022-07-17T21:32:23.712Z"
   },
   {
    "duration": 15,
    "start_time": "2022-07-17T21:32:25.103Z"
   },
   {
    "duration": 5,
    "start_time": "2022-07-17T21:33:46.830Z"
   },
   {
    "duration": 126,
    "start_time": "2022-07-17T21:33:48.655Z"
   },
   {
    "duration": 5,
    "start_time": "2022-07-17T21:35:27.071Z"
   },
   {
    "duration": 125,
    "start_time": "2022-07-17T21:35:28.271Z"
   },
   {
    "duration": 5,
    "start_time": "2022-07-17T21:37:20.447Z"
   },
   {
    "duration": 136,
    "start_time": "2022-07-17T21:37:21.759Z"
   },
   {
    "duration": 6,
    "start_time": "2022-07-17T21:38:23.519Z"
   },
   {
    "duration": 127,
    "start_time": "2022-07-17T21:38:24.638Z"
   },
   {
    "duration": 49,
    "start_time": "2022-07-17T21:38:41.958Z"
   },
   {
    "duration": 5,
    "start_time": "2022-07-17T21:38:46.431Z"
   },
   {
    "duration": 133,
    "start_time": "2022-07-17T21:38:47.912Z"
   },
   {
    "duration": 6,
    "start_time": "2022-07-17T21:38:53.117Z"
   },
   {
    "duration": 134,
    "start_time": "2022-07-17T21:38:54.750Z"
   },
   {
    "duration": 6,
    "start_time": "2022-07-17T21:39:24.735Z"
   },
   {
    "duration": 8,
    "start_time": "2022-07-17T21:39:26.958Z"
   },
   {
    "duration": 140,
    "start_time": "2022-07-17T21:39:28.519Z"
   },
   {
    "duration": 5,
    "start_time": "2022-07-17T21:39:32.325Z"
   },
   {
    "duration": 209,
    "start_time": "2022-07-17T21:39:33.647Z"
   },
   {
    "duration": 5,
    "start_time": "2022-07-17T21:39:47.255Z"
   },
   {
    "duration": 5,
    "start_time": "2022-07-17T21:39:54.071Z"
   },
   {
    "duration": 152,
    "start_time": "2022-07-17T21:39:55.302Z"
   },
   {
    "duration": 137,
    "start_time": "2022-07-17T21:40:12.398Z"
   },
   {
    "duration": 136,
    "start_time": "2022-07-17T21:40:19.416Z"
   },
   {
    "duration": 132,
    "start_time": "2022-07-17T21:40:21.913Z"
   },
   {
    "duration": 6,
    "start_time": "2022-07-17T21:40:42.358Z"
   },
   {
    "duration": 24,
    "start_time": "2022-07-17T21:40:44.526Z"
   },
   {
    "duration": 5,
    "start_time": "2022-07-17T21:40:55.662Z"
   },
   {
    "duration": 125,
    "start_time": "2022-07-17T21:40:57.166Z"
   },
   {
    "duration": 135,
    "start_time": "2022-07-17T21:41:07.198Z"
   },
   {
    "duration": 119,
    "start_time": "2022-07-17T21:41:10.629Z"
   },
   {
    "duration": 125,
    "start_time": "2022-07-17T21:41:27.515Z"
   },
   {
    "duration": 5,
    "start_time": "2022-07-17T21:41:48.645Z"
   },
   {
    "duration": 125,
    "start_time": "2022-07-17T21:41:49.949Z"
   },
   {
    "duration": 135,
    "start_time": "2022-07-17T21:42:29.229Z"
   },
   {
    "duration": 192,
    "start_time": "2022-07-17T21:42:38.117Z"
   },
   {
    "duration": 125,
    "start_time": "2022-07-17T21:42:44.661Z"
   },
   {
    "duration": 137,
    "start_time": "2022-07-17T21:43:02.110Z"
   },
   {
    "duration": 6,
    "start_time": "2022-07-17T21:45:47.933Z"
   },
   {
    "duration": 1098,
    "start_time": "2022-07-17T21:45:58.092Z"
   },
   {
    "duration": 91,
    "start_time": "2022-07-17T21:46:00.044Z"
   },
   {
    "duration": 71,
    "start_time": "2022-07-17T21:46:02.413Z"
   },
   {
    "duration": 21,
    "start_time": "2022-07-17T21:46:02.486Z"
   },
   {
    "duration": 15,
    "start_time": "2022-07-17T21:46:02.509Z"
   },
   {
    "duration": 8,
    "start_time": "2022-07-17T21:46:02.526Z"
   },
   {
    "duration": 51,
    "start_time": "2022-07-17T21:46:02.536Z"
   },
   {
    "duration": 4,
    "start_time": "2022-07-17T21:46:02.589Z"
   },
   {
    "duration": 18,
    "start_time": "2022-07-17T21:46:02.594Z"
   },
   {
    "duration": 5,
    "start_time": "2022-07-17T21:46:02.614Z"
   },
   {
    "duration": 12,
    "start_time": "2022-07-17T21:46:02.621Z"
   },
   {
    "duration": 8,
    "start_time": "2022-07-17T21:46:02.635Z"
   },
   {
    "duration": 35,
    "start_time": "2022-07-17T21:46:02.645Z"
   },
   {
    "duration": 29,
    "start_time": "2022-07-17T21:46:02.681Z"
   },
   {
    "duration": 12,
    "start_time": "2022-07-17T21:46:02.711Z"
   },
   {
    "duration": 27,
    "start_time": "2022-07-17T21:46:02.725Z"
   },
   {
    "duration": 16,
    "start_time": "2022-07-17T21:46:02.754Z"
   },
   {
    "duration": 10,
    "start_time": "2022-07-17T21:46:02.772Z"
   },
   {
    "duration": 17,
    "start_time": "2022-07-17T21:46:02.784Z"
   },
   {
    "duration": 13,
    "start_time": "2022-07-17T21:46:02.803Z"
   },
   {
    "duration": 19,
    "start_time": "2022-07-17T21:46:02.817Z"
   },
   {
    "duration": 5,
    "start_time": "2022-07-17T21:46:02.838Z"
   },
   {
    "duration": 41,
    "start_time": "2022-07-17T21:46:02.845Z"
   },
   {
    "duration": 6,
    "start_time": "2022-07-17T21:46:02.888Z"
   },
   {
    "duration": 145,
    "start_time": "2022-07-17T21:46:04.427Z"
   },
   {
    "duration": 133,
    "start_time": "2022-07-17T21:46:06.947Z"
   },
   {
    "duration": 133,
    "start_time": "2022-07-17T21:46:08.716Z"
   },
   {
    "duration": 126,
    "start_time": "2022-07-17T21:46:10.323Z"
   },
   {
    "duration": 7,
    "start_time": "2022-07-17T21:49:01.659Z"
   },
   {
    "duration": 8,
    "start_time": "2022-07-17T21:49:06.212Z"
   },
   {
    "duration": 138,
    "start_time": "2022-07-17T21:49:07.315Z"
   },
   {
    "duration": 147,
    "start_time": "2022-07-17T21:49:13.434Z"
   },
   {
    "duration": 6,
    "start_time": "2022-07-17T21:49:52.563Z"
   },
   {
    "duration": 120,
    "start_time": "2022-07-17T21:49:54.017Z"
   },
   {
    "duration": 128,
    "start_time": "2022-07-17T21:49:57.203Z"
   },
   {
    "duration": 6,
    "start_time": "2022-07-17T21:50:26.316Z"
   },
   {
    "duration": 6,
    "start_time": "2022-07-17T21:50:27.641Z"
   },
   {
    "duration": 122,
    "start_time": "2022-07-17T21:50:29.114Z"
   },
   {
    "duration": 202,
    "start_time": "2022-07-17T21:50:31.244Z"
   },
   {
    "duration": 114,
    "start_time": "2022-07-17T21:50:35.971Z"
   },
   {
    "duration": 137,
    "start_time": "2022-07-17T21:50:39.178Z"
   },
   {
    "duration": 7,
    "start_time": "2022-07-17T21:52:49.217Z"
   },
   {
    "duration": 119,
    "start_time": "2022-07-17T21:52:50.754Z"
   },
   {
    "duration": 134,
    "start_time": "2022-07-17T21:52:54.129Z"
   },
   {
    "duration": 119,
    "start_time": "2022-07-17T21:52:57.950Z"
   },
   {
    "duration": 156,
    "start_time": "2022-07-17T21:53:01.345Z"
   },
   {
    "duration": 12,
    "start_time": "2022-07-17T21:56:02.665Z"
   },
   {
    "duration": 142,
    "start_time": "2022-07-17T21:56:04.049Z"
   },
   {
    "duration": 6,
    "start_time": "2022-07-17T21:56:08.234Z"
   },
   {
    "duration": 120,
    "start_time": "2022-07-17T21:56:09.968Z"
   },
   {
    "duration": 6,
    "start_time": "2022-07-17T21:56:28.761Z"
   },
   {
    "duration": 122,
    "start_time": "2022-07-17T21:56:30.183Z"
   },
   {
    "duration": 132,
    "start_time": "2022-07-17T21:56:36.016Z"
   },
   {
    "duration": 190,
    "start_time": "2022-07-17T21:56:38.265Z"
   },
   {
    "duration": 135,
    "start_time": "2022-07-17T21:56:40.968Z"
   },
   {
    "duration": 6,
    "start_time": "2022-07-17T21:57:26.024Z"
   },
   {
    "duration": 25,
    "start_time": "2022-07-17T21:57:27.162Z"
   },
   {
    "duration": 6,
    "start_time": "2022-07-17T21:57:31.248Z"
   },
   {
    "duration": 117,
    "start_time": "2022-07-17T21:57:32.336Z"
   },
   {
    "duration": 6,
    "start_time": "2022-07-17T22:01:53.670Z"
   },
   {
    "duration": 8,
    "start_time": "2022-07-17T22:02:19.119Z"
   },
   {
    "duration": 130,
    "start_time": "2022-07-17T22:02:21.038Z"
   },
   {
    "duration": 6,
    "start_time": "2022-07-17T22:02:50.022Z"
   },
   {
    "duration": 112,
    "start_time": "2022-07-17T22:02:51.734Z"
   },
   {
    "duration": 6,
    "start_time": "2022-07-17T22:03:43.310Z"
   },
   {
    "duration": 9,
    "start_time": "2022-07-17T22:06:13.420Z"
   },
   {
    "duration": 7,
    "start_time": "2022-07-17T22:08:05.189Z"
   },
   {
    "duration": 121,
    "start_time": "2022-07-17T22:08:09.285Z"
   },
   {
    "duration": 10,
    "start_time": "2022-07-17T22:08:27.477Z"
   },
   {
    "duration": 114,
    "start_time": "2022-07-17T22:08:29.068Z"
   },
   {
    "duration": 7,
    "start_time": "2022-07-17T22:08:45.777Z"
   },
   {
    "duration": 124,
    "start_time": "2022-07-17T22:08:47.172Z"
   },
   {
    "duration": 6,
    "start_time": "2022-07-17T22:11:36.284Z"
   },
   {
    "duration": 23,
    "start_time": "2022-07-17T22:11:37.844Z"
   },
   {
    "duration": 6,
    "start_time": "2022-07-17T22:12:54.492Z"
   },
   {
    "duration": 21,
    "start_time": "2022-07-17T22:12:56.099Z"
   },
   {
    "duration": 6,
    "start_time": "2022-07-17T22:12:59.706Z"
   },
   {
    "duration": 125,
    "start_time": "2022-07-17T22:13:01.923Z"
   },
   {
    "duration": 7,
    "start_time": "2022-07-17T22:13:07.692Z"
   },
   {
    "duration": 131,
    "start_time": "2022-07-17T22:13:08.794Z"
   },
   {
    "duration": 6,
    "start_time": "2022-07-17T22:13:16.883Z"
   },
   {
    "duration": 26,
    "start_time": "2022-07-17T22:13:18.139Z"
   },
   {
    "duration": 6,
    "start_time": "2022-07-17T22:13:44.924Z"
   },
   {
    "duration": 116,
    "start_time": "2022-07-17T22:13:46.477Z"
   },
   {
    "duration": 85,
    "start_time": "2022-07-17T22:13:51.123Z"
   },
   {
    "duration": 25,
    "start_time": "2022-07-17T22:13:52.515Z"
   },
   {
    "duration": 7,
    "start_time": "2022-07-17T22:13:55.243Z"
   },
   {
    "duration": 114,
    "start_time": "2022-07-17T22:13:56.211Z"
   },
   {
    "duration": 6,
    "start_time": "2022-07-17T22:14:22.348Z"
   },
   {
    "duration": 118,
    "start_time": "2022-07-17T22:14:40.012Z"
   },
   {
    "duration": 55,
    "start_time": "2022-07-17T22:18:48.098Z"
   },
   {
    "duration": 6,
    "start_time": "2022-07-17T22:18:52.251Z"
   },
   {
    "duration": 6,
    "start_time": "2022-07-17T22:18:59.659Z"
   },
   {
    "duration": 159,
    "start_time": "2022-07-17T22:19:01.442Z"
   },
   {
    "duration": 6,
    "start_time": "2022-07-17T22:19:11.553Z"
   },
   {
    "duration": 6,
    "start_time": "2022-07-17T22:20:22.290Z"
   },
   {
    "duration": 116,
    "start_time": "2022-07-17T22:20:23.410Z"
   },
   {
    "duration": 6,
    "start_time": "2022-07-17T22:20:48.570Z"
   },
   {
    "duration": 976,
    "start_time": "2022-07-17T22:20:50.169Z"
   },
   {
    "duration": 6,
    "start_time": "2022-07-17T22:20:57.978Z"
   },
   {
    "duration": 872,
    "start_time": "2022-07-17T22:20:59.705Z"
   },
   {
    "duration": 18,
    "start_time": "2022-07-17T22:21:14.496Z"
   },
   {
    "duration": 14,
    "start_time": "2022-07-17T22:21:21.587Z"
   },
   {
    "duration": 13,
    "start_time": "2022-07-17T22:21:24.048Z"
   },
   {
    "duration": 6,
    "start_time": "2022-07-17T22:21:40.449Z"
   },
   {
    "duration": 110,
    "start_time": "2022-07-17T22:21:41.625Z"
   },
   {
    "duration": 13,
    "start_time": "2022-07-17T22:21:56.392Z"
   },
   {
    "duration": 11,
    "start_time": "2022-07-17T22:22:09.929Z"
   },
   {
    "duration": 6,
    "start_time": "2022-07-17T22:22:12.792Z"
   },
   {
    "duration": 115,
    "start_time": "2022-07-17T22:22:14.143Z"
   },
   {
    "duration": 6,
    "start_time": "2022-07-17T22:23:10.296Z"
   },
   {
    "duration": 809,
    "start_time": "2022-07-17T22:23:11.800Z"
   },
   {
    "duration": 8,
    "start_time": "2022-07-17T22:23:34.168Z"
   },
   {
    "duration": 124,
    "start_time": "2022-07-17T22:23:35.864Z"
   },
   {
    "duration": 6,
    "start_time": "2022-07-17T22:23:39.976Z"
   },
   {
    "duration": 125,
    "start_time": "2022-07-17T22:23:41.514Z"
   },
   {
    "duration": 141,
    "start_time": "2022-07-17T22:23:46.048Z"
   },
   {
    "duration": 181,
    "start_time": "2022-07-17T22:23:58.241Z"
   },
   {
    "duration": 7,
    "start_time": "2022-07-17T22:25:09.041Z"
   },
   {
    "duration": 137,
    "start_time": "2022-07-17T22:25:10.943Z"
   },
   {
    "duration": 164,
    "start_time": "2022-07-17T22:25:17.352Z"
   },
   {
    "duration": 6,
    "start_time": "2022-07-17T22:26:32.056Z"
   },
   {
    "duration": 113,
    "start_time": "2022-07-17T22:26:34.127Z"
   },
   {
    "duration": 130,
    "start_time": "2022-07-17T22:26:36.375Z"
   },
   {
    "duration": 106,
    "start_time": "2022-07-17T22:26:46.327Z"
   },
   {
    "duration": 5,
    "start_time": "2022-07-17T22:27:41.056Z"
   },
   {
    "duration": 112,
    "start_time": "2022-07-17T22:27:42.215Z"
   },
   {
    "duration": 135,
    "start_time": "2022-07-17T22:27:44.199Z"
   },
   {
    "duration": 113,
    "start_time": "2022-07-17T22:27:46.103Z"
   },
   {
    "duration": 125,
    "start_time": "2022-07-17T22:28:31.455Z"
   },
   {
    "duration": 128,
    "start_time": "2022-07-17T22:28:35.135Z"
   },
   {
    "duration": 205,
    "start_time": "2022-07-17T22:28:37.846Z"
   },
   {
    "duration": 8,
    "start_time": "2022-07-17T22:29:15.614Z"
   },
   {
    "duration": 25,
    "start_time": "2022-07-17T22:29:17.054Z"
   },
   {
    "duration": 7,
    "start_time": "2022-07-17T22:29:22.340Z"
   },
   {
    "duration": 120,
    "start_time": "2022-07-17T22:29:23.382Z"
   },
   {
    "duration": 127,
    "start_time": "2022-07-17T22:29:27.270Z"
   },
   {
    "duration": 111,
    "start_time": "2022-07-17T22:29:34.742Z"
   },
   {
    "duration": 123,
    "start_time": "2022-07-17T22:29:36.686Z"
   },
   {
    "duration": 6,
    "start_time": "2022-07-17T22:32:34.198Z"
   },
   {
    "duration": 116,
    "start_time": "2022-07-17T22:32:35.957Z"
   },
   {
    "duration": 146,
    "start_time": "2022-07-17T22:32:37.653Z"
   },
   {
    "duration": 111,
    "start_time": "2022-07-17T22:32:50.413Z"
   },
   {
    "duration": 128,
    "start_time": "2022-07-17T22:32:52.461Z"
   },
   {
    "duration": 7,
    "start_time": "2022-07-17T22:33:05.797Z"
   },
   {
    "duration": 121,
    "start_time": "2022-07-17T22:33:07.476Z"
   },
   {
    "duration": 7,
    "start_time": "2022-07-17T22:33:14.599Z"
   },
   {
    "duration": 116,
    "start_time": "2022-07-17T22:33:15.628Z"
   },
   {
    "duration": 212,
    "start_time": "2022-07-17T22:33:18.181Z"
   },
   {
    "duration": 120,
    "start_time": "2022-07-17T22:33:20.653Z"
   },
   {
    "duration": 129,
    "start_time": "2022-07-17T22:33:22.141Z"
   },
   {
    "duration": 7,
    "start_time": "2022-07-17T22:33:43.013Z"
   },
   {
    "duration": 126,
    "start_time": "2022-07-17T22:33:44.174Z"
   },
   {
    "duration": 132,
    "start_time": "2022-07-17T22:33:46.197Z"
   },
   {
    "duration": 6,
    "start_time": "2022-07-17T22:33:55.054Z"
   },
   {
    "duration": 112,
    "start_time": "2022-07-17T22:33:56.093Z"
   },
   {
    "duration": 136,
    "start_time": "2022-07-17T22:33:57.629Z"
   },
   {
    "duration": 6,
    "start_time": "2022-07-17T22:37:52.012Z"
   },
   {
    "duration": 25,
    "start_time": "2022-07-17T22:37:54.043Z"
   },
   {
    "duration": 6,
    "start_time": "2022-07-17T22:38:07.900Z"
   },
   {
    "duration": 112,
    "start_time": "2022-07-17T22:38:08.853Z"
   },
   {
    "duration": 130,
    "start_time": "2022-07-17T22:38:12.706Z"
   },
   {
    "duration": 5,
    "start_time": "2022-07-17T22:38:48.684Z"
   },
   {
    "duration": 6,
    "start_time": "2022-07-17T22:38:56.866Z"
   },
   {
    "duration": 524,
    "start_time": "2022-07-18T14:32:11.363Z"
   },
   {
    "duration": 25,
    "start_time": "2022-07-18T14:32:11.890Z"
   },
   {
    "duration": 16,
    "start_time": "2022-07-18T14:32:11.916Z"
   },
   {
    "duration": 15,
    "start_time": "2022-07-18T14:32:11.934Z"
   },
   {
    "duration": 70,
    "start_time": "2022-07-18T14:32:11.952Z"
   },
   {
    "duration": 4,
    "start_time": "2022-07-18T14:32:12.024Z"
   },
   {
    "duration": 17,
    "start_time": "2022-07-18T14:32:12.030Z"
   },
   {
    "duration": 5,
    "start_time": "2022-07-18T14:32:12.049Z"
   },
   {
    "duration": 14,
    "start_time": "2022-07-18T14:32:12.056Z"
   },
   {
    "duration": 5,
    "start_time": "2022-07-18T14:32:12.072Z"
   },
   {
    "duration": 61,
    "start_time": "2022-07-18T14:32:12.079Z"
   },
   {
    "duration": 11,
    "start_time": "2022-07-18T14:32:12.142Z"
   },
   {
    "duration": 16,
    "start_time": "2022-07-18T14:32:12.155Z"
   },
   {
    "duration": 35,
    "start_time": "2022-07-18T14:32:12.174Z"
   },
   {
    "duration": 18,
    "start_time": "2022-07-18T14:32:12.210Z"
   },
   {
    "duration": 12,
    "start_time": "2022-07-18T14:32:12.230Z"
   },
   {
    "duration": 7,
    "start_time": "2022-07-18T14:32:12.244Z"
   },
   {
    "duration": 13,
    "start_time": "2022-07-18T14:32:12.253Z"
   },
   {
    "duration": 37,
    "start_time": "2022-07-18T14:32:12.268Z"
   },
   {
    "duration": 3,
    "start_time": "2022-07-18T14:32:12.307Z"
   },
   {
    "duration": 33,
    "start_time": "2022-07-18T14:32:12.312Z"
   },
   {
    "duration": 1083,
    "start_time": "2022-07-18T14:32:12.347Z"
   },
   {
    "duration": 162,
    "start_time": "2022-07-18T14:32:13.432Z"
   },
   {
    "duration": 196,
    "start_time": "2022-07-18T14:32:13.596Z"
   },
   {
    "duration": 163,
    "start_time": "2022-07-18T14:32:13.795Z"
   },
   {
    "duration": 163,
    "start_time": "2022-07-18T14:32:13.959Z"
   },
   {
    "duration": 148,
    "start_time": "2022-07-18T15:29:13.174Z"
   },
   {
    "duration": 1368,
    "start_time": "2022-07-18T18:04:43.506Z"
   },
   {
    "duration": 124,
    "start_time": "2022-07-18T18:04:44.876Z"
   },
   {
    "duration": 478,
    "start_time": "2022-07-18T18:04:50.225Z"
   },
   {
    "duration": 22,
    "start_time": "2022-07-18T18:04:50.705Z"
   },
   {
    "duration": 15,
    "start_time": "2022-07-18T18:04:50.729Z"
   },
   {
    "duration": 9,
    "start_time": "2022-07-18T18:04:50.746Z"
   },
   {
    "duration": 33,
    "start_time": "2022-07-18T18:04:50.756Z"
   },
   {
    "duration": 3,
    "start_time": "2022-07-18T18:04:50.791Z"
   },
   {
    "duration": 32,
    "start_time": "2022-07-18T18:04:50.796Z"
   },
   {
    "duration": 4,
    "start_time": "2022-07-18T18:04:50.830Z"
   },
   {
    "duration": 13,
    "start_time": "2022-07-18T18:04:50.835Z"
   },
   {
    "duration": 5,
    "start_time": "2022-07-18T18:04:50.851Z"
   },
   {
    "duration": 38,
    "start_time": "2022-07-18T18:04:50.858Z"
   },
   {
    "duration": 10,
    "start_time": "2022-07-18T18:04:50.897Z"
   },
   {
    "duration": 5,
    "start_time": "2022-07-18T18:04:50.925Z"
   },
   {
    "duration": 35,
    "start_time": "2022-07-18T18:04:50.932Z"
   },
   {
    "duration": 18,
    "start_time": "2022-07-18T18:04:50.969Z"
   },
   {
    "duration": 11,
    "start_time": "2022-07-18T18:04:50.988Z"
   },
   {
    "duration": 5,
    "start_time": "2022-07-18T18:04:51.001Z"
   },
   {
    "duration": 27,
    "start_time": "2022-07-18T18:04:51.008Z"
   },
   {
    "duration": 11,
    "start_time": "2022-07-18T18:04:51.036Z"
   },
   {
    "duration": 8,
    "start_time": "2022-07-18T18:04:51.049Z"
   },
   {
    "duration": 34,
    "start_time": "2022-07-18T18:04:51.059Z"
   },
   {
    "duration": 775,
    "start_time": "2022-07-18T18:04:51.095Z"
   },
   {
    "duration": 144,
    "start_time": "2022-07-18T18:04:51.872Z"
   },
   {
    "duration": 157,
    "start_time": "2022-07-18T18:04:52.022Z"
   },
   {
    "duration": 125,
    "start_time": "2022-07-18T18:04:52.181Z"
   },
   {
    "duration": 158,
    "start_time": "2022-07-18T18:04:52.308Z"
   },
   {
    "duration": 108,
    "start_time": "2022-07-18T18:05:39.752Z"
   },
   {
    "duration": 6,
    "start_time": "2022-07-18T18:06:10.303Z"
   },
   {
    "duration": 29,
    "start_time": "2022-07-18T18:06:15.118Z"
   },
   {
    "duration": 6,
    "start_time": "2022-07-18T18:06:28.290Z"
   },
   {
    "duration": 138,
    "start_time": "2022-07-18T18:06:29.402Z"
   },
   {
    "duration": 8,
    "start_time": "2022-07-18T18:07:23.217Z"
   },
   {
    "duration": 151,
    "start_time": "2022-07-18T18:07:23.618Z"
   },
   {
    "duration": 32,
    "start_time": "2022-07-18T18:10:23.675Z"
   }
  ],
  "colab": {
   "name": "dpp_template_part2.ipynb",
   "provenance": []
  },
  "kernelspec": {
   "display_name": "Python 3 (ipykernel)",
   "language": "python",
   "name": "python3"
  },
  "language_info": {
   "codemirror_mode": {
    "name": "ipython",
    "version": 3
   },
   "file_extension": ".py",
   "mimetype": "text/x-python",
   "name": "python",
   "nbconvert_exporter": "python",
   "pygments_lexer": "ipython3",
   "version": "3.9.12"
  },
  "toc": {
   "base_numbering": 1,
   "nav_menu": {},
   "number_sections": true,
   "sideBar": true,
   "skip_h1_title": true,
   "title_cell": "Table of Contents",
   "title_sidebar": "Contents",
   "toc_cell": false,
   "toc_position": {},
   "toc_section_display": true,
   "toc_window_display": false
  }
 },
 "nbformat": 4,
 "nbformat_minor": 5
}
